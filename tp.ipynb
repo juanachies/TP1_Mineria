{
 "cells": [
  {
   "cell_type": "code",
   "execution_count": 282,
   "id": "740e7176",
   "metadata": {},
   "outputs": [],
   "source": [
    "import pandas as pd\n",
    "import seaborn as sns\n",
    "import matplotlib.pyplot as plt\n",
    "import matplotlib.colors as mcolors\n",
    "import plotly.express as px\n",
    "import numpy as np\n",
    "import umap\n",
    "\n",
    "# Algoritmos de reducción de dimensionalidad\n",
    "from sklearn.model_selection import train_test_split, KFold, cross_val_score\n",
    "from sklearn.preprocessing import StandardScaler \n",
    "from sklearn import decomposition\n",
    "from sklearn.decomposition import PCA\n",
    "from sklearn.manifold import Isomap, TSNE\n",
    "\n",
    "# Algoritmos clustering\n",
    "from sklearn.cluster import KMeans\n",
    "from sklearn.cluster import AgglomerativeClustering\n",
    "import scipy.cluster.hierarchy as sch\n",
    "from scipy.cluster.hierarchy import dendrogram, linkage\n",
    "\n",
    "from scipy.spatial.distance import cdist"
   ]
  },
  {
   "cell_type": "code",
   "execution_count": 283,
   "id": "058fea83",
   "metadata": {},
   "outputs": [],
   "source": [
    "file_path = 'SmartFarmingCropYield.csv'\n",
    "\n",
    "dataset = pd.read_csv(file_path)"
   ]
  },
  {
   "cell_type": "markdown",
   "id": "0ae1fda4",
   "metadata": {},
   "source": [
    "# Análisis exploratorio de datos (EDA)"
   ]
  },
  {
   "cell_type": "code",
   "execution_count": 284,
   "id": "68b6f759",
   "metadata": {},
   "outputs": [
    {
     "data": {
      "text/html": [
       "<div>\n",
       "<style scoped>\n",
       "    .dataframe tbody tr th:only-of-type {\n",
       "        vertical-align: middle;\n",
       "    }\n",
       "\n",
       "    .dataframe tbody tr th {\n",
       "        vertical-align: top;\n",
       "    }\n",
       "\n",
       "    .dataframe thead th {\n",
       "        text-align: right;\n",
       "    }\n",
       "</style>\n",
       "<table border=\"1\" class=\"dataframe\">\n",
       "  <thead>\n",
       "    <tr style=\"text-align: right;\">\n",
       "      <th></th>\n",
       "      <th>tipoCultivo</th>\n",
       "      <th>humedadSuelo(%)</th>\n",
       "      <th>pHSuelo</th>\n",
       "      <th>temperatura(°C)</th>\n",
       "      <th>precipitacion(mm)</th>\n",
       "      <th>humedad(%)</th>\n",
       "      <th>horasLuzSolar</th>\n",
       "      <th>tipoRiego</th>\n",
       "      <th>tipoFertilizante</th>\n",
       "      <th>mlPesticida</th>\n",
       "      <th>diasTotales</th>\n",
       "      <th>rendimientoKg_hectarea</th>\n",
       "      <th>indiceNDVI</th>\n",
       "      <th>estadoEnfermedadesCultivo</th>\n",
       "    </tr>\n",
       "  </thead>\n",
       "  <tbody>\n",
       "    <tr>\n",
       "      <th>0</th>\n",
       "      <td>Trigo</td>\n",
       "      <td>35.95</td>\n",
       "      <td>5.99</td>\n",
       "      <td>17.79</td>\n",
       "      <td>75.62</td>\n",
       "      <td>77.03</td>\n",
       "      <td>7.27</td>\n",
       "      <td>NaN</td>\n",
       "      <td>Organico</td>\n",
       "      <td>6.34</td>\n",
       "      <td>122</td>\n",
       "      <td>4408.07</td>\n",
       "      <td>0.63</td>\n",
       "      <td>Leve</td>\n",
       "    </tr>\n",
       "    <tr>\n",
       "      <th>1</th>\n",
       "      <td>Soja</td>\n",
       "      <td>19.74</td>\n",
       "      <td>7.24</td>\n",
       "      <td>30.18</td>\n",
       "      <td>89.91</td>\n",
       "      <td>61.13</td>\n",
       "      <td>5.67</td>\n",
       "      <td>Aspersor</td>\n",
       "      <td>Inorganico</td>\n",
       "      <td>9.60</td>\n",
       "      <td>112</td>\n",
       "      <td>5389.98</td>\n",
       "      <td>0.58</td>\n",
       "      <td>NaN</td>\n",
       "    </tr>\n",
       "    <tr>\n",
       "      <th>2</th>\n",
       "      <td>Trigo</td>\n",
       "      <td>29.32</td>\n",
       "      <td>7.16</td>\n",
       "      <td>27.37</td>\n",
       "      <td>265.43</td>\n",
       "      <td>68.87</td>\n",
       "      <td>8.23</td>\n",
       "      <td>Goteo</td>\n",
       "      <td>Mixto</td>\n",
       "      <td>15.26</td>\n",
       "      <td>144</td>\n",
       "      <td>2931.16</td>\n",
       "      <td>0.80</td>\n",
       "      <td>Leve</td>\n",
       "    </tr>\n",
       "    <tr>\n",
       "      <th>3</th>\n",
       "      <td>Maiz</td>\n",
       "      <td>17.33</td>\n",
       "      <td>6.03</td>\n",
       "      <td>33.73</td>\n",
       "      <td>212.01</td>\n",
       "      <td>70.46</td>\n",
       "      <td>5.03</td>\n",
       "      <td>Aspersor</td>\n",
       "      <td>Organico</td>\n",
       "      <td>25.80</td>\n",
       "      <td>134</td>\n",
       "      <td>4227.80</td>\n",
       "      <td>0.44</td>\n",
       "      <td>NaN</td>\n",
       "    </tr>\n",
       "    <tr>\n",
       "      <th>4</th>\n",
       "      <td>Soja</td>\n",
       "      <td>36.28</td>\n",
       "      <td>7.04</td>\n",
       "      <td>21.80</td>\n",
       "      <td>123.38</td>\n",
       "      <td>47.91</td>\n",
       "      <td>4.02</td>\n",
       "      <td>Manual</td>\n",
       "      <td>Mixto</td>\n",
       "      <td>39.29</td>\n",
       "      <td>145</td>\n",
       "      <td>4501.20</td>\n",
       "      <td>0.76</td>\n",
       "      <td>NaN</td>\n",
       "    </tr>\n",
       "    <tr>\n",
       "      <th>...</th>\n",
       "      <td>...</td>\n",
       "      <td>...</td>\n",
       "      <td>...</td>\n",
       "      <td>...</td>\n",
       "      <td>...</td>\n",
       "      <td>...</td>\n",
       "      <td>...</td>\n",
       "      <td>...</td>\n",
       "      <td>...</td>\n",
       "      <td>...</td>\n",
       "      <td>...</td>\n",
       "      <td>...</td>\n",
       "      <td>...</td>\n",
       "      <td>...</td>\n",
       "    </tr>\n",
       "    <tr>\n",
       "      <th>306</th>\n",
       "      <td>Maiz</td>\n",
       "      <td>32.14</td>\n",
       "      <td>7.44</td>\n",
       "      <td>21.49</td>\n",
       "      <td>286.61</td>\n",
       "      <td>84.20</td>\n",
       "      <td>5.58</td>\n",
       "      <td>Aspersor</td>\n",
       "      <td>Inorganico</td>\n",
       "      <td>45.43</td>\n",
       "      <td>93</td>\n",
       "      <td>4503.82</td>\n",
       "      <td>0.88</td>\n",
       "      <td>Leve</td>\n",
       "    </tr>\n",
       "    <tr>\n",
       "      <th>307</th>\n",
       "      <td>Trigo</td>\n",
       "      <td>28.81</td>\n",
       "      <td>7.46</td>\n",
       "      <td>30.56</td>\n",
       "      <td>245.13</td>\n",
       "      <td>45.32</td>\n",
       "      <td>8.47</td>\n",
       "      <td>NaN</td>\n",
       "      <td>Mixto</td>\n",
       "      <td>16.58</td>\n",
       "      <td>128</td>\n",
       "      <td>4203.51</td>\n",
       "      <td>0.65</td>\n",
       "      <td>Severo</td>\n",
       "    </tr>\n",
       "    <tr>\n",
       "      <th>308</th>\n",
       "      <td>Soja</td>\n",
       "      <td>34.22</td>\n",
       "      <td>6.75</td>\n",
       "      <td>17.46</td>\n",
       "      <td>256.23</td>\n",
       "      <td>45.14</td>\n",
       "      <td>5.78</td>\n",
       "      <td>NaN</td>\n",
       "      <td>Organico</td>\n",
       "      <td>5.05</td>\n",
       "      <td>104</td>\n",
       "      <td>3708.54</td>\n",
       "      <td>0.85</td>\n",
       "      <td>Severo</td>\n",
       "    </tr>\n",
       "    <tr>\n",
       "      <th>309</th>\n",
       "      <td>Soja</td>\n",
       "      <td>38.61</td>\n",
       "      <td>6.20</td>\n",
       "      <td>17.08</td>\n",
       "      <td>279.06</td>\n",
       "      <td>73.09</td>\n",
       "      <td>9.60</td>\n",
       "      <td>Goteo</td>\n",
       "      <td>Organico</td>\n",
       "      <td>43.78</td>\n",
       "      <td>131</td>\n",
       "      <td>2586.36</td>\n",
       "      <td>0.77</td>\n",
       "      <td>Severo</td>\n",
       "    </tr>\n",
       "    <tr>\n",
       "      <th>310</th>\n",
       "      <td>Trigo</td>\n",
       "      <td>30.22</td>\n",
       "      <td>7.42</td>\n",
       "      <td>20.57</td>\n",
       "      <td>72.61</td>\n",
       "      <td>89.74</td>\n",
       "      <td>5.09</td>\n",
       "      <td>NaN</td>\n",
       "      <td>Inorganico</td>\n",
       "      <td>19.37</td>\n",
       "      <td>134</td>\n",
       "      <td>5891.40</td>\n",
       "      <td>0.85</td>\n",
       "      <td>Severo</td>\n",
       "    </tr>\n",
       "  </tbody>\n",
       "</table>\n",
       "<p>311 rows × 14 columns</p>\n",
       "</div>"
      ],
      "text/plain": [
       "    tipoCultivo  humedadSuelo(%)  pHSuelo  temperatura(°C)  precipitacion(mm)  \\\n",
       "0         Trigo            35.95     5.99            17.79              75.62   \n",
       "1          Soja            19.74     7.24            30.18              89.91   \n",
       "2         Trigo            29.32     7.16            27.37             265.43   \n",
       "3          Maiz            17.33     6.03            33.73             212.01   \n",
       "4          Soja            36.28     7.04            21.80             123.38   \n",
       "..          ...              ...      ...              ...                ...   \n",
       "306        Maiz            32.14     7.44            21.49             286.61   \n",
       "307       Trigo            28.81     7.46            30.56             245.13   \n",
       "308        Soja            34.22     6.75            17.46             256.23   \n",
       "309        Soja            38.61     6.20            17.08             279.06   \n",
       "310       Trigo            30.22     7.42            20.57              72.61   \n",
       "\n",
       "     humedad(%)  horasLuzSolar tipoRiego tipoFertilizante  mlPesticida  \\\n",
       "0         77.03           7.27       NaN         Organico         6.34   \n",
       "1         61.13           5.67  Aspersor       Inorganico         9.60   \n",
       "2         68.87           8.23     Goteo            Mixto        15.26   \n",
       "3         70.46           5.03  Aspersor         Organico        25.80   \n",
       "4         47.91           4.02    Manual            Mixto        39.29   \n",
       "..          ...            ...       ...              ...          ...   \n",
       "306       84.20           5.58  Aspersor       Inorganico        45.43   \n",
       "307       45.32           8.47       NaN            Mixto        16.58   \n",
       "308       45.14           5.78       NaN         Organico         5.05   \n",
       "309       73.09           9.60     Goteo         Organico        43.78   \n",
       "310       89.74           5.09       NaN       Inorganico        19.37   \n",
       "\n",
       "     diasTotales  rendimientoKg_hectarea  indiceNDVI estadoEnfermedadesCultivo  \n",
       "0            122                 4408.07        0.63                      Leve  \n",
       "1            112                 5389.98        0.58                       NaN  \n",
       "2            144                 2931.16        0.80                      Leve  \n",
       "3            134                 4227.80        0.44                       NaN  \n",
       "4            145                 4501.20        0.76                       NaN  \n",
       "..           ...                     ...         ...                       ...  \n",
       "306           93                 4503.82        0.88                      Leve  \n",
       "307          128                 4203.51        0.65                    Severo  \n",
       "308          104                 3708.54        0.85                    Severo  \n",
       "309          131                 2586.36        0.77                    Severo  \n",
       "310          134                 5891.40        0.85                    Severo  \n",
       "\n",
       "[311 rows x 14 columns]"
      ]
     },
     "execution_count": 284,
     "metadata": {},
     "output_type": "execute_result"
    }
   ],
   "source": [
    "#Creamos copia del dataset original\n",
    "df = dataset.copy()\n",
    "\n",
    "#Renombramos las columnas para que no comiencen con un espacio\n",
    "df.columns = df.columns.str.strip().str.replace(\" \", \"\")\n",
    "\n",
    "df"
   ]
  },
  {
   "cell_type": "code",
   "execution_count": 285,
   "id": "b57d99bc",
   "metadata": {},
   "outputs": [
    {
     "name": "stdout",
     "output_type": "stream",
     "text": [
      "<class 'pandas.core.frame.DataFrame'>\n",
      "RangeIndex: 311 entries, 0 to 310\n",
      "Data columns (total 14 columns):\n",
      " #   Column                     Non-Null Count  Dtype  \n",
      "---  ------                     --------------  -----  \n",
      " 0   tipoCultivo                311 non-null    object \n",
      " 1   humedadSuelo(%)            311 non-null    float64\n",
      " 2   pHSuelo                    311 non-null    float64\n",
      " 3   temperatura(°C)            311 non-null    float64\n",
      " 4   precipitacion(mm)          311 non-null    float64\n",
      " 5   humedad(%)                 311 non-null    float64\n",
      " 6   horasLuzSolar              311 non-null    float64\n",
      " 7   tipoRiego                  220 non-null    object \n",
      " 8   tipoFertilizante           311 non-null    object \n",
      " 9   mlPesticida                311 non-null    float64\n",
      " 10  diasTotales                311 non-null    int64  \n",
      " 11  rendimientoKg_hectarea     311 non-null    float64\n",
      " 12  indiceNDVI                 311 non-null    float64\n",
      " 13  estadoEnfermedadesCultivo  228 non-null    object \n",
      "dtypes: float64(9), int64(1), object(4)\n",
      "memory usage: 34.1+ KB\n"
     ]
    }
   ],
   "source": [
    "df.info()"
   ]
  },
  {
   "cell_type": "markdown",
   "id": "19d97d9b",
   "metadata": {},
   "source": [
    "**Valores faltantes o duplicados**"
   ]
  },
  {
   "cell_type": "code",
   "execution_count": 286,
   "id": "a1c77877",
   "metadata": {},
   "outputs": [
    {
     "data": {
      "text/plain": [
       "np.False_"
      ]
     },
     "execution_count": 286,
     "metadata": {},
     "output_type": "execute_result"
    }
   ],
   "source": [
    "df.duplicated().values.any()\n"
   ]
  },
  {
   "cell_type": "code",
   "execution_count": 287,
   "id": "c9b780de",
   "metadata": {},
   "outputs": [
    {
     "data": {
      "text/plain": [
       "tipoCultivo                   0\n",
       "humedadSuelo(%)               0\n",
       "pHSuelo                       0\n",
       "temperatura(°C)               0\n",
       "precipitacion(mm)             0\n",
       "humedad(%)                    0\n",
       "horasLuzSolar                 0\n",
       "tipoRiego                    91\n",
       "tipoFertilizante              0\n",
       "mlPesticida                   0\n",
       "diasTotales                   0\n",
       "rendimientoKg_hectarea        0\n",
       "indiceNDVI                    0\n",
       "estadoEnfermedadesCultivo    83\n",
       "dtype: int64"
      ]
     },
     "execution_count": 287,
     "metadata": {},
     "output_type": "execute_result"
    }
   ],
   "source": [
    "df.isna().sum()"
   ]
  },
  {
   "cell_type": "code",
   "execution_count": 288,
   "id": "c4672800",
   "metadata": {},
   "outputs": [
    {
     "data": {
      "text/html": [
       "<div>\n",
       "<style scoped>\n",
       "    .dataframe tbody tr th:only-of-type {\n",
       "        vertical-align: middle;\n",
       "    }\n",
       "\n",
       "    .dataframe tbody tr th {\n",
       "        vertical-align: top;\n",
       "    }\n",
       "\n",
       "    .dataframe thead th {\n",
       "        text-align: right;\n",
       "    }\n",
       "</style>\n",
       "<table border=\"1\" class=\"dataframe\">\n",
       "  <thead>\n",
       "    <tr style=\"text-align: right;\">\n",
       "      <th></th>\n",
       "      <th>tipoCultivo</th>\n",
       "      <th>humedadSuelo(%)</th>\n",
       "      <th>pHSuelo</th>\n",
       "      <th>temperatura(°C)</th>\n",
       "      <th>precipitacion(mm)</th>\n",
       "      <th>humedad(%)</th>\n",
       "      <th>horasLuzSolar</th>\n",
       "      <th>tipoRiego</th>\n",
       "      <th>tipoFertilizante</th>\n",
       "      <th>mlPesticida</th>\n",
       "      <th>diasTotales</th>\n",
       "      <th>rendimientoKg_hectarea</th>\n",
       "      <th>indiceNDVI</th>\n",
       "      <th>estadoEnfermedadesCultivo</th>\n",
       "    </tr>\n",
       "  </thead>\n",
       "  <tbody>\n",
       "    <tr>\n",
       "      <th>0</th>\n",
       "      <td>Trigo</td>\n",
       "      <td>35.95</td>\n",
       "      <td>5.99</td>\n",
       "      <td>17.79</td>\n",
       "      <td>75.62</td>\n",
       "      <td>77.03</td>\n",
       "      <td>7.27</td>\n",
       "      <td>NaN</td>\n",
       "      <td>Organico</td>\n",
       "      <td>6.34</td>\n",
       "      <td>122</td>\n",
       "      <td>4408.07</td>\n",
       "      <td>0.63</td>\n",
       "      <td>Leve</td>\n",
       "    </tr>\n",
       "    <tr>\n",
       "      <th>1</th>\n",
       "      <td>Soja</td>\n",
       "      <td>19.74</td>\n",
       "      <td>7.24</td>\n",
       "      <td>30.18</td>\n",
       "      <td>89.91</td>\n",
       "      <td>61.13</td>\n",
       "      <td>5.67</td>\n",
       "      <td>Aspersor</td>\n",
       "      <td>Inorganico</td>\n",
       "      <td>9.60</td>\n",
       "      <td>112</td>\n",
       "      <td>5389.98</td>\n",
       "      <td>0.58</td>\n",
       "      <td>NaN</td>\n",
       "    </tr>\n",
       "    <tr>\n",
       "      <th>3</th>\n",
       "      <td>Maiz</td>\n",
       "      <td>17.33</td>\n",
       "      <td>6.03</td>\n",
       "      <td>33.73</td>\n",
       "      <td>212.01</td>\n",
       "      <td>70.46</td>\n",
       "      <td>5.03</td>\n",
       "      <td>Aspersor</td>\n",
       "      <td>Organico</td>\n",
       "      <td>25.80</td>\n",
       "      <td>134</td>\n",
       "      <td>4227.80</td>\n",
       "      <td>0.44</td>\n",
       "      <td>NaN</td>\n",
       "    </tr>\n",
       "    <tr>\n",
       "      <th>4</th>\n",
       "      <td>Soja</td>\n",
       "      <td>36.28</td>\n",
       "      <td>7.04</td>\n",
       "      <td>21.80</td>\n",
       "      <td>123.38</td>\n",
       "      <td>47.91</td>\n",
       "      <td>4.02</td>\n",
       "      <td>Manual</td>\n",
       "      <td>Mixto</td>\n",
       "      <td>39.29</td>\n",
       "      <td>145</td>\n",
       "      <td>4501.20</td>\n",
       "      <td>0.76</td>\n",
       "      <td>NaN</td>\n",
       "    </tr>\n",
       "    <tr>\n",
       "      <th>8</th>\n",
       "      <td>Maiz</td>\n",
       "      <td>42.43</td>\n",
       "      <td>7.07</td>\n",
       "      <td>20.70</td>\n",
       "      <td>224.15</td>\n",
       "      <td>76.53</td>\n",
       "      <td>8.70</td>\n",
       "      <td>NaN</td>\n",
       "      <td>Organico</td>\n",
       "      <td>13.55</td>\n",
       "      <td>127</td>\n",
       "      <td>4942.95</td>\n",
       "      <td>0.65</td>\n",
       "      <td>Leve</td>\n",
       "    </tr>\n",
       "    <tr>\n",
       "      <th>...</th>\n",
       "      <td>...</td>\n",
       "      <td>...</td>\n",
       "      <td>...</td>\n",
       "      <td>...</td>\n",
       "      <td>...</td>\n",
       "      <td>...</td>\n",
       "      <td>...</td>\n",
       "      <td>...</td>\n",
       "      <td>...</td>\n",
       "      <td>...</td>\n",
       "      <td>...</td>\n",
       "      <td>...</td>\n",
       "      <td>...</td>\n",
       "      <td>...</td>\n",
       "    </tr>\n",
       "    <tr>\n",
       "      <th>304</th>\n",
       "      <td>Soja</td>\n",
       "      <td>40.46</td>\n",
       "      <td>7.44</td>\n",
       "      <td>18.31</td>\n",
       "      <td>237.68</td>\n",
       "      <td>59.21</td>\n",
       "      <td>8.68</td>\n",
       "      <td>NaN</td>\n",
       "      <td>Mixto</td>\n",
       "      <td>17.22</td>\n",
       "      <td>100</td>\n",
       "      <td>4287.59</td>\n",
       "      <td>0.77</td>\n",
       "      <td>Severo</td>\n",
       "    </tr>\n",
       "    <tr>\n",
       "      <th>305</th>\n",
       "      <td>Soja</td>\n",
       "      <td>19.06</td>\n",
       "      <td>7.20</td>\n",
       "      <td>20.93</td>\n",
       "      <td>117.13</td>\n",
       "      <td>45.96</td>\n",
       "      <td>5.34</td>\n",
       "      <td>Aspersor</td>\n",
       "      <td>Inorganico</td>\n",
       "      <td>6.76</td>\n",
       "      <td>149</td>\n",
       "      <td>2531.89</td>\n",
       "      <td>0.79</td>\n",
       "      <td>NaN</td>\n",
       "    </tr>\n",
       "    <tr>\n",
       "      <th>307</th>\n",
       "      <td>Trigo</td>\n",
       "      <td>28.81</td>\n",
       "      <td>7.46</td>\n",
       "      <td>30.56</td>\n",
       "      <td>245.13</td>\n",
       "      <td>45.32</td>\n",
       "      <td>8.47</td>\n",
       "      <td>NaN</td>\n",
       "      <td>Mixto</td>\n",
       "      <td>16.58</td>\n",
       "      <td>128</td>\n",
       "      <td>4203.51</td>\n",
       "      <td>0.65</td>\n",
       "      <td>Severo</td>\n",
       "    </tr>\n",
       "    <tr>\n",
       "      <th>308</th>\n",
       "      <td>Soja</td>\n",
       "      <td>34.22</td>\n",
       "      <td>6.75</td>\n",
       "      <td>17.46</td>\n",
       "      <td>256.23</td>\n",
       "      <td>45.14</td>\n",
       "      <td>5.78</td>\n",
       "      <td>NaN</td>\n",
       "      <td>Organico</td>\n",
       "      <td>5.05</td>\n",
       "      <td>104</td>\n",
       "      <td>3708.54</td>\n",
       "      <td>0.85</td>\n",
       "      <td>Severo</td>\n",
       "    </tr>\n",
       "    <tr>\n",
       "      <th>310</th>\n",
       "      <td>Trigo</td>\n",
       "      <td>30.22</td>\n",
       "      <td>7.42</td>\n",
       "      <td>20.57</td>\n",
       "      <td>72.61</td>\n",
       "      <td>89.74</td>\n",
       "      <td>5.09</td>\n",
       "      <td>NaN</td>\n",
       "      <td>Inorganico</td>\n",
       "      <td>19.37</td>\n",
       "      <td>134</td>\n",
       "      <td>5891.40</td>\n",
       "      <td>0.85</td>\n",
       "      <td>Severo</td>\n",
       "    </tr>\n",
       "  </tbody>\n",
       "</table>\n",
       "<p>148 rows × 14 columns</p>\n",
       "</div>"
      ],
      "text/plain": [
       "    tipoCultivo  humedadSuelo(%)  pHSuelo  temperatura(°C)  precipitacion(mm)  \\\n",
       "0         Trigo            35.95     5.99            17.79              75.62   \n",
       "1          Soja            19.74     7.24            30.18              89.91   \n",
       "3          Maiz            17.33     6.03            33.73             212.01   \n",
       "4          Soja            36.28     7.04            21.80             123.38   \n",
       "8          Maiz            42.43     7.07            20.70             224.15   \n",
       "..          ...              ...      ...              ...                ...   \n",
       "304        Soja            40.46     7.44            18.31             237.68   \n",
       "305        Soja            19.06     7.20            20.93             117.13   \n",
       "307       Trigo            28.81     7.46            30.56             245.13   \n",
       "308        Soja            34.22     6.75            17.46             256.23   \n",
       "310       Trigo            30.22     7.42            20.57              72.61   \n",
       "\n",
       "     humedad(%)  horasLuzSolar tipoRiego tipoFertilizante  mlPesticida  \\\n",
       "0         77.03           7.27       NaN         Organico         6.34   \n",
       "1         61.13           5.67  Aspersor       Inorganico         9.60   \n",
       "3         70.46           5.03  Aspersor         Organico        25.80   \n",
       "4         47.91           4.02    Manual            Mixto        39.29   \n",
       "8         76.53           8.70       NaN         Organico        13.55   \n",
       "..          ...            ...       ...              ...          ...   \n",
       "304       59.21           8.68       NaN            Mixto        17.22   \n",
       "305       45.96           5.34  Aspersor       Inorganico         6.76   \n",
       "307       45.32           8.47       NaN            Mixto        16.58   \n",
       "308       45.14           5.78       NaN         Organico         5.05   \n",
       "310       89.74           5.09       NaN       Inorganico        19.37   \n",
       "\n",
       "     diasTotales  rendimientoKg_hectarea  indiceNDVI estadoEnfermedadesCultivo  \n",
       "0            122                 4408.07        0.63                      Leve  \n",
       "1            112                 5389.98        0.58                       NaN  \n",
       "3            134                 4227.80        0.44                       NaN  \n",
       "4            145                 4501.20        0.76                       NaN  \n",
       "8            127                 4942.95        0.65                      Leve  \n",
       "..           ...                     ...         ...                       ...  \n",
       "304          100                 4287.59        0.77                    Severo  \n",
       "305          149                 2531.89        0.79                       NaN  \n",
       "307          128                 4203.51        0.65                    Severo  \n",
       "308          104                 3708.54        0.85                    Severo  \n",
       "310          134                 5891.40        0.85                    Severo  \n",
       "\n",
       "[148 rows x 14 columns]"
      ]
     },
     "execution_count": 288,
     "metadata": {},
     "output_type": "execute_result"
    }
   ],
   "source": [
    "df[df.isna().any(axis=1)]"
   ]
  },
  {
   "cell_type": "code",
   "execution_count": 289,
   "id": "852de2d8",
   "metadata": {},
   "outputs": [
    {
     "data": {
      "text/html": [
       "<div>\n",
       "<style scoped>\n",
       "    .dataframe tbody tr th:only-of-type {\n",
       "        vertical-align: middle;\n",
       "    }\n",
       "\n",
       "    .dataframe tbody tr th {\n",
       "        vertical-align: top;\n",
       "    }\n",
       "\n",
       "    .dataframe thead th {\n",
       "        text-align: right;\n",
       "    }\n",
       "</style>\n",
       "<table border=\"1\" class=\"dataframe\">\n",
       "  <thead>\n",
       "    <tr style=\"text-align: right;\">\n",
       "      <th></th>\n",
       "      <th>tipoCultivo</th>\n",
       "      <th>humedadSuelo(%)</th>\n",
       "      <th>pHSuelo</th>\n",
       "      <th>temperatura(°C)</th>\n",
       "      <th>precipitacion(mm)</th>\n",
       "      <th>humedad(%)</th>\n",
       "      <th>horasLuzSolar</th>\n",
       "      <th>tipoRiego</th>\n",
       "      <th>tipoFertilizante</th>\n",
       "      <th>mlPesticida</th>\n",
       "      <th>diasTotales</th>\n",
       "      <th>rendimientoKg_hectarea</th>\n",
       "      <th>indiceNDVI</th>\n",
       "      <th>estadoEnfermedadesCultivo</th>\n",
       "    </tr>\n",
       "  </thead>\n",
       "  <tbody>\n",
       "    <tr>\n",
       "      <th>0</th>\n",
       "      <td>Trigo</td>\n",
       "      <td>29.32</td>\n",
       "      <td>7.16</td>\n",
       "      <td>27.37</td>\n",
       "      <td>265.43</td>\n",
       "      <td>68.87</td>\n",
       "      <td>8.23</td>\n",
       "      <td>Goteo</td>\n",
       "      <td>Mixto</td>\n",
       "      <td>15.26</td>\n",
       "      <td>144</td>\n",
       "      <td>2931.16</td>\n",
       "      <td>0.80</td>\n",
       "      <td>Leve</td>\n",
       "    </tr>\n",
       "    <tr>\n",
       "      <th>1</th>\n",
       "      <td>Maiz</td>\n",
       "      <td>27.10</td>\n",
       "      <td>5.72</td>\n",
       "      <td>22.26</td>\n",
       "      <td>296.33</td>\n",
       "      <td>80.34</td>\n",
       "      <td>5.44</td>\n",
       "      <td>Aspersor</td>\n",
       "      <td>Mixto</td>\n",
       "      <td>47.61</td>\n",
       "      <td>121</td>\n",
       "      <td>5264.09</td>\n",
       "      <td>0.70</td>\n",
       "      <td>Leve</td>\n",
       "    </tr>\n",
       "    <tr>\n",
       "      <th>2</th>\n",
       "      <td>Soja</td>\n",
       "      <td>40.54</td>\n",
       "      <td>6.35</td>\n",
       "      <td>19.24</td>\n",
       "      <td>184.82</td>\n",
       "      <td>76.50</td>\n",
       "      <td>5.21</td>\n",
       "      <td>Manual</td>\n",
       "      <td>Inorganico</td>\n",
       "      <td>49.78</td>\n",
       "      <td>118</td>\n",
       "      <td>5598.46</td>\n",
       "      <td>0.50</td>\n",
       "      <td>Leve</td>\n",
       "    </tr>\n",
       "    <tr>\n",
       "      <th>3</th>\n",
       "      <td>Trigo</td>\n",
       "      <td>13.39</td>\n",
       "      <td>6.36</td>\n",
       "      <td>23.47</td>\n",
       "      <td>166.76</td>\n",
       "      <td>76.45</td>\n",
       "      <td>8.04</td>\n",
       "      <td>Goteo</td>\n",
       "      <td>Organico</td>\n",
       "      <td>23.12</td>\n",
       "      <td>145</td>\n",
       "      <td>2437.08</td>\n",
       "      <td>0.55</td>\n",
       "      <td>Moderate</td>\n",
       "    </tr>\n",
       "    <tr>\n",
       "      <th>4</th>\n",
       "      <td>Soja</td>\n",
       "      <td>12.80</td>\n",
       "      <td>5.87</td>\n",
       "      <td>26.90</td>\n",
       "      <td>218.80</td>\n",
       "      <td>51.76</td>\n",
       "      <td>4.72</td>\n",
       "      <td>Aspersor</td>\n",
       "      <td>Mixto</td>\n",
       "      <td>31.75</td>\n",
       "      <td>116</td>\n",
       "      <td>4629.49</td>\n",
       "      <td>0.42</td>\n",
       "      <td>Moderate</td>\n",
       "    </tr>\n",
       "    <tr>\n",
       "      <th>...</th>\n",
       "      <td>...</td>\n",
       "      <td>...</td>\n",
       "      <td>...</td>\n",
       "      <td>...</td>\n",
       "      <td>...</td>\n",
       "      <td>...</td>\n",
       "      <td>...</td>\n",
       "      <td>...</td>\n",
       "      <td>...</td>\n",
       "      <td>...</td>\n",
       "      <td>...</td>\n",
       "      <td>...</td>\n",
       "      <td>...</td>\n",
       "      <td>...</td>\n",
       "    </tr>\n",
       "    <tr>\n",
       "      <th>158</th>\n",
       "      <td>Maiz</td>\n",
       "      <td>29.30</td>\n",
       "      <td>6.71</td>\n",
       "      <td>32.93</td>\n",
       "      <td>92.69</td>\n",
       "      <td>87.33</td>\n",
       "      <td>6.34</td>\n",
       "      <td>Manual</td>\n",
       "      <td>Mixto</td>\n",
       "      <td>35.50</td>\n",
       "      <td>128</td>\n",
       "      <td>5528.08</td>\n",
       "      <td>0.31</td>\n",
       "      <td>Leve</td>\n",
       "    </tr>\n",
       "    <tr>\n",
       "      <th>159</th>\n",
       "      <td>Maiz</td>\n",
       "      <td>26.91</td>\n",
       "      <td>6.03</td>\n",
       "      <td>15.04</td>\n",
       "      <td>207.79</td>\n",
       "      <td>59.68</td>\n",
       "      <td>9.54</td>\n",
       "      <td>Goteo</td>\n",
       "      <td>Inorganico</td>\n",
       "      <td>45.16</td>\n",
       "      <td>112</td>\n",
       "      <td>2023.56</td>\n",
       "      <td>0.30</td>\n",
       "      <td>Leve</td>\n",
       "    </tr>\n",
       "    <tr>\n",
       "      <th>160</th>\n",
       "      <td>Trigo</td>\n",
       "      <td>31.58</td>\n",
       "      <td>5.68</td>\n",
       "      <td>16.02</td>\n",
       "      <td>151.82</td>\n",
       "      <td>55.32</td>\n",
       "      <td>7.80</td>\n",
       "      <td>Aspersor</td>\n",
       "      <td>Organico</td>\n",
       "      <td>20.13</td>\n",
       "      <td>122</td>\n",
       "      <td>3708.29</td>\n",
       "      <td>0.47</td>\n",
       "      <td>Moderate</td>\n",
       "    </tr>\n",
       "    <tr>\n",
       "      <th>161</th>\n",
       "      <td>Maiz</td>\n",
       "      <td>32.14</td>\n",
       "      <td>7.44</td>\n",
       "      <td>21.49</td>\n",
       "      <td>286.61</td>\n",
       "      <td>84.20</td>\n",
       "      <td>5.58</td>\n",
       "      <td>Aspersor</td>\n",
       "      <td>Inorganico</td>\n",
       "      <td>45.43</td>\n",
       "      <td>93</td>\n",
       "      <td>4503.82</td>\n",
       "      <td>0.88</td>\n",
       "      <td>Leve</td>\n",
       "    </tr>\n",
       "    <tr>\n",
       "      <th>162</th>\n",
       "      <td>Soja</td>\n",
       "      <td>38.61</td>\n",
       "      <td>6.20</td>\n",
       "      <td>17.08</td>\n",
       "      <td>279.06</td>\n",
       "      <td>73.09</td>\n",
       "      <td>9.60</td>\n",
       "      <td>Goteo</td>\n",
       "      <td>Organico</td>\n",
       "      <td>43.78</td>\n",
       "      <td>131</td>\n",
       "      <td>2586.36</td>\n",
       "      <td>0.77</td>\n",
       "      <td>Severo</td>\n",
       "    </tr>\n",
       "  </tbody>\n",
       "</table>\n",
       "<p>163 rows × 14 columns</p>\n",
       "</div>"
      ],
      "text/plain": [
       "    tipoCultivo  humedadSuelo(%)  pHSuelo  temperatura(°C)  precipitacion(mm)  \\\n",
       "0         Trigo            29.32     7.16            27.37             265.43   \n",
       "1          Maiz            27.10     5.72            22.26             296.33   \n",
       "2          Soja            40.54     6.35            19.24             184.82   \n",
       "3         Trigo            13.39     6.36            23.47             166.76   \n",
       "4          Soja            12.80     5.87            26.90             218.80   \n",
       "..          ...              ...      ...              ...                ...   \n",
       "158        Maiz            29.30     6.71            32.93              92.69   \n",
       "159        Maiz            26.91     6.03            15.04             207.79   \n",
       "160       Trigo            31.58     5.68            16.02             151.82   \n",
       "161        Maiz            32.14     7.44            21.49             286.61   \n",
       "162        Soja            38.61     6.20            17.08             279.06   \n",
       "\n",
       "     humedad(%)  horasLuzSolar tipoRiego tipoFertilizante  mlPesticida  \\\n",
       "0         68.87           8.23     Goteo            Mixto        15.26   \n",
       "1         80.34           5.44  Aspersor            Mixto        47.61   \n",
       "2         76.50           5.21    Manual       Inorganico        49.78   \n",
       "3         76.45           8.04     Goteo         Organico        23.12   \n",
       "4         51.76           4.72  Aspersor            Mixto        31.75   \n",
       "..          ...            ...       ...              ...          ...   \n",
       "158       87.33           6.34    Manual            Mixto        35.50   \n",
       "159       59.68           9.54     Goteo       Inorganico        45.16   \n",
       "160       55.32           7.80  Aspersor         Organico        20.13   \n",
       "161       84.20           5.58  Aspersor       Inorganico        45.43   \n",
       "162       73.09           9.60     Goteo         Organico        43.78   \n",
       "\n",
       "     diasTotales  rendimientoKg_hectarea  indiceNDVI estadoEnfermedadesCultivo  \n",
       "0            144                 2931.16        0.80                      Leve  \n",
       "1            121                 5264.09        0.70                      Leve  \n",
       "2            118                 5598.46        0.50                      Leve  \n",
       "3            145                 2437.08        0.55                  Moderate  \n",
       "4            116                 4629.49        0.42                  Moderate  \n",
       "..           ...                     ...         ...                       ...  \n",
       "158          128                 5528.08        0.31                      Leve  \n",
       "159          112                 2023.56        0.30                      Leve  \n",
       "160          122                 3708.29        0.47                  Moderate  \n",
       "161           93                 4503.82        0.88                      Leve  \n",
       "162          131                 2586.36        0.77                    Severo  \n",
       "\n",
       "[163 rows x 14 columns]"
      ]
     },
     "execution_count": 289,
     "metadata": {},
     "output_type": "execute_result"
    }
   ],
   "source": [
    "df.dropna(inplace=True)\n",
    "df.reset_index(drop=True, inplace=True)\n",
    "df"
   ]
  },
  {
   "cell_type": "markdown",
   "id": "7b60ea99",
   "metadata": {},
   "source": [
    "**Distrubuciones de las variables**"
   ]
  },
  {
   "cell_type": "code",
   "execution_count": 290,
   "id": "d7d6a650",
   "metadata": {},
   "outputs": [],
   "source": [
    "#Selección de columnas númericas\n",
    "cols = ['humedadSuelo(%)', 'pHSuelo', 'temperatura(°C)','precipitacion(mm)', 'humedad(%)', 'horasLuzSolar', \n",
    "'mlPesticida', 'diasTotales', 'rendimientoKg_hectarea', 'indiceNDVI']"
   ]
  },
  {
   "cell_type": "code",
   "execution_count": 291,
   "id": "6b0f8480",
   "metadata": {},
   "outputs": [
    {
     "data": {
      "image/png": "[encoded data removed]",
      "text/plain": [
       "<Figure size 1200x1800 with 10 Axes>"
      ]
     },
     "metadata": {},
     "output_type": "display_data"
    }
   ],
   "source": [
    "# Definimos el layout → 5 filas x 2 columnas = 10 subplots\n",
    "fig, axes = plt.subplots(nrows=5, ncols=2, figsize=(12, 18))\n",
    "\n",
    "# Aplanamos la grilla de ejes\n",
    "axes = axes.flatten()\n",
    "\n",
    "# Iteramos\n",
    "for i, col in enumerate(cols):\n",
    "    sns.boxplot(y=df[col], ax=axes[i])\n",
    "    axes[i].set_title(col)\n",
    "\n",
    "# Ajustamos diseño\n",
    "plt.tight_layout()\n",
    "plt.show()"
   ]
  },
  {
   "cell_type": "code",
   "execution_count": 292,
   "id": "d285f3ef",
   "metadata": {},
   "outputs": [
    {
     "data": {
      "image/png": "[encoded data removed]",
      "text/plain": [
       "<Figure size 1000x500 with 2 Axes>"
      ]
     },
     "metadata": {},
     "output_type": "display_data"
    }
   ],
   "source": [
    "#Selección de columnas númericas\n",
    "columnas_numericas = ['humedadSuelo(%)', 'pHSuelo', 'temperatura(°C)','precipitacion(mm)', 'humedad(%)', 'horasLuzSolar', \n",
    "'mlPesticida', 'rendimientoKg_hectarea', 'indiceNDVI']\n",
    "\n",
    "plt.figure(figsize=(10,5))\n",
    "sns.heatmap(df[cols].corr(), vmin=-1, vmax=1, annot=True)\n",
    "plt.title('Correlación entre variables del dataset')\n",
    "plt.show()"
   ]
  },
  {
   "cell_type": "markdown",
   "id": "41b025c2",
   "metadata": {},
   "source": [
    "**Codificación de variables catgorícas**"
   ]
  },
  {
   "cell_type": "code",
   "execution_count": 293,
   "id": "198cfebf",
   "metadata": {},
   "outputs": [
    {
     "name": "stdout",
     "output_type": "stream",
     "text": [
      "<class 'pandas.core.frame.DataFrame'>\n",
      "RangeIndex: 163 entries, 0 to 162\n",
      "Data columns (total 14 columns):\n",
      " #   Column                     Non-Null Count  Dtype  \n",
      "---  ------                     --------------  -----  \n",
      " 0   tipoCultivo                163 non-null    object \n",
      " 1   humedadSuelo(%)            163 non-null    float64\n",
      " 2   pHSuelo                    163 non-null    float64\n",
      " 3   temperatura(°C)            163 non-null    float64\n",
      " 4   precipitacion(mm)          163 non-null    float64\n",
      " 5   humedad(%)                 163 non-null    float64\n",
      " 6   horasLuzSolar              163 non-null    float64\n",
      " 7   tipoRiego                  163 non-null    object \n",
      " 8   tipoFertilizante           163 non-null    object \n",
      " 9   mlPesticida                163 non-null    float64\n",
      " 10  diasTotales                163 non-null    int64  \n",
      " 11  rendimientoKg_hectarea     163 non-null    float64\n",
      " 12  indiceNDVI                 163 non-null    float64\n",
      " 13  estadoEnfermedadesCultivo  163 non-null    object \n",
      "dtypes: float64(9), int64(1), object(4)\n",
      "memory usage: 18.0+ KB\n"
     ]
    }
   ],
   "source": [
    "df.info()"
   ]
  },
  {
   "cell_type": "code",
   "execution_count": 294,
   "id": "e5124743",
   "metadata": {},
   "outputs": [
    {
     "data": {
      "text/html": [
       "<div>\n",
       "<style scoped>\n",
       "    .dataframe tbody tr th:only-of-type {\n",
       "        vertical-align: middle;\n",
       "    }\n",
       "\n",
       "    .dataframe tbody tr th {\n",
       "        vertical-align: top;\n",
       "    }\n",
       "\n",
       "    .dataframe thead th {\n",
       "        text-align: right;\n",
       "    }\n",
       "</style>\n",
       "<table border=\"1\" class=\"dataframe\">\n",
       "  <thead>\n",
       "    <tr style=\"text-align: right;\">\n",
       "      <th></th>\n",
       "      <th>tipoCultivo</th>\n",
       "      <th>humedadSuelo(%)</th>\n",
       "      <th>pHSuelo</th>\n",
       "      <th>temperatura(°C)</th>\n",
       "      <th>precipitacion(mm)</th>\n",
       "      <th>humedad(%)</th>\n",
       "      <th>horasLuzSolar</th>\n",
       "      <th>mlPesticida</th>\n",
       "      <th>diasTotales</th>\n",
       "      <th>rendimientoKg_hectarea</th>\n",
       "      <th>indiceNDVI</th>\n",
       "      <th>tipoRiego_Goteo</th>\n",
       "      <th>tipoRiego_Manual</th>\n",
       "      <th>tipoFertilizante_Mixto</th>\n",
       "      <th>tipoFertilizante_Organico</th>\n",
       "      <th>estadoEnfermedadesCultivo_Moderate</th>\n",
       "      <th>estadoEnfermedadesCultivo_Severo</th>\n",
       "    </tr>\n",
       "  </thead>\n",
       "  <tbody>\n",
       "    <tr>\n",
       "      <th>0</th>\n",
       "      <td>Trigo</td>\n",
       "      <td>29.32</td>\n",
       "      <td>7.16</td>\n",
       "      <td>27.37</td>\n",
       "      <td>265.43</td>\n",
       "      <td>68.87</td>\n",
       "      <td>8.23</td>\n",
       "      <td>15.26</td>\n",
       "      <td>144</td>\n",
       "      <td>2931.16</td>\n",
       "      <td>0.80</td>\n",
       "      <td>True</td>\n",
       "      <td>False</td>\n",
       "      <td>True</td>\n",
       "      <td>False</td>\n",
       "      <td>False</td>\n",
       "      <td>False</td>\n",
       "    </tr>\n",
       "    <tr>\n",
       "      <th>1</th>\n",
       "      <td>Maiz</td>\n",
       "      <td>27.10</td>\n",
       "      <td>5.72</td>\n",
       "      <td>22.26</td>\n",
       "      <td>296.33</td>\n",
       "      <td>80.34</td>\n",
       "      <td>5.44</td>\n",
       "      <td>47.61</td>\n",
       "      <td>121</td>\n",
       "      <td>5264.09</td>\n",
       "      <td>0.70</td>\n",
       "      <td>False</td>\n",
       "      <td>False</td>\n",
       "      <td>True</td>\n",
       "      <td>False</td>\n",
       "      <td>False</td>\n",
       "      <td>False</td>\n",
       "    </tr>\n",
       "    <tr>\n",
       "      <th>2</th>\n",
       "      <td>Soja</td>\n",
       "      <td>40.54</td>\n",
       "      <td>6.35</td>\n",
       "      <td>19.24</td>\n",
       "      <td>184.82</td>\n",
       "      <td>76.50</td>\n",
       "      <td>5.21</td>\n",
       "      <td>49.78</td>\n",
       "      <td>118</td>\n",
       "      <td>5598.46</td>\n",
       "      <td>0.50</td>\n",
       "      <td>False</td>\n",
       "      <td>True</td>\n",
       "      <td>False</td>\n",
       "      <td>False</td>\n",
       "      <td>False</td>\n",
       "      <td>False</td>\n",
       "    </tr>\n",
       "    <tr>\n",
       "      <th>3</th>\n",
       "      <td>Trigo</td>\n",
       "      <td>13.39</td>\n",
       "      <td>6.36</td>\n",
       "      <td>23.47</td>\n",
       "      <td>166.76</td>\n",
       "      <td>76.45</td>\n",
       "      <td>8.04</td>\n",
       "      <td>23.12</td>\n",
       "      <td>145</td>\n",
       "      <td>2437.08</td>\n",
       "      <td>0.55</td>\n",
       "      <td>True</td>\n",
       "      <td>False</td>\n",
       "      <td>False</td>\n",
       "      <td>True</td>\n",
       "      <td>True</td>\n",
       "      <td>False</td>\n",
       "    </tr>\n",
       "    <tr>\n",
       "      <th>4</th>\n",
       "      <td>Soja</td>\n",
       "      <td>12.80</td>\n",
       "      <td>5.87</td>\n",
       "      <td>26.90</td>\n",
       "      <td>218.80</td>\n",
       "      <td>51.76</td>\n",
       "      <td>4.72</td>\n",
       "      <td>31.75</td>\n",
       "      <td>116</td>\n",
       "      <td>4629.49</td>\n",
       "      <td>0.42</td>\n",
       "      <td>False</td>\n",
       "      <td>False</td>\n",
       "      <td>True</td>\n",
       "      <td>False</td>\n",
       "      <td>True</td>\n",
       "      <td>False</td>\n",
       "    </tr>\n",
       "    <tr>\n",
       "      <th>...</th>\n",
       "      <td>...</td>\n",
       "      <td>...</td>\n",
       "      <td>...</td>\n",
       "      <td>...</td>\n",
       "      <td>...</td>\n",
       "      <td>...</td>\n",
       "      <td>...</td>\n",
       "      <td>...</td>\n",
       "      <td>...</td>\n",
       "      <td>...</td>\n",
       "      <td>...</td>\n",
       "      <td>...</td>\n",
       "      <td>...</td>\n",
       "      <td>...</td>\n",
       "      <td>...</td>\n",
       "      <td>...</td>\n",
       "      <td>...</td>\n",
       "    </tr>\n",
       "    <tr>\n",
       "      <th>158</th>\n",
       "      <td>Maiz</td>\n",
       "      <td>29.30</td>\n",
       "      <td>6.71</td>\n",
       "      <td>32.93</td>\n",
       "      <td>92.69</td>\n",
       "      <td>87.33</td>\n",
       "      <td>6.34</td>\n",
       "      <td>35.50</td>\n",
       "      <td>128</td>\n",
       "      <td>5528.08</td>\n",
       "      <td>0.31</td>\n",
       "      <td>False</td>\n",
       "      <td>True</td>\n",
       "      <td>True</td>\n",
       "      <td>False</td>\n",
       "      <td>False</td>\n",
       "      <td>False</td>\n",
       "    </tr>\n",
       "    <tr>\n",
       "      <th>159</th>\n",
       "      <td>Maiz</td>\n",
       "      <td>26.91</td>\n",
       "      <td>6.03</td>\n",
       "      <td>15.04</td>\n",
       "      <td>207.79</td>\n",
       "      <td>59.68</td>\n",
       "      <td>9.54</td>\n",
       "      <td>45.16</td>\n",
       "      <td>112</td>\n",
       "      <td>2023.56</td>\n",
       "      <td>0.30</td>\n",
       "      <td>True</td>\n",
       "      <td>False</td>\n",
       "      <td>False</td>\n",
       "      <td>False</td>\n",
       "      <td>False</td>\n",
       "      <td>False</td>\n",
       "    </tr>\n",
       "    <tr>\n",
       "      <th>160</th>\n",
       "      <td>Trigo</td>\n",
       "      <td>31.58</td>\n",
       "      <td>5.68</td>\n",
       "      <td>16.02</td>\n",
       "      <td>151.82</td>\n",
       "      <td>55.32</td>\n",
       "      <td>7.80</td>\n",
       "      <td>20.13</td>\n",
       "      <td>122</td>\n",
       "      <td>3708.29</td>\n",
       "      <td>0.47</td>\n",
       "      <td>False</td>\n",
       "      <td>False</td>\n",
       "      <td>False</td>\n",
       "      <td>True</td>\n",
       "      <td>True</td>\n",
       "      <td>False</td>\n",
       "    </tr>\n",
       "    <tr>\n",
       "      <th>161</th>\n",
       "      <td>Maiz</td>\n",
       "      <td>32.14</td>\n",
       "      <td>7.44</td>\n",
       "      <td>21.49</td>\n",
       "      <td>286.61</td>\n",
       "      <td>84.20</td>\n",
       "      <td>5.58</td>\n",
       "      <td>45.43</td>\n",
       "      <td>93</td>\n",
       "      <td>4503.82</td>\n",
       "      <td>0.88</td>\n",
       "      <td>False</td>\n",
       "      <td>False</td>\n",
       "      <td>False</td>\n",
       "      <td>False</td>\n",
       "      <td>False</td>\n",
       "      <td>False</td>\n",
       "    </tr>\n",
       "    <tr>\n",
       "      <th>162</th>\n",
       "      <td>Soja</td>\n",
       "      <td>38.61</td>\n",
       "      <td>6.20</td>\n",
       "      <td>17.08</td>\n",
       "      <td>279.06</td>\n",
       "      <td>73.09</td>\n",
       "      <td>9.60</td>\n",
       "      <td>43.78</td>\n",
       "      <td>131</td>\n",
       "      <td>2586.36</td>\n",
       "      <td>0.77</td>\n",
       "      <td>True</td>\n",
       "      <td>False</td>\n",
       "      <td>False</td>\n",
       "      <td>True</td>\n",
       "      <td>False</td>\n",
       "      <td>True</td>\n",
       "    </tr>\n",
       "  </tbody>\n",
       "</table>\n",
       "<p>163 rows × 17 columns</p>\n",
       "</div>"
      ],
      "text/plain": [
       "    tipoCultivo  humedadSuelo(%)  pHSuelo  temperatura(°C)  precipitacion(mm)  \\\n",
       "0         Trigo            29.32     7.16            27.37             265.43   \n",
       "1          Maiz            27.10     5.72            22.26             296.33   \n",
       "2          Soja            40.54     6.35            19.24             184.82   \n",
       "3         Trigo            13.39     6.36            23.47             166.76   \n",
       "4          Soja            12.80     5.87            26.90             218.80   \n",
       "..          ...              ...      ...              ...                ...   \n",
       "158        Maiz            29.30     6.71            32.93              92.69   \n",
       "159        Maiz            26.91     6.03            15.04             207.79   \n",
       "160       Trigo            31.58     5.68            16.02             151.82   \n",
       "161        Maiz            32.14     7.44            21.49             286.61   \n",
       "162        Soja            38.61     6.20            17.08             279.06   \n",
       "\n",
       "     humedad(%)  horasLuzSolar  mlPesticida  diasTotales  \\\n",
       "0         68.87           8.23        15.26          144   \n",
       "1         80.34           5.44        47.61          121   \n",
       "2         76.50           5.21        49.78          118   \n",
       "3         76.45           8.04        23.12          145   \n",
       "4         51.76           4.72        31.75          116   \n",
       "..          ...            ...          ...          ...   \n",
       "158       87.33           6.34        35.50          128   \n",
       "159       59.68           9.54        45.16          112   \n",
       "160       55.32           7.80        20.13          122   \n",
       "161       84.20           5.58        45.43           93   \n",
       "162       73.09           9.60        43.78          131   \n",
       "\n",
       "     rendimientoKg_hectarea  indiceNDVI  tipoRiego_Goteo  tipoRiego_Manual  \\\n",
       "0                   2931.16        0.80             True             False   \n",
       "1                   5264.09        0.70            False             False   \n",
       "2                   5598.46        0.50            False              True   \n",
       "3                   2437.08        0.55             True             False   \n",
       "4                   4629.49        0.42            False             False   \n",
       "..                      ...         ...              ...               ...   \n",
       "158                 5528.08        0.31            False              True   \n",
       "159                 2023.56        0.30             True             False   \n",
       "160                 3708.29        0.47            False             False   \n",
       "161                 4503.82        0.88            False             False   \n",
       "162                 2586.36        0.77             True             False   \n",
       "\n",
       "     tipoFertilizante_Mixto  tipoFertilizante_Organico  \\\n",
       "0                      True                      False   \n",
       "1                      True                      False   \n",
       "2                     False                      False   \n",
       "3                     False                       True   \n",
       "4                      True                      False   \n",
       "..                      ...                        ...   \n",
       "158                    True                      False   \n",
       "159                   False                      False   \n",
       "160                   False                       True   \n",
       "161                   False                      False   \n",
       "162                   False                       True   \n",
       "\n",
       "     estadoEnfermedadesCultivo_Moderate  estadoEnfermedadesCultivo_Severo  \n",
       "0                                 False                             False  \n",
       "1                                 False                             False  \n",
       "2                                 False                             False  \n",
       "3                                  True                             False  \n",
       "4                                  True                             False  \n",
       "..                                  ...                               ...  \n",
       "158                               False                             False  \n",
       "159                               False                             False  \n",
       "160                                True                             False  \n",
       "161                               False                             False  \n",
       "162                               False                              True  \n",
       "\n",
       "[163 rows x 17 columns]"
      ]
     },
     "execution_count": 294,
     "metadata": {},
     "output_type": "execute_result"
    }
   ],
   "source": [
    "df = pd.get_dummies(data=df, columns=['tipoRiego', 'tipoFertilizante', 'estadoEnfermedadesCultivo'], drop_first=True)\n",
    "\n",
    "df"
   ]
  },
  {
   "cell_type": "code",
   "execution_count": 295,
   "id": "0b861bde",
   "metadata": {},
   "outputs": [
    {
     "data": {
      "text/html": [
       "<div>\n",
       "<style scoped>\n",
       "    .dataframe tbody tr th:only-of-type {\n",
       "        vertical-align: middle;\n",
       "    }\n",
       "\n",
       "    .dataframe tbody tr th {\n",
       "        vertical-align: top;\n",
       "    }\n",
       "\n",
       "    .dataframe thead th {\n",
       "        text-align: right;\n",
       "    }\n",
       "</style>\n",
       "<table border=\"1\" class=\"dataframe\">\n",
       "  <thead>\n",
       "    <tr style=\"text-align: right;\">\n",
       "      <th></th>\n",
       "      <th>tipoCultivo</th>\n",
       "      <th>humedadSuelo(%)</th>\n",
       "      <th>pHSuelo</th>\n",
       "      <th>temperatura(°C)</th>\n",
       "      <th>precipitacion(mm)</th>\n",
       "      <th>humedad(%)</th>\n",
       "      <th>horasLuzSolar</th>\n",
       "      <th>mlPesticida</th>\n",
       "      <th>rendimientoKg_hectarea</th>\n",
       "      <th>indiceNDVI</th>\n",
       "      <th>tipoRiego_Goteo</th>\n",
       "      <th>tipoRiego_Manual</th>\n",
       "      <th>tipoFertilizante_Mixto</th>\n",
       "      <th>tipoFertilizante_Organico</th>\n",
       "      <th>estadoEnfermedadesCultivo_Moderate</th>\n",
       "      <th>estadoEnfermedadesCultivo_Severo</th>\n",
       "      <th>mas_120_dias</th>\n",
       "    </tr>\n",
       "  </thead>\n",
       "  <tbody>\n",
       "    <tr>\n",
       "      <th>0</th>\n",
       "      <td>Trigo</td>\n",
       "      <td>29.32</td>\n",
       "      <td>7.16</td>\n",
       "      <td>27.37</td>\n",
       "      <td>265.43</td>\n",
       "      <td>68.87</td>\n",
       "      <td>8.23</td>\n",
       "      <td>15.26</td>\n",
       "      <td>2931.16</td>\n",
       "      <td>0.80</td>\n",
       "      <td>True</td>\n",
       "      <td>False</td>\n",
       "      <td>True</td>\n",
       "      <td>False</td>\n",
       "      <td>False</td>\n",
       "      <td>False</td>\n",
       "      <td>True</td>\n",
       "    </tr>\n",
       "    <tr>\n",
       "      <th>1</th>\n",
       "      <td>Maiz</td>\n",
       "      <td>27.10</td>\n",
       "      <td>5.72</td>\n",
       "      <td>22.26</td>\n",
       "      <td>296.33</td>\n",
       "      <td>80.34</td>\n",
       "      <td>5.44</td>\n",
       "      <td>47.61</td>\n",
       "      <td>5264.09</td>\n",
       "      <td>0.70</td>\n",
       "      <td>False</td>\n",
       "      <td>False</td>\n",
       "      <td>True</td>\n",
       "      <td>False</td>\n",
       "      <td>False</td>\n",
       "      <td>False</td>\n",
       "      <td>True</td>\n",
       "    </tr>\n",
       "    <tr>\n",
       "      <th>2</th>\n",
       "      <td>Soja</td>\n",
       "      <td>40.54</td>\n",
       "      <td>6.35</td>\n",
       "      <td>19.24</td>\n",
       "      <td>184.82</td>\n",
       "      <td>76.50</td>\n",
       "      <td>5.21</td>\n",
       "      <td>49.78</td>\n",
       "      <td>5598.46</td>\n",
       "      <td>0.50</td>\n",
       "      <td>False</td>\n",
       "      <td>True</td>\n",
       "      <td>False</td>\n",
       "      <td>False</td>\n",
       "      <td>False</td>\n",
       "      <td>False</td>\n",
       "      <td>False</td>\n",
       "    </tr>\n",
       "    <tr>\n",
       "      <th>3</th>\n",
       "      <td>Trigo</td>\n",
       "      <td>13.39</td>\n",
       "      <td>6.36</td>\n",
       "      <td>23.47</td>\n",
       "      <td>166.76</td>\n",
       "      <td>76.45</td>\n",
       "      <td>8.04</td>\n",
       "      <td>23.12</td>\n",
       "      <td>2437.08</td>\n",
       "      <td>0.55</td>\n",
       "      <td>True</td>\n",
       "      <td>False</td>\n",
       "      <td>False</td>\n",
       "      <td>True</td>\n",
       "      <td>True</td>\n",
       "      <td>False</td>\n",
       "      <td>True</td>\n",
       "    </tr>\n",
       "    <tr>\n",
       "      <th>4</th>\n",
       "      <td>Soja</td>\n",
       "      <td>12.80</td>\n",
       "      <td>5.87</td>\n",
       "      <td>26.90</td>\n",
       "      <td>218.80</td>\n",
       "      <td>51.76</td>\n",
       "      <td>4.72</td>\n",
       "      <td>31.75</td>\n",
       "      <td>4629.49</td>\n",
       "      <td>0.42</td>\n",
       "      <td>False</td>\n",
       "      <td>False</td>\n",
       "      <td>True</td>\n",
       "      <td>False</td>\n",
       "      <td>True</td>\n",
       "      <td>False</td>\n",
       "      <td>False</td>\n",
       "    </tr>\n",
       "    <tr>\n",
       "      <th>...</th>\n",
       "      <td>...</td>\n",
       "      <td>...</td>\n",
       "      <td>...</td>\n",
       "      <td>...</td>\n",
       "      <td>...</td>\n",
       "      <td>...</td>\n",
       "      <td>...</td>\n",
       "      <td>...</td>\n",
       "      <td>...</td>\n",
       "      <td>...</td>\n",
       "      <td>...</td>\n",
       "      <td>...</td>\n",
       "      <td>...</td>\n",
       "      <td>...</td>\n",
       "      <td>...</td>\n",
       "      <td>...</td>\n",
       "      <td>...</td>\n",
       "    </tr>\n",
       "    <tr>\n",
       "      <th>158</th>\n",
       "      <td>Maiz</td>\n",
       "      <td>29.30</td>\n",
       "      <td>6.71</td>\n",
       "      <td>32.93</td>\n",
       "      <td>92.69</td>\n",
       "      <td>87.33</td>\n",
       "      <td>6.34</td>\n",
       "      <td>35.50</td>\n",
       "      <td>5528.08</td>\n",
       "      <td>0.31</td>\n",
       "      <td>False</td>\n",
       "      <td>True</td>\n",
       "      <td>True</td>\n",
       "      <td>False</td>\n",
       "      <td>False</td>\n",
       "      <td>False</td>\n",
       "      <td>True</td>\n",
       "    </tr>\n",
       "    <tr>\n",
       "      <th>159</th>\n",
       "      <td>Maiz</td>\n",
       "      <td>26.91</td>\n",
       "      <td>6.03</td>\n",
       "      <td>15.04</td>\n",
       "      <td>207.79</td>\n",
       "      <td>59.68</td>\n",
       "      <td>9.54</td>\n",
       "      <td>45.16</td>\n",
       "      <td>2023.56</td>\n",
       "      <td>0.30</td>\n",
       "      <td>True</td>\n",
       "      <td>False</td>\n",
       "      <td>False</td>\n",
       "      <td>False</td>\n",
       "      <td>False</td>\n",
       "      <td>False</td>\n",
       "      <td>False</td>\n",
       "    </tr>\n",
       "    <tr>\n",
       "      <th>160</th>\n",
       "      <td>Trigo</td>\n",
       "      <td>31.58</td>\n",
       "      <td>5.68</td>\n",
       "      <td>16.02</td>\n",
       "      <td>151.82</td>\n",
       "      <td>55.32</td>\n",
       "      <td>7.80</td>\n",
       "      <td>20.13</td>\n",
       "      <td>3708.29</td>\n",
       "      <td>0.47</td>\n",
       "      <td>False</td>\n",
       "      <td>False</td>\n",
       "      <td>False</td>\n",
       "      <td>True</td>\n",
       "      <td>True</td>\n",
       "      <td>False</td>\n",
       "      <td>True</td>\n",
       "    </tr>\n",
       "    <tr>\n",
       "      <th>161</th>\n",
       "      <td>Maiz</td>\n",
       "      <td>32.14</td>\n",
       "      <td>7.44</td>\n",
       "      <td>21.49</td>\n",
       "      <td>286.61</td>\n",
       "      <td>84.20</td>\n",
       "      <td>5.58</td>\n",
       "      <td>45.43</td>\n",
       "      <td>4503.82</td>\n",
       "      <td>0.88</td>\n",
       "      <td>False</td>\n",
       "      <td>False</td>\n",
       "      <td>False</td>\n",
       "      <td>False</td>\n",
       "      <td>False</td>\n",
       "      <td>False</td>\n",
       "      <td>False</td>\n",
       "    </tr>\n",
       "    <tr>\n",
       "      <th>162</th>\n",
       "      <td>Soja</td>\n",
       "      <td>38.61</td>\n",
       "      <td>6.20</td>\n",
       "      <td>17.08</td>\n",
       "      <td>279.06</td>\n",
       "      <td>73.09</td>\n",
       "      <td>9.60</td>\n",
       "      <td>43.78</td>\n",
       "      <td>2586.36</td>\n",
       "      <td>0.77</td>\n",
       "      <td>True</td>\n",
       "      <td>False</td>\n",
       "      <td>False</td>\n",
       "      <td>True</td>\n",
       "      <td>False</td>\n",
       "      <td>True</td>\n",
       "      <td>True</td>\n",
       "    </tr>\n",
       "  </tbody>\n",
       "</table>\n",
       "<p>163 rows × 17 columns</p>\n",
       "</div>"
      ],
      "text/plain": [
       "    tipoCultivo  humedadSuelo(%)  pHSuelo  temperatura(°C)  precipitacion(mm)  \\\n",
       "0         Trigo            29.32     7.16            27.37             265.43   \n",
       "1          Maiz            27.10     5.72            22.26             296.33   \n",
       "2          Soja            40.54     6.35            19.24             184.82   \n",
       "3         Trigo            13.39     6.36            23.47             166.76   \n",
       "4          Soja            12.80     5.87            26.90             218.80   \n",
       "..          ...              ...      ...              ...                ...   \n",
       "158        Maiz            29.30     6.71            32.93              92.69   \n",
       "159        Maiz            26.91     6.03            15.04             207.79   \n",
       "160       Trigo            31.58     5.68            16.02             151.82   \n",
       "161        Maiz            32.14     7.44            21.49             286.61   \n",
       "162        Soja            38.61     6.20            17.08             279.06   \n",
       "\n",
       "     humedad(%)  horasLuzSolar  mlPesticida  rendimientoKg_hectarea  \\\n",
       "0         68.87           8.23        15.26                 2931.16   \n",
       "1         80.34           5.44        47.61                 5264.09   \n",
       "2         76.50           5.21        49.78                 5598.46   \n",
       "3         76.45           8.04        23.12                 2437.08   \n",
       "4         51.76           4.72        31.75                 4629.49   \n",
       "..          ...            ...          ...                     ...   \n",
       "158       87.33           6.34        35.50                 5528.08   \n",
       "159       59.68           9.54        45.16                 2023.56   \n",
       "160       55.32           7.80        20.13                 3708.29   \n",
       "161       84.20           5.58        45.43                 4503.82   \n",
       "162       73.09           9.60        43.78                 2586.36   \n",
       "\n",
       "     indiceNDVI  tipoRiego_Goteo  tipoRiego_Manual  tipoFertilizante_Mixto  \\\n",
       "0          0.80             True             False                    True   \n",
       "1          0.70            False             False                    True   \n",
       "2          0.50            False              True                   False   \n",
       "3          0.55             True             False                   False   \n",
       "4          0.42            False             False                    True   \n",
       "..          ...              ...               ...                     ...   \n",
       "158        0.31            False              True                    True   \n",
       "159        0.30             True             False                   False   \n",
       "160        0.47            False             False                   False   \n",
       "161        0.88            False             False                   False   \n",
       "162        0.77             True             False                   False   \n",
       "\n",
       "     tipoFertilizante_Organico  estadoEnfermedadesCultivo_Moderate  \\\n",
       "0                        False                               False   \n",
       "1                        False                               False   \n",
       "2                        False                               False   \n",
       "3                         True                                True   \n",
       "4                        False                                True   \n",
       "..                         ...                                 ...   \n",
       "158                      False                               False   \n",
       "159                      False                               False   \n",
       "160                       True                                True   \n",
       "161                      False                               False   \n",
       "162                       True                               False   \n",
       "\n",
       "     estadoEnfermedadesCultivo_Severo  mas_120_dias  \n",
       "0                               False          True  \n",
       "1                               False          True  \n",
       "2                               False         False  \n",
       "3                               False          True  \n",
       "4                               False         False  \n",
       "..                                ...           ...  \n",
       "158                             False          True  \n",
       "159                             False         False  \n",
       "160                             False          True  \n",
       "161                             False         False  \n",
       "162                              True          True  \n",
       "\n",
       "[163 rows x 17 columns]"
      ]
     },
     "execution_count": 295,
     "metadata": {},
     "output_type": "execute_result"
    }
   ],
   "source": [
    "df['mas_120_dias'] = df['diasTotales'].apply(lambda x: True if x > 120 else False)\n",
    "df.drop(columns='diasTotales', inplace=True)\n",
    "\n",
    "df"
   ]
  },
  {
   "cell_type": "markdown",
   "id": "b0c4b83a",
   "metadata": {},
   "source": [
    "**Normalización de las variables**"
   ]
  },
  {
   "cell_type": "code",
   "execution_count": 297,
   "id": "7b81240f",
   "metadata": {},
   "outputs": [
    {
     "data": {
      "text/html": [
       "<div>\n",
       "<style scoped>\n",
       "    .dataframe tbody tr th:only-of-type {\n",
       "        vertical-align: middle;\n",
       "    }\n",
       "\n",
       "    .dataframe tbody tr th {\n",
       "        vertical-align: top;\n",
       "    }\n",
       "\n",
       "    .dataframe thead th {\n",
       "        text-align: right;\n",
       "    }\n",
       "</style>\n",
       "<table border=\"1\" class=\"dataframe\">\n",
       "  <thead>\n",
       "    <tr style=\"text-align: right;\">\n",
       "      <th></th>\n",
       "      <th>humedadSuelo(%)</th>\n",
       "      <th>pHSuelo</th>\n",
       "      <th>temperatura(°C)</th>\n",
       "      <th>precipitacion(mm)</th>\n",
       "      <th>humedad(%)</th>\n",
       "      <th>horasLuzSolar</th>\n",
       "      <th>mlPesticida</th>\n",
       "      <th>rendimientoKg_hectarea</th>\n",
       "      <th>indiceNDVI</th>\n",
       "      <th>tipoRiego_Goteo</th>\n",
       "      <th>tipoRiego_Manual</th>\n",
       "      <th>tipoFertilizante_Mixto</th>\n",
       "      <th>tipoFertilizante_Organico</th>\n",
       "      <th>estadoEnfermedadesCultivo_Moderate</th>\n",
       "      <th>estadoEnfermedadesCultivo_Severo</th>\n",
       "      <th>mas_120_dias</th>\n",
       "    </tr>\n",
       "  </thead>\n",
       "  <tbody>\n",
       "    <tr>\n",
       "      <th>0</th>\n",
       "      <td>0.394017</td>\n",
       "      <td>1.040927</td>\n",
       "      <td>0.468253</td>\n",
       "      <td>1.084461</td>\n",
       "      <td>0.129232</td>\n",
       "      <td>0.715899</td>\n",
       "      <td>-0.807933</td>\n",
       "      <td>-1.060408</td>\n",
       "      <td>1.132157</td>\n",
       "      <td>True</td>\n",
       "      <td>False</td>\n",
       "      <td>True</td>\n",
       "      <td>False</td>\n",
       "      <td>False</td>\n",
       "      <td>False</td>\n",
       "      <td>True</td>\n",
       "    </tr>\n",
       "    <tr>\n",
       "      <th>1</th>\n",
       "      <td>0.173440</td>\n",
       "      <td>-1.323141</td>\n",
       "      <td>-0.511037</td>\n",
       "      <td>1.501523</td>\n",
       "      <td>0.951804</td>\n",
       "      <td>-0.874106</td>\n",
       "      <td>1.589491</td>\n",
       "      <td>0.961703</td>\n",
       "      <td>0.569187</td>\n",
       "      <td>False</td>\n",
       "      <td>False</td>\n",
       "      <td>True</td>\n",
       "      <td>False</td>\n",
       "      <td>False</td>\n",
       "      <td>False</td>\n",
       "      <td>True</td>\n",
       "    </tr>\n",
       "    <tr>\n",
       "      <th>2</th>\n",
       "      <td>1.508827</td>\n",
       "      <td>-0.288861</td>\n",
       "      <td>-1.089796</td>\n",
       "      <td>-0.003546</td>\n",
       "      <td>0.676418</td>\n",
       "      <td>-1.005182</td>\n",
       "      <td>1.750307</td>\n",
       "      <td>1.251525</td>\n",
       "      <td>-0.556753</td>\n",
       "      <td>False</td>\n",
       "      <td>True</td>\n",
       "      <td>False</td>\n",
       "      <td>False</td>\n",
       "      <td>False</td>\n",
       "      <td>False</td>\n",
       "      <td>False</td>\n",
       "    </tr>\n",
       "    <tr>\n",
       "      <th>3</th>\n",
       "      <td>-1.188775</td>\n",
       "      <td>-0.272444</td>\n",
       "      <td>-0.279151</td>\n",
       "      <td>-0.247304</td>\n",
       "      <td>0.672833</td>\n",
       "      <td>0.607619</td>\n",
       "      <td>-0.225437</td>\n",
       "      <td>-1.488661</td>\n",
       "      <td>-0.275268</td>\n",
       "      <td>True</td>\n",
       "      <td>False</td>\n",
       "      <td>False</td>\n",
       "      <td>True</td>\n",
       "      <td>True</td>\n",
       "      <td>False</td>\n",
       "      <td>True</td>\n",
       "    </tr>\n",
       "    <tr>\n",
       "      <th>4</th>\n",
       "      <td>-1.247397</td>\n",
       "      <td>-1.076884</td>\n",
       "      <td>0.378181</td>\n",
       "      <td>0.455088</td>\n",
       "      <td>-1.097812</td>\n",
       "      <td>-1.284430</td>\n",
       "      <td>0.414123</td>\n",
       "      <td>0.411652</td>\n",
       "      <td>-1.007130</td>\n",
       "      <td>False</td>\n",
       "      <td>False</td>\n",
       "      <td>True</td>\n",
       "      <td>False</td>\n",
       "      <td>True</td>\n",
       "      <td>False</td>\n",
       "      <td>False</td>\n",
       "    </tr>\n",
       "    <tr>\n",
       "      <th>...</th>\n",
       "      <td>...</td>\n",
       "      <td>...</td>\n",
       "      <td>...</td>\n",
       "      <td>...</td>\n",
       "      <td>...</td>\n",
       "      <td>...</td>\n",
       "      <td>...</td>\n",
       "      <td>...</td>\n",
       "      <td>...</td>\n",
       "      <td>...</td>\n",
       "      <td>...</td>\n",
       "      <td>...</td>\n",
       "      <td>...</td>\n",
       "      <td>...</td>\n",
       "      <td>...</td>\n",
       "      <td>...</td>\n",
       "    </tr>\n",
       "    <tr>\n",
       "      <th>158</th>\n",
       "      <td>0.392030</td>\n",
       "      <td>0.302156</td>\n",
       "      <td>1.533782</td>\n",
       "      <td>-1.247039</td>\n",
       "      <td>1.453092</td>\n",
       "      <td>-0.361201</td>\n",
       "      <td>0.692032</td>\n",
       "      <td>1.190522</td>\n",
       "      <td>-1.626397</td>\n",
       "      <td>False</td>\n",
       "      <td>True</td>\n",
       "      <td>True</td>\n",
       "      <td>False</td>\n",
       "      <td>False</td>\n",
       "      <td>False</td>\n",
       "      <td>True</td>\n",
       "    </tr>\n",
       "    <tr>\n",
       "      <th>159</th>\n",
       "      <td>0.154561</td>\n",
       "      <td>-0.814210</td>\n",
       "      <td>-1.894692</td>\n",
       "      <td>0.306484</td>\n",
       "      <td>-0.529829</td>\n",
       "      <td>1.462461</td>\n",
       "      <td>1.407924</td>\n",
       "      <td>-1.847087</td>\n",
       "      <td>-1.682694</td>\n",
       "      <td>True</td>\n",
       "      <td>False</td>\n",
       "      <td>False</td>\n",
       "      <td>False</td>\n",
       "      <td>False</td>\n",
       "      <td>False</td>\n",
       "      <td>False</td>\n",
       "    </tr>\n",
       "    <tr>\n",
       "      <th>160</th>\n",
       "      <td>0.618569</td>\n",
       "      <td>-1.388809</td>\n",
       "      <td>-1.706883</td>\n",
       "      <td>-0.448952</td>\n",
       "      <td>-0.842507</td>\n",
       "      <td>0.470845</td>\n",
       "      <td>-0.447022</td>\n",
       "      <td>-0.386816</td>\n",
       "      <td>-0.725645</td>\n",
       "      <td>False</td>\n",
       "      <td>False</td>\n",
       "      <td>False</td>\n",
       "      <td>True</td>\n",
       "      <td>True</td>\n",
       "      <td>False</td>\n",
       "      <td>True</td>\n",
       "    </tr>\n",
       "    <tr>\n",
       "      <th>161</th>\n",
       "      <td>0.674210</td>\n",
       "      <td>1.500607</td>\n",
       "      <td>-0.658602</td>\n",
       "      <td>1.370331</td>\n",
       "      <td>1.228624</td>\n",
       "      <td>-0.794321</td>\n",
       "      <td>1.427933</td>\n",
       "      <td>0.302725</td>\n",
       "      <td>1.582534</td>\n",
       "      <td>False</td>\n",
       "      <td>False</td>\n",
       "      <td>False</td>\n",
       "      <td>False</td>\n",
       "      <td>False</td>\n",
       "      <td>False</td>\n",
       "      <td>False</td>\n",
       "    </tr>\n",
       "    <tr>\n",
       "      <th>162</th>\n",
       "      <td>1.317064</td>\n",
       "      <td>-0.535118</td>\n",
       "      <td>-1.503742</td>\n",
       "      <td>1.268427</td>\n",
       "      <td>0.431870</td>\n",
       "      <td>1.496655</td>\n",
       "      <td>1.305654</td>\n",
       "      <td>-1.359270</td>\n",
       "      <td>0.963266</td>\n",
       "      <td>True</td>\n",
       "      <td>False</td>\n",
       "      <td>False</td>\n",
       "      <td>True</td>\n",
       "      <td>False</td>\n",
       "      <td>True</td>\n",
       "      <td>True</td>\n",
       "    </tr>\n",
       "  </tbody>\n",
       "</table>\n",
       "<p>163 rows × 16 columns</p>\n",
       "</div>"
      ],
      "text/plain": [
       "     humedadSuelo(%)   pHSuelo  temperatura(°C)  precipitacion(mm)  \\\n",
       "0           0.394017  1.040927         0.468253           1.084461   \n",
       "1           0.173440 -1.323141        -0.511037           1.501523   \n",
       "2           1.508827 -0.288861        -1.089796          -0.003546   \n",
       "3          -1.188775 -0.272444        -0.279151          -0.247304   \n",
       "4          -1.247397 -1.076884         0.378181           0.455088   \n",
       "..               ...       ...              ...                ...   \n",
       "158         0.392030  0.302156         1.533782          -1.247039   \n",
       "159         0.154561 -0.814210        -1.894692           0.306484   \n",
       "160         0.618569 -1.388809        -1.706883          -0.448952   \n",
       "161         0.674210  1.500607        -0.658602           1.370331   \n",
       "162         1.317064 -0.535118        -1.503742           1.268427   \n",
       "\n",
       "     humedad(%)  horasLuzSolar  mlPesticida  rendimientoKg_hectarea  \\\n",
       "0      0.129232       0.715899    -0.807933               -1.060408   \n",
       "1      0.951804      -0.874106     1.589491                0.961703   \n",
       "2      0.676418      -1.005182     1.750307                1.251525   \n",
       "3      0.672833       0.607619    -0.225437               -1.488661   \n",
       "4     -1.097812      -1.284430     0.414123                0.411652   \n",
       "..          ...            ...          ...                     ...   \n",
       "158    1.453092      -0.361201     0.692032                1.190522   \n",
       "159   -0.529829       1.462461     1.407924               -1.847087   \n",
       "160   -0.842507       0.470845    -0.447022               -0.386816   \n",
       "161    1.228624      -0.794321     1.427933                0.302725   \n",
       "162    0.431870       1.496655     1.305654               -1.359270   \n",
       "\n",
       "     indiceNDVI  tipoRiego_Goteo  tipoRiego_Manual  tipoFertilizante_Mixto  \\\n",
       "0      1.132157             True             False                    True   \n",
       "1      0.569187            False             False                    True   \n",
       "2     -0.556753            False              True                   False   \n",
       "3     -0.275268             True             False                   False   \n",
       "4     -1.007130            False             False                    True   \n",
       "..          ...              ...               ...                     ...   \n",
       "158   -1.626397            False              True                    True   \n",
       "159   -1.682694             True             False                   False   \n",
       "160   -0.725645            False             False                   False   \n",
       "161    1.582534            False             False                   False   \n",
       "162    0.963266             True             False                   False   \n",
       "\n",
       "     tipoFertilizante_Organico  estadoEnfermedadesCultivo_Moderate  \\\n",
       "0                        False                               False   \n",
       "1                        False                               False   \n",
       "2                        False                               False   \n",
       "3                         True                                True   \n",
       "4                        False                                True   \n",
       "..                         ...                                 ...   \n",
       "158                      False                               False   \n",
       "159                      False                               False   \n",
       "160                       True                                True   \n",
       "161                      False                               False   \n",
       "162                       True                               False   \n",
       "\n",
       "     estadoEnfermedadesCultivo_Severo  mas_120_dias  \n",
       "0                               False          True  \n",
       "1                               False          True  \n",
       "2                               False         False  \n",
       "3                               False          True  \n",
       "4                               False         False  \n",
       "..                                ...           ...  \n",
       "158                             False          True  \n",
       "159                             False         False  \n",
       "160                             False          True  \n",
       "161                             False         False  \n",
       "162                              True          True  \n",
       "\n",
       "[163 rows x 16 columns]"
      ]
     },
     "execution_count": 297,
     "metadata": {},
     "output_type": "execute_result"
    }
   ],
   "source": [
    "X = df.drop(columns=['tipoCultivo'])\n",
    "y = df['tipoCultivo']\n",
    "\n",
    "scaler = StandardScaler()\n",
    "x_num_escaladas = scaler.fit_transform(X[columnas_numericas])\n",
    "\n",
    "x_escalado = X.copy()\n",
    "x_escalado[columnas_numericas] = x_num_escaladas\n",
    "x_escalado"
   ]
  },
  {
   "cell_type": "markdown",
   "id": "313e0416",
   "metadata": {},
   "source": [
    "# PCA"
   ]
  },
  {
   "cell_type": "code",
   "execution_count": 320,
   "id": "3f8c6b04",
   "metadata": {},
   "outputs": [
    {
     "data": {
      "text/html": [
       "<div>\n",
       "<style scoped>\n",
       "    .dataframe tbody tr th:only-of-type {\n",
       "        vertical-align: middle;\n",
       "    }\n",
       "\n",
       "    .dataframe tbody tr th {\n",
       "        vertical-align: top;\n",
       "    }\n",
       "\n",
       "    .dataframe thead th {\n",
       "        text-align: right;\n",
       "    }\n",
       "</style>\n",
       "<table border=\"1\" class=\"dataframe\">\n",
       "  <thead>\n",
       "    <tr style=\"text-align: right;\">\n",
       "      <th></th>\n",
       "      <th>PC1</th>\n",
       "      <th>PC2</th>\n",
       "      <th>PC3</th>\n",
       "      <th>PC4</th>\n",
       "      <th>PC5</th>\n",
       "      <th>PC6</th>\n",
       "      <th>PC7</th>\n",
       "      <th>PC8</th>\n",
       "      <th>PC9</th>\n",
       "      <th>PC10</th>\n",
       "      <th>PC11</th>\n",
       "      <th>PC12</th>\n",
       "      <th>PC13</th>\n",
       "      <th>PC14</th>\n",
       "      <th>PC15</th>\n",
       "      <th>PC16</th>\n",
       "      <th>tipoCultivo</th>\n",
       "    </tr>\n",
       "  </thead>\n",
       "  <tbody>\n",
       "    <tr>\n",
       "      <th>0</th>\n",
       "      <td>-0.642346</td>\n",
       "      <td>1.783122</td>\n",
       "      <td>0.898370</td>\n",
       "      <td>-1.039368</td>\n",
       "      <td>0.030102</td>\n",
       "      <td>0.295266</td>\n",
       "      <td>0.461941</td>\n",
       "      <td>-0.098116</td>\n",
       "      <td>0.654414</td>\n",
       "      <td>-0.217500</td>\n",
       "      <td>0.180138</td>\n",
       "      <td>-0.656436</td>\n",
       "      <td>0.996865</td>\n",
       "      <td>-0.162915</td>\n",
       "      <td>0.303314</td>\n",
       "      <td>0.192924</td>\n",
       "      <td>Trigo</td>\n",
       "    </tr>\n",
       "    <tr>\n",
       "      <th>1</th>\n",
       "      <td>1.957355</td>\n",
       "      <td>-0.428663</td>\n",
       "      <td>1.521323</td>\n",
       "      <td>-0.034412</td>\n",
       "      <td>0.100274</td>\n",
       "      <td>-0.359182</td>\n",
       "      <td>-1.486390</td>\n",
       "      <td>-0.472308</td>\n",
       "      <td>-0.991359</td>\n",
       "      <td>-0.538066</td>\n",
       "      <td>0.073177</td>\n",
       "      <td>-0.380038</td>\n",
       "      <td>0.407967</td>\n",
       "      <td>-0.230813</td>\n",
       "      <td>-0.203880</td>\n",
       "      <td>0.643665</td>\n",
       "      <td>Maiz</td>\n",
       "    </tr>\n",
       "    <tr>\n",
       "      <th>2</th>\n",
       "      <td>1.659851</td>\n",
       "      <td>-0.758614</td>\n",
       "      <td>0.258841</td>\n",
       "      <td>1.131884</td>\n",
       "      <td>1.443107</td>\n",
       "      <td>0.868873</td>\n",
       "      <td>-1.345227</td>\n",
       "      <td>0.447661</td>\n",
       "      <td>-0.744343</td>\n",
       "      <td>-0.130929</td>\n",
       "      <td>-0.479013</td>\n",
       "      <td>0.033737</td>\n",
       "      <td>-0.657024</td>\n",
       "      <td>-0.560675</td>\n",
       "      <td>0.174475</td>\n",
       "      <td>-0.067440</td>\n",
       "      <td>Soja</td>\n",
       "    </tr>\n",
       "    <tr>\n",
       "      <th>3</th>\n",
       "      <td>-1.186677</td>\n",
       "      <td>-0.772195</td>\n",
       "      <td>0.271823</td>\n",
       "      <td>-0.872184</td>\n",
       "      <td>0.375715</td>\n",
       "      <td>-1.211770</td>\n",
       "      <td>0.286553</td>\n",
       "      <td>-0.499264</td>\n",
       "      <td>0.564099</td>\n",
       "      <td>0.867116</td>\n",
       "      <td>0.013516</td>\n",
       "      <td>0.354377</td>\n",
       "      <td>0.853552</td>\n",
       "      <td>0.208992</td>\n",
       "      <td>0.176219</td>\n",
       "      <td>-0.174991</td>\n",
       "      <td>Trigo</td>\n",
       "    </tr>\n",
       "    <tr>\n",
       "      <th>4</th>\n",
       "      <td>1.000885</td>\n",
       "      <td>-0.839987</td>\n",
       "      <td>-1.294042</td>\n",
       "      <td>-0.280310</td>\n",
       "      <td>-1.410824</td>\n",
       "      <td>-0.903628</td>\n",
       "      <td>-1.048971</td>\n",
       "      <td>-0.560749</td>\n",
       "      <td>-0.025696</td>\n",
       "      <td>-0.102753</td>\n",
       "      <td>-0.708308</td>\n",
       "      <td>-0.550314</td>\n",
       "      <td>-0.214532</td>\n",
       "      <td>0.363164</td>\n",
       "      <td>-0.269542</td>\n",
       "      <td>0.260040</td>\n",
       "      <td>Soja</td>\n",
       "    </tr>\n",
       "    <tr>\n",
       "      <th>...</th>\n",
       "      <td>...</td>\n",
       "      <td>...</td>\n",
       "      <td>...</td>\n",
       "      <td>...</td>\n",
       "      <td>...</td>\n",
       "      <td>...</td>\n",
       "      <td>...</td>\n",
       "      <td>...</td>\n",
       "      <td>...</td>\n",
       "      <td>...</td>\n",
       "      <td>...</td>\n",
       "      <td>...</td>\n",
       "      <td>...</td>\n",
       "      <td>...</td>\n",
       "      <td>...</td>\n",
       "      <td>...</td>\n",
       "      <td>...</td>\n",
       "    </tr>\n",
       "    <tr>\n",
       "      <th>158</th>\n",
       "      <td>1.204989</td>\n",
       "      <td>-0.440707</td>\n",
       "      <td>-0.581652</td>\n",
       "      <td>2.529954</td>\n",
       "      <td>0.751203</td>\n",
       "      <td>-0.788544</td>\n",
       "      <td>0.854034</td>\n",
       "      <td>0.139107</td>\n",
       "      <td>0.530209</td>\n",
       "      <td>-0.955323</td>\n",
       "      <td>-0.549196</td>\n",
       "      <td>0.014992</td>\n",
       "      <td>0.573481</td>\n",
       "      <td>-0.199467</td>\n",
       "      <td>0.452600</td>\n",
       "      <td>0.324547</td>\n",
       "      <td>Maiz</td>\n",
       "    </tr>\n",
       "    <tr>\n",
       "      <th>159</th>\n",
       "      <td>-0.343411</td>\n",
       "      <td>-2.595933</td>\n",
       "      <td>0.142980</td>\n",
       "      <td>-2.016906</td>\n",
       "      <td>1.380872</td>\n",
       "      <td>0.802261</td>\n",
       "      <td>-0.444025</td>\n",
       "      <td>-0.006409</td>\n",
       "      <td>1.278410</td>\n",
       "      <td>0.212863</td>\n",
       "      <td>-0.165115</td>\n",
       "      <td>-0.695859</td>\n",
       "      <td>-0.218588</td>\n",
       "      <td>-0.524232</td>\n",
       "      <td>0.198729</td>\n",
       "      <td>-0.146159</td>\n",
       "      <td>Maiz</td>\n",
       "    </tr>\n",
       "    <tr>\n",
       "      <th>160</th>\n",
       "      <td>-0.476887</td>\n",
       "      <td>-1.627584</td>\n",
       "      <td>-0.869272</td>\n",
       "      <td>-1.150162</td>\n",
       "      <td>0.597718</td>\n",
       "      <td>0.985264</td>\n",
       "      <td>0.041659</td>\n",
       "      <td>-0.386188</td>\n",
       "      <td>-1.107861</td>\n",
       "      <td>0.587345</td>\n",
       "      <td>0.003299</td>\n",
       "      <td>0.509717</td>\n",
       "      <td>0.431396</td>\n",
       "      <td>0.178652</td>\n",
       "      <td>-0.474678</td>\n",
       "      <td>0.380146</td>\n",
       "      <td>Trigo</td>\n",
       "    </tr>\n",
       "    <tr>\n",
       "      <th>161</th>\n",
       "      <td>0.545410</td>\n",
       "      <td>1.563940</td>\n",
       "      <td>2.070611</td>\n",
       "      <td>0.444869</td>\n",
       "      <td>0.887702</td>\n",
       "      <td>0.239945</td>\n",
       "      <td>-1.820315</td>\n",
       "      <td>0.507229</td>\n",
       "      <td>0.162744</td>\n",
       "      <td>0.280053</td>\n",
       "      <td>-0.258536</td>\n",
       "      <td>-0.165522</td>\n",
       "      <td>-0.489535</td>\n",
       "      <td>-0.559157</td>\n",
       "      <td>-0.438207</td>\n",
       "      <td>0.240552</td>\n",
       "      <td>Maiz</td>\n",
       "    </tr>\n",
       "    <tr>\n",
       "      <th>162</th>\n",
       "      <td>0.235296</td>\n",
       "      <td>-0.574276</td>\n",
       "      <td>2.187393</td>\n",
       "      <td>-1.985070</td>\n",
       "      <td>1.571604</td>\n",
       "      <td>1.137990</td>\n",
       "      <td>-0.193219</td>\n",
       "      <td>0.392335</td>\n",
       "      <td>0.145587</td>\n",
       "      <td>0.482885</td>\n",
       "      <td>1.119775</td>\n",
       "      <td>0.053283</td>\n",
       "      <td>0.367250</td>\n",
       "      <td>0.340200</td>\n",
       "      <td>0.021621</td>\n",
       "      <td>-0.007445</td>\n",
       "      <td>Soja</td>\n",
       "    </tr>\n",
       "  </tbody>\n",
       "</table>\n",
       "<p>163 rows × 17 columns</p>\n",
       "</div>"
      ],
      "text/plain": [
       "          PC1       PC2       PC3       PC4       PC5       PC6       PC7  \\\n",
       "0   -0.642346  1.783122  0.898370 -1.039368  0.030102  0.295266  0.461941   \n",
       "1    1.957355 -0.428663  1.521323 -0.034412  0.100274 -0.359182 -1.486390   \n",
       "2    1.659851 -0.758614  0.258841  1.131884  1.443107  0.868873 -1.345227   \n",
       "3   -1.186677 -0.772195  0.271823 -0.872184  0.375715 -1.211770  0.286553   \n",
       "4    1.000885 -0.839987 -1.294042 -0.280310 -1.410824 -0.903628 -1.048971   \n",
       "..        ...       ...       ...       ...       ...       ...       ...   \n",
       "158  1.204989 -0.440707 -0.581652  2.529954  0.751203 -0.788544  0.854034   \n",
       "159 -0.343411 -2.595933  0.142980 -2.016906  1.380872  0.802261 -0.444025   \n",
       "160 -0.476887 -1.627584 -0.869272 -1.150162  0.597718  0.985264  0.041659   \n",
       "161  0.545410  1.563940  2.070611  0.444869  0.887702  0.239945 -1.820315   \n",
       "162  0.235296 -0.574276  2.187393 -1.985070  1.571604  1.137990 -0.193219   \n",
       "\n",
       "          PC8       PC9      PC10      PC11      PC12      PC13      PC14  \\\n",
       "0   -0.098116  0.654414 -0.217500  0.180138 -0.656436  0.996865 -0.162915   \n",
       "1   -0.472308 -0.991359 -0.538066  0.073177 -0.380038  0.407967 -0.230813   \n",
       "2    0.447661 -0.744343 -0.130929 -0.479013  0.033737 -0.657024 -0.560675   \n",
       "3   -0.499264  0.564099  0.867116  0.013516  0.354377  0.853552  0.208992   \n",
       "4   -0.560749 -0.025696 -0.102753 -0.708308 -0.550314 -0.214532  0.363164   \n",
       "..        ...       ...       ...       ...       ...       ...       ...   \n",
       "158  0.139107  0.530209 -0.955323 -0.549196  0.014992  0.573481 -0.199467   \n",
       "159 -0.006409  1.278410  0.212863 -0.165115 -0.695859 -0.218588 -0.524232   \n",
       "160 -0.386188 -1.107861  0.587345  0.003299  0.509717  0.431396  0.178652   \n",
       "161  0.507229  0.162744  0.280053 -0.258536 -0.165522 -0.489535 -0.559157   \n",
       "162  0.392335  0.145587  0.482885  1.119775  0.053283  0.367250  0.340200   \n",
       "\n",
       "         PC15      PC16 tipoCultivo  \n",
       "0    0.303314  0.192924       Trigo  \n",
       "1   -0.203880  0.643665        Maiz  \n",
       "2    0.174475 -0.067440        Soja  \n",
       "3    0.176219 -0.174991       Trigo  \n",
       "4   -0.269542  0.260040        Soja  \n",
       "..        ...       ...         ...  \n",
       "158  0.452600  0.324547        Maiz  \n",
       "159  0.198729 -0.146159        Maiz  \n",
       "160 -0.474678  0.380146       Trigo  \n",
       "161 -0.438207  0.240552        Maiz  \n",
       "162  0.021621 -0.007445        Soja  \n",
       "\n",
       "[163 rows x 17 columns]"
      ]
     },
     "execution_count": 320,
     "metadata": {},
     "output_type": "execute_result"
    }
   ],
   "source": [
    "# Obtener todas las componentes principales\n",
    "pca = PCA(n_components=X.shape[1])\n",
    "\n",
    "pca_features = pca.fit_transform(x_escalado)\n",
    "\n",
    "# PC dataframe\n",
    "pca_df = pd.DataFrame(\n",
    "    data=pca_features,\n",
    "    columns=['PC1', 'PC2', 'PC3', 'PC4', 'PC5', 'PC6', 'PC7', 'PC8', 'PC9',\n",
    "             'PC10', 'PC11', 'PC12', 'PC13', 'PC14', 'PC15', 'PC16' ])\n",
    "pca_df['tipoCultivo'] = y\n",
    "\n",
    "pca_df"
   ]
  },
  {
   "cell_type": "code",
   "execution_count": 321,
   "id": "7974b9b7",
   "metadata": {},
   "outputs": [
    {
     "name": "stdout",
     "output_type": "stream",
     "text": [
      "<class 'pandas.core.frame.DataFrame'>\n",
      "RangeIndex: 163 entries, 0 to 162\n",
      "Data columns (total 17 columns):\n",
      " #   Column       Non-Null Count  Dtype  \n",
      "---  ------       --------------  -----  \n",
      " 0   PC1          163 non-null    float64\n",
      " 1   PC2          163 non-null    float64\n",
      " 2   PC3          163 non-null    float64\n",
      " 3   PC4          163 non-null    float64\n",
      " 4   PC5          163 non-null    float64\n",
      " 5   PC6          163 non-null    float64\n",
      " 6   PC7          163 non-null    float64\n",
      " 7   PC8          163 non-null    float64\n",
      " 8   PC9          163 non-null    float64\n",
      " 9   PC10         163 non-null    float64\n",
      " 10  PC11         163 non-null    float64\n",
      " 11  PC12         163 non-null    float64\n",
      " 12  PC13         163 non-null    float64\n",
      " 13  PC14         163 non-null    float64\n",
      " 14  PC15         163 non-null    float64\n",
      " 15  PC16         163 non-null    float64\n",
      " 16  tipoCultivo  163 non-null    object \n",
      "dtypes: float64(16), object(1)\n",
      "memory usage: 21.8+ KB\n"
     ]
    }
   ],
   "source": [
    "pca_df.info()"
   ]
  },
  {
   "cell_type": "markdown",
   "id": "0a8596b9",
   "metadata": {},
   "source": [
    "componentes principales?"
   ]
  },
  {
   "cell_type": "code",
   "execution_count": 322,
   "id": "6364e927",
   "metadata": {},
   "outputs": [],
   "source": [
    "# Creamos función para acumular la varianza\n",
    "def acumular(numbers):\n",
    "     sum = 0\n",
    "     var_c = []\n",
    "     for num in numbers:\n",
    "        sum += num\n",
    "        var_c.append(sum)\n",
    "     return var_c"
   ]
  },
  {
   "cell_type": "code",
   "execution_count": 323,
   "id": "704cefa9",
   "metadata": {},
   "outputs": [
    {
     "data": {
      "text/html": [
       "<div>\n",
       "<style scoped>\n",
       "    .dataframe tbody tr th:only-of-type {\n",
       "        vertical-align: middle;\n",
       "    }\n",
       "\n",
       "    .dataframe tbody tr th {\n",
       "        vertical-align: top;\n",
       "    }\n",
       "\n",
       "    .dataframe thead th {\n",
       "        text-align: right;\n",
       "    }\n",
       "</style>\n",
       "<table border=\"1\" class=\"dataframe\">\n",
       "  <thead>\n",
       "    <tr style=\"text-align: right;\">\n",
       "      <th></th>\n",
       "      <th>Eigenvalues</th>\n",
       "      <th>Proporción de variancia explicada</th>\n",
       "      <th>Proporción acumulado de variancia explicada</th>\n",
       "    </tr>\n",
       "  </thead>\n",
       "  <tbody>\n",
       "    <tr>\n",
       "      <th>0</th>\n",
       "      <td>1.370130</td>\n",
       "      <td>0.128901</td>\n",
       "      <td>0.128901</td>\n",
       "    </tr>\n",
       "    <tr>\n",
       "      <th>1</th>\n",
       "      <td>1.314887</td>\n",
       "      <td>0.123703</td>\n",
       "      <td>0.252604</td>\n",
       "    </tr>\n",
       "    <tr>\n",
       "      <th>2</th>\n",
       "      <td>1.235663</td>\n",
       "      <td>0.116250</td>\n",
       "      <td>0.368854</td>\n",
       "    </tr>\n",
       "    <tr>\n",
       "      <th>3</th>\n",
       "      <td>1.050705</td>\n",
       "      <td>0.098849</td>\n",
       "      <td>0.467703</td>\n",
       "    </tr>\n",
       "    <tr>\n",
       "      <th>4</th>\n",
       "      <td>0.970178</td>\n",
       "      <td>0.091273</td>\n",
       "      <td>0.558976</td>\n",
       "    </tr>\n",
       "    <tr>\n",
       "      <th>5</th>\n",
       "      <td>0.956519</td>\n",
       "      <td>0.089988</td>\n",
       "      <td>0.648965</td>\n",
       "    </tr>\n",
       "    <tr>\n",
       "      <th>6</th>\n",
       "      <td>0.804472</td>\n",
       "      <td>0.075684</td>\n",
       "      <td>0.724649</td>\n",
       "    </tr>\n",
       "    <tr>\n",
       "      <th>7</th>\n",
       "      <td>0.755328</td>\n",
       "      <td>0.071060</td>\n",
       "      <td>0.795709</td>\n",
       "    </tr>\n",
       "    <tr>\n",
       "      <th>8</th>\n",
       "      <td>0.679271</td>\n",
       "      <td>0.063905</td>\n",
       "      <td>0.859614</td>\n",
       "    </tr>\n",
       "    <tr>\n",
       "      <th>9</th>\n",
       "      <td>0.339485</td>\n",
       "      <td>0.031938</td>\n",
       "      <td>0.891553</td>\n",
       "    </tr>\n",
       "    <tr>\n",
       "      <th>10</th>\n",
       "      <td>0.314844</td>\n",
       "      <td>0.029620</td>\n",
       "      <td>0.921173</td>\n",
       "    </tr>\n",
       "    <tr>\n",
       "      <th>11</th>\n",
       "      <td>0.302901</td>\n",
       "      <td>0.028497</td>\n",
       "      <td>0.949669</td>\n",
       "    </tr>\n",
       "    <tr>\n",
       "      <th>12</th>\n",
       "      <td>0.221590</td>\n",
       "      <td>0.020847</td>\n",
       "      <td>0.970516</td>\n",
       "    </tr>\n",
       "    <tr>\n",
       "      <th>13</th>\n",
       "      <td>0.119129</td>\n",
       "      <td>0.011208</td>\n",
       "      <td>0.981724</td>\n",
       "    </tr>\n",
       "    <tr>\n",
       "      <th>14</th>\n",
       "      <td>0.105115</td>\n",
       "      <td>0.009889</td>\n",
       "      <td>0.991613</td>\n",
       "    </tr>\n",
       "    <tr>\n",
       "      <th>15</th>\n",
       "      <td>0.089148</td>\n",
       "      <td>0.008387</td>\n",
       "      <td>1.000000</td>\n",
       "    </tr>\n",
       "  </tbody>\n",
       "</table>\n",
       "</div>"
      ],
      "text/plain": [
       "    Eigenvalues  Proporción de variancia explicada  \\\n",
       "0      1.370130                           0.128901   \n",
       "1      1.314887                           0.123703   \n",
       "2      1.235663                           0.116250   \n",
       "3      1.050705                           0.098849   \n",
       "4      0.970178                           0.091273   \n",
       "5      0.956519                           0.089988   \n",
       "6      0.804472                           0.075684   \n",
       "7      0.755328                           0.071060   \n",
       "8      0.679271                           0.063905   \n",
       "9      0.339485                           0.031938   \n",
       "10     0.314844                           0.029620   \n",
       "11     0.302901                           0.028497   \n",
       "12     0.221590                           0.020847   \n",
       "13     0.119129                           0.011208   \n",
       "14     0.105115                           0.009889   \n",
       "15     0.089148                           0.008387   \n",
       "\n",
       "    Proporción acumulado de variancia explicada  \n",
       "0                                      0.128901  \n",
       "1                                      0.252604  \n",
       "2                                      0.368854  \n",
       "3                                      0.467703  \n",
       "4                                      0.558976  \n",
       "5                                      0.648965  \n",
       "6                                      0.724649  \n",
       "7                                      0.795709  \n",
       "8                                      0.859614  \n",
       "9                                      0.891553  \n",
       "10                                     0.921173  \n",
       "11                                     0.949669  \n",
       "12                                     0.970516  \n",
       "13                                     0.981724  \n",
       "14                                     0.991613  \n",
       "15                                     1.000000  "
      ]
     },
     "execution_count": 323,
     "metadata": {},
     "output_type": "execute_result"
    }
   ],
   "source": [
    "var_c = acumular(pca.explained_variance_ratio_)\n",
    "pca_rtd = pd.DataFrame({'Eigenvalues':pca.explained_variance_,\n",
    "                        'Proporción de variancia explicada':pca.explained_variance_ratio_,\n",
    "                        'Proporción acumulado de variancia explicada': var_c})\n",
    "pca_rtd"
   ]
  },
  {
   "cell_type": "code",
   "execution_count": 324,
   "id": "6fd7a32a",
   "metadata": {},
   "outputs": [
    {
     "data": {
      "image/png": "[encoded data removed]",
      "text/plain": [
       "<Figure size 640x480 with 1 Axes>"
      ]
     },
     "metadata": {},
     "output_type": "display_data"
    }
   ],
   "source": [
    "plt.bar(range(1,17), pca.explained_variance_ratio_,\n",
    "        alpha=0.5,\n",
    "        align='center')\n",
    "plt.step(range(1,17), np.cumsum(pca.explained_variance_ratio_),\n",
    "         where='mid',\n",
    "         color='red')\n",
    "plt.title('Varianza acumulada')\n",
    "plt.ylabel('Proporción de variancia explicada')\n",
    "plt.xlabel('Componente principales')\n",
    "plt.xticks([x for x in range(1,17,1)])\n",
    "plt.show()"
   ]
  },
  {
   "cell_type": "code",
   "execution_count": 325,
   "id": "534dd180",
   "metadata": {},
   "outputs": [],
   "source": [
    "pca_filtrado = pca_df[['PC1', 'PC2', 'PC3', 'PC4', 'PC5', 'PC6', 'PC7', 'PC8', 'PC9', 'tipoCultivo']]"
   ]
  },
  {
   "cell_type": "code",
   "execution_count": 326,
   "id": "b7d87291",
   "metadata": {},
   "outputs": [
    {
     "data": {
      "application/vnd.plotly.v1+json": {
       "config": {
        "plotlyServerURL": "https://plot.ly"
       },
       "data": [
        {
         "hovertemplate": "tipoCultivo=Trigo<br>0=%{x}<br>1=%{y}<extra></extra>",
         "legendgroup": "Trigo",
         "marker": {
          "color": "#1f77b4",
          "symbol": "circle"
         },
         "mode": "markers",
         "name": "Trigo",
         "orientation": "v",
         "showlegend": true,
         "type": "scatter",
         "x": {
          "bdata": "Jy4kehiO5L+jRGo8ofzyv7WQqkGvTdu/T28MfJUh9z8rVlT9byTwv7KE4c4WA8y/c2sY1olk/79quoUKz10AwCIhB5qKceU/qjL7SQfwoz9xeg8Jtqrev8fmD0UPPOA/iJFt6Zxe+D/izb6dJtL1P3GaJDvlufC/Ctwk6HFX+b9c6mZITyHjv7+M0q/+K+Q/NH0MRih48b/q4Pc2I+j5PwAHCkVuOdE/QqOMpJlH8z9IfB0CRcsAQJGelzEAyNA/Mwvg1umK1D9h1WEVyeH5v36ShidQGtW/hDICy1nr57+JO3MTtiLoPy3dpfRhdeA/mZvY6gil8D9QXNEFkhTOvzaegrDdw/i/h1bqW3sk6b9okcymxA3SP2b043YCbto/wasiLhDh+L+Ao4M0sRb1P3MKj2dXHO+/Uj6cwiZv3b/Kn5bNrzbxv8D2T8hEyvM/r0pIjHmn+7+3DxijeHPxv1we/1zN1gVACJSYwMY77b/XQ9CvRy63P67Jj91Phd6/",
          "dtype": "f8"
         },
         "xaxis": "x",
         "y": {
          "bdata": "MJmn3qqH/D9rd3U60rXovygVjBPwd8G/AMJ52CZ34L86ncasIcjfv0fPQTEORPO/+1kunQCb1j94kEn6YxvoP3CuSZ47++W/td808Ebf/b8DKHG/5G7hPwNg6asAnJO/MWfs0HIk8j8E7mJXwSHHP2G74Z+ymuu/boLUe0VHsL8+PDcm9znEP4QInxH2ZNo/xx3Eogcz6j+JS6PjWsfyv1HEJVDQffw/kBPj8ucK5r+o7n+NOZXxv4FvZHO/+7a/9lTB5XfZ+r8EAOZeFgrZv7ualzrc+t6/IU9L70Qy1z/91NOBfkwAQHBme/LOPOc/US26nygg5j8X+/DYH4DlP/qJAjh4Ou8/oVguJLwV0T994BJuGYj6vxExCZ5bAOE/g8NZKE8f2D9CjwExj+DwPyOpo8sZ2eu/vi7FPpNv6z9CunWLnpfVPwVnFfVvctQ/UZxl7cE/778jLiKczcbVPxsZGwPitfI/lAMHiT12wT+an8vRu/ABwFHydZeVCvq/",
          "dtype": "f8"
         },
         "yaxis": "y"
        },
        {
         "hovertemplate": "tipoCultivo=Maiz<br>0=%{x}<br>1=%{y}<extra></extra>",
         "legendgroup": "Maiz",
         "marker": {
          "color": "#8c564b",
          "symbol": "circle"
         },
         "mode": "markers",
         "name": "Maiz",
         "orientation": "v",
         "showlegend": true,
         "type": "scatter",
         "x": {
          "bdata": "jidMhVNR/z9ZylZvIvu7PzcAr4rwqt6/nZGhbunl9L9+Qzav/0v8P4LrAYmIsfm/klg6PPPHgz9oXC1b+qXWP/9Eu3LnbeU/7hcb4ha/yD/wMQnUOO7ev6zx7kkpPvM/grOuM8d59T9fI0v/mWTyv3KbRf7ncP2/dbGsu/mx2j/CpNBJI9XBvxzwvplg3u4/zSeRYn0M8j/19FQH0LDuv16AvM1iDfQ/mb1nkk87+L+67TUxtQLoP5h5dbVJIf+/hhyXPoa/9D+kBYSPdFL3PzWrmqI93tG/GgcxmK3UAMAk+Y71C0Luv393PCrt1uy/bcveUTfZwL/hB/Dvy+LiP/PNl5oab9Y/3KXY0k/gqT+TN7o/LcfNv/4m09hn/+I/Sx55tC1H47+ZfxYHPybZP/cO+aLi6u8/4Pp7vpd+BkAKwcV2Vd0GwEl7AF9eCdw/5o5T+eX7AcBgneod1Cj9P187WKeXCNS/QNeFYHqP4D+2Ha02OkfHv8XY2VJR2+G/taM2dC9w9783Y8zzjVfjv+oaCf3vMfs/YGYgf6JH8z+Z/yubcfrVv9UlWuj/c+E/",
          "dtype": "f8"
         },
         "xaxis": "x",
         "y": {
          "bdata": "zrV1rjhv2788UZ3dK+zVPwVHI1IPRNQ/ufEmPG6N+L/jN7Q3FzP1vy52kkppZvK/dpINZ1YM9L8yDOaYMTn6v/Lu0IGTIdq/0Te/0eqi8z+Sm6p5Z7bqv8HZRyBmqLq/vJXlCmqf0T8EfDaF8Qjov9w/H4yoUvC/sUHFMiEX1T9FfyvE158AQOPyLVcjc+I/9qjqynKrp7997bg53ZPlPyzeVEF8lu8/0FxcOc/p57+mrGb4Ehvpv/5puYKDTPw/QLOewASy+D/yIt4fDFnrv8+w5aWfn7W/kjTUxaLz0T+YYtoq9uvhv0TOjFs9ZQJABVXU6f/j+z/DuftyXIrxv/wXX5ZuHvQ/BDjasSSf2z899JCAzPkDwEQbLTDUl/e/8iLDi2sysj8o0o6kKvukv3mSnsWdi/Q/oj4wRfmJ3r+XNAwQrjLnPxkDFEIF96e/Ja6jnmSIuz8XHE5/F0y9P9VJ22X6HLw/5huoQ2Ze4T86b35o9/sBQBFhGLm+2uo/fx3G+OEm3L8VsZPncVXBP13fKD9sGQHAupJbH4w03L/bkCGheMQEwKQ0LZvlBfk/",
          "dtype": "f8"
         },
         "yaxis": "y"
        },
        {
         "hovertemplate": "tipoCultivo=Soja<br>0=%{x}<br>1=%{y}<extra></extra>",
         "legendgroup": "Soja",
         "marker": {
          "color": "#9edae5",
          "symbol": "circle"
         },
         "mode": "markers",
         "name": "Soja",
         "orientation": "v",
         "showlegend": true,
         "type": "scatter",
         "x": {
          "bdata": "9bx7BcCO+j8iEo0goAPwP43RCE+j0vm/eVwjPM942D/mRi3NvW4DQFAUsyvbKcQ/TgURet6F8T/n4IOAY8j3P8PEe1nLFwFAgHpSqVoC0D+Xt/bNYiDcPw9xD+zUwdS/7KgaE3cv37/m6Wqve0j3v3V0xdvJTbo/CHPIZ4OW8L/toNLbtimWv+aolPGBvvM/jzAKqGak+r/72IJU6vzJv3X8TSmCb94/pPeg23cV7z+UcgnCPcn2vxPM9JPby+q/3bls7MFZ7T+E5Dcz7x6xv0l5VY3Z9OA/cwZNk2Uowz+NZSzrRrbzv7oDeXdIUeQ/z4X0elek0b8VRv8nFnsAwHQaoMvkkf0/JnPelR1RBEAdvAiI6XH3v2xNYCzBVeM/d1fkM19b/j8L72wqfE3yv2rYTfVR2YI/xjaRHeON/z/zPddSRrDbP7hQbWBPhfa/Cud1lAsJ4j+JyexLaZ7nv3aQBIHJEeo/3paKdidXA8BkdPjnNjSoP2pVYHYYFqa/5wZLOpBN8b9mFd+8yz7Cv1K6nNRo++e/2UKThbj+7L/HXX+jjXblP5eh6bZ+lbu/IBI3A3QK8L+gOPmkeSz8P0/76ysDQ/O/ASxL9ee7uT+QxnQS53T7v+AEQ5aZJPE/1DmVQy8ezj8=",
          "dtype": "f8"
         },
         "xaxis": "x",
         "y": {
          "bdata": "1UKyW5FG6L+Yo2GbLOHqvyA2RJBgB+i/3j/8CizV6T8akw9yQBvtv5xflobJhse/bAWOt1oG6D+eHxqtrBz0v2oe/MlGaN+/Vm30o9U387/1ERNihGXsv0tTGMXMVPW/eijtWOHV5j9ENn6yNaryv7ZlChQt0eM/NlFIp3UG8T9jj+wYMt8HQAZYEyZxid+/NSazOQmQ0z9X+psIkYbwv0l731fBCPO/VyLttOc7AkAosHZ7yevxv+zvWyA42OO/v0XGJtI8/T/14+Xve4UHQKQuUuaavgRAibzLYdS2AUBFFXuZ/H7nP9BZIqx1Z+e/tV3NyHuc5T+ErVe22CPyv50/Y6l2mdE/nup3KiWcxT+Rw2RiJJbVP4v63fuyX/a/24wNPfOm7z/X7nxovv//v7MTDcft9PU/s14WVQtYs7/Cp5qEtpCrP2nEhgj4Iek/sd6fGHAx6L+Cc4m2MtTkP74dYLvYQMy/L+iXOTxHtT9Ftm5ipOH0PzihaVv4Qs2/lns4bnXL6r/S9FRmrmj5P4IS6g1yO+y/d9BTmgHT4b/IOsXbFk4FwB67kw8Nq/S/AFxetbmIyr8V6KoQVE4DQC4KZv2fDe+/JDyEO4c8pD/GnXoVK236Py4fwG67s/u/r6ZTRHdg4r8=",
          "dtype": "f8"
         },
         "yaxis": "y"
        }
       ],
       "layout": {
        "legend": {
         "title": {
          "text": "tipoCultivo"
         },
         "tracegroupgap": 0
        },
        "template": {
         "data": {
          "bar": [
           {
            "error_x": {
             "color": "#2a3f5f"
            },
            "error_y": {
             "color": "#2a3f5f"
            },
            "marker": {
             "line": {
              "color": "#E5ECF6",
              "width": 0.5
             },
             "pattern": {
              "fillmode": "overlay",
              "size": 10,
              "solidity": 0.2
             }
            },
            "type": "bar"
           }
          ],
          "barpolar": [
           {
            "marker": {
             "line": {
              "color": "#E5ECF6",
              "width": 0.5
             },
             "pattern": {
              "fillmode": "overlay",
              "size": 10,
              "solidity": 0.2
             }
            },
            "type": "barpolar"
           }
          ],
          "carpet": [
           {
            "aaxis": {
             "endlinecolor": "#2a3f5f",
             "gridcolor": "white",
             "linecolor": "white",
             "minorgridcolor": "white",
             "startlinecolor": "#2a3f5f"
            },
            "baxis": {
             "endlinecolor": "#2a3f5f",
             "gridcolor": "white",
             "linecolor": "white",
             "minorgridcolor": "white",
             "startlinecolor": "#2a3f5f"
            },
            "type": "carpet"
           }
          ],
          "choropleth": [
           {
            "colorbar": {
             "outlinewidth": 0,
             "ticks": ""
            },
            "type": "choropleth"
           }
          ],
          "contour": [
           {
            "colorbar": {
             "outlinewidth": 0,
             "ticks": ""
            },
            "colorscale": [
             [
              0,
              "#0d0887"
             ],
             [
              0.1111111111111111,
              "#46039f"
             ],
             [
              0.2222222222222222,
              "#7201a8"
             ],
             [
              0.3333333333333333,
              "#9c179e"
             ],
             [
              0.4444444444444444,
              "#bd3786"
             ],
             [
              0.5555555555555556,
              "#d8576b"
             ],
             [
              0.6666666666666666,
              "#ed7953"
             ],
             [
              0.7777777777777778,
              "#fb9f3a"
             ],
             [
              0.8888888888888888,
              "#fdca26"
             ],
             [
              1,
              "#f0f921"
             ]
            ],
            "type": "contour"
           }
          ],
          "contourcarpet": [
           {
            "colorbar": {
             "outlinewidth": 0,
             "ticks": ""
            },
            "type": "contourcarpet"
           }
          ],
          "heatmap": [
           {
            "colorbar": {
             "outlinewidth": 0,
             "ticks": ""
            },
            "colorscale": [
             [
              0,
              "#0d0887"
             ],
             [
              0.1111111111111111,
              "#46039f"
             ],
             [
              0.2222222222222222,
              "#7201a8"
             ],
             [
              0.3333333333333333,
              "#9c179e"
             ],
             [
              0.4444444444444444,
              "#bd3786"
             ],
             [
              0.5555555555555556,
              "#d8576b"
             ],
             [
              0.6666666666666666,
              "#ed7953"
             ],
             [
              0.7777777777777778,
              "#fb9f3a"
             ],
             [
              0.8888888888888888,
              "#fdca26"
             ],
             [
              1,
              "#f0f921"
             ]
            ],
            "type": "heatmap"
           }
          ],
          "histogram": [
           {
            "marker": {
             "pattern": {
              "fillmode": "overlay",
              "size": 10,
              "solidity": 0.2
             }
            },
            "type": "histogram"
           }
          ],
          "histogram2d": [
           {
            "colorbar": {
             "outlinewidth": 0,
             "ticks": ""
            },
            "colorscale": [
             [
              0,
              "#0d0887"
             ],
             [
              0.1111111111111111,
              "#46039f"
             ],
             [
              0.2222222222222222,
              "#7201a8"
             ],
             [
              0.3333333333333333,
              "#9c179e"
             ],
             [
              0.4444444444444444,
              "#bd3786"
             ],
             [
              0.5555555555555556,
              "#d8576b"
             ],
             [
              0.6666666666666666,
              "#ed7953"
             ],
             [
              0.7777777777777778,
              "#fb9f3a"
             ],
             [
              0.8888888888888888,
              "#fdca26"
             ],
             [
              1,
              "#f0f921"
             ]
            ],
            "type": "histogram2d"
           }
          ],
          "histogram2dcontour": [
           {
            "colorbar": {
             "outlinewidth": 0,
             "ticks": ""
            },
            "colorscale": [
             [
              0,
              "#0d0887"
             ],
             [
              0.1111111111111111,
              "#46039f"
             ],
             [
              0.2222222222222222,
              "#7201a8"
             ],
             [
              0.3333333333333333,
              "#9c179e"
             ],
             [
              0.4444444444444444,
              "#bd3786"
             ],
             [
              0.5555555555555556,
              "#d8576b"
             ],
             [
              0.6666666666666666,
              "#ed7953"
             ],
             [
              0.7777777777777778,
              "#fb9f3a"
             ],
             [
              0.8888888888888888,
              "#fdca26"
             ],
             [
              1,
              "#f0f921"
             ]
            ],
            "type": "histogram2dcontour"
           }
          ],
          "mesh3d": [
           {
            "colorbar": {
             "outlinewidth": 0,
             "ticks": ""
            },
            "type": "mesh3d"
           }
          ],
          "parcoords": [
           {
            "line": {
             "colorbar": {
              "outlinewidth": 0,
              "ticks": ""
             }
            },
            "type": "parcoords"
           }
          ],
          "pie": [
           {
            "automargin": true,
            "type": "pie"
           }
          ],
          "scatter": [
           {
            "fillpattern": {
             "fillmode": "overlay",
             "size": 10,
             "solidity": 0.2
            },
            "type": "scatter"
           }
          ],
          "scatter3d": [
           {
            "line": {
             "colorbar": {
              "outlinewidth": 0,
              "ticks": ""
             }
            },
            "marker": {
             "colorbar": {
              "outlinewidth": 0,
              "ticks": ""
             }
            },
            "type": "scatter3d"
           }
          ],
          "scattercarpet": [
           {
            "marker": {
             "colorbar": {
              "outlinewidth": 0,
              "ticks": ""
             }
            },
            "type": "scattercarpet"
           }
          ],
          "scattergeo": [
           {
            "marker": {
             "colorbar": {
              "outlinewidth": 0,
              "ticks": ""
             }
            },
            "type": "scattergeo"
           }
          ],
          "scattergl": [
           {
            "marker": {
             "colorbar": {
              "outlinewidth": 0,
              "ticks": ""
             }
            },
            "type": "scattergl"
           }
          ],
          "scattermap": [
           {
            "marker": {
             "colorbar": {
              "outlinewidth": 0,
              "ticks": ""
             }
            },
            "type": "scattermap"
           }
          ],
          "scattermapbox": [
           {
            "marker": {
             "colorbar": {
              "outlinewidth": 0,
              "ticks": ""
             }
            },
            "type": "scattermapbox"
           }
          ],
          "scatterpolar": [
           {
            "marker": {
             "colorbar": {
              "outlinewidth": 0,
              "ticks": ""
             }
            },
            "type": "scatterpolar"
           }
          ],
          "scatterpolargl": [
           {
            "marker": {
             "colorbar": {
              "outlinewidth": 0,
              "ticks": ""
             }
            },
            "type": "scatterpolargl"
           }
          ],
          "scatterternary": [
           {
            "marker": {
             "colorbar": {
              "outlinewidth": 0,
              "ticks": ""
             }
            },
            "type": "scatterternary"
           }
          ],
          "surface": [
           {
            "colorbar": {
             "outlinewidth": 0,
             "ticks": ""
            },
            "colorscale": [
             [
              0,
              "#0d0887"
             ],
             [
              0.1111111111111111,
              "#46039f"
             ],
             [
              0.2222222222222222,
              "#7201a8"
             ],
             [
              0.3333333333333333,
              "#9c179e"
             ],
             [
              0.4444444444444444,
              "#bd3786"
             ],
             [
              0.5555555555555556,
              "#d8576b"
             ],
             [
              0.6666666666666666,
              "#ed7953"
             ],
             [
              0.7777777777777778,
              "#fb9f3a"
             ],
             [
              0.8888888888888888,
              "#fdca26"
             ],
             [
              1,
              "#f0f921"
             ]
            ],
            "type": "surface"
           }
          ],
          "table": [
           {
            "cells": {
             "fill": {
              "color": "#EBF0F8"
             },
             "line": {
              "color": "white"
             }
            },
            "header": {
             "fill": {
              "color": "#C8D4E3"
             },
             "line": {
              "color": "white"
             }
            },
            "type": "table"
           }
          ]
         },
         "layout": {
          "annotationdefaults": {
           "arrowcolor": "#2a3f5f",
           "arrowhead": 0,
           "arrowwidth": 1
          },
          "autotypenumbers": "strict",
          "coloraxis": {
           "colorbar": {
            "outlinewidth": 0,
            "ticks": ""
           }
          },
          "colorscale": {
           "diverging": [
            [
             0,
             "#8e0152"
            ],
            [
             0.1,
             "#c51b7d"
            ],
            [
             0.2,
             "#de77ae"
            ],
            [
             0.3,
             "#f1b6da"
            ],
            [
             0.4,
             "#fde0ef"
            ],
            [
             0.5,
             "#f7f7f7"
            ],
            [
             0.6,
             "#e6f5d0"
            ],
            [
             0.7,
             "#b8e186"
            ],
            [
             0.8,
             "#7fbc41"
            ],
            [
             0.9,
             "#4d9221"
            ],
            [
             1,
             "#276419"
            ]
           ],
           "sequential": [
            [
             0,
             "#0d0887"
            ],
            [
             0.1111111111111111,
             "#46039f"
            ],
            [
             0.2222222222222222,
             "#7201a8"
            ],
            [
             0.3333333333333333,
             "#9c179e"
            ],
            [
             0.4444444444444444,
             "#bd3786"
            ],
            [
             0.5555555555555556,
             "#d8576b"
            ],
            [
             0.6666666666666666,
             "#ed7953"
            ],
            [
             0.7777777777777778,
             "#fb9f3a"
            ],
            [
             0.8888888888888888,
             "#fdca26"
            ],
            [
             1,
             "#f0f921"
            ]
           ],
           "sequentialminus": [
            [
             0,
             "#0d0887"
            ],
            [
             0.1111111111111111,
             "#46039f"
            ],
            [
             0.2222222222222222,
             "#7201a8"
            ],
            [
             0.3333333333333333,
             "#9c179e"
            ],
            [
             0.4444444444444444,
             "#bd3786"
            ],
            [
             0.5555555555555556,
             "#d8576b"
            ],
            [
             0.6666666666666666,
             "#ed7953"
            ],
            [
             0.7777777777777778,
             "#fb9f3a"
            ],
            [
             0.8888888888888888,
             "#fdca26"
            ],
            [
             1,
             "#f0f921"
            ]
           ]
          },
          "colorway": [
           "#636efa",
           "#EF553B",
           "#00cc96",
           "#ab63fa",
           "#FFA15A",
           "#19d3f3",
           "#FF6692",
           "#B6E880",
           "#FF97FF",
           "#FECB52"
          ],
          "font": {
           "color": "#2a3f5f"
          },
          "geo": {
           "bgcolor": "white",
           "lakecolor": "white",
           "landcolor": "#E5ECF6",
           "showlakes": true,
           "showland": true,
           "subunitcolor": "white"
          },
          "hoverlabel": {
           "align": "left"
          },
          "hovermode": "closest",
          "mapbox": {
           "style": "light"
          },
          "paper_bgcolor": "white",
          "plot_bgcolor": "#E5ECF6",
          "polar": {
           "angularaxis": {
            "gridcolor": "white",
            "linecolor": "white",
            "ticks": ""
           },
           "bgcolor": "#E5ECF6",
           "radialaxis": {
            "gridcolor": "white",
            "linecolor": "white",
            "ticks": ""
           }
          },
          "scene": {
           "xaxis": {
            "backgroundcolor": "#E5ECF6",
            "gridcolor": "white",
            "gridwidth": 2,
            "linecolor": "white",
            "showbackground": true,
            "ticks": "",
            "zerolinecolor": "white"
           },
           "yaxis": {
            "backgroundcolor": "#E5ECF6",
            "gridcolor": "white",
            "gridwidth": 2,
            "linecolor": "white",
            "showbackground": true,
            "ticks": "",
            "zerolinecolor": "white"
           },
           "zaxis": {
            "backgroundcolor": "#E5ECF6",
            "gridcolor": "white",
            "gridwidth": 2,
            "linecolor": "white",
            "showbackground": true,
            "ticks": "",
            "zerolinecolor": "white"
           }
          },
          "shapedefaults": {
           "line": {
            "color": "#2a3f5f"
           }
          },
          "ternary": {
           "aaxis": {
            "gridcolor": "white",
            "linecolor": "white",
            "ticks": ""
           },
           "baxis": {
            "gridcolor": "white",
            "linecolor": "white",
            "ticks": ""
           },
           "bgcolor": "#E5ECF6",
           "caxis": {
            "gridcolor": "white",
            "linecolor": "white",
            "ticks": ""
           }
          },
          "title": {
           "x": 0.05
          },
          "xaxis": {
           "automargin": true,
           "gridcolor": "white",
           "linecolor": "white",
           "ticks": "",
           "title": {
            "standoff": 15
           },
           "zerolinecolor": "white",
           "zerolinewidth": 2
          },
          "yaxis": {
           "automargin": true,
           "gridcolor": "white",
           "linecolor": "white",
           "ticks": "",
           "title": {
            "standoff": 15
           },
           "zerolinecolor": "white",
           "zerolinewidth": 2
          }
         }
        },
        "title": {
         "text": "Distribución de tipoCultivo en 2 dimensiones"
        },
        "xaxis": {
         "anchor": "y",
         "domain": [
          0,
          1
         ],
         "title": {
          "text": "0"
         }
        },
        "yaxis": {
         "anchor": "x",
         "domain": [
          0,
          1
         ],
         "title": {
          "text": "1"
         }
        }
       }
      }
     },
     "metadata": {},
     "output_type": "display_data"
    }
   ],
   "source": [
    "features = pca_filtrado.drop(columns=['tipoCultivo']).columns.to_list()\n",
    "\n",
    "unique_tipoCultivo = pca_filtrado['tipoCultivo'].unique()\n",
    "num_colors = len(unique_tipoCultivo)\n",
    "color_palette = plt.get_cmap('tab20', num_colors)\n",
    "\n",
    "tipoCultivo_color_map = {cultivo: mcolors.to_hex(color_palette(i)) for i,\n",
    "                       cultivo in enumerate(unique_tipoCultivo)}\n",
    "\n",
    "loadings = pca.components_.T * np.sqrt(pca.explained_variance_)\n",
    "fig = px.scatter(pca_features, x=0, y=1, color = pca_filtrado[\"tipoCultivo\"],\n",
    "                 labels={'color': 'tipoCultivo'},\n",
    "                 color_discrete_map=tipoCultivo_color_map,\n",
    "                 title=\"Distribución de tipoCultivo en 2 dimensiones\")\n",
    "\n",
    "fig.show()"
   ]
  },
  {
   "cell_type": "markdown",
   "id": "ac7e9a45",
   "metadata": {},
   "source": [
    "explicacion"
   ]
  },
  {
   "cell_type": "markdown",
   "id": "8162ca3d",
   "metadata": {},
   "source": [
    "# ISOMAP"
   ]
  },
  {
   "cell_type": "code",
   "execution_count": 341,
   "id": "bc86a308",
   "metadata": {},
   "outputs": [],
   "source": [
    "isomap = Isomap(n_neighbors=34, n_components=2)\n",
    "X_reduced = isomap.fit_transform(x_escalado)\n",
    "\n",
    "df_isomap = pd.DataFrame(X_reduced, columns=['PC1', 'PC2'])\n",
    "df_isomap['tipoCultivo'] = y"
   ]
  },
  {
   "cell_type": "code",
   "execution_count": 328,
   "id": "440d7492",
   "metadata": {},
   "outputs": [
    {
     "data": {
      "application/vnd.plotly.v1+json": {
       "config": {
        "plotlyServerURL": "https://plot.ly"
       },
       "data": [
        {
         "hovertemplate": "tipoCultivo=Trigo<br>PC1=%{x}<br>PC2=%{y}<extra></extra>",
         "legendgroup": "Trigo",
         "marker": {
          "color": "#636efa",
          "symbol": "circle"
         },
         "mode": "markers",
         "name": "Trigo",
         "orientation": "v",
         "showlegend": true,
         "type": "scatter",
         "x": {
          "bdata": "0y3FM3hu2T/E/yReqzIQwKEDSJlSdAbAcst0pDzouL9rY0tAx/zkv8UjD+qbyqs/urV6+PJzsT8m+fLDWBEHQEIhLpJcauy/Y0Ty3zJj+D8nn/Ecn2wLwA8rOnlVnP2/8ebgzmgG6T+7ghSArqT9P/WadKQNC9A/Crm4rLLD+T9UZrpthGrxvymwTZVcnP+/kKC6mLvF7r9uY/KhFUIHQKToi32B5hBAZa2VD/k0A0DTU0bgVpLKv0Rz7aFZDAPAdabQa41F+j/8AnBZ6g0RwJiwuWJKHfS/nBC1Z8/R87/slfT4YZr7P4Vp0V1Exu2/1/o0v9CPBsD9ZN9BnFzev6oHJiEglQtAAuRAf3ikAEAjq1SM87ARwKsm0uQ1Qfm/C3iS9srwC0B6fcNiV6TnvxHWGy4FXNi/y8Or/i0G97+4nZhVNMkDwDg5LIJ2NQHA1DafhptV1b+lA3W2dGoRwGtNbth4/PW/+1xgj02Y6T/mfvn2R6T+v8f+FVUkOwDA",
          "dtype": "f8"
         },
         "xaxis": "x",
         "y": {
          "bdata": "M3Qnqtc09b+w6mvqHhT5P9cZ4IdQIANAs3w/HgZcCkBY6Cm32Hz6v+nFxW6j2e4/fGjx0tkjDEAtUXHm+Kulv1gTlBZjLw3A8B9ZD4CuB0BtTfD41EoJwPyMKDWgNdY/8lQ6j8Hbib9pbrq5BkkEwJefEIOoXwfAILTtreJtA8A8viDjFnACwN8Hjv/0meI/LPpJTMLa/D+YUyKXGWz9vwDAdyf/2fm/eeNP+KB6CcBVHbRA+sgCwASamTZ1EwVAY8EnysPxBUA7Y0Sgx+Xuv/WHHojzB/S/qH0q3Qrg2r8POSFDIr4KwC+2wzM31uk/fDZvkg1b9D8zyuE4yZrTv8ZsSYyQOP+/+bB6f+272z+h6GVgUJD9P7N+Bjw3v8m/iDdDJpRQ8r/KqqNmZ4D/v4IZxuL+WwHACFNYyN6aBEBl50qRihQFwJw+KvWBhwVAHQS1BfTM2r/oxzdibh0EQNa5LJ+m1whATPHTpH5N1j9WyDy/IN4JwLrYtITp2gNA",
          "dtype": "f8"
         },
         "yaxis": "y"
        },
        {
         "hovertemplate": "tipoCultivo=Maiz<br>PC1=%{x}<br>PC2=%{y}<extra></extra>",
         "legendgroup": "Maiz",
         "marker": {
          "color": "#EF553B",
          "symbol": "circle"
         },
         "mode": "markers",
         "name": "Maiz",
         "orientation": "v",
         "showlegend": true,
         "type": "scatter",
         "x": {
          "bdata": "f/OztK6MA0Dqcc13YjXrvzZxT495Jw3A9FL0xPgBzT8tpn5KATrxP2rkg+eKqQXABGIC/WEYAMBXJQq3GaL1vx16scZneuo/kGf3pMO3BkADP1N8txH2v19+fHgUDfw/R2Pn5wq2CUD5nWE3iiAIQOqmpt+7hA3A03wuDANi+j9fX+U+bXj7PzPAHlGEav8/2A185f4I4j/2ij8Gz+0HQMmBS6/KIOm/lLxgf+lL0z+0SgMESgkLwOJv4J1zO7O//OkysLP8BUAmPWz5GtsQQFkOMY4JVfM/3xl6uyZ38b/saCQFTbz0v8ae1Y0aLMA/rkLqogfWDMC51owQdlEQwO5OFrzuwuc/kSky1MVPw79zsRJRXmDfP6jYhoxaYf0/VwuLkpJW4z+owSvIFfwQQIio31a4YeI/dUkoelNG5b/hiMHAHm+0P2uji85MQdg/upHEcN7M8r/LbM3ewJjCP7UTb684Dfw/un2mHX/QB0Cco0cYi47oPxVNns5vsPE/+RH8X5AAAsB+cXOHPbnrv4/O4vH8O+c/Tutub2r9DUCjgzspm+cFwH/CX42XxNM/",
          "dtype": "f8"
         },
         "xaxis": "x",
         "y": {
          "bdata": "Pvc4xAjq8L/24AepzZT1v6En6tP5PgjAN/1qxiuw5T+i1nuYGorkPyaXqtqnRwFAZdWjc9wKAUDqppp0p5T/P2z6ZFpvUQJAHuF8E6KgDkA0hzpjIOELQIU22GB4DfA/QeQoa+vrAkBUIYnlnk76P6tKhiJkPgnAp2QMAfB+4D8deWxMFj4EwMw9hXHLmNk/ZomqpkTLAsBuJlf1/0b3PwWrT1zZ7AJAIup3HECMBUB7Ul7Fs+ntv4hn/GYorQNA6tKf8pMj/L+aqwcmDyAAwOo0qJTMmQdAoUNjZ2+t1D/vlunOH8y7v1myeY85SwLA3TCUsKFf8T9macuO+PWRv2EAkZbDeQlAs3Yp4BQWCsCnnVEAaJIBwEjyQP+4zAbA3x8jnCsfCUCPCtfYAa3wP2PH5dmK3wHA0fnbKa8nAcCV/EQWMSX/P2TEFtEdPwFAMuDZg1jy3z+DIYSfmyQQwC0Tq7jgjsE/DJgUH5iy1T/sqq48Db3Sv2JPpg1g1fU/jc6uNh890792sjCwJ+qdP84i7iCCvP0/kW3BAA011r+jnmZo0Gjmvw0foAkKs+G/",
          "dtype": "f8"
         },
         "yaxis": "y"
        },
        {
         "hovertemplate": "tipoCultivo=Soja<br>PC1=%{x}<br>PC2=%{y}<extra></extra>",
         "legendgroup": "Soja",
         "marker": {
          "color": "#00cc96",
          "symbol": "circle"
         },
         "mode": "markers",
         "name": "Soja",
         "orientation": "v",
         "showlegend": true,
         "type": "scatter",
         "x": {
          "bdata": "50udbtHQBEA7c94tHd7oP9SEmMslfvE/bpm2CytQAcCqmKzHA/QOQFlbyu5RMwpATlMvYIhtAUCiB9m5LwfaPyzHLanXvwZAGel8l9tQ/z8UWWQjtsbovyNIWsnfZOE/TAl4KwmABUDfWtqIUrUCwEEHlw7GowlAAYw5qZcbB8A27Tls36QBQLiCDNmkHfy/NDeoAXN/5D+JbwSgBCARwFBdV9GKEeU/8dxJlVo95j91D+Y9rFjAP/hyYzG5POi/YznbRMTaFECWEMjMRl4DQGfYWKy1ruW/DLoQZw9u5z8LPDVkTFoJwBMvSgO6hwrA2vWW4W1Q5L96WoIGkor5vxgdkhEZPQpAhPg4kiGw9D+c1oYLK7b3vyeHIxQZv9y/cxXcbGAn+j/5AKfB5S0EwNHlT7GbLOG/ziNb28ipEECVmen4aSvHP6lmY3rBYNa/QyooWvwwC8D2RSCSpN36v3tAfsxCXvQ/C/dPYvrtBsAmgKlrdYcTQK+/zNry8uo/RkiJ4Lap97/3Umu5EgDYv4m2/gtNDgzA+9GbI7gOBMDBS0maD+jxPyvNqzF5h+q/sUuqCetuBMD6qKp5kUANQITCXY2fBg3AMdL5TwMn7j/V9Pdt3j7wv4EJABuzxfw/PMKMgOKKBsA=",
          "dtype": "f8"
         },
         "xaxis": "x",
         "y": {
          "bdata": "S9Gcws7B4D/HupDpVLEHQM199BXngwhALrWecyahCsAw+TnpfesAwNvDdUFHUfu/JR7khxFrB8AiaT4hTtbhvzJ7pxp5gfi/HXhHGGwtBkAMCF2dZYjmv7J1NMLKkPm/lI3xkYjEEUD0ppfg1K7+P3LltKFBrP+/HpBYoWRlBEDl7lkbVXcDQKsspCG3chDA6bMBPqKMAMC4xZ7LFW/rP+5M+SDs6wvAnvxkMWiM8r/c1lQ3UJjjv45SRKD+5PQ/PXeidaap/781fTb/aC8FQKt/Xq6D+ui/I231HGsS0j+kEiI+HFEFQGWujiaMGvo/O4Y8XQw1+D+/HpBxRz/Zv3ETCABsFw1Arpag1VYP6b+UOH/dDITzv4vfytgYiwpAOuelG4jaC0D91VtIsLnsv8P6chuq3gdA7KKbM6Ff6j/uKsaw9/v+Py3M961bPwHADoOz0gPM6L/n2iQ4QOD7v9xM3EmSUPW/Jb3ouUvugr+7CdzGJBsAwAV3azduJARAy6z5rl0UAkDX7VLRGpmsv5itRlbPNfW/moF2KZQhB8Du577o2D/5vyp7Zj5JIQNAF7l/1fG8CsDz0BDTCC/bvxeR0oSsjwnAJ2sdt5yg3L9eDnErtYMFwIywFaD8bANABtkt+h49D8A=",
          "dtype": "f8"
         },
         "yaxis": "y"
        }
       ],
       "layout": {
        "legend": {
         "title": {
          "text": "tipoCultivo"
         },
         "tracegroupgap": 0
        },
        "template": {
         "data": {
          "bar": [
           {
            "error_x": {
             "color": "#2a3f5f"
            },
            "error_y": {
             "color": "#2a3f5f"
            },
            "marker": {
             "line": {
              "color": "#E5ECF6",
              "width": 0.5
             },
             "pattern": {
              "fillmode": "overlay",
              "size": 10,
              "solidity": 0.2
             }
            },
            "type": "bar"
           }
          ],
          "barpolar": [
           {
            "marker": {
             "line": {
              "color": "#E5ECF6",
              "width": 0.5
             },
             "pattern": {
              "fillmode": "overlay",
              "size": 10,
              "solidity": 0.2
             }
            },
            "type": "barpolar"
           }
          ],
          "carpet": [
           {
            "aaxis": {
             "endlinecolor": "#2a3f5f",
             "gridcolor": "white",
             "linecolor": "white",
             "minorgridcolor": "white",
             "startlinecolor": "#2a3f5f"
            },
            "baxis": {
             "endlinecolor": "#2a3f5f",
             "gridcolor": "white",
             "linecolor": "white",
             "minorgridcolor": "white",
             "startlinecolor": "#2a3f5f"
            },
            "type": "carpet"
           }
          ],
          "choropleth": [
           {
            "colorbar": {
             "outlinewidth": 0,
             "ticks": ""
            },
            "type": "choropleth"
           }
          ],
          "contour": [
           {
            "colorbar": {
             "outlinewidth": 0,
             "ticks": ""
            },
            "colorscale": [
             [
              0,
              "#0d0887"
             ],
             [
              0.1111111111111111,
              "#46039f"
             ],
             [
              0.2222222222222222,
              "#7201a8"
             ],
             [
              0.3333333333333333,
              "#9c179e"
             ],
             [
              0.4444444444444444,
              "#bd3786"
             ],
             [
              0.5555555555555556,
              "#d8576b"
             ],
             [
              0.6666666666666666,
              "#ed7953"
             ],
             [
              0.7777777777777778,
              "#fb9f3a"
             ],
             [
              0.8888888888888888,
              "#fdca26"
             ],
             [
              1,
              "#f0f921"
             ]
            ],
            "type": "contour"
           }
          ],
          "contourcarpet": [
           {
            "colorbar": {
             "outlinewidth": 0,
             "ticks": ""
            },
            "type": "contourcarpet"
           }
          ],
          "heatmap": [
           {
            "colorbar": {
             "outlinewidth": 0,
             "ticks": ""
            },
            "colorscale": [
             [
              0,
              "#0d0887"
             ],
             [
              0.1111111111111111,
              "#46039f"
             ],
             [
              0.2222222222222222,
              "#7201a8"
             ],
             [
              0.3333333333333333,
              "#9c179e"
             ],
             [
              0.4444444444444444,
              "#bd3786"
             ],
             [
              0.5555555555555556,
              "#d8576b"
             ],
             [
              0.6666666666666666,
              "#ed7953"
             ],
             [
              0.7777777777777778,
              "#fb9f3a"
             ],
             [
              0.8888888888888888,
              "#fdca26"
             ],
             [
              1,
              "#f0f921"
             ]
            ],
            "type": "heatmap"
           }
          ],
          "histogram": [
           {
            "marker": {
             "pattern": {
              "fillmode": "overlay",
              "size": 10,
              "solidity": 0.2
             }
            },
            "type": "histogram"
           }
          ],
          "histogram2d": [
           {
            "colorbar": {
             "outlinewidth": 0,
             "ticks": ""
            },
            "colorscale": [
             [
              0,
              "#0d0887"
             ],
             [
              0.1111111111111111,
              "#46039f"
             ],
             [
              0.2222222222222222,
              "#7201a8"
             ],
             [
              0.3333333333333333,
              "#9c179e"
             ],
             [
              0.4444444444444444,
              "#bd3786"
             ],
             [
              0.5555555555555556,
              "#d8576b"
             ],
             [
              0.6666666666666666,
              "#ed7953"
             ],
             [
              0.7777777777777778,
              "#fb9f3a"
             ],
             [
              0.8888888888888888,
              "#fdca26"
             ],
             [
              1,
              "#f0f921"
             ]
            ],
            "type": "histogram2d"
           }
          ],
          "histogram2dcontour": [
           {
            "colorbar": {
             "outlinewidth": 0,
             "ticks": ""
            },
            "colorscale": [
             [
              0,
              "#0d0887"
             ],
             [
              0.1111111111111111,
              "#46039f"
             ],
             [
              0.2222222222222222,
              "#7201a8"
             ],
             [
              0.3333333333333333,
              "#9c179e"
             ],
             [
              0.4444444444444444,
              "#bd3786"
             ],
             [
              0.5555555555555556,
              "#d8576b"
             ],
             [
              0.6666666666666666,
              "#ed7953"
             ],
             [
              0.7777777777777778,
              "#fb9f3a"
             ],
             [
              0.8888888888888888,
              "#fdca26"
             ],
             [
              1,
              "#f0f921"
             ]
            ],
            "type": "histogram2dcontour"
           }
          ],
          "mesh3d": [
           {
            "colorbar": {
             "outlinewidth": 0,
             "ticks": ""
            },
            "type": "mesh3d"
           }
          ],
          "parcoords": [
           {
            "line": {
             "colorbar": {
              "outlinewidth": 0,
              "ticks": ""
             }
            },
            "type": "parcoords"
           }
          ],
          "pie": [
           {
            "automargin": true,
            "type": "pie"
           }
          ],
          "scatter": [
           {
            "fillpattern": {
             "fillmode": "overlay",
             "size": 10,
             "solidity": 0.2
            },
            "type": "scatter"
           }
          ],
          "scatter3d": [
           {
            "line": {
             "colorbar": {
              "outlinewidth": 0,
              "ticks": ""
             }
            },
            "marker": {
             "colorbar": {
              "outlinewidth": 0,
              "ticks": ""
             }
            },
            "type": "scatter3d"
           }
          ],
          "scattercarpet": [
           {
            "marker": {
             "colorbar": {
              "outlinewidth": 0,
              "ticks": ""
             }
            },
            "type": "scattercarpet"
           }
          ],
          "scattergeo": [
           {
            "marker": {
             "colorbar": {
              "outlinewidth": 0,
              "ticks": ""
             }
            },
            "type": "scattergeo"
           }
          ],
          "scattergl": [
           {
            "marker": {
             "colorbar": {
              "outlinewidth": 0,
              "ticks": ""
             }
            },
            "type": "scattergl"
           }
          ],
          "scattermap": [
           {
            "marker": {
             "colorbar": {
              "outlinewidth": 0,
              "ticks": ""
             }
            },
            "type": "scattermap"
           }
          ],
          "scattermapbox": [
           {
            "marker": {
             "colorbar": {
              "outlinewidth": 0,
              "ticks": ""
             }
            },
            "type": "scattermapbox"
           }
          ],
          "scatterpolar": [
           {
            "marker": {
             "colorbar": {
              "outlinewidth": 0,
              "ticks": ""
             }
            },
            "type": "scatterpolar"
           }
          ],
          "scatterpolargl": [
           {
            "marker": {
             "colorbar": {
              "outlinewidth": 0,
              "ticks": ""
             }
            },
            "type": "scatterpolargl"
           }
          ],
          "scatterternary": [
           {
            "marker": {
             "colorbar": {
              "outlinewidth": 0,
              "ticks": ""
             }
            },
            "type": "scatterternary"
           }
          ],
          "surface": [
           {
            "colorbar": {
             "outlinewidth": 0,
             "ticks": ""
            },
            "colorscale": [
             [
              0,
              "#0d0887"
             ],
             [
              0.1111111111111111,
              "#46039f"
             ],
             [
              0.2222222222222222,
              "#7201a8"
             ],
             [
              0.3333333333333333,
              "#9c179e"
             ],
             [
              0.4444444444444444,
              "#bd3786"
             ],
             [
              0.5555555555555556,
              "#d8576b"
             ],
             [
              0.6666666666666666,
              "#ed7953"
             ],
             [
              0.7777777777777778,
              "#fb9f3a"
             ],
             [
              0.8888888888888888,
              "#fdca26"
             ],
             [
              1,
              "#f0f921"
             ]
            ],
            "type": "surface"
           }
          ],
          "table": [
           {
            "cells": {
             "fill": {
              "color": "#EBF0F8"
             },
             "line": {
              "color": "white"
             }
            },
            "header": {
             "fill": {
              "color": "#C8D4E3"
             },
             "line": {
              "color": "white"
             }
            },
            "type": "table"
           }
          ]
         },
         "layout": {
          "annotationdefaults": {
           "arrowcolor": "#2a3f5f",
           "arrowhead": 0,
           "arrowwidth": 1
          },
          "autotypenumbers": "strict",
          "coloraxis": {
           "colorbar": {
            "outlinewidth": 0,
            "ticks": ""
           }
          },
          "colorscale": {
           "diverging": [
            [
             0,
             "#8e0152"
            ],
            [
             0.1,
             "#c51b7d"
            ],
            [
             0.2,
             "#de77ae"
            ],
            [
             0.3,
             "#f1b6da"
            ],
            [
             0.4,
             "#fde0ef"
            ],
            [
             0.5,
             "#f7f7f7"
            ],
            [
             0.6,
             "#e6f5d0"
            ],
            [
             0.7,
             "#b8e186"
            ],
            [
             0.8,
             "#7fbc41"
            ],
            [
             0.9,
             "#4d9221"
            ],
            [
             1,
             "#276419"
            ]
           ],
           "sequential": [
            [
             0,
             "#0d0887"
            ],
            [
             0.1111111111111111,
             "#46039f"
            ],
            [
             0.2222222222222222,
             "#7201a8"
            ],
            [
             0.3333333333333333,
             "#9c179e"
            ],
            [
             0.4444444444444444,
             "#bd3786"
            ],
            [
             0.5555555555555556,
             "#d8576b"
            ],
            [
             0.6666666666666666,
             "#ed7953"
            ],
            [
             0.7777777777777778,
             "#fb9f3a"
            ],
            [
             0.8888888888888888,
             "#fdca26"
            ],
            [
             1,
             "#f0f921"
            ]
           ],
           "sequentialminus": [
            [
             0,
             "#0d0887"
            ],
            [
             0.1111111111111111,
             "#46039f"
            ],
            [
             0.2222222222222222,
             "#7201a8"
            ],
            [
             0.3333333333333333,
             "#9c179e"
            ],
            [
             0.4444444444444444,
             "#bd3786"
            ],
            [
             0.5555555555555556,
             "#d8576b"
            ],
            [
             0.6666666666666666,
             "#ed7953"
            ],
            [
             0.7777777777777778,
             "#fb9f3a"
            ],
            [
             0.8888888888888888,
             "#fdca26"
            ],
            [
             1,
             "#f0f921"
            ]
           ]
          },
          "colorway": [
           "#636efa",
           "#EF553B",
           "#00cc96",
           "#ab63fa",
           "#FFA15A",
           "#19d3f3",
           "#FF6692",
           "#B6E880",
           "#FF97FF",
           "#FECB52"
          ],
          "font": {
           "color": "#2a3f5f"
          },
          "geo": {
           "bgcolor": "white",
           "lakecolor": "white",
           "landcolor": "#E5ECF6",
           "showlakes": true,
           "showland": true,
           "subunitcolor": "white"
          },
          "hoverlabel": {
           "align": "left"
          },
          "hovermode": "closest",
          "mapbox": {
           "style": "light"
          },
          "paper_bgcolor": "white",
          "plot_bgcolor": "#E5ECF6",
          "polar": {
           "angularaxis": {
            "gridcolor": "white",
            "linecolor": "white",
            "ticks": ""
           },
           "bgcolor": "#E5ECF6",
           "radialaxis": {
            "gridcolor": "white",
            "linecolor": "white",
            "ticks": ""
           }
          },
          "scene": {
           "xaxis": {
            "backgroundcolor": "#E5ECF6",
            "gridcolor": "white",
            "gridwidth": 2,
            "linecolor": "white",
            "showbackground": true,
            "ticks": "",
            "zerolinecolor": "white"
           },
           "yaxis": {
            "backgroundcolor": "#E5ECF6",
            "gridcolor": "white",
            "gridwidth": 2,
            "linecolor": "white",
            "showbackground": true,
            "ticks": "",
            "zerolinecolor": "white"
           },
           "zaxis": {
            "backgroundcolor": "#E5ECF6",
            "gridcolor": "white",
            "gridwidth": 2,
            "linecolor": "white",
            "showbackground": true,
            "ticks": "",
            "zerolinecolor": "white"
           }
          },
          "shapedefaults": {
           "line": {
            "color": "#2a3f5f"
           }
          },
          "ternary": {
           "aaxis": {
            "gridcolor": "white",
            "linecolor": "white",
            "ticks": ""
           },
           "baxis": {
            "gridcolor": "white",
            "linecolor": "white",
            "ticks": ""
           },
           "bgcolor": "#E5ECF6",
           "caxis": {
            "gridcolor": "white",
            "linecolor": "white",
            "ticks": ""
           }
          },
          "title": {
           "x": 0.05
          },
          "xaxis": {
           "automargin": true,
           "gridcolor": "white",
           "linecolor": "white",
           "ticks": "",
           "title": {
            "standoff": 15
           },
           "zerolinecolor": "white",
           "zerolinewidth": 2
          },
          "yaxis": {
           "automargin": true,
           "gridcolor": "white",
           "linecolor": "white",
           "ticks": "",
           "title": {
            "standoff": 15
           },
           "zerolinecolor": "white",
           "zerolinewidth": 2
          }
         }
        },
        "title": {
         "text": "ISOMAP"
        },
        "xaxis": {
         "anchor": "y",
         "domain": [
          0,
          1
         ],
         "title": {
          "text": "PC1"
         }
        },
        "yaxis": {
         "anchor": "x",
         "domain": [
          0,
          1
         ],
         "title": {
          "text": "PC2"
         }
        }
       }
      }
     },
     "metadata": {},
     "output_type": "display_data"
    }
   ],
   "source": [
    "fig_isomap_2d = px.scatter(df_isomap, x='PC1', y='PC2', color='tipoCultivo',\n",
    "                    labels = {'color':'tipoCultivo', 0:'PC1',1:'PC2'},\n",
    "                    title='ISOMAP')\n",
    "fig_isomap_2d.show()"
   ]
  },
  {
   "cell_type": "markdown",
   "id": "e0af2fb2",
   "metadata": {},
   "source": [
    "# T-SNE"
   ]
  },
  {
   "cell_type": "code",
   "execution_count": 342,
   "id": "7a88d8a1",
   "metadata": {},
   "outputs": [],
   "source": [
    "tsne = TSNE(n_components=2, init='random', method='exact', random_state=42, max_iter=1000, perplexity=30) \n",
    "X_reduced_tsne = tsne.fit_transform(x_escalado)\n",
    "\n",
    "tsne_df = pd.DataFrame(\n",
    "    data=X_reduced_tsne,\n",
    "    columns=['PC1', 'PC2'])\n",
    "tsne_df['tipoCultivo'] = y"
   ]
  },
  {
   "cell_type": "code",
   "execution_count": 343,
   "id": "edbed507",
   "metadata": {},
   "outputs": [
    {
     "data": {
      "application/vnd.plotly.v1+json": {
       "config": {
        "plotlyServerURL": "https://plot.ly"
       },
       "data": [
        {
         "hovertemplate": "tipoCultivo=Trigo<br>PC1=%{x}<br>PC2=%{y}<extra></extra>",
         "legendgroup": "Trigo",
         "marker": {
          "color": "#636efa",
          "symbol": "circle"
         },
         "mode": "markers",
         "name": "Trigo",
         "orientation": "v",
         "showlegend": true,
         "type": "scatter",
         "x": {
          "bdata": "ME/EQO79Y78FPBRAQxtywKCNq0DEt54/z7oFQT+sHkHDXrTAPxQov5fVEUFrBhrAA4NRwBzxIsEpMBxBc3vSwCe7GsEO12rAts+4wIAPqsBvV8k+iIBjwNJAnMCbG8Q/9xduPu58/UAFRAVBXf8vQV5g5z4VTIhAqy0LwUjCkkC8IB9Bggz5QFBNCD9pNTDB+o/dwELaEcFhV+PAaKPXQCf1o0AXROg/YwoxQSIo+j+LeUZATE2uQISTN8DoQpY/",
          "dtype": "f4"
         },
         "xaxis": "x",
         "y": {
          "bdata": "Oq2KwNK6JMAvhZs/y7y4P3rL0UDjZhPA59+QvtJEyT8S5brAu3w5wV8hsMCX4SlALVWsQKPitMBEaD/AfDrbQLKq5L8UIktAuEPmQIcQZ8D8Zt9Aj97UwLv5EsCA0MbAQnE2wRHK4kCZfG7AcVqOwEUYv0Axwak+ntDrvx9AksA7Rby/ySamv+Mf5cCRENo//32xQI8eXr6IRDNA3QO2wLsox7/vns3Af/VRQBQHG0BxVwHB0NUywAEjKMHiZwHA",
          "dtype": "f4"
         },
         "yaxis": "y"
        },
        {
         "hovertemplate": "tipoCultivo=Maiz<br>PC1=%{x}<br>PC2=%{y}<extra></extra>",
         "legendgroup": "Maiz",
         "marker": {
          "color": "#EF553B",
          "symbol": "circle"
         },
         "mode": "markers",
         "name": "Maiz",
         "orientation": "v",
         "showlegend": true,
         "type": "scatter",
         "x": {
          "bdata": "H/yKwHVyNMCkXBlBp2MNQUPRuT+TsspAw/8vwGWKpsAq9BTBQCPev5phRT/tNd7A5ITBwFxokD/QVfxAXG3Svr+Xhz87fIpAHUh8QCekEMGB8rpA4WL8QKKJmz7egz1ALG1DQIQJgsBiPz7BhTIMQZ29q0C3YXpAbN0lQDSXQ8AgdDjAquEHQX2z47/gSfK/XRTxwHeG2sAuKibBMEaLwJdtE0E87uu+gqf2wN2nqEAzfUhB6enBQP1IAEBl/qI/3M/bQA1b5EBn94c/ZdK9wKysg8ASzzvB",
          "dtype": "f4"
         },
         "xaxis": "x",
         "y": {
          "bdata": "JjTAwLNfrcAy2rPA6Fm3QF8+JcE80ns/vn84v32RIcECHMLAGwHaQOVHgj+bQg/BFlYEvcdImL4iR9ZAOgafP6+LskClw7DAIvI+wWkKCsEfcP/Au1B7QIpIoMDRLZZAQK+YwDkSAcGWikFAuNDHvNr2+T6YyUnAguv9QOvLFMBv9NtA9p+fwFMAGMHKDQTBO/HfQHIgB8FBSFA/E5R/wK2n/T8YDKPADASQQGCAL8He+I7AE0z7wNRrzEB0819A4xzZQN9gaECEoDbBUhQcwIY6OMF5+ozA",
          "dtype": "f4"
         },
         "yaxis": "y"
        },
        {
         "hovertemplate": "tipoCultivo=Soja<br>PC1=%{x}<br>PC2=%{y}<extra></extra>",
         "legendgroup": "Soja",
         "marker": {
          "color": "#00cc96",
          "symbol": "circle"
         },
         "mode": "markers",
         "name": "Soja",
         "orientation": "v",
         "showlegend": true,
         "type": "scatter",
         "x": {
          "bdata": "F9QmwQdlGcAcyepAyPgUwNg+EECM1cTAPjYJwVcwDr9uHDDBfoWnwAv6I8Dlmfm/UX/OPiIwur/rXefA5u9eQAv77L2hbJlApxkRQXjF28D8Com/GO8EwKqrz0AuqCk/8EQ0wayc3r/s+FM/K2dnP3RNPED+P6O/igkAQVoPNUGFkipA5r2KwEiO1UCheoPAwJtewOeFqkCxtcG/QomkwB4CtcDZaa1A9QgvwGMzJUHU96TASWYCQQ1VTj3yNvfADCsCQWwPqUBIJ/NA2Hy8QJ6BVcBuxAHBzUMIwaJ8MsGe+U9AVSaPQMtahUAjJnO/81UhQQ==",
          "dtype": "f4"
         },
         "xaxis": "x",
         "y": {
          "bdata": "fZ3JwL364T+n78Q/hyiGQF+ELsHcEg1AJtx4v8gJ5MB9sd3AuA4BwT8/A8H4gtA8ocdAQKEosL8eu5LAELwlQGUkBkGGnTnBiz3dv7X2xMDDQdjAXlujQBkyKD4Ncoc/eVCNwA99FUFdcRhBy/wRQRwFEEAnx3bAyCnTwFGwS0Aq7ffAYs6ewG99ZEC+yHo/i9mEQMQs5T8eBPlAOpgbQMBL6cC2EoJAWqQkwKpnzcAMUaG/4QKoP+ZYk0COUbg/ViquQJ/Zi8BWKEXAZgyOv9M5IcHQSA1AbjqEQBkDZMBAzn6/BpZFwdADGsA1i0HBxc3twA==",
          "dtype": "f4"
         },
         "yaxis": "y"
        }
       ],
       "layout": {
        "legend": {
         "title": {
          "text": "tipoCultivo"
         },
         "tracegroupgap": 0
        },
        "template": {
         "data": {
          "bar": [
           {
            "error_x": {
             "color": "#2a3f5f"
            },
            "error_y": {
             "color": "#2a3f5f"
            },
            "marker": {
             "line": {
              "color": "#E5ECF6",
              "width": 0.5
             },
             "pattern": {
              "fillmode": "overlay",
              "size": 10,
              "solidity": 0.2
             }
            },
            "type": "bar"
           }
          ],
          "barpolar": [
           {
            "marker": {
             "line": {
              "color": "#E5ECF6",
              "width": 0.5
             },
             "pattern": {
              "fillmode": "overlay",
              "size": 10,
              "solidity": 0.2
             }
            },
            "type": "barpolar"
           }
          ],
          "carpet": [
           {
            "aaxis": {
             "endlinecolor": "#2a3f5f",
             "gridcolor": "white",
             "linecolor": "white",
             "minorgridcolor": "white",
             "startlinecolor": "#2a3f5f"
            },
            "baxis": {
             "endlinecolor": "#2a3f5f",
             "gridcolor": "white",
             "linecolor": "white",
             "minorgridcolor": "white",
             "startlinecolor": "#2a3f5f"
            },
            "type": "carpet"
           }
          ],
          "choropleth": [
           {
            "colorbar": {
             "outlinewidth": 0,
             "ticks": ""
            },
            "type": "choropleth"
           }
          ],
          "contour": [
           {
            "colorbar": {
             "outlinewidth": 0,
             "ticks": ""
            },
            "colorscale": [
             [
              0,
              "#0d0887"
             ],
             [
              0.1111111111111111,
              "#46039f"
             ],
             [
              0.2222222222222222,
              "#7201a8"
             ],
             [
              0.3333333333333333,
              "#9c179e"
             ],
             [
              0.4444444444444444,
              "#bd3786"
             ],
             [
              0.5555555555555556,
              "#d8576b"
             ],
             [
              0.6666666666666666,
              "#ed7953"
             ],
             [
              0.7777777777777778,
              "#fb9f3a"
             ],
             [
              0.8888888888888888,
              "#fdca26"
             ],
             [
              1,
              "#f0f921"
             ]
            ],
            "type": "contour"
           }
          ],
          "contourcarpet": [
           {
            "colorbar": {
             "outlinewidth": 0,
             "ticks": ""
            },
            "type": "contourcarpet"
           }
          ],
          "heatmap": [
           {
            "colorbar": {
             "outlinewidth": 0,
             "ticks": ""
            },
            "colorscale": [
             [
              0,
              "#0d0887"
             ],
             [
              0.1111111111111111,
              "#46039f"
             ],
             [
              0.2222222222222222,
              "#7201a8"
             ],
             [
              0.3333333333333333,
              "#9c179e"
             ],
             [
              0.4444444444444444,
              "#bd3786"
             ],
             [
              0.5555555555555556,
              "#d8576b"
             ],
             [
              0.6666666666666666,
              "#ed7953"
             ],
             [
              0.7777777777777778,
              "#fb9f3a"
             ],
             [
              0.8888888888888888,
              "#fdca26"
             ],
             [
              1,
              "#f0f921"
             ]
            ],
            "type": "heatmap"
           }
          ],
          "histogram": [
           {
            "marker": {
             "pattern": {
              "fillmode": "overlay",
              "size": 10,
              "solidity": 0.2
             }
            },
            "type": "histogram"
           }
          ],
          "histogram2d": [
           {
            "colorbar": {
             "outlinewidth": 0,
             "ticks": ""
            },
            "colorscale": [
             [
              0,
              "#0d0887"
             ],
             [
              0.1111111111111111,
              "#46039f"
             ],
             [
              0.2222222222222222,
              "#7201a8"
             ],
             [
              0.3333333333333333,
              "#9c179e"
             ],
             [
              0.4444444444444444,
              "#bd3786"
             ],
             [
              0.5555555555555556,
              "#d8576b"
             ],
             [
              0.6666666666666666,
              "#ed7953"
             ],
             [
              0.7777777777777778,
              "#fb9f3a"
             ],
             [
              0.8888888888888888,
              "#fdca26"
             ],
             [
              1,
              "#f0f921"
             ]
            ],
            "type": "histogram2d"
           }
          ],
          "histogram2dcontour": [
           {
            "colorbar": {
             "outlinewidth": 0,
             "ticks": ""
            },
            "colorscale": [
             [
              0,
              "#0d0887"
             ],
             [
              0.1111111111111111,
              "#46039f"
             ],
             [
              0.2222222222222222,
              "#7201a8"
             ],
             [
              0.3333333333333333,
              "#9c179e"
             ],
             [
              0.4444444444444444,
              "#bd3786"
             ],
             [
              0.5555555555555556,
              "#d8576b"
             ],
             [
              0.6666666666666666,
              "#ed7953"
             ],
             [
              0.7777777777777778,
              "#fb9f3a"
             ],
             [
              0.8888888888888888,
              "#fdca26"
             ],
             [
              1,
              "#f0f921"
             ]
            ],
            "type": "histogram2dcontour"
           }
          ],
          "mesh3d": [
           {
            "colorbar": {
             "outlinewidth": 0,
             "ticks": ""
            },
            "type": "mesh3d"
           }
          ],
          "parcoords": [
           {
            "line": {
             "colorbar": {
              "outlinewidth": 0,
              "ticks": ""
             }
            },
            "type": "parcoords"
           }
          ],
          "pie": [
           {
            "automargin": true,
            "type": "pie"
           }
          ],
          "scatter": [
           {
            "fillpattern": {
             "fillmode": "overlay",
             "size": 10,
             "solidity": 0.2
            },
            "type": "scatter"
           }
          ],
          "scatter3d": [
           {
            "line": {
             "colorbar": {
              "outlinewidth": 0,
              "ticks": ""
             }
            },
            "marker": {
             "colorbar": {
              "outlinewidth": 0,
              "ticks": ""
             }
            },
            "type": "scatter3d"
           }
          ],
          "scattercarpet": [
           {
            "marker": {
             "colorbar": {
              "outlinewidth": 0,
              "ticks": ""
             }
            },
            "type": "scattercarpet"
           }
          ],
          "scattergeo": [
           {
            "marker": {
             "colorbar": {
              "outlinewidth": 0,
              "ticks": ""
             }
            },
            "type": "scattergeo"
           }
          ],
          "scattergl": [
           {
            "marker": {
             "colorbar": {
              "outlinewidth": 0,
              "ticks": ""
             }
            },
            "type": "scattergl"
           }
          ],
          "scattermap": [
           {
            "marker": {
             "colorbar": {
              "outlinewidth": 0,
              "ticks": ""
             }
            },
            "type": "scattermap"
           }
          ],
          "scattermapbox": [
           {
            "marker": {
             "colorbar": {
              "outlinewidth": 0,
              "ticks": ""
             }
            },
            "type": "scattermapbox"
           }
          ],
          "scatterpolar": [
           {
            "marker": {
             "colorbar": {
              "outlinewidth": 0,
              "ticks": ""
             }
            },
            "type": "scatterpolar"
           }
          ],
          "scatterpolargl": [
           {
            "marker": {
             "colorbar": {
              "outlinewidth": 0,
              "ticks": ""
             }
            },
            "type": "scatterpolargl"
           }
          ],
          "scatterternary": [
           {
            "marker": {
             "colorbar": {
              "outlinewidth": 0,
              "ticks": ""
             }
            },
            "type": "scatterternary"
           }
          ],
          "surface": [
           {
            "colorbar": {
             "outlinewidth": 0,
             "ticks": ""
            },
            "colorscale": [
             [
              0,
              "#0d0887"
             ],
             [
              0.1111111111111111,
              "#46039f"
             ],
             [
              0.2222222222222222,
              "#7201a8"
             ],
             [
              0.3333333333333333,
              "#9c179e"
             ],
             [
              0.4444444444444444,
              "#bd3786"
             ],
             [
              0.5555555555555556,
              "#d8576b"
             ],
             [
              0.6666666666666666,
              "#ed7953"
             ],
             [
              0.7777777777777778,
              "#fb9f3a"
             ],
             [
              0.8888888888888888,
              "#fdca26"
             ],
             [
              1,
              "#f0f921"
             ]
            ],
            "type": "surface"
           }
          ],
          "table": [
           {
            "cells": {
             "fill": {
              "color": "#EBF0F8"
             },
             "line": {
              "color": "white"
             }
            },
            "header": {
             "fill": {
              "color": "#C8D4E3"
             },
             "line": {
              "color": "white"
             }
            },
            "type": "table"
           }
          ]
         },
         "layout": {
          "annotationdefaults": {
           "arrowcolor": "#2a3f5f",
           "arrowhead": 0,
           "arrowwidth": 1
          },
          "autotypenumbers": "strict",
          "coloraxis": {
           "colorbar": {
            "outlinewidth": 0,
            "ticks": ""
           }
          },
          "colorscale": {
           "diverging": [
            [
             0,
             "#8e0152"
            ],
            [
             0.1,
             "#c51b7d"
            ],
            [
             0.2,
             "#de77ae"
            ],
            [
             0.3,
             "#f1b6da"
            ],
            [
             0.4,
             "#fde0ef"
            ],
            [
             0.5,
             "#f7f7f7"
            ],
            [
             0.6,
             "#e6f5d0"
            ],
            [
             0.7,
             "#b8e186"
            ],
            [
             0.8,
             "#7fbc41"
            ],
            [
             0.9,
             "#4d9221"
            ],
            [
             1,
             "#276419"
            ]
           ],
           "sequential": [
            [
             0,
             "#0d0887"
            ],
            [
             0.1111111111111111,
             "#46039f"
            ],
            [
             0.2222222222222222,
             "#7201a8"
            ],
            [
             0.3333333333333333,
             "#9c179e"
            ],
            [
             0.4444444444444444,
             "#bd3786"
            ],
            [
             0.5555555555555556,
             "#d8576b"
            ],
            [
             0.6666666666666666,
             "#ed7953"
            ],
            [
             0.7777777777777778,
             "#fb9f3a"
            ],
            [
             0.8888888888888888,
             "#fdca26"
            ],
            [
             1,
             "#f0f921"
            ]
           ],
           "sequentialminus": [
            [
             0,
             "#0d0887"
            ],
            [
             0.1111111111111111,
             "#46039f"
            ],
            [
             0.2222222222222222,
             "#7201a8"
            ],
            [
             0.3333333333333333,
             "#9c179e"
            ],
            [
             0.4444444444444444,
             "#bd3786"
            ],
            [
             0.5555555555555556,
             "#d8576b"
            ],
            [
             0.6666666666666666,
             "#ed7953"
            ],
            [
             0.7777777777777778,
             "#fb9f3a"
            ],
            [
             0.8888888888888888,
             "#fdca26"
            ],
            [
             1,
             "#f0f921"
            ]
           ]
          },
          "colorway": [
           "#636efa",
           "#EF553B",
           "#00cc96",
           "#ab63fa",
           "#FFA15A",
           "#19d3f3",
           "#FF6692",
           "#B6E880",
           "#FF97FF",
           "#FECB52"
          ],
          "font": {
           "color": "#2a3f5f"
          },
          "geo": {
           "bgcolor": "white",
           "lakecolor": "white",
           "landcolor": "#E5ECF6",
           "showlakes": true,
           "showland": true,
           "subunitcolor": "white"
          },
          "hoverlabel": {
           "align": "left"
          },
          "hovermode": "closest",
          "mapbox": {
           "style": "light"
          },
          "paper_bgcolor": "white",
          "plot_bgcolor": "#E5ECF6",
          "polar": {
           "angularaxis": {
            "gridcolor": "white",
            "linecolor": "white",
            "ticks": ""
           },
           "bgcolor": "#E5ECF6",
           "radialaxis": {
            "gridcolor": "white",
            "linecolor": "white",
            "ticks": ""
           }
          },
          "scene": {
           "xaxis": {
            "backgroundcolor": "#E5ECF6",
            "gridcolor": "white",
            "gridwidth": 2,
            "linecolor": "white",
            "showbackground": true,
            "ticks": "",
            "zerolinecolor": "white"
           },
           "yaxis": {
            "backgroundcolor": "#E5ECF6",
            "gridcolor": "white",
            "gridwidth": 2,
            "linecolor": "white",
            "showbackground": true,
            "ticks": "",
            "zerolinecolor": "white"
           },
           "zaxis": {
            "backgroundcolor": "#E5ECF6",
            "gridcolor": "white",
            "gridwidth": 2,
            "linecolor": "white",
            "showbackground": true,
            "ticks": "",
            "zerolinecolor": "white"
           }
          },
          "shapedefaults": {
           "line": {
            "color": "#2a3f5f"
           }
          },
          "ternary": {
           "aaxis": {
            "gridcolor": "white",
            "linecolor": "white",
            "ticks": ""
           },
           "baxis": {
            "gridcolor": "white",
            "linecolor": "white",
            "ticks": ""
           },
           "bgcolor": "#E5ECF6",
           "caxis": {
            "gridcolor": "white",
            "linecolor": "white",
            "ticks": ""
           }
          },
          "title": {
           "x": 0.05
          },
          "xaxis": {
           "automargin": true,
           "gridcolor": "white",
           "linecolor": "white",
           "ticks": "",
           "title": {
            "standoff": 15
           },
           "zerolinecolor": "white",
           "zerolinewidth": 2
          },
          "yaxis": {
           "automargin": true,
           "gridcolor": "white",
           "linecolor": "white",
           "ticks": "",
           "title": {
            "standoff": 15
           },
           "zerolinecolor": "white",
           "zerolinewidth": 2
          }
         }
        },
        "title": {
         "text": "T-SNE 2D Con PC1 y PC2"
        },
        "xaxis": {
         "anchor": "y",
         "domain": [
          0,
          1
         ],
         "title": {
          "text": "PC1"
         }
        },
        "yaxis": {
         "anchor": "x",
         "domain": [
          0,
          1
         ],
         "title": {
          "text": "PC2"
         }
        }
       }
      }
     },
     "metadata": {},
     "output_type": "display_data"
    }
   ],
   "source": [
    "fig_tsne_2d = px.scatter(tsne_df, x='PC1', y='PC2', color = y,\n",
    "                         labels = {'color':'tipoCultivo', 0:'PC1',1:'PC2'},\n",
    "                         title='T-SNE 2D Con PC1 y PC2')\n",
    "fig_tsne_2d.show()"
   ]
  },
  {
   "cell_type": "markdown",
   "id": "c8daf5bf",
   "metadata": {},
   "source": [
    "## K-MEANS"
   ]
  },
  {
   "cell_type": "code",
   "execution_count": 344,
   "id": "f405e7c5",
   "metadata": {},
   "outputs": [
    {
     "data": {
      "image/png": "[encoded data removed]",
      "text/plain": [
       "<Figure size 800x350 with 1 Axes>"
      ]
     },
     "metadata": {},
     "output_type": "display_data"
    }
   ],
   "source": [
    "Nc = range(1, 15)\n",
    "kmeans = [KMeans(n_clusters=k, random_state=42).fit(x_escalado) for k in Nc]\n",
    "\n",
    "# La suma de residuos cuadrados intra grupos de kMeans en sklearn se guarda en\n",
    "# el atributo inertia\n",
    "inertias = [model.inertia_ for model in kmeans]\n",
    "\n",
    "plt.figure(figsize=(8, 3.5))\n",
    "plt.plot(Nc,inertias, \"bo-\")\n",
    "plt.xlabel('Número de Clusters')\n",
    "plt.ylabel('RSS dentro de los grupos')\n",
    "plt.title('Gráfica de codo')\n",
    "plt.grid()\n",
    "plt.show()"
   ]
  },
  {
   "cell_type": "markdown",
   "id": "411aed69",
   "metadata": {},
   "source": [
    "GAP"
   ]
  },
  {
   "cell_type": "code",
   "execution_count": 345,
   "id": "2bd245c9",
   "metadata": {},
   "outputs": [],
   "source": [
    "def calculate_intra_cluster_dispersion(X, k):\n",
    "    kmeans = KMeans(n_clusters=k, random_state=42) \n",
    "    kmeans.fit(x_escalado)\n",
    "    return kmeans.inertia_"
   ]
  },
  {
   "cell_type": "code",
   "execution_count": 346,
   "id": "4c027208",
   "metadata": {},
   "outputs": [
    {
     "name": "stdout",
     "output_type": "stream",
     "text": [
      "Número óptimo de clusters según el Gap Statistic: 8\n"
     ]
    }
   ],
   "source": [
    "gaps = []\n",
    "max_k = 10\n",
    "\n",
    "# Calcula el Gap Statistic para determinar el número óptimo de clusters\n",
    "\n",
    "for k in range(1, max_k + 1):\n",
    "    # Calculo la inercia real sobre mis datos reales\n",
    "    real_inertia = calculate_intra_cluster_dispersion(x_escalado, k)\n",
    "    #Calculo la inercia de datos aleatorios con la misma estructura que mis datos originales\n",
    "    inertia_list = []\n",
    "    for _ in range(10):\n",
    "      random_data = np.random.rand(*x_escalado.shape)\n",
    "      intra_cluster_dispersion = calculate_intra_cluster_dispersion(random_data, k)\n",
    "      inertia_list.append(intra_cluster_dispersion)\n",
    "\n",
    "    reference_inertia = np.mean(inertia_list)\n",
    "\n",
    "    #Aplico la funcion de gap\n",
    "    gap = np.log(reference_inertia) - np.log(real_inertia)\n",
    "    gaps.append(gap)\n",
    "\n",
    "#se selecciona el valor de k (número de clusters) que maximiza el Gap Statistic.\n",
    "optimal_k = np.argmax(gaps) + 1\n",
    "\n",
    "print(\"Número óptimo de clusters según el Gap Statistic:\", optimal_k)"
   ]
  },
  {
   "cell_type": "markdown",
   "id": "ccd013e6",
   "metadata": {},
   "source": [
    "KMEANS de nuevo|"
   ]
  },
  {
   "cell_type": "code",
   "execution_count": 354,
   "id": "dee01881",
   "metadata": {},
   "outputs": [],
   "source": [
    "kmeans = KMeans(n_clusters=8, random_state=42, init='k-means++', n_init=5, algorithm='lloyd')\n",
    "kmeans.fit(x_escalado) #Entrenamos el modelo\n",
    "y_pred = kmeans.predict(x_escalado)"
   ]
  },
  {
   "cell_type": "code",
   "execution_count": 355,
   "id": "4d5c87bd",
   "metadata": {},
   "outputs": [
    {
     "data": {
      "text/html": [
       "<div>\n",
       "<style scoped>\n",
       "    .dataframe tbody tr th:only-of-type {\n",
       "        vertical-align: middle;\n",
       "    }\n",
       "\n",
       "    .dataframe tbody tr th {\n",
       "        vertical-align: top;\n",
       "    }\n",
       "\n",
       "    .dataframe thead th {\n",
       "        text-align: right;\n",
       "    }\n",
       "</style>\n",
       "<table border=\"1\" class=\"dataframe\">\n",
       "  <thead>\n",
       "    <tr style=\"text-align: right;\">\n",
       "      <th></th>\n",
       "      <th>PC1</th>\n",
       "      <th>PC2</th>\n",
       "      <th>PC3</th>\n",
       "      <th>PC4</th>\n",
       "      <th>PC5</th>\n",
       "      <th>PC6</th>\n",
       "      <th>PC7</th>\n",
       "      <th>PC8</th>\n",
       "      <th>PC9</th>\n",
       "      <th>PC10</th>\n",
       "      <th>PC11</th>\n",
       "      <th>PC12</th>\n",
       "      <th>PC13</th>\n",
       "      <th>PC14</th>\n",
       "      <th>PC15</th>\n",
       "      <th>PC16</th>\n",
       "      <th>tipoCultivo</th>\n",
       "      <th>Etiquetas KMeans</th>\n",
       "    </tr>\n",
       "  </thead>\n",
       "  <tbody>\n",
       "    <tr>\n",
       "      <th>0</th>\n",
       "      <td>-0.642346</td>\n",
       "      <td>1.783122</td>\n",
       "      <td>0.898370</td>\n",
       "      <td>-1.039368</td>\n",
       "      <td>0.030102</td>\n",
       "      <td>0.295266</td>\n",
       "      <td>0.461941</td>\n",
       "      <td>-0.098116</td>\n",
       "      <td>0.654414</td>\n",
       "      <td>-0.217500</td>\n",
       "      <td>0.180138</td>\n",
       "      <td>-0.656436</td>\n",
       "      <td>0.996865</td>\n",
       "      <td>-0.162915</td>\n",
       "      <td>0.303314</td>\n",
       "      <td>0.192924</td>\n",
       "      <td>Trigo</td>\n",
       "      <td>6</td>\n",
       "    </tr>\n",
       "    <tr>\n",
       "      <th>1</th>\n",
       "      <td>1.957355</td>\n",
       "      <td>-0.428663</td>\n",
       "      <td>1.521323</td>\n",
       "      <td>-0.034412</td>\n",
       "      <td>0.100274</td>\n",
       "      <td>-0.359182</td>\n",
       "      <td>-1.486390</td>\n",
       "      <td>-0.472308</td>\n",
       "      <td>-0.991359</td>\n",
       "      <td>-0.538066</td>\n",
       "      <td>0.073177</td>\n",
       "      <td>-0.380038</td>\n",
       "      <td>0.407967</td>\n",
       "      <td>-0.230813</td>\n",
       "      <td>-0.203880</td>\n",
       "      <td>0.643665</td>\n",
       "      <td>Maiz</td>\n",
       "      <td>3</td>\n",
       "    </tr>\n",
       "    <tr>\n",
       "      <th>2</th>\n",
       "      <td>1.659851</td>\n",
       "      <td>-0.758614</td>\n",
       "      <td>0.258841</td>\n",
       "      <td>1.131884</td>\n",
       "      <td>1.443107</td>\n",
       "      <td>0.868873</td>\n",
       "      <td>-1.345227</td>\n",
       "      <td>0.447661</td>\n",
       "      <td>-0.744343</td>\n",
       "      <td>-0.130929</td>\n",
       "      <td>-0.479013</td>\n",
       "      <td>0.033737</td>\n",
       "      <td>-0.657024</td>\n",
       "      <td>-0.560675</td>\n",
       "      <td>0.174475</td>\n",
       "      <td>-0.067440</td>\n",
       "      <td>Soja</td>\n",
       "      <td>3</td>\n",
       "    </tr>\n",
       "    <tr>\n",
       "      <th>3</th>\n",
       "      <td>-1.186677</td>\n",
       "      <td>-0.772195</td>\n",
       "      <td>0.271823</td>\n",
       "      <td>-0.872184</td>\n",
       "      <td>0.375715</td>\n",
       "      <td>-1.211770</td>\n",
       "      <td>0.286553</td>\n",
       "      <td>-0.499264</td>\n",
       "      <td>0.564099</td>\n",
       "      <td>0.867116</td>\n",
       "      <td>0.013516</td>\n",
       "      <td>0.354377</td>\n",
       "      <td>0.853552</td>\n",
       "      <td>0.208992</td>\n",
       "      <td>0.176219</td>\n",
       "      <td>-0.174991</td>\n",
       "      <td>Trigo</td>\n",
       "      <td>7</td>\n",
       "    </tr>\n",
       "    <tr>\n",
       "      <th>4</th>\n",
       "      <td>1.000885</td>\n",
       "      <td>-0.839987</td>\n",
       "      <td>-1.294042</td>\n",
       "      <td>-0.280310</td>\n",
       "      <td>-1.410824</td>\n",
       "      <td>-0.903628</td>\n",
       "      <td>-1.048971</td>\n",
       "      <td>-0.560749</td>\n",
       "      <td>-0.025696</td>\n",
       "      <td>-0.102753</td>\n",
       "      <td>-0.708308</td>\n",
       "      <td>-0.550314</td>\n",
       "      <td>-0.214532</td>\n",
       "      <td>0.363164</td>\n",
       "      <td>-0.269542</td>\n",
       "      <td>0.260040</td>\n",
       "      <td>Soja</td>\n",
       "      <td>5</td>\n",
       "    </tr>\n",
       "  </tbody>\n",
       "</table>\n",
       "</div>"
      ],
      "text/plain": [
       "        PC1       PC2       PC3       PC4       PC5       PC6       PC7  \\\n",
       "0 -0.642346  1.783122  0.898370 -1.039368  0.030102  0.295266  0.461941   \n",
       "1  1.957355 -0.428663  1.521323 -0.034412  0.100274 -0.359182 -1.486390   \n",
       "2  1.659851 -0.758614  0.258841  1.131884  1.443107  0.868873 -1.345227   \n",
       "3 -1.186677 -0.772195  0.271823 -0.872184  0.375715 -1.211770  0.286553   \n",
       "4  1.000885 -0.839987 -1.294042 -0.280310 -1.410824 -0.903628 -1.048971   \n",
       "\n",
       "        PC8       PC9      PC10      PC11      PC12      PC13      PC14  \\\n",
       "0 -0.098116  0.654414 -0.217500  0.180138 -0.656436  0.996865 -0.162915   \n",
       "1 -0.472308 -0.991359 -0.538066  0.073177 -0.380038  0.407967 -0.230813   \n",
       "2  0.447661 -0.744343 -0.130929 -0.479013  0.033737 -0.657024 -0.560675   \n",
       "3 -0.499264  0.564099  0.867116  0.013516  0.354377  0.853552  0.208992   \n",
       "4 -0.560749 -0.025696 -0.102753 -0.708308 -0.550314 -0.214532  0.363164   \n",
       "\n",
       "       PC15      PC16 tipoCultivo Etiquetas KMeans  \n",
       "0  0.303314  0.192924       Trigo                6  \n",
       "1 -0.203880  0.643665        Maiz                3  \n",
       "2  0.174475 -0.067440        Soja                3  \n",
       "3  0.176219 -0.174991       Trigo                7  \n",
       "4 -0.269542  0.260040        Soja                5  "
      ]
     },
     "execution_count": 355,
     "metadata": {},
     "output_type": "execute_result"
    }
   ],
   "source": [
    "df_kmeans = pca_df.copy()\n",
    "\n",
    "df_kmeans['Etiquetas KMeans'] = kmeans.labels_\n",
    "df_kmeans['Etiquetas KMeans'] = df_kmeans['Etiquetas KMeans'].astype('category')\n",
    "df_kmeans.head()"
   ]
  },
  {
   "cell_type": "code",
   "execution_count": 356,
   "id": "493d15c0",
   "metadata": {},
   "outputs": [
    {
     "data": {
      "text/plain": [
       "array([[ 0.715707,  0.442185, -0.746982, -0.054073,  0.680299,  0.164778,\n",
       "        -0.739447, -0.363288, -0.977325,  0.352941,  0.352941,  0.294118,\n",
       "         0.529412,  0.411765,  0.294118,  0.529412],\n",
       "       [-1.083596,  0.977604, -0.226312, -0.594076,  0.157304,  0.361751,\n",
       "         0.171152,  1.191365, -0.046059,  0.428571,  0.214286,  0.142857,\n",
       "         0.285714,  0.285714,  0.214286,  0.357143],\n",
       "       [ 0.444322,  0.024281,  0.474712, -0.696095, -0.447861, -1.038742,\n",
       "        -0.189947, -0.017314, -0.715219,  0.296296,  0.333333,  0.555556,\n",
       "         0.148148,  0.37037 ,  0.333333,  0.407407],\n",
       "       [ 0.140746, -0.464759,  0.117639,  0.484859,  0.764355, -0.828243,\n",
       "         1.068929,  0.498674,  0.309148,  0.190476,  0.47619 ,  0.238095,\n",
       "         0.428571,  0.190476,  0.333333,  0.619048],\n",
       "       [ 1.134442, -0.531835,  0.593203,  0.640476, -0.492155,  0.98033 ,\n",
       "         0.809569,  0.19656 ,  0.415309,  0.2     ,  0.6     ,  0.133333,\n",
       "         0.533333,  0.4     ,  0.333333,  0.466667],\n",
       "       [-0.814936, -1.085776, -0.197783,  0.113829, -0.719545,  0.371826,\n",
       "         0.295395, -0.333852, -0.655273,  0.291667,  0.291667,  0.333333,\n",
       "         0.291667,  0.458333,  0.25    ,  0.541667],\n",
       "       [ 0.18873 ,  0.948809,  1.090557,  0.661805, -0.088941, -0.191499,\n",
       "        -0.968132, -0.25597 ,  0.938245,  0.277778,  0.333333,  0.388889,\n",
       "         0.166667,  0.222222,  0.444444,  0.5     ],\n",
       "       [-0.474235,  0.179939, -0.859329, -0.237137,  0.315771,  0.644135,\n",
       "        -0.331522, -0.401348,  0.840247,  0.37037 ,  0.259259,  0.37037 ,\n",
       "         0.333333,  0.259259,  0.333333,  0.333333]])"
      ]
     },
     "execution_count": 356,
     "metadata": {},
     "output_type": "execute_result"
    }
   ],
   "source": [
    "np.set_printoptions(precision=6)\n",
    "kmeans.cluster_centers_\n",
    "# caracteristicas normalizadas que tendria el centroide de ese cluster."
   ]
  },
  {
   "cell_type": "code",
   "execution_count": 357,
   "id": "4891db4a",
   "metadata": {},
   "outputs": [
    {
     "data": {
      "application/vnd.plotly.v1+json": {
       "config": {
        "plotlyServerURL": "https://plot.ly"
       },
       "data": [
        {
         "hovertemplate": "Etiquetas KMeans=6<br>PC1=%{x}<br>PC2=%{y}<br>PC3=%{z}<extra></extra>",
         "legendgroup": "6",
         "marker": {
          "color": "#636efa",
          "symbol": "circle"
         },
         "mode": "markers",
         "name": "6",
         "scene": "scene",
         "showlegend": true,
         "type": "scatter3d",
         "x": {
          "bdata": "Jy4kehiO5L/toNLbtimWv6T3oNt3Fe8/hOQ3M+8esb9JeVWN2fTgP3MGTZNlKMM/AAcKRW450T/CpNBJI9XBv5h5dbVJIf+/hhyXPoa/9D9/dzwq7dbsv23L3lE32cC/iTtzE7Yi6D9QXNEFkhTOv2R0+Oc2NKg/ZhXfvMs+wr+2Ha02OkfHv5DGdBLndPu/",
          "dtype": "f8"
         },
         "y": {
          "bdata": "MJmn3qqH/D9jj+wYMt8HQFci7bTnOwJA9ePl73uFB0CkLlLmmr4EQIm8y2HUtgFAUcQlUNB9/D9FfyvE158AQP5puYKDTPw/QLOewASy+D9EzoxbPWUCQAVV1On/4/s//dTTgX5MAEAX+/DYH4DlP0W2bmKk4fQ/0vRUZq5o+T86b35o9/sBQMadehUrbfo/",
          "dtype": "f8"
         },
         "z": {
          "bdata": "2zF+cnO/7D/Zsyzl0rbrP4DXPSiqfQHA3W8DY91Xyb9dEfrfPQThv1iLWRZZzd4/2uzxomOB27+ALn0vFKTkv/zcAQEdYfq/4AuTZVNI3z+0fcgN5KbqPx4WngQvA9Y/IVaAPy9F6T+KkMVsUm34P6LrfjNogLc/P6wVbK428T9bImjM8/vrvx5Ws8HDsPE/",
          "dtype": "f8"
         }
        },
        {
         "hovertemplate": "Etiquetas KMeans=3<br>PC1=%{x}<br>PC2=%{y}<br>PC3=%{z}<extra></extra>",
         "legendgroup": "3",
         "marker": {
          "color": "#EF553B",
          "symbol": "circle"
         },
         "mode": "markers",
         "name": "3",
         "scene": "scene",
         "showlegend": true,
         "type": "scatter3d",
         "x": {
          "bdata": "jidMhVNR/z/1vHsFwI76P8PEe1nLFwFA/0S7cudt5T/izb6dJtL1P6zx7kkpPvM/3bls7MFZ7T/q4Pc2I+j5P0KjjKSZR/M/uu01MbUC6D+kBYSPdFL3PyZz3pUdUQRA4Qfw78vi4j/zPddSRrDbPy3dpfRhdeA/mZvY6gil8D8K53WUCwniP+D6e76XfgZASXsAX14J3D+gOPmkeSz8P9UlWuj/c+E/",
          "dtype": "f8"
         },
         "y": {
          "bdata": "zrV1rjhv27/VQrJbkUbov2oe/MlGaN+/8u7QgZMh2r8E7mJXwSHHP8HZRyBmqLq/v0XGJtI8/T+JS6PjWsfyv5AT4/LnCua/pqxm+BIb6b/yIt4fDFnrv57qdyolnMU/w7n7clyK8b/Cp5qEtpCrP3Bme/LOPOc/US26nygg5j+x3p8YcDHov6I+MEX5id6/GQMUQgX3p78V6KoQVE4DQKQ0LZvlBfk/",
          "dtype": "f8"
         },
         "z": {
          "bdata": "YFKc8VZX+D+rVSfx2pDQP94z7upTnNw/EpDXlAFO2T9Q9TL+ALnZP3U1x4Ccysa/BZw4fH+59j/wgm7DZth9v490EKtlbPI/6KdbWqIK/D99ND29aY7GP42BX6X1guQ/Cs2hnYJp1z+jZnrimW3uP/p2vfl7Xtg/jP5mv2JDwD/sOQyzkmqqv8Acl0TdV+c/gSIfSuhG9z/AEtHP6iblP9f2Ha6ckABA",
          "dtype": "f8"
         }
        },
        {
         "hovertemplate": "Etiquetas KMeans=7<br>PC1=%{x}<br>PC2=%{y}<br>PC3=%{z}<extra></extra>",
         "legendgroup": "7",
         "marker": {
          "color": "#00cc96",
          "symbol": "circle"
         },
         "mode": "markers",
         "name": "7",
         "scene": "scene",
         "showlegend": true,
         "type": "scatter3d",
         "x": {
          "bdata": "o0RqPKH88r83AK+K8Krev43RCE+j0vm/gusBiYix+b+1kKpBr03bv3NrGNaJZP+/arqFCs9dAMBxeg8Jtqrev3GaJDvlufC/jzAKqGak+r+UcgnCPcn2v41lLOtGtvO/9fRUB9Cw7r8VRv8nFnsAwBoHMZit1ADAC+9sKnxN8r/cpdjST+CpPzaegrDdw/i/uFBtYE+F9r+HVupbeyTpv4nJ7Etpnue/3paKdidXA8BSupzUaPvnv8qfls2vNvG/CsHFdlXdBsDZQpOFuP7svwiUmMDGO+2/",
          "dtype": "f8"
         },
         "y": {
          "bdata": "a3d1OtK16L8FRyNSD0TUPyA2RJBgB+i/LnaSSmlm8r8oFYwT8HfBv/tZLp0Am9Y/eJBJ+mMb6D8DKHG/5G7hP2G74Z+ymuu/NSazOQmQ0z8osHZ7yevxv0UVe5n8fuc/fe24Od2T5T+ErVe22CPyv5I01MWi89E/1+58aL7//78EONqxJJ/bP/qJAjh4Ou8/acSGCPgh6T+hWC4kvBXRP4JzibYy1OQ/L+iXOTxHtT+CEuoNcjvsv0K6dYuel9U/lzQMEK4y5z930FOaAdPhv5QDB4k9dsE/",
          "dtype": "f8"
         },
         "z": {
          "bdata": "FsRpYo5l0T+OyFI1ZmjQP4JYLKN5fpc/SkK5yL4E1z/aQB7KJpncP9xqCNn6s4i/sN9kK/9A6D9s4wzCc+bzP/tZy1sC9Ps/a8YXOzWw8z9cUP0Ynrn7Pyub4LbxDsm/uphFuecp2z/11JEZWVLzP54/fDTvl9O/dc8R4xWU6D+xQDVlosD5P0w48p1YEtg/ivx07bys2L/Zw0QibdzxP+gBDbRt9Pk/CN4FbmC7ob+CCFAGvO0CQKXuSK++kuY/eGwxeeHV3D/f6TkvlG/6PzFfCjeP8wBA",
          "dtype": "f8"
         }
        },
        {
         "hovertemplate": "Etiquetas KMeans=5<br>PC1=%{x}<br>PC2=%{y}<br>PC3=%{z}<extra></extra>",
         "legendgroup": "5",
         "marker": {
          "color": "#ab63fa",
          "symbol": "circle"
         },
         "mode": "markers",
         "name": "5",
         "scene": "scene",
         "showlegend": true,
         "type": "scatter3d",
         "x": {
          "bdata": "IhKNIKAD8D/n4IOAY8j3P4B6UqlaAtA/l7f2zWIg3D8PcQ/s1MHUv2hcLVv6pdY/soThzhYDzL+qMvtJB/CjP/AxCdQ47t6/E8z0k9vL6r9fI0v/mWTyv3WxrLv5sdo/ugN5d0hR5D+RnpcxAMjQPzML4NbpitQ/kze6Py3Hzb/+JtPYZ//iP2iRzKbEDdI/x11/o4125T9P++srA0Pzv9dD0K9HLrc/4ARDlpkk8T+Z/yubcfrVv67Jj91Phd6/",
          "dtype": "f8"
         },
         "y": {
          "bdata": "mKNhmyzh6r+eHxqtrBz0v1Zt9KPVN/O/9RETYoRl7L9LUxjFzFT1vzIM5pgxOfq/R89BMQ5E87+13zTwRt/9v5Kbqnlntuq/7O9bIDjY478EfDaF8Qjov7FBxTIhF9U/0FkirHVn57+Bb2Rzv/u2v/ZUweV32fq/PfSQgMz5A8BEGy0w1Jf3v33gEm4ZiPq/yDrF2xZOBcAuCmb9nw3vv5qfy9G78AHALh/Abruz+7/bkCGheMQEwFHydZeVCvq/",
          "dtype": "f8"
         },
         "z": {
          "bdata": "ChmYkWW09L+w2qbp5ivSP5Xy579Py80/1QvBhU8f7D9gFohHZPvwv/o4UcdhWO2/eYJ9Ap9O9b/48QWetnPQP8+KeoYX6vK/9AaugsVw9L+v9naTdYfov4jSTrNSH/W/m3b+WyjO6D8WzPIOC6vXP7IpPdCzGOi/6JJdT1XR4b+fEo+Qhs30P9DL77kTdXW/3NscXpGs5r90MQVf7mLtv8LNk7hjMcS/1/hYquon6j+0EgiwLE3CP05+vjUT0eu/",
          "dtype": "f8"
         }
        },
        {
         "hovertemplate": "Etiquetas KMeans=1<br>PC1=%{x}<br>PC2=%{y}<br>PC3=%{z}<extra></extra>",
         "legendgroup": "1",
         "marker": {
          "color": "#FFA15A",
          "symbol": "circle"
         },
         "mode": "markers",
         "name": "1",
         "scene": "scene",
         "showlegend": true,
         "type": "scatter3d",
         "x": {
          "bdata": "WcpWbyL7uz+dkaFu6eX0v3V0xdvJTbo/CHPIZ4OW8L8iIQeainHlP/vYglTq/Mm/cptF/udw/b+ZvWeSTzv4v2HVYRXJ4fm/HbwIiOlx978k+Y71C0Luv+cGSzqQTfG/r0pIjHmn+783Y8zzjVfjvw==",
          "dtype": "f8"
         },
         "y": {
          "bdata": "PFGd3Svs1T+58SY8bo34v7ZlChQt0eM/NlFIp3UG8T9wrkmeO/vlv1f6mwiRhvC/3D8fjKhS8L/QXFw5z+nnvwQA5l4WCtm/kcNkYiSW1T+YYtoq9uvhv5Z7OG51y+q/UZxl7cE/778VsZPncVXBPw==",
          "dtype": "f8"
         },
         "z": {
          "bdata": "bUD8FN91AUCU9YfTFTjlv7IIqCNbIck/4qZSiMPE0j/nWDyDr9HwP8oLTmpIffE/zPGAUFNM5r8Miks4dvaSPygpJCAOYtW/CG81MPDK1D8irPmF+ADLP+k+Z1EIE+C/3RWkgmG4/D9mRCQMOsncPw==",
          "dtype": "f8"
         }
        },
        {
         "hovertemplate": "Etiquetas KMeans=2<br>PC1=%{x}<br>PC2=%{y}<br>PC3=%{z}<extra></extra>",
         "legendgroup": "2",
         "marker": {
          "color": "#19d3f3",
          "symbol": "circle"
         },
         "mode": "markers",
         "name": "2",
         "scene": "scene",
         "showlegend": true,
         "type": "scatter3d",
         "x": {
          "bdata": "eVwjPM942D9QFLMr2ynEP04FEXrehfE/T28MfJUh9z+SWDo888eDP+yoGhN3L9+/K1ZU/W8k8L/uFxviFr/IP8fmD0UPPOA/iJFt6Zxe+D+Cs64zx3n1PwrcJOhxV/m/v4zSr/4r5D9IfB0CRcsAQGxNYCzBVeM/d1fkM19b/j/GNpEd443/P/PNl5oab9Y/Sx55tC1H4792kASByRHqP2b043YCbto/wasiLhDh+L+ZfxYHPybZP/cO+aLi6u8/xdjZUlHb4b+3DxijeHPxv2BmIH+iR/M/",
          "dtype": "f8"
         },
         "y": {
          "bdata": "3j/8CizV6T+cX5aGyYbHv2wFjrdaBug/AMJ52CZ34L92kg1nVgz0v3oo7Vjh1eY/Op3GrCHI37/RN7/R6qLzPwNg6asAnJO/MWfs0HIk8j+8leUKap/RP26C1HtFR7C/hAifEfZk2j+o7n+NOZXxv4v63fuyX/a/24wNPfOm7z+zXhZVC1izv/wXX5ZuHvQ/8iLDi2sysj++HWC72EDMvxExCZ5bAOE/g8NZKE8f2D8o0o6kKvukv3mSnsWdi/Q/EWEYub7a6j8jLiKczcbVP7qSWx+MNNy/",
          "dtype": "f8"
         },
         "z": {
          "bdata": "fYWghK8m+L/nnjsRoRj3v2zpyL4LruC/mGTlA1ak+7/avxsJtFz2v6vkTLexugPAegL7O4X5+r8ENi9u+0HxvyWg9MImXfm/4B0ioLYHAMAeI7h088jqv5z0dYGCrPC/OhAw85+f9r+vC4Ar1lHpvwGkWHYFc/2/FEHMk9F5/L8PNaf034AAwJEhM1CCB/q/tfXDdcLn+L94rFufqpf4vyaQj0VNUgDAPaVG6Y1rBsDkH4Wuh9juv1FekLNIyuu/dVpn/FWq/b8ssp2EEaTzvxa0BtvjnOK/",
          "dtype": "f8"
         }
        },
        {
         "hovertemplate": "Etiquetas KMeans=4<br>PC1=%{x}<br>PC2=%{y}<br>PC3=%{z}<extra></extra>",
         "legendgroup": "4",
         "marker": {
          "color": "#FF6692",
          "symbol": "circle"
         },
         "mode": "markers",
         "name": "4",
         "scene": "scene",
         "showlegend": true,
         "type": "scatter3d",
         "x": {
          "bdata": "5kYtzb1uA0B+Qzav/0v8P+aolPGBvvM/HPC+mWDe7j/NJ5FifQzyP16AvM1iDfQ/dBqgy+SR/T81q5qiPd7Rv8D2T8hEyvM/YJ3qHdQo/T9A14Vgeo/gP1we/1zN1gVAASxL9ee7uT/qGgn97zH7P9Q5lUMvHs4/",
          "dtype": "f8"
         },
         "y": {
          "bdata": "GpMPckAb7b/jN7Q3FzP1vwZYEyZxid+/4/ItVyNz4j/2qOrKcqunvyzeVEF8lu8/nT9jqXaZ0T/PsOWln5+1vwVnFfVvctQ/FxxOfxdMvT/mG6hDZl7hPxsZGwPitfI/JDyEO4c8pD9d3yg/bBkBwK+mU0R3YOK/",
          "dtype": "f8"
         },
         "z": {
          "bdata": "LW0rn93e5z9L8U788E/jvxd4bO8Ugvw/QqwtTvtS+T8DGWQNy0XnP0mVxANuUfk/VGmoxBc50L/+WeI9tPyQP9hq1yZA3d4/9bhjDw7d5z99RlEv4msAQLtahYmUufG/UTEduoLa/T8GBYk5zvjnv7BicerHfwFA",
          "dtype": "f8"
         }
        },
        {
         "hovertemplate": "Etiquetas KMeans=0<br>PC1=%{x}<br>PC2=%{y}<br>PC3=%{z}<extra></extra>",
         "legendgroup": "0",
         "marker": {
          "color": "#B6E880",
          "symbol": "circle"
         },
         "mode": "markers",
         "name": "0",
         "scene": "scene",
         "showlegend": true,
         "type": "scatter3d",
         "x": {
          "bdata": "5ulqr3tI979c6mZITyHjv3X8TSmCb94/NH0MRih48b/PhfR6V6TRv36ShidQGtW/hDICy1nr579q2E31UdmCP2pVYHYYFqa/gKODNLEW9T9zCo9nVxzvv1I+nMImb92/5o5T+eX7AcBfO1inlwjUv5eh6bZ+lbu/IBI3A3QK8L+1ozZ0L3D3vw==",
          "dtype": "f8"
         },
         "y": {
          "bdata": "RDZ+sjWq8r8+PDcm9znEP0l731fBCPO/xx3Eogcz6j+1Xc3Ie5zlP7ualzrc+t6/IU9L70Qy1z+zEw3H7fT1PzihaVv4Qs2/Qo8BMY/g8D8jqaPLGdnrv74uxT6Tb+s/Ja6jnmSIuz/VSdtl+hy8Px67kw8Nq/S/AFxetbmIyr9/Hcb44Sbcvw==",
          "dtype": "f8"
         },
         "z": {
          "bdata": "5ongmCO/7L/soAAhRfPWv7i9KZLJtdU/1RNDYPM98L9Cg9NHFXvhP1EW7Ci6pOY/S7DJoWY/kD8s0ehT/vK6v96uW5oqN9q/qBHLraVj379T0oCuF3zpv/ivDkHTQte/HZ5U/HhY+b96pYMdChnxv9NZ/sFjcuI/vFw538IR5b+3u0SBqxjqvw==",
          "dtype": "f8"
         }
        }
       ],
       "layout": {
        "legend": {
         "title": {
          "text": "Etiquetas KMeans"
         },
         "tracegroupgap": 0
        },
        "scene": {
         "domain": {
          "x": [
           0,
           1
          ],
          "y": [
           0,
           1
          ]
         },
         "xaxis": {
          "title": {
           "text": "PC1"
          }
         },
         "yaxis": {
          "title": {
           "text": "PC2"
          }
         },
         "zaxis": {
          "title": {
           "text": "PC3"
          }
         }
        },
        "template": {
         "data": {
          "bar": [
           {
            "error_x": {
             "color": "#2a3f5f"
            },
            "error_y": {
             "color": "#2a3f5f"
            },
            "marker": {
             "line": {
              "color": "#E5ECF6",
              "width": 0.5
             },
             "pattern": {
              "fillmode": "overlay",
              "size": 10,
              "solidity": 0.2
             }
            },
            "type": "bar"
           }
          ],
          "barpolar": [
           {
            "marker": {
             "line": {
              "color": "#E5ECF6",
              "width": 0.5
             },
             "pattern": {
              "fillmode": "overlay",
              "size": 10,
              "solidity": 0.2
             }
            },
            "type": "barpolar"
           }
          ],
          "carpet": [
           {
            "aaxis": {
             "endlinecolor": "#2a3f5f",
             "gridcolor": "white",
             "linecolor": "white",
             "minorgridcolor": "white",
             "startlinecolor": "#2a3f5f"
            },
            "baxis": {
             "endlinecolor": "#2a3f5f",
             "gridcolor": "white",
             "linecolor": "white",
             "minorgridcolor": "white",
             "startlinecolor": "#2a3f5f"
            },
            "type": "carpet"
           }
          ],
          "choropleth": [
           {
            "colorbar": {
             "outlinewidth": 0,
             "ticks": ""
            },
            "type": "choropleth"
           }
          ],
          "contour": [
           {
            "colorbar": {
             "outlinewidth": 0,
             "ticks": ""
            },
            "colorscale": [
             [
              0,
              "#0d0887"
             ],
             [
              0.1111111111111111,
              "#46039f"
             ],
             [
              0.2222222222222222,
              "#7201a8"
             ],
             [
              0.3333333333333333,
              "#9c179e"
             ],
             [
              0.4444444444444444,
              "#bd3786"
             ],
             [
              0.5555555555555556,
              "#d8576b"
             ],
             [
              0.6666666666666666,
              "#ed7953"
             ],
             [
              0.7777777777777778,
              "#fb9f3a"
             ],
             [
              0.8888888888888888,
              "#fdca26"
             ],
             [
              1,
              "#f0f921"
             ]
            ],
            "type": "contour"
           }
          ],
          "contourcarpet": [
           {
            "colorbar": {
             "outlinewidth": 0,
             "ticks": ""
            },
            "type": "contourcarpet"
           }
          ],
          "heatmap": [
           {
            "colorbar": {
             "outlinewidth": 0,
             "ticks": ""
            },
            "colorscale": [
             [
              0,
              "#0d0887"
             ],
             [
              0.1111111111111111,
              "#46039f"
             ],
             [
              0.2222222222222222,
              "#7201a8"
             ],
             [
              0.3333333333333333,
              "#9c179e"
             ],
             [
              0.4444444444444444,
              "#bd3786"
             ],
             [
              0.5555555555555556,
              "#d8576b"
             ],
             [
              0.6666666666666666,
              "#ed7953"
             ],
             [
              0.7777777777777778,
              "#fb9f3a"
             ],
             [
              0.8888888888888888,
              "#fdca26"
             ],
             [
              1,
              "#f0f921"
             ]
            ],
            "type": "heatmap"
           }
          ],
          "histogram": [
           {
            "marker": {
             "pattern": {
              "fillmode": "overlay",
              "size": 10,
              "solidity": 0.2
             }
            },
            "type": "histogram"
           }
          ],
          "histogram2d": [
           {
            "colorbar": {
             "outlinewidth": 0,
             "ticks": ""
            },
            "colorscale": [
             [
              0,
              "#0d0887"
             ],
             [
              0.1111111111111111,
              "#46039f"
             ],
             [
              0.2222222222222222,
              "#7201a8"
             ],
             [
              0.3333333333333333,
              "#9c179e"
             ],
             [
              0.4444444444444444,
              "#bd3786"
             ],
             [
              0.5555555555555556,
              "#d8576b"
             ],
             [
              0.6666666666666666,
              "#ed7953"
             ],
             [
              0.7777777777777778,
              "#fb9f3a"
             ],
             [
              0.8888888888888888,
              "#fdca26"
             ],
             [
              1,
              "#f0f921"
             ]
            ],
            "type": "histogram2d"
           }
          ],
          "histogram2dcontour": [
           {
            "colorbar": {
             "outlinewidth": 0,
             "ticks": ""
            },
            "colorscale": [
             [
              0,
              "#0d0887"
             ],
             [
              0.1111111111111111,
              "#46039f"
             ],
             [
              0.2222222222222222,
              "#7201a8"
             ],
             [
              0.3333333333333333,
              "#9c179e"
             ],
             [
              0.4444444444444444,
              "#bd3786"
             ],
             [
              0.5555555555555556,
              "#d8576b"
             ],
             [
              0.6666666666666666,
              "#ed7953"
             ],
             [
              0.7777777777777778,
              "#fb9f3a"
             ],
             [
              0.8888888888888888,
              "#fdca26"
             ],
             [
              1,
              "#f0f921"
             ]
            ],
            "type": "histogram2dcontour"
           }
          ],
          "mesh3d": [
           {
            "colorbar": {
             "outlinewidth": 0,
             "ticks": ""
            },
            "type": "mesh3d"
           }
          ],
          "parcoords": [
           {
            "line": {
             "colorbar": {
              "outlinewidth": 0,
              "ticks": ""
             }
            },
            "type": "parcoords"
           }
          ],
          "pie": [
           {
            "automargin": true,
            "type": "pie"
           }
          ],
          "scatter": [
           {
            "fillpattern": {
             "fillmode": "overlay",
             "size": 10,
             "solidity": 0.2
            },
            "type": "scatter"
           }
          ],
          "scatter3d": [
           {
            "line": {
             "colorbar": {
              "outlinewidth": 0,
              "ticks": ""
             }
            },
            "marker": {
             "colorbar": {
              "outlinewidth": 0,
              "ticks": ""
             }
            },
            "type": "scatter3d"
           }
          ],
          "scattercarpet": [
           {
            "marker": {
             "colorbar": {
              "outlinewidth": 0,
              "ticks": ""
             }
            },
            "type": "scattercarpet"
           }
          ],
          "scattergeo": [
           {
            "marker": {
             "colorbar": {
              "outlinewidth": 0,
              "ticks": ""
             }
            },
            "type": "scattergeo"
           }
          ],
          "scattergl": [
           {
            "marker": {
             "colorbar": {
              "outlinewidth": 0,
              "ticks": ""
             }
            },
            "type": "scattergl"
           }
          ],
          "scattermap": [
           {
            "marker": {
             "colorbar": {
              "outlinewidth": 0,
              "ticks": ""
             }
            },
            "type": "scattermap"
           }
          ],
          "scattermapbox": [
           {
            "marker": {
             "colorbar": {
              "outlinewidth": 0,
              "ticks": ""
             }
            },
            "type": "scattermapbox"
           }
          ],
          "scatterpolar": [
           {
            "marker": {
             "colorbar": {
              "outlinewidth": 0,
              "ticks": ""
             }
            },
            "type": "scatterpolar"
           }
          ],
          "scatterpolargl": [
           {
            "marker": {
             "colorbar": {
              "outlinewidth": 0,
              "ticks": ""
             }
            },
            "type": "scatterpolargl"
           }
          ],
          "scatterternary": [
           {
            "marker": {
             "colorbar": {
              "outlinewidth": 0,
              "ticks": ""
             }
            },
            "type": "scatterternary"
           }
          ],
          "surface": [
           {
            "colorbar": {
             "outlinewidth": 0,
             "ticks": ""
            },
            "colorscale": [
             [
              0,
              "#0d0887"
             ],
             [
              0.1111111111111111,
              "#46039f"
             ],
             [
              0.2222222222222222,
              "#7201a8"
             ],
             [
              0.3333333333333333,
              "#9c179e"
             ],
             [
              0.4444444444444444,
              "#bd3786"
             ],
             [
              0.5555555555555556,
              "#d8576b"
             ],
             [
              0.6666666666666666,
              "#ed7953"
             ],
             [
              0.7777777777777778,
              "#fb9f3a"
             ],
             [
              0.8888888888888888,
              "#fdca26"
             ],
             [
              1,
              "#f0f921"
             ]
            ],
            "type": "surface"
           }
          ],
          "table": [
           {
            "cells": {
             "fill": {
              "color": "#EBF0F8"
             },
             "line": {
              "color": "white"
             }
            },
            "header": {
             "fill": {
              "color": "#C8D4E3"
             },
             "line": {
              "color": "white"
             }
            },
            "type": "table"
           }
          ]
         },
         "layout": {
          "annotationdefaults": {
           "arrowcolor": "#2a3f5f",
           "arrowhead": 0,
           "arrowwidth": 1
          },
          "autotypenumbers": "strict",
          "coloraxis": {
           "colorbar": {
            "outlinewidth": 0,
            "ticks": ""
           }
          },
          "colorscale": {
           "diverging": [
            [
             0,
             "#8e0152"
            ],
            [
             0.1,
             "#c51b7d"
            ],
            [
             0.2,
             "#de77ae"
            ],
            [
             0.3,
             "#f1b6da"
            ],
            [
             0.4,
             "#fde0ef"
            ],
            [
             0.5,
             "#f7f7f7"
            ],
            [
             0.6,
             "#e6f5d0"
            ],
            [
             0.7,
             "#b8e186"
            ],
            [
             0.8,
             "#7fbc41"
            ],
            [
             0.9,
             "#4d9221"
            ],
            [
             1,
             "#276419"
            ]
           ],
           "sequential": [
            [
             0,
             "#0d0887"
            ],
            [
             0.1111111111111111,
             "#46039f"
            ],
            [
             0.2222222222222222,
             "#7201a8"
            ],
            [
             0.3333333333333333,
             "#9c179e"
            ],
            [
             0.4444444444444444,
             "#bd3786"
            ],
            [
             0.5555555555555556,
             "#d8576b"
            ],
            [
             0.6666666666666666,
             "#ed7953"
            ],
            [
             0.7777777777777778,
             "#fb9f3a"
            ],
            [
             0.8888888888888888,
             "#fdca26"
            ],
            [
             1,
             "#f0f921"
            ]
           ],
           "sequentialminus": [
            [
             0,
             "#0d0887"
            ],
            [
             0.1111111111111111,
             "#46039f"
            ],
            [
             0.2222222222222222,
             "#7201a8"
            ],
            [
             0.3333333333333333,
             "#9c179e"
            ],
            [
             0.4444444444444444,
             "#bd3786"
            ],
            [
             0.5555555555555556,
             "#d8576b"
            ],
            [
             0.6666666666666666,
             "#ed7953"
            ],
            [
             0.7777777777777778,
             "#fb9f3a"
            ],
            [
             0.8888888888888888,
             "#fdca26"
            ],
            [
             1,
             "#f0f921"
            ]
           ]
          },
          "colorway": [
           "#636efa",
           "#EF553B",
           "#00cc96",
           "#ab63fa",
           "#FFA15A",
           "#19d3f3",
           "#FF6692",
           "#B6E880",
           "#FF97FF",
           "#FECB52"
          ],
          "font": {
           "color": "#2a3f5f"
          },
          "geo": {
           "bgcolor": "white",
           "lakecolor": "white",
           "landcolor": "#E5ECF6",
           "showlakes": true,
           "showland": true,
           "subunitcolor": "white"
          },
          "hoverlabel": {
           "align": "left"
          },
          "hovermode": "closest",
          "mapbox": {
           "style": "light"
          },
          "paper_bgcolor": "white",
          "plot_bgcolor": "#E5ECF6",
          "polar": {
           "angularaxis": {
            "gridcolor": "white",
            "linecolor": "white",
            "ticks": ""
           },
           "bgcolor": "#E5ECF6",
           "radialaxis": {
            "gridcolor": "white",
            "linecolor": "white",
            "ticks": ""
           }
          },
          "scene": {
           "xaxis": {
            "backgroundcolor": "#E5ECF6",
            "gridcolor": "white",
            "gridwidth": 2,
            "linecolor": "white",
            "showbackground": true,
            "ticks": "",
            "zerolinecolor": "white"
           },
           "yaxis": {
            "backgroundcolor": "#E5ECF6",
            "gridcolor": "white",
            "gridwidth": 2,
            "linecolor": "white",
            "showbackground": true,
            "ticks": "",
            "zerolinecolor": "white"
           },
           "zaxis": {
            "backgroundcolor": "#E5ECF6",
            "gridcolor": "white",
            "gridwidth": 2,
            "linecolor": "white",
            "showbackground": true,
            "ticks": "",
            "zerolinecolor": "white"
           }
          },
          "shapedefaults": {
           "line": {
            "color": "#2a3f5f"
           }
          },
          "ternary": {
           "aaxis": {
            "gridcolor": "white",
            "linecolor": "white",
            "ticks": ""
           },
           "baxis": {
            "gridcolor": "white",
            "linecolor": "white",
            "ticks": ""
           },
           "bgcolor": "#E5ECF6",
           "caxis": {
            "gridcolor": "white",
            "linecolor": "white",
            "ticks": ""
           }
          },
          "title": {
           "x": 0.05
          },
          "xaxis": {
           "automargin": true,
           "gridcolor": "white",
           "linecolor": "white",
           "ticks": "",
           "title": {
            "standoff": 15
           },
           "zerolinecolor": "white",
           "zerolinewidth": 2
          },
          "yaxis": {
           "automargin": true,
           "gridcolor": "white",
           "linecolor": "white",
           "ticks": "",
           "title": {
            "standoff": 15
           },
           "zerolinecolor": "white",
           "zerolinewidth": 2
          }
         }
        },
        "title": {
         "text": "Dispersión de las variedades de trigo (K-means)"
        }
       }
      }
     },
     "metadata": {},
     "output_type": "display_data"
    }
   ],
   "source": [
    "fig = px.scatter_3d(df_kmeans, x='PC1', y='PC2', z='PC3',\n",
    "                    color='Etiquetas KMeans',\n",
    "                    title='Dispersión de las variedades de trigo (K-means)')\n",
    "fig.show()"
   ]
  },
  {
   "cell_type": "markdown",
   "id": "00ad5f7e",
   "metadata": {},
   "source": [
    "## Clustering jerarquico"
   ]
  },
  {
   "cell_type": "code",
   "execution_count": 358,
   "id": "2e44adfb",
   "metadata": {},
   "outputs": [],
   "source": [
    "Z = linkage(x_escalado, \"ward\")"
   ]
  },
  {
   "cell_type": "code",
   "execution_count": 359,
   "id": "f8664a47",
   "metadata": {},
   "outputs": [
    {
     "data": {
      "image/png": "[encoded data removed]",
      "text/plain": [
       "<Figure size 640x480 with 1 Axes>"
      ]
     },
     "metadata": {},
     "output_type": "display_data"
    }
   ],
   "source": [
    "dendrogram(Z,  truncate_mode = 'lastp', p = 20, show_leaf_counts = True,\n",
    "           show_contracted = True)\n",
    "plt.axhline(y=110, c='k', linestyle='dashed')\n",
    "plt.xlabel(\"Numero de puntos en el nodo\")\n",
    "plt.show()"
   ]
  },
  {
   "cell_type": "code",
   "execution_count": null,
   "id": "aad6b690",
   "metadata": {},
   "outputs": [
    {
     "ename": "ValueError",
     "evalue": "Unsupported dtype object",
     "output_type": "error",
     "traceback": [
      "\u001b[31m---------------------------------------------------------------------------\u001b[39m",
      "\u001b[31mValueError\u001b[39m                                Traceback (most recent call last)",
      "\u001b[36mCell\u001b[39m\u001b[36m \u001b[39m\u001b[32mIn[360]\u001b[39m\u001b[32m, line 7\u001b[39m\n\u001b[32m      4\u001b[39m clustering.fit(x_escalado)\n\u001b[32m      6\u001b[39m \u001b[38;5;66;03m# Calcula la matriz de distancias por pares entre los puntos\u001b[39;00m\n\u001b[32m----> \u001b[39m\u001b[32m7\u001b[39m pairwise_distances = \u001b[43mcdist\u001b[49m\u001b[43m(\u001b[49m\u001b[43mx_escalado\u001b[49m\u001b[43m,\u001b[49m\u001b[43m \u001b[49m\u001b[43mx_escalado\u001b[49m\u001b[43m,\u001b[49m\u001b[43m \u001b[49m\u001b[33;43m'\u001b[39;49m\u001b[33;43meuclidean\u001b[39;49m\u001b[33;43m'\u001b[39;49m\u001b[43m)\u001b[49m\n\u001b[32m      9\u001b[39m \u001b[38;5;66;03m# Calcula la distancia total dentro de los clusters\u001b[39;00m\n\u001b[32m     10\u001b[39m distancia_total = \u001b[32m0\u001b[39m\n",
      "\u001b[36mFile \u001b[39m\u001b[32mc:\\Users\\Nico\\AppData\\Local\\Programs\\Python\\Python312\\Lib\\site-packages\\scipy\\spatial\\distance.py:3134\u001b[39m, in \u001b[36mcdist\u001b[39m\u001b[34m(XA, XB, metric, out, **kwargs)\u001b[39m\n\u001b[32m   3132\u001b[39m \u001b[38;5;28;01mif\u001b[39;00m metric_info \u001b[38;5;129;01mis\u001b[39;00m \u001b[38;5;129;01mnot\u001b[39;00m \u001b[38;5;28;01mNone\u001b[39;00m:\n\u001b[32m   3133\u001b[39m     cdist_fn = metric_info.cdist_func\n\u001b[32m-> \u001b[39m\u001b[32m3134\u001b[39m     \u001b[38;5;28;01mreturn\u001b[39;00m \u001b[43mcdist_fn\u001b[49m\u001b[43m(\u001b[49m\u001b[43mXA\u001b[49m\u001b[43m,\u001b[49m\u001b[43m \u001b[49m\u001b[43mXB\u001b[49m\u001b[43m,\u001b[49m\u001b[43m \u001b[49m\u001b[43mout\u001b[49m\u001b[43m=\u001b[49m\u001b[43mout\u001b[49m\u001b[43m,\u001b[49m\u001b[43m \u001b[49m\u001b[43m*\u001b[49m\u001b[43m*\u001b[49m\u001b[43mkwargs\u001b[49m\u001b[43m)\u001b[49m\n\u001b[32m   3135\u001b[39m \u001b[38;5;28;01melif\u001b[39;00m mstr.startswith(\u001b[33m\"\u001b[39m\u001b[33mtest_\u001b[39m\u001b[33m\"\u001b[39m):\n\u001b[32m   3136\u001b[39m     metric_info = _TEST_METRICS.get(mstr, \u001b[38;5;28;01mNone\u001b[39;00m)\n",
      "\u001b[31mValueError\u001b[39m: Unsupported dtype object"
     ]
    }
   ],
   "source": [
    "distancias=[]\n",
    "for i in range(1, 10):\n",
    "    clustering = AgglomerativeClustering(n_clusters=i) # Aplica clustering jerárquico con i clusters\n",
    "    clustering.fit(x_escalado)\n",
    "\n",
    "    # Calcula la matriz de distancias por pares entre los puntos\n",
    "    pairwise_distances = cdist(x_escalado, x_escalado, 'euclidean')\n",
    "\n",
    "    # Calcula la distancia total dentro de los clusters\n",
    "    distancia_total = 0\n",
    "    for j in range(i):\n",
    "        cluster_indices = np.where(clustering.labels_ == j)\n",
    "        # Encuentra los índices de los puntos en el cluster j\n",
    "        distancia_total += pairwise_distances[cluster_indices][:, cluster_indices].sum()\n",
    "        # Suma las distancias dentro del cluster\n",
    "\n",
    "\n",
    "    distancias.append(distancia_total)\n",
    "    # Almacena la distancia total para el número de clusters i"
   ]
  },
  {
   "cell_type": "code",
   "execution_count": null,
   "id": "44cb1d3a",
   "metadata": {},
   "outputs": [
    {
     "data": {
      "image/png": "[encoded data removed]",
      "text/plain": [
       "<Figure size 640x480 with 1 Axes>"
      ]
     },
     "metadata": {},
     "output_type": "display_data"
    }
   ],
   "source": [
    "# Grafica la distancia total en función del número de clusters\n",
    "plt.plot(range(1, 10), distancias, marker='o')\n",
    "plt.xlabel('Número de Clusters')\n",
    "plt.ylabel('Distancia Total')\n",
    "plt.title('Método del Codo para Clustering Jerárquico')\n",
    "plt.grid()\n",
    "plt.show()"
   ]
  },
  {
   "cell_type": "code",
   "execution_count": null,
   "id": "7df18783",
   "metadata": {},
   "outputs": [],
   "source": [
    "n_clusters = 5\n",
    "def calculate_intra_cluster_dispersion(X_scaled, k, linkage='ward'):\n",
    "    clustering = AgglomerativeClustering(n_clusters=n_clusters, linkage=linkage)\n",
    "    labels = clustering.fit_predict(X_scaled)\n",
    "\n",
    "    # Calcula los centroides de los clústeres como la media de los puntos dentro de cada clúster\n",
    "    centroids = np.array([np.mean(X_scaled[labels == i], axis=0) for i in range(k)])\n",
    "\n",
    "    # Calcula la dispersión intraclúster sumando las distancias al cuadrado entre los puntos y sus centroides\n",
    "    # np.linalg.norm calcula la norma (distancia euclidiana) entre los puntos y el centroide correspondiente\n",
    "    intra_cluster_dispersion = np.sum(np.linalg.norm(X_scaled[labels] - centroids[labels], axis=1)**2)\n",
    "    return intra_cluster_dispersion"
   ]
  },
  {
   "cell_type": "code",
   "execution_count": null,
   "id": "6c683072",
   "metadata": {},
   "outputs": [],
   "source": [
    "# gaps = []\n",
    "# max_k = 15\n",
    "# for k in range(1, max_k + 1):\n",
    "#     # Calcula la dispersión intraclúster en los datos reales para 'k' clústeres\n",
    "#     real_inertia = calculate_intra_cluster_dispersion(x_escalado, k, linkage='ward')\n",
    "\n",
    "#     inertia_list = []\n",
    "#     for _ in range(10):\n",
    "#       random_data = np.random.rand(*x_escalado.shape)\n",
    "#       intra_cluster_dispersion = calculate_intra_cluster_dispersion(random_data, k)\n",
    "#       inertia_list.append(intra_cluster_dispersion)\n",
    "\n",
    "#     reference_inertia = np.mean(inertia_list)\n",
    "\n",
    "#     gap = np.log(reference_inertia) - np.log(real_inertia)\n",
    "#     gaps.append(gap)\n",
    "\n",
    "# optimal_k = np.argmax(gaps) + 1"
   ]
  },
  {
   "cell_type": "code",
   "execution_count": null,
   "id": "b901876c",
   "metadata": {},
   "outputs": [
    {
     "name": "stdout",
     "output_type": "stream",
     "text": [
      "Número óptimo de clusters según el Gap Statistic: 13\n"
     ]
    },
    {
     "data": {
      "image/png": "[encoded data removed]",
      "text/plain": [
       "<Figure size 1000x600 with 1 Axes>"
      ]
     },
     "metadata": {},
     "output_type": "display_data"
    }
   ],
   "source": [
    "print(\"Número óptimo de clusters según el Gap Statistic:\", optimal_k)\n",
    "\n",
    "plt.figure(figsize=(10, 6))\n",
    "plt.plot(range(1, max_k + 1), gaps, marker='o')\n",
    "plt.xlabel('Número de Clusters (k)')\n",
    "plt.ylabel('Gap Statistic')\n",
    "plt.title('Gap Statistic para determinar el número óptimo de clusters (Clustering Jerárquico)')\n",
    "plt.xticks([x for x in range(2,16,1)])\n",
    "plt.show()"
   ]
  },
  {
   "cell_type": "code",
   "execution_count": null,
   "id": "207983ab",
   "metadata": {},
   "outputs": [
    {
     "data": {
      "text/html": [
       "<div>\n",
       "<style scoped>\n",
       "    .dataframe tbody tr th:only-of-type {\n",
       "        vertical-align: middle;\n",
       "    }\n",
       "\n",
       "    .dataframe tbody tr th {\n",
       "        vertical-align: top;\n",
       "    }\n",
       "\n",
       "    .dataframe thead th {\n",
       "        text-align: right;\n",
       "    }\n",
       "</style>\n",
       "<table border=\"1\" class=\"dataframe\">\n",
       "  <thead>\n",
       "    <tr style=\"text-align: right;\">\n",
       "      <th></th>\n",
       "      <th>humedadSuelo(%)</th>\n",
       "      <th>pHSuelo</th>\n",
       "      <th>temperatura(°C)</th>\n",
       "      <th>precipitacion(mm)</th>\n",
       "      <th>humedad(%)</th>\n",
       "      <th>horasLuzSolar</th>\n",
       "      <th>mlPesticida</th>\n",
       "      <th>rendimientoKg_hectarea</th>\n",
       "      <th>indiceNDVI</th>\n",
       "      <th>tipoRiego_Goteo</th>\n",
       "      <th>tipoRiego_Manual</th>\n",
       "      <th>tipoFertilizante_Mixto</th>\n",
       "      <th>tipoFertilizante_Organico</th>\n",
       "      <th>estadoEnfermedadesCultivo_Moderate</th>\n",
       "      <th>estadoEnfermedadesCultivo_Severo</th>\n",
       "      <th>mas_120_dias</th>\n",
       "      <th>Etiquetas jerarquico</th>\n",
       "    </tr>\n",
       "  </thead>\n",
       "  <tbody>\n",
       "    <tr>\n",
       "      <th>0</th>\n",
       "      <td>0.394017</td>\n",
       "      <td>1.040927</td>\n",
       "      <td>0.468253</td>\n",
       "      <td>1.084461</td>\n",
       "      <td>0.129232</td>\n",
       "      <td>0.715899</td>\n",
       "      <td>-0.807933</td>\n",
       "      <td>-1.060408</td>\n",
       "      <td>1.132157</td>\n",
       "      <td>1.525297</td>\n",
       "      <td>-0.733305</td>\n",
       "      <td>1.420746</td>\n",
       "      <td>-0.694131</td>\n",
       "      <td>-0.694131</td>\n",
       "      <td>-0.684448</td>\n",
       "      <td>1.069924</td>\n",
       "      <td>3</td>\n",
       "    </tr>\n",
       "    <tr>\n",
       "      <th>1</th>\n",
       "      <td>0.173440</td>\n",
       "      <td>-1.323141</td>\n",
       "      <td>-0.511037</td>\n",
       "      <td>1.501523</td>\n",
       "      <td>0.951804</td>\n",
       "      <td>-0.874106</td>\n",
       "      <td>1.589491</td>\n",
       "      <td>0.961703</td>\n",
       "      <td>0.569187</td>\n",
       "      <td>-0.655610</td>\n",
       "      <td>-0.733305</td>\n",
       "      <td>1.420746</td>\n",
       "      <td>-0.694131</td>\n",
       "      <td>-0.694131</td>\n",
       "      <td>-0.684448</td>\n",
       "      <td>1.069924</td>\n",
       "      <td>1</td>\n",
       "    </tr>\n",
       "    <tr>\n",
       "      <th>2</th>\n",
       "      <td>1.508827</td>\n",
       "      <td>-0.288861</td>\n",
       "      <td>-1.089796</td>\n",
       "      <td>-0.003546</td>\n",
       "      <td>0.676418</td>\n",
       "      <td>-1.005182</td>\n",
       "      <td>1.750307</td>\n",
       "      <td>1.251525</td>\n",
       "      <td>-0.556753</td>\n",
       "      <td>-0.655610</td>\n",
       "      <td>1.363690</td>\n",
       "      <td>-0.703856</td>\n",
       "      <td>-0.694131</td>\n",
       "      <td>-0.694131</td>\n",
       "      <td>-0.684448</td>\n",
       "      <td>-0.934646</td>\n",
       "      <td>1</td>\n",
       "    </tr>\n",
       "    <tr>\n",
       "      <th>3</th>\n",
       "      <td>-1.188775</td>\n",
       "      <td>-0.272444</td>\n",
       "      <td>-0.279151</td>\n",
       "      <td>-0.247304</td>\n",
       "      <td>0.672833</td>\n",
       "      <td>0.607619</td>\n",
       "      <td>-0.225437</td>\n",
       "      <td>-1.488661</td>\n",
       "      <td>-0.275268</td>\n",
       "      <td>1.525297</td>\n",
       "      <td>-0.733305</td>\n",
       "      <td>-0.703856</td>\n",
       "      <td>1.440650</td>\n",
       "      <td>1.440650</td>\n",
       "      <td>-0.684448</td>\n",
       "      <td>1.069924</td>\n",
       "      <td>2</td>\n",
       "    </tr>\n",
       "    <tr>\n",
       "      <th>4</th>\n",
       "      <td>-1.247397</td>\n",
       "      <td>-1.076884</td>\n",
       "      <td>0.378181</td>\n",
       "      <td>0.455088</td>\n",
       "      <td>-1.097812</td>\n",
       "      <td>-1.284430</td>\n",
       "      <td>0.414123</td>\n",
       "      <td>0.411652</td>\n",
       "      <td>-1.007130</td>\n",
       "      <td>-0.655610</td>\n",
       "      <td>-0.733305</td>\n",
       "      <td>1.420746</td>\n",
       "      <td>-0.694131</td>\n",
       "      <td>1.440650</td>\n",
       "      <td>-0.684448</td>\n",
       "      <td>-0.934646</td>\n",
       "      <td>3</td>\n",
       "    </tr>\n",
       "  </tbody>\n",
       "</table>\n",
       "</div>"
      ],
      "text/plain": [
       "   humedadSuelo(%)   pHSuelo  temperatura(°C)  precipitacion(mm)  humedad(%)  \\\n",
       "0         0.394017  1.040927         0.468253           1.084461    0.129232   \n",
       "1         0.173440 -1.323141        -0.511037           1.501523    0.951804   \n",
       "2         1.508827 -0.288861        -1.089796          -0.003546    0.676418   \n",
       "3        -1.188775 -0.272444        -0.279151          -0.247304    0.672833   \n",
       "4        -1.247397 -1.076884         0.378181           0.455088   -1.097812   \n",
       "\n",
       "   horasLuzSolar  mlPesticida  rendimientoKg_hectarea  indiceNDVI  \\\n",
       "0       0.715899    -0.807933               -1.060408    1.132157   \n",
       "1      -0.874106     1.589491                0.961703    0.569187   \n",
       "2      -1.005182     1.750307                1.251525   -0.556753   \n",
       "3       0.607619    -0.225437               -1.488661   -0.275268   \n",
       "4      -1.284430     0.414123                0.411652   -1.007130   \n",
       "\n",
       "   tipoRiego_Goteo  tipoRiego_Manual  tipoFertilizante_Mixto  \\\n",
       "0         1.525297         -0.733305                1.420746   \n",
       "1        -0.655610         -0.733305                1.420746   \n",
       "2        -0.655610          1.363690               -0.703856   \n",
       "3         1.525297         -0.733305               -0.703856   \n",
       "4        -0.655610         -0.733305                1.420746   \n",
       "\n",
       "   tipoFertilizante_Organico  estadoEnfermedadesCultivo_Moderate  \\\n",
       "0                  -0.694131                           -0.694131   \n",
       "1                  -0.694131                           -0.694131   \n",
       "2                  -0.694131                           -0.694131   \n",
       "3                   1.440650                            1.440650   \n",
       "4                  -0.694131                            1.440650   \n",
       "\n",
       "   estadoEnfermedadesCultivo_Severo  mas_120_dias  Etiquetas jerarquico  \n",
       "0                         -0.684448      1.069924                     3  \n",
       "1                         -0.684448      1.069924                     1  \n",
       "2                         -0.684448     -0.934646                     1  \n",
       "3                         -0.684448      1.069924                     2  \n",
       "4                         -0.684448     -0.934646                     3  "
      ]
     },
     "execution_count": 184,
     "metadata": {},
     "output_type": "execute_result"
    }
   ],
   "source": [
    "n_clusters = 5\n",
    "\n",
    "clustering = AgglomerativeClustering(n_clusters=n_clusters)\n",
    "\n",
    "cluster_assignments = clustering.fit_predict(x_escalado) # Asigna los clusters a los datos\n",
    "\n",
    "df_clustering = x_escalado.copy()\n",
    "\n",
    "df_clustering['Etiquetas jerarquico'] = cluster_assignments # Añade la columna con el cluster asignado a cada punto\n",
    "\n",
    "df_clustering.head()"
   ]
  },
  {
   "cell_type": "code",
   "execution_count": null,
   "id": "aec1a7d4",
   "metadata": {},
   "outputs": [
    {
     "data": {
      "application/vnd.plotly.v1+json": {
       "config": {
        "plotlyServerURL": "https://plot.ly"
       },
       "data": [
        {
         "hovertemplate": "humedadSuelo(%)=%{x}<br>pHSuelo=%{y}<br>temperatura(°C)=%{z}<br>Etiquetas jerarquico=%{marker.color}<extra></extra>",
         "legendgroup": "",
         "marker": {
          "color": {
           "bdata": "AwEBAgMABAAABAEEAQECAgEBAwACAAEDAgECAQQAAQECAQADAwQDAwQBAwABAAMCAQQBAwADAwEDAwQDAwMDAQIDAQMBAQECAQECAAMCAwABAQAEAwEAAAAAAAECAAIBAwMCAwMDAgICAQABAAABAgABAwECAwABAQEDBAABBAIEAQMBAAMCBAQBBAABAwQBAwQCAQIBBAQBAQAAAAABAAIBBA==",
           "dtype": "i1"
          },
          "coloraxis": "coloraxis",
          "symbol": "circle"
         },
         "mode": "markers",
         "name": "",
         "scene": "scene",
         "showlegend": false,
         "type": "scatter3d",
         "x": {
          "bdata": "RuCmcZM32T9nDPmTRTPGP4Efc/UnJPg/zOc6sTgF879shTc7VvXzv9FUz3m6RO+/AmtaqZh94j+bWcZpi/Lsv4YjpVasrd6/+JFyLDEM17/5ZXEaFTr8P6Uk7ARZQvI/C5gv/ZCM6T+K+0hSQcjxP/Oe8Iz41uS/bRp8xWuYuj9CCEVTTBfjv03vveJuQfo/J32wCrzj4z+t6zvDljzvv98eEIXguuW/QMOcTz+j57/VSbwHu6T1v/HFyZ95tOc/9y1YhT4i0b8mnCKuoVnuPxk6EZcV1Oe/z59yLC8Dob9xUsVXtSbSv2yFNztW9fO/MxObtGGvpz87o6RNOdznv/YJjRPfTvS/Yt4N4cbh9b+t6zvDljzvv1F5/dsZmM4/ttyUUVVByr9RBjzD5bLjP5tZxmmL8uy/jT3Spr2g9D9zFwzG6MfvP6nKjwDIBPs/bOxwkdl68r88tr/9TFvgv9E1XdbUzuS/u1XFVy278L/9uhUfpZH3P6MigRaRF+6/FjGXdYZ+8b88//iTZeHbv/pKYqeStuI/K4qNXK4r6z9KzhEgoAnWP4DW94HBo98/3Ecjt0pa8r+m7z8Cz7H2PyXeG0IUTO2/kX9b+zl59z+I8GNC6kf3vwA3BEgY068/SU4x2Cvi9r+KTEhJIDP/P8qde7z/LfI/NoOsSzMV6L+7GZd1r5zrv2JzIAruNLS/69U14PKx479nEtVTqZjSv1ZyHMuegds/F+s6sbCZ4T9TAcMz/H3Jvy6uWM4N//e//GnUSngs7T/m9YwTgAH9P2DaqrBj7+S/pJA8TAgr9r8NtMTOM2H4P2yFNztW9fO/QMOcTz+j57+fCQv0ft73v7ABBuNEPeQ/5rU93uzq47/opRAOi57Jv6Zuq/mRGfO/sC8wBts/9j800R8BHh+8P3KBZMv86OY/NIhFXDAWuj8Lim0b92rzv6bLQ8GQde+/i5XDvIaz57/5wBGgeM7rP613/du/qI8/34BkSyYtpz8PVA1YpGnjP6es0R2r/+S/plZ5WFI39T8iMmu3YrvdP0i8+q7bPba/f2cpmlaiyT+4xl1f52/0P/8xS3ar+vU/YnfUikNc978r36GgNJ3ivzvLA7/aCuA/cHOi6WLH8L+Clwu9BMm4v0+8fM6s29I/sUdipxoi9L+ofqf6FP3yv7Gum/2dp/K/7NpM0R4V2b8IlMzMLZr4Pz4a2qQ/Rea/4GO4iO0u4b9dYsGYlBXyP+/iEjLl+eq/9iPoxZhh+T+HMakVlMnhv/KzNE6GhuQ/B/sFI7Ef9z+WVhZo4YmivzD/maI6ZOK/AMsRICh19z8UIZt0A5vxvy7vbNLYF8i/Yvhok4D0+j+Yt4WefyL1v9Mg2qQvbtM/1TgMRm9Q4T92i1M9Pf7PP6VnKRqei+m/1eM2cgCQ278KRcUX6vb3vwD86rJY+dU/SLBTPYME8D8E2O5xGr3+P92s8R4Gtdy/gurG8p2T/D+/MBVWJg71v+g6NReNdfg/u8r//2ETx78bUY93jEXxv5OPV/y8XPc/lMKYEH/C7r9taubqhXf9P9ia/dvnCeC/ssXXAMce/z9dcTc796f8P1pH4Ie6sfe/ST2BFuCN4j8RcVbqD6/mvzroDeEun8E/ijUMRve78r/qlw+82cvxvwyD6zsD3em/Oj+Kpkby4b/cpiZtEeHyP7c7WZcEF9k/wtU1YKvIwz+6QfbmUMvjP5FBNdcgk+U/g/3horES9T8=",
          "dtype": "f8"
         },
         "y": {
          "bdata": "0XsXWKOn8D8/P+DQlSv1v6d1zzuzfNK/8JPIwbhv0b8VcUaH6jrxvzg0mfbh6vA/m0XjcYPA5T/g7sUPPr/3P2lNcrsKH78//AoUGyYh8D+eNv/1/OX5v1Kay2KmBPK/k6kl6Cez4r+ooM4DlJniP2nO3JMYpfS/eU46Vhfa5b/bX4TRuK/6vwbvgJQ7Kfq//HlqrPA07b9poXWbh6vOvwIWW/XZYfS/8JPIwbhv0b+ykeqHDb/2vwz8L5+fRuS/Pwki9HAY3780/BkrVjp7Pwz8L5+fRuS/xAg24Xpw1T+HAu7EikX3v4P3cytJ5d4/jJEvAxBV9D+E0MyJOMz4P06nR658Avg/83BYQ1+x2j/jON0vqJbUv+I4TyskAoS/HRhL6/mI+D+8fRkKOEXOPwa6HwNNg7I/RVfWta2J079grdRFb8PDP9kvy8YWE+I/21+E0biv+r8Rof+RjNfZv1KYYzL2J+y/yYIGDIfk2r9K2Wjpznv2vx0YS+v5iPg/RM4hDxs78j/oryiJFUjzP664xOir9/C/+jwCl+p66j+Pw1A+Ys7yv0u2Fba50Jq/pvdhb9Ru9b/g4RYF2qHtP/pU+HsC2fi/eTZEcf979z8opST5zrvvPzFzNn0KYvU/K+T0PoVS+L/g7sUPPr/3P4yRLwMQVfQ/mltxJutB7r8uTsRMHAbhP3ygE3+WL9A/22wz3BzN5L87j1HJZKTZP7x9GQo4Rc4/mB4JEeWH6z/g4RYF2qHtP+66b2PJiPe/GUpsJkwC979eNFR731Tzv0cAQ0pttPC/Hsz+WW306T+AGuSpoqPVv/pU+HsC2fi/4O7FDz6/9z/RexdYo6fwP/YA2CXsT7O/fHUUt7US4L/BEUhKDPTnv22cu1jGK/Y/z8X7uH9f+b+uuMToq/fwv1KC1X2OpuM/83BYQ1+x2j9f3cAPn3/gPzgn6ut9zeY/xDgiq6os4r+MkS8DEFX0P22cu1jGK/Y/asOVuWRk8D+9K3OgRg/4v6igzgOUmeI/FK573WLV779grdRFb8PDPxSue91i1e+/OCfq633N5j8UrnvdYtXvvzFzNn0KYvU/Rvf9IU4Ryj9K2Wjpznv2vwwnL2eAY9Q/i8Mdf9Su7j/zxlbTIOu6PwwnL2eAY9Q/QwAQi9+U7D9NZgg2xp6sPxlKbCZMAve/2UfBqy5x8L8HmO0o+1PnP9GGXjJX6PS/EX7C0sA49z/EOCKrqiziv2ENehpBHPm/r1IaQlco7j/JrQXUZwHrPx7M/llt9Ok/S7YVtrnQmr/yiE4odw/5P5tw4jlk3cU/YgIzQI3b9D+Lwx1/1K7uP/NwWENfsdo/kFJfvVm+2z+TqSXoJ7Piv9Yz8C1Z98c/21+E0biv+r/jON0vqJbUvy40ZjdUy9w/HRhL6/mI+D+dgkuHiXrovxGh/5GM19m/hNDMiTjM+D95TjpWF9rlv74aWrOdd8q/Cr/HiZmM4T8xczZ9CmL1PxSue91i1e+/oOwalSAu8T/uum9jyYj3v0VX1rWtidO/g1dMv6hdyL9QaKonVIvzPxLoQasw0KW/wflRZfSV+T8r5PQ+hVL4vxLoQasw0KW/PA2/lUOy9j/Vh/MN1oO3v9F7F1ijp/A/QwAQi9+U7D9zv/gXksrYvyELz58ji/K/OCfq633N5j9eNFR731Tzv29FKO2FVtM/CdVVPgEO6r/jIOdKkDj2v06nR658Avg/GVcbMbAf4b8=",
          "dtype": "f8"
         },
         "z": {
          "bdata": "Kz1J/9r33T+33GvIalrgv4SAobnNb/G/WxEcOZrd0b8rlATsHjTYP3V+ckDPaOk/tMuraT/18b9bMIUWyE/sv7H8++Q0aP6/FwNeWT487z/LIJeILo/3P1rETfuvJds/ysUXAP2/fL9v0H22Y1viPxI816fwofK/miXcE1gE17+ZG8c+RyvsPxHa8zlbm/W/AuOtaTwU5z8r5TuO5H/iv3TkfzrOuNA/JcK/1ge6zz8yRooAHSrKv/NXJoaWcLS/HYip61Re87+hlSkofs32vzV3SDjTXfi/2hccMb9g778sPHUrDFHvv23TEkdwSOe/gYscpuwuyb8DMGgUyyHyP77O7Y5+7eE/8ssWVcXJ0z/6Xd1oqju/v1cSvZtl2Zi/RO0tKtPB8z8nqYAa8yHvv6QW5C8CB8A/mOB1gZyJ8D8rbW8c1YOwv0Jy92zNeOq/umR3MKQJ579q6DsKd0H5v5OMO5IJkN8/78+TTPwH87/BQdAzsaP2PyraUuUEAOm/RJJcRIHmyr/C24NhQAn2v78vPAG3l9m/YKDSKu4Y/D8WxOIPKlH5v1pewlDNQOE/ZKel2r/5xr9vl9kim1XhvwJdTyvlAPu/VK93o3Yh3r8e1aJuVbbnv8s1wEs1iOk/iWPRcibv9T9U8t2gggv1P43FtOC79fI/xGe5VeMB9z+bsiS0O+7fP4wywM+ixvI/yzXASzWI6T9fDZ9BY5/yP1VUAOeJXPs/70OJnW+v3z//BVVmL3r3vz/cbcunXOU/H+MMFeZ4+j+h340acjjmP1TPNqSPpdQ/9MRry6o98L/qPJ8749jyv9Ptyaqxbtu/1uX34fpGxL8iXa7WjmXuvyI6B9qb//0/Ybt/OHMCzj/97ZYSHJTgP8iqOGiP5La/3dhNfN2A5D+qqSus6Cr1PyzClJHxGfI/aUsH3zaZ4L9bERw5mt3Rv+uewYHqKfm/EsGg6upY2b82A34sdlb5P1m241QfY/g/jvKb99XU+7/BbKMiwEe0PwzeXJ42L/k/mqs6Uq8X879m7KRuUtX8P4YTlsrmnvG/kDt79BNZcj8LYFJ4sq7hP51KpkltAbG/7+t7LHk35L/yH8/0O1j3P0detK0Lzqs/kom6lFhN9j+8/mk2pbnfv9NePv5z0+6/cVser6n37b/LTicuAXXhvzjrv9hicNI/8gPnFL8o5j+tOPYwmBD7v90n3XYFf7G/Kz1J/9r33T8ppuuJ5jTqPyzXvVT4EuQ/fFM4U5cl+z8uvmoFiND3v4KOC2BeMuQ/G+eJDB232b8tihc9xa/Uv2/RUYoyAsE/WDjZLpvi4D+bWhdDRXbkv3JYiR6dCuk/m7IktDvu3z8cxKM3uAbwvx8YXNculdO/Pu1sAkUM/T/6Xd1oqju/vxnSDd5IyeI/1UIXRoVZ9L+WcloF1BK/PzcYp+98T+s/AJlJd0ip978dX0yhNUakvzXEAuNha+O/AcpaGszR+r+jdRe8l1Trv3JY/cr3AqE/Z1lxhcdb8z9hfFdaLAztvxCp4pbXcvK/AZ1zA7Ly8T+GE5bK5p7xv3Y4JEfpnMg/G5ZSaldr7z//zcN+p2X+P/E/IDmUG+w/Odkrpmhk9b9qKGDiQzPwP8TxqSx65nS/EEBADMw19j/GsEl0CMbnvxsHSQ02O9A/WDcFW8w70r8IVlE2/X/yP4PbBONeivg/MLOBXKhQ/r9dp5FHZE/7v1Hvm3tDE+W/3SwGHFQP+L8=",
          "dtype": "f8"
         }
        }
       ],
       "layout": {
        "coloraxis": {
         "colorbar": {
          "title": {
           "text": "Etiquetas jerarquico"
          }
         },
         "colorscale": [
          [
           0,
           "#0d0887"
          ],
          [
           0.1111111111111111,
           "#46039f"
          ],
          [
           0.2222222222222222,
           "#7201a8"
          ],
          [
           0.3333333333333333,
           "#9c179e"
          ],
          [
           0.4444444444444444,
           "#bd3786"
          ],
          [
           0.5555555555555556,
           "#d8576b"
          ],
          [
           0.6666666666666666,
           "#ed7953"
          ],
          [
           0.7777777777777778,
           "#fb9f3a"
          ],
          [
           0.8888888888888888,
           "#fdca26"
          ],
          [
           1,
           "#f0f921"
          ]
         ]
        },
        "legend": {
         "tracegroupgap": 0
        },
        "scene": {
         "domain": {
          "x": [
           0,
           1
          ],
          "y": [
           0,
           1
          ]
         },
         "xaxis": {
          "title": {
           "text": "humedadSuelo(%)"
          }
         },
         "yaxis": {
          "title": {
           "text": "pHSuelo"
          }
         },
         "zaxis": {
          "title": {
           "text": "temperatura(°C)"
          }
         }
        },
        "template": {
         "data": {
          "bar": [
           {
            "error_x": {
             "color": "#2a3f5f"
            },
            "error_y": {
             "color": "#2a3f5f"
            },
            "marker": {
             "line": {
              "color": "#E5ECF6",
              "width": 0.5
             },
             "pattern": {
              "fillmode": "overlay",
              "size": 10,
              "solidity": 0.2
             }
            },
            "type": "bar"
           }
          ],
          "barpolar": [
           {
            "marker": {
             "line": {
              "color": "#E5ECF6",
              "width": 0.5
             },
             "pattern": {
              "fillmode": "overlay",
              "size": 10,
              "solidity": 0.2
             }
            },
            "type": "barpolar"
           }
          ],
          "carpet": [
           {
            "aaxis": {
             "endlinecolor": "#2a3f5f",
             "gridcolor": "white",
             "linecolor": "white",
             "minorgridcolor": "white",
             "startlinecolor": "#2a3f5f"
            },
            "baxis": {
             "endlinecolor": "#2a3f5f",
             "gridcolor": "white",
             "linecolor": "white",
             "minorgridcolor": "white",
             "startlinecolor": "#2a3f5f"
            },
            "type": "carpet"
           }
          ],
          "choropleth": [
           {
            "colorbar": {
             "outlinewidth": 0,
             "ticks": ""
            },
            "type": "choropleth"
           }
          ],
          "contour": [
           {
            "colorbar": {
             "outlinewidth": 0,
             "ticks": ""
            },
            "colorscale": [
             [
              0,
              "#0d0887"
             ],
             [
              0.1111111111111111,
              "#46039f"
             ],
             [
              0.2222222222222222,
              "#7201a8"
             ],
             [
              0.3333333333333333,
              "#9c179e"
             ],
             [
              0.4444444444444444,
              "#bd3786"
             ],
             [
              0.5555555555555556,
              "#d8576b"
             ],
             [
              0.6666666666666666,
              "#ed7953"
             ],
             [
              0.7777777777777778,
              "#fb9f3a"
             ],
             [
              0.8888888888888888,
              "#fdca26"
             ],
             [
              1,
              "#f0f921"
             ]
            ],
            "type": "contour"
           }
          ],
          "contourcarpet": [
           {
            "colorbar": {
             "outlinewidth": 0,
             "ticks": ""
            },
            "type": "contourcarpet"
           }
          ],
          "heatmap": [
           {
            "colorbar": {
             "outlinewidth": 0,
             "ticks": ""
            },
            "colorscale": [
             [
              0,
              "#0d0887"
             ],
             [
              0.1111111111111111,
              "#46039f"
             ],
             [
              0.2222222222222222,
              "#7201a8"
             ],
             [
              0.3333333333333333,
              "#9c179e"
             ],
             [
              0.4444444444444444,
              "#bd3786"
             ],
             [
              0.5555555555555556,
              "#d8576b"
             ],
             [
              0.6666666666666666,
              "#ed7953"
             ],
             [
              0.7777777777777778,
              "#fb9f3a"
             ],
             [
              0.8888888888888888,
              "#fdca26"
             ],
             [
              1,
              "#f0f921"
             ]
            ],
            "type": "heatmap"
           }
          ],
          "histogram": [
           {
            "marker": {
             "pattern": {
              "fillmode": "overlay",
              "size": 10,
              "solidity": 0.2
             }
            },
            "type": "histogram"
           }
          ],
          "histogram2d": [
           {
            "colorbar": {
             "outlinewidth": 0,
             "ticks": ""
            },
            "colorscale": [
             [
              0,
              "#0d0887"
             ],
             [
              0.1111111111111111,
              "#46039f"
             ],
             [
              0.2222222222222222,
              "#7201a8"
             ],
             [
              0.3333333333333333,
              "#9c179e"
             ],
             [
              0.4444444444444444,
              "#bd3786"
             ],
             [
              0.5555555555555556,
              "#d8576b"
             ],
             [
              0.6666666666666666,
              "#ed7953"
             ],
             [
              0.7777777777777778,
              "#fb9f3a"
             ],
             [
              0.8888888888888888,
              "#fdca26"
             ],
             [
              1,
              "#f0f921"
             ]
            ],
            "type": "histogram2d"
           }
          ],
          "histogram2dcontour": [
           {
            "colorbar": {
             "outlinewidth": 0,
             "ticks": ""
            },
            "colorscale": [
             [
              0,
              "#0d0887"
             ],
             [
              0.1111111111111111,
              "#46039f"
             ],
             [
              0.2222222222222222,
              "#7201a8"
             ],
             [
              0.3333333333333333,
              "#9c179e"
             ],
             [
              0.4444444444444444,
              "#bd3786"
             ],
             [
              0.5555555555555556,
              "#d8576b"
             ],
             [
              0.6666666666666666,
              "#ed7953"
             ],
             [
              0.7777777777777778,
              "#fb9f3a"
             ],
             [
              0.8888888888888888,
              "#fdca26"
             ],
             [
              1,
              "#f0f921"
             ]
            ],
            "type": "histogram2dcontour"
           }
          ],
          "mesh3d": [
           {
            "colorbar": {
             "outlinewidth": 0,
             "ticks": ""
            },
            "type": "mesh3d"
           }
          ],
          "parcoords": [
           {
            "line": {
             "colorbar": {
              "outlinewidth": 0,
              "ticks": ""
             }
            },
            "type": "parcoords"
           }
          ],
          "pie": [
           {
            "automargin": true,
            "type": "pie"
           }
          ],
          "scatter": [
           {
            "fillpattern": {
             "fillmode": "overlay",
             "size": 10,
             "solidity": 0.2
            },
            "type": "scatter"
           }
          ],
          "scatter3d": [
           {
            "line": {
             "colorbar": {
              "outlinewidth": 0,
              "ticks": ""
             }
            },
            "marker": {
             "colorbar": {
              "outlinewidth": 0,
              "ticks": ""
             }
            },
            "type": "scatter3d"
           }
          ],
          "scattercarpet": [
           {
            "marker": {
             "colorbar": {
              "outlinewidth": 0,
              "ticks": ""
             }
            },
            "type": "scattercarpet"
           }
          ],
          "scattergeo": [
           {
            "marker": {
             "colorbar": {
              "outlinewidth": 0,
              "ticks": ""
             }
            },
            "type": "scattergeo"
           }
          ],
          "scattergl": [
           {
            "marker": {
             "colorbar": {
              "outlinewidth": 0,
              "ticks": ""
             }
            },
            "type": "scattergl"
           }
          ],
          "scattermap": [
           {
            "marker": {
             "colorbar": {
              "outlinewidth": 0,
              "ticks": ""
             }
            },
            "type": "scattermap"
           }
          ],
          "scattermapbox": [
           {
            "marker": {
             "colorbar": {
              "outlinewidth": 0,
              "ticks": ""
             }
            },
            "type": "scattermapbox"
           }
          ],
          "scatterpolar": [
           {
            "marker": {
             "colorbar": {
              "outlinewidth": 0,
              "ticks": ""
             }
            },
            "type": "scatterpolar"
           }
          ],
          "scatterpolargl": [
           {
            "marker": {
             "colorbar": {
              "outlinewidth": 0,
              "ticks": ""
             }
            },
            "type": "scatterpolargl"
           }
          ],
          "scatterternary": [
           {
            "marker": {
             "colorbar": {
              "outlinewidth": 0,
              "ticks": ""
             }
            },
            "type": "scatterternary"
           }
          ],
          "surface": [
           {
            "colorbar": {
             "outlinewidth": 0,
             "ticks": ""
            },
            "colorscale": [
             [
              0,
              "#0d0887"
             ],
             [
              0.1111111111111111,
              "#46039f"
             ],
             [
              0.2222222222222222,
              "#7201a8"
             ],
             [
              0.3333333333333333,
              "#9c179e"
             ],
             [
              0.4444444444444444,
              "#bd3786"
             ],
             [
              0.5555555555555556,
              "#d8576b"
             ],
             [
              0.6666666666666666,
              "#ed7953"
             ],
             [
              0.7777777777777778,
              "#fb9f3a"
             ],
             [
              0.8888888888888888,
              "#fdca26"
             ],
             [
              1,
              "#f0f921"
             ]
            ],
            "type": "surface"
           }
          ],
          "table": [
           {
            "cells": {
             "fill": {
              "color": "#EBF0F8"
             },
             "line": {
              "color": "white"
             }
            },
            "header": {
             "fill": {
              "color": "#C8D4E3"
             },
             "line": {
              "color": "white"
             }
            },
            "type": "table"
           }
          ]
         },
         "layout": {
          "annotationdefaults": {
           "arrowcolor": "#2a3f5f",
           "arrowhead": 0,
           "arrowwidth": 1
          },
          "autotypenumbers": "strict",
          "coloraxis": {
           "colorbar": {
            "outlinewidth": 0,
            "ticks": ""
           }
          },
          "colorscale": {
           "diverging": [
            [
             0,
             "#8e0152"
            ],
            [
             0.1,
             "#c51b7d"
            ],
            [
             0.2,
             "#de77ae"
            ],
            [
             0.3,
             "#f1b6da"
            ],
            [
             0.4,
             "#fde0ef"
            ],
            [
             0.5,
             "#f7f7f7"
            ],
            [
             0.6,
             "#e6f5d0"
            ],
            [
             0.7,
             "#b8e186"
            ],
            [
             0.8,
             "#7fbc41"
            ],
            [
             0.9,
             "#4d9221"
            ],
            [
             1,
             "#276419"
            ]
           ],
           "sequential": [
            [
             0,
             "#0d0887"
            ],
            [
             0.1111111111111111,
             "#46039f"
            ],
            [
             0.2222222222222222,
             "#7201a8"
            ],
            [
             0.3333333333333333,
             "#9c179e"
            ],
            [
             0.4444444444444444,
             "#bd3786"
            ],
            [
             0.5555555555555556,
             "#d8576b"
            ],
            [
             0.6666666666666666,
             "#ed7953"
            ],
            [
             0.7777777777777778,
             "#fb9f3a"
            ],
            [
             0.8888888888888888,
             "#fdca26"
            ],
            [
             1,
             "#f0f921"
            ]
           ],
           "sequentialminus": [
            [
             0,
             "#0d0887"
            ],
            [
             0.1111111111111111,
             "#46039f"
            ],
            [
             0.2222222222222222,
             "#7201a8"
            ],
            [
             0.3333333333333333,
             "#9c179e"
            ],
            [
             0.4444444444444444,
             "#bd3786"
            ],
            [
             0.5555555555555556,
             "#d8576b"
            ],
            [
             0.6666666666666666,
             "#ed7953"
            ],
            [
             0.7777777777777778,
             "#fb9f3a"
            ],
            [
             0.8888888888888888,
             "#fdca26"
            ],
            [
             1,
             "#f0f921"
            ]
           ]
          },
          "colorway": [
           "#636efa",
           "#EF553B",
           "#00cc96",
           "#ab63fa",
           "#FFA15A",
           "#19d3f3",
           "#FF6692",
           "#B6E880",
           "#FF97FF",
           "#FECB52"
          ],
          "font": {
           "color": "#2a3f5f"
          },
          "geo": {
           "bgcolor": "white",
           "lakecolor": "white",
           "landcolor": "#E5ECF6",
           "showlakes": true,
           "showland": true,
           "subunitcolor": "white"
          },
          "hoverlabel": {
           "align": "left"
          },
          "hovermode": "closest",
          "mapbox": {
           "style": "light"
          },
          "paper_bgcolor": "white",
          "plot_bgcolor": "#E5ECF6",
          "polar": {
           "angularaxis": {
            "gridcolor": "white",
            "linecolor": "white",
            "ticks": ""
           },
           "bgcolor": "#E5ECF6",
           "radialaxis": {
            "gridcolor": "white",
            "linecolor": "white",
            "ticks": ""
           }
          },
          "scene": {
           "xaxis": {
            "backgroundcolor": "#E5ECF6",
            "gridcolor": "white",
            "gridwidth": 2,
            "linecolor": "white",
            "showbackground": true,
            "ticks": "",
            "zerolinecolor": "white"
           },
           "yaxis": {
            "backgroundcolor": "#E5ECF6",
            "gridcolor": "white",
            "gridwidth": 2,
            "linecolor": "white",
            "showbackground": true,
            "ticks": "",
            "zerolinecolor": "white"
           },
           "zaxis": {
            "backgroundcolor": "#E5ECF6",
            "gridcolor": "white",
            "gridwidth": 2,
            "linecolor": "white",
            "showbackground": true,
            "ticks": "",
            "zerolinecolor": "white"
           }
          },
          "shapedefaults": {
           "line": {
            "color": "#2a3f5f"
           }
          },
          "ternary": {
           "aaxis": {
            "gridcolor": "white",
            "linecolor": "white",
            "ticks": ""
           },
           "baxis": {
            "gridcolor": "white",
            "linecolor": "white",
            "ticks": ""
           },
           "bgcolor": "#E5ECF6",
           "caxis": {
            "gridcolor": "white",
            "linecolor": "white",
            "ticks": ""
           }
          },
          "title": {
           "x": 0.05
          },
          "xaxis": {
           "automargin": true,
           "gridcolor": "white",
           "linecolor": "white",
           "ticks": "",
           "title": {
            "standoff": 15
           },
           "zerolinecolor": "white",
           "zerolinewidth": 2
          },
          "yaxis": {
           "automargin": true,
           "gridcolor": "white",
           "linecolor": "white",
           "ticks": "",
           "title": {
            "standoff": 15
           },
           "zerolinecolor": "white",
           "zerolinewidth": 2
          }
         }
        },
        "title": {
         "text": "Dispersión de las variedades de trigo (Clustering)"
        }
       }
      }
     },
     "metadata": {},
     "output_type": "display_data"
    }
   ],
   "source": [
    "fig = px.scatter_3d(df_clustering, x='humedadSuelo(%)', y='pHSuelo', z='temperatura(°C)',\n",
    "                    color='Etiquetas jerarquico',\n",
    "                    title='Dispersión de las variedades de trigo (Clustering)')\n",
    "fig.show()"
   ]
  },
  {
   "cell_type": "code",
   "execution_count": null,
   "id": "55f11dd7",
   "metadata": {},
   "outputs": [
    {
     "data": {
      "text/plain": [
       "0.030464615619245697"
      ]
     },
     "execution_count": 361,
     "metadata": {},
     "output_type": "execute_result"
    }
   ],
   "source": [
    "from sklearn.metrics import silhouette_score,silhouette_samples\n",
    "\n",
    "silhouette_avg = silhouette_score(x_escalado, cluster_assignments)\n",
    "silhouette_avg"
   ]
  },
  {
   "cell_type": "code",
   "execution_count": 362,
   "id": "81f7e724",
   "metadata": {},
   "outputs": [
    {
     "data": {
      "image/png": "[encoded data removed]",
      "text/plain": [
       "<Figure size 1000x600 with 1 Axes>"
      ]
     },
     "metadata": {},
     "output_type": "display_data"
    }
   ],
   "source": [
    "def calculate_silhouette(X_scaled, k, linkage='ward'):\n",
    "    clustering = AgglomerativeClustering(n_clusters=k, linkage=linkage)\n",
    "    labels = clustering.fit_predict(X_scaled)\n",
    "    silhouette_avg = silhouette_score(X_scaled, labels)\n",
    "    sample_silhouette_values = silhouette_samples(X_scaled, labels)\n",
    "    return silhouette_avg, sample_silhouette_values\n",
    "\n",
    "max_k = 15\n",
    "\n",
    "silhouette_scores = []\n",
    "for k in range(2, max_k + 1):\n",
    "    silhouette_avg, _ = calculate_silhouette(x_escalado, k)\n",
    "    silhouette_scores.append(silhouette_avg)\n",
    "\n",
    "plt.figure(figsize=(10, 6))\n",
    "plt.plot(range(2, max_k + 1), silhouette_scores, marker='o')\n",
    "plt.xlabel('Número de Clusters (k)')\n",
    "plt.ylabel('Coeficiente de Silhouette')\n",
    "plt.title('Coeficiente de Silhouette para determinar el número óptimo de clusters (Clustering Jerárquico)')\n",
    "plt.xticks([x for x in range(2, 17, 1)])\n",
    "plt.show()"
   ]
  },
  {
   "cell_type": "code",
   "execution_count": null,
   "id": "779d8b96",
   "metadata": {},
   "outputs": [],
   "source": []
  }
 ],
 "metadata": {
  "kernelspec": {
   "display_name": "Python 3",
   "language": "python",
   "name": "python3"
  },
  "language_info": {
   "codemirror_mode": {
    "name": "ipython",
    "version": 3
   },
   "file_extension": ".py",
   "mimetype": "text/x-python",
   "name": "python",
   "nbconvert_exporter": "python",
   "pygments_lexer": "ipython3",
   "version": "3.12.5"
  }
 },
 "nbformat": 4,
 "nbformat_minor": 5
}
