{
 "cells": [
  {
   "cell_type": "code",
   "execution_count": 188,
   "id": "740e7176",
   "metadata": {},
   "outputs": [],
   "source": [
    "import pandas as pd\n",
    "import seaborn as sns\n",
    "import matplotlib.pyplot as plt\n",
    "import matplotlib.colors as mcolors\n",
    "import plotly.express as px\n",
    "import numpy as np\n",
    "import umap\n",
    "\n",
    "from sklearn.model_selection import train_test_split, KFold, cross_val_score\n",
    "from sklearn.preprocessing import StandardScaler \n",
    "from sklearn import decomposition\n",
    "from sklearn.decomposition import PCA\n",
    "from sklearn.manifold import Isomap, TSNE"
   ]
  },
  {
   "cell_type": "code",
   "execution_count": 154,
   "id": "058fea83",
   "metadata": {},
   "outputs": [],
   "source": [
    "file_path = 'SmartFarmingCropYield.csv'\n",
    "\n",
    "dataset = pd.read_csv(file_path)"
   ]
  },
  {
   "cell_type": "markdown",
   "id": "0ae1fda4",
   "metadata": {},
   "source": [
    "# Análisis exploratorio de datos (EDA)"
   ]
  },
  {
   "cell_type": "code",
   "execution_count": 155,
   "id": "68b6f759",
   "metadata": {},
   "outputs": [
    {
     "data": {
      "text/html": [
       "<div>\n",
       "<style scoped>\n",
       "    .dataframe tbody tr th:only-of-type {\n",
       "        vertical-align: middle;\n",
       "    }\n",
       "\n",
       "    .dataframe tbody tr th {\n",
       "        vertical-align: top;\n",
       "    }\n",
       "\n",
       "    .dataframe thead th {\n",
       "        text-align: right;\n",
       "    }\n",
       "</style>\n",
       "<table border=\"1\" class=\"dataframe\">\n",
       "  <thead>\n",
       "    <tr style=\"text-align: right;\">\n",
       "      <th></th>\n",
       "      <th>tipoCultivo</th>\n",
       "      <th>humedadSuelo(%)</th>\n",
       "      <th>pHSuelo</th>\n",
       "      <th>temperatura(°C)</th>\n",
       "      <th>precipitacion(mm)</th>\n",
       "      <th>humedad(%)</th>\n",
       "      <th>horasLuzSolar</th>\n",
       "      <th>tipoRiego</th>\n",
       "      <th>tipoFertilizante</th>\n",
       "      <th>mlPesticida</th>\n",
       "      <th>diasTotales</th>\n",
       "      <th>rendimientoKg_hectarea</th>\n",
       "      <th>indiceNDVI</th>\n",
       "      <th>estadoEnfermedadesCultivo</th>\n",
       "    </tr>\n",
       "  </thead>\n",
       "  <tbody>\n",
       "    <tr>\n",
       "      <th>0</th>\n",
       "      <td>Trigo</td>\n",
       "      <td>35.95</td>\n",
       "      <td>5.99</td>\n",
       "      <td>17.79</td>\n",
       "      <td>75.62</td>\n",
       "      <td>77.03</td>\n",
       "      <td>7.27</td>\n",
       "      <td>NaN</td>\n",
       "      <td>Organico</td>\n",
       "      <td>6.34</td>\n",
       "      <td>122</td>\n",
       "      <td>4408.07</td>\n",
       "      <td>0.63</td>\n",
       "      <td>Leve</td>\n",
       "    </tr>\n",
       "    <tr>\n",
       "      <th>1</th>\n",
       "      <td>Soja</td>\n",
       "      <td>19.74</td>\n",
       "      <td>7.24</td>\n",
       "      <td>30.18</td>\n",
       "      <td>89.91</td>\n",
       "      <td>61.13</td>\n",
       "      <td>5.67</td>\n",
       "      <td>Aspersor</td>\n",
       "      <td>Inorganico</td>\n",
       "      <td>9.60</td>\n",
       "      <td>112</td>\n",
       "      <td>5389.98</td>\n",
       "      <td>0.58</td>\n",
       "      <td>NaN</td>\n",
       "    </tr>\n",
       "    <tr>\n",
       "      <th>2</th>\n",
       "      <td>Trigo</td>\n",
       "      <td>29.32</td>\n",
       "      <td>7.16</td>\n",
       "      <td>27.37</td>\n",
       "      <td>265.43</td>\n",
       "      <td>68.87</td>\n",
       "      <td>8.23</td>\n",
       "      <td>Goteo</td>\n",
       "      <td>Mixto</td>\n",
       "      <td>15.26</td>\n",
       "      <td>144</td>\n",
       "      <td>2931.16</td>\n",
       "      <td>0.80</td>\n",
       "      <td>Leve</td>\n",
       "    </tr>\n",
       "    <tr>\n",
       "      <th>3</th>\n",
       "      <td>Maiz</td>\n",
       "      <td>17.33</td>\n",
       "      <td>6.03</td>\n",
       "      <td>33.73</td>\n",
       "      <td>212.01</td>\n",
       "      <td>70.46</td>\n",
       "      <td>5.03</td>\n",
       "      <td>Aspersor</td>\n",
       "      <td>Organico</td>\n",
       "      <td>25.80</td>\n",
       "      <td>134</td>\n",
       "      <td>4227.80</td>\n",
       "      <td>0.44</td>\n",
       "      <td>NaN</td>\n",
       "    </tr>\n",
       "    <tr>\n",
       "      <th>4</th>\n",
       "      <td>Soja</td>\n",
       "      <td>36.28</td>\n",
       "      <td>7.04</td>\n",
       "      <td>21.80</td>\n",
       "      <td>123.38</td>\n",
       "      <td>47.91</td>\n",
       "      <td>4.02</td>\n",
       "      <td>Manual</td>\n",
       "      <td>Mixto</td>\n",
       "      <td>39.29</td>\n",
       "      <td>145</td>\n",
       "      <td>4501.20</td>\n",
       "      <td>0.76</td>\n",
       "      <td>NaN</td>\n",
       "    </tr>\n",
       "    <tr>\n",
       "      <th>...</th>\n",
       "      <td>...</td>\n",
       "      <td>...</td>\n",
       "      <td>...</td>\n",
       "      <td>...</td>\n",
       "      <td>...</td>\n",
       "      <td>...</td>\n",
       "      <td>...</td>\n",
       "      <td>...</td>\n",
       "      <td>...</td>\n",
       "      <td>...</td>\n",
       "      <td>...</td>\n",
       "      <td>...</td>\n",
       "      <td>...</td>\n",
       "      <td>...</td>\n",
       "    </tr>\n",
       "    <tr>\n",
       "      <th>306</th>\n",
       "      <td>Maiz</td>\n",
       "      <td>32.14</td>\n",
       "      <td>7.44</td>\n",
       "      <td>21.49</td>\n",
       "      <td>286.61</td>\n",
       "      <td>84.20</td>\n",
       "      <td>5.58</td>\n",
       "      <td>Aspersor</td>\n",
       "      <td>Inorganico</td>\n",
       "      <td>45.43</td>\n",
       "      <td>93</td>\n",
       "      <td>4503.82</td>\n",
       "      <td>0.88</td>\n",
       "      <td>Leve</td>\n",
       "    </tr>\n",
       "    <tr>\n",
       "      <th>307</th>\n",
       "      <td>Trigo</td>\n",
       "      <td>28.81</td>\n",
       "      <td>7.46</td>\n",
       "      <td>30.56</td>\n",
       "      <td>245.13</td>\n",
       "      <td>45.32</td>\n",
       "      <td>8.47</td>\n",
       "      <td>NaN</td>\n",
       "      <td>Mixto</td>\n",
       "      <td>16.58</td>\n",
       "      <td>128</td>\n",
       "      <td>4203.51</td>\n",
       "      <td>0.65</td>\n",
       "      <td>Severo</td>\n",
       "    </tr>\n",
       "    <tr>\n",
       "      <th>308</th>\n",
       "      <td>Soja</td>\n",
       "      <td>34.22</td>\n",
       "      <td>6.75</td>\n",
       "      <td>17.46</td>\n",
       "      <td>256.23</td>\n",
       "      <td>45.14</td>\n",
       "      <td>5.78</td>\n",
       "      <td>NaN</td>\n",
       "      <td>Organico</td>\n",
       "      <td>5.05</td>\n",
       "      <td>104</td>\n",
       "      <td>3708.54</td>\n",
       "      <td>0.85</td>\n",
       "      <td>Severo</td>\n",
       "    </tr>\n",
       "    <tr>\n",
       "      <th>309</th>\n",
       "      <td>Soja</td>\n",
       "      <td>38.61</td>\n",
       "      <td>6.20</td>\n",
       "      <td>17.08</td>\n",
       "      <td>279.06</td>\n",
       "      <td>73.09</td>\n",
       "      <td>9.60</td>\n",
       "      <td>Goteo</td>\n",
       "      <td>Organico</td>\n",
       "      <td>43.78</td>\n",
       "      <td>131</td>\n",
       "      <td>2586.36</td>\n",
       "      <td>0.77</td>\n",
       "      <td>Severo</td>\n",
       "    </tr>\n",
       "    <tr>\n",
       "      <th>310</th>\n",
       "      <td>Trigo</td>\n",
       "      <td>30.22</td>\n",
       "      <td>7.42</td>\n",
       "      <td>20.57</td>\n",
       "      <td>72.61</td>\n",
       "      <td>89.74</td>\n",
       "      <td>5.09</td>\n",
       "      <td>NaN</td>\n",
       "      <td>Inorganico</td>\n",
       "      <td>19.37</td>\n",
       "      <td>134</td>\n",
       "      <td>5891.40</td>\n",
       "      <td>0.85</td>\n",
       "      <td>Severo</td>\n",
       "    </tr>\n",
       "  </tbody>\n",
       "</table>\n",
       "<p>311 rows × 14 columns</p>\n",
       "</div>"
      ],
      "text/plain": [
       "    tipoCultivo  humedadSuelo(%)  pHSuelo  temperatura(°C)  precipitacion(mm)  \\\n",
       "0         Trigo            35.95     5.99            17.79              75.62   \n",
       "1          Soja            19.74     7.24            30.18              89.91   \n",
       "2         Trigo            29.32     7.16            27.37             265.43   \n",
       "3          Maiz            17.33     6.03            33.73             212.01   \n",
       "4          Soja            36.28     7.04            21.80             123.38   \n",
       "..          ...              ...      ...              ...                ...   \n",
       "306        Maiz            32.14     7.44            21.49             286.61   \n",
       "307       Trigo            28.81     7.46            30.56             245.13   \n",
       "308        Soja            34.22     6.75            17.46             256.23   \n",
       "309        Soja            38.61     6.20            17.08             279.06   \n",
       "310       Trigo            30.22     7.42            20.57              72.61   \n",
       "\n",
       "     humedad(%)  horasLuzSolar tipoRiego tipoFertilizante  mlPesticida  \\\n",
       "0         77.03           7.27       NaN         Organico         6.34   \n",
       "1         61.13           5.67  Aspersor       Inorganico         9.60   \n",
       "2         68.87           8.23     Goteo            Mixto        15.26   \n",
       "3         70.46           5.03  Aspersor         Organico        25.80   \n",
       "4         47.91           4.02    Manual            Mixto        39.29   \n",
       "..          ...            ...       ...              ...          ...   \n",
       "306       84.20           5.58  Aspersor       Inorganico        45.43   \n",
       "307       45.32           8.47       NaN            Mixto        16.58   \n",
       "308       45.14           5.78       NaN         Organico         5.05   \n",
       "309       73.09           9.60     Goteo         Organico        43.78   \n",
       "310       89.74           5.09       NaN       Inorganico        19.37   \n",
       "\n",
       "     diasTotales  rendimientoKg_hectarea  indiceNDVI estadoEnfermedadesCultivo  \n",
       "0            122                 4408.07        0.63                      Leve  \n",
       "1            112                 5389.98        0.58                       NaN  \n",
       "2            144                 2931.16        0.80                      Leve  \n",
       "3            134                 4227.80        0.44                       NaN  \n",
       "4            145                 4501.20        0.76                       NaN  \n",
       "..           ...                     ...         ...                       ...  \n",
       "306           93                 4503.82        0.88                      Leve  \n",
       "307          128                 4203.51        0.65                    Severo  \n",
       "308          104                 3708.54        0.85                    Severo  \n",
       "309          131                 2586.36        0.77                    Severo  \n",
       "310          134                 5891.40        0.85                    Severo  \n",
       "\n",
       "[311 rows x 14 columns]"
      ]
     },
     "execution_count": 155,
     "metadata": {},
     "output_type": "execute_result"
    }
   ],
   "source": [
    "#Creamos copia del dataset original\n",
    "df = dataset.copy()\n",
    "\n",
    "#Renombramos las columnas para que no comiencen con un espacio\n",
    "df.columns = df.columns.str.strip().str.replace(\" \", \"\")\n",
    "\n",
    "df"
   ]
  },
  {
   "cell_type": "code",
   "execution_count": 156,
   "id": "b57d99bc",
   "metadata": {},
   "outputs": [
    {
     "name": "stdout",
     "output_type": "stream",
     "text": [
      "<class 'pandas.core.frame.DataFrame'>\n",
      "RangeIndex: 311 entries, 0 to 310\n",
      "Data columns (total 14 columns):\n",
      " #   Column                     Non-Null Count  Dtype  \n",
      "---  ------                     --------------  -----  \n",
      " 0   tipoCultivo                311 non-null    object \n",
      " 1   humedadSuelo(%)            311 non-null    float64\n",
      " 2   pHSuelo                    311 non-null    float64\n",
      " 3   temperatura(°C)            311 non-null    float64\n",
      " 4   precipitacion(mm)          311 non-null    float64\n",
      " 5   humedad(%)                 311 non-null    float64\n",
      " 6   horasLuzSolar              311 non-null    float64\n",
      " 7   tipoRiego                  220 non-null    object \n",
      " 8   tipoFertilizante           311 non-null    object \n",
      " 9   mlPesticida                311 non-null    float64\n",
      " 10  diasTotales                311 non-null    int64  \n",
      " 11  rendimientoKg_hectarea     311 non-null    float64\n",
      " 12  indiceNDVI                 311 non-null    float64\n",
      " 13  estadoEnfermedadesCultivo  228 non-null    object \n",
      "dtypes: float64(9), int64(1), object(4)\n",
      "memory usage: 34.1+ KB\n"
     ]
    }
   ],
   "source": [
    "df.info()"
   ]
  },
  {
   "cell_type": "markdown",
   "id": "19d97d9b",
   "metadata": {},
   "source": [
    "**Valores faltantes o duplicados**"
   ]
  },
  {
   "cell_type": "code",
   "execution_count": 157,
   "id": "a1c77877",
   "metadata": {},
   "outputs": [
    {
     "data": {
      "text/plain": [
       "np.False_"
      ]
     },
     "execution_count": 157,
     "metadata": {},
     "output_type": "execute_result"
    }
   ],
   "source": [
    "df.duplicated().values.any()\n"
   ]
  },
  {
   "cell_type": "code",
   "execution_count": 158,
   "id": "c9b780de",
   "metadata": {},
   "outputs": [
    {
     "data": {
      "text/plain": [
       "tipoCultivo                   0\n",
       "humedadSuelo(%)               0\n",
       "pHSuelo                       0\n",
       "temperatura(°C)               0\n",
       "precipitacion(mm)             0\n",
       "humedad(%)                    0\n",
       "horasLuzSolar                 0\n",
       "tipoRiego                    91\n",
       "tipoFertilizante              0\n",
       "mlPesticida                   0\n",
       "diasTotales                   0\n",
       "rendimientoKg_hectarea        0\n",
       "indiceNDVI                    0\n",
       "estadoEnfermedadesCultivo    83\n",
       "dtype: int64"
      ]
     },
     "execution_count": 158,
     "metadata": {},
     "output_type": "execute_result"
    }
   ],
   "source": [
    "df.isna().sum()"
   ]
  },
  {
   "cell_type": "code",
   "execution_count": 159,
   "id": "c4672800",
   "metadata": {},
   "outputs": [
    {
     "data": {
      "text/html": [
       "<div>\n",
       "<style scoped>\n",
       "    .dataframe tbody tr th:only-of-type {\n",
       "        vertical-align: middle;\n",
       "    }\n",
       "\n",
       "    .dataframe tbody tr th {\n",
       "        vertical-align: top;\n",
       "    }\n",
       "\n",
       "    .dataframe thead th {\n",
       "        text-align: right;\n",
       "    }\n",
       "</style>\n",
       "<table border=\"1\" class=\"dataframe\">\n",
       "  <thead>\n",
       "    <tr style=\"text-align: right;\">\n",
       "      <th></th>\n",
       "      <th>tipoCultivo</th>\n",
       "      <th>humedadSuelo(%)</th>\n",
       "      <th>pHSuelo</th>\n",
       "      <th>temperatura(°C)</th>\n",
       "      <th>precipitacion(mm)</th>\n",
       "      <th>humedad(%)</th>\n",
       "      <th>horasLuzSolar</th>\n",
       "      <th>tipoRiego</th>\n",
       "      <th>tipoFertilizante</th>\n",
       "      <th>mlPesticida</th>\n",
       "      <th>diasTotales</th>\n",
       "      <th>rendimientoKg_hectarea</th>\n",
       "      <th>indiceNDVI</th>\n",
       "      <th>estadoEnfermedadesCultivo</th>\n",
       "    </tr>\n",
       "  </thead>\n",
       "  <tbody>\n",
       "    <tr>\n",
       "      <th>0</th>\n",
       "      <td>Trigo</td>\n",
       "      <td>35.95</td>\n",
       "      <td>5.99</td>\n",
       "      <td>17.79</td>\n",
       "      <td>75.62</td>\n",
       "      <td>77.03</td>\n",
       "      <td>7.27</td>\n",
       "      <td>NaN</td>\n",
       "      <td>Organico</td>\n",
       "      <td>6.34</td>\n",
       "      <td>122</td>\n",
       "      <td>4408.07</td>\n",
       "      <td>0.63</td>\n",
       "      <td>Leve</td>\n",
       "    </tr>\n",
       "    <tr>\n",
       "      <th>1</th>\n",
       "      <td>Soja</td>\n",
       "      <td>19.74</td>\n",
       "      <td>7.24</td>\n",
       "      <td>30.18</td>\n",
       "      <td>89.91</td>\n",
       "      <td>61.13</td>\n",
       "      <td>5.67</td>\n",
       "      <td>Aspersor</td>\n",
       "      <td>Inorganico</td>\n",
       "      <td>9.60</td>\n",
       "      <td>112</td>\n",
       "      <td>5389.98</td>\n",
       "      <td>0.58</td>\n",
       "      <td>NaN</td>\n",
       "    </tr>\n",
       "    <tr>\n",
       "      <th>3</th>\n",
       "      <td>Maiz</td>\n",
       "      <td>17.33</td>\n",
       "      <td>6.03</td>\n",
       "      <td>33.73</td>\n",
       "      <td>212.01</td>\n",
       "      <td>70.46</td>\n",
       "      <td>5.03</td>\n",
       "      <td>Aspersor</td>\n",
       "      <td>Organico</td>\n",
       "      <td>25.80</td>\n",
       "      <td>134</td>\n",
       "      <td>4227.80</td>\n",
       "      <td>0.44</td>\n",
       "      <td>NaN</td>\n",
       "    </tr>\n",
       "    <tr>\n",
       "      <th>4</th>\n",
       "      <td>Soja</td>\n",
       "      <td>36.28</td>\n",
       "      <td>7.04</td>\n",
       "      <td>21.80</td>\n",
       "      <td>123.38</td>\n",
       "      <td>47.91</td>\n",
       "      <td>4.02</td>\n",
       "      <td>Manual</td>\n",
       "      <td>Mixto</td>\n",
       "      <td>39.29</td>\n",
       "      <td>145</td>\n",
       "      <td>4501.20</td>\n",
       "      <td>0.76</td>\n",
       "      <td>NaN</td>\n",
       "    </tr>\n",
       "    <tr>\n",
       "      <th>8</th>\n",
       "      <td>Maiz</td>\n",
       "      <td>42.43</td>\n",
       "      <td>7.07</td>\n",
       "      <td>20.70</td>\n",
       "      <td>224.15</td>\n",
       "      <td>76.53</td>\n",
       "      <td>8.70</td>\n",
       "      <td>NaN</td>\n",
       "      <td>Organico</td>\n",
       "      <td>13.55</td>\n",
       "      <td>127</td>\n",
       "      <td>4942.95</td>\n",
       "      <td>0.65</td>\n",
       "      <td>Leve</td>\n",
       "    </tr>\n",
       "    <tr>\n",
       "      <th>...</th>\n",
       "      <td>...</td>\n",
       "      <td>...</td>\n",
       "      <td>...</td>\n",
       "      <td>...</td>\n",
       "      <td>...</td>\n",
       "      <td>...</td>\n",
       "      <td>...</td>\n",
       "      <td>...</td>\n",
       "      <td>...</td>\n",
       "      <td>...</td>\n",
       "      <td>...</td>\n",
       "      <td>...</td>\n",
       "      <td>...</td>\n",
       "      <td>...</td>\n",
       "    </tr>\n",
       "    <tr>\n",
       "      <th>304</th>\n",
       "      <td>Soja</td>\n",
       "      <td>40.46</td>\n",
       "      <td>7.44</td>\n",
       "      <td>18.31</td>\n",
       "      <td>237.68</td>\n",
       "      <td>59.21</td>\n",
       "      <td>8.68</td>\n",
       "      <td>NaN</td>\n",
       "      <td>Mixto</td>\n",
       "      <td>17.22</td>\n",
       "      <td>100</td>\n",
       "      <td>4287.59</td>\n",
       "      <td>0.77</td>\n",
       "      <td>Severo</td>\n",
       "    </tr>\n",
       "    <tr>\n",
       "      <th>305</th>\n",
       "      <td>Soja</td>\n",
       "      <td>19.06</td>\n",
       "      <td>7.20</td>\n",
       "      <td>20.93</td>\n",
       "      <td>117.13</td>\n",
       "      <td>45.96</td>\n",
       "      <td>5.34</td>\n",
       "      <td>Aspersor</td>\n",
       "      <td>Inorganico</td>\n",
       "      <td>6.76</td>\n",
       "      <td>149</td>\n",
       "      <td>2531.89</td>\n",
       "      <td>0.79</td>\n",
       "      <td>NaN</td>\n",
       "    </tr>\n",
       "    <tr>\n",
       "      <th>307</th>\n",
       "      <td>Trigo</td>\n",
       "      <td>28.81</td>\n",
       "      <td>7.46</td>\n",
       "      <td>30.56</td>\n",
       "      <td>245.13</td>\n",
       "      <td>45.32</td>\n",
       "      <td>8.47</td>\n",
       "      <td>NaN</td>\n",
       "      <td>Mixto</td>\n",
       "      <td>16.58</td>\n",
       "      <td>128</td>\n",
       "      <td>4203.51</td>\n",
       "      <td>0.65</td>\n",
       "      <td>Severo</td>\n",
       "    </tr>\n",
       "    <tr>\n",
       "      <th>308</th>\n",
       "      <td>Soja</td>\n",
       "      <td>34.22</td>\n",
       "      <td>6.75</td>\n",
       "      <td>17.46</td>\n",
       "      <td>256.23</td>\n",
       "      <td>45.14</td>\n",
       "      <td>5.78</td>\n",
       "      <td>NaN</td>\n",
       "      <td>Organico</td>\n",
       "      <td>5.05</td>\n",
       "      <td>104</td>\n",
       "      <td>3708.54</td>\n",
       "      <td>0.85</td>\n",
       "      <td>Severo</td>\n",
       "    </tr>\n",
       "    <tr>\n",
       "      <th>310</th>\n",
       "      <td>Trigo</td>\n",
       "      <td>30.22</td>\n",
       "      <td>7.42</td>\n",
       "      <td>20.57</td>\n",
       "      <td>72.61</td>\n",
       "      <td>89.74</td>\n",
       "      <td>5.09</td>\n",
       "      <td>NaN</td>\n",
       "      <td>Inorganico</td>\n",
       "      <td>19.37</td>\n",
       "      <td>134</td>\n",
       "      <td>5891.40</td>\n",
       "      <td>0.85</td>\n",
       "      <td>Severo</td>\n",
       "    </tr>\n",
       "  </tbody>\n",
       "</table>\n",
       "<p>148 rows × 14 columns</p>\n",
       "</div>"
      ],
      "text/plain": [
       "    tipoCultivo  humedadSuelo(%)  pHSuelo  temperatura(°C)  precipitacion(mm)  \\\n",
       "0         Trigo            35.95     5.99            17.79              75.62   \n",
       "1          Soja            19.74     7.24            30.18              89.91   \n",
       "3          Maiz            17.33     6.03            33.73             212.01   \n",
       "4          Soja            36.28     7.04            21.80             123.38   \n",
       "8          Maiz            42.43     7.07            20.70             224.15   \n",
       "..          ...              ...      ...              ...                ...   \n",
       "304        Soja            40.46     7.44            18.31             237.68   \n",
       "305        Soja            19.06     7.20            20.93             117.13   \n",
       "307       Trigo            28.81     7.46            30.56             245.13   \n",
       "308        Soja            34.22     6.75            17.46             256.23   \n",
       "310       Trigo            30.22     7.42            20.57              72.61   \n",
       "\n",
       "     humedad(%)  horasLuzSolar tipoRiego tipoFertilizante  mlPesticida  \\\n",
       "0         77.03           7.27       NaN         Organico         6.34   \n",
       "1         61.13           5.67  Aspersor       Inorganico         9.60   \n",
       "3         70.46           5.03  Aspersor         Organico        25.80   \n",
       "4         47.91           4.02    Manual            Mixto        39.29   \n",
       "8         76.53           8.70       NaN         Organico        13.55   \n",
       "..          ...            ...       ...              ...          ...   \n",
       "304       59.21           8.68       NaN            Mixto        17.22   \n",
       "305       45.96           5.34  Aspersor       Inorganico         6.76   \n",
       "307       45.32           8.47       NaN            Mixto        16.58   \n",
       "308       45.14           5.78       NaN         Organico         5.05   \n",
       "310       89.74           5.09       NaN       Inorganico        19.37   \n",
       "\n",
       "     diasTotales  rendimientoKg_hectarea  indiceNDVI estadoEnfermedadesCultivo  \n",
       "0            122                 4408.07        0.63                      Leve  \n",
       "1            112                 5389.98        0.58                       NaN  \n",
       "3            134                 4227.80        0.44                       NaN  \n",
       "4            145                 4501.20        0.76                       NaN  \n",
       "8            127                 4942.95        0.65                      Leve  \n",
       "..           ...                     ...         ...                       ...  \n",
       "304          100                 4287.59        0.77                    Severo  \n",
       "305          149                 2531.89        0.79                       NaN  \n",
       "307          128                 4203.51        0.65                    Severo  \n",
       "308          104                 3708.54        0.85                    Severo  \n",
       "310          134                 5891.40        0.85                    Severo  \n",
       "\n",
       "[148 rows x 14 columns]"
      ]
     },
     "execution_count": 159,
     "metadata": {},
     "output_type": "execute_result"
    }
   ],
   "source": [
    "df[df.isna().any(axis=1)]"
   ]
  },
  {
   "cell_type": "code",
   "execution_count": 160,
   "id": "852de2d8",
   "metadata": {},
   "outputs": [
    {
     "data": {
      "text/html": [
       "<div>\n",
       "<style scoped>\n",
       "    .dataframe tbody tr th:only-of-type {\n",
       "        vertical-align: middle;\n",
       "    }\n",
       "\n",
       "    .dataframe tbody tr th {\n",
       "        vertical-align: top;\n",
       "    }\n",
       "\n",
       "    .dataframe thead th {\n",
       "        text-align: right;\n",
       "    }\n",
       "</style>\n",
       "<table border=\"1\" class=\"dataframe\">\n",
       "  <thead>\n",
       "    <tr style=\"text-align: right;\">\n",
       "      <th></th>\n",
       "      <th>tipoCultivo</th>\n",
       "      <th>humedadSuelo(%)</th>\n",
       "      <th>pHSuelo</th>\n",
       "      <th>temperatura(°C)</th>\n",
       "      <th>precipitacion(mm)</th>\n",
       "      <th>humedad(%)</th>\n",
       "      <th>horasLuzSolar</th>\n",
       "      <th>tipoRiego</th>\n",
       "      <th>tipoFertilizante</th>\n",
       "      <th>mlPesticida</th>\n",
       "      <th>diasTotales</th>\n",
       "      <th>rendimientoKg_hectarea</th>\n",
       "      <th>indiceNDVI</th>\n",
       "      <th>estadoEnfermedadesCultivo</th>\n",
       "    </tr>\n",
       "  </thead>\n",
       "  <tbody>\n",
       "    <tr>\n",
       "      <th>0</th>\n",
       "      <td>Trigo</td>\n",
       "      <td>29.32</td>\n",
       "      <td>7.16</td>\n",
       "      <td>27.37</td>\n",
       "      <td>265.43</td>\n",
       "      <td>68.87</td>\n",
       "      <td>8.23</td>\n",
       "      <td>Goteo</td>\n",
       "      <td>Mixto</td>\n",
       "      <td>15.26</td>\n",
       "      <td>144</td>\n",
       "      <td>2931.16</td>\n",
       "      <td>0.80</td>\n",
       "      <td>Leve</td>\n",
       "    </tr>\n",
       "    <tr>\n",
       "      <th>1</th>\n",
       "      <td>Maiz</td>\n",
       "      <td>27.10</td>\n",
       "      <td>5.72</td>\n",
       "      <td>22.26</td>\n",
       "      <td>296.33</td>\n",
       "      <td>80.34</td>\n",
       "      <td>5.44</td>\n",
       "      <td>Aspersor</td>\n",
       "      <td>Mixto</td>\n",
       "      <td>47.61</td>\n",
       "      <td>121</td>\n",
       "      <td>5264.09</td>\n",
       "      <td>0.70</td>\n",
       "      <td>Leve</td>\n",
       "    </tr>\n",
       "    <tr>\n",
       "      <th>2</th>\n",
       "      <td>Soja</td>\n",
       "      <td>40.54</td>\n",
       "      <td>6.35</td>\n",
       "      <td>19.24</td>\n",
       "      <td>184.82</td>\n",
       "      <td>76.50</td>\n",
       "      <td>5.21</td>\n",
       "      <td>Manual</td>\n",
       "      <td>Inorganico</td>\n",
       "      <td>49.78</td>\n",
       "      <td>118</td>\n",
       "      <td>5598.46</td>\n",
       "      <td>0.50</td>\n",
       "      <td>Leve</td>\n",
       "    </tr>\n",
       "    <tr>\n",
       "      <th>3</th>\n",
       "      <td>Trigo</td>\n",
       "      <td>13.39</td>\n",
       "      <td>6.36</td>\n",
       "      <td>23.47</td>\n",
       "      <td>166.76</td>\n",
       "      <td>76.45</td>\n",
       "      <td>8.04</td>\n",
       "      <td>Goteo</td>\n",
       "      <td>Organico</td>\n",
       "      <td>23.12</td>\n",
       "      <td>145</td>\n",
       "      <td>2437.08</td>\n",
       "      <td>0.55</td>\n",
       "      <td>Moderate</td>\n",
       "    </tr>\n",
       "    <tr>\n",
       "      <th>4</th>\n",
       "      <td>Soja</td>\n",
       "      <td>12.80</td>\n",
       "      <td>5.87</td>\n",
       "      <td>26.90</td>\n",
       "      <td>218.80</td>\n",
       "      <td>51.76</td>\n",
       "      <td>4.72</td>\n",
       "      <td>Aspersor</td>\n",
       "      <td>Mixto</td>\n",
       "      <td>31.75</td>\n",
       "      <td>116</td>\n",
       "      <td>4629.49</td>\n",
       "      <td>0.42</td>\n",
       "      <td>Moderate</td>\n",
       "    </tr>\n",
       "    <tr>\n",
       "      <th>...</th>\n",
       "      <td>...</td>\n",
       "      <td>...</td>\n",
       "      <td>...</td>\n",
       "      <td>...</td>\n",
       "      <td>...</td>\n",
       "      <td>...</td>\n",
       "      <td>...</td>\n",
       "      <td>...</td>\n",
       "      <td>...</td>\n",
       "      <td>...</td>\n",
       "      <td>...</td>\n",
       "      <td>...</td>\n",
       "      <td>...</td>\n",
       "      <td>...</td>\n",
       "    </tr>\n",
       "    <tr>\n",
       "      <th>158</th>\n",
       "      <td>Maiz</td>\n",
       "      <td>29.30</td>\n",
       "      <td>6.71</td>\n",
       "      <td>32.93</td>\n",
       "      <td>92.69</td>\n",
       "      <td>87.33</td>\n",
       "      <td>6.34</td>\n",
       "      <td>Manual</td>\n",
       "      <td>Mixto</td>\n",
       "      <td>35.50</td>\n",
       "      <td>128</td>\n",
       "      <td>5528.08</td>\n",
       "      <td>0.31</td>\n",
       "      <td>Leve</td>\n",
       "    </tr>\n",
       "    <tr>\n",
       "      <th>159</th>\n",
       "      <td>Maiz</td>\n",
       "      <td>26.91</td>\n",
       "      <td>6.03</td>\n",
       "      <td>15.04</td>\n",
       "      <td>207.79</td>\n",
       "      <td>59.68</td>\n",
       "      <td>9.54</td>\n",
       "      <td>Goteo</td>\n",
       "      <td>Inorganico</td>\n",
       "      <td>45.16</td>\n",
       "      <td>112</td>\n",
       "      <td>2023.56</td>\n",
       "      <td>0.30</td>\n",
       "      <td>Leve</td>\n",
       "    </tr>\n",
       "    <tr>\n",
       "      <th>160</th>\n",
       "      <td>Trigo</td>\n",
       "      <td>31.58</td>\n",
       "      <td>5.68</td>\n",
       "      <td>16.02</td>\n",
       "      <td>151.82</td>\n",
       "      <td>55.32</td>\n",
       "      <td>7.80</td>\n",
       "      <td>Aspersor</td>\n",
       "      <td>Organico</td>\n",
       "      <td>20.13</td>\n",
       "      <td>122</td>\n",
       "      <td>3708.29</td>\n",
       "      <td>0.47</td>\n",
       "      <td>Moderate</td>\n",
       "    </tr>\n",
       "    <tr>\n",
       "      <th>161</th>\n",
       "      <td>Maiz</td>\n",
       "      <td>32.14</td>\n",
       "      <td>7.44</td>\n",
       "      <td>21.49</td>\n",
       "      <td>286.61</td>\n",
       "      <td>84.20</td>\n",
       "      <td>5.58</td>\n",
       "      <td>Aspersor</td>\n",
       "      <td>Inorganico</td>\n",
       "      <td>45.43</td>\n",
       "      <td>93</td>\n",
       "      <td>4503.82</td>\n",
       "      <td>0.88</td>\n",
       "      <td>Leve</td>\n",
       "    </tr>\n",
       "    <tr>\n",
       "      <th>162</th>\n",
       "      <td>Soja</td>\n",
       "      <td>38.61</td>\n",
       "      <td>6.20</td>\n",
       "      <td>17.08</td>\n",
       "      <td>279.06</td>\n",
       "      <td>73.09</td>\n",
       "      <td>9.60</td>\n",
       "      <td>Goteo</td>\n",
       "      <td>Organico</td>\n",
       "      <td>43.78</td>\n",
       "      <td>131</td>\n",
       "      <td>2586.36</td>\n",
       "      <td>0.77</td>\n",
       "      <td>Severo</td>\n",
       "    </tr>\n",
       "  </tbody>\n",
       "</table>\n",
       "<p>163 rows × 14 columns</p>\n",
       "</div>"
      ],
      "text/plain": [
       "    tipoCultivo  humedadSuelo(%)  pHSuelo  temperatura(°C)  precipitacion(mm)  \\\n",
       "0         Trigo            29.32     7.16            27.37             265.43   \n",
       "1          Maiz            27.10     5.72            22.26             296.33   \n",
       "2          Soja            40.54     6.35            19.24             184.82   \n",
       "3         Trigo            13.39     6.36            23.47             166.76   \n",
       "4          Soja            12.80     5.87            26.90             218.80   \n",
       "..          ...              ...      ...              ...                ...   \n",
       "158        Maiz            29.30     6.71            32.93              92.69   \n",
       "159        Maiz            26.91     6.03            15.04             207.79   \n",
       "160       Trigo            31.58     5.68            16.02             151.82   \n",
       "161        Maiz            32.14     7.44            21.49             286.61   \n",
       "162        Soja            38.61     6.20            17.08             279.06   \n",
       "\n",
       "     humedad(%)  horasLuzSolar tipoRiego tipoFertilizante  mlPesticida  \\\n",
       "0         68.87           8.23     Goteo            Mixto        15.26   \n",
       "1         80.34           5.44  Aspersor            Mixto        47.61   \n",
       "2         76.50           5.21    Manual       Inorganico        49.78   \n",
       "3         76.45           8.04     Goteo         Organico        23.12   \n",
       "4         51.76           4.72  Aspersor            Mixto        31.75   \n",
       "..          ...            ...       ...              ...          ...   \n",
       "158       87.33           6.34    Manual            Mixto        35.50   \n",
       "159       59.68           9.54     Goteo       Inorganico        45.16   \n",
       "160       55.32           7.80  Aspersor         Organico        20.13   \n",
       "161       84.20           5.58  Aspersor       Inorganico        45.43   \n",
       "162       73.09           9.60     Goteo         Organico        43.78   \n",
       "\n",
       "     diasTotales  rendimientoKg_hectarea  indiceNDVI estadoEnfermedadesCultivo  \n",
       "0            144                 2931.16        0.80                      Leve  \n",
       "1            121                 5264.09        0.70                      Leve  \n",
       "2            118                 5598.46        0.50                      Leve  \n",
       "3            145                 2437.08        0.55                  Moderate  \n",
       "4            116                 4629.49        0.42                  Moderate  \n",
       "..           ...                     ...         ...                       ...  \n",
       "158          128                 5528.08        0.31                      Leve  \n",
       "159          112                 2023.56        0.30                      Leve  \n",
       "160          122                 3708.29        0.47                  Moderate  \n",
       "161           93                 4503.82        0.88                      Leve  \n",
       "162          131                 2586.36        0.77                    Severo  \n",
       "\n",
       "[163 rows x 14 columns]"
      ]
     },
     "execution_count": 160,
     "metadata": {},
     "output_type": "execute_result"
    }
   ],
   "source": [
    "df.dropna(inplace=True)\n",
    "df.reset_index(drop=True, inplace=True)\n",
    "df"
   ]
  },
  {
   "cell_type": "markdown",
   "id": "7b60ea99",
   "metadata": {},
   "source": [
    "**Distrubuciones de las variables**"
   ]
  },
  {
   "cell_type": "code",
   "execution_count": 161,
   "id": "d7d6a650",
   "metadata": {},
   "outputs": [],
   "source": [
    "#Selección de columnas númericas\n",
    "cols = ['humedadSuelo(%)', 'pHSuelo', 'temperatura(°C)','precipitacion(mm)', 'humedad(%)', 'horasLuzSolar', \n",
    "'mlPesticida', 'diasTotales', 'rendimientoKg_hectarea', 'indiceNDVI']"
   ]
  },
  {
   "cell_type": "code",
   "execution_count": 162,
   "id": "6b0f8480",
   "metadata": {},
   "outputs": [
    {
     "data": {
      "image/png": "[encoded data removed]",
      "text/plain": [
       "<Figure size 1200x1800 with 10 Axes>"
      ]
     },
     "metadata": {},
     "output_type": "display_data"
    }
   ],
   "source": [
    "# Definimos el layout → 5 filas x 2 columnas = 10 subplots\n",
    "fig, axes = plt.subplots(nrows=5, ncols=2, figsize=(12, 18))\n",
    "\n",
    "# Aplanamos la grilla de ejes\n",
    "axes = axes.flatten()\n",
    "\n",
    "# Iteramos\n",
    "for i, col in enumerate(cols):\n",
    "    sns.boxplot(y=df[col], ax=axes[i])\n",
    "    axes[i].set_title(col)\n",
    "\n",
    "# Ajustamos diseño\n",
    "plt.tight_layout()\n",
    "plt.show()"
   ]
  },
  {
   "cell_type": "code",
   "execution_count": 163,
   "id": "d285f3ef",
   "metadata": {},
   "outputs": [
    {
     "data": {
      "image/png": "[encoded data removed]",
      "text/plain": [
       "<Figure size 1000x500 with 2 Axes>"
      ]
     },
     "metadata": {},
     "output_type": "display_data"
    }
   ],
   "source": [
    "#Selección de columnas númericas\n",
    "cols = ['humedadSuelo(%)', 'pHSuelo', 'temperatura(°C)','precipitacion(mm)', 'humedad(%)', 'horasLuzSolar', \n",
    "'mlPesticida', 'diasTotales', 'rendimientoKg_hectarea', 'indiceNDVI']\n",
    "\n",
    "plt.figure(figsize=(10,5))\n",
    "sns.heatmap(df[cols].corr(), vmin=-1, vmax=1, annot=True)\n",
    "plt.title('Correlación entre variables del dataset')\n",
    "plt.show()"
   ]
  },
  {
   "cell_type": "markdown",
   "id": "41b025c2",
   "metadata": {},
   "source": [
    "**Codificación de variables catgorícas**"
   ]
  },
  {
   "cell_type": "code",
   "execution_count": 164,
   "id": "198cfebf",
   "metadata": {},
   "outputs": [
    {
     "name": "stdout",
     "output_type": "stream",
     "text": [
      "<class 'pandas.core.frame.DataFrame'>\n",
      "RangeIndex: 163 entries, 0 to 162\n",
      "Data columns (total 14 columns):\n",
      " #   Column                     Non-Null Count  Dtype  \n",
      "---  ------                     --------------  -----  \n",
      " 0   tipoCultivo                163 non-null    object \n",
      " 1   humedadSuelo(%)            163 non-null    float64\n",
      " 2   pHSuelo                    163 non-null    float64\n",
      " 3   temperatura(°C)            163 non-null    float64\n",
      " 4   precipitacion(mm)          163 non-null    float64\n",
      " 5   humedad(%)                 163 non-null    float64\n",
      " 6   horasLuzSolar              163 non-null    float64\n",
      " 7   tipoRiego                  163 non-null    object \n",
      " 8   tipoFertilizante           163 non-null    object \n",
      " 9   mlPesticida                163 non-null    float64\n",
      " 10  diasTotales                163 non-null    int64  \n",
      " 11  rendimientoKg_hectarea     163 non-null    float64\n",
      " 12  indiceNDVI                 163 non-null    float64\n",
      " 13  estadoEnfermedadesCultivo  163 non-null    object \n",
      "dtypes: float64(9), int64(1), object(4)\n",
      "memory usage: 18.0+ KB\n"
     ]
    }
   ],
   "source": [
    "df.info()"
   ]
  },
  {
   "cell_type": "code",
   "execution_count": 165,
   "id": "e5124743",
   "metadata": {},
   "outputs": [
    {
     "data": {
      "text/html": [
       "<div>\n",
       "<style scoped>\n",
       "    .dataframe tbody tr th:only-of-type {\n",
       "        vertical-align: middle;\n",
       "    }\n",
       "\n",
       "    .dataframe tbody tr th {\n",
       "        vertical-align: top;\n",
       "    }\n",
       "\n",
       "    .dataframe thead th {\n",
       "        text-align: right;\n",
       "    }\n",
       "</style>\n",
       "<table border=\"1\" class=\"dataframe\">\n",
       "  <thead>\n",
       "    <tr style=\"text-align: right;\">\n",
       "      <th></th>\n",
       "      <th>tipoCultivo</th>\n",
       "      <th>humedadSuelo(%)</th>\n",
       "      <th>pHSuelo</th>\n",
       "      <th>temperatura(°C)</th>\n",
       "      <th>precipitacion(mm)</th>\n",
       "      <th>humedad(%)</th>\n",
       "      <th>horasLuzSolar</th>\n",
       "      <th>mlPesticida</th>\n",
       "      <th>diasTotales</th>\n",
       "      <th>rendimientoKg_hectarea</th>\n",
       "      <th>indiceNDVI</th>\n",
       "      <th>tipoRiego_Goteo</th>\n",
       "      <th>tipoRiego_Manual</th>\n",
       "      <th>tipoFertilizante_Mixto</th>\n",
       "      <th>tipoFertilizante_Organico</th>\n",
       "      <th>estadoEnfermedadesCultivo_Moderate</th>\n",
       "      <th>estadoEnfermedadesCultivo_Severo</th>\n",
       "    </tr>\n",
       "  </thead>\n",
       "  <tbody>\n",
       "    <tr>\n",
       "      <th>0</th>\n",
       "      <td>Trigo</td>\n",
       "      <td>29.32</td>\n",
       "      <td>7.16</td>\n",
       "      <td>27.37</td>\n",
       "      <td>265.43</td>\n",
       "      <td>68.87</td>\n",
       "      <td>8.23</td>\n",
       "      <td>15.26</td>\n",
       "      <td>144</td>\n",
       "      <td>2931.16</td>\n",
       "      <td>0.80</td>\n",
       "      <td>True</td>\n",
       "      <td>False</td>\n",
       "      <td>True</td>\n",
       "      <td>False</td>\n",
       "      <td>False</td>\n",
       "      <td>False</td>\n",
       "    </tr>\n",
       "    <tr>\n",
       "      <th>1</th>\n",
       "      <td>Maiz</td>\n",
       "      <td>27.10</td>\n",
       "      <td>5.72</td>\n",
       "      <td>22.26</td>\n",
       "      <td>296.33</td>\n",
       "      <td>80.34</td>\n",
       "      <td>5.44</td>\n",
       "      <td>47.61</td>\n",
       "      <td>121</td>\n",
       "      <td>5264.09</td>\n",
       "      <td>0.70</td>\n",
       "      <td>False</td>\n",
       "      <td>False</td>\n",
       "      <td>True</td>\n",
       "      <td>False</td>\n",
       "      <td>False</td>\n",
       "      <td>False</td>\n",
       "    </tr>\n",
       "    <tr>\n",
       "      <th>2</th>\n",
       "      <td>Soja</td>\n",
       "      <td>40.54</td>\n",
       "      <td>6.35</td>\n",
       "      <td>19.24</td>\n",
       "      <td>184.82</td>\n",
       "      <td>76.50</td>\n",
       "      <td>5.21</td>\n",
       "      <td>49.78</td>\n",
       "      <td>118</td>\n",
       "      <td>5598.46</td>\n",
       "      <td>0.50</td>\n",
       "      <td>False</td>\n",
       "      <td>True</td>\n",
       "      <td>False</td>\n",
       "      <td>False</td>\n",
       "      <td>False</td>\n",
       "      <td>False</td>\n",
       "    </tr>\n",
       "    <tr>\n",
       "      <th>3</th>\n",
       "      <td>Trigo</td>\n",
       "      <td>13.39</td>\n",
       "      <td>6.36</td>\n",
       "      <td>23.47</td>\n",
       "      <td>166.76</td>\n",
       "      <td>76.45</td>\n",
       "      <td>8.04</td>\n",
       "      <td>23.12</td>\n",
       "      <td>145</td>\n",
       "      <td>2437.08</td>\n",
       "      <td>0.55</td>\n",
       "      <td>True</td>\n",
       "      <td>False</td>\n",
       "      <td>False</td>\n",
       "      <td>True</td>\n",
       "      <td>True</td>\n",
       "      <td>False</td>\n",
       "    </tr>\n",
       "    <tr>\n",
       "      <th>4</th>\n",
       "      <td>Soja</td>\n",
       "      <td>12.80</td>\n",
       "      <td>5.87</td>\n",
       "      <td>26.90</td>\n",
       "      <td>218.80</td>\n",
       "      <td>51.76</td>\n",
       "      <td>4.72</td>\n",
       "      <td>31.75</td>\n",
       "      <td>116</td>\n",
       "      <td>4629.49</td>\n",
       "      <td>0.42</td>\n",
       "      <td>False</td>\n",
       "      <td>False</td>\n",
       "      <td>True</td>\n",
       "      <td>False</td>\n",
       "      <td>True</td>\n",
       "      <td>False</td>\n",
       "    </tr>\n",
       "    <tr>\n",
       "      <th>...</th>\n",
       "      <td>...</td>\n",
       "      <td>...</td>\n",
       "      <td>...</td>\n",
       "      <td>...</td>\n",
       "      <td>...</td>\n",
       "      <td>...</td>\n",
       "      <td>...</td>\n",
       "      <td>...</td>\n",
       "      <td>...</td>\n",
       "      <td>...</td>\n",
       "      <td>...</td>\n",
       "      <td>...</td>\n",
       "      <td>...</td>\n",
       "      <td>...</td>\n",
       "      <td>...</td>\n",
       "      <td>...</td>\n",
       "      <td>...</td>\n",
       "    </tr>\n",
       "    <tr>\n",
       "      <th>158</th>\n",
       "      <td>Maiz</td>\n",
       "      <td>29.30</td>\n",
       "      <td>6.71</td>\n",
       "      <td>32.93</td>\n",
       "      <td>92.69</td>\n",
       "      <td>87.33</td>\n",
       "      <td>6.34</td>\n",
       "      <td>35.50</td>\n",
       "      <td>128</td>\n",
       "      <td>5528.08</td>\n",
       "      <td>0.31</td>\n",
       "      <td>False</td>\n",
       "      <td>True</td>\n",
       "      <td>True</td>\n",
       "      <td>False</td>\n",
       "      <td>False</td>\n",
       "      <td>False</td>\n",
       "    </tr>\n",
       "    <tr>\n",
       "      <th>159</th>\n",
       "      <td>Maiz</td>\n",
       "      <td>26.91</td>\n",
       "      <td>6.03</td>\n",
       "      <td>15.04</td>\n",
       "      <td>207.79</td>\n",
       "      <td>59.68</td>\n",
       "      <td>9.54</td>\n",
       "      <td>45.16</td>\n",
       "      <td>112</td>\n",
       "      <td>2023.56</td>\n",
       "      <td>0.30</td>\n",
       "      <td>True</td>\n",
       "      <td>False</td>\n",
       "      <td>False</td>\n",
       "      <td>False</td>\n",
       "      <td>False</td>\n",
       "      <td>False</td>\n",
       "    </tr>\n",
       "    <tr>\n",
       "      <th>160</th>\n",
       "      <td>Trigo</td>\n",
       "      <td>31.58</td>\n",
       "      <td>5.68</td>\n",
       "      <td>16.02</td>\n",
       "      <td>151.82</td>\n",
       "      <td>55.32</td>\n",
       "      <td>7.80</td>\n",
       "      <td>20.13</td>\n",
       "      <td>122</td>\n",
       "      <td>3708.29</td>\n",
       "      <td>0.47</td>\n",
       "      <td>False</td>\n",
       "      <td>False</td>\n",
       "      <td>False</td>\n",
       "      <td>True</td>\n",
       "      <td>True</td>\n",
       "      <td>False</td>\n",
       "    </tr>\n",
       "    <tr>\n",
       "      <th>161</th>\n",
       "      <td>Maiz</td>\n",
       "      <td>32.14</td>\n",
       "      <td>7.44</td>\n",
       "      <td>21.49</td>\n",
       "      <td>286.61</td>\n",
       "      <td>84.20</td>\n",
       "      <td>5.58</td>\n",
       "      <td>45.43</td>\n",
       "      <td>93</td>\n",
       "      <td>4503.82</td>\n",
       "      <td>0.88</td>\n",
       "      <td>False</td>\n",
       "      <td>False</td>\n",
       "      <td>False</td>\n",
       "      <td>False</td>\n",
       "      <td>False</td>\n",
       "      <td>False</td>\n",
       "    </tr>\n",
       "    <tr>\n",
       "      <th>162</th>\n",
       "      <td>Soja</td>\n",
       "      <td>38.61</td>\n",
       "      <td>6.20</td>\n",
       "      <td>17.08</td>\n",
       "      <td>279.06</td>\n",
       "      <td>73.09</td>\n",
       "      <td>9.60</td>\n",
       "      <td>43.78</td>\n",
       "      <td>131</td>\n",
       "      <td>2586.36</td>\n",
       "      <td>0.77</td>\n",
       "      <td>True</td>\n",
       "      <td>False</td>\n",
       "      <td>False</td>\n",
       "      <td>True</td>\n",
       "      <td>False</td>\n",
       "      <td>True</td>\n",
       "    </tr>\n",
       "  </tbody>\n",
       "</table>\n",
       "<p>163 rows × 17 columns</p>\n",
       "</div>"
      ],
      "text/plain": [
       "    tipoCultivo  humedadSuelo(%)  pHSuelo  temperatura(°C)  precipitacion(mm)  \\\n",
       "0         Trigo            29.32     7.16            27.37             265.43   \n",
       "1          Maiz            27.10     5.72            22.26             296.33   \n",
       "2          Soja            40.54     6.35            19.24             184.82   \n",
       "3         Trigo            13.39     6.36            23.47             166.76   \n",
       "4          Soja            12.80     5.87            26.90             218.80   \n",
       "..          ...              ...      ...              ...                ...   \n",
       "158        Maiz            29.30     6.71            32.93              92.69   \n",
       "159        Maiz            26.91     6.03            15.04             207.79   \n",
       "160       Trigo            31.58     5.68            16.02             151.82   \n",
       "161        Maiz            32.14     7.44            21.49             286.61   \n",
       "162        Soja            38.61     6.20            17.08             279.06   \n",
       "\n",
       "     humedad(%)  horasLuzSolar  mlPesticida  diasTotales  \\\n",
       "0         68.87           8.23        15.26          144   \n",
       "1         80.34           5.44        47.61          121   \n",
       "2         76.50           5.21        49.78          118   \n",
       "3         76.45           8.04        23.12          145   \n",
       "4         51.76           4.72        31.75          116   \n",
       "..          ...            ...          ...          ...   \n",
       "158       87.33           6.34        35.50          128   \n",
       "159       59.68           9.54        45.16          112   \n",
       "160       55.32           7.80        20.13          122   \n",
       "161       84.20           5.58        45.43           93   \n",
       "162       73.09           9.60        43.78          131   \n",
       "\n",
       "     rendimientoKg_hectarea  indiceNDVI  tipoRiego_Goteo  tipoRiego_Manual  \\\n",
       "0                   2931.16        0.80             True             False   \n",
       "1                   5264.09        0.70            False             False   \n",
       "2                   5598.46        0.50            False              True   \n",
       "3                   2437.08        0.55             True             False   \n",
       "4                   4629.49        0.42            False             False   \n",
       "..                      ...         ...              ...               ...   \n",
       "158                 5528.08        0.31            False              True   \n",
       "159                 2023.56        0.30             True             False   \n",
       "160                 3708.29        0.47            False             False   \n",
       "161                 4503.82        0.88            False             False   \n",
       "162                 2586.36        0.77             True             False   \n",
       "\n",
       "     tipoFertilizante_Mixto  tipoFertilizante_Organico  \\\n",
       "0                      True                      False   \n",
       "1                      True                      False   \n",
       "2                     False                      False   \n",
       "3                     False                       True   \n",
       "4                      True                      False   \n",
       "..                      ...                        ...   \n",
       "158                    True                      False   \n",
       "159                   False                      False   \n",
       "160                   False                       True   \n",
       "161                   False                      False   \n",
       "162                   False                       True   \n",
       "\n",
       "     estadoEnfermedadesCultivo_Moderate  estadoEnfermedadesCultivo_Severo  \n",
       "0                                 False                             False  \n",
       "1                                 False                             False  \n",
       "2                                 False                             False  \n",
       "3                                  True                             False  \n",
       "4                                  True                             False  \n",
       "..                                  ...                               ...  \n",
       "158                               False                             False  \n",
       "159                               False                             False  \n",
       "160                                True                             False  \n",
       "161                               False                             False  \n",
       "162                               False                              True  \n",
       "\n",
       "[163 rows x 17 columns]"
      ]
     },
     "execution_count": 165,
     "metadata": {},
     "output_type": "execute_result"
    }
   ],
   "source": [
    "df = pd.get_dummies(data=df, columns=['tipoRiego', 'tipoFertilizante', 'estadoEnfermedadesCultivo'], drop_first=True)\n",
    "\n",
    "df"
   ]
  },
  {
   "cell_type": "code",
   "execution_count": 166,
   "id": "0b861bde",
   "metadata": {},
   "outputs": [
    {
     "data": {
      "text/html": [
       "<div>\n",
       "<style scoped>\n",
       "    .dataframe tbody tr th:only-of-type {\n",
       "        vertical-align: middle;\n",
       "    }\n",
       "\n",
       "    .dataframe tbody tr th {\n",
       "        vertical-align: top;\n",
       "    }\n",
       "\n",
       "    .dataframe thead th {\n",
       "        text-align: right;\n",
       "    }\n",
       "</style>\n",
       "<table border=\"1\" class=\"dataframe\">\n",
       "  <thead>\n",
       "    <tr style=\"text-align: right;\">\n",
       "      <th></th>\n",
       "      <th>tipoCultivo</th>\n",
       "      <th>humedadSuelo(%)</th>\n",
       "      <th>pHSuelo</th>\n",
       "      <th>temperatura(°C)</th>\n",
       "      <th>precipitacion(mm)</th>\n",
       "      <th>humedad(%)</th>\n",
       "      <th>horasLuzSolar</th>\n",
       "      <th>mlPesticida</th>\n",
       "      <th>rendimientoKg_hectarea</th>\n",
       "      <th>indiceNDVI</th>\n",
       "      <th>tipoRiego_Goteo</th>\n",
       "      <th>tipoRiego_Manual</th>\n",
       "      <th>tipoFertilizante_Mixto</th>\n",
       "      <th>tipoFertilizante_Organico</th>\n",
       "      <th>estadoEnfermedadesCultivo_Moderate</th>\n",
       "      <th>estadoEnfermedadesCultivo_Severo</th>\n",
       "      <th>mas_120_dias</th>\n",
       "    </tr>\n",
       "  </thead>\n",
       "  <tbody>\n",
       "    <tr>\n",
       "      <th>0</th>\n",
       "      <td>Trigo</td>\n",
       "      <td>29.32</td>\n",
       "      <td>7.16</td>\n",
       "      <td>27.37</td>\n",
       "      <td>265.43</td>\n",
       "      <td>68.87</td>\n",
       "      <td>8.23</td>\n",
       "      <td>15.26</td>\n",
       "      <td>2931.16</td>\n",
       "      <td>0.80</td>\n",
       "      <td>True</td>\n",
       "      <td>False</td>\n",
       "      <td>True</td>\n",
       "      <td>False</td>\n",
       "      <td>False</td>\n",
       "      <td>False</td>\n",
       "      <td>True</td>\n",
       "    </tr>\n",
       "    <tr>\n",
       "      <th>1</th>\n",
       "      <td>Maiz</td>\n",
       "      <td>27.10</td>\n",
       "      <td>5.72</td>\n",
       "      <td>22.26</td>\n",
       "      <td>296.33</td>\n",
       "      <td>80.34</td>\n",
       "      <td>5.44</td>\n",
       "      <td>47.61</td>\n",
       "      <td>5264.09</td>\n",
       "      <td>0.70</td>\n",
       "      <td>False</td>\n",
       "      <td>False</td>\n",
       "      <td>True</td>\n",
       "      <td>False</td>\n",
       "      <td>False</td>\n",
       "      <td>False</td>\n",
       "      <td>True</td>\n",
       "    </tr>\n",
       "    <tr>\n",
       "      <th>2</th>\n",
       "      <td>Soja</td>\n",
       "      <td>40.54</td>\n",
       "      <td>6.35</td>\n",
       "      <td>19.24</td>\n",
       "      <td>184.82</td>\n",
       "      <td>76.50</td>\n",
       "      <td>5.21</td>\n",
       "      <td>49.78</td>\n",
       "      <td>5598.46</td>\n",
       "      <td>0.50</td>\n",
       "      <td>False</td>\n",
       "      <td>True</td>\n",
       "      <td>False</td>\n",
       "      <td>False</td>\n",
       "      <td>False</td>\n",
       "      <td>False</td>\n",
       "      <td>False</td>\n",
       "    </tr>\n",
       "    <tr>\n",
       "      <th>3</th>\n",
       "      <td>Trigo</td>\n",
       "      <td>13.39</td>\n",
       "      <td>6.36</td>\n",
       "      <td>23.47</td>\n",
       "      <td>166.76</td>\n",
       "      <td>76.45</td>\n",
       "      <td>8.04</td>\n",
       "      <td>23.12</td>\n",
       "      <td>2437.08</td>\n",
       "      <td>0.55</td>\n",
       "      <td>True</td>\n",
       "      <td>False</td>\n",
       "      <td>False</td>\n",
       "      <td>True</td>\n",
       "      <td>True</td>\n",
       "      <td>False</td>\n",
       "      <td>True</td>\n",
       "    </tr>\n",
       "    <tr>\n",
       "      <th>4</th>\n",
       "      <td>Soja</td>\n",
       "      <td>12.80</td>\n",
       "      <td>5.87</td>\n",
       "      <td>26.90</td>\n",
       "      <td>218.80</td>\n",
       "      <td>51.76</td>\n",
       "      <td>4.72</td>\n",
       "      <td>31.75</td>\n",
       "      <td>4629.49</td>\n",
       "      <td>0.42</td>\n",
       "      <td>False</td>\n",
       "      <td>False</td>\n",
       "      <td>True</td>\n",
       "      <td>False</td>\n",
       "      <td>True</td>\n",
       "      <td>False</td>\n",
       "      <td>False</td>\n",
       "    </tr>\n",
       "    <tr>\n",
       "      <th>...</th>\n",
       "      <td>...</td>\n",
       "      <td>...</td>\n",
       "      <td>...</td>\n",
       "      <td>...</td>\n",
       "      <td>...</td>\n",
       "      <td>...</td>\n",
       "      <td>...</td>\n",
       "      <td>...</td>\n",
       "      <td>...</td>\n",
       "      <td>...</td>\n",
       "      <td>...</td>\n",
       "      <td>...</td>\n",
       "      <td>...</td>\n",
       "      <td>...</td>\n",
       "      <td>...</td>\n",
       "      <td>...</td>\n",
       "      <td>...</td>\n",
       "    </tr>\n",
       "    <tr>\n",
       "      <th>158</th>\n",
       "      <td>Maiz</td>\n",
       "      <td>29.30</td>\n",
       "      <td>6.71</td>\n",
       "      <td>32.93</td>\n",
       "      <td>92.69</td>\n",
       "      <td>87.33</td>\n",
       "      <td>6.34</td>\n",
       "      <td>35.50</td>\n",
       "      <td>5528.08</td>\n",
       "      <td>0.31</td>\n",
       "      <td>False</td>\n",
       "      <td>True</td>\n",
       "      <td>True</td>\n",
       "      <td>False</td>\n",
       "      <td>False</td>\n",
       "      <td>False</td>\n",
       "      <td>True</td>\n",
       "    </tr>\n",
       "    <tr>\n",
       "      <th>159</th>\n",
       "      <td>Maiz</td>\n",
       "      <td>26.91</td>\n",
       "      <td>6.03</td>\n",
       "      <td>15.04</td>\n",
       "      <td>207.79</td>\n",
       "      <td>59.68</td>\n",
       "      <td>9.54</td>\n",
       "      <td>45.16</td>\n",
       "      <td>2023.56</td>\n",
       "      <td>0.30</td>\n",
       "      <td>True</td>\n",
       "      <td>False</td>\n",
       "      <td>False</td>\n",
       "      <td>False</td>\n",
       "      <td>False</td>\n",
       "      <td>False</td>\n",
       "      <td>False</td>\n",
       "    </tr>\n",
       "    <tr>\n",
       "      <th>160</th>\n",
       "      <td>Trigo</td>\n",
       "      <td>31.58</td>\n",
       "      <td>5.68</td>\n",
       "      <td>16.02</td>\n",
       "      <td>151.82</td>\n",
       "      <td>55.32</td>\n",
       "      <td>7.80</td>\n",
       "      <td>20.13</td>\n",
       "      <td>3708.29</td>\n",
       "      <td>0.47</td>\n",
       "      <td>False</td>\n",
       "      <td>False</td>\n",
       "      <td>False</td>\n",
       "      <td>True</td>\n",
       "      <td>True</td>\n",
       "      <td>False</td>\n",
       "      <td>True</td>\n",
       "    </tr>\n",
       "    <tr>\n",
       "      <th>161</th>\n",
       "      <td>Maiz</td>\n",
       "      <td>32.14</td>\n",
       "      <td>7.44</td>\n",
       "      <td>21.49</td>\n",
       "      <td>286.61</td>\n",
       "      <td>84.20</td>\n",
       "      <td>5.58</td>\n",
       "      <td>45.43</td>\n",
       "      <td>4503.82</td>\n",
       "      <td>0.88</td>\n",
       "      <td>False</td>\n",
       "      <td>False</td>\n",
       "      <td>False</td>\n",
       "      <td>False</td>\n",
       "      <td>False</td>\n",
       "      <td>False</td>\n",
       "      <td>False</td>\n",
       "    </tr>\n",
       "    <tr>\n",
       "      <th>162</th>\n",
       "      <td>Soja</td>\n",
       "      <td>38.61</td>\n",
       "      <td>6.20</td>\n",
       "      <td>17.08</td>\n",
       "      <td>279.06</td>\n",
       "      <td>73.09</td>\n",
       "      <td>9.60</td>\n",
       "      <td>43.78</td>\n",
       "      <td>2586.36</td>\n",
       "      <td>0.77</td>\n",
       "      <td>True</td>\n",
       "      <td>False</td>\n",
       "      <td>False</td>\n",
       "      <td>True</td>\n",
       "      <td>False</td>\n",
       "      <td>True</td>\n",
       "      <td>True</td>\n",
       "    </tr>\n",
       "  </tbody>\n",
       "</table>\n",
       "<p>163 rows × 17 columns</p>\n",
       "</div>"
      ],
      "text/plain": [
       "    tipoCultivo  humedadSuelo(%)  pHSuelo  temperatura(°C)  precipitacion(mm)  \\\n",
       "0         Trigo            29.32     7.16            27.37             265.43   \n",
       "1          Maiz            27.10     5.72            22.26             296.33   \n",
       "2          Soja            40.54     6.35            19.24             184.82   \n",
       "3         Trigo            13.39     6.36            23.47             166.76   \n",
       "4          Soja            12.80     5.87            26.90             218.80   \n",
       "..          ...              ...      ...              ...                ...   \n",
       "158        Maiz            29.30     6.71            32.93              92.69   \n",
       "159        Maiz            26.91     6.03            15.04             207.79   \n",
       "160       Trigo            31.58     5.68            16.02             151.82   \n",
       "161        Maiz            32.14     7.44            21.49             286.61   \n",
       "162        Soja            38.61     6.20            17.08             279.06   \n",
       "\n",
       "     humedad(%)  horasLuzSolar  mlPesticida  rendimientoKg_hectarea  \\\n",
       "0         68.87           8.23        15.26                 2931.16   \n",
       "1         80.34           5.44        47.61                 5264.09   \n",
       "2         76.50           5.21        49.78                 5598.46   \n",
       "3         76.45           8.04        23.12                 2437.08   \n",
       "4         51.76           4.72        31.75                 4629.49   \n",
       "..          ...            ...          ...                     ...   \n",
       "158       87.33           6.34        35.50                 5528.08   \n",
       "159       59.68           9.54        45.16                 2023.56   \n",
       "160       55.32           7.80        20.13                 3708.29   \n",
       "161       84.20           5.58        45.43                 4503.82   \n",
       "162       73.09           9.60        43.78                 2586.36   \n",
       "\n",
       "     indiceNDVI  tipoRiego_Goteo  tipoRiego_Manual  tipoFertilizante_Mixto  \\\n",
       "0          0.80             True             False                    True   \n",
       "1          0.70            False             False                    True   \n",
       "2          0.50            False              True                   False   \n",
       "3          0.55             True             False                   False   \n",
       "4          0.42            False             False                    True   \n",
       "..          ...              ...               ...                     ...   \n",
       "158        0.31            False              True                    True   \n",
       "159        0.30             True             False                   False   \n",
       "160        0.47            False             False                   False   \n",
       "161        0.88            False             False                   False   \n",
       "162        0.77             True             False                   False   \n",
       "\n",
       "     tipoFertilizante_Organico  estadoEnfermedadesCultivo_Moderate  \\\n",
       "0                        False                               False   \n",
       "1                        False                               False   \n",
       "2                        False                               False   \n",
       "3                         True                                True   \n",
       "4                        False                                True   \n",
       "..                         ...                                 ...   \n",
       "158                      False                               False   \n",
       "159                      False                               False   \n",
       "160                       True                                True   \n",
       "161                      False                               False   \n",
       "162                       True                               False   \n",
       "\n",
       "     estadoEnfermedadesCultivo_Severo  mas_120_dias  \n",
       "0                               False          True  \n",
       "1                               False          True  \n",
       "2                               False         False  \n",
       "3                               False          True  \n",
       "4                               False         False  \n",
       "..                                ...           ...  \n",
       "158                             False          True  \n",
       "159                             False         False  \n",
       "160                             False          True  \n",
       "161                             False         False  \n",
       "162                              True          True  \n",
       "\n",
       "[163 rows x 17 columns]"
      ]
     },
     "execution_count": 166,
     "metadata": {},
     "output_type": "execute_result"
    }
   ],
   "source": [
    "df['mas_120_dias'] = df['diasTotales'].apply(lambda x: True if x > 120 else False)\n",
    "df.drop(columns='diasTotales', inplace=True)\n",
    "\n",
    "df"
   ]
  },
  {
   "cell_type": "markdown",
   "id": "b0c4b83a",
   "metadata": {},
   "source": [
    "**Normalización de las variables**"
   ]
  },
  {
   "cell_type": "code",
   "execution_count": 167,
   "id": "7b81240f",
   "metadata": {},
   "outputs": [
    {
     "data": {
      "text/html": [
       "<div>\n",
       "<style scoped>\n",
       "    .dataframe tbody tr th:only-of-type {\n",
       "        vertical-align: middle;\n",
       "    }\n",
       "\n",
       "    .dataframe tbody tr th {\n",
       "        vertical-align: top;\n",
       "    }\n",
       "\n",
       "    .dataframe thead th {\n",
       "        text-align: right;\n",
       "    }\n",
       "</style>\n",
       "<table border=\"1\" class=\"dataframe\">\n",
       "  <thead>\n",
       "    <tr style=\"text-align: right;\">\n",
       "      <th></th>\n",
       "      <th>humedadSuelo(%)</th>\n",
       "      <th>pHSuelo</th>\n",
       "      <th>temperatura(°C)</th>\n",
       "      <th>precipitacion(mm)</th>\n",
       "      <th>humedad(%)</th>\n",
       "      <th>horasLuzSolar</th>\n",
       "      <th>mlPesticida</th>\n",
       "      <th>rendimientoKg_hectarea</th>\n",
       "      <th>indiceNDVI</th>\n",
       "      <th>tipoRiego_Goteo</th>\n",
       "      <th>tipoRiego_Manual</th>\n",
       "      <th>tipoFertilizante_Mixto</th>\n",
       "      <th>tipoFertilizante_Organico</th>\n",
       "      <th>estadoEnfermedadesCultivo_Moderate</th>\n",
       "      <th>estadoEnfermedadesCultivo_Severo</th>\n",
       "      <th>mas_120_dias</th>\n",
       "    </tr>\n",
       "  </thead>\n",
       "  <tbody>\n",
       "    <tr>\n",
       "      <th>0</th>\n",
       "      <td>0.394017</td>\n",
       "      <td>1.040927</td>\n",
       "      <td>0.468253</td>\n",
       "      <td>1.084461</td>\n",
       "      <td>0.129232</td>\n",
       "      <td>0.715899</td>\n",
       "      <td>-0.807933</td>\n",
       "      <td>-1.060408</td>\n",
       "      <td>1.132157</td>\n",
       "      <td>1.525297</td>\n",
       "      <td>-0.733305</td>\n",
       "      <td>1.420746</td>\n",
       "      <td>-0.694131</td>\n",
       "      <td>-0.694131</td>\n",
       "      <td>-0.684448</td>\n",
       "      <td>1.069924</td>\n",
       "    </tr>\n",
       "    <tr>\n",
       "      <th>1</th>\n",
       "      <td>0.173440</td>\n",
       "      <td>-1.323141</td>\n",
       "      <td>-0.511037</td>\n",
       "      <td>1.501523</td>\n",
       "      <td>0.951804</td>\n",
       "      <td>-0.874106</td>\n",
       "      <td>1.589491</td>\n",
       "      <td>0.961703</td>\n",
       "      <td>0.569187</td>\n",
       "      <td>-0.655610</td>\n",
       "      <td>-0.733305</td>\n",
       "      <td>1.420746</td>\n",
       "      <td>-0.694131</td>\n",
       "      <td>-0.694131</td>\n",
       "      <td>-0.684448</td>\n",
       "      <td>1.069924</td>\n",
       "    </tr>\n",
       "    <tr>\n",
       "      <th>2</th>\n",
       "      <td>1.508827</td>\n",
       "      <td>-0.288861</td>\n",
       "      <td>-1.089796</td>\n",
       "      <td>-0.003546</td>\n",
       "      <td>0.676418</td>\n",
       "      <td>-1.005182</td>\n",
       "      <td>1.750307</td>\n",
       "      <td>1.251525</td>\n",
       "      <td>-0.556753</td>\n",
       "      <td>-0.655610</td>\n",
       "      <td>1.363690</td>\n",
       "      <td>-0.703856</td>\n",
       "      <td>-0.694131</td>\n",
       "      <td>-0.694131</td>\n",
       "      <td>-0.684448</td>\n",
       "      <td>-0.934646</td>\n",
       "    </tr>\n",
       "    <tr>\n",
       "      <th>3</th>\n",
       "      <td>-1.188775</td>\n",
       "      <td>-0.272444</td>\n",
       "      <td>-0.279151</td>\n",
       "      <td>-0.247304</td>\n",
       "      <td>0.672833</td>\n",
       "      <td>0.607619</td>\n",
       "      <td>-0.225437</td>\n",
       "      <td>-1.488661</td>\n",
       "      <td>-0.275268</td>\n",
       "      <td>1.525297</td>\n",
       "      <td>-0.733305</td>\n",
       "      <td>-0.703856</td>\n",
       "      <td>1.440650</td>\n",
       "      <td>1.440650</td>\n",
       "      <td>-0.684448</td>\n",
       "      <td>1.069924</td>\n",
       "    </tr>\n",
       "    <tr>\n",
       "      <th>4</th>\n",
       "      <td>-1.247397</td>\n",
       "      <td>-1.076884</td>\n",
       "      <td>0.378181</td>\n",
       "      <td>0.455088</td>\n",
       "      <td>-1.097812</td>\n",
       "      <td>-1.284430</td>\n",
       "      <td>0.414123</td>\n",
       "      <td>0.411652</td>\n",
       "      <td>-1.007130</td>\n",
       "      <td>-0.655610</td>\n",
       "      <td>-0.733305</td>\n",
       "      <td>1.420746</td>\n",
       "      <td>-0.694131</td>\n",
       "      <td>1.440650</td>\n",
       "      <td>-0.684448</td>\n",
       "      <td>-0.934646</td>\n",
       "    </tr>\n",
       "    <tr>\n",
       "      <th>...</th>\n",
       "      <td>...</td>\n",
       "      <td>...</td>\n",
       "      <td>...</td>\n",
       "      <td>...</td>\n",
       "      <td>...</td>\n",
       "      <td>...</td>\n",
       "      <td>...</td>\n",
       "      <td>...</td>\n",
       "      <td>...</td>\n",
       "      <td>...</td>\n",
       "      <td>...</td>\n",
       "      <td>...</td>\n",
       "      <td>...</td>\n",
       "      <td>...</td>\n",
       "      <td>...</td>\n",
       "      <td>...</td>\n",
       "    </tr>\n",
       "    <tr>\n",
       "      <th>158</th>\n",
       "      <td>0.392030</td>\n",
       "      <td>0.302156</td>\n",
       "      <td>1.533782</td>\n",
       "      <td>-1.247039</td>\n",
       "      <td>1.453092</td>\n",
       "      <td>-0.361201</td>\n",
       "      <td>0.692032</td>\n",
       "      <td>1.190522</td>\n",
       "      <td>-1.626397</td>\n",
       "      <td>-0.655610</td>\n",
       "      <td>1.363690</td>\n",
       "      <td>1.420746</td>\n",
       "      <td>-0.694131</td>\n",
       "      <td>-0.694131</td>\n",
       "      <td>-0.684448</td>\n",
       "      <td>1.069924</td>\n",
       "    </tr>\n",
       "    <tr>\n",
       "      <th>159</th>\n",
       "      <td>0.154561</td>\n",
       "      <td>-0.814210</td>\n",
       "      <td>-1.894692</td>\n",
       "      <td>0.306484</td>\n",
       "      <td>-0.529829</td>\n",
       "      <td>1.462461</td>\n",
       "      <td>1.407924</td>\n",
       "      <td>-1.847087</td>\n",
       "      <td>-1.682694</td>\n",
       "      <td>1.525297</td>\n",
       "      <td>-0.733305</td>\n",
       "      <td>-0.703856</td>\n",
       "      <td>-0.694131</td>\n",
       "      <td>-0.694131</td>\n",
       "      <td>-0.684448</td>\n",
       "      <td>-0.934646</td>\n",
       "    </tr>\n",
       "    <tr>\n",
       "      <th>160</th>\n",
       "      <td>0.618569</td>\n",
       "      <td>-1.388809</td>\n",
       "      <td>-1.706883</td>\n",
       "      <td>-0.448952</td>\n",
       "      <td>-0.842507</td>\n",
       "      <td>0.470845</td>\n",
       "      <td>-0.447022</td>\n",
       "      <td>-0.386816</td>\n",
       "      <td>-0.725645</td>\n",
       "      <td>-0.655610</td>\n",
       "      <td>-0.733305</td>\n",
       "      <td>-0.703856</td>\n",
       "      <td>1.440650</td>\n",
       "      <td>1.440650</td>\n",
       "      <td>-0.684448</td>\n",
       "      <td>1.069924</td>\n",
       "    </tr>\n",
       "    <tr>\n",
       "      <th>161</th>\n",
       "      <td>0.674210</td>\n",
       "      <td>1.500607</td>\n",
       "      <td>-0.658602</td>\n",
       "      <td>1.370331</td>\n",
       "      <td>1.228624</td>\n",
       "      <td>-0.794321</td>\n",
       "      <td>1.427933</td>\n",
       "      <td>0.302725</td>\n",
       "      <td>1.582534</td>\n",
       "      <td>-0.655610</td>\n",
       "      <td>-0.733305</td>\n",
       "      <td>-0.703856</td>\n",
       "      <td>-0.694131</td>\n",
       "      <td>-0.694131</td>\n",
       "      <td>-0.684448</td>\n",
       "      <td>-0.934646</td>\n",
       "    </tr>\n",
       "    <tr>\n",
       "      <th>162</th>\n",
       "      <td>1.317064</td>\n",
       "      <td>-0.535118</td>\n",
       "      <td>-1.503742</td>\n",
       "      <td>1.268427</td>\n",
       "      <td>0.431870</td>\n",
       "      <td>1.496655</td>\n",
       "      <td>1.305654</td>\n",
       "      <td>-1.359270</td>\n",
       "      <td>0.963266</td>\n",
       "      <td>1.525297</td>\n",
       "      <td>-0.733305</td>\n",
       "      <td>-0.703856</td>\n",
       "      <td>1.440650</td>\n",
       "      <td>-0.694131</td>\n",
       "      <td>1.461032</td>\n",
       "      <td>1.069924</td>\n",
       "    </tr>\n",
       "  </tbody>\n",
       "</table>\n",
       "<p>163 rows × 16 columns</p>\n",
       "</div>"
      ],
      "text/plain": [
       "     humedadSuelo(%)   pHSuelo  temperatura(°C)  precipitacion(mm)  \\\n",
       "0           0.394017  1.040927         0.468253           1.084461   \n",
       "1           0.173440 -1.323141        -0.511037           1.501523   \n",
       "2           1.508827 -0.288861        -1.089796          -0.003546   \n",
       "3          -1.188775 -0.272444        -0.279151          -0.247304   \n",
       "4          -1.247397 -1.076884         0.378181           0.455088   \n",
       "..               ...       ...              ...                ...   \n",
       "158         0.392030  0.302156         1.533782          -1.247039   \n",
       "159         0.154561 -0.814210        -1.894692           0.306484   \n",
       "160         0.618569 -1.388809        -1.706883          -0.448952   \n",
       "161         0.674210  1.500607        -0.658602           1.370331   \n",
       "162         1.317064 -0.535118        -1.503742           1.268427   \n",
       "\n",
       "     humedad(%)  horasLuzSolar  mlPesticida  rendimientoKg_hectarea  \\\n",
       "0      0.129232       0.715899    -0.807933               -1.060408   \n",
       "1      0.951804      -0.874106     1.589491                0.961703   \n",
       "2      0.676418      -1.005182     1.750307                1.251525   \n",
       "3      0.672833       0.607619    -0.225437               -1.488661   \n",
       "4     -1.097812      -1.284430     0.414123                0.411652   \n",
       "..          ...            ...          ...                     ...   \n",
       "158    1.453092      -0.361201     0.692032                1.190522   \n",
       "159   -0.529829       1.462461     1.407924               -1.847087   \n",
       "160   -0.842507       0.470845    -0.447022               -0.386816   \n",
       "161    1.228624      -0.794321     1.427933                0.302725   \n",
       "162    0.431870       1.496655     1.305654               -1.359270   \n",
       "\n",
       "     indiceNDVI  tipoRiego_Goteo  tipoRiego_Manual  tipoFertilizante_Mixto  \\\n",
       "0      1.132157         1.525297         -0.733305                1.420746   \n",
       "1      0.569187        -0.655610         -0.733305                1.420746   \n",
       "2     -0.556753        -0.655610          1.363690               -0.703856   \n",
       "3     -0.275268         1.525297         -0.733305               -0.703856   \n",
       "4     -1.007130        -0.655610         -0.733305                1.420746   \n",
       "..          ...              ...               ...                     ...   \n",
       "158   -1.626397        -0.655610          1.363690                1.420746   \n",
       "159   -1.682694         1.525297         -0.733305               -0.703856   \n",
       "160   -0.725645        -0.655610         -0.733305               -0.703856   \n",
       "161    1.582534        -0.655610         -0.733305               -0.703856   \n",
       "162    0.963266         1.525297         -0.733305               -0.703856   \n",
       "\n",
       "     tipoFertilizante_Organico  estadoEnfermedadesCultivo_Moderate  \\\n",
       "0                    -0.694131                           -0.694131   \n",
       "1                    -0.694131                           -0.694131   \n",
       "2                    -0.694131                           -0.694131   \n",
       "3                     1.440650                            1.440650   \n",
       "4                    -0.694131                            1.440650   \n",
       "..                         ...                                 ...   \n",
       "158                  -0.694131                           -0.694131   \n",
       "159                  -0.694131                           -0.694131   \n",
       "160                   1.440650                            1.440650   \n",
       "161                  -0.694131                           -0.694131   \n",
       "162                   1.440650                           -0.694131   \n",
       "\n",
       "     estadoEnfermedadesCultivo_Severo  mas_120_dias  \n",
       "0                           -0.684448      1.069924  \n",
       "1                           -0.684448      1.069924  \n",
       "2                           -0.684448     -0.934646  \n",
       "3                           -0.684448      1.069924  \n",
       "4                           -0.684448     -0.934646  \n",
       "..                                ...           ...  \n",
       "158                         -0.684448      1.069924  \n",
       "159                         -0.684448     -0.934646  \n",
       "160                         -0.684448      1.069924  \n",
       "161                         -0.684448     -0.934646  \n",
       "162                          1.461032      1.069924  \n",
       "\n",
       "[163 rows x 16 columns]"
      ]
     },
     "execution_count": 167,
     "metadata": {},
     "output_type": "execute_result"
    }
   ],
   "source": [
    "X = df.drop(columns=['tipoCultivo'])\n",
    "y = df['tipoCultivo']\n",
    "\n",
    "scaler = StandardScaler().set_output(transform=\"pandas\")\n",
    "df_std = scaler.fit_transform(X)\n",
    "df_std"
   ]
  },
  {
   "cell_type": "code",
   "execution_count": 168,
   "id": "0d13e152",
   "metadata": {},
   "outputs": [
    {
     "data": {
      "text/plain": [
       "Series([], Name: tipoCultivo, dtype: object)"
      ]
     },
     "execution_count": 168,
     "metadata": {},
     "output_type": "execute_result"
    }
   ],
   "source": [
    "y[y.isna()]"
   ]
  },
  {
   "cell_type": "code",
   "execution_count": 169,
   "id": "c2a7a8b0",
   "metadata": {},
   "outputs": [
    {
     "data": {
      "text/html": [
       "<div>\n",
       "<style scoped>\n",
       "    .dataframe tbody tr th:only-of-type {\n",
       "        vertical-align: middle;\n",
       "    }\n",
       "\n",
       "    .dataframe tbody tr th {\n",
       "        vertical-align: top;\n",
       "    }\n",
       "\n",
       "    .dataframe thead th {\n",
       "        text-align: right;\n",
       "    }\n",
       "</style>\n",
       "<table border=\"1\" class=\"dataframe\">\n",
       "  <thead>\n",
       "    <tr style=\"text-align: right;\">\n",
       "      <th></th>\n",
       "      <th>humedadSuelo(%)</th>\n",
       "      <th>pHSuelo</th>\n",
       "      <th>temperatura(°C)</th>\n",
       "      <th>precipitacion(mm)</th>\n",
       "      <th>humedad(%)</th>\n",
       "      <th>horasLuzSolar</th>\n",
       "      <th>mlPesticida</th>\n",
       "      <th>rendimientoKg_hectarea</th>\n",
       "      <th>indiceNDVI</th>\n",
       "      <th>tipoRiego_Goteo</th>\n",
       "      <th>tipoRiego_Manual</th>\n",
       "      <th>tipoFertilizante_Mixto</th>\n",
       "      <th>tipoFertilizante_Organico</th>\n",
       "      <th>estadoEnfermedadesCultivo_Moderate</th>\n",
       "      <th>estadoEnfermedadesCultivo_Severo</th>\n",
       "      <th>mas_120_dias</th>\n",
       "    </tr>\n",
       "  </thead>\n",
       "  <tbody>\n",
       "    <tr>\n",
       "      <th>0</th>\n",
       "      <td>29.32</td>\n",
       "      <td>7.16</td>\n",
       "      <td>27.37</td>\n",
       "      <td>265.43</td>\n",
       "      <td>68.87</td>\n",
       "      <td>8.23</td>\n",
       "      <td>15.26</td>\n",
       "      <td>2931.16</td>\n",
       "      <td>0.80</td>\n",
       "      <td>True</td>\n",
       "      <td>False</td>\n",
       "      <td>True</td>\n",
       "      <td>False</td>\n",
       "      <td>False</td>\n",
       "      <td>False</td>\n",
       "      <td>True</td>\n",
       "    </tr>\n",
       "    <tr>\n",
       "      <th>1</th>\n",
       "      <td>27.10</td>\n",
       "      <td>5.72</td>\n",
       "      <td>22.26</td>\n",
       "      <td>296.33</td>\n",
       "      <td>80.34</td>\n",
       "      <td>5.44</td>\n",
       "      <td>47.61</td>\n",
       "      <td>5264.09</td>\n",
       "      <td>0.70</td>\n",
       "      <td>False</td>\n",
       "      <td>False</td>\n",
       "      <td>True</td>\n",
       "      <td>False</td>\n",
       "      <td>False</td>\n",
       "      <td>False</td>\n",
       "      <td>True</td>\n",
       "    </tr>\n",
       "    <tr>\n",
       "      <th>2</th>\n",
       "      <td>40.54</td>\n",
       "      <td>6.35</td>\n",
       "      <td>19.24</td>\n",
       "      <td>184.82</td>\n",
       "      <td>76.50</td>\n",
       "      <td>5.21</td>\n",
       "      <td>49.78</td>\n",
       "      <td>5598.46</td>\n",
       "      <td>0.50</td>\n",
       "      <td>False</td>\n",
       "      <td>True</td>\n",
       "      <td>False</td>\n",
       "      <td>False</td>\n",
       "      <td>False</td>\n",
       "      <td>False</td>\n",
       "      <td>False</td>\n",
       "    </tr>\n",
       "    <tr>\n",
       "      <th>3</th>\n",
       "      <td>13.39</td>\n",
       "      <td>6.36</td>\n",
       "      <td>23.47</td>\n",
       "      <td>166.76</td>\n",
       "      <td>76.45</td>\n",
       "      <td>8.04</td>\n",
       "      <td>23.12</td>\n",
       "      <td>2437.08</td>\n",
       "      <td>0.55</td>\n",
       "      <td>True</td>\n",
       "      <td>False</td>\n",
       "      <td>False</td>\n",
       "      <td>True</td>\n",
       "      <td>True</td>\n",
       "      <td>False</td>\n",
       "      <td>True</td>\n",
       "    </tr>\n",
       "    <tr>\n",
       "      <th>4</th>\n",
       "      <td>12.80</td>\n",
       "      <td>5.87</td>\n",
       "      <td>26.90</td>\n",
       "      <td>218.80</td>\n",
       "      <td>51.76</td>\n",
       "      <td>4.72</td>\n",
       "      <td>31.75</td>\n",
       "      <td>4629.49</td>\n",
       "      <td>0.42</td>\n",
       "      <td>False</td>\n",
       "      <td>False</td>\n",
       "      <td>True</td>\n",
       "      <td>False</td>\n",
       "      <td>True</td>\n",
       "      <td>False</td>\n",
       "      <td>False</td>\n",
       "    </tr>\n",
       "    <tr>\n",
       "      <th>...</th>\n",
       "      <td>...</td>\n",
       "      <td>...</td>\n",
       "      <td>...</td>\n",
       "      <td>...</td>\n",
       "      <td>...</td>\n",
       "      <td>...</td>\n",
       "      <td>...</td>\n",
       "      <td>...</td>\n",
       "      <td>...</td>\n",
       "      <td>...</td>\n",
       "      <td>...</td>\n",
       "      <td>...</td>\n",
       "      <td>...</td>\n",
       "      <td>...</td>\n",
       "      <td>...</td>\n",
       "      <td>...</td>\n",
       "    </tr>\n",
       "    <tr>\n",
       "      <th>158</th>\n",
       "      <td>29.30</td>\n",
       "      <td>6.71</td>\n",
       "      <td>32.93</td>\n",
       "      <td>92.69</td>\n",
       "      <td>87.33</td>\n",
       "      <td>6.34</td>\n",
       "      <td>35.50</td>\n",
       "      <td>5528.08</td>\n",
       "      <td>0.31</td>\n",
       "      <td>False</td>\n",
       "      <td>True</td>\n",
       "      <td>True</td>\n",
       "      <td>False</td>\n",
       "      <td>False</td>\n",
       "      <td>False</td>\n",
       "      <td>True</td>\n",
       "    </tr>\n",
       "    <tr>\n",
       "      <th>159</th>\n",
       "      <td>26.91</td>\n",
       "      <td>6.03</td>\n",
       "      <td>15.04</td>\n",
       "      <td>207.79</td>\n",
       "      <td>59.68</td>\n",
       "      <td>9.54</td>\n",
       "      <td>45.16</td>\n",
       "      <td>2023.56</td>\n",
       "      <td>0.30</td>\n",
       "      <td>True</td>\n",
       "      <td>False</td>\n",
       "      <td>False</td>\n",
       "      <td>False</td>\n",
       "      <td>False</td>\n",
       "      <td>False</td>\n",
       "      <td>False</td>\n",
       "    </tr>\n",
       "    <tr>\n",
       "      <th>160</th>\n",
       "      <td>31.58</td>\n",
       "      <td>5.68</td>\n",
       "      <td>16.02</td>\n",
       "      <td>151.82</td>\n",
       "      <td>55.32</td>\n",
       "      <td>7.80</td>\n",
       "      <td>20.13</td>\n",
       "      <td>3708.29</td>\n",
       "      <td>0.47</td>\n",
       "      <td>False</td>\n",
       "      <td>False</td>\n",
       "      <td>False</td>\n",
       "      <td>True</td>\n",
       "      <td>True</td>\n",
       "      <td>False</td>\n",
       "      <td>True</td>\n",
       "    </tr>\n",
       "    <tr>\n",
       "      <th>161</th>\n",
       "      <td>32.14</td>\n",
       "      <td>7.44</td>\n",
       "      <td>21.49</td>\n",
       "      <td>286.61</td>\n",
       "      <td>84.20</td>\n",
       "      <td>5.58</td>\n",
       "      <td>45.43</td>\n",
       "      <td>4503.82</td>\n",
       "      <td>0.88</td>\n",
       "      <td>False</td>\n",
       "      <td>False</td>\n",
       "      <td>False</td>\n",
       "      <td>False</td>\n",
       "      <td>False</td>\n",
       "      <td>False</td>\n",
       "      <td>False</td>\n",
       "    </tr>\n",
       "    <tr>\n",
       "      <th>162</th>\n",
       "      <td>38.61</td>\n",
       "      <td>6.20</td>\n",
       "      <td>17.08</td>\n",
       "      <td>279.06</td>\n",
       "      <td>73.09</td>\n",
       "      <td>9.60</td>\n",
       "      <td>43.78</td>\n",
       "      <td>2586.36</td>\n",
       "      <td>0.77</td>\n",
       "      <td>True</td>\n",
       "      <td>False</td>\n",
       "      <td>False</td>\n",
       "      <td>True</td>\n",
       "      <td>False</td>\n",
       "      <td>True</td>\n",
       "      <td>True</td>\n",
       "    </tr>\n",
       "  </tbody>\n",
       "</table>\n",
       "<p>163 rows × 16 columns</p>\n",
       "</div>"
      ],
      "text/plain": [
       "     humedadSuelo(%)  pHSuelo  temperatura(°C)  precipitacion(mm)  humedad(%)  \\\n",
       "0              29.32     7.16            27.37             265.43       68.87   \n",
       "1              27.10     5.72            22.26             296.33       80.34   \n",
       "2              40.54     6.35            19.24             184.82       76.50   \n",
       "3              13.39     6.36            23.47             166.76       76.45   \n",
       "4              12.80     5.87            26.90             218.80       51.76   \n",
       "..               ...      ...              ...                ...         ...   \n",
       "158            29.30     6.71            32.93              92.69       87.33   \n",
       "159            26.91     6.03            15.04             207.79       59.68   \n",
       "160            31.58     5.68            16.02             151.82       55.32   \n",
       "161            32.14     7.44            21.49             286.61       84.20   \n",
       "162            38.61     6.20            17.08             279.06       73.09   \n",
       "\n",
       "     horasLuzSolar  mlPesticida  rendimientoKg_hectarea  indiceNDVI  \\\n",
       "0             8.23        15.26                 2931.16        0.80   \n",
       "1             5.44        47.61                 5264.09        0.70   \n",
       "2             5.21        49.78                 5598.46        0.50   \n",
       "3             8.04        23.12                 2437.08        0.55   \n",
       "4             4.72        31.75                 4629.49        0.42   \n",
       "..             ...          ...                     ...         ...   \n",
       "158           6.34        35.50                 5528.08        0.31   \n",
       "159           9.54        45.16                 2023.56        0.30   \n",
       "160           7.80        20.13                 3708.29        0.47   \n",
       "161           5.58        45.43                 4503.82        0.88   \n",
       "162           9.60        43.78                 2586.36        0.77   \n",
       "\n",
       "     tipoRiego_Goteo  tipoRiego_Manual  tipoFertilizante_Mixto  \\\n",
       "0               True             False                    True   \n",
       "1              False             False                    True   \n",
       "2              False              True                   False   \n",
       "3               True             False                   False   \n",
       "4              False             False                    True   \n",
       "..               ...               ...                     ...   \n",
       "158            False              True                    True   \n",
       "159             True             False                   False   \n",
       "160            False             False                   False   \n",
       "161            False             False                   False   \n",
       "162             True             False                   False   \n",
       "\n",
       "     tipoFertilizante_Organico  estadoEnfermedadesCultivo_Moderate  \\\n",
       "0                        False                               False   \n",
       "1                        False                               False   \n",
       "2                        False                               False   \n",
       "3                         True                                True   \n",
       "4                        False                                True   \n",
       "..                         ...                                 ...   \n",
       "158                      False                               False   \n",
       "159                      False                               False   \n",
       "160                       True                                True   \n",
       "161                      False                               False   \n",
       "162                       True                               False   \n",
       "\n",
       "     estadoEnfermedadesCultivo_Severo  mas_120_dias  \n",
       "0                               False          True  \n",
       "1                               False          True  \n",
       "2                               False         False  \n",
       "3                               False          True  \n",
       "4                               False         False  \n",
       "..                                ...           ...  \n",
       "158                             False          True  \n",
       "159                             False         False  \n",
       "160                             False          True  \n",
       "161                             False         False  \n",
       "162                              True          True  \n",
       "\n",
       "[163 rows x 16 columns]"
      ]
     },
     "execution_count": 169,
     "metadata": {},
     "output_type": "execute_result"
    }
   ],
   "source": [
    "X"
   ]
  },
  {
   "cell_type": "markdown",
   "id": "313e0416",
   "metadata": {},
   "source": [
    "# PCA"
   ]
  },
  {
   "cell_type": "code",
   "execution_count": 170,
   "id": "3f8c6b04",
   "metadata": {},
   "outputs": [],
   "source": [
    "# Obtener todas las componentes principales\n",
    "pca = PCA(n_components=X.shape[1])\n",
    "\n",
    "pca_features = pca.fit_transform(df_std)\n",
    "\n",
    "# PC dataframe\n",
    "pca_df = pd.DataFrame(\n",
    "    data=pca_features,\n",
    "    columns=['PC1', 'PC2', 'PC3', 'PC4', 'PC5', 'PC6', 'PC7', 'PC8', 'PC9',\n",
    "             'PC10', 'PC11', 'PC12', 'PC13', 'PC14', 'PC15', 'PC16' ])\n",
    "pca_df['tipoCultivo'] = y"
   ]
  },
  {
   "cell_type": "code",
   "execution_count": 171,
   "id": "947e97e4",
   "metadata": {},
   "outputs": [
    {
     "data": {
      "text/html": [
       "<div>\n",
       "<style scoped>\n",
       "    .dataframe tbody tr th:only-of-type {\n",
       "        vertical-align: middle;\n",
       "    }\n",
       "\n",
       "    .dataframe tbody tr th {\n",
       "        vertical-align: top;\n",
       "    }\n",
       "\n",
       "    .dataframe thead th {\n",
       "        text-align: right;\n",
       "    }\n",
       "</style>\n",
       "<table border=\"1\" class=\"dataframe\">\n",
       "  <thead>\n",
       "    <tr style=\"text-align: right;\">\n",
       "      <th></th>\n",
       "      <th>PC1</th>\n",
       "      <th>PC2</th>\n",
       "      <th>PC3</th>\n",
       "      <th>PC4</th>\n",
       "      <th>PC5</th>\n",
       "      <th>PC6</th>\n",
       "      <th>PC7</th>\n",
       "      <th>PC8</th>\n",
       "      <th>PC9</th>\n",
       "      <th>PC10</th>\n",
       "      <th>PC11</th>\n",
       "      <th>PC12</th>\n",
       "      <th>PC13</th>\n",
       "      <th>PC14</th>\n",
       "      <th>PC15</th>\n",
       "      <th>PC16</th>\n",
       "      <th>tipoCultivo</th>\n",
       "    </tr>\n",
       "  </thead>\n",
       "  <tbody>\n",
       "    <tr>\n",
       "      <th>0</th>\n",
       "      <td>-0.068315</td>\n",
       "      <td>-0.430961</td>\n",
       "      <td>2.448585</td>\n",
       "      <td>0.453308</td>\n",
       "      <td>0.778546</td>\n",
       "      <td>-0.079128</td>\n",
       "      <td>-1.411301</td>\n",
       "      <td>0.213420</td>\n",
       "      <td>1.245448</td>\n",
       "      <td>0.277594</td>\n",
       "      <td>0.053400</td>\n",
       "      <td>1.255125</td>\n",
       "      <td>-0.947609</td>\n",
       "      <td>-0.145656</td>\n",
       "      <td>0.614417</td>\n",
       "      <td>-0.371073</td>\n",
       "      <td>Trigo</td>\n",
       "    </tr>\n",
       "    <tr>\n",
       "      <th>1</th>\n",
       "      <td>0.959151</td>\n",
       "      <td>0.744856</td>\n",
       "      <td>0.500574</td>\n",
       "      <td>-1.467113</td>\n",
       "      <td>1.723245</td>\n",
       "      <td>1.368822</td>\n",
       "      <td>0.272948</td>\n",
       "      <td>0.886305</td>\n",
       "      <td>1.089267</td>\n",
       "      <td>0.620799</td>\n",
       "      <td>-1.222328</td>\n",
       "      <td>-0.478189</td>\n",
       "      <td>0.494090</td>\n",
       "      <td>-0.876869</td>\n",
       "      <td>-0.194026</td>\n",
       "      <td>-1.174045</td>\n",
       "      <td>Maiz</td>\n",
       "    </tr>\n",
       "    <tr>\n",
       "      <th>2</th>\n",
       "      <td>1.174755</td>\n",
       "      <td>1.036803</td>\n",
       "      <td>-1.254872</td>\n",
       "      <td>-0.277938</td>\n",
       "      <td>0.499558</td>\n",
       "      <td>0.875947</td>\n",
       "      <td>0.908315</td>\n",
       "      <td>-0.935845</td>\n",
       "      <td>-0.641523</td>\n",
       "      <td>2.143201</td>\n",
       "      <td>0.111406</td>\n",
       "      <td>-1.156677</td>\n",
       "      <td>0.519555</td>\n",
       "      <td>-1.225925</td>\n",
       "      <td>0.222888</td>\n",
       "      <td>0.209024</td>\n",
       "      <td>Soja</td>\n",
       "    </tr>\n",
       "    <tr>\n",
       "      <th>3</th>\n",
       "      <td>-2.349818</td>\n",
       "      <td>-1.389282</td>\n",
       "      <td>-0.859643</td>\n",
       "      <td>-0.040962</td>\n",
       "      <td>-0.202887</td>\n",
       "      <td>-0.023863</td>\n",
       "      <td>-0.727274</td>\n",
       "      <td>1.701050</td>\n",
       "      <td>0.814356</td>\n",
       "      <td>-0.045609</td>\n",
       "      <td>0.134839</td>\n",
       "      <td>0.551898</td>\n",
       "      <td>-0.767000</td>\n",
       "      <td>0.610383</td>\n",
       "      <td>0.386530</td>\n",
       "      <td>0.399999</td>\n",
       "      <td>Trigo</td>\n",
       "    </tr>\n",
       "    <tr>\n",
       "      <th>4</th>\n",
       "      <td>0.977342</td>\n",
       "      <td>-1.927715</td>\n",
       "      <td>-0.310204</td>\n",
       "      <td>-1.930395</td>\n",
       "      <td>1.191368</td>\n",
       "      <td>-0.479648</td>\n",
       "      <td>0.720434</td>\n",
       "      <td>-0.087239</td>\n",
       "      <td>-0.419969</td>\n",
       "      <td>-0.951837</td>\n",
       "      <td>-0.567308</td>\n",
       "      <td>-1.108337</td>\n",
       "      <td>0.236096</td>\n",
       "      <td>0.616035</td>\n",
       "      <td>-0.269047</td>\n",
       "      <td>-0.592613</td>\n",
       "      <td>Soja</td>\n",
       "    </tr>\n",
       "    <tr>\n",
       "      <th>...</th>\n",
       "      <td>...</td>\n",
       "      <td>...</td>\n",
       "      <td>...</td>\n",
       "      <td>...</td>\n",
       "      <td>...</td>\n",
       "      <td>...</td>\n",
       "      <td>...</td>\n",
       "      <td>...</td>\n",
       "      <td>...</td>\n",
       "      <td>...</td>\n",
       "      <td>...</td>\n",
       "      <td>...</td>\n",
       "      <td>...</td>\n",
       "      <td>...</td>\n",
       "      <td>...</td>\n",
       "      <td>...</td>\n",
       "      <td>...</td>\n",
       "    </tr>\n",
       "    <tr>\n",
       "      <th>158</th>\n",
       "      <td>1.989092</td>\n",
       "      <td>0.940769</td>\n",
       "      <td>-0.203972</td>\n",
       "      <td>-1.189106</td>\n",
       "      <td>-0.576969</td>\n",
       "      <td>-0.113469</td>\n",
       "      <td>2.352749</td>\n",
       "      <td>0.486844</td>\n",
       "      <td>0.094168</td>\n",
       "      <td>0.827523</td>\n",
       "      <td>0.174285</td>\n",
       "      <td>1.066409</td>\n",
       "      <td>-1.378714</td>\n",
       "      <td>-0.320266</td>\n",
       "      <td>1.128849</td>\n",
       "      <td>-0.516197</td>\n",
       "      <td>Maiz</td>\n",
       "    </tr>\n",
       "    <tr>\n",
       "      <th>159</th>\n",
       "      <td>-2.028187</td>\n",
       "      <td>-0.451778</td>\n",
       "      <td>-0.130169</td>\n",
       "      <td>-1.889532</td>\n",
       "      <td>0.120233</td>\n",
       "      <td>1.032335</td>\n",
       "      <td>-2.187671</td>\n",
       "      <td>-0.779432</td>\n",
       "      <td>-1.486649</td>\n",
       "      <td>1.264580</td>\n",
       "      <td>0.721080</td>\n",
       "      <td>-0.722740</td>\n",
       "      <td>-0.905222</td>\n",
       "      <td>-0.662839</td>\n",
       "      <td>0.395700</td>\n",
       "      <td>0.188272</td>\n",
       "      <td>Maiz</td>\n",
       "    </tr>\n",
       "    <tr>\n",
       "      <th>160</th>\n",
       "      <td>-1.074850</td>\n",
       "      <td>-1.057926</td>\n",
       "      <td>-2.315932</td>\n",
       "      <td>-0.497614</td>\n",
       "      <td>-1.032655</td>\n",
       "      <td>-0.040340</td>\n",
       "      <td>-1.294190</td>\n",
       "      <td>0.207822</td>\n",
       "      <td>0.241152</td>\n",
       "      <td>0.355028</td>\n",
       "      <td>-1.240296</td>\n",
       "      <td>0.466718</td>\n",
       "      <td>0.573688</td>\n",
       "      <td>-0.057548</td>\n",
       "      <td>-0.904269</td>\n",
       "      <td>-0.835939</td>\n",
       "      <td>Trigo</td>\n",
       "    </tr>\n",
       "    <tr>\n",
       "      <th>161</th>\n",
       "      <td>0.201653</td>\n",
       "      <td>0.484339</td>\n",
       "      <td>0.985710</td>\n",
       "      <td>1.645693</td>\n",
       "      <td>1.595212</td>\n",
       "      <td>1.111281</td>\n",
       "      <td>0.406271</td>\n",
       "      <td>0.040438</td>\n",
       "      <td>0.215286</td>\n",
       "      <td>1.400133</td>\n",
       "      <td>0.534760</td>\n",
       "      <td>-1.700272</td>\n",
       "      <td>0.060210</td>\n",
       "      <td>-1.151800</td>\n",
       "      <td>-0.872823</td>\n",
       "      <td>-0.620387</td>\n",
       "      <td>Maiz</td>\n",
       "    </tr>\n",
       "    <tr>\n",
       "      <th>162</th>\n",
       "      <td>-2.378047</td>\n",
       "      <td>2.053920</td>\n",
       "      <td>0.107625</td>\n",
       "      <td>0.209707</td>\n",
       "      <td>0.510548</td>\n",
       "      <td>1.055178</td>\n",
       "      <td>-2.683589</td>\n",
       "      <td>0.642496</td>\n",
       "      <td>0.542557</td>\n",
       "      <td>1.263504</td>\n",
       "      <td>0.137221</td>\n",
       "      <td>0.469374</td>\n",
       "      <td>0.671810</td>\n",
       "      <td>0.643384</td>\n",
       "      <td>-0.190534</td>\n",
       "      <td>-0.211900</td>\n",
       "      <td>Soja</td>\n",
       "    </tr>\n",
       "  </tbody>\n",
       "</table>\n",
       "<p>163 rows × 17 columns</p>\n",
       "</div>"
      ],
      "text/plain": [
       "          PC1       PC2       PC3       PC4       PC5       PC6       PC7  \\\n",
       "0   -0.068315 -0.430961  2.448585  0.453308  0.778546 -0.079128 -1.411301   \n",
       "1    0.959151  0.744856  0.500574 -1.467113  1.723245  1.368822  0.272948   \n",
       "2    1.174755  1.036803 -1.254872 -0.277938  0.499558  0.875947  0.908315   \n",
       "3   -2.349818 -1.389282 -0.859643 -0.040962 -0.202887 -0.023863 -0.727274   \n",
       "4    0.977342 -1.927715 -0.310204 -1.930395  1.191368 -0.479648  0.720434   \n",
       "..        ...       ...       ...       ...       ...       ...       ...   \n",
       "158  1.989092  0.940769 -0.203972 -1.189106 -0.576969 -0.113469  2.352749   \n",
       "159 -2.028187 -0.451778 -0.130169 -1.889532  0.120233  1.032335 -2.187671   \n",
       "160 -1.074850 -1.057926 -2.315932 -0.497614 -1.032655 -0.040340 -1.294190   \n",
       "161  0.201653  0.484339  0.985710  1.645693  1.595212  1.111281  0.406271   \n",
       "162 -2.378047  2.053920  0.107625  0.209707  0.510548  1.055178 -2.683589   \n",
       "\n",
       "          PC8       PC9      PC10      PC11      PC12      PC13      PC14  \\\n",
       "0    0.213420  1.245448  0.277594  0.053400  1.255125 -0.947609 -0.145656   \n",
       "1    0.886305  1.089267  0.620799 -1.222328 -0.478189  0.494090 -0.876869   \n",
       "2   -0.935845 -0.641523  2.143201  0.111406 -1.156677  0.519555 -1.225925   \n",
       "3    1.701050  0.814356 -0.045609  0.134839  0.551898 -0.767000  0.610383   \n",
       "4   -0.087239 -0.419969 -0.951837 -0.567308 -1.108337  0.236096  0.616035   \n",
       "..        ...       ...       ...       ...       ...       ...       ...   \n",
       "158  0.486844  0.094168  0.827523  0.174285  1.066409 -1.378714 -0.320266   \n",
       "159 -0.779432 -1.486649  1.264580  0.721080 -0.722740 -0.905222 -0.662839   \n",
       "160  0.207822  0.241152  0.355028 -1.240296  0.466718  0.573688 -0.057548   \n",
       "161  0.040438  0.215286  1.400133  0.534760 -1.700272  0.060210 -1.151800   \n",
       "162  0.642496  0.542557  1.263504  0.137221  0.469374  0.671810  0.643384   \n",
       "\n",
       "         PC15      PC16 tipoCultivo  \n",
       "0    0.614417 -0.371073       Trigo  \n",
       "1   -0.194026 -1.174045        Maiz  \n",
       "2    0.222888  0.209024        Soja  \n",
       "3    0.386530  0.399999       Trigo  \n",
       "4   -0.269047 -0.592613        Soja  \n",
       "..        ...       ...         ...  \n",
       "158  1.128849 -0.516197        Maiz  \n",
       "159  0.395700  0.188272        Maiz  \n",
       "160 -0.904269 -0.835939       Trigo  \n",
       "161 -0.872823 -0.620387        Maiz  \n",
       "162 -0.190534 -0.211900        Soja  \n",
       "\n",
       "[163 rows x 17 columns]"
      ]
     },
     "execution_count": 171,
     "metadata": {},
     "output_type": "execute_result"
    }
   ],
   "source": [
    "pca_df"
   ]
  },
  {
   "cell_type": "code",
   "execution_count": 172,
   "id": "7974b9b7",
   "metadata": {},
   "outputs": [
    {
     "name": "stdout",
     "output_type": "stream",
     "text": [
      "<class 'pandas.core.frame.DataFrame'>\n",
      "RangeIndex: 163 entries, 0 to 162\n",
      "Data columns (total 17 columns):\n",
      " #   Column       Non-Null Count  Dtype  \n",
      "---  ------       --------------  -----  \n",
      " 0   PC1          163 non-null    float64\n",
      " 1   PC2          163 non-null    float64\n",
      " 2   PC3          163 non-null    float64\n",
      " 3   PC4          163 non-null    float64\n",
      " 4   PC5          163 non-null    float64\n",
      " 5   PC6          163 non-null    float64\n",
      " 6   PC7          163 non-null    float64\n",
      " 7   PC8          163 non-null    float64\n",
      " 8   PC9          163 non-null    float64\n",
      " 9   PC10         163 non-null    float64\n",
      " 10  PC11         163 non-null    float64\n",
      " 11  PC12         163 non-null    float64\n",
      " 12  PC13         163 non-null    float64\n",
      " 13  PC14         163 non-null    float64\n",
      " 14  PC15         163 non-null    float64\n",
      " 15  PC16         163 non-null    float64\n",
      " 16  tipoCultivo  163 non-null    object \n",
      "dtypes: float64(16), object(1)\n",
      "memory usage: 21.8+ KB\n"
     ]
    }
   ],
   "source": [
    "pca_df.info()"
   ]
  },
  {
   "cell_type": "markdown",
   "id": "0a8596b9",
   "metadata": {},
   "source": [
    "componentes principales?"
   ]
  },
  {
   "cell_type": "code",
   "execution_count": 173,
   "id": "6364e927",
   "metadata": {},
   "outputs": [],
   "source": [
    "# Creamos función para acumular la varianza\n",
    "def acumular(numbers):\n",
    "     sum = 0\n",
    "     var_c = []\n",
    "     for num in numbers:\n",
    "        sum += num\n",
    "        var_c.append(sum)\n",
    "     return var_c"
   ]
  },
  {
   "cell_type": "code",
   "execution_count": 174,
   "id": "704cefa9",
   "metadata": {},
   "outputs": [
    {
     "data": {
      "text/html": [
       "<div>\n",
       "<style scoped>\n",
       "    .dataframe tbody tr th:only-of-type {\n",
       "        vertical-align: middle;\n",
       "    }\n",
       "\n",
       "    .dataframe tbody tr th {\n",
       "        vertical-align: top;\n",
       "    }\n",
       "\n",
       "    .dataframe thead th {\n",
       "        text-align: right;\n",
       "    }\n",
       "</style>\n",
       "<table border=\"1\" class=\"dataframe\">\n",
       "  <thead>\n",
       "    <tr style=\"text-align: right;\">\n",
       "      <th></th>\n",
       "      <th>Eigenvalues</th>\n",
       "      <th>Proporción de variancia explicada</th>\n",
       "      <th>Proporción acumulado de variancia explicada</th>\n",
       "    </tr>\n",
       "  </thead>\n",
       "  <tbody>\n",
       "    <tr>\n",
       "      <th>0</th>\n",
       "      <td>1.736272</td>\n",
       "      <td>0.107851</td>\n",
       "      <td>0.107851</td>\n",
       "    </tr>\n",
       "    <tr>\n",
       "      <th>1</th>\n",
       "      <td>1.647325</td>\n",
       "      <td>0.102326</td>\n",
       "      <td>0.210177</td>\n",
       "    </tr>\n",
       "    <tr>\n",
       "      <th>2</th>\n",
       "      <td>1.536375</td>\n",
       "      <td>0.095434</td>\n",
       "      <td>0.305612</td>\n",
       "    </tr>\n",
       "    <tr>\n",
       "      <th>3</th>\n",
       "      <td>1.266016</td>\n",
       "      <td>0.078641</td>\n",
       "      <td>0.384252</td>\n",
       "    </tr>\n",
       "    <tr>\n",
       "      <th>4</th>\n",
       "      <td>1.252107</td>\n",
       "      <td>0.077777</td>\n",
       "      <td>0.462029</td>\n",
       "    </tr>\n",
       "    <tr>\n",
       "      <th>5</th>\n",
       "      <td>1.195375</td>\n",
       "      <td>0.074253</td>\n",
       "      <td>0.536282</td>\n",
       "    </tr>\n",
       "    <tr>\n",
       "      <th>6</th>\n",
       "      <td>1.038544</td>\n",
       "      <td>0.064511</td>\n",
       "      <td>0.600792</td>\n",
       "    </tr>\n",
       "    <tr>\n",
       "      <th>7</th>\n",
       "      <td>1.002932</td>\n",
       "      <td>0.062299</td>\n",
       "      <td>0.663091</td>\n",
       "    </tr>\n",
       "    <tr>\n",
       "      <th>8</th>\n",
       "      <td>0.969880</td>\n",
       "      <td>0.060246</td>\n",
       "      <td>0.723337</td>\n",
       "    </tr>\n",
       "    <tr>\n",
       "      <th>9</th>\n",
       "      <td>0.946158</td>\n",
       "      <td>0.058772</td>\n",
       "      <td>0.782109</td>\n",
       "    </tr>\n",
       "    <tr>\n",
       "      <th>10</th>\n",
       "      <td>0.772793</td>\n",
       "      <td>0.048003</td>\n",
       "      <td>0.830112</td>\n",
       "    </tr>\n",
       "    <tr>\n",
       "      <th>11</th>\n",
       "      <td>0.741415</td>\n",
       "      <td>0.046054</td>\n",
       "      <td>0.876166</td>\n",
       "    </tr>\n",
       "    <tr>\n",
       "      <th>12</th>\n",
       "      <td>0.645601</td>\n",
       "      <td>0.040103</td>\n",
       "      <td>0.916269</td>\n",
       "    </tr>\n",
       "    <tr>\n",
       "      <th>13</th>\n",
       "      <td>0.515798</td>\n",
       "      <td>0.032040</td>\n",
       "      <td>0.948308</td>\n",
       "    </tr>\n",
       "    <tr>\n",
       "      <th>14</th>\n",
       "      <td>0.458042</td>\n",
       "      <td>0.028452</td>\n",
       "      <td>0.976760</td>\n",
       "    </tr>\n",
       "    <tr>\n",
       "      <th>15</th>\n",
       "      <td>0.374132</td>\n",
       "      <td>0.023240</td>\n",
       "      <td>1.000000</td>\n",
       "    </tr>\n",
       "  </tbody>\n",
       "</table>\n",
       "</div>"
      ],
      "text/plain": [
       "    Eigenvalues  Proporción de variancia explicada  \\\n",
       "0      1.736272                           0.107851   \n",
       "1      1.647325                           0.102326   \n",
       "2      1.536375                           0.095434   \n",
       "3      1.266016                           0.078641   \n",
       "4      1.252107                           0.077777   \n",
       "5      1.195375                           0.074253   \n",
       "6      1.038544                           0.064511   \n",
       "7      1.002932                           0.062299   \n",
       "8      0.969880                           0.060246   \n",
       "9      0.946158                           0.058772   \n",
       "10     0.772793                           0.048003   \n",
       "11     0.741415                           0.046054   \n",
       "12     0.645601                           0.040103   \n",
       "13     0.515798                           0.032040   \n",
       "14     0.458042                           0.028452   \n",
       "15     0.374132                           0.023240   \n",
       "\n",
       "    Proporción acumulado de variancia explicada  \n",
       "0                                      0.107851  \n",
       "1                                      0.210177  \n",
       "2                                      0.305612  \n",
       "3                                      0.384252  \n",
       "4                                      0.462029  \n",
       "5                                      0.536282  \n",
       "6                                      0.600792  \n",
       "7                                      0.663091  \n",
       "8                                      0.723337  \n",
       "9                                      0.782109  \n",
       "10                                     0.830112  \n",
       "11                                     0.876166  \n",
       "12                                     0.916269  \n",
       "13                                     0.948308  \n",
       "14                                     0.976760  \n",
       "15                                     1.000000  "
      ]
     },
     "execution_count": 174,
     "metadata": {},
     "output_type": "execute_result"
    }
   ],
   "source": [
    "var_c = acumular(pca.explained_variance_ratio_)\n",
    "pca_rtd = pd.DataFrame({'Eigenvalues':pca.explained_variance_,\n",
    "                        'Proporción de variancia explicada':pca.explained_variance_ratio_,\n",
    "                        'Proporción acumulado de variancia explicada': var_c})\n",
    "pca_rtd"
   ]
  },
  {
   "cell_type": "code",
   "execution_count": 175,
   "id": "6fd7a32a",
   "metadata": {},
   "outputs": [
    {
     "data": {
      "image/png": "[encoded data removed]",
      "text/plain": [
       "<Figure size 640x480 with 1 Axes>"
      ]
     },
     "metadata": {},
     "output_type": "display_data"
    }
   ],
   "source": [
    "plt.bar(range(1,17), pca.explained_variance_ratio_,\n",
    "        alpha=0.5,\n",
    "        align='center')\n",
    "plt.step(range(1,17), np.cumsum(pca.explained_variance_ratio_),\n",
    "         where='mid',\n",
    "         color='red')\n",
    "plt.title('Varianza acumulada')\n",
    "plt.ylabel('Proporción de variancia explicada')\n",
    "plt.xlabel('Componente principales')\n",
    "plt.xticks([x for x in range(1,17,1)])\n",
    "plt.show()"
   ]
  },
  {
   "cell_type": "code",
   "execution_count": 176,
   "id": "534dd180",
   "metadata": {},
   "outputs": [],
   "source": [
    "pca_filtrado = pca_df[['PC1', 'PC2', 'PC3', 'PC4', 'PC5', 'PC6', 'PC7', 'PC8', 'PC9', 'tipoCultivo']]"
   ]
  },
  {
   "cell_type": "code",
   "execution_count": 177,
   "id": "25c4f654",
   "metadata": {},
   "outputs": [
    {
     "data": {
      "image/png": "[encoded data removed]",
      "text/plain": [
       "<Figure size 1500x500 with 2 Axes>"
      ]
     },
     "metadata": {},
     "output_type": "display_data"
    }
   ],
   "source": [
    "#elegimos las 10 primeras variables que suman mas del 75%\n",
    "\n",
    "corr = pca_df[['PC1', 'PC2', 'PC3', 'PC4', 'PC5', 'PC6', 'PC7', 'PC8', 'PC9']].corr()\n",
    "plt.figure(figsize=(15,5))\n",
    "ax = sns.heatmap(\n",
    "    corr,\n",
    "    vmin=-1, vmax=1, center=0,\n",
    "    cmap=sns.diverging_palette(20, 220, n=200),\n",
    "    square=True,\n",
    "    annot = True,\n",
    "    annot_kws = {'size': 6}\n",
    ")\n",
    "ax.set_xticklabels(\n",
    "    ax.get_xticklabels(),\n",
    "    rotation=45,\n",
    "    horizontalalignment='right'\n",
    ")\n",
    "plt.show()"
   ]
  },
  {
   "cell_type": "code",
   "execution_count": 178,
   "id": "b7d87291",
   "metadata": {},
   "outputs": [
    {
     "data": {
      "application/vnd.plotly.v1+json": {
       "config": {
        "plotlyServerURL": "https://plot.ly"
       },
       "data": [
        {
         "hovertemplate": "tipoCultivo=Trigo<br>0=%{x}<br>1=%{y}<extra></extra>",
         "legendgroup": "Trigo",
         "marker": {
          "color": "#1f77b4",
          "symbol": "circle"
         },
         "mode": "markers",
         "name": "Trigo",
         "orientation": "v",
         "showlegend": true,
         "type": "scatter",
         "x": {
          "bdata": "6FEpYhx9sb++oSdnbcwCwGeLANLgIu6/sF0ev5LO2D/D/5XHLQDHv5C4b6Tsi2c/vOeK1Tsi5D/xQ3QD9lH4P5/buhGMi/W/6uaPeuF19D/eot2dZKYBwOlo2ucHy+e/DsjbGFXn6D/lpZ6hcq3hPzeb2hUnw96/GVVriIck2T/FnOE6U3fxv+IYTt8+Ft6/VqZVyIrCwr9aJIMcfcfvP02orqFShwNAG9rl10in4T+T/2rBk4nqv+AzJCydkO6/CfN/5MxM8D9VZVNDXC0DwFNtKjXZXvC/WWHWiLeH479E+nAp7znWP8Y1nUf9eto/BPmpPCUu9b8C3R6oDATav8e0cVvk1/g/HYz6o/vd5z+tWYhfTaIDwHNmdtOSsOC/o7FhwxSC/j/GkH1NiLfivxmL92cjOeC/maCbghSOxr92K3yAX632v5VqNWW8quO/NChaZxgz2b8sgq/HMNH5vzMhxyWNB94/QYB+X6bn1z959oqLJA/+v0ED8X6VMvG/",
          "dtype": "f8"
         },
         "xaxis": "x",
         "y": {
          "bdata": "aE2Hc9uU27+59Y09gDr2v4XNOJM2j/6/eKa9zHnh+79N+xIKJRHbPwnh/IUlnss/Pv0MqyWIAMCCNQJHg7jbv+d6UPZdmvw/l38lHcSG9r+WimuKUQPyP6qr0Umi7+e/yLt4/9SJvL8rWb7FsLIGQCoziaGav+E/f2Td4shO1T+P3FIhJ/X1P6uKMnmZj7U/7s6hl8Qh/L8L3fM/nhQDQOejc/SIxPI/NMsCKCql+z9LiedwJ3r7P594r60EOPO/72Xm733+4L+caq/Wmwq5v1ld17y5Jta/gWBviQzt8L+WK6A3TH/xP3mXwp2JLtY/sNp01ZgS2r/wSbItgimdPy54r0REOeU/FTcUUXpnyj+0bc6GGmLyvyIXy/pFLNe/I7kM6Sal0j+RBb2qAQz/PyT/epJ7lvQ/EbFZwTkCAsDd/vJ+q37tPzoh2A/iR9+/8qZFHhk9579dW4Y/rTkCwC0GXzYel+C/cEKFDnsVkb+TLIrZeoXpP5RXnNVD7fC/",
          "dtype": "f8"
         },
         "yaxis": "y"
        },
        {
         "hovertemplate": "tipoCultivo=Maiz<br>0=%{x}<br>1=%{y}<extra></extra>",
         "legendgroup": "Maiz",
         "marker": {
          "color": "#8c564b",
          "symbol": "circle"
         },
         "mode": "markers",
         "name": "Maiz",
         "orientation": "v",
         "showlegend": true,
         "type": "scatter",
         "x": {
          "bdata": "fh9Hx12x7j99Vc7mQRznv1SWO/iNgQDA4PInHDSTxj/hUG+U2+vSPxCLdkrVQ/W/nkMDurnJ6b9DpSM/oUzwv0MfXnWbHN0/diqJAE9rA0DsphHOtuS4P3J819Ut5ug/q8LtTmSiBUDuOuSMH0v6Px91q/cSFwbAXbeC4mkt9D8Q73tX9ovpP7Xjx2JIAfE/G5YVWuYglr/Ew4NDNPz8Pxf9Ojm18OE/c4f6GzrQ4D9veUjj+qsCwCDCWpS5adc/zVz0MtXa9T8I4zauSOP8PwXYc7ikkvE/2N9NNcve4L+IQxyGXXfcv6BHDUAv/LA/eFA8nWTd+b+hIc4RWIQAwOMwaQuDnPk/fPa9wnsM5r81s8bnmibOv0svUydjm7E/cq+jhE4g7D+NN6nvur8BQEAA3k+u7uE/T+a/9XrB5b/sc5H3N4/ZP4hzucqFbuI/e4eNvc9cy7+Zws+bI6bevw30UvlRg/E/jYbJ3b3i+T8FGXHEORfpPyKsFtULvPQ/nLOadKX79L8npt8ylWLNv/IVF/OzD8Y/exIJVVLT/z/qLhQrujkAwMgYRYrFz8k/",
          "dtype": "f8"
         },
         "xaxis": "x",
         "y": {
          "bdata": "+Mad2tzV5z+v1Xey14e9v2VMQqfxPes/5HcvxwTwxb/KhjLLZvT4P3S83hVdtva/bKKm6NNc779nl/GcuZP2v+tx3V56Eos/zeaGzzF5+7/pYiTIDkcDwJGWtpc6bOU/MaIOTR/B5r+SimVpxuLxv5yHfoqFb+s/ZPvFjd8O7r/Hh5FT2lLsPwX/sDIPSes/95SXEyNOA0DNEZqHOKjqv2dIsUkKNL2/rSyVFHul+r9FwMs5Gj3CP6eVfEH+jAfAwa3DWZZZ/z8ePAOYg4/8PwQyu/iG3++/bucMh3w59b93T1db1Trivyf3nqS1cO8/KVs3uem18r+dds+gM7XAPxY1bRWlW/y/AuCK6oI95z91IF9ro63VPwkDaZEFQPY/E4pj6h6PAcAWh2eekzjGv5OCCFSn9fQ/BKQ2g8dfBEALE8hqFmoBwAvqXkeOu/m/lVjofqN44b8pkB+gTO8AQIpIHChmI9s/dSS2KGLk1T/Mf9mPqw3Rv5XmBlhiufm/ToG7rmLA0T+Ze8CUDlLXv3SROWaVDLS/0JfkKMca7j/hPMX17encv8NaTv5q/94/",
          "dtype": "f8"
         },
         "yaxis": "y"
        },
        {
         "hovertemplate": "tipoCultivo=Soja<br>0=%{x}<br>1=%{y}<extra></extra>",
         "legendgroup": "Soja",
         "marker": {
          "color": "#9edae5",
          "symbol": "circle"
         },
         "mode": "markers",
         "name": "Soja",
         "orientation": "v",
         "showlegend": true,
         "type": "scatter",
         "x": {
          "bdata": "Dp5sh8vL8j+7cdwDY0bvPxuU1Cc5jOc/AqzjbIRt97+1lcQmyDj0P3NaIgD1dvQ/pd0aKgBs4j8AU8yiycy4vw0Q41nPZvI/mTzbXVwz7D+PKvx+r0vov/ZtCmF7rb4/3eQSEOZXBEAcgwCPBJv1v/8kMUJyV/Q/swkaRmw17L/Hw+/T8RIDQAoikCd1rgDASGgPBK+Yoj+w6YhB1fwEwPFpU8jEat2/aigIuapO8z++Gj7cy1mcv6evBbqF36y/yMbITJO4AkA91LtBrosBQBNc6a5WC8O/bzPQX9Ka8T/q0FesLeDqv0E/ZrH0xf+/3JH5OzRAvL87ITevcJT1v6glXrFWWANAD5nvxnsK5T9L15lJ2Zbyv1+2D1MbVKi/J6qCFgE/AECz2JrcKWj8vz/tNoBpfuI/tqo+QGVyBUAybussGIXDP9jIKprBkOC/v0B5D7U7/b+bF4OBXQ73vw1vENLH4ew/TZtkQQsZ+L8iA5ZhmHABQIhHkxwtpOw/Xkx/Jlov5L93IYmZaWHCP61+YzpQoAjA58ipabe/+7/wxcPwNPbYv4aJYzj/adW/HrjmQF6IAMBplEZK2qkBQKicxNTGDQPArxUtTbA/qb/X9exEaGHxv9gcXqp6Aew/qY/xRD0GA8A=",
          "dtype": "f8"
         },
         "xaxis": "x",
         "y": {
          "bdata": "QIXSi76W8D/IFfzE69f+v8vPKRkb3vW/0ru7nytZ9j+kEEncalIIQKbIQK1rwPc/JrJFBqum/j/NZcYV5LPpP4tXOVGxSAJAFqRYjMAX4r8vjvXy+ejgv9/HHx6ilL0/YfsTpDCUA8DqkM4ZMTj1v1O/yEnYDv4/Q11+xZgo+L92i2k1sez0v52PPWky3QRAaLVCuSzExL/pNk+XPITnv1qhM54Bbv4/L0tZDJjv9T+KfwGmUTvRvysQIHAaFPa/OIhzXuNdAECIpdk5AuDov1NIu04x87I/LOjYy5AGwb+Y5CZdh3z9v1Zie2IWpee/9jayi4wn9L8q9w0naNj1v9ydWBOJfOy/x6VKAtHN9D8pHT05pjnjv5Z6XxFUqf2/C8bHbV2+478rUatu65vQvyI2Mj7sKs+/wsSH9ws72j8mXQ7NOO/qv+5S4TUtOd6/AjCB4wzV1T/AzPTlgE/Bv/FYTdaYsO8/S+cMgyUY7r8+JwYuqKD1P3ENzjycxum//+l4mTC/+b+sTS7ykszSvwtDf9KmbLc/8V24NegO9D9sK4eilE3+PzKCU/pcCNO/HaPRPF/P9j8yOzlo1VT5Pw1xA3DdEO4/aneZAoTx9T+m6I8pt+bwPwoR9xYUG86/2ximmm1uAEA=",
          "dtype": "f8"
         },
         "yaxis": "y"
        }
       ],
       "layout": {
        "legend": {
         "title": {
          "text": "tipoCultivo"
         },
         "tracegroupgap": 0
        },
        "template": {
         "data": {
          "bar": [
           {
            "error_x": {
             "color": "#2a3f5f"
            },
            "error_y": {
             "color": "#2a3f5f"
            },
            "marker": {
             "line": {
              "color": "#E5ECF6",
              "width": 0.5
             },
             "pattern": {
              "fillmode": "overlay",
              "size": 10,
              "solidity": 0.2
             }
            },
            "type": "bar"
           }
          ],
          "barpolar": [
           {
            "marker": {
             "line": {
              "color": "#E5ECF6",
              "width": 0.5
             },
             "pattern": {
              "fillmode": "overlay",
              "size": 10,
              "solidity": 0.2
             }
            },
            "type": "barpolar"
           }
          ],
          "carpet": [
           {
            "aaxis": {
             "endlinecolor": "#2a3f5f",
             "gridcolor": "white",
             "linecolor": "white",
             "minorgridcolor": "white",
             "startlinecolor": "#2a3f5f"
            },
            "baxis": {
             "endlinecolor": "#2a3f5f",
             "gridcolor": "white",
             "linecolor": "white",
             "minorgridcolor": "white",
             "startlinecolor": "#2a3f5f"
            },
            "type": "carpet"
           }
          ],
          "choropleth": [
           {
            "colorbar": {
             "outlinewidth": 0,
             "ticks": ""
            },
            "type": "choropleth"
           }
          ],
          "contour": [
           {
            "colorbar": {
             "outlinewidth": 0,
             "ticks": ""
            },
            "colorscale": [
             [
              0,
              "#0d0887"
             ],
             [
              0.1111111111111111,
              "#46039f"
             ],
             [
              0.2222222222222222,
              "#7201a8"
             ],
             [
              0.3333333333333333,
              "#9c179e"
             ],
             [
              0.4444444444444444,
              "#bd3786"
             ],
             [
              0.5555555555555556,
              "#d8576b"
             ],
             [
              0.6666666666666666,
              "#ed7953"
             ],
             [
              0.7777777777777778,
              "#fb9f3a"
             ],
             [
              0.8888888888888888,
              "#fdca26"
             ],
             [
              1,
              "#f0f921"
             ]
            ],
            "type": "contour"
           }
          ],
          "contourcarpet": [
           {
            "colorbar": {
             "outlinewidth": 0,
             "ticks": ""
            },
            "type": "contourcarpet"
           }
          ],
          "heatmap": [
           {
            "colorbar": {
             "outlinewidth": 0,
             "ticks": ""
            },
            "colorscale": [
             [
              0,
              "#0d0887"
             ],
             [
              0.1111111111111111,
              "#46039f"
             ],
             [
              0.2222222222222222,
              "#7201a8"
             ],
             [
              0.3333333333333333,
              "#9c179e"
             ],
             [
              0.4444444444444444,
              "#bd3786"
             ],
             [
              0.5555555555555556,
              "#d8576b"
             ],
             [
              0.6666666666666666,
              "#ed7953"
             ],
             [
              0.7777777777777778,
              "#fb9f3a"
             ],
             [
              0.8888888888888888,
              "#fdca26"
             ],
             [
              1,
              "#f0f921"
             ]
            ],
            "type": "heatmap"
           }
          ],
          "histogram": [
           {
            "marker": {
             "pattern": {
              "fillmode": "overlay",
              "size": 10,
              "solidity": 0.2
             }
            },
            "type": "histogram"
           }
          ],
          "histogram2d": [
           {
            "colorbar": {
             "outlinewidth": 0,
             "ticks": ""
            },
            "colorscale": [
             [
              0,
              "#0d0887"
             ],
             [
              0.1111111111111111,
              "#46039f"
             ],
             [
              0.2222222222222222,
              "#7201a8"
             ],
             [
              0.3333333333333333,
              "#9c179e"
             ],
             [
              0.4444444444444444,
              "#bd3786"
             ],
             [
              0.5555555555555556,
              "#d8576b"
             ],
             [
              0.6666666666666666,
              "#ed7953"
             ],
             [
              0.7777777777777778,
              "#fb9f3a"
             ],
             [
              0.8888888888888888,
              "#fdca26"
             ],
             [
              1,
              "#f0f921"
             ]
            ],
            "type": "histogram2d"
           }
          ],
          "histogram2dcontour": [
           {
            "colorbar": {
             "outlinewidth": 0,
             "ticks": ""
            },
            "colorscale": [
             [
              0,
              "#0d0887"
             ],
             [
              0.1111111111111111,
              "#46039f"
             ],
             [
              0.2222222222222222,
              "#7201a8"
             ],
             [
              0.3333333333333333,
              "#9c179e"
             ],
             [
              0.4444444444444444,
              "#bd3786"
             ],
             [
              0.5555555555555556,
              "#d8576b"
             ],
             [
              0.6666666666666666,
              "#ed7953"
             ],
             [
              0.7777777777777778,
              "#fb9f3a"
             ],
             [
              0.8888888888888888,
              "#fdca26"
             ],
             [
              1,
              "#f0f921"
             ]
            ],
            "type": "histogram2dcontour"
           }
          ],
          "mesh3d": [
           {
            "colorbar": {
             "outlinewidth": 0,
             "ticks": ""
            },
            "type": "mesh3d"
           }
          ],
          "parcoords": [
           {
            "line": {
             "colorbar": {
              "outlinewidth": 0,
              "ticks": ""
             }
            },
            "type": "parcoords"
           }
          ],
          "pie": [
           {
            "automargin": true,
            "type": "pie"
           }
          ],
          "scatter": [
           {
            "fillpattern": {
             "fillmode": "overlay",
             "size": 10,
             "solidity": 0.2
            },
            "type": "scatter"
           }
          ],
          "scatter3d": [
           {
            "line": {
             "colorbar": {
              "outlinewidth": 0,
              "ticks": ""
             }
            },
            "marker": {
             "colorbar": {
              "outlinewidth": 0,
              "ticks": ""
             }
            },
            "type": "scatter3d"
           }
          ],
          "scattercarpet": [
           {
            "marker": {
             "colorbar": {
              "outlinewidth": 0,
              "ticks": ""
             }
            },
            "type": "scattercarpet"
           }
          ],
          "scattergeo": [
           {
            "marker": {
             "colorbar": {
              "outlinewidth": 0,
              "ticks": ""
             }
            },
            "type": "scattergeo"
           }
          ],
          "scattergl": [
           {
            "marker": {
             "colorbar": {
              "outlinewidth": 0,
              "ticks": ""
             }
            },
            "type": "scattergl"
           }
          ],
          "scattermap": [
           {
            "marker": {
             "colorbar": {
              "outlinewidth": 0,
              "ticks": ""
             }
            },
            "type": "scattermap"
           }
          ],
          "scattermapbox": [
           {
            "marker": {
             "colorbar": {
              "outlinewidth": 0,
              "ticks": ""
             }
            },
            "type": "scattermapbox"
           }
          ],
          "scatterpolar": [
           {
            "marker": {
             "colorbar": {
              "outlinewidth": 0,
              "ticks": ""
             }
            },
            "type": "scatterpolar"
           }
          ],
          "scatterpolargl": [
           {
            "marker": {
             "colorbar": {
              "outlinewidth": 0,
              "ticks": ""
             }
            },
            "type": "scatterpolargl"
           }
          ],
          "scatterternary": [
           {
            "marker": {
             "colorbar": {
              "outlinewidth": 0,
              "ticks": ""
             }
            },
            "type": "scatterternary"
           }
          ],
          "surface": [
           {
            "colorbar": {
             "outlinewidth": 0,
             "ticks": ""
            },
            "colorscale": [
             [
              0,
              "#0d0887"
             ],
             [
              0.1111111111111111,
              "#46039f"
             ],
             [
              0.2222222222222222,
              "#7201a8"
             ],
             [
              0.3333333333333333,
              "#9c179e"
             ],
             [
              0.4444444444444444,
              "#bd3786"
             ],
             [
              0.5555555555555556,
              "#d8576b"
             ],
             [
              0.6666666666666666,
              "#ed7953"
             ],
             [
              0.7777777777777778,
              "#fb9f3a"
             ],
             [
              0.8888888888888888,
              "#fdca26"
             ],
             [
              1,
              "#f0f921"
             ]
            ],
            "type": "surface"
           }
          ],
          "table": [
           {
            "cells": {
             "fill": {
              "color": "#EBF0F8"
             },
             "line": {
              "color": "white"
             }
            },
            "header": {
             "fill": {
              "color": "#C8D4E3"
             },
             "line": {
              "color": "white"
             }
            },
            "type": "table"
           }
          ]
         },
         "layout": {
          "annotationdefaults": {
           "arrowcolor": "#2a3f5f",
           "arrowhead": 0,
           "arrowwidth": 1
          },
          "autotypenumbers": "strict",
          "coloraxis": {
           "colorbar": {
            "outlinewidth": 0,
            "ticks": ""
           }
          },
          "colorscale": {
           "diverging": [
            [
             0,
             "#8e0152"
            ],
            [
             0.1,
             "#c51b7d"
            ],
            [
             0.2,
             "#de77ae"
            ],
            [
             0.3,
             "#f1b6da"
            ],
            [
             0.4,
             "#fde0ef"
            ],
            [
             0.5,
             "#f7f7f7"
            ],
            [
             0.6,
             "#e6f5d0"
            ],
            [
             0.7,
             "#b8e186"
            ],
            [
             0.8,
             "#7fbc41"
            ],
            [
             0.9,
             "#4d9221"
            ],
            [
             1,
             "#276419"
            ]
           ],
           "sequential": [
            [
             0,
             "#0d0887"
            ],
            [
             0.1111111111111111,
             "#46039f"
            ],
            [
             0.2222222222222222,
             "#7201a8"
            ],
            [
             0.3333333333333333,
             "#9c179e"
            ],
            [
             0.4444444444444444,
             "#bd3786"
            ],
            [
             0.5555555555555556,
             "#d8576b"
            ],
            [
             0.6666666666666666,
             "#ed7953"
            ],
            [
             0.7777777777777778,
             "#fb9f3a"
            ],
            [
             0.8888888888888888,
             "#fdca26"
            ],
            [
             1,
             "#f0f921"
            ]
           ],
           "sequentialminus": [
            [
             0,
             "#0d0887"
            ],
            [
             0.1111111111111111,
             "#46039f"
            ],
            [
             0.2222222222222222,
             "#7201a8"
            ],
            [
             0.3333333333333333,
             "#9c179e"
            ],
            [
             0.4444444444444444,
             "#bd3786"
            ],
            [
             0.5555555555555556,
             "#d8576b"
            ],
            [
             0.6666666666666666,
             "#ed7953"
            ],
            [
             0.7777777777777778,
             "#fb9f3a"
            ],
            [
             0.8888888888888888,
             "#fdca26"
            ],
            [
             1,
             "#f0f921"
            ]
           ]
          },
          "colorway": [
           "#636efa",
           "#EF553B",
           "#00cc96",
           "#ab63fa",
           "#FFA15A",
           "#19d3f3",
           "#FF6692",
           "#B6E880",
           "#FF97FF",
           "#FECB52"
          ],
          "font": {
           "color": "#2a3f5f"
          },
          "geo": {
           "bgcolor": "white",
           "lakecolor": "white",
           "landcolor": "#E5ECF6",
           "showlakes": true,
           "showland": true,
           "subunitcolor": "white"
          },
          "hoverlabel": {
           "align": "left"
          },
          "hovermode": "closest",
          "mapbox": {
           "style": "light"
          },
          "paper_bgcolor": "white",
          "plot_bgcolor": "#E5ECF6",
          "polar": {
           "angularaxis": {
            "gridcolor": "white",
            "linecolor": "white",
            "ticks": ""
           },
           "bgcolor": "#E5ECF6",
           "radialaxis": {
            "gridcolor": "white",
            "linecolor": "white",
            "ticks": ""
           }
          },
          "scene": {
           "xaxis": {
            "backgroundcolor": "#E5ECF6",
            "gridcolor": "white",
            "gridwidth": 2,
            "linecolor": "white",
            "showbackground": true,
            "ticks": "",
            "zerolinecolor": "white"
           },
           "yaxis": {
            "backgroundcolor": "#E5ECF6",
            "gridcolor": "white",
            "gridwidth": 2,
            "linecolor": "white",
            "showbackground": true,
            "ticks": "",
            "zerolinecolor": "white"
           },
           "zaxis": {
            "backgroundcolor": "#E5ECF6",
            "gridcolor": "white",
            "gridwidth": 2,
            "linecolor": "white",
            "showbackground": true,
            "ticks": "",
            "zerolinecolor": "white"
           }
          },
          "shapedefaults": {
           "line": {
            "color": "#2a3f5f"
           }
          },
          "ternary": {
           "aaxis": {
            "gridcolor": "white",
            "linecolor": "white",
            "ticks": ""
           },
           "baxis": {
            "gridcolor": "white",
            "linecolor": "white",
            "ticks": ""
           },
           "bgcolor": "#E5ECF6",
           "caxis": {
            "gridcolor": "white",
            "linecolor": "white",
            "ticks": ""
           }
          },
          "title": {
           "x": 0.05
          },
          "xaxis": {
           "automargin": true,
           "gridcolor": "white",
           "linecolor": "white",
           "ticks": "",
           "title": {
            "standoff": 15
           },
           "zerolinecolor": "white",
           "zerolinewidth": 2
          },
          "yaxis": {
           "automargin": true,
           "gridcolor": "white",
           "linecolor": "white",
           "ticks": "",
           "title": {
            "standoff": 15
           },
           "zerolinecolor": "white",
           "zerolinewidth": 2
          }
         }
        },
        "title": {
         "text": "Distribución de tipoCultivo en 2 dimensiones"
        },
        "xaxis": {
         "anchor": "y",
         "domain": [
          0,
          1
         ],
         "title": {
          "text": "0"
         }
        },
        "yaxis": {
         "anchor": "x",
         "domain": [
          0,
          1
         ],
         "title": {
          "text": "1"
         }
        }
       }
      }
     },
     "metadata": {},
     "output_type": "display_data"
    }
   ],
   "source": [
    "features = pca_filtrado.drop(columns=['tipoCultivo']).columns.to_list()\n",
    "\n",
    "unique_tipoCultivo = pca_filtrado['tipoCultivo'].unique()\n",
    "num_colors = len(unique_tipoCultivo)\n",
    "color_palette = plt.get_cmap('tab20', num_colors)\n",
    "\n",
    "tipoCultivo_color_map = {cultivo: mcolors.to_hex(color_palette(i)) for i,\n",
    "                       cultivo in enumerate(unique_tipoCultivo)}\n",
    "\n",
    "loadings = pca.components_.T * np.sqrt(pca.explained_variance_)\n",
    "fig = px.scatter(pca_features, x=0, y=1, color = pca_filtrado[\"tipoCultivo\"],\n",
    "                 labels={'color': 'tipoCultivo'},\n",
    "                 color_discrete_map=tipoCultivo_color_map,\n",
    "                 title=\"Distribución de tipoCultivo en 2 dimensiones\")\n",
    "\n",
    "fig.show()"
   ]
  },
  {
   "cell_type": "code",
   "execution_count": 179,
   "id": "26c4a3b3",
   "metadata": {},
   "outputs": [
    {
     "data": {
      "application/vnd.plotly.v1+json": {
       "config": {
        "plotlyServerURL": "https://plot.ly"
       },
       "data": [
        {
         "hovertemplate": "tipoCultivo=Trigo<br>0=%{x}<br>1=%{y}<br>2=%{z}<extra></extra>",
         "legendgroup": "Trigo",
         "marker": {
          "color": "#1f77b4",
          "symbol": "circle"
         },
         "mode": "markers",
         "name": "Trigo",
         "scene": "scene",
         "showlegend": true,
         "type": "scatter3d",
         "x": {
          "bdata": "6FEpYhx9sb++oSdnbcwCwGeLANLgIu6/sF0ev5LO2D/D/5XHLQDHv5C4b6Tsi2c/vOeK1Tsi5D/xQ3QD9lH4P5/buhGMi/W/6uaPeuF19D/eot2dZKYBwOlo2ucHy+e/DsjbGFXn6D/lpZ6hcq3hPzeb2hUnw96/GVVriIck2T/FnOE6U3fxv+IYTt8+Ft6/VqZVyIrCwr9aJIMcfcfvP02orqFShwNAG9rl10in4T+T/2rBk4nqv+AzJCydkO6/CfN/5MxM8D9VZVNDXC0DwFNtKjXZXvC/WWHWiLeH479E+nAp7znWP8Y1nUf9eto/BPmpPCUu9b8C3R6oDATav8e0cVvk1/g/HYz6o/vd5z+tWYhfTaIDwHNmdtOSsOC/o7FhwxSC/j/GkH1NiLfivxmL92cjOeC/maCbghSOxr92K3yAX632v5VqNWW8quO/NChaZxgz2b8sgq/HMNH5vzMhxyWNB94/QYB+X6bn1z959oqLJA/+v0ED8X6VMvG/",
          "dtype": "f8"
         },
         "y": {
          "bdata": "aE2Hc9uU27+59Y09gDr2v4XNOJM2j/6/eKa9zHnh+79N+xIKJRHbPwnh/IUlnss/Pv0MqyWIAMCCNQJHg7jbv+d6UPZdmvw/l38lHcSG9r+WimuKUQPyP6qr0Umi7+e/yLt4/9SJvL8rWb7FsLIGQCoziaGav+E/f2Td4shO1T+P3FIhJ/X1P6uKMnmZj7U/7s6hl8Qh/L8L3fM/nhQDQOejc/SIxPI/NMsCKCql+z9LiedwJ3r7P594r60EOPO/72Xm733+4L+caq/Wmwq5v1ld17y5Jta/gWBviQzt8L+WK6A3TH/xP3mXwp2JLtY/sNp01ZgS2r/wSbItgimdPy54r0REOeU/FTcUUXpnyj+0bc6GGmLyvyIXy/pFLNe/I7kM6Sal0j+RBb2qAQz/PyT/epJ7lvQ/EbFZwTkCAsDd/vJ+q37tPzoh2A/iR9+/8qZFHhk9579dW4Y/rTkCwC0GXzYel+C/cEKFDnsVkb+TLIrZeoXpP5RXnNVD7fC/",
          "dtype": "f8"
         },
         "z": {
          "bdata": "+J8FebOWA0AUlItdMoLrv9yKhBmUj5y/H0u0PrvTvb+nT9mgSRLYP2qqnR9qzgDAaN29UG//2L/gUL+l0Yf1PxWIb3GPuO0/Yhz12fHi6b9LmeQih1TqP+ivyLExxdc/Q1/MhUhH7j9RXMmd6qr1v2lF92iUhQBAWZEgwPwR/z+R53wzA25oPzFq9EtJkO2/8JKLsrLs8z+oRdU0UA7uv3vvjHx2c/Q/i8fEWt9a8j8Zvonjp32zv+5p68nlz/a/t70Ju2czAsAe+TEaZNzDP0Db17X6Mf0/o9UI9pzsAEBgY8aV9Y4FQLrtcjyqr/G/JD92yLaz8b8RdRRSMi7uP3ZuPA/Du/o/6WZIGXwldj9V8zlhzJf4v9fXNkmhdtA/HybTK38I8D9MN3w5TD3Rv00YMu97l+2/T3s/gDOQ9D+6WnV1Qu7fP7sAPi4BZ/m/qxoox/1a/T/dmYffQaTmv56dHy0U9AHArZzNjENS2D+rB6lfm1bbPzpwlDsHhwLA",
          "dtype": "f8"
         }
        },
        {
         "hovertemplate": "tipoCultivo=Maiz<br>0=%{x}<br>1=%{y}<br>2=%{z}<extra></extra>",
         "legendgroup": "Maiz",
         "marker": {
          "color": "#8c564b",
          "symbol": "circle"
         },
         "mode": "markers",
         "name": "Maiz",
         "scene": "scene",
         "showlegend": true,
         "type": "scatter3d",
         "x": {
          "bdata": "fh9Hx12x7j99Vc7mQRznv1SWO/iNgQDA4PInHDSTxj/hUG+U2+vSPxCLdkrVQ/W/nkMDurnJ6b9DpSM/oUzwv0MfXnWbHN0/diqJAE9rA0DsphHOtuS4P3J819Ut5ug/q8LtTmSiBUDuOuSMH0v6Px91q/cSFwbAXbeC4mkt9D8Q73tX9ovpP7Xjx2JIAfE/G5YVWuYglr/Ew4NDNPz8Pxf9Ojm18OE/c4f6GzrQ4D9veUjj+qsCwCDCWpS5adc/zVz0MtXa9T8I4zauSOP8PwXYc7ikkvE/2N9NNcve4L+IQxyGXXfcv6BHDUAv/LA/eFA8nWTd+b+hIc4RWIQAwOMwaQuDnPk/fPa9wnsM5r81s8bnmibOv0svUydjm7E/cq+jhE4g7D+NN6nvur8BQEAA3k+u7uE/T+a/9XrB5b/sc5H3N4/ZP4hzucqFbuI/e4eNvc9cy7+Zws+bI6bevw30UvlRg/E/jYbJ3b3i+T8FGXHEORfpPyKsFtULvPQ/nLOadKX79L8npt8ylWLNv/IVF/OzD8Y/exIJVVLT/z/qLhQrujkAwMgYRYrFz8k/",
          "dtype": "f8"
         },
         "y": {
          "bdata": "+Mad2tzV5z+v1Xey14e9v2VMQqfxPes/5HcvxwTwxb/KhjLLZvT4P3S83hVdtva/bKKm6NNc779nl/GcuZP2v+tx3V56Eos/zeaGzzF5+7/pYiTIDkcDwJGWtpc6bOU/MaIOTR/B5r+SimVpxuLxv5yHfoqFb+s/ZPvFjd8O7r/Hh5FT2lLsPwX/sDIPSes/95SXEyNOA0DNEZqHOKjqv2dIsUkKNL2/rSyVFHul+r9FwMs5Gj3CP6eVfEH+jAfAwa3DWZZZ/z8ePAOYg4/8PwQyu/iG3++/bucMh3w59b93T1db1Trivyf3nqS1cO8/KVs3uem18r+dds+gM7XAPxY1bRWlW/y/AuCK6oI95z91IF9ro63VPwkDaZEFQPY/E4pj6h6PAcAWh2eekzjGv5OCCFSn9fQ/BKQ2g8dfBEALE8hqFmoBwAvqXkeOu/m/lVjofqN44b8pkB+gTO8AQIpIHChmI9s/dSS2KGLk1T/Mf9mPqw3Rv5XmBlhiufm/ToG7rmLA0T+Ze8CUDlLXv3SROWaVDLS/0JfkKMca7j/hPMX17encv8NaTv5q/94/",
          "dtype": "f8"
         },
         "z": {
          "bdata": "F+sPS7QE4D8MXWOkAKMCQBaSf1zNluI/+17bEXoQ4b+WhFF/AJ0FwApQ9o4eSfi/+P6Tgl3hAcD10mTjUbvwv5pVFgq1twPAvp5Ny5Pbq79heQmtvSvuv4hQZs1bl/6/b194GZwq8b9+OElNJWXNP9LDb1uXL9s/SsgHYa6G6T/VOrFviU/yP3UMg9dMntG/aUQL+ifr77+pxfkkOMjyP8HL/XbqFQDAj/tRCxC+7L9On0KKmrrQvwTRwbr5qfo/YebBThCA0j9wcqEdCMfIP26e7Rf7VvS/OKk+2qff7j9HCu9BzorWPys2YU5r5v0/NIqRsBF8wr/0X2AU3FDov8eczhubS9c/RS7N97fNBEBAwqN4ATbqPzjEvW9+tfA/MOOlGw0P3z8zJWp6VU66P82aANMT4OM/WVOteIcD8b/GggijZoD3P+wP7o8GAuU/BIPZu6lq7L+umsYvUcjVP8n76hjjFuq/BigK7e0f6D+M01I88XznP0WCreeRUvU/Ekt2BwCg5L+93lOteKXhP2IzEA/wvwLAy2ZaBMAbyr/80ZiQXqnAv7QwHJPwiu8/",
          "dtype": "f8"
         }
        },
        {
         "hovertemplate": "tipoCultivo=Soja<br>0=%{x}<br>1=%{y}<br>2=%{z}<extra></extra>",
         "legendgroup": "Soja",
         "marker": {
          "color": "#9edae5",
          "symbol": "circle"
         },
         "mode": "markers",
         "name": "Soja",
         "scene": "scene",
         "showlegend": true,
         "type": "scatter3d",
         "x": {
          "bdata": "Dp5sh8vL8j+7cdwDY0bvPxuU1Cc5jOc/AqzjbIRt97+1lcQmyDj0P3NaIgD1dvQ/pd0aKgBs4j8AU8yiycy4vw0Q41nPZvI/mTzbXVwz7D+PKvx+r0vov/ZtCmF7rb4/3eQSEOZXBEAcgwCPBJv1v/8kMUJyV/Q/swkaRmw17L/Hw+/T8RIDQAoikCd1rgDASGgPBK+Yoj+w6YhB1fwEwPFpU8jEat2/aigIuapO8z++Gj7cy1mcv6evBbqF36y/yMbITJO4AkA91LtBrosBQBNc6a5WC8O/bzPQX9Ka8T/q0FesLeDqv0E/ZrH0xf+/3JH5OzRAvL87ITevcJT1v6glXrFWWANAD5nvxnsK5T9L15lJ2Zbyv1+2D1MbVKi/J6qCFgE/AECz2JrcKWj8vz/tNoBpfuI/tqo+QGVyBUAybussGIXDP9jIKprBkOC/v0B5D7U7/b+bF4OBXQ73vw1vENLH4ew/TZtkQQsZ+L8iA5ZhmHABQIhHkxwtpOw/Xkx/Jlov5L93IYmZaWHCP61+YzpQoAjA58ipabe/+7/wxcPwNPbYv4aJYzj/adW/HrjmQF6IAMBplEZK2qkBQKicxNTGDQPArxUtTbA/qb/X9exEaGHxv9gcXqp6Aew/qY/xRD0GA8A=",
          "dtype": "f8"
         },
         "y": {
          "bdata": "QIXSi76W8D/IFfzE69f+v8vPKRkb3vW/0ru7nytZ9j+kEEncalIIQKbIQK1rwPc/JrJFBqum/j/NZcYV5LPpP4tXOVGxSAJAFqRYjMAX4r8vjvXy+ejgv9/HHx6ilL0/YfsTpDCUA8DqkM4ZMTj1v1O/yEnYDv4/Q11+xZgo+L92i2k1sez0v52PPWky3QRAaLVCuSzExL/pNk+XPITnv1qhM54Bbv4/L0tZDJjv9T+KfwGmUTvRvysQIHAaFPa/OIhzXuNdAECIpdk5AuDov1NIu04x87I/LOjYy5AGwb+Y5CZdh3z9v1Zie2IWpee/9jayi4wn9L8q9w0naNj1v9ydWBOJfOy/x6VKAtHN9D8pHT05pjnjv5Z6XxFUqf2/C8bHbV2+478rUatu65vQvyI2Mj7sKs+/wsSH9ws72j8mXQ7NOO/qv+5S4TUtOd6/AjCB4wzV1T/AzPTlgE/Bv/FYTdaYsO8/S+cMgyUY7r8+JwYuqKD1P3ENzjycxum//+l4mTC/+b+sTS7ykszSvwtDf9KmbLc/8V24NegO9D9sK4eilE3+PzKCU/pcCNO/HaPRPF/P9j8yOzlo1VT5Pw1xA3DdEO4/aneZAoTx9T+m6I8pt+bwPwoR9xYUG86/2ximmm1uAEA=",
          "dtype": "f8"
         },
         "z": {
          "bdata": "CSOwAfUT9L+zDKlNYdrTvxvTpL+F4vK/yktilNbJxD8i/mtafNz0vx99F9clm+O/6njqpQCV0z+lqHnfS2fpv5i7P79xFuq/bwKsoarX+79gq5sqLKX3P8iJOtBqkPM/Y0wJkQYB3L/KAq1pOLP6v3Qafj7zecg/sW1jutAZ3r95Tg2GXbDxP7ZQeS4DMca/Z9+bfENOBEAteV5fhVjovwgGw8nQxKy/guK3VN+K5r+czbPZLxnzP3jAxljCs5O/muh3wYEf9j+Tj++Dk9/ev/EMBwt34vM/3bVvpTt9/z9Gpkghbh7nv39X0UGvfvS/Y1kAPnWS7z+hZ3s9DAICQD/uCAuele2/rRjOIOE44r/a9t6gE9PyPz/FrVZnnNC/MnbHd/F1+7/i5Udc+vDFP6z7AtBT3/q/rwQgkZo06L+uN8cxJzHgvxUoAeluVQdAx3ioGv966L/9q5nWvAf1P2uHYYSTDPA/Kif4efD8xD8m2iQmKOvzPwQdA+lvi/a/p/aCfAxs3L+qzTxbzV7wP4qEXylgqtY/90bXIo+Ozz85hRqfI20BwNu3sdKlywPAg0RJ71SnvT8iMFivrZHQvzJRN2WZsZQ/g4iFr7Je8r/2hRCLv0vxPylQrszXlQHAw33Wx0yNuz8=",
          "dtype": "f8"
         }
        }
       ],
       "layout": {
        "legend": {
         "title": {
          "text": "tipoCultivo"
         },
         "tracegroupgap": 0
        },
        "scene": {
         "domain": {
          "x": [
           0,
           1
          ],
          "y": [
           0,
           1
          ]
         },
         "xaxis": {
          "title": {
           "text": "0"
          }
         },
         "yaxis": {
          "title": {
           "text": "1"
          }
         },
         "zaxis": {
          "title": {
           "text": "2"
          }
         }
        },
        "template": {
         "data": {
          "bar": [
           {
            "error_x": {
             "color": "#2a3f5f"
            },
            "error_y": {
             "color": "#2a3f5f"
            },
            "marker": {
             "line": {
              "color": "#E5ECF6",
              "width": 0.5
             },
             "pattern": {
              "fillmode": "overlay",
              "size": 10,
              "solidity": 0.2
             }
            },
            "type": "bar"
           }
          ],
          "barpolar": [
           {
            "marker": {
             "line": {
              "color": "#E5ECF6",
              "width": 0.5
             },
             "pattern": {
              "fillmode": "overlay",
              "size": 10,
              "solidity": 0.2
             }
            },
            "type": "barpolar"
           }
          ],
          "carpet": [
           {
            "aaxis": {
             "endlinecolor": "#2a3f5f",
             "gridcolor": "white",
             "linecolor": "white",
             "minorgridcolor": "white",
             "startlinecolor": "#2a3f5f"
            },
            "baxis": {
             "endlinecolor": "#2a3f5f",
             "gridcolor": "white",
             "linecolor": "white",
             "minorgridcolor": "white",
             "startlinecolor": "#2a3f5f"
            },
            "type": "carpet"
           }
          ],
          "choropleth": [
           {
            "colorbar": {
             "outlinewidth": 0,
             "ticks": ""
            },
            "type": "choropleth"
           }
          ],
          "contour": [
           {
            "colorbar": {
             "outlinewidth": 0,
             "ticks": ""
            },
            "colorscale": [
             [
              0,
              "#0d0887"
             ],
             [
              0.1111111111111111,
              "#46039f"
             ],
             [
              0.2222222222222222,
              "#7201a8"
             ],
             [
              0.3333333333333333,
              "#9c179e"
             ],
             [
              0.4444444444444444,
              "#bd3786"
             ],
             [
              0.5555555555555556,
              "#d8576b"
             ],
             [
              0.6666666666666666,
              "#ed7953"
             ],
             [
              0.7777777777777778,
              "#fb9f3a"
             ],
             [
              0.8888888888888888,
              "#fdca26"
             ],
             [
              1,
              "#f0f921"
             ]
            ],
            "type": "contour"
           }
          ],
          "contourcarpet": [
           {
            "colorbar": {
             "outlinewidth": 0,
             "ticks": ""
            },
            "type": "contourcarpet"
           }
          ],
          "heatmap": [
           {
            "colorbar": {
             "outlinewidth": 0,
             "ticks": ""
            },
            "colorscale": [
             [
              0,
              "#0d0887"
             ],
             [
              0.1111111111111111,
              "#46039f"
             ],
             [
              0.2222222222222222,
              "#7201a8"
             ],
             [
              0.3333333333333333,
              "#9c179e"
             ],
             [
              0.4444444444444444,
              "#bd3786"
             ],
             [
              0.5555555555555556,
              "#d8576b"
             ],
             [
              0.6666666666666666,
              "#ed7953"
             ],
             [
              0.7777777777777778,
              "#fb9f3a"
             ],
             [
              0.8888888888888888,
              "#fdca26"
             ],
             [
              1,
              "#f0f921"
             ]
            ],
            "type": "heatmap"
           }
          ],
          "histogram": [
           {
            "marker": {
             "pattern": {
              "fillmode": "overlay",
              "size": 10,
              "solidity": 0.2
             }
            },
            "type": "histogram"
           }
          ],
          "histogram2d": [
           {
            "colorbar": {
             "outlinewidth": 0,
             "ticks": ""
            },
            "colorscale": [
             [
              0,
              "#0d0887"
             ],
             [
              0.1111111111111111,
              "#46039f"
             ],
             [
              0.2222222222222222,
              "#7201a8"
             ],
             [
              0.3333333333333333,
              "#9c179e"
             ],
             [
              0.4444444444444444,
              "#bd3786"
             ],
             [
              0.5555555555555556,
              "#d8576b"
             ],
             [
              0.6666666666666666,
              "#ed7953"
             ],
             [
              0.7777777777777778,
              "#fb9f3a"
             ],
             [
              0.8888888888888888,
              "#fdca26"
             ],
             [
              1,
              "#f0f921"
             ]
            ],
            "type": "histogram2d"
           }
          ],
          "histogram2dcontour": [
           {
            "colorbar": {
             "outlinewidth": 0,
             "ticks": ""
            },
            "colorscale": [
             [
              0,
              "#0d0887"
             ],
             [
              0.1111111111111111,
              "#46039f"
             ],
             [
              0.2222222222222222,
              "#7201a8"
             ],
             [
              0.3333333333333333,
              "#9c179e"
             ],
             [
              0.4444444444444444,
              "#bd3786"
             ],
             [
              0.5555555555555556,
              "#d8576b"
             ],
             [
              0.6666666666666666,
              "#ed7953"
             ],
             [
              0.7777777777777778,
              "#fb9f3a"
             ],
             [
              0.8888888888888888,
              "#fdca26"
             ],
             [
              1,
              "#f0f921"
             ]
            ],
            "type": "histogram2dcontour"
           }
          ],
          "mesh3d": [
           {
            "colorbar": {
             "outlinewidth": 0,
             "ticks": ""
            },
            "type": "mesh3d"
           }
          ],
          "parcoords": [
           {
            "line": {
             "colorbar": {
              "outlinewidth": 0,
              "ticks": ""
             }
            },
            "type": "parcoords"
           }
          ],
          "pie": [
           {
            "automargin": true,
            "type": "pie"
           }
          ],
          "scatter": [
           {
            "fillpattern": {
             "fillmode": "overlay",
             "size": 10,
             "solidity": 0.2
            },
            "type": "scatter"
           }
          ],
          "scatter3d": [
           {
            "line": {
             "colorbar": {
              "outlinewidth": 0,
              "ticks": ""
             }
            },
            "marker": {
             "colorbar": {
              "outlinewidth": 0,
              "ticks": ""
             }
            },
            "type": "scatter3d"
           }
          ],
          "scattercarpet": [
           {
            "marker": {
             "colorbar": {
              "outlinewidth": 0,
              "ticks": ""
             }
            },
            "type": "scattercarpet"
           }
          ],
          "scattergeo": [
           {
            "marker": {
             "colorbar": {
              "outlinewidth": 0,
              "ticks": ""
             }
            },
            "type": "scattergeo"
           }
          ],
          "scattergl": [
           {
            "marker": {
             "colorbar": {
              "outlinewidth": 0,
              "ticks": ""
             }
            },
            "type": "scattergl"
           }
          ],
          "scattermap": [
           {
            "marker": {
             "colorbar": {
              "outlinewidth": 0,
              "ticks": ""
             }
            },
            "type": "scattermap"
           }
          ],
          "scattermapbox": [
           {
            "marker": {
             "colorbar": {
              "outlinewidth": 0,
              "ticks": ""
             }
            },
            "type": "scattermapbox"
           }
          ],
          "scatterpolar": [
           {
            "marker": {
             "colorbar": {
              "outlinewidth": 0,
              "ticks": ""
             }
            },
            "type": "scatterpolar"
           }
          ],
          "scatterpolargl": [
           {
            "marker": {
             "colorbar": {
              "outlinewidth": 0,
              "ticks": ""
             }
            },
            "type": "scatterpolargl"
           }
          ],
          "scatterternary": [
           {
            "marker": {
             "colorbar": {
              "outlinewidth": 0,
              "ticks": ""
             }
            },
            "type": "scatterternary"
           }
          ],
          "surface": [
           {
            "colorbar": {
             "outlinewidth": 0,
             "ticks": ""
            },
            "colorscale": [
             [
              0,
              "#0d0887"
             ],
             [
              0.1111111111111111,
              "#46039f"
             ],
             [
              0.2222222222222222,
              "#7201a8"
             ],
             [
              0.3333333333333333,
              "#9c179e"
             ],
             [
              0.4444444444444444,
              "#bd3786"
             ],
             [
              0.5555555555555556,
              "#d8576b"
             ],
             [
              0.6666666666666666,
              "#ed7953"
             ],
             [
              0.7777777777777778,
              "#fb9f3a"
             ],
             [
              0.8888888888888888,
              "#fdca26"
             ],
             [
              1,
              "#f0f921"
             ]
            ],
            "type": "surface"
           }
          ],
          "table": [
           {
            "cells": {
             "fill": {
              "color": "#EBF0F8"
             },
             "line": {
              "color": "white"
             }
            },
            "header": {
             "fill": {
              "color": "#C8D4E3"
             },
             "line": {
              "color": "white"
             }
            },
            "type": "table"
           }
          ]
         },
         "layout": {
          "annotationdefaults": {
           "arrowcolor": "#2a3f5f",
           "arrowhead": 0,
           "arrowwidth": 1
          },
          "autotypenumbers": "strict",
          "coloraxis": {
           "colorbar": {
            "outlinewidth": 0,
            "ticks": ""
           }
          },
          "colorscale": {
           "diverging": [
            [
             0,
             "#8e0152"
            ],
            [
             0.1,
             "#c51b7d"
            ],
            [
             0.2,
             "#de77ae"
            ],
            [
             0.3,
             "#f1b6da"
            ],
            [
             0.4,
             "#fde0ef"
            ],
            [
             0.5,
             "#f7f7f7"
            ],
            [
             0.6,
             "#e6f5d0"
            ],
            [
             0.7,
             "#b8e186"
            ],
            [
             0.8,
             "#7fbc41"
            ],
            [
             0.9,
             "#4d9221"
            ],
            [
             1,
             "#276419"
            ]
           ],
           "sequential": [
            [
             0,
             "#0d0887"
            ],
            [
             0.1111111111111111,
             "#46039f"
            ],
            [
             0.2222222222222222,
             "#7201a8"
            ],
            [
             0.3333333333333333,
             "#9c179e"
            ],
            [
             0.4444444444444444,
             "#bd3786"
            ],
            [
             0.5555555555555556,
             "#d8576b"
            ],
            [
             0.6666666666666666,
             "#ed7953"
            ],
            [
             0.7777777777777778,
             "#fb9f3a"
            ],
            [
             0.8888888888888888,
             "#fdca26"
            ],
            [
             1,
             "#f0f921"
            ]
           ],
           "sequentialminus": [
            [
             0,
             "#0d0887"
            ],
            [
             0.1111111111111111,
             "#46039f"
            ],
            [
             0.2222222222222222,
             "#7201a8"
            ],
            [
             0.3333333333333333,
             "#9c179e"
            ],
            [
             0.4444444444444444,
             "#bd3786"
            ],
            [
             0.5555555555555556,
             "#d8576b"
            ],
            [
             0.6666666666666666,
             "#ed7953"
            ],
            [
             0.7777777777777778,
             "#fb9f3a"
            ],
            [
             0.8888888888888888,
             "#fdca26"
            ],
            [
             1,
             "#f0f921"
            ]
           ]
          },
          "colorway": [
           "#636efa",
           "#EF553B",
           "#00cc96",
           "#ab63fa",
           "#FFA15A",
           "#19d3f3",
           "#FF6692",
           "#B6E880",
           "#FF97FF",
           "#FECB52"
          ],
          "font": {
           "color": "#2a3f5f"
          },
          "geo": {
           "bgcolor": "white",
           "lakecolor": "white",
           "landcolor": "#E5ECF6",
           "showlakes": true,
           "showland": true,
           "subunitcolor": "white"
          },
          "hoverlabel": {
           "align": "left"
          },
          "hovermode": "closest",
          "mapbox": {
           "style": "light"
          },
          "paper_bgcolor": "white",
          "plot_bgcolor": "#E5ECF6",
          "polar": {
           "angularaxis": {
            "gridcolor": "white",
            "linecolor": "white",
            "ticks": ""
           },
           "bgcolor": "#E5ECF6",
           "radialaxis": {
            "gridcolor": "white",
            "linecolor": "white",
            "ticks": ""
           }
          },
          "scene": {
           "xaxis": {
            "backgroundcolor": "#E5ECF6",
            "gridcolor": "white",
            "gridwidth": 2,
            "linecolor": "white",
            "showbackground": true,
            "ticks": "",
            "zerolinecolor": "white"
           },
           "yaxis": {
            "backgroundcolor": "#E5ECF6",
            "gridcolor": "white",
            "gridwidth": 2,
            "linecolor": "white",
            "showbackground": true,
            "ticks": "",
            "zerolinecolor": "white"
           },
           "zaxis": {
            "backgroundcolor": "#E5ECF6",
            "gridcolor": "white",
            "gridwidth": 2,
            "linecolor": "white",
            "showbackground": true,
            "ticks": "",
            "zerolinecolor": "white"
           }
          },
          "shapedefaults": {
           "line": {
            "color": "#2a3f5f"
           }
          },
          "ternary": {
           "aaxis": {
            "gridcolor": "white",
            "linecolor": "white",
            "ticks": ""
           },
           "baxis": {
            "gridcolor": "white",
            "linecolor": "white",
            "ticks": ""
           },
           "bgcolor": "#E5ECF6",
           "caxis": {
            "gridcolor": "white",
            "linecolor": "white",
            "ticks": ""
           }
          },
          "title": {
           "x": 0.05
          },
          "xaxis": {
           "automargin": true,
           "gridcolor": "white",
           "linecolor": "white",
           "ticks": "",
           "title": {
            "standoff": 15
           },
           "zerolinecolor": "white",
           "zerolinewidth": 2
          },
          "yaxis": {
           "automargin": true,
           "gridcolor": "white",
           "linecolor": "white",
           "ticks": "",
           "title": {
            "standoff": 15
           },
           "zerolinecolor": "white",
           "zerolinewidth": 2
          }
         }
        },
        "title": {
         "text": "Distribución de las tipoCultivoes en 3 dimensiones"
        }
       }
      }
     },
     "metadata": {},
     "output_type": "display_data"
    }
   ],
   "source": [
    "fig = px.scatter_3d(pca_features, x=0, y=1, z=2,\n",
    "              color=pca_filtrado[\"tipoCultivo\"],  labels={'color': 'tipoCultivo'},\n",
    "              color_discrete_map=tipoCultivo_color_map,\n",
    "              title=\"Distribución de las tipoCultivoes en 3 dimensiones\")\n",
    "fig.show()"
   ]
  },
  {
   "cell_type": "markdown",
   "id": "8162ca3d",
   "metadata": {},
   "source": [
    "# ISOMAP"
   ]
  },
  {
   "cell_type": "code",
   "execution_count": 180,
   "id": "bc86a308",
   "metadata": {},
   "outputs": [],
   "source": [
    "isomap = Isomap(n_neighbors=10, n_components=2) #preguntar numero componentes\n",
    "X_reduced = isomap.fit_transform(df_std)\n",
    "\n",
    "df_isomap = pd.DataFrame(X_reduced, columns=['PC1', 'PC2'])\n",
    "df_isomap['tipoCultivo'] = y\n",
    "\n",
    "#df_isomap"
   ]
  },
  {
   "cell_type": "code",
   "execution_count": 181,
   "id": "440d7492",
   "metadata": {},
   "outputs": [
    {
     "data": {
      "application/vnd.plotly.v1+json": {
       "config": {
        "plotlyServerURL": "https://plot.ly"
       },
       "data": [
        {
         "hovertemplate": "tipoCultivo=Trigo<br>PC1=%{x}<br>PC2=%{y}<extra></extra>",
         "legendgroup": "Trigo",
         "marker": {
          "color": "#636efa",
          "symbol": "circle"
         },
         "mode": "markers",
         "name": "Trigo",
         "orientation": "v",
         "showlegend": true,
         "type": "scatter",
         "x": {
          "bdata": "+FKzrYhE+L/rARmOCekVwOc3CCMx8hHAa5JWq4rN6r/lpYlS9fDJvzrUjC0MigBAgcTgMPBk6T+uOqH2KO4PQHtTEmAuGec/Lllb+j1wCEA1E1rWu+QVwKc2S72nRgnAa2z5QOsGuD8oGFh4IRwTQEPwazA9qdk/IkfDhRvIBkCfoWE3FrPVv/5z6EN7JwHAqfEyrC0BB8AxcVQZrwQRQDDMTMosThRAJk/9XP+5CkCcm4CenSbZv9iqsDS7xgDAYgU4v13XCkB8HmSlWisWwJSFgtmYNgvAoxdZnJjkCsD5DloEIhUAQIyFVVN/GO+/aRm4OwTLBsCyNpOyrAzjvz6R5YUVrRBAewmoMea1/j+jav1AwvoUwDmi2xXwf/W/x+GE7DyAFEDAwSoAmtPDv/Ti/WIUxYk/T/qWeHyP+r+/hSUm8vIIwFwRt6+iS/2/qrhNdhSG4r/1DhCvSZkXwN96j9u1Vvy/LqiJuBDN7T+3fjVMUEAFwDhkmOTLxPm/",
          "dtype": "f8"
         },
         "xaxis": "x",
         "y": {
          "bdata": "77JIGBWBEEDTM+s6EkgHwJtfNmKYmve/AK99Rxn24r8fqhMC3PnsP6PZcJixJgbAPYeUKk9mEsB/8Byb4bqtPymwubgnpxZApxZ1aftpE8AbBXF73LcNQMOQLZxXsew/aFyqvNw2DEDnXTbWREHgP8VhQnV3EhJAArh4JE82D0DfUrvsJS0IQBUeYflWb/a/jW38psnM6j/AESu/d874P7hQnK1LRQRA106H5SPLDUA67ZRjckMIQH+t0xriVBLANnDPzhGtE8CIUNYunIeoPxyOUA1E/hBAOJgA0Uo0BkDTqpd0VakaQNBsLCyOEP2/PzKEBSh1CcCrJX4trtnZP5slQebVSgdA/AgfJJyk+b9w4WzYf30SwCk3H6Mvl+w/uhWlaUcKAkBHWJCLkZT5P2nu9YjVf5a/e6/0Dkv40D/46unf7JfuP5x6VbruXxHAA+gzqeNQwj/pwnKYQWAAwCV7AZaozxLA66GAvaRZ8L8cS/BLqD4QQGtyY6upmxbA",
          "dtype": "f8"
         },
         "yaxis": "y"
        },
        {
         "hovertemplate": "tipoCultivo=Maiz<br>PC1=%{x}<br>PC2=%{y}<extra></extra>",
         "legendgroup": "Maiz",
         "marker": {
          "color": "#EF553B",
          "symbol": "circle"
         },
         "mode": "markers",
         "name": "Maiz",
         "orientation": "v",
         "showlegend": true,
         "type": "scatter",
         "x": {
          "bdata": "MUxgxR+zDkAUZHOXpfzxv+lwa13zSBTALknEZpbSxr/LGuUfj/EHQEYqzq9ZKQjATCVRvkEo/78hCinTdAL6v+8sPZXbBgtAsSjd7VMoCUDuLqnwtgkAwJJG2UQa7whAo3e18RfSGUA7bJnwUgUKQBp+oEecuhHAchCO+lPhB0AzPWctMiwEQDfyKfU9QAFAxWgD2ggLyz9NuCSUTRYTQKfmoWLEyMA/iuh2ueYQ3z+sUwN1BZ8WwKrdtCBnHATAVp6WC0VrCUA8jmX9WHsWQDF8qBen9vw/SXSbRsDT9b8cDwBwqYn9vycnV2Zi8tu/1gF5N5zEE8ATnSDymlEVwF3CfxY6JMY/leOhhWz4BcBdKELRoyfxP9JnvQnYgABABGL2A+TIvr+MyAkLc60VQOr46ssffO0/F297QNHN4b9saSBtuJjSv5fPN1R0HvM/OEFBcIg27r8xa7I3xfb0vzuB2oeFOA1AM29LcwRfB0B9Uugu8vnnP+8EyAtAcfE/uhZMuUr4C8DYjttiNuD5v9edVImgegFAhWqaSXC8G0BLZJDXpH4RwCzIVz6DOt4/",
          "dtype": "f8"
         },
         "xaxis": "x",
         "y": {
          "bdata": "9EDwyQeG5D8iyde/g1MLQB8zDVkZPBFAFueXrl1KBcB27DgRvf79v6gQZX8HUhDAMDht2kYgE8ASsH8Oj5MHwCsocpbdKBTAxZlT95enB8AUfpgPeVURwMahkRcX5Pq/divvqkILA8DCXG6fcmgBwFPy7i53rAtAk1PW92rA2z/CLeynu7QMQNLe+B+8/d+/PbLyvKlC4r9GiTnGNgW8vwKs9QVcERDANK6yb2zDEcBm7HhY8Y/ivwwN6KztId8/U/HsasYY9D9wny0hxaMIQDq8fHlnWhHAcNMYJbZb3r+pdUmFrmLlvxbEH7XFKAVAB93PcS9SA8CaiWDvnpLpP6xRdMfcA/m/pO/CnmhlFUA3+c0htc8TQHwuqX7upBJAwwEY5ZKf87/VMU3RA2vqv/q9RK/4nwxAJ0KZDE2T4D+5hdh2Bn/6v3HnfW7Lefi/e/KZaUVR/7+84VXlS5IZQB3oUIiP9fu/VHzbeVbr4z+XgIKtWmjrP39HhkmDieu/2t1sEt3H/b8fXzS3rVPzv9/N9qi9VRPAcpjmkZtDAkBu8zD+ZSgBQEukYanGhds/",
          "dtype": "f8"
         },
         "yaxis": "y"
        },
        {
         "hovertemplate": "tipoCultivo=Soja<br>PC1=%{x}<br>PC2=%{y}<extra></extra>",
         "legendgroup": "Soja",
         "marker": {
          "color": "#00cc96",
          "symbol": "circle"
         },
         "mode": "markers",
         "name": "Soja",
         "orientation": "v",
         "showlegend": true,
         "type": "scatter",
         "x": {
          "bdata": "kLFkSX4sEEBoNVhc1avUPysmcbHYKQJAjMGmMVE8CcC2G/UZs70RQKdXXg9NDBJAP2LPGrDlDUDnhzbks5L/P/KM4PGLsRNAn6PmdbR1DEC+UFeQJOIDwNnksE+P5+Y/xh8UKthOBkAk/OFziwUHwBu8Bcav3xdATGsOo4VEC8AdVJfyKdb5P9EkozHFFwbAhSTn2oTf4b+2EV7YFlsUwH186uFk6f4/Zjf///Kv8T8HVAEnH+rxv/tpHDW6bvu/wF9KUJQ2G0C/VOWxtzwQQHu5nG8V7QbAVRE0BYTd6r/8uPFzxb0NwPm9F31EBAvAn0zOc7dOBsCvo8Ap6d77v2m3BjsiiwNAw6U+Xu+uBEDqptJTqIoEwP2et9vAjdu/fRjzQNA++D9ijomMCrIWwEZk2eoFv9w/82URUAFxFkDGWFq9BPbyP+xCcZ3fRwfA7a/tUCAeEcA+2TB/SMwMwBTxKYTf2us/5BOBeFLADsCS2Hc6BE4XQLOGJLRnAgFAxBKYRwpCA8Ak0inlLRTsv1Wfdc0d7RjAnxCqn51yCMCk9tGfnm8KQIFGClpHxeE/pCRcj/axFMDE0SIlgw4XQAMzC7848xbAa2gDlxc1AEBoC9DnRXACwHg/0iP6ggxA55bbPxstEcA=",
          "dtype": "f8"
         },
         "xaxis": "x",
         "y": {
          "bdata": "q+Jc6SSBA8BM1AKxcZ38v5vkcyJqQhPApCH10/LuDUCoqVqiCTEEQHO0/vqougBAr2uX7ujcDkBE2zBUTuS1P67OAANcJvg/rY88s5QIEcChZ/+UaDUPQHhbuKD3rAlAeZfl+FaKCsCCcsKuFlwRwGitZtm53wxASBu5oSJ5CsBEuS3AdSAEwILhpyvbyRBAzkz2lvAVCEBSIBYFlFIFwMQW4ccPswxAU+sHe/D96z8L3tC0Y9fgP+6ACWsWrOm/SZvOOmALDUBZUE9DXFMLwLlQntJSceQ/0Bb4FeBR+z8aqto+EvEIwFA4Ct/2QwfAlI/T+99FBUBym7xIpUb6PznTLYiXJBDAF01A9UW+6T+uYooHgRnuPznCkQerFMs/gPHQ7fmpD8Cv/g/5yTvoP7mutkNEYxXApWanA40e0j/moQe4l3oJwKutQp0TzxNAf2ZbJzBe6r/wSG5dnsALQHKVVmfKPQJA+u3an76k6r991MsYLFoKQPpLjEEH/wnA6t6gffSUEMACa0hiE1PVPzJRDmdvGc4/0LMOuTHA9T8nHVkf17DnPxY0PtU5HBbAjFl58EsyCkA19AgWhS/3P3PSSSIVz/0/F61kOSj55L8VP41hqtDtP4c3N7H1NgzANJqnYy0/EkA=",
          "dtype": "f8"
         },
         "yaxis": "y"
        }
       ],
       "layout": {
        "legend": {
         "title": {
          "text": "tipoCultivo"
         },
         "tracegroupgap": 0
        },
        "template": {
         "data": {
          "bar": [
           {
            "error_x": {
             "color": "#2a3f5f"
            },
            "error_y": {
             "color": "#2a3f5f"
            },
            "marker": {
             "line": {
              "color": "#E5ECF6",
              "width": 0.5
             },
             "pattern": {
              "fillmode": "overlay",
              "size": 10,
              "solidity": 0.2
             }
            },
            "type": "bar"
           }
          ],
          "barpolar": [
           {
            "marker": {
             "line": {
              "color": "#E5ECF6",
              "width": 0.5
             },
             "pattern": {
              "fillmode": "overlay",
              "size": 10,
              "solidity": 0.2
             }
            },
            "type": "barpolar"
           }
          ],
          "carpet": [
           {
            "aaxis": {
             "endlinecolor": "#2a3f5f",
             "gridcolor": "white",
             "linecolor": "white",
             "minorgridcolor": "white",
             "startlinecolor": "#2a3f5f"
            },
            "baxis": {
             "endlinecolor": "#2a3f5f",
             "gridcolor": "white",
             "linecolor": "white",
             "minorgridcolor": "white",
             "startlinecolor": "#2a3f5f"
            },
            "type": "carpet"
           }
          ],
          "choropleth": [
           {
            "colorbar": {
             "outlinewidth": 0,
             "ticks": ""
            },
            "type": "choropleth"
           }
          ],
          "contour": [
           {
            "colorbar": {
             "outlinewidth": 0,
             "ticks": ""
            },
            "colorscale": [
             [
              0,
              "#0d0887"
             ],
             [
              0.1111111111111111,
              "#46039f"
             ],
             [
              0.2222222222222222,
              "#7201a8"
             ],
             [
              0.3333333333333333,
              "#9c179e"
             ],
             [
              0.4444444444444444,
              "#bd3786"
             ],
             [
              0.5555555555555556,
              "#d8576b"
             ],
             [
              0.6666666666666666,
              "#ed7953"
             ],
             [
              0.7777777777777778,
              "#fb9f3a"
             ],
             [
              0.8888888888888888,
              "#fdca26"
             ],
             [
              1,
              "#f0f921"
             ]
            ],
            "type": "contour"
           }
          ],
          "contourcarpet": [
           {
            "colorbar": {
             "outlinewidth": 0,
             "ticks": ""
            },
            "type": "contourcarpet"
           }
          ],
          "heatmap": [
           {
            "colorbar": {
             "outlinewidth": 0,
             "ticks": ""
            },
            "colorscale": [
             [
              0,
              "#0d0887"
             ],
             [
              0.1111111111111111,
              "#46039f"
             ],
             [
              0.2222222222222222,
              "#7201a8"
             ],
             [
              0.3333333333333333,
              "#9c179e"
             ],
             [
              0.4444444444444444,
              "#bd3786"
             ],
             [
              0.5555555555555556,
              "#d8576b"
             ],
             [
              0.6666666666666666,
              "#ed7953"
             ],
             [
              0.7777777777777778,
              "#fb9f3a"
             ],
             [
              0.8888888888888888,
              "#fdca26"
             ],
             [
              1,
              "#f0f921"
             ]
            ],
            "type": "heatmap"
           }
          ],
          "histogram": [
           {
            "marker": {
             "pattern": {
              "fillmode": "overlay",
              "size": 10,
              "solidity": 0.2
             }
            },
            "type": "histogram"
           }
          ],
          "histogram2d": [
           {
            "colorbar": {
             "outlinewidth": 0,
             "ticks": ""
            },
            "colorscale": [
             [
              0,
              "#0d0887"
             ],
             [
              0.1111111111111111,
              "#46039f"
             ],
             [
              0.2222222222222222,
              "#7201a8"
             ],
             [
              0.3333333333333333,
              "#9c179e"
             ],
             [
              0.4444444444444444,
              "#bd3786"
             ],
             [
              0.5555555555555556,
              "#d8576b"
             ],
             [
              0.6666666666666666,
              "#ed7953"
             ],
             [
              0.7777777777777778,
              "#fb9f3a"
             ],
             [
              0.8888888888888888,
              "#fdca26"
             ],
             [
              1,
              "#f0f921"
             ]
            ],
            "type": "histogram2d"
           }
          ],
          "histogram2dcontour": [
           {
            "colorbar": {
             "outlinewidth": 0,
             "ticks": ""
            },
            "colorscale": [
             [
              0,
              "#0d0887"
             ],
             [
              0.1111111111111111,
              "#46039f"
             ],
             [
              0.2222222222222222,
              "#7201a8"
             ],
             [
              0.3333333333333333,
              "#9c179e"
             ],
             [
              0.4444444444444444,
              "#bd3786"
             ],
             [
              0.5555555555555556,
              "#d8576b"
             ],
             [
              0.6666666666666666,
              "#ed7953"
             ],
             [
              0.7777777777777778,
              "#fb9f3a"
             ],
             [
              0.8888888888888888,
              "#fdca26"
             ],
             [
              1,
              "#f0f921"
             ]
            ],
            "type": "histogram2dcontour"
           }
          ],
          "mesh3d": [
           {
            "colorbar": {
             "outlinewidth": 0,
             "ticks": ""
            },
            "type": "mesh3d"
           }
          ],
          "parcoords": [
           {
            "line": {
             "colorbar": {
              "outlinewidth": 0,
              "ticks": ""
             }
            },
            "type": "parcoords"
           }
          ],
          "pie": [
           {
            "automargin": true,
            "type": "pie"
           }
          ],
          "scatter": [
           {
            "fillpattern": {
             "fillmode": "overlay",
             "size": 10,
             "solidity": 0.2
            },
            "type": "scatter"
           }
          ],
          "scatter3d": [
           {
            "line": {
             "colorbar": {
              "outlinewidth": 0,
              "ticks": ""
             }
            },
            "marker": {
             "colorbar": {
              "outlinewidth": 0,
              "ticks": ""
             }
            },
            "type": "scatter3d"
           }
          ],
          "scattercarpet": [
           {
            "marker": {
             "colorbar": {
              "outlinewidth": 0,
              "ticks": ""
             }
            },
            "type": "scattercarpet"
           }
          ],
          "scattergeo": [
           {
            "marker": {
             "colorbar": {
              "outlinewidth": 0,
              "ticks": ""
             }
            },
            "type": "scattergeo"
           }
          ],
          "scattergl": [
           {
            "marker": {
             "colorbar": {
              "outlinewidth": 0,
              "ticks": ""
             }
            },
            "type": "scattergl"
           }
          ],
          "scattermap": [
           {
            "marker": {
             "colorbar": {
              "outlinewidth": 0,
              "ticks": ""
             }
            },
            "type": "scattermap"
           }
          ],
          "scattermapbox": [
           {
            "marker": {
             "colorbar": {
              "outlinewidth": 0,
              "ticks": ""
             }
            },
            "type": "scattermapbox"
           }
          ],
          "scatterpolar": [
           {
            "marker": {
             "colorbar": {
              "outlinewidth": 0,
              "ticks": ""
             }
            },
            "type": "scatterpolar"
           }
          ],
          "scatterpolargl": [
           {
            "marker": {
             "colorbar": {
              "outlinewidth": 0,
              "ticks": ""
             }
            },
            "type": "scatterpolargl"
           }
          ],
          "scatterternary": [
           {
            "marker": {
             "colorbar": {
              "outlinewidth": 0,
              "ticks": ""
             }
            },
            "type": "scatterternary"
           }
          ],
          "surface": [
           {
            "colorbar": {
             "outlinewidth": 0,
             "ticks": ""
            },
            "colorscale": [
             [
              0,
              "#0d0887"
             ],
             [
              0.1111111111111111,
              "#46039f"
             ],
             [
              0.2222222222222222,
              "#7201a8"
             ],
             [
              0.3333333333333333,
              "#9c179e"
             ],
             [
              0.4444444444444444,
              "#bd3786"
             ],
             [
              0.5555555555555556,
              "#d8576b"
             ],
             [
              0.6666666666666666,
              "#ed7953"
             ],
             [
              0.7777777777777778,
              "#fb9f3a"
             ],
             [
              0.8888888888888888,
              "#fdca26"
             ],
             [
              1,
              "#f0f921"
             ]
            ],
            "type": "surface"
           }
          ],
          "table": [
           {
            "cells": {
             "fill": {
              "color": "#EBF0F8"
             },
             "line": {
              "color": "white"
             }
            },
            "header": {
             "fill": {
              "color": "#C8D4E3"
             },
             "line": {
              "color": "white"
             }
            },
            "type": "table"
           }
          ]
         },
         "layout": {
          "annotationdefaults": {
           "arrowcolor": "#2a3f5f",
           "arrowhead": 0,
           "arrowwidth": 1
          },
          "autotypenumbers": "strict",
          "coloraxis": {
           "colorbar": {
            "outlinewidth": 0,
            "ticks": ""
           }
          },
          "colorscale": {
           "diverging": [
            [
             0,
             "#8e0152"
            ],
            [
             0.1,
             "#c51b7d"
            ],
            [
             0.2,
             "#de77ae"
            ],
            [
             0.3,
             "#f1b6da"
            ],
            [
             0.4,
             "#fde0ef"
            ],
            [
             0.5,
             "#f7f7f7"
            ],
            [
             0.6,
             "#e6f5d0"
            ],
            [
             0.7,
             "#b8e186"
            ],
            [
             0.8,
             "#7fbc41"
            ],
            [
             0.9,
             "#4d9221"
            ],
            [
             1,
             "#276419"
            ]
           ],
           "sequential": [
            [
             0,
             "#0d0887"
            ],
            [
             0.1111111111111111,
             "#46039f"
            ],
            [
             0.2222222222222222,
             "#7201a8"
            ],
            [
             0.3333333333333333,
             "#9c179e"
            ],
            [
             0.4444444444444444,
             "#bd3786"
            ],
            [
             0.5555555555555556,
             "#d8576b"
            ],
            [
             0.6666666666666666,
             "#ed7953"
            ],
            [
             0.7777777777777778,
             "#fb9f3a"
            ],
            [
             0.8888888888888888,
             "#fdca26"
            ],
            [
             1,
             "#f0f921"
            ]
           ],
           "sequentialminus": [
            [
             0,
             "#0d0887"
            ],
            [
             0.1111111111111111,
             "#46039f"
            ],
            [
             0.2222222222222222,
             "#7201a8"
            ],
            [
             0.3333333333333333,
             "#9c179e"
            ],
            [
             0.4444444444444444,
             "#bd3786"
            ],
            [
             0.5555555555555556,
             "#d8576b"
            ],
            [
             0.6666666666666666,
             "#ed7953"
            ],
            [
             0.7777777777777778,
             "#fb9f3a"
            ],
            [
             0.8888888888888888,
             "#fdca26"
            ],
            [
             1,
             "#f0f921"
            ]
           ]
          },
          "colorway": [
           "#636efa",
           "#EF553B",
           "#00cc96",
           "#ab63fa",
           "#FFA15A",
           "#19d3f3",
           "#FF6692",
           "#B6E880",
           "#FF97FF",
           "#FECB52"
          ],
          "font": {
           "color": "#2a3f5f"
          },
          "geo": {
           "bgcolor": "white",
           "lakecolor": "white",
           "landcolor": "#E5ECF6",
           "showlakes": true,
           "showland": true,
           "subunitcolor": "white"
          },
          "hoverlabel": {
           "align": "left"
          },
          "hovermode": "closest",
          "mapbox": {
           "style": "light"
          },
          "paper_bgcolor": "white",
          "plot_bgcolor": "#E5ECF6",
          "polar": {
           "angularaxis": {
            "gridcolor": "white",
            "linecolor": "white",
            "ticks": ""
           },
           "bgcolor": "#E5ECF6",
           "radialaxis": {
            "gridcolor": "white",
            "linecolor": "white",
            "ticks": ""
           }
          },
          "scene": {
           "xaxis": {
            "backgroundcolor": "#E5ECF6",
            "gridcolor": "white",
            "gridwidth": 2,
            "linecolor": "white",
            "showbackground": true,
            "ticks": "",
            "zerolinecolor": "white"
           },
           "yaxis": {
            "backgroundcolor": "#E5ECF6",
            "gridcolor": "white",
            "gridwidth": 2,
            "linecolor": "white",
            "showbackground": true,
            "ticks": "",
            "zerolinecolor": "white"
           },
           "zaxis": {
            "backgroundcolor": "#E5ECF6",
            "gridcolor": "white",
            "gridwidth": 2,
            "linecolor": "white",
            "showbackground": true,
            "ticks": "",
            "zerolinecolor": "white"
           }
          },
          "shapedefaults": {
           "line": {
            "color": "#2a3f5f"
           }
          },
          "ternary": {
           "aaxis": {
            "gridcolor": "white",
            "linecolor": "white",
            "ticks": ""
           },
           "baxis": {
            "gridcolor": "white",
            "linecolor": "white",
            "ticks": ""
           },
           "bgcolor": "#E5ECF6",
           "caxis": {
            "gridcolor": "white",
            "linecolor": "white",
            "ticks": ""
           }
          },
          "title": {
           "x": 0.05
          },
          "xaxis": {
           "automargin": true,
           "gridcolor": "white",
           "linecolor": "white",
           "ticks": "",
           "title": {
            "standoff": 15
           },
           "zerolinecolor": "white",
           "zerolinewidth": 2
          },
          "yaxis": {
           "automargin": true,
           "gridcolor": "white",
           "linecolor": "white",
           "ticks": "",
           "title": {
            "standoff": 15
           },
           "zerolinecolor": "white",
           "zerolinewidth": 2
          }
         }
        },
        "title": {
         "text": "ISOMAP"
        },
        "xaxis": {
         "anchor": "y",
         "domain": [
          0,
          1
         ],
         "title": {
          "text": "PC1"
         }
        },
        "yaxis": {
         "anchor": "x",
         "domain": [
          0,
          1
         ],
         "title": {
          "text": "PC2"
         }
        }
       }
      }
     },
     "metadata": {},
     "output_type": "display_data"
    }
   ],
   "source": [
    "fig_isomap_2d = px.scatter(df_isomap, x='PC1', y='PC2', color='tipoCultivo',\n",
    "                    labels = {'color':'tipoCultivo', 0:'PC1',1:'PC2'},\n",
    "                    title='ISOMAP')\n",
    "fig_isomap_2d.show()"
   ]
  },
  {
   "cell_type": "markdown",
   "id": "e0af2fb2",
   "metadata": {},
   "source": [
    "# Tsne"
   ]
  },
  {
   "cell_type": "code",
   "execution_count": 183,
   "id": "9be3b776",
   "metadata": {},
   "outputs": [
    {
     "data": {
      "text/html": [
       "<div>\n",
       "<style scoped>\n",
       "    .dataframe tbody tr th:only-of-type {\n",
       "        vertical-align: middle;\n",
       "    }\n",
       "\n",
       "    .dataframe tbody tr th {\n",
       "        vertical-align: top;\n",
       "    }\n",
       "\n",
       "    .dataframe thead th {\n",
       "        text-align: right;\n",
       "    }\n",
       "</style>\n",
       "<table border=\"1\" class=\"dataframe\">\n",
       "  <thead>\n",
       "    <tr style=\"text-align: right;\">\n",
       "      <th></th>\n",
       "      <th>humedadSuelo(%)</th>\n",
       "      <th>pHSuelo</th>\n",
       "      <th>temperatura(°C)</th>\n",
       "      <th>precipitacion(mm)</th>\n",
       "      <th>humedad(%)</th>\n",
       "      <th>horasLuzSolar</th>\n",
       "      <th>mlPesticida</th>\n",
       "      <th>rendimientoKg_hectarea</th>\n",
       "      <th>indiceNDVI</th>\n",
       "      <th>tipoRiego_Goteo</th>\n",
       "      <th>tipoRiego_Manual</th>\n",
       "      <th>tipoFertilizante_Mixto</th>\n",
       "      <th>tipoFertilizante_Organico</th>\n",
       "      <th>estadoEnfermedadesCultivo_Moderate</th>\n",
       "      <th>estadoEnfermedadesCultivo_Severo</th>\n",
       "      <th>mas_120_dias</th>\n",
       "    </tr>\n",
       "  </thead>\n",
       "  <tbody>\n",
       "    <tr>\n",
       "      <th>0</th>\n",
       "      <td>0.394017</td>\n",
       "      <td>1.040927</td>\n",
       "      <td>0.468253</td>\n",
       "      <td>1.084461</td>\n",
       "      <td>0.129232</td>\n",
       "      <td>0.715899</td>\n",
       "      <td>-0.807933</td>\n",
       "      <td>-1.060408</td>\n",
       "      <td>1.132157</td>\n",
       "      <td>1.525297</td>\n",
       "      <td>-0.733305</td>\n",
       "      <td>1.420746</td>\n",
       "      <td>-0.694131</td>\n",
       "      <td>-0.694131</td>\n",
       "      <td>-0.684448</td>\n",
       "      <td>1.069924</td>\n",
       "    </tr>\n",
       "    <tr>\n",
       "      <th>1</th>\n",
       "      <td>0.173440</td>\n",
       "      <td>-1.323141</td>\n",
       "      <td>-0.511037</td>\n",
       "      <td>1.501523</td>\n",
       "      <td>0.951804</td>\n",
       "      <td>-0.874106</td>\n",
       "      <td>1.589491</td>\n",
       "      <td>0.961703</td>\n",
       "      <td>0.569187</td>\n",
       "      <td>-0.655610</td>\n",
       "      <td>-0.733305</td>\n",
       "      <td>1.420746</td>\n",
       "      <td>-0.694131</td>\n",
       "      <td>-0.694131</td>\n",
       "      <td>-0.684448</td>\n",
       "      <td>1.069924</td>\n",
       "    </tr>\n",
       "    <tr>\n",
       "      <th>2</th>\n",
       "      <td>1.508827</td>\n",
       "      <td>-0.288861</td>\n",
       "      <td>-1.089796</td>\n",
       "      <td>-0.003546</td>\n",
       "      <td>0.676418</td>\n",
       "      <td>-1.005182</td>\n",
       "      <td>1.750307</td>\n",
       "      <td>1.251525</td>\n",
       "      <td>-0.556753</td>\n",
       "      <td>-0.655610</td>\n",
       "      <td>1.363690</td>\n",
       "      <td>-0.703856</td>\n",
       "      <td>-0.694131</td>\n",
       "      <td>-0.694131</td>\n",
       "      <td>-0.684448</td>\n",
       "      <td>-0.934646</td>\n",
       "    </tr>\n",
       "    <tr>\n",
       "      <th>3</th>\n",
       "      <td>-1.188775</td>\n",
       "      <td>-0.272444</td>\n",
       "      <td>-0.279151</td>\n",
       "      <td>-0.247304</td>\n",
       "      <td>0.672833</td>\n",
       "      <td>0.607619</td>\n",
       "      <td>-0.225437</td>\n",
       "      <td>-1.488661</td>\n",
       "      <td>-0.275268</td>\n",
       "      <td>1.525297</td>\n",
       "      <td>-0.733305</td>\n",
       "      <td>-0.703856</td>\n",
       "      <td>1.440650</td>\n",
       "      <td>1.440650</td>\n",
       "      <td>-0.684448</td>\n",
       "      <td>1.069924</td>\n",
       "    </tr>\n",
       "    <tr>\n",
       "      <th>4</th>\n",
       "      <td>-1.247397</td>\n",
       "      <td>-1.076884</td>\n",
       "      <td>0.378181</td>\n",
       "      <td>0.455088</td>\n",
       "      <td>-1.097812</td>\n",
       "      <td>-1.284430</td>\n",
       "      <td>0.414123</td>\n",
       "      <td>0.411652</td>\n",
       "      <td>-1.007130</td>\n",
       "      <td>-0.655610</td>\n",
       "      <td>-0.733305</td>\n",
       "      <td>1.420746</td>\n",
       "      <td>-0.694131</td>\n",
       "      <td>1.440650</td>\n",
       "      <td>-0.684448</td>\n",
       "      <td>-0.934646</td>\n",
       "    </tr>\n",
       "    <tr>\n",
       "      <th>...</th>\n",
       "      <td>...</td>\n",
       "      <td>...</td>\n",
       "      <td>...</td>\n",
       "      <td>...</td>\n",
       "      <td>...</td>\n",
       "      <td>...</td>\n",
       "      <td>...</td>\n",
       "      <td>...</td>\n",
       "      <td>...</td>\n",
       "      <td>...</td>\n",
       "      <td>...</td>\n",
       "      <td>...</td>\n",
       "      <td>...</td>\n",
       "      <td>...</td>\n",
       "      <td>...</td>\n",
       "      <td>...</td>\n",
       "    </tr>\n",
       "    <tr>\n",
       "      <th>158</th>\n",
       "      <td>0.392030</td>\n",
       "      <td>0.302156</td>\n",
       "      <td>1.533782</td>\n",
       "      <td>-1.247039</td>\n",
       "      <td>1.453092</td>\n",
       "      <td>-0.361201</td>\n",
       "      <td>0.692032</td>\n",
       "      <td>1.190522</td>\n",
       "      <td>-1.626397</td>\n",
       "      <td>-0.655610</td>\n",
       "      <td>1.363690</td>\n",
       "      <td>1.420746</td>\n",
       "      <td>-0.694131</td>\n",
       "      <td>-0.694131</td>\n",
       "      <td>-0.684448</td>\n",
       "      <td>1.069924</td>\n",
       "    </tr>\n",
       "    <tr>\n",
       "      <th>159</th>\n",
       "      <td>0.154561</td>\n",
       "      <td>-0.814210</td>\n",
       "      <td>-1.894692</td>\n",
       "      <td>0.306484</td>\n",
       "      <td>-0.529829</td>\n",
       "      <td>1.462461</td>\n",
       "      <td>1.407924</td>\n",
       "      <td>-1.847087</td>\n",
       "      <td>-1.682694</td>\n",
       "      <td>1.525297</td>\n",
       "      <td>-0.733305</td>\n",
       "      <td>-0.703856</td>\n",
       "      <td>-0.694131</td>\n",
       "      <td>-0.694131</td>\n",
       "      <td>-0.684448</td>\n",
       "      <td>-0.934646</td>\n",
       "    </tr>\n",
       "    <tr>\n",
       "      <th>160</th>\n",
       "      <td>0.618569</td>\n",
       "      <td>-1.388809</td>\n",
       "      <td>-1.706883</td>\n",
       "      <td>-0.448952</td>\n",
       "      <td>-0.842507</td>\n",
       "      <td>0.470845</td>\n",
       "      <td>-0.447022</td>\n",
       "      <td>-0.386816</td>\n",
       "      <td>-0.725645</td>\n",
       "      <td>-0.655610</td>\n",
       "      <td>-0.733305</td>\n",
       "      <td>-0.703856</td>\n",
       "      <td>1.440650</td>\n",
       "      <td>1.440650</td>\n",
       "      <td>-0.684448</td>\n",
       "      <td>1.069924</td>\n",
       "    </tr>\n",
       "    <tr>\n",
       "      <th>161</th>\n",
       "      <td>0.674210</td>\n",
       "      <td>1.500607</td>\n",
       "      <td>-0.658602</td>\n",
       "      <td>1.370331</td>\n",
       "      <td>1.228624</td>\n",
       "      <td>-0.794321</td>\n",
       "      <td>1.427933</td>\n",
       "      <td>0.302725</td>\n",
       "      <td>1.582534</td>\n",
       "      <td>-0.655610</td>\n",
       "      <td>-0.733305</td>\n",
       "      <td>-0.703856</td>\n",
       "      <td>-0.694131</td>\n",
       "      <td>-0.694131</td>\n",
       "      <td>-0.684448</td>\n",
       "      <td>-0.934646</td>\n",
       "    </tr>\n",
       "    <tr>\n",
       "      <th>162</th>\n",
       "      <td>1.317064</td>\n",
       "      <td>-0.535118</td>\n",
       "      <td>-1.503742</td>\n",
       "      <td>1.268427</td>\n",
       "      <td>0.431870</td>\n",
       "      <td>1.496655</td>\n",
       "      <td>1.305654</td>\n",
       "      <td>-1.359270</td>\n",
       "      <td>0.963266</td>\n",
       "      <td>1.525297</td>\n",
       "      <td>-0.733305</td>\n",
       "      <td>-0.703856</td>\n",
       "      <td>1.440650</td>\n",
       "      <td>-0.694131</td>\n",
       "      <td>1.461032</td>\n",
       "      <td>1.069924</td>\n",
       "    </tr>\n",
       "  </tbody>\n",
       "</table>\n",
       "<p>163 rows × 16 columns</p>\n",
       "</div>"
      ],
      "text/plain": [
       "     humedadSuelo(%)   pHSuelo  temperatura(°C)  precipitacion(mm)  \\\n",
       "0           0.394017  1.040927         0.468253           1.084461   \n",
       "1           0.173440 -1.323141        -0.511037           1.501523   \n",
       "2           1.508827 -0.288861        -1.089796          -0.003546   \n",
       "3          -1.188775 -0.272444        -0.279151          -0.247304   \n",
       "4          -1.247397 -1.076884         0.378181           0.455088   \n",
       "..               ...       ...              ...                ...   \n",
       "158         0.392030  0.302156         1.533782          -1.247039   \n",
       "159         0.154561 -0.814210        -1.894692           0.306484   \n",
       "160         0.618569 -1.388809        -1.706883          -0.448952   \n",
       "161         0.674210  1.500607        -0.658602           1.370331   \n",
       "162         1.317064 -0.535118        -1.503742           1.268427   \n",
       "\n",
       "     humedad(%)  horasLuzSolar  mlPesticida  rendimientoKg_hectarea  \\\n",
       "0      0.129232       0.715899    -0.807933               -1.060408   \n",
       "1      0.951804      -0.874106     1.589491                0.961703   \n",
       "2      0.676418      -1.005182     1.750307                1.251525   \n",
       "3      0.672833       0.607619    -0.225437               -1.488661   \n",
       "4     -1.097812      -1.284430     0.414123                0.411652   \n",
       "..          ...            ...          ...                     ...   \n",
       "158    1.453092      -0.361201     0.692032                1.190522   \n",
       "159   -0.529829       1.462461     1.407924               -1.847087   \n",
       "160   -0.842507       0.470845    -0.447022               -0.386816   \n",
       "161    1.228624      -0.794321     1.427933                0.302725   \n",
       "162    0.431870       1.496655     1.305654               -1.359270   \n",
       "\n",
       "     indiceNDVI  tipoRiego_Goteo  tipoRiego_Manual  tipoFertilizante_Mixto  \\\n",
       "0      1.132157         1.525297         -0.733305                1.420746   \n",
       "1      0.569187        -0.655610         -0.733305                1.420746   \n",
       "2     -0.556753        -0.655610          1.363690               -0.703856   \n",
       "3     -0.275268         1.525297         -0.733305               -0.703856   \n",
       "4     -1.007130        -0.655610         -0.733305                1.420746   \n",
       "..          ...              ...               ...                     ...   \n",
       "158   -1.626397        -0.655610          1.363690                1.420746   \n",
       "159   -1.682694         1.525297         -0.733305               -0.703856   \n",
       "160   -0.725645        -0.655610         -0.733305               -0.703856   \n",
       "161    1.582534        -0.655610         -0.733305               -0.703856   \n",
       "162    0.963266         1.525297         -0.733305               -0.703856   \n",
       "\n",
       "     tipoFertilizante_Organico  estadoEnfermedadesCultivo_Moderate  \\\n",
       "0                    -0.694131                           -0.694131   \n",
       "1                    -0.694131                           -0.694131   \n",
       "2                    -0.694131                           -0.694131   \n",
       "3                     1.440650                            1.440650   \n",
       "4                    -0.694131                            1.440650   \n",
       "..                         ...                                 ...   \n",
       "158                  -0.694131                           -0.694131   \n",
       "159                  -0.694131                           -0.694131   \n",
       "160                   1.440650                            1.440650   \n",
       "161                  -0.694131                           -0.694131   \n",
       "162                   1.440650                           -0.694131   \n",
       "\n",
       "     estadoEnfermedadesCultivo_Severo  mas_120_dias  \n",
       "0                           -0.684448      1.069924  \n",
       "1                           -0.684448      1.069924  \n",
       "2                           -0.684448     -0.934646  \n",
       "3                           -0.684448      1.069924  \n",
       "4                           -0.684448     -0.934646  \n",
       "..                                ...           ...  \n",
       "158                         -0.684448      1.069924  \n",
       "159                         -0.684448     -0.934646  \n",
       "160                         -0.684448      1.069924  \n",
       "161                         -0.684448     -0.934646  \n",
       "162                          1.461032      1.069924  \n",
       "\n",
       "[163 rows x 16 columns]"
      ]
     },
     "execution_count": 183,
     "metadata": {},
     "output_type": "execute_result"
    }
   ],
   "source": [
    "df_std"
   ]
  },
  {
   "cell_type": "code",
   "execution_count": 184,
   "id": "bccc8207",
   "metadata": {},
   "outputs": [
    {
     "data": {
      "text/plain": [
       "0      Trigo\n",
       "1       Maiz\n",
       "2       Soja\n",
       "3      Trigo\n",
       "4       Soja\n",
       "       ...  \n",
       "158     Maiz\n",
       "159     Maiz\n",
       "160    Trigo\n",
       "161     Maiz\n",
       "162     Soja\n",
       "Name: tipoCultivo, Length: 163, dtype: object"
      ]
     },
     "execution_count": 184,
     "metadata": {},
     "output_type": "execute_result"
    }
   ],
   "source": [
    "y"
   ]
  },
  {
   "cell_type": "code",
   "execution_count": 185,
   "id": "7a88d8a1",
   "metadata": {},
   "outputs": [
    {
     "data": {
      "application/vnd.plotly.v1+json": {
       "config": {
        "plotlyServerURL": "https://plot.ly"
       },
       "data": [
        {
         "hovertemplate": "tipoCultivo=Trigo<br>0=%{x}<br>1=%{y}<br>2=%{z}<extra></extra>",
         "legendgroup": "Trigo",
         "marker": {
          "color": "#636efa",
          "size": 8,
          "symbol": "circle"
         },
         "mode": "markers",
         "name": "Trigo",
         "scene": "scene",
         "showlegend": true,
         "type": "scatter3d",
         "x": {
          "bdata": "V7sVQva9lcJ4wCJCreFjQuOpJkHNPzPCDOABwnCXUcG5XIBBls/6wTQXJ0LuOKxB9MeRQe6cY8LLLwPBm4kXwg5rfMIDRSBBjKgZQpS2OMKVSi7CPub1QeTFGUGCBH9CD6WjQjRK3UGdRVdCotUuQrwJT8BXWHnAnyEHQto+kcEC+KzBcdkSwhrogkKFcNHASk8Gwuuff8IJkp/AzAYlQk4ygsB1PYVCqT1eQuAPJEJsfXdCWZoAwnkK1kGCFLvC",
          "dtype": "f4"
         },
         "y": {
          "bdata": "vR2JQvEeg0Fa5PpA/6FQwCoFEEBTUEjC8tBCwlty2UHBhiNCmfNDwuBwcUH8IgJC3aUpQY0nhcCfAJhCx0yBQge3L0KeyfvB15c9QkDzLEJ4cSNCw9xDwkq7osF1hp3BXH+TQh610cEzD0RC5Nkdw3LZPEJjuq/Bdc41wmFTuMCs1SpCST3swcg6xsHo34vBjf+DQpcs/kH1PgjCkUAXQqUQMkEI1/LBWzNzQrrc2r6GwtzB4eCKwdrh+UFRqYPA",
          "dtype": "f4"
         },
         "z": {
          "bdata": "Bj8kQhFYTMBdJyhBfLM/Qq66zsGVctFBAuGvwXI9YEEHWyLB8MGKQqUfg8LP+RPCZVelQh3XbkEqwJVBbvHgwRvD3sEtiqjB3IjcQT3TOkJ9uNFAmzSPQvcEe0HKiYhAJhQFw0B3VsJ61Ms/mzpLQQx+acE5f2LBlZQ7wa1k/MGJXyZBelpMwY2QK8Hg3iJCQIJxwSa0FMJY6JHCeoQPQgTGfMJNShJBWzrvwe51rUHYL71B6JrEwSb9tMFbUpDB",
          "dtype": "f4"
         }
        },
        {
         "hovertemplate": "tipoCultivo=Maiz<br>0=%{x}<br>1=%{y}<br>2=%{z}<extra></extra>",
         "legendgroup": "Maiz",
         "marker": {
          "color": "#EF553B",
          "size": 8,
          "symbol": "circle"
         },
         "mode": "markers",
         "name": "Maiz",
         "scene": "scene",
         "showlegend": true,
         "type": "scatter3d",
         "x": {
          "bdata": "gT6cQYc6YULpxHdC0uT5wXfHP8JnBbPCZUS1QumF+kG3roLChnp5wqY2a0JnNKzCthKeQXx65sHC4rhBB15nwaGfqsH4Nw3Ccfcfwlq+w8Fs4ipCCr4dwsq1gUJbaRRC1QIRwltSYsKGbd/BtDV3wel9yEBO1JnBXKGkQiFe70GrmGNCtjh4wlj5okCK0NzAhOpjQk/fQcKy6EXC7iOcQKoHgT+WpV9BKEImQAFqe8LlkiDCoszxQXmkhMGOmZ9CZtfMQV8ttEIIhj7Cp59ZwhS9G0I8nMnB",
          "dtype": "f4"
         },
         "y": {
          "bdata": "UGQiQqF3ZUIpoWLCzjVDwqANF8JBFUM80TCuwQICgcKjoGLBXbAlQrbBgkGg8uFAU/Ojwbn3GcKLA37BHh9Ewt3jEkLlHhvBtXRAwbpd9UGmYgvC51JHwh+ag8EVSIhC5j9SP9pk2kGMHoPCyytjwhTD58CctdhAG4nDwZtMOMEX9ufAvPtawqgImkLhqYlCKgbgwfUKpcGD675Bodj+waehp0E9An3CEhw2whFOkEKtRIHCvQfpwYb60kEL5olBgQchwj6SVsFarjbBHKQiQvW3uEGtNtRA",
          "dtype": "f4"
         },
         "z": {
          "bdata": "hrSOQnEITMEQjnPBWo1Gws3dHkJ+IenBEsdOwuBSir8RjgZB49cNw4XbHUF8g+VBvBybQvXmAEFOmXPCsIfVQVsKuMEQkAvC9fndQSK3rEJWYOpBKbMRwm2MBsKdXsRBkztBwgHMCkJH5GBCk+GAwRKZSMHiylTC9IivQOKavT8JCYdC9TIwQhjyR0Lo4RJCxQ2BQuFEgMIfy/7BiQg1QW0aQUGgAv5Bj7CKwp1WcD+ULGpBYW0aQo/s58HW2dhBXTJwwky0eUITeqVCgrBxQpG2lcFQfT/B",
          "dtype": "f4"
         }
        },
        {
         "hovertemplate": "tipoCultivo=Soja<br>0=%{x}<br>1=%{y}<br>2=%{z}<extra></extra>",
         "legendgroup": "Soja",
         "marker": {
          "color": "#00cc96",
          "size": 8,
          "symbol": "circle"
         },
         "mode": "markers",
         "name": "Soja",
         "scene": "scene",
         "showlegend": true,
         "type": "scatter3d",
         "x": {
          "bdata": "xjWZwjjbi0G12TvCa9icQaFEEsL4FDlCEaY/wsArVcAQkLtCE2Z/QK3BUkIAZnPB6RcCQrxdu8IhSA7C4rybQWmh6sH2DGBCqH2jwIWZBEKqWm7BkK8+wo9ubEDM8IdC92wUwukPjsIfVf6/JsMZwbidF0HvnDBChz1RQl5iXEJJ7qRB0g/wQKUzBkKjnKlCjMMGQJnEGEKTSY3C+JheQac5WUGPWYxBdoUJQlN+WEKdjpzBlW6sQlRP9sEnS43CJqg9wriCpcEZFY5C2tqrQHn0fMLLapxBxFksQsr4GsIGw59By4UHwmTgYcEbTR3CV6ZxQg==",
          "dtype": "f4"
         },
         "y": {
          "bdata": "77iowQGUXcImjSfCQR9RwM15aEL3EYXCWY8PQvizOkITz4xBwlV7QoL7FELlT2pAObkPwVF2DkFiWhpC49CBwosOOUE2rDxBPHqSQg9QXcLu9FhCvp5DQagaBkE2HY1BDxOhQU85IMJ8brk/v3EyQXPWj8JuoAbCMWQuQpi7P0LAqc7Bd5UnQo8+YMHeeVfCxncowt0v40AUSN3B30OawLXXg8LFGZJCXKCdweOoGELtc05C2/m3wa2vBULCFLnBDmFxwgi+tkDoqdnANhqWQbp3D0GjuIBBVGIWwfdiAUEp3zjBrAWrwT0VcUC5CwHCdJO/QA==",
          "dtype": "f4"
         },
         "z": {
          "bdata": "KQoAQlN/I0L59brB4xRdwvvAR0KP+gxChXHMwTGrZ0LcOFrB/IAgwoERs8G+mppCX1N3QmV+u8AnBvFBdYEGwoY3UUIT90rC2SvgQG/vAMLc6U1CUwNuwgC2IkDHyY5BH40+QVBAwsBgMjhCYqg9QvrfA8IHkGfBWTIqQnsuAMLaIWNCotp8QlxyC8IY/eTB2pd5QkTJNMF6fds/SYOoQtrm7UBnmIy/w9HawA0SisIphmTCYIEdQvy+UEE9jyrC4/43wqHm28Fbj+3BGoqCwgroL0K/SAtCNIWfwvQPcz/TZ5PCMWsEQvJFkMLTBJpCXb+Fwg==",
          "dtype": "f4"
         }
        }
       ],
       "layout": {
        "legend": {
         "title": {
          "text": "tipoCultivo"
         },
         "tracegroupgap": 0
        },
        "margin": {
         "t": 60
        },
        "scene": {
         "domain": {
          "x": [
           0,
           1
          ],
          "y": [
           0,
           1
          ]
         },
         "xaxis": {
          "title": {
           "text": "0"
          }
         },
         "yaxis": {
          "title": {
           "text": "1"
          }
         },
         "zaxis": {
          "title": {
           "text": "2"
          }
         }
        },
        "template": {
         "data": {
          "bar": [
           {
            "error_x": {
             "color": "#2a3f5f"
            },
            "error_y": {
             "color": "#2a3f5f"
            },
            "marker": {
             "line": {
              "color": "#E5ECF6",
              "width": 0.5
             },
             "pattern": {
              "fillmode": "overlay",
              "size": 10,
              "solidity": 0.2
             }
            },
            "type": "bar"
           }
          ],
          "barpolar": [
           {
            "marker": {
             "line": {
              "color": "#E5ECF6",
              "width": 0.5
             },
             "pattern": {
              "fillmode": "overlay",
              "size": 10,
              "solidity": 0.2
             }
            },
            "type": "barpolar"
           }
          ],
          "carpet": [
           {
            "aaxis": {
             "endlinecolor": "#2a3f5f",
             "gridcolor": "white",
             "linecolor": "white",
             "minorgridcolor": "white",
             "startlinecolor": "#2a3f5f"
            },
            "baxis": {
             "endlinecolor": "#2a3f5f",
             "gridcolor": "white",
             "linecolor": "white",
             "minorgridcolor": "white",
             "startlinecolor": "#2a3f5f"
            },
            "type": "carpet"
           }
          ],
          "choropleth": [
           {
            "colorbar": {
             "outlinewidth": 0,
             "ticks": ""
            },
            "type": "choropleth"
           }
          ],
          "contour": [
           {
            "colorbar": {
             "outlinewidth": 0,
             "ticks": ""
            },
            "colorscale": [
             [
              0,
              "#0d0887"
             ],
             [
              0.1111111111111111,
              "#46039f"
             ],
             [
              0.2222222222222222,
              "#7201a8"
             ],
             [
              0.3333333333333333,
              "#9c179e"
             ],
             [
              0.4444444444444444,
              "#bd3786"
             ],
             [
              0.5555555555555556,
              "#d8576b"
             ],
             [
              0.6666666666666666,
              "#ed7953"
             ],
             [
              0.7777777777777778,
              "#fb9f3a"
             ],
             [
              0.8888888888888888,
              "#fdca26"
             ],
             [
              1,
              "#f0f921"
             ]
            ],
            "type": "contour"
           }
          ],
          "contourcarpet": [
           {
            "colorbar": {
             "outlinewidth": 0,
             "ticks": ""
            },
            "type": "contourcarpet"
           }
          ],
          "heatmap": [
           {
            "colorbar": {
             "outlinewidth": 0,
             "ticks": ""
            },
            "colorscale": [
             [
              0,
              "#0d0887"
             ],
             [
              0.1111111111111111,
              "#46039f"
             ],
             [
              0.2222222222222222,
              "#7201a8"
             ],
             [
              0.3333333333333333,
              "#9c179e"
             ],
             [
              0.4444444444444444,
              "#bd3786"
             ],
             [
              0.5555555555555556,
              "#d8576b"
             ],
             [
              0.6666666666666666,
              "#ed7953"
             ],
             [
              0.7777777777777778,
              "#fb9f3a"
             ],
             [
              0.8888888888888888,
              "#fdca26"
             ],
             [
              1,
              "#f0f921"
             ]
            ],
            "type": "heatmap"
           }
          ],
          "histogram": [
           {
            "marker": {
             "pattern": {
              "fillmode": "overlay",
              "size": 10,
              "solidity": 0.2
             }
            },
            "type": "histogram"
           }
          ],
          "histogram2d": [
           {
            "colorbar": {
             "outlinewidth": 0,
             "ticks": ""
            },
            "colorscale": [
             [
              0,
              "#0d0887"
             ],
             [
              0.1111111111111111,
              "#46039f"
             ],
             [
              0.2222222222222222,
              "#7201a8"
             ],
             [
              0.3333333333333333,
              "#9c179e"
             ],
             [
              0.4444444444444444,
              "#bd3786"
             ],
             [
              0.5555555555555556,
              "#d8576b"
             ],
             [
              0.6666666666666666,
              "#ed7953"
             ],
             [
              0.7777777777777778,
              "#fb9f3a"
             ],
             [
              0.8888888888888888,
              "#fdca26"
             ],
             [
              1,
              "#f0f921"
             ]
            ],
            "type": "histogram2d"
           }
          ],
          "histogram2dcontour": [
           {
            "colorbar": {
             "outlinewidth": 0,
             "ticks": ""
            },
            "colorscale": [
             [
              0,
              "#0d0887"
             ],
             [
              0.1111111111111111,
              "#46039f"
             ],
             [
              0.2222222222222222,
              "#7201a8"
             ],
             [
              0.3333333333333333,
              "#9c179e"
             ],
             [
              0.4444444444444444,
              "#bd3786"
             ],
             [
              0.5555555555555556,
              "#d8576b"
             ],
             [
              0.6666666666666666,
              "#ed7953"
             ],
             [
              0.7777777777777778,
              "#fb9f3a"
             ],
             [
              0.8888888888888888,
              "#fdca26"
             ],
             [
              1,
              "#f0f921"
             ]
            ],
            "type": "histogram2dcontour"
           }
          ],
          "mesh3d": [
           {
            "colorbar": {
             "outlinewidth": 0,
             "ticks": ""
            },
            "type": "mesh3d"
           }
          ],
          "parcoords": [
           {
            "line": {
             "colorbar": {
              "outlinewidth": 0,
              "ticks": ""
             }
            },
            "type": "parcoords"
           }
          ],
          "pie": [
           {
            "automargin": true,
            "type": "pie"
           }
          ],
          "scatter": [
           {
            "fillpattern": {
             "fillmode": "overlay",
             "size": 10,
             "solidity": 0.2
            },
            "type": "scatter"
           }
          ],
          "scatter3d": [
           {
            "line": {
             "colorbar": {
              "outlinewidth": 0,
              "ticks": ""
             }
            },
            "marker": {
             "colorbar": {
              "outlinewidth": 0,
              "ticks": ""
             }
            },
            "type": "scatter3d"
           }
          ],
          "scattercarpet": [
           {
            "marker": {
             "colorbar": {
              "outlinewidth": 0,
              "ticks": ""
             }
            },
            "type": "scattercarpet"
           }
          ],
          "scattergeo": [
           {
            "marker": {
             "colorbar": {
              "outlinewidth": 0,
              "ticks": ""
             }
            },
            "type": "scattergeo"
           }
          ],
          "scattergl": [
           {
            "marker": {
             "colorbar": {
              "outlinewidth": 0,
              "ticks": ""
             }
            },
            "type": "scattergl"
           }
          ],
          "scattermap": [
           {
            "marker": {
             "colorbar": {
              "outlinewidth": 0,
              "ticks": ""
             }
            },
            "type": "scattermap"
           }
          ],
          "scattermapbox": [
           {
            "marker": {
             "colorbar": {
              "outlinewidth": 0,
              "ticks": ""
             }
            },
            "type": "scattermapbox"
           }
          ],
          "scatterpolar": [
           {
            "marker": {
             "colorbar": {
              "outlinewidth": 0,
              "ticks": ""
             }
            },
            "type": "scatterpolar"
           }
          ],
          "scatterpolargl": [
           {
            "marker": {
             "colorbar": {
              "outlinewidth": 0,
              "ticks": ""
             }
            },
            "type": "scatterpolargl"
           }
          ],
          "scatterternary": [
           {
            "marker": {
             "colorbar": {
              "outlinewidth": 0,
              "ticks": ""
             }
            },
            "type": "scatterternary"
           }
          ],
          "surface": [
           {
            "colorbar": {
             "outlinewidth": 0,
             "ticks": ""
            },
            "colorscale": [
             [
              0,
              "#0d0887"
             ],
             [
              0.1111111111111111,
              "#46039f"
             ],
             [
              0.2222222222222222,
              "#7201a8"
             ],
             [
              0.3333333333333333,
              "#9c179e"
             ],
             [
              0.4444444444444444,
              "#bd3786"
             ],
             [
              0.5555555555555556,
              "#d8576b"
             ],
             [
              0.6666666666666666,
              "#ed7953"
             ],
             [
              0.7777777777777778,
              "#fb9f3a"
             ],
             [
              0.8888888888888888,
              "#fdca26"
             ],
             [
              1,
              "#f0f921"
             ]
            ],
            "type": "surface"
           }
          ],
          "table": [
           {
            "cells": {
             "fill": {
              "color": "#EBF0F8"
             },
             "line": {
              "color": "white"
             }
            },
            "header": {
             "fill": {
              "color": "#C8D4E3"
             },
             "line": {
              "color": "white"
             }
            },
            "type": "table"
           }
          ]
         },
         "layout": {
          "annotationdefaults": {
           "arrowcolor": "#2a3f5f",
           "arrowhead": 0,
           "arrowwidth": 1
          },
          "autotypenumbers": "strict",
          "coloraxis": {
           "colorbar": {
            "outlinewidth": 0,
            "ticks": ""
           }
          },
          "colorscale": {
           "diverging": [
            [
             0,
             "#8e0152"
            ],
            [
             0.1,
             "#c51b7d"
            ],
            [
             0.2,
             "#de77ae"
            ],
            [
             0.3,
             "#f1b6da"
            ],
            [
             0.4,
             "#fde0ef"
            ],
            [
             0.5,
             "#f7f7f7"
            ],
            [
             0.6,
             "#e6f5d0"
            ],
            [
             0.7,
             "#b8e186"
            ],
            [
             0.8,
             "#7fbc41"
            ],
            [
             0.9,
             "#4d9221"
            ],
            [
             1,
             "#276419"
            ]
           ],
           "sequential": [
            [
             0,
             "#0d0887"
            ],
            [
             0.1111111111111111,
             "#46039f"
            ],
            [
             0.2222222222222222,
             "#7201a8"
            ],
            [
             0.3333333333333333,
             "#9c179e"
            ],
            [
             0.4444444444444444,
             "#bd3786"
            ],
            [
             0.5555555555555556,
             "#d8576b"
            ],
            [
             0.6666666666666666,
             "#ed7953"
            ],
            [
             0.7777777777777778,
             "#fb9f3a"
            ],
            [
             0.8888888888888888,
             "#fdca26"
            ],
            [
             1,
             "#f0f921"
            ]
           ],
           "sequentialminus": [
            [
             0,
             "#0d0887"
            ],
            [
             0.1111111111111111,
             "#46039f"
            ],
            [
             0.2222222222222222,
             "#7201a8"
            ],
            [
             0.3333333333333333,
             "#9c179e"
            ],
            [
             0.4444444444444444,
             "#bd3786"
            ],
            [
             0.5555555555555556,
             "#d8576b"
            ],
            [
             0.6666666666666666,
             "#ed7953"
            ],
            [
             0.7777777777777778,
             "#fb9f3a"
            ],
            [
             0.8888888888888888,
             "#fdca26"
            ],
            [
             1,
             "#f0f921"
            ]
           ]
          },
          "colorway": [
           "#636efa",
           "#EF553B",
           "#00cc96",
           "#ab63fa",
           "#FFA15A",
           "#19d3f3",
           "#FF6692",
           "#B6E880",
           "#FF97FF",
           "#FECB52"
          ],
          "font": {
           "color": "#2a3f5f"
          },
          "geo": {
           "bgcolor": "white",
           "lakecolor": "white",
           "landcolor": "#E5ECF6",
           "showlakes": true,
           "showland": true,
           "subunitcolor": "white"
          },
          "hoverlabel": {
           "align": "left"
          },
          "hovermode": "closest",
          "mapbox": {
           "style": "light"
          },
          "paper_bgcolor": "white",
          "plot_bgcolor": "#E5ECF6",
          "polar": {
           "angularaxis": {
            "gridcolor": "white",
            "linecolor": "white",
            "ticks": ""
           },
           "bgcolor": "#E5ECF6",
           "radialaxis": {
            "gridcolor": "white",
            "linecolor": "white",
            "ticks": ""
           }
          },
          "scene": {
           "xaxis": {
            "backgroundcolor": "#E5ECF6",
            "gridcolor": "white",
            "gridwidth": 2,
            "linecolor": "white",
            "showbackground": true,
            "ticks": "",
            "zerolinecolor": "white"
           },
           "yaxis": {
            "backgroundcolor": "#E5ECF6",
            "gridcolor": "white",
            "gridwidth": 2,
            "linecolor": "white",
            "showbackground": true,
            "ticks": "",
            "zerolinecolor": "white"
           },
           "zaxis": {
            "backgroundcolor": "#E5ECF6",
            "gridcolor": "white",
            "gridwidth": 2,
            "linecolor": "white",
            "showbackground": true,
            "ticks": "",
            "zerolinecolor": "white"
           }
          },
          "shapedefaults": {
           "line": {
            "color": "#2a3f5f"
           }
          },
          "ternary": {
           "aaxis": {
            "gridcolor": "white",
            "linecolor": "white",
            "ticks": ""
           },
           "baxis": {
            "gridcolor": "white",
            "linecolor": "white",
            "ticks": ""
           },
           "bgcolor": "#E5ECF6",
           "caxis": {
            "gridcolor": "white",
            "linecolor": "white",
            "ticks": ""
           }
          },
          "title": {
           "x": 0.05
          },
          "xaxis": {
           "automargin": true,
           "gridcolor": "white",
           "linecolor": "white",
           "ticks": "",
           "title": {
            "standoff": 15
           },
           "zerolinecolor": "white",
           "zerolinewidth": 2
          },
          "yaxis": {
           "automargin": true,
           "gridcolor": "white",
           "linecolor": "white",
           "ticks": "",
           "title": {
            "standoff": 15
           },
           "zerolinecolor": "white",
           "zerolinewidth": 2
          }
         }
        }
       }
      }
     },
     "metadata": {},
     "output_type": "display_data"
    }
   ],
   "source": [
    "tsne = TSNE(n_components=3, random_state=0, perplexity=5)\n",
    "projections_tsne = tsne.fit_transform(df_std, )\n",
    "\n",
    "fig = px.scatter_3d(\n",
    "    projections_tsne, x=0, y=1, z=2,\n",
    "    color=y, labels={'color': 'tipoCultivo'}\n",
    ")\n",
    "fig.update_traces(marker_size=8)\n",
    "fig.show()"
   ]
  },
  {
   "cell_type": "code",
   "execution_count": null,
   "id": "edbed507",
   "metadata": {},
   "outputs": [],
   "source": []
  },
  {
   "cell_type": "markdown",
   "id": "2f67617e",
   "metadata": {},
   "source": [
    "# Umap"
   ]
  },
  {
   "cell_type": "code",
   "execution_count": 200,
   "id": "7bc0de45",
   "metadata": {},
   "outputs": [
    {
     "name": "stderr",
     "output_type": "stream",
     "text": [
      "c:\\Users\\Nico\\AppData\\Local\\Programs\\Python\\Python312\\Lib\\site-packages\\umap\\umap_.py:1952: UserWarning:\n",
      "\n",
      "n_jobs value 1 overridden to 1 by setting random_state. Use no seed for parallelism.\n",
      "\n"
     ]
    },
    {
     "data": {
      "application/vnd.plotly.v1+json": {
       "config": {
        "plotlyServerURL": "https://plot.ly"
       },
       "data": [
        {
         "hovertemplate": "tipoCultivo=Trigo<br>0=%{x}<br>1=%{y}<extra></extra>",
         "legendgroup": "Trigo",
         "marker": {
          "color": "#636efa",
          "symbol": "circle"
         },
         "mode": "markers",
         "name": "Trigo",
         "orientation": "v",
         "showlegend": true,
         "type": "scatter",
         "x": {
          "bdata": "VHj3PxWrmkBlQIhAAgzKQPFIiUDolqFA9B+0QAwif0DR9AxAASLFQJATJUCgtDFA9n49QO/EckAZNvQ/rIREQAUeNUBN9JZAVLIfQILNO0AwaVtA8ZkYQHPpFUCGBalAfPnDQJwJc0CoTAhAQIn+P5m06z8zPpVAv5GXQCuQg0CVGXNAkOCkQHLHoUAtsj5APbBiQESJOEA/HpZAJncNQIileED0BaxAeSI9QPYvkUBHf7BAAoyTQGqkEkA086tA",
          "dtype": "f4"
         },
         "xaxis": "x",
         "y": {
          "bdata": "8zlvQAXtPUCDb0dATTl6QDj8kkCQGttAoDeyQLTIzEAJcatALcfGQP9Ul0CXTolAGyqNQGAN6kDPXs5A0qPRQGHUwUCK3IZAO5s+QGkX4EAzbstAL1biQOckzEAzm21AAsLOQEwuh0CNxmJAcHV1QGd1pUAHuItAdacxQPLrrEDUUdNAbg3BQB8nZUD4NI9AttnTQEJGv0CwLatAr4pHQB6UoUBVv3hA7v5uQGBqU0DlSYRAy+m0QIlLkEC2rE9A",
          "dtype": "f4"
         },
         "yaxis": "y"
        },
        {
         "hovertemplate": "tipoCultivo=Maiz<br>0=%{x}<br>1=%{y}<extra></extra>",
         "legendgroup": "Maiz",
         "marker": {
          "color": "#EF553B",
          "symbol": "circle"
         },
         "mode": "markers",
         "name": "Maiz",
         "orientation": "v",
         "showlegend": true,
         "type": "scatter",
         "x": {
          "bdata": "azU4QP0pGkBW3RxA7ZukQPSVpEAat6NAK4SgQFbRoUBd4rBAvPbOQKlKsEDnM6RACrOMQO39kUBJeU1AN4WSQCj6WUDL6YtA5Z2CQJMvhEDgK69A9Ly9QIZJh0BKuxxAwsl4QLu6MUBhY75AUgaSQHcLi0C5U3RAFE2pQE01gEDVtc5AYOnYP5O2A0AIuQ9Az5XFQNIzhUAtPT5AlFspQAraPEBjMcpA96iaQOToCkD5lp1Ayp2TQNBnd0CYM7dAYb+HQK5tj0AJ+sFA3KRGQLjZFUDSUoBA",
          "dtype": "f4"
         },
         "xaxis": "x",
         "y": {
          "bdata": "uanyQNw1bkAYi5xAcJimQMJX20DHh01AoAtMQM+vKECvn8FA+UyQQLs4ekCov9VAmiLdQGcg0EDGcJhAj/DDQNp3tUCr77lAH2TDQKSc5ECZsp5Avim7QFCNZkCgDkRA17W+QM0T5UBSgcpALRqfQBtdj0BB86dAOddvQChoSkB+J4RAZPCPQPU020AISeBArK1wQJAA3EAtW7pAxnzKQP9nRkC+qJZA2KOgQAb/pED6B91Ae2G3QPMKsEDcvI1Az6eJQHmLmUCxDtRAtYLjQMEzgUDzYPNA",
          "dtype": "f4"
         },
         "yaxis": "y"
        },
        {
         "hovertemplate": "tipoCultivo=Soja<br>0=%{x}<br>1=%{y}<extra></extra>",
         "legendgroup": "Soja",
         "marker": {
          "color": "#00cc96",
          "symbol": "circle"
         },
         "mode": "markers",
         "name": "Soja",
         "orientation": "v",
         "showlegend": true,
         "type": "scatter",
         "x": {
          "bdata": "wtp1QIMLyUBwAbpArWJCQCVAP0CylltAcSE7QDxUKEAVLGBAyUG4QGoZEEBHSfs/A6rHQE+qpEBfZ1BAWhifQFD5zEC6wxNAsLLxPxP1lkBhcCFAJkFvQPF0UEAniKZAP0NsQHL2yED1ckhAlO9WQOyVmEDGtppAtcMYQKnNKUCUNNJAGxU5QCAOcUC8Dc9AYjnOQLyjdkDQG8FAzaSLQNJAwkBhsOU/fpCJQMv49j/sAg5AJlyOQHtsX0DDza1A5GqlQD60hUCXo4NASON7QKEAnkCfbKlAFWYtQK+8ekDpU1pAdA+gQKuPb0A49r5AugwWQA==",
          "dtype": "f4"
         },
         "xaxis": "x",
         "y": {
          "bdata": "PrbzQGQvhEBjR75AsuufQELE3UDLINlA803NQMza60Byb/BAdyfBQPM3b0BuPtRAaXCKQBdkRECAp9xAF492QCvgmEBFf6FA0oy9QK+kZUCnj+BAN+W7QIB4TUDNfJBAqKTpQJrFpUBQu4hAB/mEQAwTaEDgbjxAmXlNQCijakCFapFAsRPvQDNDikBhH39A/UOQQNWcQ0DkMqBA/H/aQAo9skBSD5NAKpk6QKJDhUAhwdBAdKeTQAkv1kAIJ65AFqCaQF1jrkCrvHZAm/KXQGlu4kDYRrBAP/uhQNy48UACYp1A44fLQEinoUCH+MtA5OueQA==",
          "dtype": "f4"
         },
         "yaxis": "y"
        }
       ],
       "layout": {
        "legend": {
         "title": {
          "text": "tipoCultivo"
         },
         "tracegroupgap": 0
        },
        "margin": {
         "t": 60
        },
        "template": {
         "data": {
          "bar": [
           {
            "error_x": {
             "color": "#2a3f5f"
            },
            "error_y": {
             "color": "#2a3f5f"
            },
            "marker": {
             "line": {
              "color": "#E5ECF6",
              "width": 0.5
             },
             "pattern": {
              "fillmode": "overlay",
              "size": 10,
              "solidity": 0.2
             }
            },
            "type": "bar"
           }
          ],
          "barpolar": [
           {
            "marker": {
             "line": {
              "color": "#E5ECF6",
              "width": 0.5
             },
             "pattern": {
              "fillmode": "overlay",
              "size": 10,
              "solidity": 0.2
             }
            },
            "type": "barpolar"
           }
          ],
          "carpet": [
           {
            "aaxis": {
             "endlinecolor": "#2a3f5f",
             "gridcolor": "white",
             "linecolor": "white",
             "minorgridcolor": "white",
             "startlinecolor": "#2a3f5f"
            },
            "baxis": {
             "endlinecolor": "#2a3f5f",
             "gridcolor": "white",
             "linecolor": "white",
             "minorgridcolor": "white",
             "startlinecolor": "#2a3f5f"
            },
            "type": "carpet"
           }
          ],
          "choropleth": [
           {
            "colorbar": {
             "outlinewidth": 0,
             "ticks": ""
            },
            "type": "choropleth"
           }
          ],
          "contour": [
           {
            "colorbar": {
             "outlinewidth": 0,
             "ticks": ""
            },
            "colorscale": [
             [
              0,
              "#0d0887"
             ],
             [
              0.1111111111111111,
              "#46039f"
             ],
             [
              0.2222222222222222,
              "#7201a8"
             ],
             [
              0.3333333333333333,
              "#9c179e"
             ],
             [
              0.4444444444444444,
              "#bd3786"
             ],
             [
              0.5555555555555556,
              "#d8576b"
             ],
             [
              0.6666666666666666,
              "#ed7953"
             ],
             [
              0.7777777777777778,
              "#fb9f3a"
             ],
             [
              0.8888888888888888,
              "#fdca26"
             ],
             [
              1,
              "#f0f921"
             ]
            ],
            "type": "contour"
           }
          ],
          "contourcarpet": [
           {
            "colorbar": {
             "outlinewidth": 0,
             "ticks": ""
            },
            "type": "contourcarpet"
           }
          ],
          "heatmap": [
           {
            "colorbar": {
             "outlinewidth": 0,
             "ticks": ""
            },
            "colorscale": [
             [
              0,
              "#0d0887"
             ],
             [
              0.1111111111111111,
              "#46039f"
             ],
             [
              0.2222222222222222,
              "#7201a8"
             ],
             [
              0.3333333333333333,
              "#9c179e"
             ],
             [
              0.4444444444444444,
              "#bd3786"
             ],
             [
              0.5555555555555556,
              "#d8576b"
             ],
             [
              0.6666666666666666,
              "#ed7953"
             ],
             [
              0.7777777777777778,
              "#fb9f3a"
             ],
             [
              0.8888888888888888,
              "#fdca26"
             ],
             [
              1,
              "#f0f921"
             ]
            ],
            "type": "heatmap"
           }
          ],
          "histogram": [
           {
            "marker": {
             "pattern": {
              "fillmode": "overlay",
              "size": 10,
              "solidity": 0.2
             }
            },
            "type": "histogram"
           }
          ],
          "histogram2d": [
           {
            "colorbar": {
             "outlinewidth": 0,
             "ticks": ""
            },
            "colorscale": [
             [
              0,
              "#0d0887"
             ],
             [
              0.1111111111111111,
              "#46039f"
             ],
             [
              0.2222222222222222,
              "#7201a8"
             ],
             [
              0.3333333333333333,
              "#9c179e"
             ],
             [
              0.4444444444444444,
              "#bd3786"
             ],
             [
              0.5555555555555556,
              "#d8576b"
             ],
             [
              0.6666666666666666,
              "#ed7953"
             ],
             [
              0.7777777777777778,
              "#fb9f3a"
             ],
             [
              0.8888888888888888,
              "#fdca26"
             ],
             [
              1,
              "#f0f921"
             ]
            ],
            "type": "histogram2d"
           }
          ],
          "histogram2dcontour": [
           {
            "colorbar": {
             "outlinewidth": 0,
             "ticks": ""
            },
            "colorscale": [
             [
              0,
              "#0d0887"
             ],
             [
              0.1111111111111111,
              "#46039f"
             ],
             [
              0.2222222222222222,
              "#7201a8"
             ],
             [
              0.3333333333333333,
              "#9c179e"
             ],
             [
              0.4444444444444444,
              "#bd3786"
             ],
             [
              0.5555555555555556,
              "#d8576b"
             ],
             [
              0.6666666666666666,
              "#ed7953"
             ],
             [
              0.7777777777777778,
              "#fb9f3a"
             ],
             [
              0.8888888888888888,
              "#fdca26"
             ],
             [
              1,
              "#f0f921"
             ]
            ],
            "type": "histogram2dcontour"
           }
          ],
          "mesh3d": [
           {
            "colorbar": {
             "outlinewidth": 0,
             "ticks": ""
            },
            "type": "mesh3d"
           }
          ],
          "parcoords": [
           {
            "line": {
             "colorbar": {
              "outlinewidth": 0,
              "ticks": ""
             }
            },
            "type": "parcoords"
           }
          ],
          "pie": [
           {
            "automargin": true,
            "type": "pie"
           }
          ],
          "scatter": [
           {
            "fillpattern": {
             "fillmode": "overlay",
             "size": 10,
             "solidity": 0.2
            },
            "type": "scatter"
           }
          ],
          "scatter3d": [
           {
            "line": {
             "colorbar": {
              "outlinewidth": 0,
              "ticks": ""
             }
            },
            "marker": {
             "colorbar": {
              "outlinewidth": 0,
              "ticks": ""
             }
            },
            "type": "scatter3d"
           }
          ],
          "scattercarpet": [
           {
            "marker": {
             "colorbar": {
              "outlinewidth": 0,
              "ticks": ""
             }
            },
            "type": "scattercarpet"
           }
          ],
          "scattergeo": [
           {
            "marker": {
             "colorbar": {
              "outlinewidth": 0,
              "ticks": ""
             }
            },
            "type": "scattergeo"
           }
          ],
          "scattergl": [
           {
            "marker": {
             "colorbar": {
              "outlinewidth": 0,
              "ticks": ""
             }
            },
            "type": "scattergl"
           }
          ],
          "scattermap": [
           {
            "marker": {
             "colorbar": {
              "outlinewidth": 0,
              "ticks": ""
             }
            },
            "type": "scattermap"
           }
          ],
          "scattermapbox": [
           {
            "marker": {
             "colorbar": {
              "outlinewidth": 0,
              "ticks": ""
             }
            },
            "type": "scattermapbox"
           }
          ],
          "scatterpolar": [
           {
            "marker": {
             "colorbar": {
              "outlinewidth": 0,
              "ticks": ""
             }
            },
            "type": "scatterpolar"
           }
          ],
          "scatterpolargl": [
           {
            "marker": {
             "colorbar": {
              "outlinewidth": 0,
              "ticks": ""
             }
            },
            "type": "scatterpolargl"
           }
          ],
          "scatterternary": [
           {
            "marker": {
             "colorbar": {
              "outlinewidth": 0,
              "ticks": ""
             }
            },
            "type": "scatterternary"
           }
          ],
          "surface": [
           {
            "colorbar": {
             "outlinewidth": 0,
             "ticks": ""
            },
            "colorscale": [
             [
              0,
              "#0d0887"
             ],
             [
              0.1111111111111111,
              "#46039f"
             ],
             [
              0.2222222222222222,
              "#7201a8"
             ],
             [
              0.3333333333333333,
              "#9c179e"
             ],
             [
              0.4444444444444444,
              "#bd3786"
             ],
             [
              0.5555555555555556,
              "#d8576b"
             ],
             [
              0.6666666666666666,
              "#ed7953"
             ],
             [
              0.7777777777777778,
              "#fb9f3a"
             ],
             [
              0.8888888888888888,
              "#fdca26"
             ],
             [
              1,
              "#f0f921"
             ]
            ],
            "type": "surface"
           }
          ],
          "table": [
           {
            "cells": {
             "fill": {
              "color": "#EBF0F8"
             },
             "line": {
              "color": "white"
             }
            },
            "header": {
             "fill": {
              "color": "#C8D4E3"
             },
             "line": {
              "color": "white"
             }
            },
            "type": "table"
           }
          ]
         },
         "layout": {
          "annotationdefaults": {
           "arrowcolor": "#2a3f5f",
           "arrowhead": 0,
           "arrowwidth": 1
          },
          "autotypenumbers": "strict",
          "coloraxis": {
           "colorbar": {
            "outlinewidth": 0,
            "ticks": ""
           }
          },
          "colorscale": {
           "diverging": [
            [
             0,
             "#8e0152"
            ],
            [
             0.1,
             "#c51b7d"
            ],
            [
             0.2,
             "#de77ae"
            ],
            [
             0.3,
             "#f1b6da"
            ],
            [
             0.4,
             "#fde0ef"
            ],
            [
             0.5,
             "#f7f7f7"
            ],
            [
             0.6,
             "#e6f5d0"
            ],
            [
             0.7,
             "#b8e186"
            ],
            [
             0.8,
             "#7fbc41"
            ],
            [
             0.9,
             "#4d9221"
            ],
            [
             1,
             "#276419"
            ]
           ],
           "sequential": [
            [
             0,
             "#0d0887"
            ],
            [
             0.1111111111111111,
             "#46039f"
            ],
            [
             0.2222222222222222,
             "#7201a8"
            ],
            [
             0.3333333333333333,
             "#9c179e"
            ],
            [
             0.4444444444444444,
             "#bd3786"
            ],
            [
             0.5555555555555556,
             "#d8576b"
            ],
            [
             0.6666666666666666,
             "#ed7953"
            ],
            [
             0.7777777777777778,
             "#fb9f3a"
            ],
            [
             0.8888888888888888,
             "#fdca26"
            ],
            [
             1,
             "#f0f921"
            ]
           ],
           "sequentialminus": [
            [
             0,
             "#0d0887"
            ],
            [
             0.1111111111111111,
             "#46039f"
            ],
            [
             0.2222222222222222,
             "#7201a8"
            ],
            [
             0.3333333333333333,
             "#9c179e"
            ],
            [
             0.4444444444444444,
             "#bd3786"
            ],
            [
             0.5555555555555556,
             "#d8576b"
            ],
            [
             0.6666666666666666,
             "#ed7953"
            ],
            [
             0.7777777777777778,
             "#fb9f3a"
            ],
            [
             0.8888888888888888,
             "#fdca26"
            ],
            [
             1,
             "#f0f921"
            ]
           ]
          },
          "colorway": [
           "#636efa",
           "#EF553B",
           "#00cc96",
           "#ab63fa",
           "#FFA15A",
           "#19d3f3",
           "#FF6692",
           "#B6E880",
           "#FF97FF",
           "#FECB52"
          ],
          "font": {
           "color": "#2a3f5f"
          },
          "geo": {
           "bgcolor": "white",
           "lakecolor": "white",
           "landcolor": "#E5ECF6",
           "showlakes": true,
           "showland": true,
           "subunitcolor": "white"
          },
          "hoverlabel": {
           "align": "left"
          },
          "hovermode": "closest",
          "mapbox": {
           "style": "light"
          },
          "paper_bgcolor": "white",
          "plot_bgcolor": "#E5ECF6",
          "polar": {
           "angularaxis": {
            "gridcolor": "white",
            "linecolor": "white",
            "ticks": ""
           },
           "bgcolor": "#E5ECF6",
           "radialaxis": {
            "gridcolor": "white",
            "linecolor": "white",
            "ticks": ""
           }
          },
          "scene": {
           "xaxis": {
            "backgroundcolor": "#E5ECF6",
            "gridcolor": "white",
            "gridwidth": 2,
            "linecolor": "white",
            "showbackground": true,
            "ticks": "",
            "zerolinecolor": "white"
           },
           "yaxis": {
            "backgroundcolor": "#E5ECF6",
            "gridcolor": "white",
            "gridwidth": 2,
            "linecolor": "white",
            "showbackground": true,
            "ticks": "",
            "zerolinecolor": "white"
           },
           "zaxis": {
            "backgroundcolor": "#E5ECF6",
            "gridcolor": "white",
            "gridwidth": 2,
            "linecolor": "white",
            "showbackground": true,
            "ticks": "",
            "zerolinecolor": "white"
           }
          },
          "shapedefaults": {
           "line": {
            "color": "#2a3f5f"
           }
          },
          "ternary": {
           "aaxis": {
            "gridcolor": "white",
            "linecolor": "white",
            "ticks": ""
           },
           "baxis": {
            "gridcolor": "white",
            "linecolor": "white",
            "ticks": ""
           },
           "bgcolor": "#E5ECF6",
           "caxis": {
            "gridcolor": "white",
            "linecolor": "white",
            "ticks": ""
           }
          },
          "title": {
           "x": 0.05
          },
          "xaxis": {
           "automargin": true,
           "gridcolor": "white",
           "linecolor": "white",
           "ticks": "",
           "title": {
            "standoff": 15
           },
           "zerolinecolor": "white",
           "zerolinewidth": 2
          },
          "yaxis": {
           "automargin": true,
           "gridcolor": "white",
           "linecolor": "white",
           "ticks": "",
           "title": {
            "standoff": 15
           },
           "zerolinecolor": "white",
           "zerolinewidth": 2
          }
         }
        },
        "xaxis": {
         "anchor": "y",
         "domain": [
          0,
          1
         ],
         "title": {
          "text": "0"
         }
        },
        "yaxis": {
         "anchor": "x",
         "domain": [
          0,
          1
         ],
         "title": {
          "text": "1"
         }
        }
       }
      }
     },
     "metadata": {},
     "output_type": "display_data"
    }
   ],
   "source": [
    "umap_2d = umap.UMAP(n_neighbors=15, n_components=2, random_state=1)\n",
    "proj_2d = umap_2d.fit_transform(df_std)\n",
    "\n",
    "fig_2d = px.scatter(\n",
    "    proj_2d, x=0, y=1,\n",
    "    color=y, labels={'color': 'tipoCultivo'}\n",
    ")\n",
    "\n",
    "fig_2d.show()"
   ]
  },
  {
   "cell_type": "code",
   "execution_count": 201,
   "id": "f440032a",
   "metadata": {},
   "outputs": [
    {
     "name": "stderr",
     "output_type": "stream",
     "text": [
      "c:\\Users\\Nico\\AppData\\Local\\Programs\\Python\\Python312\\Lib\\site-packages\\umap\\umap_.py:1952: UserWarning:\n",
      "\n",
      "n_jobs value 1 overridden to 1 by setting random_state. Use no seed for parallelism.\n",
      "\n"
     ]
    },
    {
     "data": {
      "application/vnd.plotly.v1+json": {
       "config": {
        "plotlyServerURL": "https://plot.ly"
       },
       "data": [
        {
         "hovertemplate": "tipoCultivo=Trigo<br>0=%{x}<br>1=%{y}<br>2=%{z}<extra></extra>",
         "legendgroup": "Trigo",
         "marker": {
          "color": "#636efa",
          "size": 8,
          "symbol": "circle"
         },
         "mode": "markers",
         "name": "Trigo",
         "scene": "scene",
         "showlegend": true,
         "type": "scatter3d",
         "x": {
          "bdata": "lG8kQM5bn0COjIZAJsU4QCKUaUDn7Q9Acf9XQFEb3D9s+RxATPlXQDZsZUDnFU9ACYQvQJQA+z/1MtI/MTazP84GJEBmjIZAIisZQON9sT8Gasc/AwStP54j8j+JAphAUsBUQIHgi0DveCBAo1gzQG2vEUDrbn9AHredQArHT0AQ8ME/m548QJJQnkCENElA8Mq4PxmFHEARZYdAJCQmQMUIb0DOTo5As4gJQLMrjkBP041AK3tPQOx/QkCuPp9A",
          "dtype": "f4"
         },
         "y": {
          "bdata": "Cn0AQK95xz+lPQFA7+v/P/nVKz+SNze/tDPTPuZSpj+Yi3s/+MIrvuyllT/uQPA/FZPbP1gus76L7JA/VCk0P9MCNz2yu1k/LTEVQLTJj7wQ1ao+mGiHPmOriz4VAIg/SNSHvu44Uj/NMBhAMLcOQNHArT/Khhw/gtfTP15Fgz5c+TU/O5M7PtsIoT8XnbM/8mkgP63xXb2iEzk8uJcgQB4xlz5ern8/MzUIQISL4D/YVoI/aS7BPYgN7z82/Ec/",
          "dtype": "f4"
         },
         "z": {
          "bdata": "WMoRQAvvPUCHYTpAPrpqQDQRLUDxpGZAwJ96QEobMUBoXq8/bi2KQCkRnD+OwBBArq4rQJliN0DabtM/ws4JQISWzT/tJi9AHi0uQFzMBkDgyCdA+OXcPwrcpj/u2GBAnoSMQPid+T/0Cf8/xPXxP8P9yz+G+ClAQSQ4QLZNIkBi6iVAHP9kQIEaTEDmbRFAAdgcQBfs0T+B9TZAJ6cpQN16BEBQIGVAXlICQMAVTUDhnGhAbF4wQEnpyD/fjl5A",
          "dtype": "f4"
         }
        },
        {
         "hovertemplate": "tipoCultivo=Maiz<br>0=%{x}<br>1=%{y}<br>2=%{z}<extra></extra>",
         "legendgroup": "Maiz",
         "marker": {
          "color": "#EF553B",
          "size": 8,
          "symbol": "circle"
         },
         "mode": "markers",
         "name": "Maiz",
         "scene": "scene",
         "showlegend": true,
         "type": "scatter3d",
         "x": {
          "bdata": "RA+jP27ZGECrnmhAxaZxQPIbHEAVE55Au32gQHzchUA1xipAKSEwQNN2cUCGjw1AnEj5P22TC0B/mIVA/lsjQPv3GkCva0NACQAxQIVO2D+eeYhAzoNoQI2Al0BROSJAk945QLC5qT+QjFpArgxbQO5Cc0D/rVNACrGUQCVhj0DrRC9AfJMaQK/xoz9RFJg/GdotQBAb0z9weSNAdZf4PyLv+D++/1NAkzuKQOm6T0DJth5AkNE3QCXfLkBXMS5ALZaOQAK8YEB8EExAtweQP1elU0DOUR9A",
          "dtype": "f4"
         },
         "y": {
          "bdata": "AcZbvkduEkDu74w/V/wcPsC5Pb+uOmY/AKGKP4ck3z/r4QQ+OEDAP1/gxT8zyOS922J9PyW+Ez//xz4/fB+RP1IdET/IOTq9ZkQrvx8xOD+WvCQ/ofEdPviytz/q6ghADsacvosbiL3PI62+oacpP6TPMj8kuDY9Z6CjP3eC7z+g2O0/5Rb0P/I0TT+um9M+1jsLQJ8RBD8Gpt49mNFKPRHy8D8uxM8/YHMdPhfDdj8hQfS+hsmTPtBdWD+gRco/+U/zPmhcTz8VPNi+ffpgPvF0DUAuUCE+",
          "dtype": "f4"
         },
         "z": {
          "bdata": "IQHxP5Ac6T9jUqE/kpVkQBObYkCm7ldAEl5LQKSqTkB2gYBAt6KHQC36ZUA72G5AhjlvQIGeY0AmW9I/y9RTQKYkCUDqUzNANoQ5QHmPS0ApA2hAm2p/QKX6FUC1pjVAs/gTQNdMIkA0JIRAfzVIQBU/LUCrmARAxjFXQM+CHEDXB4BAQGHGP+FnwD/dk9c/2aZxQJnqVkCmJOU/FbetPyyaLED3BoFAYp82QN8Dhz+OB2ZA8IpAQBwVKEA1vWNAz6IZQEMvNUAmOYxAaCYSQFQu5j/t+yNA",
          "dtype": "f4"
         }
        },
        {
         "hovertemplate": "tipoCultivo=Soja<br>0=%{x}<br>1=%{y}<br>2=%{z}<extra></extra>",
         "legendgroup": "Soja",
         "marker": {
          "color": "#00cc96",
          "size": 8,
          "symbol": "circle"
         },
         "mode": "markers",
         "name": "Soja",
         "scene": "scene",
         "showlegend": true,
         "type": "scatter3d",
         "x": {
          "bdata": "8PgKQL36QUDdTUlAJAp7QH8j1D/3eeo/YJICQFxQvj9gYPs/ZylHQCSiJkAzwbQ/RV4hQHmopEDU9bs/FYOPQKFeO0D4OF9A8ejqP/Owl0BaYtA/ivQ5QCkPAECgf0pAnj/DPziPNECb+EVAqTs2QMGEkEBtZ6RAx/ccQLc+H0DJUCdAnD3MPyY2akAfjzBAwPc1QJalhEBDWDxAbpsDQDUNYUCSdyJAKTWXQJRJOUAWeso/0J6FQFCvtj8ZeohATD5xQHx2QUBWKZdAWSF0QF14AEAzF4xAPHNzQCTr9z8a3YRAXcMyQLWuYkDYbEVArVBoQA==",
          "dtype": "f4"
         },
         "y": {
          "bdata": "GUN5vuDf5j9lZYQ+o5NPPxa0ar4K/849rao/PSJLxL7DZdO+IJQ5PjKhGEAZymU/X5/NPwP2Yj8ImDo9iqKVP1eUjT+YPHk/KoujP193pT+t8/o7a1oDv8Yu7D9tvaU/zl2xPVS5RT/+Er0/qH22P0/SrD/USrA/qxgcQK3AGECbFrE/+Gbrvqhwgz/NmgpAc7KfP11iB0DFpUw/xxc4P7TblD/6ruI//sLwP+U6+T9W0yA/v8v2Pv0EAj+m5qo8CSjuPhuu4j4ZSqo/kfuVPt+lNb8egu48gWZrP7CYFr5Y51Q/hUgXv2d4/j0Nup++ZySOPw==",
          "dtype": "f4"
         },
         "z": {
          "bdata": "7FE3QJlAf0BO5oNA+Ra9P78YBEDesQdAbD3wP0o63j8ghBpAT6mCQKg27j/IwMk/r4x+QJnxT0BrsBtAUqNIQJA6hkDh8os/SvTYPznRK0ABa9Q/3zYbQEszKUDx01ZAbMk0QDxtikBajhtALZUqQB8XU0DGuzdAGaAiQBid7z+Kj4NAkATRP6lBGECaO3BARSOIQCMVE0BW/4xAc6hgQKWNe0CWx8Y/YuIjQOza3z+LLrM/JjgpQD7CMED/wWpAkSlkQLJpHkBJjA9ACcX7P+9nV0CIPmRA6AycPwONMkD8ULo/AjFRQDBZAkDp4YpASqKAPw==",
          "dtype": "f4"
         }
        }
       ],
       "layout": {
        "legend": {
         "title": {
          "text": "tipoCultivo"
         },
         "tracegroupgap": 0
        },
        "margin": {
         "t": 60
        },
        "scene": {
         "domain": {
          "x": [
           0,
           1
          ],
          "y": [
           0,
           1
          ]
         },
         "xaxis": {
          "title": {
           "text": "0"
          }
         },
         "yaxis": {
          "title": {
           "text": "1"
          }
         },
         "zaxis": {
          "title": {
           "text": "2"
          }
         }
        },
        "template": {
         "data": {
          "bar": [
           {
            "error_x": {
             "color": "#2a3f5f"
            },
            "error_y": {
             "color": "#2a3f5f"
            },
            "marker": {
             "line": {
              "color": "#E5ECF6",
              "width": 0.5
             },
             "pattern": {
              "fillmode": "overlay",
              "size": 10,
              "solidity": 0.2
             }
            },
            "type": "bar"
           }
          ],
          "barpolar": [
           {
            "marker": {
             "line": {
              "color": "#E5ECF6",
              "width": 0.5
             },
             "pattern": {
              "fillmode": "overlay",
              "size": 10,
              "solidity": 0.2
             }
            },
            "type": "barpolar"
           }
          ],
          "carpet": [
           {
            "aaxis": {
             "endlinecolor": "#2a3f5f",
             "gridcolor": "white",
             "linecolor": "white",
             "minorgridcolor": "white",
             "startlinecolor": "#2a3f5f"
            },
            "baxis": {
             "endlinecolor": "#2a3f5f",
             "gridcolor": "white",
             "linecolor": "white",
             "minorgridcolor": "white",
             "startlinecolor": "#2a3f5f"
            },
            "type": "carpet"
           }
          ],
          "choropleth": [
           {
            "colorbar": {
             "outlinewidth": 0,
             "ticks": ""
            },
            "type": "choropleth"
           }
          ],
          "contour": [
           {
            "colorbar": {
             "outlinewidth": 0,
             "ticks": ""
            },
            "colorscale": [
             [
              0,
              "#0d0887"
             ],
             [
              0.1111111111111111,
              "#46039f"
             ],
             [
              0.2222222222222222,
              "#7201a8"
             ],
             [
              0.3333333333333333,
              "#9c179e"
             ],
             [
              0.4444444444444444,
              "#bd3786"
             ],
             [
              0.5555555555555556,
              "#d8576b"
             ],
             [
              0.6666666666666666,
              "#ed7953"
             ],
             [
              0.7777777777777778,
              "#fb9f3a"
             ],
             [
              0.8888888888888888,
              "#fdca26"
             ],
             [
              1,
              "#f0f921"
             ]
            ],
            "type": "contour"
           }
          ],
          "contourcarpet": [
           {
            "colorbar": {
             "outlinewidth": 0,
             "ticks": ""
            },
            "type": "contourcarpet"
           }
          ],
          "heatmap": [
           {
            "colorbar": {
             "outlinewidth": 0,
             "ticks": ""
            },
            "colorscale": [
             [
              0,
              "#0d0887"
             ],
             [
              0.1111111111111111,
              "#46039f"
             ],
             [
              0.2222222222222222,
              "#7201a8"
             ],
             [
              0.3333333333333333,
              "#9c179e"
             ],
             [
              0.4444444444444444,
              "#bd3786"
             ],
             [
              0.5555555555555556,
              "#d8576b"
             ],
             [
              0.6666666666666666,
              "#ed7953"
             ],
             [
              0.7777777777777778,
              "#fb9f3a"
             ],
             [
              0.8888888888888888,
              "#fdca26"
             ],
             [
              1,
              "#f0f921"
             ]
            ],
            "type": "heatmap"
           }
          ],
          "histogram": [
           {
            "marker": {
             "pattern": {
              "fillmode": "overlay",
              "size": 10,
              "solidity": 0.2
             }
            },
            "type": "histogram"
           }
          ],
          "histogram2d": [
           {
            "colorbar": {
             "outlinewidth": 0,
             "ticks": ""
            },
            "colorscale": [
             [
              0,
              "#0d0887"
             ],
             [
              0.1111111111111111,
              "#46039f"
             ],
             [
              0.2222222222222222,
              "#7201a8"
             ],
             [
              0.3333333333333333,
              "#9c179e"
             ],
             [
              0.4444444444444444,
              "#bd3786"
             ],
             [
              0.5555555555555556,
              "#d8576b"
             ],
             [
              0.6666666666666666,
              "#ed7953"
             ],
             [
              0.7777777777777778,
              "#fb9f3a"
             ],
             [
              0.8888888888888888,
              "#fdca26"
             ],
             [
              1,
              "#f0f921"
             ]
            ],
            "type": "histogram2d"
           }
          ],
          "histogram2dcontour": [
           {
            "colorbar": {
             "outlinewidth": 0,
             "ticks": ""
            },
            "colorscale": [
             [
              0,
              "#0d0887"
             ],
             [
              0.1111111111111111,
              "#46039f"
             ],
             [
              0.2222222222222222,
              "#7201a8"
             ],
             [
              0.3333333333333333,
              "#9c179e"
             ],
             [
              0.4444444444444444,
              "#bd3786"
             ],
             [
              0.5555555555555556,
              "#d8576b"
             ],
             [
              0.6666666666666666,
              "#ed7953"
             ],
             [
              0.7777777777777778,
              "#fb9f3a"
             ],
             [
              0.8888888888888888,
              "#fdca26"
             ],
             [
              1,
              "#f0f921"
             ]
            ],
            "type": "histogram2dcontour"
           }
          ],
          "mesh3d": [
           {
            "colorbar": {
             "outlinewidth": 0,
             "ticks": ""
            },
            "type": "mesh3d"
           }
          ],
          "parcoords": [
           {
            "line": {
             "colorbar": {
              "outlinewidth": 0,
              "ticks": ""
             }
            },
            "type": "parcoords"
           }
          ],
          "pie": [
           {
            "automargin": true,
            "type": "pie"
           }
          ],
          "scatter": [
           {
            "fillpattern": {
             "fillmode": "overlay",
             "size": 10,
             "solidity": 0.2
            },
            "type": "scatter"
           }
          ],
          "scatter3d": [
           {
            "line": {
             "colorbar": {
              "outlinewidth": 0,
              "ticks": ""
             }
            },
            "marker": {
             "colorbar": {
              "outlinewidth": 0,
              "ticks": ""
             }
            },
            "type": "scatter3d"
           }
          ],
          "scattercarpet": [
           {
            "marker": {
             "colorbar": {
              "outlinewidth": 0,
              "ticks": ""
             }
            },
            "type": "scattercarpet"
           }
          ],
          "scattergeo": [
           {
            "marker": {
             "colorbar": {
              "outlinewidth": 0,
              "ticks": ""
             }
            },
            "type": "scattergeo"
           }
          ],
          "scattergl": [
           {
            "marker": {
             "colorbar": {
              "outlinewidth": 0,
              "ticks": ""
             }
            },
            "type": "scattergl"
           }
          ],
          "scattermap": [
           {
            "marker": {
             "colorbar": {
              "outlinewidth": 0,
              "ticks": ""
             }
            },
            "type": "scattermap"
           }
          ],
          "scattermapbox": [
           {
            "marker": {
             "colorbar": {
              "outlinewidth": 0,
              "ticks": ""
             }
            },
            "type": "scattermapbox"
           }
          ],
          "scatterpolar": [
           {
            "marker": {
             "colorbar": {
              "outlinewidth": 0,
              "ticks": ""
             }
            },
            "type": "scatterpolar"
           }
          ],
          "scatterpolargl": [
           {
            "marker": {
             "colorbar": {
              "outlinewidth": 0,
              "ticks": ""
             }
            },
            "type": "scatterpolargl"
           }
          ],
          "scatterternary": [
           {
            "marker": {
             "colorbar": {
              "outlinewidth": 0,
              "ticks": ""
             }
            },
            "type": "scatterternary"
           }
          ],
          "surface": [
           {
            "colorbar": {
             "outlinewidth": 0,
             "ticks": ""
            },
            "colorscale": [
             [
              0,
              "#0d0887"
             ],
             [
              0.1111111111111111,
              "#46039f"
             ],
             [
              0.2222222222222222,
              "#7201a8"
             ],
             [
              0.3333333333333333,
              "#9c179e"
             ],
             [
              0.4444444444444444,
              "#bd3786"
             ],
             [
              0.5555555555555556,
              "#d8576b"
             ],
             [
              0.6666666666666666,
              "#ed7953"
             ],
             [
              0.7777777777777778,
              "#fb9f3a"
             ],
             [
              0.8888888888888888,
              "#fdca26"
             ],
             [
              1,
              "#f0f921"
             ]
            ],
            "type": "surface"
           }
          ],
          "table": [
           {
            "cells": {
             "fill": {
              "color": "#EBF0F8"
             },
             "line": {
              "color": "white"
             }
            },
            "header": {
             "fill": {
              "color": "#C8D4E3"
             },
             "line": {
              "color": "white"
             }
            },
            "type": "table"
           }
          ]
         },
         "layout": {
          "annotationdefaults": {
           "arrowcolor": "#2a3f5f",
           "arrowhead": 0,
           "arrowwidth": 1
          },
          "autotypenumbers": "strict",
          "coloraxis": {
           "colorbar": {
            "outlinewidth": 0,
            "ticks": ""
           }
          },
          "colorscale": {
           "diverging": [
            [
             0,
             "#8e0152"
            ],
            [
             0.1,
             "#c51b7d"
            ],
            [
             0.2,
             "#de77ae"
            ],
            [
             0.3,
             "#f1b6da"
            ],
            [
             0.4,
             "#fde0ef"
            ],
            [
             0.5,
             "#f7f7f7"
            ],
            [
             0.6,
             "#e6f5d0"
            ],
            [
             0.7,
             "#b8e186"
            ],
            [
             0.8,
             "#7fbc41"
            ],
            [
             0.9,
             "#4d9221"
            ],
            [
             1,
             "#276419"
            ]
           ],
           "sequential": [
            [
             0,
             "#0d0887"
            ],
            [
             0.1111111111111111,
             "#46039f"
            ],
            [
             0.2222222222222222,
             "#7201a8"
            ],
            [
             0.3333333333333333,
             "#9c179e"
            ],
            [
             0.4444444444444444,
             "#bd3786"
            ],
            [
             0.5555555555555556,
             "#d8576b"
            ],
            [
             0.6666666666666666,
             "#ed7953"
            ],
            [
             0.7777777777777778,
             "#fb9f3a"
            ],
            [
             0.8888888888888888,
             "#fdca26"
            ],
            [
             1,
             "#f0f921"
            ]
           ],
           "sequentialminus": [
            [
             0,
             "#0d0887"
            ],
            [
             0.1111111111111111,
             "#46039f"
            ],
            [
             0.2222222222222222,
             "#7201a8"
            ],
            [
             0.3333333333333333,
             "#9c179e"
            ],
            [
             0.4444444444444444,
             "#bd3786"
            ],
            [
             0.5555555555555556,
             "#d8576b"
            ],
            [
             0.6666666666666666,
             "#ed7953"
            ],
            [
             0.7777777777777778,
             "#fb9f3a"
            ],
            [
             0.8888888888888888,
             "#fdca26"
            ],
            [
             1,
             "#f0f921"
            ]
           ]
          },
          "colorway": [
           "#636efa",
           "#EF553B",
           "#00cc96",
           "#ab63fa",
           "#FFA15A",
           "#19d3f3",
           "#FF6692",
           "#B6E880",
           "#FF97FF",
           "#FECB52"
          ],
          "font": {
           "color": "#2a3f5f"
          },
          "geo": {
           "bgcolor": "white",
           "lakecolor": "white",
           "landcolor": "#E5ECF6",
           "showlakes": true,
           "showland": true,
           "subunitcolor": "white"
          },
          "hoverlabel": {
           "align": "left"
          },
          "hovermode": "closest",
          "mapbox": {
           "style": "light"
          },
          "paper_bgcolor": "white",
          "plot_bgcolor": "#E5ECF6",
          "polar": {
           "angularaxis": {
            "gridcolor": "white",
            "linecolor": "white",
            "ticks": ""
           },
           "bgcolor": "#E5ECF6",
           "radialaxis": {
            "gridcolor": "white",
            "linecolor": "white",
            "ticks": ""
           }
          },
          "scene": {
           "xaxis": {
            "backgroundcolor": "#E5ECF6",
            "gridcolor": "white",
            "gridwidth": 2,
            "linecolor": "white",
            "showbackground": true,
            "ticks": "",
            "zerolinecolor": "white"
           },
           "yaxis": {
            "backgroundcolor": "#E5ECF6",
            "gridcolor": "white",
            "gridwidth": 2,
            "linecolor": "white",
            "showbackground": true,
            "ticks": "",
            "zerolinecolor": "white"
           },
           "zaxis": {
            "backgroundcolor": "#E5ECF6",
            "gridcolor": "white",
            "gridwidth": 2,
            "linecolor": "white",
            "showbackground": true,
            "ticks": "",
            "zerolinecolor": "white"
           }
          },
          "shapedefaults": {
           "line": {
            "color": "#2a3f5f"
           }
          },
          "ternary": {
           "aaxis": {
            "gridcolor": "white",
            "linecolor": "white",
            "ticks": ""
           },
           "baxis": {
            "gridcolor": "white",
            "linecolor": "white",
            "ticks": ""
           },
           "bgcolor": "#E5ECF6",
           "caxis": {
            "gridcolor": "white",
            "linecolor": "white",
            "ticks": ""
           }
          },
          "title": {
           "x": 0.05
          },
          "xaxis": {
           "automargin": true,
           "gridcolor": "white",
           "linecolor": "white",
           "ticks": "",
           "title": {
            "standoff": 15
           },
           "zerolinecolor": "white",
           "zerolinewidth": 2
          },
          "yaxis": {
           "automargin": true,
           "gridcolor": "white",
           "linecolor": "white",
           "ticks": "",
           "title": {
            "standoff": 15
           },
           "zerolinecolor": "white",
           "zerolinewidth": 2
          }
         }
        }
       }
      }
     },
     "metadata": {},
     "output_type": "display_data"
    }
   ],
   "source": [
    "umap_3d = umap.UMAP(n_components=3, random_state=42)\n",
    "\n",
    "proj_3d = umap_3d.fit_transform(df_std)\n",
    "\n",
    "fig_3d = px.scatter_3d(\n",
    "    proj_3d, x=0, y=1, z=2,\n",
    "    color=y, labels={'color': 'tipoCultivo'}\n",
    ")\n",
    "fig_3d.update_traces(marker_size=8)\n",
    "\n",
    "fig_3d.show()"
   ]
  },
  {
   "cell_type": "code",
   "execution_count": null,
   "id": "163d8c49",
   "metadata": {},
   "outputs": [],
   "source": []
  }
 ],
 "metadata": {
  "kernelspec": {
   "display_name": "Python 3",
   "language": "python",
   "name": "python3"
  },
  "language_info": {
   "codemirror_mode": {
    "name": "ipython",
    "version": 3
   },
   "file_extension": ".py",
   "mimetype": "text/x-python",
   "name": "python",
   "nbconvert_exporter": "python",
   "pygments_lexer": "ipython3",
   "version": "3.12.5"
  }
 },
 "nbformat": 4,
 "nbformat_minor": 5
}
