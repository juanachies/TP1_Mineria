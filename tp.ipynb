{
 "cells": [
  {
   "cell_type": "code",
   "execution_count": 196,
   "id": "740e7176",
   "metadata": {},
   "outputs": [],
   "source": [
    "import pandas as pd\n",
    "import seaborn as sns\n",
    "import matplotlib.pyplot as plt\n",
    "import matplotlib.colors as mcolors\n",
    "import plotly.express as px\n",
    "import numpy as np\n",
    "import umap\n",
    "\n",
    "# Algoritmos de reducción de dimensionalidad\n",
    "from sklearn.model_selection import train_test_split, KFold, cross_val_score\n",
    "from sklearn.preprocessing import StandardScaler \n",
    "from sklearn import decomposition\n",
    "from sklearn.decomposition import PCA\n",
    "from sklearn.manifold import Isomap, TSNE\n",
    "\n",
    "# Algoritmos clustering\n",
    "from sklearn.cluster import KMeans\n",
    "from sklearn.cluster import AgglomerativeClustering\n",
    "import scipy.cluster.hierarchy as sch\n",
    "from scipy.cluster.hierarchy import dendrogram, linkage\n",
    "\n",
    "from scipy.spatial.distance import cdist"
   ]
  },
  {
   "cell_type": "code",
   "execution_count": 200,
   "id": "058fea83",
   "metadata": {},
   "outputs": [],
   "source": [
    "file_path = 'SmartFarmingCropYield.csv'\n",
    "\n",
    "dataset = pd.read_csv(file_path)"
   ]
  },
  {
   "cell_type": "markdown",
   "id": "0ae1fda4",
   "metadata": {},
   "source": [
    "# Análisis exploratorio de datos (EDA)"
   ]
  },
  {
   "cell_type": "code",
   "execution_count": 201,
   "id": "68b6f759",
   "metadata": {},
   "outputs": [
    {
     "data": {
      "text/html": [
       "<div>\n",
       "<style scoped>\n",
       "    .dataframe tbody tr th:only-of-type {\n",
       "        vertical-align: middle;\n",
       "    }\n",
       "\n",
       "    .dataframe tbody tr th {\n",
       "        vertical-align: top;\n",
       "    }\n",
       "\n",
       "    .dataframe thead th {\n",
       "        text-align: right;\n",
       "    }\n",
       "</style>\n",
       "<table border=\"1\" class=\"dataframe\">\n",
       "  <thead>\n",
       "    <tr style=\"text-align: right;\">\n",
       "      <th></th>\n",
       "      <th>tipoCultivo</th>\n",
       "      <th>humedadSuelo(%)</th>\n",
       "      <th>pHSuelo</th>\n",
       "      <th>temperatura(°C)</th>\n",
       "      <th>precipitacion(mm)</th>\n",
       "      <th>humedad(%)</th>\n",
       "      <th>horasLuzSolar</th>\n",
       "      <th>tipoRiego</th>\n",
       "      <th>tipoFertilizante</th>\n",
       "      <th>mlPesticida</th>\n",
       "      <th>diasTotales</th>\n",
       "      <th>rendimientoKg_hectarea</th>\n",
       "      <th>indiceNDVI</th>\n",
       "      <th>estadoEnfermedadesCultivo</th>\n",
       "    </tr>\n",
       "  </thead>\n",
       "  <tbody>\n",
       "    <tr>\n",
       "      <th>0</th>\n",
       "      <td>Trigo</td>\n",
       "      <td>35.95</td>\n",
       "      <td>5.99</td>\n",
       "      <td>17.79</td>\n",
       "      <td>75.62</td>\n",
       "      <td>77.03</td>\n",
       "      <td>7.27</td>\n",
       "      <td>NaN</td>\n",
       "      <td>Organico</td>\n",
       "      <td>6.34</td>\n",
       "      <td>122</td>\n",
       "      <td>4408.07</td>\n",
       "      <td>0.63</td>\n",
       "      <td>Leve</td>\n",
       "    </tr>\n",
       "    <tr>\n",
       "      <th>1</th>\n",
       "      <td>Soja</td>\n",
       "      <td>19.74</td>\n",
       "      <td>7.24</td>\n",
       "      <td>30.18</td>\n",
       "      <td>89.91</td>\n",
       "      <td>61.13</td>\n",
       "      <td>5.67</td>\n",
       "      <td>Aspersor</td>\n",
       "      <td>Inorganico</td>\n",
       "      <td>9.60</td>\n",
       "      <td>112</td>\n",
       "      <td>5389.98</td>\n",
       "      <td>0.58</td>\n",
       "      <td>NaN</td>\n",
       "    </tr>\n",
       "    <tr>\n",
       "      <th>2</th>\n",
       "      <td>Trigo</td>\n",
       "      <td>29.32</td>\n",
       "      <td>7.16</td>\n",
       "      <td>27.37</td>\n",
       "      <td>265.43</td>\n",
       "      <td>68.87</td>\n",
       "      <td>8.23</td>\n",
       "      <td>Goteo</td>\n",
       "      <td>Mixto</td>\n",
       "      <td>15.26</td>\n",
       "      <td>144</td>\n",
       "      <td>2931.16</td>\n",
       "      <td>0.80</td>\n",
       "      <td>Leve</td>\n",
       "    </tr>\n",
       "    <tr>\n",
       "      <th>3</th>\n",
       "      <td>Maiz</td>\n",
       "      <td>17.33</td>\n",
       "      <td>6.03</td>\n",
       "      <td>33.73</td>\n",
       "      <td>212.01</td>\n",
       "      <td>70.46</td>\n",
       "      <td>5.03</td>\n",
       "      <td>Aspersor</td>\n",
       "      <td>Organico</td>\n",
       "      <td>25.80</td>\n",
       "      <td>134</td>\n",
       "      <td>4227.80</td>\n",
       "      <td>0.44</td>\n",
       "      <td>NaN</td>\n",
       "    </tr>\n",
       "    <tr>\n",
       "      <th>4</th>\n",
       "      <td>Soja</td>\n",
       "      <td>36.28</td>\n",
       "      <td>7.04</td>\n",
       "      <td>21.80</td>\n",
       "      <td>123.38</td>\n",
       "      <td>47.91</td>\n",
       "      <td>4.02</td>\n",
       "      <td>Manual</td>\n",
       "      <td>Mixto</td>\n",
       "      <td>39.29</td>\n",
       "      <td>145</td>\n",
       "      <td>4501.20</td>\n",
       "      <td>0.76</td>\n",
       "      <td>NaN</td>\n",
       "    </tr>\n",
       "    <tr>\n",
       "      <th>...</th>\n",
       "      <td>...</td>\n",
       "      <td>...</td>\n",
       "      <td>...</td>\n",
       "      <td>...</td>\n",
       "      <td>...</td>\n",
       "      <td>...</td>\n",
       "      <td>...</td>\n",
       "      <td>...</td>\n",
       "      <td>...</td>\n",
       "      <td>...</td>\n",
       "      <td>...</td>\n",
       "      <td>...</td>\n",
       "      <td>...</td>\n",
       "      <td>...</td>\n",
       "    </tr>\n",
       "    <tr>\n",
       "      <th>306</th>\n",
       "      <td>Maiz</td>\n",
       "      <td>32.14</td>\n",
       "      <td>7.44</td>\n",
       "      <td>21.49</td>\n",
       "      <td>286.61</td>\n",
       "      <td>84.20</td>\n",
       "      <td>5.58</td>\n",
       "      <td>Aspersor</td>\n",
       "      <td>Inorganico</td>\n",
       "      <td>45.43</td>\n",
       "      <td>93</td>\n",
       "      <td>4503.82</td>\n",
       "      <td>0.88</td>\n",
       "      <td>Leve</td>\n",
       "    </tr>\n",
       "    <tr>\n",
       "      <th>307</th>\n",
       "      <td>Trigo</td>\n",
       "      <td>28.81</td>\n",
       "      <td>7.46</td>\n",
       "      <td>30.56</td>\n",
       "      <td>245.13</td>\n",
       "      <td>45.32</td>\n",
       "      <td>8.47</td>\n",
       "      <td>NaN</td>\n",
       "      <td>Mixto</td>\n",
       "      <td>16.58</td>\n",
       "      <td>128</td>\n",
       "      <td>4203.51</td>\n",
       "      <td>0.65</td>\n",
       "      <td>Severo</td>\n",
       "    </tr>\n",
       "    <tr>\n",
       "      <th>308</th>\n",
       "      <td>Soja</td>\n",
       "      <td>34.22</td>\n",
       "      <td>6.75</td>\n",
       "      <td>17.46</td>\n",
       "      <td>256.23</td>\n",
       "      <td>45.14</td>\n",
       "      <td>5.78</td>\n",
       "      <td>NaN</td>\n",
       "      <td>Organico</td>\n",
       "      <td>5.05</td>\n",
       "      <td>104</td>\n",
       "      <td>3708.54</td>\n",
       "      <td>0.85</td>\n",
       "      <td>Severo</td>\n",
       "    </tr>\n",
       "    <tr>\n",
       "      <th>309</th>\n",
       "      <td>Soja</td>\n",
       "      <td>38.61</td>\n",
       "      <td>6.20</td>\n",
       "      <td>17.08</td>\n",
       "      <td>279.06</td>\n",
       "      <td>73.09</td>\n",
       "      <td>9.60</td>\n",
       "      <td>Goteo</td>\n",
       "      <td>Organico</td>\n",
       "      <td>43.78</td>\n",
       "      <td>131</td>\n",
       "      <td>2586.36</td>\n",
       "      <td>0.77</td>\n",
       "      <td>Severo</td>\n",
       "    </tr>\n",
       "    <tr>\n",
       "      <th>310</th>\n",
       "      <td>Trigo</td>\n",
       "      <td>30.22</td>\n",
       "      <td>7.42</td>\n",
       "      <td>20.57</td>\n",
       "      <td>72.61</td>\n",
       "      <td>89.74</td>\n",
       "      <td>5.09</td>\n",
       "      <td>NaN</td>\n",
       "      <td>Inorganico</td>\n",
       "      <td>19.37</td>\n",
       "      <td>134</td>\n",
       "      <td>5891.40</td>\n",
       "      <td>0.85</td>\n",
       "      <td>Severo</td>\n",
       "    </tr>\n",
       "  </tbody>\n",
       "</table>\n",
       "<p>311 rows × 14 columns</p>\n",
       "</div>"
      ],
      "text/plain": [
       "    tipoCultivo  humedadSuelo(%)  pHSuelo  temperatura(°C)  precipitacion(mm)  \\\n",
       "0         Trigo            35.95     5.99            17.79              75.62   \n",
       "1          Soja            19.74     7.24            30.18              89.91   \n",
       "2         Trigo            29.32     7.16            27.37             265.43   \n",
       "3          Maiz            17.33     6.03            33.73             212.01   \n",
       "4          Soja            36.28     7.04            21.80             123.38   \n",
       "..          ...              ...      ...              ...                ...   \n",
       "306        Maiz            32.14     7.44            21.49             286.61   \n",
       "307       Trigo            28.81     7.46            30.56             245.13   \n",
       "308        Soja            34.22     6.75            17.46             256.23   \n",
       "309        Soja            38.61     6.20            17.08             279.06   \n",
       "310       Trigo            30.22     7.42            20.57              72.61   \n",
       "\n",
       "     humedad(%)  horasLuzSolar tipoRiego tipoFertilizante  mlPesticida  \\\n",
       "0         77.03           7.27       NaN         Organico         6.34   \n",
       "1         61.13           5.67  Aspersor       Inorganico         9.60   \n",
       "2         68.87           8.23     Goteo            Mixto        15.26   \n",
       "3         70.46           5.03  Aspersor         Organico        25.80   \n",
       "4         47.91           4.02    Manual            Mixto        39.29   \n",
       "..          ...            ...       ...              ...          ...   \n",
       "306       84.20           5.58  Aspersor       Inorganico        45.43   \n",
       "307       45.32           8.47       NaN            Mixto        16.58   \n",
       "308       45.14           5.78       NaN         Organico         5.05   \n",
       "309       73.09           9.60     Goteo         Organico        43.78   \n",
       "310       89.74           5.09       NaN       Inorganico        19.37   \n",
       "\n",
       "     diasTotales  rendimientoKg_hectarea  indiceNDVI estadoEnfermedadesCultivo  \n",
       "0            122                 4408.07        0.63                      Leve  \n",
       "1            112                 5389.98        0.58                       NaN  \n",
       "2            144                 2931.16        0.80                      Leve  \n",
       "3            134                 4227.80        0.44                       NaN  \n",
       "4            145                 4501.20        0.76                       NaN  \n",
       "..           ...                     ...         ...                       ...  \n",
       "306           93                 4503.82        0.88                      Leve  \n",
       "307          128                 4203.51        0.65                    Severo  \n",
       "308          104                 3708.54        0.85                    Severo  \n",
       "309          131                 2586.36        0.77                    Severo  \n",
       "310          134                 5891.40        0.85                    Severo  \n",
       "\n",
       "[311 rows x 14 columns]"
      ]
     },
     "execution_count": 201,
     "metadata": {},
     "output_type": "execute_result"
    }
   ],
   "source": [
    "#Creamos copia del dataset original\n",
    "df = dataset.copy()\n",
    "\n",
    "#Renombramos las columnas para que no comiencen con un espacio\n",
    "df.columns = df.columns.str.strip().str.replace(\" \", \"\")\n",
    "\n",
    "df"
   ]
  },
  {
   "cell_type": "code",
   "execution_count": 202,
   "id": "b57d99bc",
   "metadata": {},
   "outputs": [
    {
     "name": "stdout",
     "output_type": "stream",
     "text": [
      "<class 'pandas.core.frame.DataFrame'>\n",
      "RangeIndex: 311 entries, 0 to 310\n",
      "Data columns (total 14 columns):\n",
      " #   Column                     Non-Null Count  Dtype  \n",
      "---  ------                     --------------  -----  \n",
      " 0   tipoCultivo                311 non-null    object \n",
      " 1   humedadSuelo(%)            311 non-null    float64\n",
      " 2   pHSuelo                    311 non-null    float64\n",
      " 3   temperatura(°C)            311 non-null    float64\n",
      " 4   precipitacion(mm)          311 non-null    float64\n",
      " 5   humedad(%)                 311 non-null    float64\n",
      " 6   horasLuzSolar              311 non-null    float64\n",
      " 7   tipoRiego                  220 non-null    object \n",
      " 8   tipoFertilizante           311 non-null    object \n",
      " 9   mlPesticida                311 non-null    float64\n",
      " 10  diasTotales                311 non-null    int64  \n",
      " 11  rendimientoKg_hectarea     311 non-null    float64\n",
      " 12  indiceNDVI                 311 non-null    float64\n",
      " 13  estadoEnfermedadesCultivo  228 non-null    object \n",
      "dtypes: float64(9), int64(1), object(4)\n",
      "memory usage: 34.1+ KB\n"
     ]
    }
   ],
   "source": [
    "df.info()"
   ]
  },
  {
   "cell_type": "markdown",
   "id": "19d97d9b",
   "metadata": {},
   "source": [
    "**Valores faltantes o duplicados**"
   ]
  },
  {
   "cell_type": "code",
   "execution_count": 203,
   "id": "a1c77877",
   "metadata": {},
   "outputs": [
    {
     "data": {
      "text/plain": [
       "False"
      ]
     },
     "execution_count": 203,
     "metadata": {},
     "output_type": "execute_result"
    }
   ],
   "source": [
    "df.duplicated().values.any()\n"
   ]
  },
  {
   "cell_type": "code",
   "execution_count": 204,
   "id": "c9b780de",
   "metadata": {},
   "outputs": [
    {
     "data": {
      "text/plain": [
       "tipoCultivo                   0\n",
       "humedadSuelo(%)               0\n",
       "pHSuelo                       0\n",
       "temperatura(°C)               0\n",
       "precipitacion(mm)             0\n",
       "humedad(%)                    0\n",
       "horasLuzSolar                 0\n",
       "tipoRiego                    91\n",
       "tipoFertilizante              0\n",
       "mlPesticida                   0\n",
       "diasTotales                   0\n",
       "rendimientoKg_hectarea        0\n",
       "indiceNDVI                    0\n",
       "estadoEnfermedadesCultivo    83\n",
       "dtype: int64"
      ]
     },
     "execution_count": 204,
     "metadata": {},
     "output_type": "execute_result"
    }
   ],
   "source": [
    "df.isna().sum()"
   ]
  },
  {
   "cell_type": "code",
   "execution_count": 205,
   "id": "c4672800",
   "metadata": {},
   "outputs": [
    {
     "data": {
      "text/html": [
       "<div>\n",
       "<style scoped>\n",
       "    .dataframe tbody tr th:only-of-type {\n",
       "        vertical-align: middle;\n",
       "    }\n",
       "\n",
       "    .dataframe tbody tr th {\n",
       "        vertical-align: top;\n",
       "    }\n",
       "\n",
       "    .dataframe thead th {\n",
       "        text-align: right;\n",
       "    }\n",
       "</style>\n",
       "<table border=\"1\" class=\"dataframe\">\n",
       "  <thead>\n",
       "    <tr style=\"text-align: right;\">\n",
       "      <th></th>\n",
       "      <th>tipoCultivo</th>\n",
       "      <th>humedadSuelo(%)</th>\n",
       "      <th>pHSuelo</th>\n",
       "      <th>temperatura(°C)</th>\n",
       "      <th>precipitacion(mm)</th>\n",
       "      <th>humedad(%)</th>\n",
       "      <th>horasLuzSolar</th>\n",
       "      <th>tipoRiego</th>\n",
       "      <th>tipoFertilizante</th>\n",
       "      <th>mlPesticida</th>\n",
       "      <th>diasTotales</th>\n",
       "      <th>rendimientoKg_hectarea</th>\n",
       "      <th>indiceNDVI</th>\n",
       "      <th>estadoEnfermedadesCultivo</th>\n",
       "    </tr>\n",
       "  </thead>\n",
       "  <tbody>\n",
       "    <tr>\n",
       "      <th>0</th>\n",
       "      <td>Trigo</td>\n",
       "      <td>35.95</td>\n",
       "      <td>5.99</td>\n",
       "      <td>17.79</td>\n",
       "      <td>75.62</td>\n",
       "      <td>77.03</td>\n",
       "      <td>7.27</td>\n",
       "      <td>NaN</td>\n",
       "      <td>Organico</td>\n",
       "      <td>6.34</td>\n",
       "      <td>122</td>\n",
       "      <td>4408.07</td>\n",
       "      <td>0.63</td>\n",
       "      <td>Leve</td>\n",
       "    </tr>\n",
       "    <tr>\n",
       "      <th>1</th>\n",
       "      <td>Soja</td>\n",
       "      <td>19.74</td>\n",
       "      <td>7.24</td>\n",
       "      <td>30.18</td>\n",
       "      <td>89.91</td>\n",
       "      <td>61.13</td>\n",
       "      <td>5.67</td>\n",
       "      <td>Aspersor</td>\n",
       "      <td>Inorganico</td>\n",
       "      <td>9.60</td>\n",
       "      <td>112</td>\n",
       "      <td>5389.98</td>\n",
       "      <td>0.58</td>\n",
       "      <td>NaN</td>\n",
       "    </tr>\n",
       "    <tr>\n",
       "      <th>3</th>\n",
       "      <td>Maiz</td>\n",
       "      <td>17.33</td>\n",
       "      <td>6.03</td>\n",
       "      <td>33.73</td>\n",
       "      <td>212.01</td>\n",
       "      <td>70.46</td>\n",
       "      <td>5.03</td>\n",
       "      <td>Aspersor</td>\n",
       "      <td>Organico</td>\n",
       "      <td>25.80</td>\n",
       "      <td>134</td>\n",
       "      <td>4227.80</td>\n",
       "      <td>0.44</td>\n",
       "      <td>NaN</td>\n",
       "    </tr>\n",
       "    <tr>\n",
       "      <th>4</th>\n",
       "      <td>Soja</td>\n",
       "      <td>36.28</td>\n",
       "      <td>7.04</td>\n",
       "      <td>21.80</td>\n",
       "      <td>123.38</td>\n",
       "      <td>47.91</td>\n",
       "      <td>4.02</td>\n",
       "      <td>Manual</td>\n",
       "      <td>Mixto</td>\n",
       "      <td>39.29</td>\n",
       "      <td>145</td>\n",
       "      <td>4501.20</td>\n",
       "      <td>0.76</td>\n",
       "      <td>NaN</td>\n",
       "    </tr>\n",
       "    <tr>\n",
       "      <th>8</th>\n",
       "      <td>Maiz</td>\n",
       "      <td>42.43</td>\n",
       "      <td>7.07</td>\n",
       "      <td>20.70</td>\n",
       "      <td>224.15</td>\n",
       "      <td>76.53</td>\n",
       "      <td>8.70</td>\n",
       "      <td>NaN</td>\n",
       "      <td>Organico</td>\n",
       "      <td>13.55</td>\n",
       "      <td>127</td>\n",
       "      <td>4942.95</td>\n",
       "      <td>0.65</td>\n",
       "      <td>Leve</td>\n",
       "    </tr>\n",
       "    <tr>\n",
       "      <th>...</th>\n",
       "      <td>...</td>\n",
       "      <td>...</td>\n",
       "      <td>...</td>\n",
       "      <td>...</td>\n",
       "      <td>...</td>\n",
       "      <td>...</td>\n",
       "      <td>...</td>\n",
       "      <td>...</td>\n",
       "      <td>...</td>\n",
       "      <td>...</td>\n",
       "      <td>...</td>\n",
       "      <td>...</td>\n",
       "      <td>...</td>\n",
       "      <td>...</td>\n",
       "    </tr>\n",
       "    <tr>\n",
       "      <th>304</th>\n",
       "      <td>Soja</td>\n",
       "      <td>40.46</td>\n",
       "      <td>7.44</td>\n",
       "      <td>18.31</td>\n",
       "      <td>237.68</td>\n",
       "      <td>59.21</td>\n",
       "      <td>8.68</td>\n",
       "      <td>NaN</td>\n",
       "      <td>Mixto</td>\n",
       "      <td>17.22</td>\n",
       "      <td>100</td>\n",
       "      <td>4287.59</td>\n",
       "      <td>0.77</td>\n",
       "      <td>Severo</td>\n",
       "    </tr>\n",
       "    <tr>\n",
       "      <th>305</th>\n",
       "      <td>Soja</td>\n",
       "      <td>19.06</td>\n",
       "      <td>7.20</td>\n",
       "      <td>20.93</td>\n",
       "      <td>117.13</td>\n",
       "      <td>45.96</td>\n",
       "      <td>5.34</td>\n",
       "      <td>Aspersor</td>\n",
       "      <td>Inorganico</td>\n",
       "      <td>6.76</td>\n",
       "      <td>149</td>\n",
       "      <td>2531.89</td>\n",
       "      <td>0.79</td>\n",
       "      <td>NaN</td>\n",
       "    </tr>\n",
       "    <tr>\n",
       "      <th>307</th>\n",
       "      <td>Trigo</td>\n",
       "      <td>28.81</td>\n",
       "      <td>7.46</td>\n",
       "      <td>30.56</td>\n",
       "      <td>245.13</td>\n",
       "      <td>45.32</td>\n",
       "      <td>8.47</td>\n",
       "      <td>NaN</td>\n",
       "      <td>Mixto</td>\n",
       "      <td>16.58</td>\n",
       "      <td>128</td>\n",
       "      <td>4203.51</td>\n",
       "      <td>0.65</td>\n",
       "      <td>Severo</td>\n",
       "    </tr>\n",
       "    <tr>\n",
       "      <th>308</th>\n",
       "      <td>Soja</td>\n",
       "      <td>34.22</td>\n",
       "      <td>6.75</td>\n",
       "      <td>17.46</td>\n",
       "      <td>256.23</td>\n",
       "      <td>45.14</td>\n",
       "      <td>5.78</td>\n",
       "      <td>NaN</td>\n",
       "      <td>Organico</td>\n",
       "      <td>5.05</td>\n",
       "      <td>104</td>\n",
       "      <td>3708.54</td>\n",
       "      <td>0.85</td>\n",
       "      <td>Severo</td>\n",
       "    </tr>\n",
       "    <tr>\n",
       "      <th>310</th>\n",
       "      <td>Trigo</td>\n",
       "      <td>30.22</td>\n",
       "      <td>7.42</td>\n",
       "      <td>20.57</td>\n",
       "      <td>72.61</td>\n",
       "      <td>89.74</td>\n",
       "      <td>5.09</td>\n",
       "      <td>NaN</td>\n",
       "      <td>Inorganico</td>\n",
       "      <td>19.37</td>\n",
       "      <td>134</td>\n",
       "      <td>5891.40</td>\n",
       "      <td>0.85</td>\n",
       "      <td>Severo</td>\n",
       "    </tr>\n",
       "  </tbody>\n",
       "</table>\n",
       "<p>148 rows × 14 columns</p>\n",
       "</div>"
      ],
      "text/plain": [
       "    tipoCultivo  humedadSuelo(%)  pHSuelo  temperatura(°C)  precipitacion(mm)  \\\n",
       "0         Trigo            35.95     5.99            17.79              75.62   \n",
       "1          Soja            19.74     7.24            30.18              89.91   \n",
       "3          Maiz            17.33     6.03            33.73             212.01   \n",
       "4          Soja            36.28     7.04            21.80             123.38   \n",
       "8          Maiz            42.43     7.07            20.70             224.15   \n",
       "..          ...              ...      ...              ...                ...   \n",
       "304        Soja            40.46     7.44            18.31             237.68   \n",
       "305        Soja            19.06     7.20            20.93             117.13   \n",
       "307       Trigo            28.81     7.46            30.56             245.13   \n",
       "308        Soja            34.22     6.75            17.46             256.23   \n",
       "310       Trigo            30.22     7.42            20.57              72.61   \n",
       "\n",
       "     humedad(%)  horasLuzSolar tipoRiego tipoFertilizante  mlPesticida  \\\n",
       "0         77.03           7.27       NaN         Organico         6.34   \n",
       "1         61.13           5.67  Aspersor       Inorganico         9.60   \n",
       "3         70.46           5.03  Aspersor         Organico        25.80   \n",
       "4         47.91           4.02    Manual            Mixto        39.29   \n",
       "8         76.53           8.70       NaN         Organico        13.55   \n",
       "..          ...            ...       ...              ...          ...   \n",
       "304       59.21           8.68       NaN            Mixto        17.22   \n",
       "305       45.96           5.34  Aspersor       Inorganico         6.76   \n",
       "307       45.32           8.47       NaN            Mixto        16.58   \n",
       "308       45.14           5.78       NaN         Organico         5.05   \n",
       "310       89.74           5.09       NaN       Inorganico        19.37   \n",
       "\n",
       "     diasTotales  rendimientoKg_hectarea  indiceNDVI estadoEnfermedadesCultivo  \n",
       "0            122                 4408.07        0.63                      Leve  \n",
       "1            112                 5389.98        0.58                       NaN  \n",
       "3            134                 4227.80        0.44                       NaN  \n",
       "4            145                 4501.20        0.76                       NaN  \n",
       "8            127                 4942.95        0.65                      Leve  \n",
       "..           ...                     ...         ...                       ...  \n",
       "304          100                 4287.59        0.77                    Severo  \n",
       "305          149                 2531.89        0.79                       NaN  \n",
       "307          128                 4203.51        0.65                    Severo  \n",
       "308          104                 3708.54        0.85                    Severo  \n",
       "310          134                 5891.40        0.85                    Severo  \n",
       "\n",
       "[148 rows x 14 columns]"
      ]
     },
     "execution_count": 205,
     "metadata": {},
     "output_type": "execute_result"
    }
   ],
   "source": [
    "df[df.isna().any(axis=1)]"
   ]
  },
  {
   "cell_type": "code",
   "execution_count": 206,
   "id": "852de2d8",
   "metadata": {},
   "outputs": [
    {
     "data": {
      "text/html": [
       "<div>\n",
       "<style scoped>\n",
       "    .dataframe tbody tr th:only-of-type {\n",
       "        vertical-align: middle;\n",
       "    }\n",
       "\n",
       "    .dataframe tbody tr th {\n",
       "        vertical-align: top;\n",
       "    }\n",
       "\n",
       "    .dataframe thead th {\n",
       "        text-align: right;\n",
       "    }\n",
       "</style>\n",
       "<table border=\"1\" class=\"dataframe\">\n",
       "  <thead>\n",
       "    <tr style=\"text-align: right;\">\n",
       "      <th></th>\n",
       "      <th>tipoCultivo</th>\n",
       "      <th>humedadSuelo(%)</th>\n",
       "      <th>pHSuelo</th>\n",
       "      <th>temperatura(°C)</th>\n",
       "      <th>precipitacion(mm)</th>\n",
       "      <th>humedad(%)</th>\n",
       "      <th>horasLuzSolar</th>\n",
       "      <th>tipoRiego</th>\n",
       "      <th>tipoFertilizante</th>\n",
       "      <th>mlPesticida</th>\n",
       "      <th>diasTotales</th>\n",
       "      <th>rendimientoKg_hectarea</th>\n",
       "      <th>indiceNDVI</th>\n",
       "      <th>estadoEnfermedadesCultivo</th>\n",
       "    </tr>\n",
       "  </thead>\n",
       "  <tbody>\n",
       "    <tr>\n",
       "      <th>0</th>\n",
       "      <td>Trigo</td>\n",
       "      <td>29.32</td>\n",
       "      <td>7.16</td>\n",
       "      <td>27.37</td>\n",
       "      <td>265.43</td>\n",
       "      <td>68.87</td>\n",
       "      <td>8.23</td>\n",
       "      <td>Goteo</td>\n",
       "      <td>Mixto</td>\n",
       "      <td>15.26</td>\n",
       "      <td>144</td>\n",
       "      <td>2931.16</td>\n",
       "      <td>0.80</td>\n",
       "      <td>Leve</td>\n",
       "    </tr>\n",
       "    <tr>\n",
       "      <th>1</th>\n",
       "      <td>Maiz</td>\n",
       "      <td>27.10</td>\n",
       "      <td>5.72</td>\n",
       "      <td>22.26</td>\n",
       "      <td>296.33</td>\n",
       "      <td>80.34</td>\n",
       "      <td>5.44</td>\n",
       "      <td>Aspersor</td>\n",
       "      <td>Mixto</td>\n",
       "      <td>47.61</td>\n",
       "      <td>121</td>\n",
       "      <td>5264.09</td>\n",
       "      <td>0.70</td>\n",
       "      <td>Leve</td>\n",
       "    </tr>\n",
       "    <tr>\n",
       "      <th>2</th>\n",
       "      <td>Soja</td>\n",
       "      <td>40.54</td>\n",
       "      <td>6.35</td>\n",
       "      <td>19.24</td>\n",
       "      <td>184.82</td>\n",
       "      <td>76.50</td>\n",
       "      <td>5.21</td>\n",
       "      <td>Manual</td>\n",
       "      <td>Inorganico</td>\n",
       "      <td>49.78</td>\n",
       "      <td>118</td>\n",
       "      <td>5598.46</td>\n",
       "      <td>0.50</td>\n",
       "      <td>Leve</td>\n",
       "    </tr>\n",
       "    <tr>\n",
       "      <th>3</th>\n",
       "      <td>Trigo</td>\n",
       "      <td>13.39</td>\n",
       "      <td>6.36</td>\n",
       "      <td>23.47</td>\n",
       "      <td>166.76</td>\n",
       "      <td>76.45</td>\n",
       "      <td>8.04</td>\n",
       "      <td>Goteo</td>\n",
       "      <td>Organico</td>\n",
       "      <td>23.12</td>\n",
       "      <td>145</td>\n",
       "      <td>2437.08</td>\n",
       "      <td>0.55</td>\n",
       "      <td>Moderate</td>\n",
       "    </tr>\n",
       "    <tr>\n",
       "      <th>4</th>\n",
       "      <td>Soja</td>\n",
       "      <td>12.80</td>\n",
       "      <td>5.87</td>\n",
       "      <td>26.90</td>\n",
       "      <td>218.80</td>\n",
       "      <td>51.76</td>\n",
       "      <td>4.72</td>\n",
       "      <td>Aspersor</td>\n",
       "      <td>Mixto</td>\n",
       "      <td>31.75</td>\n",
       "      <td>116</td>\n",
       "      <td>4629.49</td>\n",
       "      <td>0.42</td>\n",
       "      <td>Moderate</td>\n",
       "    </tr>\n",
       "    <tr>\n",
       "      <th>...</th>\n",
       "      <td>...</td>\n",
       "      <td>...</td>\n",
       "      <td>...</td>\n",
       "      <td>...</td>\n",
       "      <td>...</td>\n",
       "      <td>...</td>\n",
       "      <td>...</td>\n",
       "      <td>...</td>\n",
       "      <td>...</td>\n",
       "      <td>...</td>\n",
       "      <td>...</td>\n",
       "      <td>...</td>\n",
       "      <td>...</td>\n",
       "      <td>...</td>\n",
       "    </tr>\n",
       "    <tr>\n",
       "      <th>158</th>\n",
       "      <td>Maiz</td>\n",
       "      <td>29.30</td>\n",
       "      <td>6.71</td>\n",
       "      <td>32.93</td>\n",
       "      <td>92.69</td>\n",
       "      <td>87.33</td>\n",
       "      <td>6.34</td>\n",
       "      <td>Manual</td>\n",
       "      <td>Mixto</td>\n",
       "      <td>35.50</td>\n",
       "      <td>128</td>\n",
       "      <td>5528.08</td>\n",
       "      <td>0.31</td>\n",
       "      <td>Leve</td>\n",
       "    </tr>\n",
       "    <tr>\n",
       "      <th>159</th>\n",
       "      <td>Maiz</td>\n",
       "      <td>26.91</td>\n",
       "      <td>6.03</td>\n",
       "      <td>15.04</td>\n",
       "      <td>207.79</td>\n",
       "      <td>59.68</td>\n",
       "      <td>9.54</td>\n",
       "      <td>Goteo</td>\n",
       "      <td>Inorganico</td>\n",
       "      <td>45.16</td>\n",
       "      <td>112</td>\n",
       "      <td>2023.56</td>\n",
       "      <td>0.30</td>\n",
       "      <td>Leve</td>\n",
       "    </tr>\n",
       "    <tr>\n",
       "      <th>160</th>\n",
       "      <td>Trigo</td>\n",
       "      <td>31.58</td>\n",
       "      <td>5.68</td>\n",
       "      <td>16.02</td>\n",
       "      <td>151.82</td>\n",
       "      <td>55.32</td>\n",
       "      <td>7.80</td>\n",
       "      <td>Aspersor</td>\n",
       "      <td>Organico</td>\n",
       "      <td>20.13</td>\n",
       "      <td>122</td>\n",
       "      <td>3708.29</td>\n",
       "      <td>0.47</td>\n",
       "      <td>Moderate</td>\n",
       "    </tr>\n",
       "    <tr>\n",
       "      <th>161</th>\n",
       "      <td>Maiz</td>\n",
       "      <td>32.14</td>\n",
       "      <td>7.44</td>\n",
       "      <td>21.49</td>\n",
       "      <td>286.61</td>\n",
       "      <td>84.20</td>\n",
       "      <td>5.58</td>\n",
       "      <td>Aspersor</td>\n",
       "      <td>Inorganico</td>\n",
       "      <td>45.43</td>\n",
       "      <td>93</td>\n",
       "      <td>4503.82</td>\n",
       "      <td>0.88</td>\n",
       "      <td>Leve</td>\n",
       "    </tr>\n",
       "    <tr>\n",
       "      <th>162</th>\n",
       "      <td>Soja</td>\n",
       "      <td>38.61</td>\n",
       "      <td>6.20</td>\n",
       "      <td>17.08</td>\n",
       "      <td>279.06</td>\n",
       "      <td>73.09</td>\n",
       "      <td>9.60</td>\n",
       "      <td>Goteo</td>\n",
       "      <td>Organico</td>\n",
       "      <td>43.78</td>\n",
       "      <td>131</td>\n",
       "      <td>2586.36</td>\n",
       "      <td>0.77</td>\n",
       "      <td>Severo</td>\n",
       "    </tr>\n",
       "  </tbody>\n",
       "</table>\n",
       "<p>163 rows × 14 columns</p>\n",
       "</div>"
      ],
      "text/plain": [
       "    tipoCultivo  humedadSuelo(%)  pHSuelo  temperatura(°C)  precipitacion(mm)  \\\n",
       "0         Trigo            29.32     7.16            27.37             265.43   \n",
       "1          Maiz            27.10     5.72            22.26             296.33   \n",
       "2          Soja            40.54     6.35            19.24             184.82   \n",
       "3         Trigo            13.39     6.36            23.47             166.76   \n",
       "4          Soja            12.80     5.87            26.90             218.80   \n",
       "..          ...              ...      ...              ...                ...   \n",
       "158        Maiz            29.30     6.71            32.93              92.69   \n",
       "159        Maiz            26.91     6.03            15.04             207.79   \n",
       "160       Trigo            31.58     5.68            16.02             151.82   \n",
       "161        Maiz            32.14     7.44            21.49             286.61   \n",
       "162        Soja            38.61     6.20            17.08             279.06   \n",
       "\n",
       "     humedad(%)  horasLuzSolar tipoRiego tipoFertilizante  mlPesticida  \\\n",
       "0         68.87           8.23     Goteo            Mixto        15.26   \n",
       "1         80.34           5.44  Aspersor            Mixto        47.61   \n",
       "2         76.50           5.21    Manual       Inorganico        49.78   \n",
       "3         76.45           8.04     Goteo         Organico        23.12   \n",
       "4         51.76           4.72  Aspersor            Mixto        31.75   \n",
       "..          ...            ...       ...              ...          ...   \n",
       "158       87.33           6.34    Manual            Mixto        35.50   \n",
       "159       59.68           9.54     Goteo       Inorganico        45.16   \n",
       "160       55.32           7.80  Aspersor         Organico        20.13   \n",
       "161       84.20           5.58  Aspersor       Inorganico        45.43   \n",
       "162       73.09           9.60     Goteo         Organico        43.78   \n",
       "\n",
       "     diasTotales  rendimientoKg_hectarea  indiceNDVI estadoEnfermedadesCultivo  \n",
       "0            144                 2931.16        0.80                      Leve  \n",
       "1            121                 5264.09        0.70                      Leve  \n",
       "2            118                 5598.46        0.50                      Leve  \n",
       "3            145                 2437.08        0.55                  Moderate  \n",
       "4            116                 4629.49        0.42                  Moderate  \n",
       "..           ...                     ...         ...                       ...  \n",
       "158          128                 5528.08        0.31                      Leve  \n",
       "159          112                 2023.56        0.30                      Leve  \n",
       "160          122                 3708.29        0.47                  Moderate  \n",
       "161           93                 4503.82        0.88                      Leve  \n",
       "162          131                 2586.36        0.77                    Severo  \n",
       "\n",
       "[163 rows x 14 columns]"
      ]
     },
     "execution_count": 206,
     "metadata": {},
     "output_type": "execute_result"
    }
   ],
   "source": [
    "df.dropna(inplace=True)\n",
    "df.reset_index(drop=True, inplace=True)\n",
    "df"
   ]
  },
  {
   "cell_type": "markdown",
   "id": "7b60ea99",
   "metadata": {},
   "source": [
    "**Distrubuciones de las variables**"
   ]
  },
  {
   "cell_type": "code",
   "execution_count": 207,
   "id": "d7d6a650",
   "metadata": {},
   "outputs": [],
   "source": [
    "#Selección de columnas númericas\n",
    "cols = ['humedadSuelo(%)', 'pHSuelo', 'temperatura(°C)','precipitacion(mm)', 'humedad(%)', 'horasLuzSolar', \n",
    "'mlPesticida', 'diasTotales', 'rendimientoKg_hectarea', 'indiceNDVI']"
   ]
  },
  {
   "cell_type": "code",
   "execution_count": 208,
   "id": "6b0f8480",
   "metadata": {},
   "outputs": [
    {
     "data": {
      "image/png": "[encoded data removed]",
      "text/plain": [
       "<Figure size 1200x1800 with 10 Axes>"
      ]
     },
     "metadata": {},
     "output_type": "display_data"
    }
   ],
   "source": [
    "# Definimos el layout → 5 filas x 2 columnas = 10 subplots\n",
    "fig, axes = plt.subplots(nrows=5, ncols=2, figsize=(12, 18))\n",
    "\n",
    "# Aplanamos la grilla de ejes\n",
    "axes = axes.flatten()\n",
    "\n",
    "# Iteramos\n",
    "for i, col in enumerate(cols):\n",
    "    sns.boxplot(y=df[col], ax=axes[i])\n",
    "    axes[i].set_title(col)\n",
    "\n",
    "# Ajustamos diseño\n",
    "plt.tight_layout()\n",
    "plt.show()"
   ]
  },
  {
   "cell_type": "code",
   "execution_count": 209,
   "id": "d285f3ef",
   "metadata": {},
   "outputs": [
    {
     "data": {
      "image/png": "[encoded data removed]",
      "text/plain": [
       "<Figure size 1000x500 with 2 Axes>"
      ]
     },
     "metadata": {},
     "output_type": "display_data"
    }
   ],
   "source": [
    "#Selección de columnas númericas\n",
    "cols = ['humedadSuelo(%)', 'pHSuelo', 'temperatura(°C)','precipitacion(mm)', 'humedad(%)', 'horasLuzSolar', \n",
    "'mlPesticida', 'diasTotales', 'rendimientoKg_hectarea', 'indiceNDVI']\n",
    "\n",
    "plt.figure(figsize=(10,5))\n",
    "sns.heatmap(df[cols].corr(), vmin=-1, vmax=1, annot=True)\n",
    "plt.title('Correlación entre variables del dataset')\n",
    "plt.show()"
   ]
  },
  {
   "cell_type": "markdown",
   "id": "41b025c2",
   "metadata": {},
   "source": [
    "**Codificación de variables catgorícas**"
   ]
  },
  {
   "cell_type": "code",
   "execution_count": 210,
   "id": "198cfebf",
   "metadata": {},
   "outputs": [
    {
     "name": "stdout",
     "output_type": "stream",
     "text": [
      "<class 'pandas.core.frame.DataFrame'>\n",
      "RangeIndex: 163 entries, 0 to 162\n",
      "Data columns (total 14 columns):\n",
      " #   Column                     Non-Null Count  Dtype  \n",
      "---  ------                     --------------  -----  \n",
      " 0   tipoCultivo                163 non-null    object \n",
      " 1   humedadSuelo(%)            163 non-null    float64\n",
      " 2   pHSuelo                    163 non-null    float64\n",
      " 3   temperatura(°C)            163 non-null    float64\n",
      " 4   precipitacion(mm)          163 non-null    float64\n",
      " 5   humedad(%)                 163 non-null    float64\n",
      " 6   horasLuzSolar              163 non-null    float64\n",
      " 7   tipoRiego                  163 non-null    object \n",
      " 8   tipoFertilizante           163 non-null    object \n",
      " 9   mlPesticida                163 non-null    float64\n",
      " 10  diasTotales                163 non-null    int64  \n",
      " 11  rendimientoKg_hectarea     163 non-null    float64\n",
      " 12  indiceNDVI                 163 non-null    float64\n",
      " 13  estadoEnfermedadesCultivo  163 non-null    object \n",
      "dtypes: float64(9), int64(1), object(4)\n",
      "memory usage: 18.0+ KB\n"
     ]
    }
   ],
   "source": [
    "df.info()"
   ]
  },
  {
   "cell_type": "code",
   "execution_count": 211,
   "id": "e5124743",
   "metadata": {},
   "outputs": [
    {
     "data": {
      "text/html": [
       "<div>\n",
       "<style scoped>\n",
       "    .dataframe tbody tr th:only-of-type {\n",
       "        vertical-align: middle;\n",
       "    }\n",
       "\n",
       "    .dataframe tbody tr th {\n",
       "        vertical-align: top;\n",
       "    }\n",
       "\n",
       "    .dataframe thead th {\n",
       "        text-align: right;\n",
       "    }\n",
       "</style>\n",
       "<table border=\"1\" class=\"dataframe\">\n",
       "  <thead>\n",
       "    <tr style=\"text-align: right;\">\n",
       "      <th></th>\n",
       "      <th>tipoCultivo</th>\n",
       "      <th>humedadSuelo(%)</th>\n",
       "      <th>pHSuelo</th>\n",
       "      <th>temperatura(°C)</th>\n",
       "      <th>precipitacion(mm)</th>\n",
       "      <th>humedad(%)</th>\n",
       "      <th>horasLuzSolar</th>\n",
       "      <th>mlPesticida</th>\n",
       "      <th>diasTotales</th>\n",
       "      <th>rendimientoKg_hectarea</th>\n",
       "      <th>indiceNDVI</th>\n",
       "      <th>tipoRiego_Goteo</th>\n",
       "      <th>tipoRiego_Manual</th>\n",
       "      <th>tipoFertilizante_Mixto</th>\n",
       "      <th>tipoFertilizante_Organico</th>\n",
       "      <th>estadoEnfermedadesCultivo_Moderate</th>\n",
       "      <th>estadoEnfermedadesCultivo_Severo</th>\n",
       "    </tr>\n",
       "  </thead>\n",
       "  <tbody>\n",
       "    <tr>\n",
       "      <th>0</th>\n",
       "      <td>Trigo</td>\n",
       "      <td>29.32</td>\n",
       "      <td>7.16</td>\n",
       "      <td>27.37</td>\n",
       "      <td>265.43</td>\n",
       "      <td>68.87</td>\n",
       "      <td>8.23</td>\n",
       "      <td>15.26</td>\n",
       "      <td>144</td>\n",
       "      <td>2931.16</td>\n",
       "      <td>0.80</td>\n",
       "      <td>True</td>\n",
       "      <td>False</td>\n",
       "      <td>True</td>\n",
       "      <td>False</td>\n",
       "      <td>False</td>\n",
       "      <td>False</td>\n",
       "    </tr>\n",
       "    <tr>\n",
       "      <th>1</th>\n",
       "      <td>Maiz</td>\n",
       "      <td>27.10</td>\n",
       "      <td>5.72</td>\n",
       "      <td>22.26</td>\n",
       "      <td>296.33</td>\n",
       "      <td>80.34</td>\n",
       "      <td>5.44</td>\n",
       "      <td>47.61</td>\n",
       "      <td>121</td>\n",
       "      <td>5264.09</td>\n",
       "      <td>0.70</td>\n",
       "      <td>False</td>\n",
       "      <td>False</td>\n",
       "      <td>True</td>\n",
       "      <td>False</td>\n",
       "      <td>False</td>\n",
       "      <td>False</td>\n",
       "    </tr>\n",
       "    <tr>\n",
       "      <th>2</th>\n",
       "      <td>Soja</td>\n",
       "      <td>40.54</td>\n",
       "      <td>6.35</td>\n",
       "      <td>19.24</td>\n",
       "      <td>184.82</td>\n",
       "      <td>76.50</td>\n",
       "      <td>5.21</td>\n",
       "      <td>49.78</td>\n",
       "      <td>118</td>\n",
       "      <td>5598.46</td>\n",
       "      <td>0.50</td>\n",
       "      <td>False</td>\n",
       "      <td>True</td>\n",
       "      <td>False</td>\n",
       "      <td>False</td>\n",
       "      <td>False</td>\n",
       "      <td>False</td>\n",
       "    </tr>\n",
       "    <tr>\n",
       "      <th>3</th>\n",
       "      <td>Trigo</td>\n",
       "      <td>13.39</td>\n",
       "      <td>6.36</td>\n",
       "      <td>23.47</td>\n",
       "      <td>166.76</td>\n",
       "      <td>76.45</td>\n",
       "      <td>8.04</td>\n",
       "      <td>23.12</td>\n",
       "      <td>145</td>\n",
       "      <td>2437.08</td>\n",
       "      <td>0.55</td>\n",
       "      <td>True</td>\n",
       "      <td>False</td>\n",
       "      <td>False</td>\n",
       "      <td>True</td>\n",
       "      <td>True</td>\n",
       "      <td>False</td>\n",
       "    </tr>\n",
       "    <tr>\n",
       "      <th>4</th>\n",
       "      <td>Soja</td>\n",
       "      <td>12.80</td>\n",
       "      <td>5.87</td>\n",
       "      <td>26.90</td>\n",
       "      <td>218.80</td>\n",
       "      <td>51.76</td>\n",
       "      <td>4.72</td>\n",
       "      <td>31.75</td>\n",
       "      <td>116</td>\n",
       "      <td>4629.49</td>\n",
       "      <td>0.42</td>\n",
       "      <td>False</td>\n",
       "      <td>False</td>\n",
       "      <td>True</td>\n",
       "      <td>False</td>\n",
       "      <td>True</td>\n",
       "      <td>False</td>\n",
       "    </tr>\n",
       "    <tr>\n",
       "      <th>...</th>\n",
       "      <td>...</td>\n",
       "      <td>...</td>\n",
       "      <td>...</td>\n",
       "      <td>...</td>\n",
       "      <td>...</td>\n",
       "      <td>...</td>\n",
       "      <td>...</td>\n",
       "      <td>...</td>\n",
       "      <td>...</td>\n",
       "      <td>...</td>\n",
       "      <td>...</td>\n",
       "      <td>...</td>\n",
       "      <td>...</td>\n",
       "      <td>...</td>\n",
       "      <td>...</td>\n",
       "      <td>...</td>\n",
       "      <td>...</td>\n",
       "    </tr>\n",
       "    <tr>\n",
       "      <th>158</th>\n",
       "      <td>Maiz</td>\n",
       "      <td>29.30</td>\n",
       "      <td>6.71</td>\n",
       "      <td>32.93</td>\n",
       "      <td>92.69</td>\n",
       "      <td>87.33</td>\n",
       "      <td>6.34</td>\n",
       "      <td>35.50</td>\n",
       "      <td>128</td>\n",
       "      <td>5528.08</td>\n",
       "      <td>0.31</td>\n",
       "      <td>False</td>\n",
       "      <td>True</td>\n",
       "      <td>True</td>\n",
       "      <td>False</td>\n",
       "      <td>False</td>\n",
       "      <td>False</td>\n",
       "    </tr>\n",
       "    <tr>\n",
       "      <th>159</th>\n",
       "      <td>Maiz</td>\n",
       "      <td>26.91</td>\n",
       "      <td>6.03</td>\n",
       "      <td>15.04</td>\n",
       "      <td>207.79</td>\n",
       "      <td>59.68</td>\n",
       "      <td>9.54</td>\n",
       "      <td>45.16</td>\n",
       "      <td>112</td>\n",
       "      <td>2023.56</td>\n",
       "      <td>0.30</td>\n",
       "      <td>True</td>\n",
       "      <td>False</td>\n",
       "      <td>False</td>\n",
       "      <td>False</td>\n",
       "      <td>False</td>\n",
       "      <td>False</td>\n",
       "    </tr>\n",
       "    <tr>\n",
       "      <th>160</th>\n",
       "      <td>Trigo</td>\n",
       "      <td>31.58</td>\n",
       "      <td>5.68</td>\n",
       "      <td>16.02</td>\n",
       "      <td>151.82</td>\n",
       "      <td>55.32</td>\n",
       "      <td>7.80</td>\n",
       "      <td>20.13</td>\n",
       "      <td>122</td>\n",
       "      <td>3708.29</td>\n",
       "      <td>0.47</td>\n",
       "      <td>False</td>\n",
       "      <td>False</td>\n",
       "      <td>False</td>\n",
       "      <td>True</td>\n",
       "      <td>True</td>\n",
       "      <td>False</td>\n",
       "    </tr>\n",
       "    <tr>\n",
       "      <th>161</th>\n",
       "      <td>Maiz</td>\n",
       "      <td>32.14</td>\n",
       "      <td>7.44</td>\n",
       "      <td>21.49</td>\n",
       "      <td>286.61</td>\n",
       "      <td>84.20</td>\n",
       "      <td>5.58</td>\n",
       "      <td>45.43</td>\n",
       "      <td>93</td>\n",
       "      <td>4503.82</td>\n",
       "      <td>0.88</td>\n",
       "      <td>False</td>\n",
       "      <td>False</td>\n",
       "      <td>False</td>\n",
       "      <td>False</td>\n",
       "      <td>False</td>\n",
       "      <td>False</td>\n",
       "    </tr>\n",
       "    <tr>\n",
       "      <th>162</th>\n",
       "      <td>Soja</td>\n",
       "      <td>38.61</td>\n",
       "      <td>6.20</td>\n",
       "      <td>17.08</td>\n",
       "      <td>279.06</td>\n",
       "      <td>73.09</td>\n",
       "      <td>9.60</td>\n",
       "      <td>43.78</td>\n",
       "      <td>131</td>\n",
       "      <td>2586.36</td>\n",
       "      <td>0.77</td>\n",
       "      <td>True</td>\n",
       "      <td>False</td>\n",
       "      <td>False</td>\n",
       "      <td>True</td>\n",
       "      <td>False</td>\n",
       "      <td>True</td>\n",
       "    </tr>\n",
       "  </tbody>\n",
       "</table>\n",
       "<p>163 rows × 17 columns</p>\n",
       "</div>"
      ],
      "text/plain": [
       "    tipoCultivo  humedadSuelo(%)  pHSuelo  temperatura(°C)  precipitacion(mm)  \\\n",
       "0         Trigo            29.32     7.16            27.37             265.43   \n",
       "1          Maiz            27.10     5.72            22.26             296.33   \n",
       "2          Soja            40.54     6.35            19.24             184.82   \n",
       "3         Trigo            13.39     6.36            23.47             166.76   \n",
       "4          Soja            12.80     5.87            26.90             218.80   \n",
       "..          ...              ...      ...              ...                ...   \n",
       "158        Maiz            29.30     6.71            32.93              92.69   \n",
       "159        Maiz            26.91     6.03            15.04             207.79   \n",
       "160       Trigo            31.58     5.68            16.02             151.82   \n",
       "161        Maiz            32.14     7.44            21.49             286.61   \n",
       "162        Soja            38.61     6.20            17.08             279.06   \n",
       "\n",
       "     humedad(%)  horasLuzSolar  mlPesticida  diasTotales  \\\n",
       "0         68.87           8.23        15.26          144   \n",
       "1         80.34           5.44        47.61          121   \n",
       "2         76.50           5.21        49.78          118   \n",
       "3         76.45           8.04        23.12          145   \n",
       "4         51.76           4.72        31.75          116   \n",
       "..          ...            ...          ...          ...   \n",
       "158       87.33           6.34        35.50          128   \n",
       "159       59.68           9.54        45.16          112   \n",
       "160       55.32           7.80        20.13          122   \n",
       "161       84.20           5.58        45.43           93   \n",
       "162       73.09           9.60        43.78          131   \n",
       "\n",
       "     rendimientoKg_hectarea  indiceNDVI  tipoRiego_Goteo  tipoRiego_Manual  \\\n",
       "0                   2931.16        0.80             True             False   \n",
       "1                   5264.09        0.70            False             False   \n",
       "2                   5598.46        0.50            False              True   \n",
       "3                   2437.08        0.55             True             False   \n",
       "4                   4629.49        0.42            False             False   \n",
       "..                      ...         ...              ...               ...   \n",
       "158                 5528.08        0.31            False              True   \n",
       "159                 2023.56        0.30             True             False   \n",
       "160                 3708.29        0.47            False             False   \n",
       "161                 4503.82        0.88            False             False   \n",
       "162                 2586.36        0.77             True             False   \n",
       "\n",
       "     tipoFertilizante_Mixto  tipoFertilizante_Organico  \\\n",
       "0                      True                      False   \n",
       "1                      True                      False   \n",
       "2                     False                      False   \n",
       "3                     False                       True   \n",
       "4                      True                      False   \n",
       "..                      ...                        ...   \n",
       "158                    True                      False   \n",
       "159                   False                      False   \n",
       "160                   False                       True   \n",
       "161                   False                      False   \n",
       "162                   False                       True   \n",
       "\n",
       "     estadoEnfermedadesCultivo_Moderate  estadoEnfermedadesCultivo_Severo  \n",
       "0                                 False                             False  \n",
       "1                                 False                             False  \n",
       "2                                 False                             False  \n",
       "3                                  True                             False  \n",
       "4                                  True                             False  \n",
       "..                                  ...                               ...  \n",
       "158                               False                             False  \n",
       "159                               False                             False  \n",
       "160                                True                             False  \n",
       "161                               False                             False  \n",
       "162                               False                              True  \n",
       "\n",
       "[163 rows x 17 columns]"
      ]
     },
     "execution_count": 211,
     "metadata": {},
     "output_type": "execute_result"
    }
   ],
   "source": [
    "df = pd.get_dummies(data=df, columns=['tipoRiego', 'tipoFertilizante', 'estadoEnfermedadesCultivo'], drop_first=True)\n",
    "\n",
    "df"
   ]
  },
  {
   "cell_type": "code",
   "execution_count": 212,
   "id": "0b861bde",
   "metadata": {},
   "outputs": [
    {
     "data": {
      "text/html": [
       "<div>\n",
       "<style scoped>\n",
       "    .dataframe tbody tr th:only-of-type {\n",
       "        vertical-align: middle;\n",
       "    }\n",
       "\n",
       "    .dataframe tbody tr th {\n",
       "        vertical-align: top;\n",
       "    }\n",
       "\n",
       "    .dataframe thead th {\n",
       "        text-align: right;\n",
       "    }\n",
       "</style>\n",
       "<table border=\"1\" class=\"dataframe\">\n",
       "  <thead>\n",
       "    <tr style=\"text-align: right;\">\n",
       "      <th></th>\n",
       "      <th>tipoCultivo</th>\n",
       "      <th>humedadSuelo(%)</th>\n",
       "      <th>pHSuelo</th>\n",
       "      <th>temperatura(°C)</th>\n",
       "      <th>precipitacion(mm)</th>\n",
       "      <th>humedad(%)</th>\n",
       "      <th>horasLuzSolar</th>\n",
       "      <th>mlPesticida</th>\n",
       "      <th>rendimientoKg_hectarea</th>\n",
       "      <th>indiceNDVI</th>\n",
       "      <th>tipoRiego_Goteo</th>\n",
       "      <th>tipoRiego_Manual</th>\n",
       "      <th>tipoFertilizante_Mixto</th>\n",
       "      <th>tipoFertilizante_Organico</th>\n",
       "      <th>estadoEnfermedadesCultivo_Moderate</th>\n",
       "      <th>estadoEnfermedadesCultivo_Severo</th>\n",
       "      <th>mas_120_dias</th>\n",
       "    </tr>\n",
       "  </thead>\n",
       "  <tbody>\n",
       "    <tr>\n",
       "      <th>0</th>\n",
       "      <td>Trigo</td>\n",
       "      <td>29.32</td>\n",
       "      <td>7.16</td>\n",
       "      <td>27.37</td>\n",
       "      <td>265.43</td>\n",
       "      <td>68.87</td>\n",
       "      <td>8.23</td>\n",
       "      <td>15.26</td>\n",
       "      <td>2931.16</td>\n",
       "      <td>0.80</td>\n",
       "      <td>True</td>\n",
       "      <td>False</td>\n",
       "      <td>True</td>\n",
       "      <td>False</td>\n",
       "      <td>False</td>\n",
       "      <td>False</td>\n",
       "      <td>True</td>\n",
       "    </tr>\n",
       "    <tr>\n",
       "      <th>1</th>\n",
       "      <td>Maiz</td>\n",
       "      <td>27.10</td>\n",
       "      <td>5.72</td>\n",
       "      <td>22.26</td>\n",
       "      <td>296.33</td>\n",
       "      <td>80.34</td>\n",
       "      <td>5.44</td>\n",
       "      <td>47.61</td>\n",
       "      <td>5264.09</td>\n",
       "      <td>0.70</td>\n",
       "      <td>False</td>\n",
       "      <td>False</td>\n",
       "      <td>True</td>\n",
       "      <td>False</td>\n",
       "      <td>False</td>\n",
       "      <td>False</td>\n",
       "      <td>True</td>\n",
       "    </tr>\n",
       "    <tr>\n",
       "      <th>2</th>\n",
       "      <td>Soja</td>\n",
       "      <td>40.54</td>\n",
       "      <td>6.35</td>\n",
       "      <td>19.24</td>\n",
       "      <td>184.82</td>\n",
       "      <td>76.50</td>\n",
       "      <td>5.21</td>\n",
       "      <td>49.78</td>\n",
       "      <td>5598.46</td>\n",
       "      <td>0.50</td>\n",
       "      <td>False</td>\n",
       "      <td>True</td>\n",
       "      <td>False</td>\n",
       "      <td>False</td>\n",
       "      <td>False</td>\n",
       "      <td>False</td>\n",
       "      <td>False</td>\n",
       "    </tr>\n",
       "    <tr>\n",
       "      <th>3</th>\n",
       "      <td>Trigo</td>\n",
       "      <td>13.39</td>\n",
       "      <td>6.36</td>\n",
       "      <td>23.47</td>\n",
       "      <td>166.76</td>\n",
       "      <td>76.45</td>\n",
       "      <td>8.04</td>\n",
       "      <td>23.12</td>\n",
       "      <td>2437.08</td>\n",
       "      <td>0.55</td>\n",
       "      <td>True</td>\n",
       "      <td>False</td>\n",
       "      <td>False</td>\n",
       "      <td>True</td>\n",
       "      <td>True</td>\n",
       "      <td>False</td>\n",
       "      <td>True</td>\n",
       "    </tr>\n",
       "    <tr>\n",
       "      <th>4</th>\n",
       "      <td>Soja</td>\n",
       "      <td>12.80</td>\n",
       "      <td>5.87</td>\n",
       "      <td>26.90</td>\n",
       "      <td>218.80</td>\n",
       "      <td>51.76</td>\n",
       "      <td>4.72</td>\n",
       "      <td>31.75</td>\n",
       "      <td>4629.49</td>\n",
       "      <td>0.42</td>\n",
       "      <td>False</td>\n",
       "      <td>False</td>\n",
       "      <td>True</td>\n",
       "      <td>False</td>\n",
       "      <td>True</td>\n",
       "      <td>False</td>\n",
       "      <td>False</td>\n",
       "    </tr>\n",
       "    <tr>\n",
       "      <th>...</th>\n",
       "      <td>...</td>\n",
       "      <td>...</td>\n",
       "      <td>...</td>\n",
       "      <td>...</td>\n",
       "      <td>...</td>\n",
       "      <td>...</td>\n",
       "      <td>...</td>\n",
       "      <td>...</td>\n",
       "      <td>...</td>\n",
       "      <td>...</td>\n",
       "      <td>...</td>\n",
       "      <td>...</td>\n",
       "      <td>...</td>\n",
       "      <td>...</td>\n",
       "      <td>...</td>\n",
       "      <td>...</td>\n",
       "      <td>...</td>\n",
       "    </tr>\n",
       "    <tr>\n",
       "      <th>158</th>\n",
       "      <td>Maiz</td>\n",
       "      <td>29.30</td>\n",
       "      <td>6.71</td>\n",
       "      <td>32.93</td>\n",
       "      <td>92.69</td>\n",
       "      <td>87.33</td>\n",
       "      <td>6.34</td>\n",
       "      <td>35.50</td>\n",
       "      <td>5528.08</td>\n",
       "      <td>0.31</td>\n",
       "      <td>False</td>\n",
       "      <td>True</td>\n",
       "      <td>True</td>\n",
       "      <td>False</td>\n",
       "      <td>False</td>\n",
       "      <td>False</td>\n",
       "      <td>True</td>\n",
       "    </tr>\n",
       "    <tr>\n",
       "      <th>159</th>\n",
       "      <td>Maiz</td>\n",
       "      <td>26.91</td>\n",
       "      <td>6.03</td>\n",
       "      <td>15.04</td>\n",
       "      <td>207.79</td>\n",
       "      <td>59.68</td>\n",
       "      <td>9.54</td>\n",
       "      <td>45.16</td>\n",
       "      <td>2023.56</td>\n",
       "      <td>0.30</td>\n",
       "      <td>True</td>\n",
       "      <td>False</td>\n",
       "      <td>False</td>\n",
       "      <td>False</td>\n",
       "      <td>False</td>\n",
       "      <td>False</td>\n",
       "      <td>False</td>\n",
       "    </tr>\n",
       "    <tr>\n",
       "      <th>160</th>\n",
       "      <td>Trigo</td>\n",
       "      <td>31.58</td>\n",
       "      <td>5.68</td>\n",
       "      <td>16.02</td>\n",
       "      <td>151.82</td>\n",
       "      <td>55.32</td>\n",
       "      <td>7.80</td>\n",
       "      <td>20.13</td>\n",
       "      <td>3708.29</td>\n",
       "      <td>0.47</td>\n",
       "      <td>False</td>\n",
       "      <td>False</td>\n",
       "      <td>False</td>\n",
       "      <td>True</td>\n",
       "      <td>True</td>\n",
       "      <td>False</td>\n",
       "      <td>True</td>\n",
       "    </tr>\n",
       "    <tr>\n",
       "      <th>161</th>\n",
       "      <td>Maiz</td>\n",
       "      <td>32.14</td>\n",
       "      <td>7.44</td>\n",
       "      <td>21.49</td>\n",
       "      <td>286.61</td>\n",
       "      <td>84.20</td>\n",
       "      <td>5.58</td>\n",
       "      <td>45.43</td>\n",
       "      <td>4503.82</td>\n",
       "      <td>0.88</td>\n",
       "      <td>False</td>\n",
       "      <td>False</td>\n",
       "      <td>False</td>\n",
       "      <td>False</td>\n",
       "      <td>False</td>\n",
       "      <td>False</td>\n",
       "      <td>False</td>\n",
       "    </tr>\n",
       "    <tr>\n",
       "      <th>162</th>\n",
       "      <td>Soja</td>\n",
       "      <td>38.61</td>\n",
       "      <td>6.20</td>\n",
       "      <td>17.08</td>\n",
       "      <td>279.06</td>\n",
       "      <td>73.09</td>\n",
       "      <td>9.60</td>\n",
       "      <td>43.78</td>\n",
       "      <td>2586.36</td>\n",
       "      <td>0.77</td>\n",
       "      <td>True</td>\n",
       "      <td>False</td>\n",
       "      <td>False</td>\n",
       "      <td>True</td>\n",
       "      <td>False</td>\n",
       "      <td>True</td>\n",
       "      <td>True</td>\n",
       "    </tr>\n",
       "  </tbody>\n",
       "</table>\n",
       "<p>163 rows × 17 columns</p>\n",
       "</div>"
      ],
      "text/plain": [
       "    tipoCultivo  humedadSuelo(%)  pHSuelo  temperatura(°C)  precipitacion(mm)  \\\n",
       "0         Trigo            29.32     7.16            27.37             265.43   \n",
       "1          Maiz            27.10     5.72            22.26             296.33   \n",
       "2          Soja            40.54     6.35            19.24             184.82   \n",
       "3         Trigo            13.39     6.36            23.47             166.76   \n",
       "4          Soja            12.80     5.87            26.90             218.80   \n",
       "..          ...              ...      ...              ...                ...   \n",
       "158        Maiz            29.30     6.71            32.93              92.69   \n",
       "159        Maiz            26.91     6.03            15.04             207.79   \n",
       "160       Trigo            31.58     5.68            16.02             151.82   \n",
       "161        Maiz            32.14     7.44            21.49             286.61   \n",
       "162        Soja            38.61     6.20            17.08             279.06   \n",
       "\n",
       "     humedad(%)  horasLuzSolar  mlPesticida  rendimientoKg_hectarea  \\\n",
       "0         68.87           8.23        15.26                 2931.16   \n",
       "1         80.34           5.44        47.61                 5264.09   \n",
       "2         76.50           5.21        49.78                 5598.46   \n",
       "3         76.45           8.04        23.12                 2437.08   \n",
       "4         51.76           4.72        31.75                 4629.49   \n",
       "..          ...            ...          ...                     ...   \n",
       "158       87.33           6.34        35.50                 5528.08   \n",
       "159       59.68           9.54        45.16                 2023.56   \n",
       "160       55.32           7.80        20.13                 3708.29   \n",
       "161       84.20           5.58        45.43                 4503.82   \n",
       "162       73.09           9.60        43.78                 2586.36   \n",
       "\n",
       "     indiceNDVI  tipoRiego_Goteo  tipoRiego_Manual  tipoFertilizante_Mixto  \\\n",
       "0          0.80             True             False                    True   \n",
       "1          0.70            False             False                    True   \n",
       "2          0.50            False              True                   False   \n",
       "3          0.55             True             False                   False   \n",
       "4          0.42            False             False                    True   \n",
       "..          ...              ...               ...                     ...   \n",
       "158        0.31            False              True                    True   \n",
       "159        0.30             True             False                   False   \n",
       "160        0.47            False             False                   False   \n",
       "161        0.88            False             False                   False   \n",
       "162        0.77             True             False                   False   \n",
       "\n",
       "     tipoFertilizante_Organico  estadoEnfermedadesCultivo_Moderate  \\\n",
       "0                        False                               False   \n",
       "1                        False                               False   \n",
       "2                        False                               False   \n",
       "3                         True                                True   \n",
       "4                        False                                True   \n",
       "..                         ...                                 ...   \n",
       "158                      False                               False   \n",
       "159                      False                               False   \n",
       "160                       True                                True   \n",
       "161                      False                               False   \n",
       "162                       True                               False   \n",
       "\n",
       "     estadoEnfermedadesCultivo_Severo  mas_120_dias  \n",
       "0                               False          True  \n",
       "1                               False          True  \n",
       "2                               False         False  \n",
       "3                               False          True  \n",
       "4                               False         False  \n",
       "..                                ...           ...  \n",
       "158                             False          True  \n",
       "159                             False         False  \n",
       "160                             False          True  \n",
       "161                             False         False  \n",
       "162                              True          True  \n",
       "\n",
       "[163 rows x 17 columns]"
      ]
     },
     "execution_count": 212,
     "metadata": {},
     "output_type": "execute_result"
    }
   ],
   "source": [
    "df['mas_120_dias'] = df['diasTotales'].apply(lambda x: True if x > 120 else False)\n",
    "df.drop(columns='diasTotales', inplace=True)\n",
    "\n",
    "df"
   ]
  },
  {
   "cell_type": "markdown",
   "id": "b0c4b83a",
   "metadata": {},
   "source": [
    "**Normalización de las variables**"
   ]
  },
  {
   "cell_type": "code",
   "execution_count": 213,
   "id": "7b81240f",
   "metadata": {},
   "outputs": [
    {
     "data": {
      "text/html": [
       "<div>\n",
       "<style scoped>\n",
       "    .dataframe tbody tr th:only-of-type {\n",
       "        vertical-align: middle;\n",
       "    }\n",
       "\n",
       "    .dataframe tbody tr th {\n",
       "        vertical-align: top;\n",
       "    }\n",
       "\n",
       "    .dataframe thead th {\n",
       "        text-align: right;\n",
       "    }\n",
       "</style>\n",
       "<table border=\"1\" class=\"dataframe\">\n",
       "  <thead>\n",
       "    <tr style=\"text-align: right;\">\n",
       "      <th></th>\n",
       "      <th>humedadSuelo(%)</th>\n",
       "      <th>pHSuelo</th>\n",
       "      <th>temperatura(°C)</th>\n",
       "      <th>precipitacion(mm)</th>\n",
       "      <th>humedad(%)</th>\n",
       "      <th>horasLuzSolar</th>\n",
       "      <th>mlPesticida</th>\n",
       "      <th>rendimientoKg_hectarea</th>\n",
       "      <th>indiceNDVI</th>\n",
       "      <th>tipoRiego_Goteo</th>\n",
       "      <th>tipoRiego_Manual</th>\n",
       "      <th>tipoFertilizante_Mixto</th>\n",
       "      <th>tipoFertilizante_Organico</th>\n",
       "      <th>estadoEnfermedadesCultivo_Moderate</th>\n",
       "      <th>estadoEnfermedadesCultivo_Severo</th>\n",
       "      <th>mas_120_dias</th>\n",
       "    </tr>\n",
       "  </thead>\n",
       "  <tbody>\n",
       "    <tr>\n",
       "      <th>0</th>\n",
       "      <td>0.394017</td>\n",
       "      <td>1.040927</td>\n",
       "      <td>0.468253</td>\n",
       "      <td>1.084461</td>\n",
       "      <td>0.129232</td>\n",
       "      <td>0.715899</td>\n",
       "      <td>-0.807933</td>\n",
       "      <td>-1.060408</td>\n",
       "      <td>1.132157</td>\n",
       "      <td>1.525297</td>\n",
       "      <td>-0.733305</td>\n",
       "      <td>1.420746</td>\n",
       "      <td>-0.694131</td>\n",
       "      <td>-0.694131</td>\n",
       "      <td>-0.684448</td>\n",
       "      <td>1.069924</td>\n",
       "    </tr>\n",
       "    <tr>\n",
       "      <th>1</th>\n",
       "      <td>0.173440</td>\n",
       "      <td>-1.323141</td>\n",
       "      <td>-0.511037</td>\n",
       "      <td>1.501523</td>\n",
       "      <td>0.951804</td>\n",
       "      <td>-0.874106</td>\n",
       "      <td>1.589491</td>\n",
       "      <td>0.961703</td>\n",
       "      <td>0.569187</td>\n",
       "      <td>-0.655610</td>\n",
       "      <td>-0.733305</td>\n",
       "      <td>1.420746</td>\n",
       "      <td>-0.694131</td>\n",
       "      <td>-0.694131</td>\n",
       "      <td>-0.684448</td>\n",
       "      <td>1.069924</td>\n",
       "    </tr>\n",
       "    <tr>\n",
       "      <th>2</th>\n",
       "      <td>1.508827</td>\n",
       "      <td>-0.288861</td>\n",
       "      <td>-1.089796</td>\n",
       "      <td>-0.003546</td>\n",
       "      <td>0.676418</td>\n",
       "      <td>-1.005182</td>\n",
       "      <td>1.750307</td>\n",
       "      <td>1.251525</td>\n",
       "      <td>-0.556753</td>\n",
       "      <td>-0.655610</td>\n",
       "      <td>1.363690</td>\n",
       "      <td>-0.703856</td>\n",
       "      <td>-0.694131</td>\n",
       "      <td>-0.694131</td>\n",
       "      <td>-0.684448</td>\n",
       "      <td>-0.934646</td>\n",
       "    </tr>\n",
       "    <tr>\n",
       "      <th>3</th>\n",
       "      <td>-1.188775</td>\n",
       "      <td>-0.272444</td>\n",
       "      <td>-0.279151</td>\n",
       "      <td>-0.247304</td>\n",
       "      <td>0.672833</td>\n",
       "      <td>0.607619</td>\n",
       "      <td>-0.225437</td>\n",
       "      <td>-1.488661</td>\n",
       "      <td>-0.275268</td>\n",
       "      <td>1.525297</td>\n",
       "      <td>-0.733305</td>\n",
       "      <td>-0.703856</td>\n",
       "      <td>1.440650</td>\n",
       "      <td>1.440650</td>\n",
       "      <td>-0.684448</td>\n",
       "      <td>1.069924</td>\n",
       "    </tr>\n",
       "    <tr>\n",
       "      <th>4</th>\n",
       "      <td>-1.247397</td>\n",
       "      <td>-1.076884</td>\n",
       "      <td>0.378181</td>\n",
       "      <td>0.455088</td>\n",
       "      <td>-1.097812</td>\n",
       "      <td>-1.284430</td>\n",
       "      <td>0.414123</td>\n",
       "      <td>0.411652</td>\n",
       "      <td>-1.007130</td>\n",
       "      <td>-0.655610</td>\n",
       "      <td>-0.733305</td>\n",
       "      <td>1.420746</td>\n",
       "      <td>-0.694131</td>\n",
       "      <td>1.440650</td>\n",
       "      <td>-0.684448</td>\n",
       "      <td>-0.934646</td>\n",
       "    </tr>\n",
       "    <tr>\n",
       "      <th>...</th>\n",
       "      <td>...</td>\n",
       "      <td>...</td>\n",
       "      <td>...</td>\n",
       "      <td>...</td>\n",
       "      <td>...</td>\n",
       "      <td>...</td>\n",
       "      <td>...</td>\n",
       "      <td>...</td>\n",
       "      <td>...</td>\n",
       "      <td>...</td>\n",
       "      <td>...</td>\n",
       "      <td>...</td>\n",
       "      <td>...</td>\n",
       "      <td>...</td>\n",
       "      <td>...</td>\n",
       "      <td>...</td>\n",
       "    </tr>\n",
       "    <tr>\n",
       "      <th>158</th>\n",
       "      <td>0.392030</td>\n",
       "      <td>0.302156</td>\n",
       "      <td>1.533782</td>\n",
       "      <td>-1.247039</td>\n",
       "      <td>1.453092</td>\n",
       "      <td>-0.361201</td>\n",
       "      <td>0.692032</td>\n",
       "      <td>1.190522</td>\n",
       "      <td>-1.626397</td>\n",
       "      <td>-0.655610</td>\n",
       "      <td>1.363690</td>\n",
       "      <td>1.420746</td>\n",
       "      <td>-0.694131</td>\n",
       "      <td>-0.694131</td>\n",
       "      <td>-0.684448</td>\n",
       "      <td>1.069924</td>\n",
       "    </tr>\n",
       "    <tr>\n",
       "      <th>159</th>\n",
       "      <td>0.154561</td>\n",
       "      <td>-0.814210</td>\n",
       "      <td>-1.894692</td>\n",
       "      <td>0.306484</td>\n",
       "      <td>-0.529829</td>\n",
       "      <td>1.462461</td>\n",
       "      <td>1.407924</td>\n",
       "      <td>-1.847087</td>\n",
       "      <td>-1.682694</td>\n",
       "      <td>1.525297</td>\n",
       "      <td>-0.733305</td>\n",
       "      <td>-0.703856</td>\n",
       "      <td>-0.694131</td>\n",
       "      <td>-0.694131</td>\n",
       "      <td>-0.684448</td>\n",
       "      <td>-0.934646</td>\n",
       "    </tr>\n",
       "    <tr>\n",
       "      <th>160</th>\n",
       "      <td>0.618569</td>\n",
       "      <td>-1.388809</td>\n",
       "      <td>-1.706883</td>\n",
       "      <td>-0.448952</td>\n",
       "      <td>-0.842507</td>\n",
       "      <td>0.470845</td>\n",
       "      <td>-0.447022</td>\n",
       "      <td>-0.386816</td>\n",
       "      <td>-0.725645</td>\n",
       "      <td>-0.655610</td>\n",
       "      <td>-0.733305</td>\n",
       "      <td>-0.703856</td>\n",
       "      <td>1.440650</td>\n",
       "      <td>1.440650</td>\n",
       "      <td>-0.684448</td>\n",
       "      <td>1.069924</td>\n",
       "    </tr>\n",
       "    <tr>\n",
       "      <th>161</th>\n",
       "      <td>0.674210</td>\n",
       "      <td>1.500607</td>\n",
       "      <td>-0.658602</td>\n",
       "      <td>1.370331</td>\n",
       "      <td>1.228624</td>\n",
       "      <td>-0.794321</td>\n",
       "      <td>1.427933</td>\n",
       "      <td>0.302725</td>\n",
       "      <td>1.582534</td>\n",
       "      <td>-0.655610</td>\n",
       "      <td>-0.733305</td>\n",
       "      <td>-0.703856</td>\n",
       "      <td>-0.694131</td>\n",
       "      <td>-0.694131</td>\n",
       "      <td>-0.684448</td>\n",
       "      <td>-0.934646</td>\n",
       "    </tr>\n",
       "    <tr>\n",
       "      <th>162</th>\n",
       "      <td>1.317064</td>\n",
       "      <td>-0.535118</td>\n",
       "      <td>-1.503742</td>\n",
       "      <td>1.268427</td>\n",
       "      <td>0.431870</td>\n",
       "      <td>1.496655</td>\n",
       "      <td>1.305654</td>\n",
       "      <td>-1.359270</td>\n",
       "      <td>0.963266</td>\n",
       "      <td>1.525297</td>\n",
       "      <td>-0.733305</td>\n",
       "      <td>-0.703856</td>\n",
       "      <td>1.440650</td>\n",
       "      <td>-0.694131</td>\n",
       "      <td>1.461032</td>\n",
       "      <td>1.069924</td>\n",
       "    </tr>\n",
       "  </tbody>\n",
       "</table>\n",
       "<p>163 rows × 16 columns</p>\n",
       "</div>"
      ],
      "text/plain": [
       "     humedadSuelo(%)   pHSuelo  temperatura(°C)  precipitacion(mm)  \\\n",
       "0           0.394017  1.040927         0.468253           1.084461   \n",
       "1           0.173440 -1.323141        -0.511037           1.501523   \n",
       "2           1.508827 -0.288861        -1.089796          -0.003546   \n",
       "3          -1.188775 -0.272444        -0.279151          -0.247304   \n",
       "4          -1.247397 -1.076884         0.378181           0.455088   \n",
       "..               ...       ...              ...                ...   \n",
       "158         0.392030  0.302156         1.533782          -1.247039   \n",
       "159         0.154561 -0.814210        -1.894692           0.306484   \n",
       "160         0.618569 -1.388809        -1.706883          -0.448952   \n",
       "161         0.674210  1.500607        -0.658602           1.370331   \n",
       "162         1.317064 -0.535118        -1.503742           1.268427   \n",
       "\n",
       "     humedad(%)  horasLuzSolar  mlPesticida  rendimientoKg_hectarea  \\\n",
       "0      0.129232       0.715899    -0.807933               -1.060408   \n",
       "1      0.951804      -0.874106     1.589491                0.961703   \n",
       "2      0.676418      -1.005182     1.750307                1.251525   \n",
       "3      0.672833       0.607619    -0.225437               -1.488661   \n",
       "4     -1.097812      -1.284430     0.414123                0.411652   \n",
       "..          ...            ...          ...                     ...   \n",
       "158    1.453092      -0.361201     0.692032                1.190522   \n",
       "159   -0.529829       1.462461     1.407924               -1.847087   \n",
       "160   -0.842507       0.470845    -0.447022               -0.386816   \n",
       "161    1.228624      -0.794321     1.427933                0.302725   \n",
       "162    0.431870       1.496655     1.305654               -1.359270   \n",
       "\n",
       "     indiceNDVI  tipoRiego_Goteo  tipoRiego_Manual  tipoFertilizante_Mixto  \\\n",
       "0      1.132157         1.525297         -0.733305                1.420746   \n",
       "1      0.569187        -0.655610         -0.733305                1.420746   \n",
       "2     -0.556753        -0.655610          1.363690               -0.703856   \n",
       "3     -0.275268         1.525297         -0.733305               -0.703856   \n",
       "4     -1.007130        -0.655610         -0.733305                1.420746   \n",
       "..          ...              ...               ...                     ...   \n",
       "158   -1.626397        -0.655610          1.363690                1.420746   \n",
       "159   -1.682694         1.525297         -0.733305               -0.703856   \n",
       "160   -0.725645        -0.655610         -0.733305               -0.703856   \n",
       "161    1.582534        -0.655610         -0.733305               -0.703856   \n",
       "162    0.963266         1.525297         -0.733305               -0.703856   \n",
       "\n",
       "     tipoFertilizante_Organico  estadoEnfermedadesCultivo_Moderate  \\\n",
       "0                    -0.694131                           -0.694131   \n",
       "1                    -0.694131                           -0.694131   \n",
       "2                    -0.694131                           -0.694131   \n",
       "3                     1.440650                            1.440650   \n",
       "4                    -0.694131                            1.440650   \n",
       "..                         ...                                 ...   \n",
       "158                  -0.694131                           -0.694131   \n",
       "159                  -0.694131                           -0.694131   \n",
       "160                   1.440650                            1.440650   \n",
       "161                  -0.694131                           -0.694131   \n",
       "162                   1.440650                           -0.694131   \n",
       "\n",
       "     estadoEnfermedadesCultivo_Severo  mas_120_dias  \n",
       "0                           -0.684448      1.069924  \n",
       "1                           -0.684448      1.069924  \n",
       "2                           -0.684448     -0.934646  \n",
       "3                           -0.684448      1.069924  \n",
       "4                           -0.684448     -0.934646  \n",
       "..                                ...           ...  \n",
       "158                         -0.684448      1.069924  \n",
       "159                         -0.684448     -0.934646  \n",
       "160                         -0.684448      1.069924  \n",
       "161                         -0.684448     -0.934646  \n",
       "162                          1.461032      1.069924  \n",
       "\n",
       "[163 rows x 16 columns]"
      ]
     },
     "execution_count": 213,
     "metadata": {},
     "output_type": "execute_result"
    }
   ],
   "source": [
    "X = df.drop(columns=['tipoCultivo'])\n",
    "y = df['tipoCultivo']\n",
    "\n",
    "scaler = StandardScaler().set_output(transform=\"pandas\")\n",
    "df_escalado = scaler.fit_transform(X)\n",
    "df_escalado"
   ]
  },
  {
   "cell_type": "markdown",
   "id": "313e0416",
   "metadata": {},
   "source": [
    "# PCA"
   ]
  },
  {
   "cell_type": "code",
   "execution_count": 214,
   "id": "3f8c6b04",
   "metadata": {},
   "outputs": [
    {
     "data": {
      "text/html": [
       "<div>\n",
       "<style scoped>\n",
       "    .dataframe tbody tr th:only-of-type {\n",
       "        vertical-align: middle;\n",
       "    }\n",
       "\n",
       "    .dataframe tbody tr th {\n",
       "        vertical-align: top;\n",
       "    }\n",
       "\n",
       "    .dataframe thead th {\n",
       "        text-align: right;\n",
       "    }\n",
       "</style>\n",
       "<table border=\"1\" class=\"dataframe\">\n",
       "  <thead>\n",
       "    <tr style=\"text-align: right;\">\n",
       "      <th></th>\n",
       "      <th>PC1</th>\n",
       "      <th>PC2</th>\n",
       "      <th>PC3</th>\n",
       "      <th>PC4</th>\n",
       "      <th>PC5</th>\n",
       "      <th>PC6</th>\n",
       "      <th>PC7</th>\n",
       "      <th>PC8</th>\n",
       "      <th>PC9</th>\n",
       "      <th>PC10</th>\n",
       "      <th>PC11</th>\n",
       "      <th>PC12</th>\n",
       "      <th>PC13</th>\n",
       "      <th>PC14</th>\n",
       "      <th>PC15</th>\n",
       "      <th>PC16</th>\n",
       "      <th>tipoCultivo</th>\n",
       "    </tr>\n",
       "  </thead>\n",
       "  <tbody>\n",
       "    <tr>\n",
       "      <th>0</th>\n",
       "      <td>-0.068315</td>\n",
       "      <td>-0.430961</td>\n",
       "      <td>2.448585</td>\n",
       "      <td>0.453308</td>\n",
       "      <td>0.778546</td>\n",
       "      <td>-0.079128</td>\n",
       "      <td>-1.411301</td>\n",
       "      <td>0.213420</td>\n",
       "      <td>1.245448</td>\n",
       "      <td>0.277594</td>\n",
       "      <td>0.053400</td>\n",
       "      <td>1.255125</td>\n",
       "      <td>-0.947609</td>\n",
       "      <td>-0.145656</td>\n",
       "      <td>0.614417</td>\n",
       "      <td>-0.371073</td>\n",
       "      <td>Trigo</td>\n",
       "    </tr>\n",
       "    <tr>\n",
       "      <th>1</th>\n",
       "      <td>0.959151</td>\n",
       "      <td>0.744856</td>\n",
       "      <td>0.500574</td>\n",
       "      <td>-1.467113</td>\n",
       "      <td>1.723245</td>\n",
       "      <td>1.368822</td>\n",
       "      <td>0.272948</td>\n",
       "      <td>0.886305</td>\n",
       "      <td>1.089267</td>\n",
       "      <td>0.620799</td>\n",
       "      <td>-1.222328</td>\n",
       "      <td>-0.478189</td>\n",
       "      <td>0.494090</td>\n",
       "      <td>-0.876869</td>\n",
       "      <td>-0.194026</td>\n",
       "      <td>-1.174045</td>\n",
       "      <td>Maiz</td>\n",
       "    </tr>\n",
       "    <tr>\n",
       "      <th>2</th>\n",
       "      <td>1.174755</td>\n",
       "      <td>1.036803</td>\n",
       "      <td>-1.254872</td>\n",
       "      <td>-0.277938</td>\n",
       "      <td>0.499558</td>\n",
       "      <td>0.875947</td>\n",
       "      <td>0.908315</td>\n",
       "      <td>-0.935845</td>\n",
       "      <td>-0.641523</td>\n",
       "      <td>2.143201</td>\n",
       "      <td>0.111406</td>\n",
       "      <td>-1.156677</td>\n",
       "      <td>0.519555</td>\n",
       "      <td>-1.225925</td>\n",
       "      <td>0.222888</td>\n",
       "      <td>0.209024</td>\n",
       "      <td>Soja</td>\n",
       "    </tr>\n",
       "    <tr>\n",
       "      <th>3</th>\n",
       "      <td>-2.349818</td>\n",
       "      <td>-1.389282</td>\n",
       "      <td>-0.859643</td>\n",
       "      <td>-0.040962</td>\n",
       "      <td>-0.202887</td>\n",
       "      <td>-0.023863</td>\n",
       "      <td>-0.727274</td>\n",
       "      <td>1.701050</td>\n",
       "      <td>0.814356</td>\n",
       "      <td>-0.045609</td>\n",
       "      <td>0.134839</td>\n",
       "      <td>0.551898</td>\n",
       "      <td>-0.767000</td>\n",
       "      <td>0.610383</td>\n",
       "      <td>0.386530</td>\n",
       "      <td>0.399999</td>\n",
       "      <td>Trigo</td>\n",
       "    </tr>\n",
       "    <tr>\n",
       "      <th>4</th>\n",
       "      <td>0.977342</td>\n",
       "      <td>-1.927715</td>\n",
       "      <td>-0.310204</td>\n",
       "      <td>-1.930395</td>\n",
       "      <td>1.191368</td>\n",
       "      <td>-0.479648</td>\n",
       "      <td>0.720434</td>\n",
       "      <td>-0.087239</td>\n",
       "      <td>-0.419969</td>\n",
       "      <td>-0.951837</td>\n",
       "      <td>-0.567308</td>\n",
       "      <td>-1.108337</td>\n",
       "      <td>0.236096</td>\n",
       "      <td>0.616035</td>\n",
       "      <td>-0.269047</td>\n",
       "      <td>-0.592613</td>\n",
       "      <td>Soja</td>\n",
       "    </tr>\n",
       "    <tr>\n",
       "      <th>...</th>\n",
       "      <td>...</td>\n",
       "      <td>...</td>\n",
       "      <td>...</td>\n",
       "      <td>...</td>\n",
       "      <td>...</td>\n",
       "      <td>...</td>\n",
       "      <td>...</td>\n",
       "      <td>...</td>\n",
       "      <td>...</td>\n",
       "      <td>...</td>\n",
       "      <td>...</td>\n",
       "      <td>...</td>\n",
       "      <td>...</td>\n",
       "      <td>...</td>\n",
       "      <td>...</td>\n",
       "      <td>...</td>\n",
       "      <td>...</td>\n",
       "    </tr>\n",
       "    <tr>\n",
       "      <th>158</th>\n",
       "      <td>1.989092</td>\n",
       "      <td>0.940769</td>\n",
       "      <td>-0.203972</td>\n",
       "      <td>-1.189106</td>\n",
       "      <td>-0.576969</td>\n",
       "      <td>-0.113469</td>\n",
       "      <td>2.352749</td>\n",
       "      <td>0.486844</td>\n",
       "      <td>0.094168</td>\n",
       "      <td>0.827523</td>\n",
       "      <td>0.174285</td>\n",
       "      <td>1.066409</td>\n",
       "      <td>-1.378714</td>\n",
       "      <td>-0.320266</td>\n",
       "      <td>1.128849</td>\n",
       "      <td>-0.516197</td>\n",
       "      <td>Maiz</td>\n",
       "    </tr>\n",
       "    <tr>\n",
       "      <th>159</th>\n",
       "      <td>-2.028187</td>\n",
       "      <td>-0.451778</td>\n",
       "      <td>-0.130169</td>\n",
       "      <td>-1.889532</td>\n",
       "      <td>0.120233</td>\n",
       "      <td>1.032335</td>\n",
       "      <td>-2.187671</td>\n",
       "      <td>-0.779432</td>\n",
       "      <td>-1.486649</td>\n",
       "      <td>1.264580</td>\n",
       "      <td>0.721080</td>\n",
       "      <td>-0.722740</td>\n",
       "      <td>-0.905222</td>\n",
       "      <td>-0.662839</td>\n",
       "      <td>0.395700</td>\n",
       "      <td>0.188272</td>\n",
       "      <td>Maiz</td>\n",
       "    </tr>\n",
       "    <tr>\n",
       "      <th>160</th>\n",
       "      <td>-1.074850</td>\n",
       "      <td>-1.057926</td>\n",
       "      <td>-2.315932</td>\n",
       "      <td>-0.497614</td>\n",
       "      <td>-1.032655</td>\n",
       "      <td>-0.040340</td>\n",
       "      <td>-1.294190</td>\n",
       "      <td>0.207822</td>\n",
       "      <td>0.241152</td>\n",
       "      <td>0.355028</td>\n",
       "      <td>-1.240296</td>\n",
       "      <td>0.466718</td>\n",
       "      <td>0.573688</td>\n",
       "      <td>-0.057548</td>\n",
       "      <td>-0.904269</td>\n",
       "      <td>-0.835939</td>\n",
       "      <td>Trigo</td>\n",
       "    </tr>\n",
       "    <tr>\n",
       "      <th>161</th>\n",
       "      <td>0.201653</td>\n",
       "      <td>0.484339</td>\n",
       "      <td>0.985710</td>\n",
       "      <td>1.645693</td>\n",
       "      <td>1.595212</td>\n",
       "      <td>1.111281</td>\n",
       "      <td>0.406271</td>\n",
       "      <td>0.040438</td>\n",
       "      <td>0.215286</td>\n",
       "      <td>1.400133</td>\n",
       "      <td>0.534760</td>\n",
       "      <td>-1.700272</td>\n",
       "      <td>0.060210</td>\n",
       "      <td>-1.151800</td>\n",
       "      <td>-0.872823</td>\n",
       "      <td>-0.620387</td>\n",
       "      <td>Maiz</td>\n",
       "    </tr>\n",
       "    <tr>\n",
       "      <th>162</th>\n",
       "      <td>-2.378047</td>\n",
       "      <td>2.053920</td>\n",
       "      <td>0.107625</td>\n",
       "      <td>0.209707</td>\n",
       "      <td>0.510548</td>\n",
       "      <td>1.055178</td>\n",
       "      <td>-2.683589</td>\n",
       "      <td>0.642496</td>\n",
       "      <td>0.542557</td>\n",
       "      <td>1.263504</td>\n",
       "      <td>0.137221</td>\n",
       "      <td>0.469374</td>\n",
       "      <td>0.671810</td>\n",
       "      <td>0.643384</td>\n",
       "      <td>-0.190534</td>\n",
       "      <td>-0.211900</td>\n",
       "      <td>Soja</td>\n",
       "    </tr>\n",
       "  </tbody>\n",
       "</table>\n",
       "<p>163 rows × 17 columns</p>\n",
       "</div>"
      ],
      "text/plain": [
       "          PC1       PC2       PC3       PC4       PC5       PC6       PC7  \\\n",
       "0   -0.068315 -0.430961  2.448585  0.453308  0.778546 -0.079128 -1.411301   \n",
       "1    0.959151  0.744856  0.500574 -1.467113  1.723245  1.368822  0.272948   \n",
       "2    1.174755  1.036803 -1.254872 -0.277938  0.499558  0.875947  0.908315   \n",
       "3   -2.349818 -1.389282 -0.859643 -0.040962 -0.202887 -0.023863 -0.727274   \n",
       "4    0.977342 -1.927715 -0.310204 -1.930395  1.191368 -0.479648  0.720434   \n",
       "..        ...       ...       ...       ...       ...       ...       ...   \n",
       "158  1.989092  0.940769 -0.203972 -1.189106 -0.576969 -0.113469  2.352749   \n",
       "159 -2.028187 -0.451778 -0.130169 -1.889532  0.120233  1.032335 -2.187671   \n",
       "160 -1.074850 -1.057926 -2.315932 -0.497614 -1.032655 -0.040340 -1.294190   \n",
       "161  0.201653  0.484339  0.985710  1.645693  1.595212  1.111281  0.406271   \n",
       "162 -2.378047  2.053920  0.107625  0.209707  0.510548  1.055178 -2.683589   \n",
       "\n",
       "          PC8       PC9      PC10      PC11      PC12      PC13      PC14  \\\n",
       "0    0.213420  1.245448  0.277594  0.053400  1.255125 -0.947609 -0.145656   \n",
       "1    0.886305  1.089267  0.620799 -1.222328 -0.478189  0.494090 -0.876869   \n",
       "2   -0.935845 -0.641523  2.143201  0.111406 -1.156677  0.519555 -1.225925   \n",
       "3    1.701050  0.814356 -0.045609  0.134839  0.551898 -0.767000  0.610383   \n",
       "4   -0.087239 -0.419969 -0.951837 -0.567308 -1.108337  0.236096  0.616035   \n",
       "..        ...       ...       ...       ...       ...       ...       ...   \n",
       "158  0.486844  0.094168  0.827523  0.174285  1.066409 -1.378714 -0.320266   \n",
       "159 -0.779432 -1.486649  1.264580  0.721080 -0.722740 -0.905222 -0.662839   \n",
       "160  0.207822  0.241152  0.355028 -1.240296  0.466718  0.573688 -0.057548   \n",
       "161  0.040438  0.215286  1.400133  0.534760 -1.700272  0.060210 -1.151800   \n",
       "162  0.642496  0.542557  1.263504  0.137221  0.469374  0.671810  0.643384   \n",
       "\n",
       "         PC15      PC16 tipoCultivo  \n",
       "0    0.614417 -0.371073       Trigo  \n",
       "1   -0.194026 -1.174045        Maiz  \n",
       "2    0.222888  0.209024        Soja  \n",
       "3    0.386530  0.399999       Trigo  \n",
       "4   -0.269047 -0.592613        Soja  \n",
       "..        ...       ...         ...  \n",
       "158  1.128849 -0.516197        Maiz  \n",
       "159  0.395700  0.188272        Maiz  \n",
       "160 -0.904269 -0.835939       Trigo  \n",
       "161 -0.872823 -0.620387        Maiz  \n",
       "162 -0.190534 -0.211900        Soja  \n",
       "\n",
       "[163 rows x 17 columns]"
      ]
     },
     "execution_count": 214,
     "metadata": {},
     "output_type": "execute_result"
    }
   ],
   "source": [
    "# Obtener todas las componentes principales\n",
    "pca = PCA(n_components=X.shape[1])\n",
    "\n",
    "pca_features = pca.fit_transform(df_escalado)\n",
    "\n",
    "# PC dataframe\n",
    "pca_df = pd.DataFrame(\n",
    "    data=pca_features,\n",
    "    columns=['PC1', 'PC2', 'PC3', 'PC4', 'PC5', 'PC6', 'PC7', 'PC8', 'PC9',\n",
    "             'PC10', 'PC11', 'PC12', 'PC13', 'PC14', 'PC15', 'PC16' ])\n",
    "pca_df['tipoCultivo'] = y\n",
    "\n",
    "pca_df"
   ]
  },
  {
   "cell_type": "code",
   "execution_count": 215,
   "id": "7974b9b7",
   "metadata": {},
   "outputs": [
    {
     "name": "stdout",
     "output_type": "stream",
     "text": [
      "<class 'pandas.core.frame.DataFrame'>\n",
      "RangeIndex: 163 entries, 0 to 162\n",
      "Data columns (total 17 columns):\n",
      " #   Column       Non-Null Count  Dtype  \n",
      "---  ------       --------------  -----  \n",
      " 0   PC1          163 non-null    float64\n",
      " 1   PC2          163 non-null    float64\n",
      " 2   PC3          163 non-null    float64\n",
      " 3   PC4          163 non-null    float64\n",
      " 4   PC5          163 non-null    float64\n",
      " 5   PC6          163 non-null    float64\n",
      " 6   PC7          163 non-null    float64\n",
      " 7   PC8          163 non-null    float64\n",
      " 8   PC9          163 non-null    float64\n",
      " 9   PC10         163 non-null    float64\n",
      " 10  PC11         163 non-null    float64\n",
      " 11  PC12         163 non-null    float64\n",
      " 12  PC13         163 non-null    float64\n",
      " 13  PC14         163 non-null    float64\n",
      " 14  PC15         163 non-null    float64\n",
      " 15  PC16         163 non-null    float64\n",
      " 16  tipoCultivo  163 non-null    object \n",
      "dtypes: float64(16), object(1)\n",
      "memory usage: 21.8+ KB\n"
     ]
    }
   ],
   "source": [
    "pca_df.info()"
   ]
  },
  {
   "cell_type": "markdown",
   "id": "0a8596b9",
   "metadata": {},
   "source": [
    "componentes principales?"
   ]
  },
  {
   "cell_type": "code",
   "execution_count": 216,
   "id": "6364e927",
   "metadata": {},
   "outputs": [],
   "source": [
    "# Creamos función para acumular la varianza\n",
    "def acumular(numbers):\n",
    "     sum = 0\n",
    "     var_c = []\n",
    "     for num in numbers:\n",
    "        sum += num\n",
    "        var_c.append(sum)\n",
    "     return var_c"
   ]
  },
  {
   "cell_type": "code",
   "execution_count": 217,
   "id": "704cefa9",
   "metadata": {},
   "outputs": [
    {
     "data": {
      "text/html": [
       "<div>\n",
       "<style scoped>\n",
       "    .dataframe tbody tr th:only-of-type {\n",
       "        vertical-align: middle;\n",
       "    }\n",
       "\n",
       "    .dataframe tbody tr th {\n",
       "        vertical-align: top;\n",
       "    }\n",
       "\n",
       "    .dataframe thead th {\n",
       "        text-align: right;\n",
       "    }\n",
       "</style>\n",
       "<table border=\"1\" class=\"dataframe\">\n",
       "  <thead>\n",
       "    <tr style=\"text-align: right;\">\n",
       "      <th></th>\n",
       "      <th>Eigenvalues</th>\n",
       "      <th>Proporción de variancia explicada</th>\n",
       "      <th>Proporción acumulado de variancia explicada</th>\n",
       "    </tr>\n",
       "  </thead>\n",
       "  <tbody>\n",
       "    <tr>\n",
       "      <th>0</th>\n",
       "      <td>1.736272</td>\n",
       "      <td>0.107851</td>\n",
       "      <td>0.107851</td>\n",
       "    </tr>\n",
       "    <tr>\n",
       "      <th>1</th>\n",
       "      <td>1.647325</td>\n",
       "      <td>0.102326</td>\n",
       "      <td>0.210177</td>\n",
       "    </tr>\n",
       "    <tr>\n",
       "      <th>2</th>\n",
       "      <td>1.536375</td>\n",
       "      <td>0.095434</td>\n",
       "      <td>0.305612</td>\n",
       "    </tr>\n",
       "    <tr>\n",
       "      <th>3</th>\n",
       "      <td>1.266016</td>\n",
       "      <td>0.078641</td>\n",
       "      <td>0.384252</td>\n",
       "    </tr>\n",
       "    <tr>\n",
       "      <th>4</th>\n",
       "      <td>1.252107</td>\n",
       "      <td>0.077777</td>\n",
       "      <td>0.462029</td>\n",
       "    </tr>\n",
       "    <tr>\n",
       "      <th>5</th>\n",
       "      <td>1.195375</td>\n",
       "      <td>0.074253</td>\n",
       "      <td>0.536282</td>\n",
       "    </tr>\n",
       "    <tr>\n",
       "      <th>6</th>\n",
       "      <td>1.038544</td>\n",
       "      <td>0.064511</td>\n",
       "      <td>0.600792</td>\n",
       "    </tr>\n",
       "    <tr>\n",
       "      <th>7</th>\n",
       "      <td>1.002932</td>\n",
       "      <td>0.062299</td>\n",
       "      <td>0.663091</td>\n",
       "    </tr>\n",
       "    <tr>\n",
       "      <th>8</th>\n",
       "      <td>0.969880</td>\n",
       "      <td>0.060246</td>\n",
       "      <td>0.723337</td>\n",
       "    </tr>\n",
       "    <tr>\n",
       "      <th>9</th>\n",
       "      <td>0.946158</td>\n",
       "      <td>0.058772</td>\n",
       "      <td>0.782109</td>\n",
       "    </tr>\n",
       "    <tr>\n",
       "      <th>10</th>\n",
       "      <td>0.772793</td>\n",
       "      <td>0.048003</td>\n",
       "      <td>0.830112</td>\n",
       "    </tr>\n",
       "    <tr>\n",
       "      <th>11</th>\n",
       "      <td>0.741415</td>\n",
       "      <td>0.046054</td>\n",
       "      <td>0.876166</td>\n",
       "    </tr>\n",
       "    <tr>\n",
       "      <th>12</th>\n",
       "      <td>0.645601</td>\n",
       "      <td>0.040103</td>\n",
       "      <td>0.916269</td>\n",
       "    </tr>\n",
       "    <tr>\n",
       "      <th>13</th>\n",
       "      <td>0.515798</td>\n",
       "      <td>0.032040</td>\n",
       "      <td>0.948308</td>\n",
       "    </tr>\n",
       "    <tr>\n",
       "      <th>14</th>\n",
       "      <td>0.458042</td>\n",
       "      <td>0.028452</td>\n",
       "      <td>0.976760</td>\n",
       "    </tr>\n",
       "    <tr>\n",
       "      <th>15</th>\n",
       "      <td>0.374132</td>\n",
       "      <td>0.023240</td>\n",
       "      <td>1.000000</td>\n",
       "    </tr>\n",
       "  </tbody>\n",
       "</table>\n",
       "</div>"
      ],
      "text/plain": [
       "    Eigenvalues  Proporción de variancia explicada  \\\n",
       "0      1.736272                           0.107851   \n",
       "1      1.647325                           0.102326   \n",
       "2      1.536375                           0.095434   \n",
       "3      1.266016                           0.078641   \n",
       "4      1.252107                           0.077777   \n",
       "5      1.195375                           0.074253   \n",
       "6      1.038544                           0.064511   \n",
       "7      1.002932                           0.062299   \n",
       "8      0.969880                           0.060246   \n",
       "9      0.946158                           0.058772   \n",
       "10     0.772793                           0.048003   \n",
       "11     0.741415                           0.046054   \n",
       "12     0.645601                           0.040103   \n",
       "13     0.515798                           0.032040   \n",
       "14     0.458042                           0.028452   \n",
       "15     0.374132                           0.023240   \n",
       "\n",
       "    Proporción acumulado de variancia explicada  \n",
       "0                                      0.107851  \n",
       "1                                      0.210177  \n",
       "2                                      0.305612  \n",
       "3                                      0.384252  \n",
       "4                                      0.462029  \n",
       "5                                      0.536282  \n",
       "6                                      0.600792  \n",
       "7                                      0.663091  \n",
       "8                                      0.723337  \n",
       "9                                      0.782109  \n",
       "10                                     0.830112  \n",
       "11                                     0.876166  \n",
       "12                                     0.916269  \n",
       "13                                     0.948308  \n",
       "14                                     0.976760  \n",
       "15                                     1.000000  "
      ]
     },
     "execution_count": 217,
     "metadata": {},
     "output_type": "execute_result"
    }
   ],
   "source": [
    "var_c = acumular(pca.explained_variance_ratio_)\n",
    "pca_rtd = pd.DataFrame({'Eigenvalues':pca.explained_variance_,\n",
    "                        'Proporción de variancia explicada':pca.explained_variance_ratio_,\n",
    "                        'Proporción acumulado de variancia explicada': var_c})\n",
    "pca_rtd"
   ]
  },
  {
   "cell_type": "code",
   "execution_count": 218,
   "id": "6fd7a32a",
   "metadata": {},
   "outputs": [
    {
     "data": {
      "image/png": "[encoded data removed]",
      "text/plain": [
       "<Figure size 640x480 with 1 Axes>"
      ]
     },
     "metadata": {},
     "output_type": "display_data"
    }
   ],
   "source": [
    "plt.bar(range(1,17), pca.explained_variance_ratio_,\n",
    "        alpha=0.5,\n",
    "        align='center')\n",
    "plt.step(range(1,17), np.cumsum(pca.explained_variance_ratio_),\n",
    "         where='mid',\n",
    "         color='red')\n",
    "plt.title('Varianza acumulada')\n",
    "plt.ylabel('Proporción de variancia explicada')\n",
    "plt.xlabel('Componente principales')\n",
    "plt.xticks([x for x in range(1,17,1)])\n",
    "plt.show()"
   ]
  },
  {
   "cell_type": "code",
   "execution_count": 219,
   "id": "534dd180",
   "metadata": {},
   "outputs": [],
   "source": [
    "pca_filtrado = pca_df[['PC1', 'PC2', 'PC3', 'PC4', 'PC5', 'PC6', 'PC7', 'PC8', 'PC9', 'tipoCultivo']]"
   ]
  },
  {
   "cell_type": "code",
   "execution_count": 220,
   "id": "b7d87291",
   "metadata": {},
   "outputs": [
    {
     "data": {
      "application/vnd.plotly.v1+json": {
       "config": {
        "plotlyServerURL": "https://plot.ly"
       },
       "data": [
        {
         "hovertemplate": "tipoCultivo=Trigo<br>0=%{x}<br>1=%{y}<extra></extra>",
         "legendgroup": "Trigo",
         "marker": {
          "color": "#1f77b4",
          "symbol": "circle"
         },
         "mode": "markers",
         "name": "Trigo",
         "orientation": "v",
         "showlegend": true,
         "type": "scatter",
         "x": {
          "bdata": "GVQpYhx9sb++oSdnbcwCwIyLANLgIu6/al0ev5LO2D/h/5XHLQDHv137b6Tsi2c/veeK1Tsi5D/lQ3QD9lH4P6jbuhGMi/W/8uaPeuF19D/hot2dZKYBwAZp2ucHy+e/4cfbGFXn6D8jpp6hcq3hP22b2hUnw96/zFRriIck2T+7nOE6U3fxv7YYTt8+Ft6/SqdVyIrCwr+JJIMcfcfvP0qorqFShwNAE9rl10in4T+V/2rBk4nqv8QzJCydkO6/H/N/5MxM8D9WZVNDXC0DwGttKjXZXvC/l2HWiLeH47/C+XAp7znWPx42nUf9eto/AvmpPCUu9b8l3R6oDATav720cVvk1/g/K4z6o/vd5z+pWYhfTaIDwJRmdtOSsOC/m7FhwxSC/j+skH1NiLfiv+WK92cjOeC/i6GbghSOxr9xK3yAX632v3hqNWW8quO/eShaZxgz2b80gq/HMNH5v3IhxyWNB94/UIB+X6bn1z999oqLJA/+vywD8X6VMvG/",
          "dtype": "f8"
         },
         "xaxis": "x",
         "y": {
          "bdata": "G02Hc9uU27+l9Y09gDr2v3XNOJM2j/6/e6a9zHnh+79d+xIKJRHbP0rg/IUlnss/QP0MqyWIAMBrNQJHg7jbv/N6UPZdmvw/nn8lHcSG9r+rimuKUQPyP72r0Umi7+e/Y7x4/9SJvL8hWb7FsLIGQF0ziaGav+E/t2Td4shO1T+Q3FIhJ/X1P9CJMnmZj7U/4M6hl8Qh/L8C3fM/nhQDQN2jc/SIxPI/P8sCKCql+z9NiedwJ3r7P554r60EOPO/EWbm733+4L/Xaa/Wmwq5vxtd17y5Jta/d2BviQzt8L+kK6A3TH/xPy+Xwp2JLtY/tdp01ZgS2r+eTLItgimdPz14r0REOeU/wjYUUXpnyj+qbc6GGmLyvyEXy/pFLNe/87gM6Sal0j+NBb2qAQz/Px7/epJ7lvQ/CrFZwTkCAsAC//J+q37tP0Uh2A/iR9+/w6ZFHhk9579ZW4Y/rTkCwE8GXzYel+C/wkGFDnsVkb+uLIrZeoXpP5VXnNVD7fC/",
          "dtype": "f8"
         },
         "yaxis": "y"
        },
        {
         "hovertemplate": "tipoCultivo=Maiz<br>0=%{x}<br>1=%{y}<extra></extra>",
         "legendgroup": "Maiz",
         "marker": {
          "color": "#8c564b",
          "symbol": "circle"
         },
         "mode": "markers",
         "name": "Maiz",
         "orientation": "v",
         "showlegend": true,
         "type": "scatter",
         "x": {
          "bdata": "eR9Hx12x7j+3Vc7mQRznv1aWO/iNgQDAOvMnHDSTxj+LUW+U2+vSPwSLdkrVQ/W/dUMDurnJ6b9JpSM/oUzwv7wfXnWbHN0/ciqJAE9rA0DEphHOtuS4P65819Ut5ug/rcLtTmSiBUDtOuSMH0v6Px91q/cSFwbAT7eC4mkt9D/27ntX9ovpP7/jx2JIAfE/qo4VWuYglr+6w4NDNPz8P0j9Ojm18OE/gIf6GzrQ4D9teUjj+qsCwHnBWpS5adc/1Vz0MtXa9T8R4zauSOP8Pw3Yc7ikkvE/9N9NNcve4L+bQxyGXXfcv3xGDUAv/LA/gVA8nWTd+b+dIc4RWIQAwNAwaQuDnPk/sva9wnsM5r9Ps8bnmibOvzgvUydjm7E/Tq+jhE4g7D+ON6nvur8BQDUA3k+u7uE/G+a/9XrB5b+Bc5H3N4/ZP29zucqFbuI/AoeNvc9cy7+yws+bI6bevxj0UvlRg/E/jYbJ3b3i+T/pGHHEORfpPwysFtULvPQ/kbOadKX79L9kpt8ylWLNv38WF/OzD8Y/gxIJVVLT/z/rLhQrujkAwHQYRYrFz8k/",
          "dtype": "f8"
         },
         "xaxis": "x",
         "y": {
          "bdata": "8Mad2tzV5z9h1Hey14e9v4ZMQqfxPes/VHgvxwTwxb+uhjLLZvT4P2W83hVdtva/eaKm6NNc779ol/GcuZP2v6Vm3V56Eos/4uaGzzF5+7/qYiTIDkcDwF6Wtpc6bOU/UqIOTR/B5r+gimVpxuLxv8OHfoqFb+s/a/vFjd8O7r/Nh5FT2lLsP/T+sDIPSes/8ZSXEyNOA0DdEZqHOKjqv+1IsUkKNL2/tSyVFHul+r+EwMs5Gj3CP5+VfEH+jAfAsa3DWZZZ/z8QPAOYg4/8Pwwyu/iG3++/aucMh3w59b9uT1db1Triv1L3nqS1cO8/HFs3uem18r/kds+gM7XAPx01bRWlW/y/M+CK6oI95z+1IF9ro63VPxkDaZEFQPY/EYpj6h6PAcDAh2eekzjGv5GCCFSn9fQ/AKQ2g8dfBED/EshqFmoBwAPqXkeOu/m/q1jofqN44b8ukB+gTO8AQDBIHChmI9s/cSS2KGLk1T/lf9mPqw3Rv5fmBlhiufm/TIG7rmLA0T+Ne8CUDlLXv7OROWaVDLS/ppfkKMca7j+uPMX17encv8taTv5q/94/",
          "dtype": "f8"
         },
         "yaxis": "y"
        },
        {
         "hovertemplate": "tipoCultivo=Soja<br>0=%{x}<br>1=%{y}<extra></extra>",
         "legendgroup": "Soja",
         "marker": {
          "color": "#9edae5",
          "symbol": "circle"
         },
         "mode": "markers",
         "name": "Soja",
         "orientation": "v",
         "showlegend": true,
         "type": "scatter",
         "x": {
          "bdata": "Ip5sh8vL8j+vcdwDY0bvPy2U1Cc5jOc/A6zjbIRt97/PlcQmyDj0P4BaIgD1dvQ/o90aKgBs4j9JUsyiycy4vyMQ41nPZvI/vzzbXVwz7D+3Kvx+r0vov25tCmF7rb4/2eQSEOZXBEAOgwCPBJv1vwYlMUJyV/Q/sQkaRmw17L++w+/T8RIDQAUikCd1rgDAYmUPBK+Yoj+u6YhB1fwEwM5pU8jEat2/eygIuapO8z+gHT7cy1mcv0mwBbqF36y/xsbITJO4AkA81LtBrosBQORc6a5WC8O/WDPQX9Ka8T/o0FesLeDqvzo/ZrH0xf+/dZP5OzRAvL9bITevcJT1v6slXrFWWANAHpnvxnsK5T9h15lJ2Zbyv0a4D1MbVKi/LaqCFgE/AEC72JrcKWj8v2rtNoBpfuI/u6o+QGVyBUAtbussGIXDPyDJKprBkOC/ukB5D7U7/b+wF4OBXQ73v/5uENLH4ew/S5tkQQsZ+L8fA5ZhmHABQKFHkxwtpOw/YUx/Jlov5L8NIYmZaWHCP6x+YzpQoAjA3cipabe/+79DxcPwNPbYvwSJYzj/adW/H7jmQF6IAMBrlEZK2qkBQKacxNTGDQPAWBItTbA/qb/a9exEaGHxvwodXqp6Aew/po/xRD0GA8A=",
          "dtype": "f8"
         },
         "xaxis": "x",
         "y": {
          "bdata": "I4XSi76W8D/RFfzE69f+v9HPKRkb3vW/0ru7nytZ9j+eEEncalIIQJXIQK1rwPc/I7JFBqum/j+/ZcYV5LPpP35XOVGxSAJAOKRYjMAX4r8QjvXy+ejgv0zIHx6ilL0/bPsTpDCUA8DkkM4ZMTj1v0i/yEnYDv4/Pl1+xZgo+L+Bi2k1sez0v6aPPWky3QRAj7RCuSzExL/TNk+XPITnv2ChM54Bbv4/E0tZDJjv9T8zfwGmUTvRvy0QIHAaFPa/NIhzXuNdAECxpdk5AuDov1hIu04x87I/CejYy5AGwb+O5CZdh3z9v0Zie2IWpee/5zayi4wn9L8J9w0naNj1vwOeWBOJfOy/taVKAtHN9D8NHT05pjnjv5d6XxFUqf2/U8bHbV2+47/TUKtu65vQv9I2Mj7sKs+/NsSH9ws72j8tXQ7NOO/qv59S4TUtOd6/FTCB4wzV1T8xzPTlgE/Bv/BYTdaYsO8/NOcMgyUY7r86JwYuqKD1P40Nzjycxum//el4mTC/+b+STS7ykszSv1BEf9KmbLc/BV64NegO9D9aK4eilE3+P1eCU/pcCNO/LqPRPF/P9j8VOzlo1VT5PzpxA3DdEO4/YXeZAoTx9T/A6I8pt+bwP34R9xYUG86/6Rimmm1uAEA=",
          "dtype": "f8"
         },
         "yaxis": "y"
        }
       ],
       "layout": {
        "legend": {
         "title": {
          "text": "tipoCultivo"
         },
         "tracegroupgap": 0
        },
        "template": {
         "data": {
          "bar": [
           {
            "error_x": {
             "color": "#2a3f5f"
            },
            "error_y": {
             "color": "#2a3f5f"
            },
            "marker": {
             "line": {
              "color": "#E5ECF6",
              "width": 0.5
             },
             "pattern": {
              "fillmode": "overlay",
              "size": 10,
              "solidity": 0.2
             }
            },
            "type": "bar"
           }
          ],
          "barpolar": [
           {
            "marker": {
             "line": {
              "color": "#E5ECF6",
              "width": 0.5
             },
             "pattern": {
              "fillmode": "overlay",
              "size": 10,
              "solidity": 0.2
             }
            },
            "type": "barpolar"
           }
          ],
          "carpet": [
           {
            "aaxis": {
             "endlinecolor": "#2a3f5f",
             "gridcolor": "white",
             "linecolor": "white",
             "minorgridcolor": "white",
             "startlinecolor": "#2a3f5f"
            },
            "baxis": {
             "endlinecolor": "#2a3f5f",
             "gridcolor": "white",
             "linecolor": "white",
             "minorgridcolor": "white",
             "startlinecolor": "#2a3f5f"
            },
            "type": "carpet"
           }
          ],
          "choropleth": [
           {
            "colorbar": {
             "outlinewidth": 0,
             "ticks": ""
            },
            "type": "choropleth"
           }
          ],
          "contour": [
           {
            "colorbar": {
             "outlinewidth": 0,
             "ticks": ""
            },
            "colorscale": [
             [
              0,
              "#0d0887"
             ],
             [
              0.1111111111111111,
              "#46039f"
             ],
             [
              0.2222222222222222,
              "#7201a8"
             ],
             [
              0.3333333333333333,
              "#9c179e"
             ],
             [
              0.4444444444444444,
              "#bd3786"
             ],
             [
              0.5555555555555556,
              "#d8576b"
             ],
             [
              0.6666666666666666,
              "#ed7953"
             ],
             [
              0.7777777777777778,
              "#fb9f3a"
             ],
             [
              0.8888888888888888,
              "#fdca26"
             ],
             [
              1,
              "#f0f921"
             ]
            ],
            "type": "contour"
           }
          ],
          "contourcarpet": [
           {
            "colorbar": {
             "outlinewidth": 0,
             "ticks": ""
            },
            "type": "contourcarpet"
           }
          ],
          "heatmap": [
           {
            "colorbar": {
             "outlinewidth": 0,
             "ticks": ""
            },
            "colorscale": [
             [
              0,
              "#0d0887"
             ],
             [
              0.1111111111111111,
              "#46039f"
             ],
             [
              0.2222222222222222,
              "#7201a8"
             ],
             [
              0.3333333333333333,
              "#9c179e"
             ],
             [
              0.4444444444444444,
              "#bd3786"
             ],
             [
              0.5555555555555556,
              "#d8576b"
             ],
             [
              0.6666666666666666,
              "#ed7953"
             ],
             [
              0.7777777777777778,
              "#fb9f3a"
             ],
             [
              0.8888888888888888,
              "#fdca26"
             ],
             [
              1,
              "#f0f921"
             ]
            ],
            "type": "heatmap"
           }
          ],
          "histogram": [
           {
            "marker": {
             "pattern": {
              "fillmode": "overlay",
              "size": 10,
              "solidity": 0.2
             }
            },
            "type": "histogram"
           }
          ],
          "histogram2d": [
           {
            "colorbar": {
             "outlinewidth": 0,
             "ticks": ""
            },
            "colorscale": [
             [
              0,
              "#0d0887"
             ],
             [
              0.1111111111111111,
              "#46039f"
             ],
             [
              0.2222222222222222,
              "#7201a8"
             ],
             [
              0.3333333333333333,
              "#9c179e"
             ],
             [
              0.4444444444444444,
              "#bd3786"
             ],
             [
              0.5555555555555556,
              "#d8576b"
             ],
             [
              0.6666666666666666,
              "#ed7953"
             ],
             [
              0.7777777777777778,
              "#fb9f3a"
             ],
             [
              0.8888888888888888,
              "#fdca26"
             ],
             [
              1,
              "#f0f921"
             ]
            ],
            "type": "histogram2d"
           }
          ],
          "histogram2dcontour": [
           {
            "colorbar": {
             "outlinewidth": 0,
             "ticks": ""
            },
            "colorscale": [
             [
              0,
              "#0d0887"
             ],
             [
              0.1111111111111111,
              "#46039f"
             ],
             [
              0.2222222222222222,
              "#7201a8"
             ],
             [
              0.3333333333333333,
              "#9c179e"
             ],
             [
              0.4444444444444444,
              "#bd3786"
             ],
             [
              0.5555555555555556,
              "#d8576b"
             ],
             [
              0.6666666666666666,
              "#ed7953"
             ],
             [
              0.7777777777777778,
              "#fb9f3a"
             ],
             [
              0.8888888888888888,
              "#fdca26"
             ],
             [
              1,
              "#f0f921"
             ]
            ],
            "type": "histogram2dcontour"
           }
          ],
          "mesh3d": [
           {
            "colorbar": {
             "outlinewidth": 0,
             "ticks": ""
            },
            "type": "mesh3d"
           }
          ],
          "parcoords": [
           {
            "line": {
             "colorbar": {
              "outlinewidth": 0,
              "ticks": ""
             }
            },
            "type": "parcoords"
           }
          ],
          "pie": [
           {
            "automargin": true,
            "type": "pie"
           }
          ],
          "scatter": [
           {
            "fillpattern": {
             "fillmode": "overlay",
             "size": 10,
             "solidity": 0.2
            },
            "type": "scatter"
           }
          ],
          "scatter3d": [
           {
            "line": {
             "colorbar": {
              "outlinewidth": 0,
              "ticks": ""
             }
            },
            "marker": {
             "colorbar": {
              "outlinewidth": 0,
              "ticks": ""
             }
            },
            "type": "scatter3d"
           }
          ],
          "scattercarpet": [
           {
            "marker": {
             "colorbar": {
              "outlinewidth": 0,
              "ticks": ""
             }
            },
            "type": "scattercarpet"
           }
          ],
          "scattergeo": [
           {
            "marker": {
             "colorbar": {
              "outlinewidth": 0,
              "ticks": ""
             }
            },
            "type": "scattergeo"
           }
          ],
          "scattergl": [
           {
            "marker": {
             "colorbar": {
              "outlinewidth": 0,
              "ticks": ""
             }
            },
            "type": "scattergl"
           }
          ],
          "scattermap": [
           {
            "marker": {
             "colorbar": {
              "outlinewidth": 0,
              "ticks": ""
             }
            },
            "type": "scattermap"
           }
          ],
          "scattermapbox": [
           {
            "marker": {
             "colorbar": {
              "outlinewidth": 0,
              "ticks": ""
             }
            },
            "type": "scattermapbox"
           }
          ],
          "scatterpolar": [
           {
            "marker": {
             "colorbar": {
              "outlinewidth": 0,
              "ticks": ""
             }
            },
            "type": "scatterpolar"
           }
          ],
          "scatterpolargl": [
           {
            "marker": {
             "colorbar": {
              "outlinewidth": 0,
              "ticks": ""
             }
            },
            "type": "scatterpolargl"
           }
          ],
          "scatterternary": [
           {
            "marker": {
             "colorbar": {
              "outlinewidth": 0,
              "ticks": ""
             }
            },
            "type": "scatterternary"
           }
          ],
          "surface": [
           {
            "colorbar": {
             "outlinewidth": 0,
             "ticks": ""
            },
            "colorscale": [
             [
              0,
              "#0d0887"
             ],
             [
              0.1111111111111111,
              "#46039f"
             ],
             [
              0.2222222222222222,
              "#7201a8"
             ],
             [
              0.3333333333333333,
              "#9c179e"
             ],
             [
              0.4444444444444444,
              "#bd3786"
             ],
             [
              0.5555555555555556,
              "#d8576b"
             ],
             [
              0.6666666666666666,
              "#ed7953"
             ],
             [
              0.7777777777777778,
              "#fb9f3a"
             ],
             [
              0.8888888888888888,
              "#fdca26"
             ],
             [
              1,
              "#f0f921"
             ]
            ],
            "type": "surface"
           }
          ],
          "table": [
           {
            "cells": {
             "fill": {
              "color": "#EBF0F8"
             },
             "line": {
              "color": "white"
             }
            },
            "header": {
             "fill": {
              "color": "#C8D4E3"
             },
             "line": {
              "color": "white"
             }
            },
            "type": "table"
           }
          ]
         },
         "layout": {
          "annotationdefaults": {
           "arrowcolor": "#2a3f5f",
           "arrowhead": 0,
           "arrowwidth": 1
          },
          "autotypenumbers": "strict",
          "coloraxis": {
           "colorbar": {
            "outlinewidth": 0,
            "ticks": ""
           }
          },
          "colorscale": {
           "diverging": [
            [
             0,
             "#8e0152"
            ],
            [
             0.1,
             "#c51b7d"
            ],
            [
             0.2,
             "#de77ae"
            ],
            [
             0.3,
             "#f1b6da"
            ],
            [
             0.4,
             "#fde0ef"
            ],
            [
             0.5,
             "#f7f7f7"
            ],
            [
             0.6,
             "#e6f5d0"
            ],
            [
             0.7,
             "#b8e186"
            ],
            [
             0.8,
             "#7fbc41"
            ],
            [
             0.9,
             "#4d9221"
            ],
            [
             1,
             "#276419"
            ]
           ],
           "sequential": [
            [
             0,
             "#0d0887"
            ],
            [
             0.1111111111111111,
             "#46039f"
            ],
            [
             0.2222222222222222,
             "#7201a8"
            ],
            [
             0.3333333333333333,
             "#9c179e"
            ],
            [
             0.4444444444444444,
             "#bd3786"
            ],
            [
             0.5555555555555556,
             "#d8576b"
            ],
            [
             0.6666666666666666,
             "#ed7953"
            ],
            [
             0.7777777777777778,
             "#fb9f3a"
            ],
            [
             0.8888888888888888,
             "#fdca26"
            ],
            [
             1,
             "#f0f921"
            ]
           ],
           "sequentialminus": [
            [
             0,
             "#0d0887"
            ],
            [
             0.1111111111111111,
             "#46039f"
            ],
            [
             0.2222222222222222,
             "#7201a8"
            ],
            [
             0.3333333333333333,
             "#9c179e"
            ],
            [
             0.4444444444444444,
             "#bd3786"
            ],
            [
             0.5555555555555556,
             "#d8576b"
            ],
            [
             0.6666666666666666,
             "#ed7953"
            ],
            [
             0.7777777777777778,
             "#fb9f3a"
            ],
            [
             0.8888888888888888,
             "#fdca26"
            ],
            [
             1,
             "#f0f921"
            ]
           ]
          },
          "colorway": [
           "#636efa",
           "#EF553B",
           "#00cc96",
           "#ab63fa",
           "#FFA15A",
           "#19d3f3",
           "#FF6692",
           "#B6E880",
           "#FF97FF",
           "#FECB52"
          ],
          "font": {
           "color": "#2a3f5f"
          },
          "geo": {
           "bgcolor": "white",
           "lakecolor": "white",
           "landcolor": "#E5ECF6",
           "showlakes": true,
           "showland": true,
           "subunitcolor": "white"
          },
          "hoverlabel": {
           "align": "left"
          },
          "hovermode": "closest",
          "mapbox": {
           "style": "light"
          },
          "paper_bgcolor": "white",
          "plot_bgcolor": "#E5ECF6",
          "polar": {
           "angularaxis": {
            "gridcolor": "white",
            "linecolor": "white",
            "ticks": ""
           },
           "bgcolor": "#E5ECF6",
           "radialaxis": {
            "gridcolor": "white",
            "linecolor": "white",
            "ticks": ""
           }
          },
          "scene": {
           "xaxis": {
            "backgroundcolor": "#E5ECF6",
            "gridcolor": "white",
            "gridwidth": 2,
            "linecolor": "white",
            "showbackground": true,
            "ticks": "",
            "zerolinecolor": "white"
           },
           "yaxis": {
            "backgroundcolor": "#E5ECF6",
            "gridcolor": "white",
            "gridwidth": 2,
            "linecolor": "white",
            "showbackground": true,
            "ticks": "",
            "zerolinecolor": "white"
           },
           "zaxis": {
            "backgroundcolor": "#E5ECF6",
            "gridcolor": "white",
            "gridwidth": 2,
            "linecolor": "white",
            "showbackground": true,
            "ticks": "",
            "zerolinecolor": "white"
           }
          },
          "shapedefaults": {
           "line": {
            "color": "#2a3f5f"
           }
          },
          "ternary": {
           "aaxis": {
            "gridcolor": "white",
            "linecolor": "white",
            "ticks": ""
           },
           "baxis": {
            "gridcolor": "white",
            "linecolor": "white",
            "ticks": ""
           },
           "bgcolor": "#E5ECF6",
           "caxis": {
            "gridcolor": "white",
            "linecolor": "white",
            "ticks": ""
           }
          },
          "title": {
           "x": 0.05
          },
          "xaxis": {
           "automargin": true,
           "gridcolor": "white",
           "linecolor": "white",
           "ticks": "",
           "title": {
            "standoff": 15
           },
           "zerolinecolor": "white",
           "zerolinewidth": 2
          },
          "yaxis": {
           "automargin": true,
           "gridcolor": "white",
           "linecolor": "white",
           "ticks": "",
           "title": {
            "standoff": 15
           },
           "zerolinecolor": "white",
           "zerolinewidth": 2
          }
         }
        },
        "title": {
         "text": "Distribución de tipoCultivo en 2 dimensiones"
        },
        "xaxis": {
         "anchor": "y",
         "domain": [
          0,
          1
         ],
         "title": {
          "text": "0"
         }
        },
        "yaxis": {
         "anchor": "x",
         "domain": [
          0,
          1
         ],
         "title": {
          "text": "1"
         }
        }
       }
      }
     },
     "metadata": {},
     "output_type": "display_data"
    }
   ],
   "source": [
    "features = pca_filtrado.drop(columns=['tipoCultivo']).columns.to_list()\n",
    "\n",
    "unique_tipoCultivo = pca_filtrado['tipoCultivo'].unique()\n",
    "num_colors = len(unique_tipoCultivo)\n",
    "color_palette = plt.get_cmap('tab20', num_colors)\n",
    "\n",
    "tipoCultivo_color_map = {cultivo: mcolors.to_hex(color_palette(i)) for i,\n",
    "                       cultivo in enumerate(unique_tipoCultivo)}\n",
    "\n",
    "loadings = pca.components_.T * np.sqrt(pca.explained_variance_)\n",
    "fig = px.scatter(pca_features, x=0, y=1, color = pca_filtrado[\"tipoCultivo\"],\n",
    "                 labels={'color': 'tipoCultivo'},\n",
    "                 color_discrete_map=tipoCultivo_color_map,\n",
    "                 title=\"Distribución de tipoCultivo en 2 dimensiones\")\n",
    "\n",
    "fig.show()"
   ]
  },
  {
   "cell_type": "markdown",
   "id": "ac7e9a45",
   "metadata": {},
   "source": [
    "explicacion"
   ]
  },
  {
   "cell_type": "markdown",
   "id": "8162ca3d",
   "metadata": {},
   "source": [
    "# ISOMAP"
   ]
  },
  {
   "cell_type": "code",
   "execution_count": 221,
   "id": "bc86a308",
   "metadata": {},
   "outputs": [
    {
     "data": {
      "text/html": [
       "<div>\n",
       "<style scoped>\n",
       "    .dataframe tbody tr th:only-of-type {\n",
       "        vertical-align: middle;\n",
       "    }\n",
       "\n",
       "    .dataframe tbody tr th {\n",
       "        vertical-align: top;\n",
       "    }\n",
       "\n",
       "    .dataframe thead th {\n",
       "        text-align: right;\n",
       "    }\n",
       "</style>\n",
       "<table border=\"1\" class=\"dataframe\">\n",
       "  <thead>\n",
       "    <tr style=\"text-align: right;\">\n",
       "      <th></th>\n",
       "      <th>PC1</th>\n",
       "      <th>PC2</th>\n",
       "      <th>tipoCultivo</th>\n",
       "    </tr>\n",
       "  </thead>\n",
       "  <tbody>\n",
       "    <tr>\n",
       "      <th>0</th>\n",
       "      <td>-0.348951</td>\n",
       "      <td>-1.424291</td>\n",
       "      <td>Trigo</td>\n",
       "    </tr>\n",
       "    <tr>\n",
       "      <th>1</th>\n",
       "      <td>1.819827</td>\n",
       "      <td>-1.201247</td>\n",
       "      <td>Maiz</td>\n",
       "    </tr>\n",
       "    <tr>\n",
       "      <th>2</th>\n",
       "      <td>2.699991</td>\n",
       "      <td>0.024737</td>\n",
       "      <td>Soja</td>\n",
       "    </tr>\n",
       "    <tr>\n",
       "      <th>3</th>\n",
       "      <td>-3.924922</td>\n",
       "      <td>1.499850</td>\n",
       "      <td>Trigo</td>\n",
       "    </tr>\n",
       "    <tr>\n",
       "      <th>4</th>\n",
       "      <td>0.518607</td>\n",
       "      <td>3.321980</td>\n",
       "      <td>Soja</td>\n",
       "    </tr>\n",
       "    <tr>\n",
       "      <th>...</th>\n",
       "      <td>...</td>\n",
       "      <td>...</td>\n",
       "      <td>...</td>\n",
       "    </tr>\n",
       "    <tr>\n",
       "      <th>158</th>\n",
       "      <td>3.787297</td>\n",
       "      <td>-0.549279</td>\n",
       "      <td>Maiz</td>\n",
       "    </tr>\n",
       "    <tr>\n",
       "      <th>159</th>\n",
       "      <td>-2.645616</td>\n",
       "      <td>-0.346959</td>\n",
       "      <td>Maiz</td>\n",
       "    </tr>\n",
       "    <tr>\n",
       "      <th>160</th>\n",
       "      <td>-1.847790</td>\n",
       "      <td>2.403467</td>\n",
       "      <td>Trigo</td>\n",
       "    </tr>\n",
       "    <tr>\n",
       "      <th>161</th>\n",
       "      <td>-0.048563</td>\n",
       "      <td>-1.143482</td>\n",
       "      <td>Maiz</td>\n",
       "    </tr>\n",
       "    <tr>\n",
       "      <th>162</th>\n",
       "      <td>-2.319093</td>\n",
       "      <td>-3.842932</td>\n",
       "      <td>Soja</td>\n",
       "    </tr>\n",
       "  </tbody>\n",
       "</table>\n",
       "<p>163 rows × 3 columns</p>\n",
       "</div>"
      ],
      "text/plain": [
       "          PC1       PC2 tipoCultivo\n",
       "0   -0.348951 -1.424291       Trigo\n",
       "1    1.819827 -1.201247        Maiz\n",
       "2    2.699991  0.024737        Soja\n",
       "3   -3.924922  1.499850       Trigo\n",
       "4    0.518607  3.321980        Soja\n",
       "..        ...       ...         ...\n",
       "158  3.787297 -0.549279        Maiz\n",
       "159 -2.645616 -0.346959        Maiz\n",
       "160 -1.847790  2.403467       Trigo\n",
       "161 -0.048563 -1.143482        Maiz\n",
       "162 -2.319093 -3.842932        Soja\n",
       "\n",
       "[163 rows x 3 columns]"
      ]
     },
     "execution_count": 221,
     "metadata": {},
     "output_type": "execute_result"
    }
   ],
   "source": [
    "isomap = Isomap(n_neighbors=50, n_components=2)\n",
    "X_reduced = isomap.fit_transform(df_escalado)\n",
    "\n",
    "df_isomap = pd.DataFrame(X_reduced, columns=['PC1', 'PC2'])\n",
    "df_isomap['tipoCultivo'] = y\n",
    "\n",
    "df_isomap"
   ]
  },
  {
   "cell_type": "code",
   "execution_count": 222,
   "id": "440d7492",
   "metadata": {},
   "outputs": [
    {
     "data": {
      "application/vnd.plotly.v1+json": {
       "config": {
        "plotlyServerURL": "https://plot.ly"
       },
       "data": [
        {
         "hovertemplate": "tipoCultivo=Trigo<br>PC1=%{x}<br>PC2=%{y}<extra></extra>",
         "legendgroup": "Trigo",
         "marker": {
          "color": "#636efa",
          "symbol": "circle"
         },
         "mode": "markers",
         "name": "Trigo",
         "orientation": "v",
         "showlegend": true,
         "type": "scatter",
         "x": {
          "bdata": "TepyAzVV1r+e425MPWYPwFBDz9I6cAnAZConr1Nl4r+k1MzyYnTCvwXwL3Vx6uU/OY5/Chx61z/VSuUetSAHQK9i/9gyOO+/IiCGaxgzAkCnx79cd10OwEfAwgZrEQPA2m3NP4To6j/tbPYfP9//P+lgUhWap7s/leu8mSam8T8oOw16ufLnvxn1c3ullve/OiZb4BIx+r/qDiImPP0HQCVSrPNi/A5AVW8t4k/XAEBvi9QPYcXnv5ILj1MTHv2/GL4UVrH1AUBB/7CqM4sOwC05C9Tnav6/gypYYBuq+L9Zh/6QxILqP4hPr7MwSuG/nfrSN5qfBsAY2zO4rsjmvy8POPYTPAlAMtem8cbHAECL+J3EPksQwNt7TFvmqvq/0ZERWWS4CkDXRifXbIbkvzA1aPkVFdU/OZxdn8Qq+7+A56zMUa/8vwvPQvwtyvi/Dyo5TypH17+WvNTj5GwQwMUvOq9oL+u/0lbZXIol5T/RIkZ12HgCwKwQk/mLkP2/",
          "dtype": "f8"
         },
         "xaxis": "x",
         "y": {
          "bdata": "KFRRluXJ9r9OB3mhYv/3P/qq2XkLrwZAoQK7xs8KCUD/slVqNOz4v13ujZ7UDus/4W65dxVMC0DGSI/OiarDPzj19KN2AxDAomgsn70RCUDS0QVFYEoIwDsBOqIWMNA/Q5///XRAz78DJpb8+PUFwBys0TXPJgbAvCoE6gJcBcACo7wjqmAEwDRqGtj+WtE/Rq4QPsjr+D9EbgfkNmUCwHktOj+Aw/e/SvViabO0CsDerz5nLBUGwJQOjkbo6AVAsB4ph6JIBUAnGejBhbLuvwx0cGUAiPS/BPY1D5G5y78+9jgX16EJwF3LRE8N0+w/zZ1NmwkM8D++USO54U/cv5lzMs+RMPq/xSDSWXzdoz9P9+MwCaP9P+P5It4/Bqe/Se7bXddc9b8o+XunfNwBwDXnS0eglwLA87xLl5CPBEDgZveW3/UEwFeyqz3YSwNAfjKRpS9O2L8Zc+7hGfoFQLLKe3BZrQdAJeiCIsh53j//ichMqz8EwIKvFfFMOgNA",
          "dtype": "f8"
         },
         "yaxis": "y"
        },
        {
         "hovertemplate": "tipoCultivo=Maiz<br>PC1=%{x}<br>PC2=%{y}<extra></extra>",
         "legendgroup": "Maiz",
         "marker": {
          "color": "#EF553B",
          "symbol": "circle"
         },
         "mode": "markers",
         "name": "Maiz",
         "orientation": "v",
         "showlegend": true,
         "type": "scatter",
         "x": {
          "bdata": "IrU3NAMe/T/E5WBrv8P6v6a9xfpgpQ/AxdFpx+QN5D9zvhPLJyj7P47izeWmNgXA/cYYo7+W+b9QekRdPxv4v8uC1wJkyvU/QYsLsSkTB0D1ZsbQJ6rqvyz082Vuivw/3hekm1SgCkC2MH8Sj4MGQJC67Mv4ZgrAEdGhHi2V+z8KXwIM19v1P8wsKB5dKgBAZTccSPvK7j88J6A6hUcHQOInviGSP+G/VvnkBfQL5D8WbYsNcxYOwF9M51VKfN+/XWzZxz1hB0C6dHuY2WsQQKzi/WJLtfc/S5q6vnJF+b+RNYkBAuv0vy9JZQpAFdQ/jZV04qX9CcDN4xR13mkPwPu5o+e7r/E/+IfofkNN6b/Sg0C1gBboP1Z26l+uyvk/w4wIkIaJ4j9vIDGhctYQQANUcOkaRPA/PTgEwemM2r83zN3Oe3vRv9dVcp//a5Q/7eW1ZNEu5r/NGUN+t1PWv5eCskz4CAJAZrWQcuBABUB/UAE0ouHwP1YHh/0zl+0/Dq7to/A2AMCqIiS5+jvuv/ljYggewvI/AM8bLWJMDkCxcRV2OCoFwAkxHTtC3ai/",
          "dtype": "f8"
         },
         "xaxis": "x",
         "y": {
          "bdata": "J4jmeE4487/TBZ5KEbfxv3D4eAYJlQXAOzffLPyb6T+EifQbdlDMP7fW/3+AQwFAVb0Ll0aE/T9beNJUax8AQKzQknMfa/8/0H+u0LPCDUBQWe7J5PoOQG9M53jF8fQ/nU+x4QMvBUBlvbkYjP73P/lRW7m8qwTAsvBUmm698T8bpWVTSj8EwFPHdFV7MME/GHY89txmAsA3VdwP2jL6P3LDLX7oVwJAt74oD7fgCEB57Qmtktvcvw1VmQVxWwNAzX/8AsHe/b/uxJz4fAMAwIQIrmrxhQdAfDfAFG+A5j9BKdloHcPQP4bL1C021gDAJ8AFK+tc9j8urWbjKd+av2BbTjGoBQpAqNbHZa1QCcD4EwsaTDYAwOjr2Jtc2AbAbIWqrtrtCkCuY75F3vfuPw1POHe1FQbAtHkmfW9GAsAMBcgpe7IBQLlQ1Jst0gRAr7tDvPWE2T9D68dH83IQwA+74AGaZZO//m4dnwCotD9sLoNkFL+LP1ipZzdi+vg/zBaRD1wz5L89O1xcb9DWPxzfLVhenfg/cdk917GT4b9NCNibkjTWv2KbEDG0S/K/",
          "dtype": "f8"
         },
         "yaxis": "y"
        },
        {
         "hovertemplate": "tipoCultivo=Soja<br>PC1=%{x}<br>PC2=%{y}<extra></extra>",
         "legendgroup": "Soja",
         "marker": {
          "color": "#00cc96",
          "symbol": "circle"
         },
         "mode": "markers",
         "name": "Soja",
         "orientation": "v",
         "showlegend": true,
         "type": "scatter",
         "x": {
          "bdata": "uQ9JGZWZBUCiINfubZjgP0QjDg5x5vU/o2NI+AXsAsCWi4NKkXULQIIbyn2w8AdAPHdP3vlj/j+iQFo/5i/hP0yf2fUKUwZANDzsLzIyAkDOX+HSQbr1vxwIXvhyvOY/b+XmDXukBEBUm9RHUHYCwGz5cKNxKAZA6SB5RISzAsAnZ2VA9IwAQOY4LcI2Wf6/20TvQ7dJwj8iRe/76isQwF1JvkxWd+Y/MhbUiN1H8z9VCiQHfGW8vw7lVbEGW/C/gA9EzdSbEUCvqtPSaOQEQEp7XTBwcfK/LPKEeb9D4z8YzDI4OGoDwH6ozz/YdQrAvXjtJoEP8r/r+He+zz0BwExk5SLwOglAoZfteW5j+D/FXJUwRFIDwApU0v6MpOi/2fLeIinhAkAwp1WwFOkFwL6ozMjJ2tQ/iAtxotYDEkClUFKwe9jgP6xa/IrCYOe/9u06iPxkCMCwax9EmKoBwE9PDlsO1/g/51YoxEEKBsAaBIW2cNQQQEERM5VK5vE/EQknhMG6+L+ZGbSVnGfrv3PgnWY/MRDAUoTXrYV/AcAydODL9bX3P13SXnc2buG/dkMJDxQSBsDq77L+Fm8OQFitKrullgfA9J0xXtQ67T9hDVx9RQH2v9w2n+xLev0//yFGwICNAsA=",
          "dtype": "f8"
         },
         "xaxis": "x",
         "y": {
          "bdata": "0rwfyblUmT9ZYZ/+aZMKQB7toX6StwlA8jKJqDv/BsDYrE98fH8DwGnaOYHgW/2/xOuDopdnCMDowkzdRRPivxGem4jnygHA8wvYrLBhBUBrNtVChqTNvxg0QGI2sfm/82t34GXUEEAN6DMSDXL8P7zJsXCf/QPAEC9M/6sSBEAfpYkaAh8DQBRYDorM6g3ArCemV4l1/79llAS8IMPyPw69jvBXyQvAhj1AAwPd7r/W4X2rLObnv2I8wU/cff4/m9toVk6tA8CpQrXqZQcBQC+a88NuO+u/U50yobprtL/v+dIajCIHQKo/aXgjdPQ/nbd8VNqc8z/TtwuQXTe9vzgZnW7w4QlA/z+bQft97r8LwqJ+yMjlv5G8J9owdwtAqF2aF9SCCEBwoK9pnbrjv2VSZMeargJAnlQsPT/j5j8bFUKlETsBQPqbhngRoP6/T3PLStFe5L9ixNEmR1n1v2HYPH8hZPi/qoizBjEb0D87jUzFTfn/vygyDAYUTQNAkPItrww8BUA0beJ5IfSbv/XqHBI3z+6/CA0AGl4jBsDejzLqTuf+v6a10CMU9QJAATf29RdfDMCCo703EPruv+9ZBh2J2QTAEYBPQXNI1L+cfnhFo6ECwBumGkR3tP4/H+V0L1O+DsA=",
          "dtype": "f8"
         },
         "yaxis": "y"
        }
       ],
       "layout": {
        "legend": {
         "title": {
          "text": "tipoCultivo"
         },
         "tracegroupgap": 0
        },
        "template": {
         "data": {
          "bar": [
           {
            "error_x": {
             "color": "#2a3f5f"
            },
            "error_y": {
             "color": "#2a3f5f"
            },
            "marker": {
             "line": {
              "color": "#E5ECF6",
              "width": 0.5
             },
             "pattern": {
              "fillmode": "overlay",
              "size": 10,
              "solidity": 0.2
             }
            },
            "type": "bar"
           }
          ],
          "barpolar": [
           {
            "marker": {
             "line": {
              "color": "#E5ECF6",
              "width": 0.5
             },
             "pattern": {
              "fillmode": "overlay",
              "size": 10,
              "solidity": 0.2
             }
            },
            "type": "barpolar"
           }
          ],
          "carpet": [
           {
            "aaxis": {
             "endlinecolor": "#2a3f5f",
             "gridcolor": "white",
             "linecolor": "white",
             "minorgridcolor": "white",
             "startlinecolor": "#2a3f5f"
            },
            "baxis": {
             "endlinecolor": "#2a3f5f",
             "gridcolor": "white",
             "linecolor": "white",
             "minorgridcolor": "white",
             "startlinecolor": "#2a3f5f"
            },
            "type": "carpet"
           }
          ],
          "choropleth": [
           {
            "colorbar": {
             "outlinewidth": 0,
             "ticks": ""
            },
            "type": "choropleth"
           }
          ],
          "contour": [
           {
            "colorbar": {
             "outlinewidth": 0,
             "ticks": ""
            },
            "colorscale": [
             [
              0,
              "#0d0887"
             ],
             [
              0.1111111111111111,
              "#46039f"
             ],
             [
              0.2222222222222222,
              "#7201a8"
             ],
             [
              0.3333333333333333,
              "#9c179e"
             ],
             [
              0.4444444444444444,
              "#bd3786"
             ],
             [
              0.5555555555555556,
              "#d8576b"
             ],
             [
              0.6666666666666666,
              "#ed7953"
             ],
             [
              0.7777777777777778,
              "#fb9f3a"
             ],
             [
              0.8888888888888888,
              "#fdca26"
             ],
             [
              1,
              "#f0f921"
             ]
            ],
            "type": "contour"
           }
          ],
          "contourcarpet": [
           {
            "colorbar": {
             "outlinewidth": 0,
             "ticks": ""
            },
            "type": "contourcarpet"
           }
          ],
          "heatmap": [
           {
            "colorbar": {
             "outlinewidth": 0,
             "ticks": ""
            },
            "colorscale": [
             [
              0,
              "#0d0887"
             ],
             [
              0.1111111111111111,
              "#46039f"
             ],
             [
              0.2222222222222222,
              "#7201a8"
             ],
             [
              0.3333333333333333,
              "#9c179e"
             ],
             [
              0.4444444444444444,
              "#bd3786"
             ],
             [
              0.5555555555555556,
              "#d8576b"
             ],
             [
              0.6666666666666666,
              "#ed7953"
             ],
             [
              0.7777777777777778,
              "#fb9f3a"
             ],
             [
              0.8888888888888888,
              "#fdca26"
             ],
             [
              1,
              "#f0f921"
             ]
            ],
            "type": "heatmap"
           }
          ],
          "histogram": [
           {
            "marker": {
             "pattern": {
              "fillmode": "overlay",
              "size": 10,
              "solidity": 0.2
             }
            },
            "type": "histogram"
           }
          ],
          "histogram2d": [
           {
            "colorbar": {
             "outlinewidth": 0,
             "ticks": ""
            },
            "colorscale": [
             [
              0,
              "#0d0887"
             ],
             [
              0.1111111111111111,
              "#46039f"
             ],
             [
              0.2222222222222222,
              "#7201a8"
             ],
             [
              0.3333333333333333,
              "#9c179e"
             ],
             [
              0.4444444444444444,
              "#bd3786"
             ],
             [
              0.5555555555555556,
              "#d8576b"
             ],
             [
              0.6666666666666666,
              "#ed7953"
             ],
             [
              0.7777777777777778,
              "#fb9f3a"
             ],
             [
              0.8888888888888888,
              "#fdca26"
             ],
             [
              1,
              "#f0f921"
             ]
            ],
            "type": "histogram2d"
           }
          ],
          "histogram2dcontour": [
           {
            "colorbar": {
             "outlinewidth": 0,
             "ticks": ""
            },
            "colorscale": [
             [
              0,
              "#0d0887"
             ],
             [
              0.1111111111111111,
              "#46039f"
             ],
             [
              0.2222222222222222,
              "#7201a8"
             ],
             [
              0.3333333333333333,
              "#9c179e"
             ],
             [
              0.4444444444444444,
              "#bd3786"
             ],
             [
              0.5555555555555556,
              "#d8576b"
             ],
             [
              0.6666666666666666,
              "#ed7953"
             ],
             [
              0.7777777777777778,
              "#fb9f3a"
             ],
             [
              0.8888888888888888,
              "#fdca26"
             ],
             [
              1,
              "#f0f921"
             ]
            ],
            "type": "histogram2dcontour"
           }
          ],
          "mesh3d": [
           {
            "colorbar": {
             "outlinewidth": 0,
             "ticks": ""
            },
            "type": "mesh3d"
           }
          ],
          "parcoords": [
           {
            "line": {
             "colorbar": {
              "outlinewidth": 0,
              "ticks": ""
             }
            },
            "type": "parcoords"
           }
          ],
          "pie": [
           {
            "automargin": true,
            "type": "pie"
           }
          ],
          "scatter": [
           {
            "fillpattern": {
             "fillmode": "overlay",
             "size": 10,
             "solidity": 0.2
            },
            "type": "scatter"
           }
          ],
          "scatter3d": [
           {
            "line": {
             "colorbar": {
              "outlinewidth": 0,
              "ticks": ""
             }
            },
            "marker": {
             "colorbar": {
              "outlinewidth": 0,
              "ticks": ""
             }
            },
            "type": "scatter3d"
           }
          ],
          "scattercarpet": [
           {
            "marker": {
             "colorbar": {
              "outlinewidth": 0,
              "ticks": ""
             }
            },
            "type": "scattercarpet"
           }
          ],
          "scattergeo": [
           {
            "marker": {
             "colorbar": {
              "outlinewidth": 0,
              "ticks": ""
             }
            },
            "type": "scattergeo"
           }
          ],
          "scattergl": [
           {
            "marker": {
             "colorbar": {
              "outlinewidth": 0,
              "ticks": ""
             }
            },
            "type": "scattergl"
           }
          ],
          "scattermap": [
           {
            "marker": {
             "colorbar": {
              "outlinewidth": 0,
              "ticks": ""
             }
            },
            "type": "scattermap"
           }
          ],
          "scattermapbox": [
           {
            "marker": {
             "colorbar": {
              "outlinewidth": 0,
              "ticks": ""
             }
            },
            "type": "scattermapbox"
           }
          ],
          "scatterpolar": [
           {
            "marker": {
             "colorbar": {
              "outlinewidth": 0,
              "ticks": ""
             }
            },
            "type": "scatterpolar"
           }
          ],
          "scatterpolargl": [
           {
            "marker": {
             "colorbar": {
              "outlinewidth": 0,
              "ticks": ""
             }
            },
            "type": "scatterpolargl"
           }
          ],
          "scatterternary": [
           {
            "marker": {
             "colorbar": {
              "outlinewidth": 0,
              "ticks": ""
             }
            },
            "type": "scatterternary"
           }
          ],
          "surface": [
           {
            "colorbar": {
             "outlinewidth": 0,
             "ticks": ""
            },
            "colorscale": [
             [
              0,
              "#0d0887"
             ],
             [
              0.1111111111111111,
              "#46039f"
             ],
             [
              0.2222222222222222,
              "#7201a8"
             ],
             [
              0.3333333333333333,
              "#9c179e"
             ],
             [
              0.4444444444444444,
              "#bd3786"
             ],
             [
              0.5555555555555556,
              "#d8576b"
             ],
             [
              0.6666666666666666,
              "#ed7953"
             ],
             [
              0.7777777777777778,
              "#fb9f3a"
             ],
             [
              0.8888888888888888,
              "#fdca26"
             ],
             [
              1,
              "#f0f921"
             ]
            ],
            "type": "surface"
           }
          ],
          "table": [
           {
            "cells": {
             "fill": {
              "color": "#EBF0F8"
             },
             "line": {
              "color": "white"
             }
            },
            "header": {
             "fill": {
              "color": "#C8D4E3"
             },
             "line": {
              "color": "white"
             }
            },
            "type": "table"
           }
          ]
         },
         "layout": {
          "annotationdefaults": {
           "arrowcolor": "#2a3f5f",
           "arrowhead": 0,
           "arrowwidth": 1
          },
          "autotypenumbers": "strict",
          "coloraxis": {
           "colorbar": {
            "outlinewidth": 0,
            "ticks": ""
           }
          },
          "colorscale": {
           "diverging": [
            [
             0,
             "#8e0152"
            ],
            [
             0.1,
             "#c51b7d"
            ],
            [
             0.2,
             "#de77ae"
            ],
            [
             0.3,
             "#f1b6da"
            ],
            [
             0.4,
             "#fde0ef"
            ],
            [
             0.5,
             "#f7f7f7"
            ],
            [
             0.6,
             "#e6f5d0"
            ],
            [
             0.7,
             "#b8e186"
            ],
            [
             0.8,
             "#7fbc41"
            ],
            [
             0.9,
             "#4d9221"
            ],
            [
             1,
             "#276419"
            ]
           ],
           "sequential": [
            [
             0,
             "#0d0887"
            ],
            [
             0.1111111111111111,
             "#46039f"
            ],
            [
             0.2222222222222222,
             "#7201a8"
            ],
            [
             0.3333333333333333,
             "#9c179e"
            ],
            [
             0.4444444444444444,
             "#bd3786"
            ],
            [
             0.5555555555555556,
             "#d8576b"
            ],
            [
             0.6666666666666666,
             "#ed7953"
            ],
            [
             0.7777777777777778,
             "#fb9f3a"
            ],
            [
             0.8888888888888888,
             "#fdca26"
            ],
            [
             1,
             "#f0f921"
            ]
           ],
           "sequentialminus": [
            [
             0,
             "#0d0887"
            ],
            [
             0.1111111111111111,
             "#46039f"
            ],
            [
             0.2222222222222222,
             "#7201a8"
            ],
            [
             0.3333333333333333,
             "#9c179e"
            ],
            [
             0.4444444444444444,
             "#bd3786"
            ],
            [
             0.5555555555555556,
             "#d8576b"
            ],
            [
             0.6666666666666666,
             "#ed7953"
            ],
            [
             0.7777777777777778,
             "#fb9f3a"
            ],
            [
             0.8888888888888888,
             "#fdca26"
            ],
            [
             1,
             "#f0f921"
            ]
           ]
          },
          "colorway": [
           "#636efa",
           "#EF553B",
           "#00cc96",
           "#ab63fa",
           "#FFA15A",
           "#19d3f3",
           "#FF6692",
           "#B6E880",
           "#FF97FF",
           "#FECB52"
          ],
          "font": {
           "color": "#2a3f5f"
          },
          "geo": {
           "bgcolor": "white",
           "lakecolor": "white",
           "landcolor": "#E5ECF6",
           "showlakes": true,
           "showland": true,
           "subunitcolor": "white"
          },
          "hoverlabel": {
           "align": "left"
          },
          "hovermode": "closest",
          "mapbox": {
           "style": "light"
          },
          "paper_bgcolor": "white",
          "plot_bgcolor": "#E5ECF6",
          "polar": {
           "angularaxis": {
            "gridcolor": "white",
            "linecolor": "white",
            "ticks": ""
           },
           "bgcolor": "#E5ECF6",
           "radialaxis": {
            "gridcolor": "white",
            "linecolor": "white",
            "ticks": ""
           }
          },
          "scene": {
           "xaxis": {
            "backgroundcolor": "#E5ECF6",
            "gridcolor": "white",
            "gridwidth": 2,
            "linecolor": "white",
            "showbackground": true,
            "ticks": "",
            "zerolinecolor": "white"
           },
           "yaxis": {
            "backgroundcolor": "#E5ECF6",
            "gridcolor": "white",
            "gridwidth": 2,
            "linecolor": "white",
            "showbackground": true,
            "ticks": "",
            "zerolinecolor": "white"
           },
           "zaxis": {
            "backgroundcolor": "#E5ECF6",
            "gridcolor": "white",
            "gridwidth": 2,
            "linecolor": "white",
            "showbackground": true,
            "ticks": "",
            "zerolinecolor": "white"
           }
          },
          "shapedefaults": {
           "line": {
            "color": "#2a3f5f"
           }
          },
          "ternary": {
           "aaxis": {
            "gridcolor": "white",
            "linecolor": "white",
            "ticks": ""
           },
           "baxis": {
            "gridcolor": "white",
            "linecolor": "white",
            "ticks": ""
           },
           "bgcolor": "#E5ECF6",
           "caxis": {
            "gridcolor": "white",
            "linecolor": "white",
            "ticks": ""
           }
          },
          "title": {
           "x": 0.05
          },
          "xaxis": {
           "automargin": true,
           "gridcolor": "white",
           "linecolor": "white",
           "ticks": "",
           "title": {
            "standoff": 15
           },
           "zerolinecolor": "white",
           "zerolinewidth": 2
          },
          "yaxis": {
           "automargin": true,
           "gridcolor": "white",
           "linecolor": "white",
           "ticks": "",
           "title": {
            "standoff": 15
           },
           "zerolinecolor": "white",
           "zerolinewidth": 2
          }
         }
        },
        "title": {
         "text": "ISOMAP"
        },
        "xaxis": {
         "anchor": "y",
         "domain": [
          0,
          1
         ],
         "title": {
          "text": "PC1"
         }
        },
        "yaxis": {
         "anchor": "x",
         "domain": [
          0,
          1
         ],
         "title": {
          "text": "PC2"
         }
        }
       }
      }
     },
     "metadata": {},
     "output_type": "display_data"
    }
   ],
   "source": [
    "fig_isomap_2d = px.scatter(df_isomap, x='PC1', y='PC2', color='tipoCultivo',\n",
    "                    labels = {'color':'tipoCultivo', 0:'PC1',1:'PC2'},\n",
    "                    title='ISOMAP')\n",
    "fig_isomap_2d.show()"
   ]
  },
  {
   "cell_type": "markdown",
   "id": "e0af2fb2",
   "metadata": {},
   "source": [
    "# T-SNE"
   ]
  },
  {
   "cell_type": "code",
   "execution_count": 223,
   "id": "7a88d8a1",
   "metadata": {},
   "outputs": [],
   "source": [
    "tsne = TSNE(n_components=2, init='random', method='exact', random_state=42, max_iter=1000, perplexity=8) #fijate perplexity\n",
    "X_reduced_tsne = tsne.fit_transform(X)\n",
    "\n",
    "tsne_df = pd.DataFrame(\n",
    "    data=X_reduced_tsne,\n",
    "    columns=['CP1', 'CP2'])\n",
    "tsne_df['tipoCultivo'] = y"
   ]
  },
  {
   "cell_type": "code",
   "execution_count": 224,
   "id": "edbed507",
   "metadata": {},
   "outputs": [
    {
     "data": {
      "application/vnd.plotly.v1+json": {
       "config": {
        "plotlyServerURL": "https://plot.ly"
       },
       "data": [
        {
         "hovertemplate": "tipoCultivo=Trigo<br>CP1=%{x}<br>CP2=%{y}<extra></extra>",
         "legendgroup": "Trigo",
         "marker": {
          "color": "#636efa",
          "symbol": "circle"
         },
         "mode": "markers",
         "name": "Trigo",
         "orientation": "v",
         "showlegend": true,
         "type": "scatter",
         "x": {
          "bdata": "Q9OkwKGl4UAc/x9BMwB8wL06+EGbTjvB0a8GwTtlQcEO5hlCdsMGQX8rlcDbkgHCY6q0QZV0i0EyT+TA8oaOwWuC1r2aT0HA31XXwdxqTsGoAx5CVN3+v9+dfkGcIQLCS40FQmbzD0I5gJ1B4wIKwey0O78brgZCqGIDwZNHtMEX+FtBHkmYwS7oU0GbRs1AIKhdwTi6Oj/upZfB7OK2v1ClzcGpLR1B8crKQOufPsCWMj7BjVTEwQPNUcGcz8/B",
          "dtype": "f4"
         },
         "xaxis": "x",
         "y": {
          "bdata": "o/fJwcxhH8L9OiHCGS7zQTT0gkGiyANC4qPFwXoR1sEnA3NA5uHQQWgSAkKf+NNAQiuTQQxVpkFiwrvBI1zlwEclEsLw4PRBVscPwBbdB0IFC9Y/vQwAQuqSlUH4UUlABlpzQfufYkHR+KRBcmmpwWL8AEK050hByc+0wd1lNcHgJzDChLH4QVr7zEHDjRjCuW3Uwag6F8L3kdXA7dILwjcmj8D3X+xBfFrWQbvM/MFGLZXBXFCjwFfnA0Iy0mLA",
          "dtype": "f4"
         },
         "yaxis": "y"
        },
        {
         "hovertemplate": "tipoCultivo=Maiz<br>CP1=%{x}<br>CP2=%{y}<extra></extra>",
         "legendgroup": "Maiz",
         "marker": {
          "color": "#EF553B",
          "symbol": "circle"
         },
         "mode": "markers",
         "name": "Maiz",
         "orientation": "v",
         "showlegend": true,
         "type": "scatter",
         "x": {
          "bdata": "D5OPQTJcE0KYy3fBVKgAQpYYBELBmqXBuQOjwYaZFUC9ICZCgEFmQXg3BEFAzKzBy+WJQMuvpb4Ar4ZBC21UQW5jysGtD63B7U0XQogSSsErykVBkospQt2OqUFoMOVAwK8FwhuZOcHoOZHB2HJDwVmQBUJjNKG/fvSIwfFUpMHLAExBak3pQJYFEsFLT87Ao4RHQLI8X8HSF6hAPrJuQa6R6MBE11u/nmlTwdRv7UBbKk7BCLduwTAX7cAyp+fBP5UJQiANFkKH365AktbuQex/ZUH01W3B",
          "dtype": "f4"
         },
         "xaxis": "x",
         "y": {
          "bdata": "OyG3Qfofn0DDx43BW3dyQRLDGkGATwpCSNENQr1oGsIkgRw/hUbCQaCeH8L3Xh3Bi4QOwoHVCsJ9rplBcM80woOrtcAmOizBM5I3QFbYzcGDmzLC+iPGP6Jqm0GcbBrCXx/DQBis/EFNUQPBIEygwQyAYkGMYgbCoLj+QQ0VzsCS4MVBrsr3QT7i3MG2r7bBNT4LwgwyqsGwjiTCUyq6QQcK80F1wAVCdzXbwbXB7EGCHY7BgZ6BwQX8rMEUTC5AKeVWQboJtkBiX9pBJqSBQUCRM8IlHwBC",
          "dtype": "f4"
         },
         "yaxis": "y"
        },
        {
         "hovertemplate": "tipoCultivo=Soja<br>CP1=%{x}<br>CP2=%{y}<extra></extra>",
         "legendgroup": "Soja",
         "marker": {
          "color": "#00cc96",
          "symbol": "circle"
         },
         "mode": "markers",
         "name": "Soja",
         "orientation": "v",
         "showlegend": true,
         "type": "scatter",
         "x": {
          "bdata": "/8ABQmkuJMHZBe7BQHgvQTTuzUBmpx3B2HejwXBiLEHD/a5BlZD5wZKLob+jXbXAarrywMXHFEFJzvFBdv33wQCqDUGJNB5CIQpXwevCwEFL2pfBPUYCwgb0hEGPLRRBS37kvzQO4cEf97tBBv8BQu+gM0HcWtvBOeiAQQKkg8Bol5LBxQkfQmboKUKW0gtC4/MbQUE+PcHC6X1BuhhqwechBcI+qBTB0QOMwJ/Mq8FXOS5C+17uwbS3gcGGc6FAvOEfQu9Xw0D1ZxpCvKLewKn4+8GRC53Bjh6bwQ+ZnsFA3urBUKQRQln9PUH7AyrBEguFPw==",
          "dtype": "f4"
         },
         "xaxis": "x",
         "y": {
          "bdata": "T8QsQc8gAULYtPc/oVHaQS8Q5UFN6NXBlLodwZAC50F1MKBBcCkpQGuCD8K3Nf1BnNHkwaHSHMLoWHVBVfu2QAEv80FB356/ki+gwY9Dl0HvCgNC2zWVQGyFkEGXJSTCOoAEQgfJm8C5e5tB5ykTQT7MKMJ7iozAWeC5QQC29cFOU/5BVTq/vmexoT6gAm1BtXjiQeXB3cE288JBwB2LwddP60CGxgBCcwrvwewBRcEO86c/KKd2QPDnhMG6bhnC9FUXQH0MKMLDWRE/cOv8Qfgv4UCORQtCYC/wwOG8/kHuSqpAbjO9QInpK8I3TfhBoV0awg==",
          "dtype": "f4"
         },
         "yaxis": "y"
        }
       ],
       "layout": {
        "legend": {
         "title": {
          "text": "tipoCultivo"
         },
         "tracegroupgap": 0
        },
        "template": {
         "data": {
          "bar": [
           {
            "error_x": {
             "color": "#2a3f5f"
            },
            "error_y": {
             "color": "#2a3f5f"
            },
            "marker": {
             "line": {
              "color": "#E5ECF6",
              "width": 0.5
             },
             "pattern": {
              "fillmode": "overlay",
              "size": 10,
              "solidity": 0.2
             }
            },
            "type": "bar"
           }
          ],
          "barpolar": [
           {
            "marker": {
             "line": {
              "color": "#E5ECF6",
              "width": 0.5
             },
             "pattern": {
              "fillmode": "overlay",
              "size": 10,
              "solidity": 0.2
             }
            },
            "type": "barpolar"
           }
          ],
          "carpet": [
           {
            "aaxis": {
             "endlinecolor": "#2a3f5f",
             "gridcolor": "white",
             "linecolor": "white",
             "minorgridcolor": "white",
             "startlinecolor": "#2a3f5f"
            },
            "baxis": {
             "endlinecolor": "#2a3f5f",
             "gridcolor": "white",
             "linecolor": "white",
             "minorgridcolor": "white",
             "startlinecolor": "#2a3f5f"
            },
            "type": "carpet"
           }
          ],
          "choropleth": [
           {
            "colorbar": {
             "outlinewidth": 0,
             "ticks": ""
            },
            "type": "choropleth"
           }
          ],
          "contour": [
           {
            "colorbar": {
             "outlinewidth": 0,
             "ticks": ""
            },
            "colorscale": [
             [
              0,
              "#0d0887"
             ],
             [
              0.1111111111111111,
              "#46039f"
             ],
             [
              0.2222222222222222,
              "#7201a8"
             ],
             [
              0.3333333333333333,
              "#9c179e"
             ],
             [
              0.4444444444444444,
              "#bd3786"
             ],
             [
              0.5555555555555556,
              "#d8576b"
             ],
             [
              0.6666666666666666,
              "#ed7953"
             ],
             [
              0.7777777777777778,
              "#fb9f3a"
             ],
             [
              0.8888888888888888,
              "#fdca26"
             ],
             [
              1,
              "#f0f921"
             ]
            ],
            "type": "contour"
           }
          ],
          "contourcarpet": [
           {
            "colorbar": {
             "outlinewidth": 0,
             "ticks": ""
            },
            "type": "contourcarpet"
           }
          ],
          "heatmap": [
           {
            "colorbar": {
             "outlinewidth": 0,
             "ticks": ""
            },
            "colorscale": [
             [
              0,
              "#0d0887"
             ],
             [
              0.1111111111111111,
              "#46039f"
             ],
             [
              0.2222222222222222,
              "#7201a8"
             ],
             [
              0.3333333333333333,
              "#9c179e"
             ],
             [
              0.4444444444444444,
              "#bd3786"
             ],
             [
              0.5555555555555556,
              "#d8576b"
             ],
             [
              0.6666666666666666,
              "#ed7953"
             ],
             [
              0.7777777777777778,
              "#fb9f3a"
             ],
             [
              0.8888888888888888,
              "#fdca26"
             ],
             [
              1,
              "#f0f921"
             ]
            ],
            "type": "heatmap"
           }
          ],
          "histogram": [
           {
            "marker": {
             "pattern": {
              "fillmode": "overlay",
              "size": 10,
              "solidity": 0.2
             }
            },
            "type": "histogram"
           }
          ],
          "histogram2d": [
           {
            "colorbar": {
             "outlinewidth": 0,
             "ticks": ""
            },
            "colorscale": [
             [
              0,
              "#0d0887"
             ],
             [
              0.1111111111111111,
              "#46039f"
             ],
             [
              0.2222222222222222,
              "#7201a8"
             ],
             [
              0.3333333333333333,
              "#9c179e"
             ],
             [
              0.4444444444444444,
              "#bd3786"
             ],
             [
              0.5555555555555556,
              "#d8576b"
             ],
             [
              0.6666666666666666,
              "#ed7953"
             ],
             [
              0.7777777777777778,
              "#fb9f3a"
             ],
             [
              0.8888888888888888,
              "#fdca26"
             ],
             [
              1,
              "#f0f921"
             ]
            ],
            "type": "histogram2d"
           }
          ],
          "histogram2dcontour": [
           {
            "colorbar": {
             "outlinewidth": 0,
             "ticks": ""
            },
            "colorscale": [
             [
              0,
              "#0d0887"
             ],
             [
              0.1111111111111111,
              "#46039f"
             ],
             [
              0.2222222222222222,
              "#7201a8"
             ],
             [
              0.3333333333333333,
              "#9c179e"
             ],
             [
              0.4444444444444444,
              "#bd3786"
             ],
             [
              0.5555555555555556,
              "#d8576b"
             ],
             [
              0.6666666666666666,
              "#ed7953"
             ],
             [
              0.7777777777777778,
              "#fb9f3a"
             ],
             [
              0.8888888888888888,
              "#fdca26"
             ],
             [
              1,
              "#f0f921"
             ]
            ],
            "type": "histogram2dcontour"
           }
          ],
          "mesh3d": [
           {
            "colorbar": {
             "outlinewidth": 0,
             "ticks": ""
            },
            "type": "mesh3d"
           }
          ],
          "parcoords": [
           {
            "line": {
             "colorbar": {
              "outlinewidth": 0,
              "ticks": ""
             }
            },
            "type": "parcoords"
           }
          ],
          "pie": [
           {
            "automargin": true,
            "type": "pie"
           }
          ],
          "scatter": [
           {
            "fillpattern": {
             "fillmode": "overlay",
             "size": 10,
             "solidity": 0.2
            },
            "type": "scatter"
           }
          ],
          "scatter3d": [
           {
            "line": {
             "colorbar": {
              "outlinewidth": 0,
              "ticks": ""
             }
            },
            "marker": {
             "colorbar": {
              "outlinewidth": 0,
              "ticks": ""
             }
            },
            "type": "scatter3d"
           }
          ],
          "scattercarpet": [
           {
            "marker": {
             "colorbar": {
              "outlinewidth": 0,
              "ticks": ""
             }
            },
            "type": "scattercarpet"
           }
          ],
          "scattergeo": [
           {
            "marker": {
             "colorbar": {
              "outlinewidth": 0,
              "ticks": ""
             }
            },
            "type": "scattergeo"
           }
          ],
          "scattergl": [
           {
            "marker": {
             "colorbar": {
              "outlinewidth": 0,
              "ticks": ""
             }
            },
            "type": "scattergl"
           }
          ],
          "scattermap": [
           {
            "marker": {
             "colorbar": {
              "outlinewidth": 0,
              "ticks": ""
             }
            },
            "type": "scattermap"
           }
          ],
          "scattermapbox": [
           {
            "marker": {
             "colorbar": {
              "outlinewidth": 0,
              "ticks": ""
             }
            },
            "type": "scattermapbox"
           }
          ],
          "scatterpolar": [
           {
            "marker": {
             "colorbar": {
              "outlinewidth": 0,
              "ticks": ""
             }
            },
            "type": "scatterpolar"
           }
          ],
          "scatterpolargl": [
           {
            "marker": {
             "colorbar": {
              "outlinewidth": 0,
              "ticks": ""
             }
            },
            "type": "scatterpolargl"
           }
          ],
          "scatterternary": [
           {
            "marker": {
             "colorbar": {
              "outlinewidth": 0,
              "ticks": ""
             }
            },
            "type": "scatterternary"
           }
          ],
          "surface": [
           {
            "colorbar": {
             "outlinewidth": 0,
             "ticks": ""
            },
            "colorscale": [
             [
              0,
              "#0d0887"
             ],
             [
              0.1111111111111111,
              "#46039f"
             ],
             [
              0.2222222222222222,
              "#7201a8"
             ],
             [
              0.3333333333333333,
              "#9c179e"
             ],
             [
              0.4444444444444444,
              "#bd3786"
             ],
             [
              0.5555555555555556,
              "#d8576b"
             ],
             [
              0.6666666666666666,
              "#ed7953"
             ],
             [
              0.7777777777777778,
              "#fb9f3a"
             ],
             [
              0.8888888888888888,
              "#fdca26"
             ],
             [
              1,
              "#f0f921"
             ]
            ],
            "type": "surface"
           }
          ],
          "table": [
           {
            "cells": {
             "fill": {
              "color": "#EBF0F8"
             },
             "line": {
              "color": "white"
             }
            },
            "header": {
             "fill": {
              "color": "#C8D4E3"
             },
             "line": {
              "color": "white"
             }
            },
            "type": "table"
           }
          ]
         },
         "layout": {
          "annotationdefaults": {
           "arrowcolor": "#2a3f5f",
           "arrowhead": 0,
           "arrowwidth": 1
          },
          "autotypenumbers": "strict",
          "coloraxis": {
           "colorbar": {
            "outlinewidth": 0,
            "ticks": ""
           }
          },
          "colorscale": {
           "diverging": [
            [
             0,
             "#8e0152"
            ],
            [
             0.1,
             "#c51b7d"
            ],
            [
             0.2,
             "#de77ae"
            ],
            [
             0.3,
             "#f1b6da"
            ],
            [
             0.4,
             "#fde0ef"
            ],
            [
             0.5,
             "#f7f7f7"
            ],
            [
             0.6,
             "#e6f5d0"
            ],
            [
             0.7,
             "#b8e186"
            ],
            [
             0.8,
             "#7fbc41"
            ],
            [
             0.9,
             "#4d9221"
            ],
            [
             1,
             "#276419"
            ]
           ],
           "sequential": [
            [
             0,
             "#0d0887"
            ],
            [
             0.1111111111111111,
             "#46039f"
            ],
            [
             0.2222222222222222,
             "#7201a8"
            ],
            [
             0.3333333333333333,
             "#9c179e"
            ],
            [
             0.4444444444444444,
             "#bd3786"
            ],
            [
             0.5555555555555556,
             "#d8576b"
            ],
            [
             0.6666666666666666,
             "#ed7953"
            ],
            [
             0.7777777777777778,
             "#fb9f3a"
            ],
            [
             0.8888888888888888,
             "#fdca26"
            ],
            [
             1,
             "#f0f921"
            ]
           ],
           "sequentialminus": [
            [
             0,
             "#0d0887"
            ],
            [
             0.1111111111111111,
             "#46039f"
            ],
            [
             0.2222222222222222,
             "#7201a8"
            ],
            [
             0.3333333333333333,
             "#9c179e"
            ],
            [
             0.4444444444444444,
             "#bd3786"
            ],
            [
             0.5555555555555556,
             "#d8576b"
            ],
            [
             0.6666666666666666,
             "#ed7953"
            ],
            [
             0.7777777777777778,
             "#fb9f3a"
            ],
            [
             0.8888888888888888,
             "#fdca26"
            ],
            [
             1,
             "#f0f921"
            ]
           ]
          },
          "colorway": [
           "#636efa",
           "#EF553B",
           "#00cc96",
           "#ab63fa",
           "#FFA15A",
           "#19d3f3",
           "#FF6692",
           "#B6E880",
           "#FF97FF",
           "#FECB52"
          ],
          "font": {
           "color": "#2a3f5f"
          },
          "geo": {
           "bgcolor": "white",
           "lakecolor": "white",
           "landcolor": "#E5ECF6",
           "showlakes": true,
           "showland": true,
           "subunitcolor": "white"
          },
          "hoverlabel": {
           "align": "left"
          },
          "hovermode": "closest",
          "mapbox": {
           "style": "light"
          },
          "paper_bgcolor": "white",
          "plot_bgcolor": "#E5ECF6",
          "polar": {
           "angularaxis": {
            "gridcolor": "white",
            "linecolor": "white",
            "ticks": ""
           },
           "bgcolor": "#E5ECF6",
           "radialaxis": {
            "gridcolor": "white",
            "linecolor": "white",
            "ticks": ""
           }
          },
          "scene": {
           "xaxis": {
            "backgroundcolor": "#E5ECF6",
            "gridcolor": "white",
            "gridwidth": 2,
            "linecolor": "white",
            "showbackground": true,
            "ticks": "",
            "zerolinecolor": "white"
           },
           "yaxis": {
            "backgroundcolor": "#E5ECF6",
            "gridcolor": "white",
            "gridwidth": 2,
            "linecolor": "white",
            "showbackground": true,
            "ticks": "",
            "zerolinecolor": "white"
           },
           "zaxis": {
            "backgroundcolor": "#E5ECF6",
            "gridcolor": "white",
            "gridwidth": 2,
            "linecolor": "white",
            "showbackground": true,
            "ticks": "",
            "zerolinecolor": "white"
           }
          },
          "shapedefaults": {
           "line": {
            "color": "#2a3f5f"
           }
          },
          "ternary": {
           "aaxis": {
            "gridcolor": "white",
            "linecolor": "white",
            "ticks": ""
           },
           "baxis": {
            "gridcolor": "white",
            "linecolor": "white",
            "ticks": ""
           },
           "bgcolor": "#E5ECF6",
           "caxis": {
            "gridcolor": "white",
            "linecolor": "white",
            "ticks": ""
           }
          },
          "title": {
           "x": 0.05
          },
          "xaxis": {
           "automargin": true,
           "gridcolor": "white",
           "linecolor": "white",
           "ticks": "",
           "title": {
            "standoff": 15
           },
           "zerolinecolor": "white",
           "zerolinewidth": 2
          },
          "yaxis": {
           "automargin": true,
           "gridcolor": "white",
           "linecolor": "white",
           "ticks": "",
           "title": {
            "standoff": 15
           },
           "zerolinecolor": "white",
           "zerolinewidth": 2
          }
         }
        },
        "title": {
         "text": "T-SNE 2D Con CP1 y CP2"
        },
        "xaxis": {
         "anchor": "y",
         "domain": [
          0,
          1
         ],
         "title": {
          "text": "CP1"
         }
        },
        "yaxis": {
         "anchor": "x",
         "domain": [
          0,
          1
         ],
         "title": {
          "text": "CP2"
         }
        }
       }
      }
     },
     "metadata": {},
     "output_type": "display_data"
    }
   ],
   "source": [
    "fig_tsne_2d = px.scatter(tsne_df, x='CP1', y='CP2', color = y,\n",
    "                         labels = {'color':'Star type', 0:'PC1',1:'PC2'},\n",
    "                         title='T-SNE 2D Con CP1 y CP2')\n",
    "fig_tsne_2d.show()"
   ]
  },
  {
   "cell_type": "markdown",
   "id": "c8daf5bf",
   "metadata": {},
   "source": [
    "## K-MEANS"
   ]
  },
  {
   "cell_type": "code",
   "execution_count": 225,
   "id": "f405e7c5",
   "metadata": {},
   "outputs": [
    {
     "data": {
      "image/png": "[encoded data removed]",
      "text/plain": [
       "<Figure size 800x350 with 1 Axes>"
      ]
     },
     "metadata": {},
     "output_type": "display_data"
    }
   ],
   "source": [
    "X_std = scaler.fit_transform(X)\n",
    "\n",
    "Nc = range(1, 15)\n",
    "kmeans = [KMeans(n_clusters=k, random_state=42).fit(X_std) for k in Nc]\n",
    "\n",
    "# La suma de residuos cuadrados intra grupos de kMeans en sklearn se guarda en\n",
    "# el atributo inertia\n",
    "inertias = [model.inertia_ for model in kmeans]\n",
    "\n",
    "plt.figure(figsize=(8, 3.5))\n",
    "plt.plot(Nc,inertias, \"bo-\")\n",
    "plt.xlabel('Número de Clusters')\n",
    "plt.ylabel('RSS dentro de los grupos')\n",
    "plt.title('Gráfica de codo')\n",
    "plt.grid()\n",
    "plt.show()"
   ]
  },
  {
   "cell_type": "markdown",
   "id": "411aed69",
   "metadata": {},
   "source": [
    "GAP"
   ]
  },
  {
   "cell_type": "code",
   "execution_count": 226,
   "id": "2bd245c9",
   "metadata": {},
   "outputs": [],
   "source": [
    "def calculate_intra_cluster_dispersion(X, k):\n",
    "    kmeans = KMeans(n_clusters=k, random_state=42) \n",
    "    kmeans.fit(X_std)\n",
    "    return kmeans.inertia_"
   ]
  },
  {
   "cell_type": "code",
   "execution_count": 227,
   "id": "4c027208",
   "metadata": {},
   "outputs": [
    {
     "name": "stdout",
     "output_type": "stream",
     "text": [
      "Número óptimo de clusters según el Gap Statistic: 8\n"
     ]
    }
   ],
   "source": [
    "gaps = []\n",
    "max_k = 10\n",
    "\n",
    "# Calcula el Gap Statistic para determinar el número óptimo de clusters\n",
    "\n",
    "for k in range(1, max_k + 1):\n",
    "    # Calculo la inercia real sobre mis datos reales\n",
    "    real_inertia = calculate_intra_cluster_dispersion(X_std, k)\n",
    "    #Calculo la inercia de datos aleatorios con la misma estructura que mis datos originales\n",
    "    inertia_list = []\n",
    "    for _ in range(10):\n",
    "      random_data = np.random.rand(*X_std.shape)\n",
    "      intra_cluster_dispersion = calculate_intra_cluster_dispersion(random_data, k)\n",
    "      inertia_list.append(intra_cluster_dispersion)\n",
    "\n",
    "    reference_inertia = np.mean(inertia_list)\n",
    "\n",
    "    #Aplico la funcion de gap\n",
    "    gap = np.log(reference_inertia) - np.log(real_inertia)\n",
    "    gaps.append(gap)\n",
    "\n",
    "#se selecciona el valor de k (número de clusters) que maximiza el Gap Statistic.\n",
    "optimal_k = np.argmax(gaps) + 1\n",
    "\n",
    "print(\"Número óptimo de clusters según el Gap Statistic:\", optimal_k)"
   ]
  },
  {
   "cell_type": "markdown",
   "id": "ccd013e6",
   "metadata": {},
   "source": [
    "KMEANS de nuevo|"
   ]
  },
  {
   "cell_type": "code",
   "execution_count": 228,
   "id": "dee01881",
   "metadata": {},
   "outputs": [],
   "source": [
    "kmeans = KMeans(n_clusters=3, random_state=42,\n",
    "                init='k-means++', n_init=5, algorithm='lloyd')\n",
    "kmeans.fit(X_std) #Entrenamos el modelo\n",
    "y_pred = kmeans.predict(X_std)"
   ]
  },
  {
   "cell_type": "code",
   "execution_count": 229,
   "id": "4d5c87bd",
   "metadata": {},
   "outputs": [
    {
     "data": {
      "text/html": [
       "<div>\n",
       "<style scoped>\n",
       "    .dataframe tbody tr th:only-of-type {\n",
       "        vertical-align: middle;\n",
       "    }\n",
       "\n",
       "    .dataframe tbody tr th {\n",
       "        vertical-align: top;\n",
       "    }\n",
       "\n",
       "    .dataframe thead th {\n",
       "        text-align: right;\n",
       "    }\n",
       "</style>\n",
       "<table border=\"1\" class=\"dataframe\">\n",
       "  <thead>\n",
       "    <tr style=\"text-align: right;\">\n",
       "      <th></th>\n",
       "      <th>PC1</th>\n",
       "      <th>PC2</th>\n",
       "      <th>PC3</th>\n",
       "      <th>PC4</th>\n",
       "      <th>PC5</th>\n",
       "      <th>PC6</th>\n",
       "      <th>PC7</th>\n",
       "      <th>PC8</th>\n",
       "      <th>PC9</th>\n",
       "      <th>PC10</th>\n",
       "      <th>PC11</th>\n",
       "      <th>PC12</th>\n",
       "      <th>PC13</th>\n",
       "      <th>PC14</th>\n",
       "      <th>PC15</th>\n",
       "      <th>PC16</th>\n",
       "      <th>tipoCultivo</th>\n",
       "      <th>Etiquetas KMeans</th>\n",
       "    </tr>\n",
       "  </thead>\n",
       "  <tbody>\n",
       "    <tr>\n",
       "      <th>0</th>\n",
       "      <td>-0.068315</td>\n",
       "      <td>-0.430961</td>\n",
       "      <td>2.448585</td>\n",
       "      <td>0.453308</td>\n",
       "      <td>0.778546</td>\n",
       "      <td>-0.079128</td>\n",
       "      <td>-1.411301</td>\n",
       "      <td>0.213420</td>\n",
       "      <td>1.245448</td>\n",
       "      <td>0.277594</td>\n",
       "      <td>0.053400</td>\n",
       "      <td>1.255125</td>\n",
       "      <td>-0.947609</td>\n",
       "      <td>-0.145656</td>\n",
       "      <td>0.614417</td>\n",
       "      <td>-0.371073</td>\n",
       "      <td>Trigo</td>\n",
       "      <td>0</td>\n",
       "    </tr>\n",
       "    <tr>\n",
       "      <th>1</th>\n",
       "      <td>0.959151</td>\n",
       "      <td>0.744856</td>\n",
       "      <td>0.500574</td>\n",
       "      <td>-1.467113</td>\n",
       "      <td>1.723245</td>\n",
       "      <td>1.368822</td>\n",
       "      <td>0.272948</td>\n",
       "      <td>0.886305</td>\n",
       "      <td>1.089267</td>\n",
       "      <td>0.620799</td>\n",
       "      <td>-1.222328</td>\n",
       "      <td>-0.478189</td>\n",
       "      <td>0.494090</td>\n",
       "      <td>-0.876869</td>\n",
       "      <td>-0.194026</td>\n",
       "      <td>-1.174045</td>\n",
       "      <td>Maiz</td>\n",
       "      <td>0</td>\n",
       "    </tr>\n",
       "    <tr>\n",
       "      <th>2</th>\n",
       "      <td>1.174755</td>\n",
       "      <td>1.036803</td>\n",
       "      <td>-1.254872</td>\n",
       "      <td>-0.277938</td>\n",
       "      <td>0.499558</td>\n",
       "      <td>0.875947</td>\n",
       "      <td>0.908315</td>\n",
       "      <td>-0.935845</td>\n",
       "      <td>-0.641523</td>\n",
       "      <td>2.143201</td>\n",
       "      <td>0.111406</td>\n",
       "      <td>-1.156677</td>\n",
       "      <td>0.519555</td>\n",
       "      <td>-1.225925</td>\n",
       "      <td>0.222888</td>\n",
       "      <td>0.209024</td>\n",
       "      <td>Soja</td>\n",
       "      <td>0</td>\n",
       "    </tr>\n",
       "    <tr>\n",
       "      <th>3</th>\n",
       "      <td>-2.349818</td>\n",
       "      <td>-1.389282</td>\n",
       "      <td>-0.859643</td>\n",
       "      <td>-0.040962</td>\n",
       "      <td>-0.202887</td>\n",
       "      <td>-0.023863</td>\n",
       "      <td>-0.727274</td>\n",
       "      <td>1.701050</td>\n",
       "      <td>0.814356</td>\n",
       "      <td>-0.045609</td>\n",
       "      <td>0.134839</td>\n",
       "      <td>0.551898</td>\n",
       "      <td>-0.767000</td>\n",
       "      <td>0.610383</td>\n",
       "      <td>0.386530</td>\n",
       "      <td>0.399999</td>\n",
       "      <td>Trigo</td>\n",
       "      <td>1</td>\n",
       "    </tr>\n",
       "    <tr>\n",
       "      <th>4</th>\n",
       "      <td>0.977342</td>\n",
       "      <td>-1.927715</td>\n",
       "      <td>-0.310204</td>\n",
       "      <td>-1.930395</td>\n",
       "      <td>1.191368</td>\n",
       "      <td>-0.479648</td>\n",
       "      <td>0.720434</td>\n",
       "      <td>-0.087239</td>\n",
       "      <td>-0.419969</td>\n",
       "      <td>-0.951837</td>\n",
       "      <td>-0.567308</td>\n",
       "      <td>-1.108337</td>\n",
       "      <td>0.236096</td>\n",
       "      <td>0.616035</td>\n",
       "      <td>-0.269047</td>\n",
       "      <td>-0.592613</td>\n",
       "      <td>Soja</td>\n",
       "      <td>0</td>\n",
       "    </tr>\n",
       "  </tbody>\n",
       "</table>\n",
       "</div>"
      ],
      "text/plain": [
       "        PC1       PC2       PC3       PC4       PC5       PC6       PC7  \\\n",
       "0 -0.068315 -0.430961  2.448585  0.453308  0.778546 -0.079128 -1.411301   \n",
       "1  0.959151  0.744856  0.500574 -1.467113  1.723245  1.368822  0.272948   \n",
       "2  1.174755  1.036803 -1.254872 -0.277938  0.499558  0.875947  0.908315   \n",
       "3 -2.349818 -1.389282 -0.859643 -0.040962 -0.202887 -0.023863 -0.727274   \n",
       "4  0.977342 -1.927715 -0.310204 -1.930395  1.191368 -0.479648  0.720434   \n",
       "\n",
       "        PC8       PC9      PC10      PC11      PC12      PC13      PC14  \\\n",
       "0  0.213420  1.245448  0.277594  0.053400  1.255125 -0.947609 -0.145656   \n",
       "1  0.886305  1.089267  0.620799 -1.222328 -0.478189  0.494090 -0.876869   \n",
       "2 -0.935845 -0.641523  2.143201  0.111406 -1.156677  0.519555 -1.225925   \n",
       "3  1.701050  0.814356 -0.045609  0.134839  0.551898 -0.767000  0.610383   \n",
       "4 -0.087239 -0.419969 -0.951837 -0.567308 -1.108337  0.236096  0.616035   \n",
       "\n",
       "       PC15      PC16 tipoCultivo Etiquetas KMeans  \n",
       "0  0.614417 -0.371073       Trigo                0  \n",
       "1 -0.194026 -1.174045        Maiz                0  \n",
       "2  0.222888  0.209024        Soja                0  \n",
       "3  0.386530  0.399999       Trigo                1  \n",
       "4 -0.269047 -0.592613        Soja                0  "
      ]
     },
     "execution_count": 229,
     "metadata": {},
     "output_type": "execute_result"
    }
   ],
   "source": [
    "df_kmeans = pca_df.copy()\n",
    "\n",
    "df_kmeans['Etiquetas KMeans'] = kmeans.labels_\n",
    "df_kmeans['Etiquetas KMeans'] = df_kmeans['Etiquetas KMeans'].astype('category')\n",
    "df_kmeans.head()"
   ]
  },
  {
   "cell_type": "code",
   "execution_count": 230,
   "id": "493d15c0",
   "metadata": {},
   "outputs": [
    {
     "data": {
      "text/plain": [
       "array([[ 0.337418,  0.18634 ,  0.214902,  0.346343, -0.10628 , -0.455907,\n",
       "        -0.191899, -0.09025 ,  0.250853,  0.097794,  0.105493,  0.841309,\n",
       "        -0.655317,  0.004524, -0.372378, -0.096371],\n",
       "       [-0.413758, -0.148546, -0.286547, -0.260333,  0.006017,  0.340214,\n",
       "         0.044088,  0.0514  ,  0.02381 , -0.04223 , -0.012463, -0.537871,\n",
       "         0.406615,  0.473327, -0.684448, -0.026325],\n",
       "       [ 0.180056, -0.016859,  0.148167, -0.054261,  0.124098,  0.075027,\n",
       "         0.175745,  0.038048, -0.348199, -0.060817, -0.113738, -0.269278,\n",
       "         0.227706, -0.694131,  1.461032,  0.158756]])"
      ]
     },
     "execution_count": 230,
     "metadata": {},
     "output_type": "execute_result"
    }
   ],
   "source": [
    "np.set_printoptions(precision=6)\n",
    "kmeans.cluster_centers_\n",
    "# caracteristicas normalizadas que tendria el centroide de ese cluster."
   ]
  },
  {
   "cell_type": "code",
   "execution_count": 231,
   "id": "4891db4a",
   "metadata": {},
   "outputs": [
    {
     "data": {
      "application/vnd.plotly.v1+json": {
       "config": {
        "plotlyServerURL": "https://plot.ly"
       },
       "data": [
        {
         "hovertemplate": "Etiquetas KMeans=0<br>PC1=%{x}<br>PC2=%{y}<br>PC3=%{z}<extra></extra>",
         "legendgroup": "0",
         "marker": {
          "color": "#636efa",
          "symbol": "circle"
         },
         "mode": "markers",
         "name": "0",
         "scene": "scene",
         "showlegend": true,
         "type": "scatter3d",
         "x": {
          "bdata": "GVQpYhx9sb95H0fHXbHuPyKebIfLy/I/r3HcA2NG7z+3Vc7mQRznv2pdHr+Sztg/tyr8fq9L6L/Z5BIQ5lcEQOVDdAP2Ufg/ciqJAE9rA0C+w+/T8RIDQAZp2ucHy+e/4cfbGFXn6D9iZQ8Er5iiP63C7U5kogVAxsbITJO4AkDtOuSMH0v6PzzUu0GuiwFASqdVyIrCwr9Pt4LiaS30P+Rc6a5WC8O/WDPQX9Ka8T9KqK6hUocDQL/jx2JIAfE/usODQzT8/D91k/k7NEC8v3nBWpS5adc/qyVesVZYA0Aeme/GewrlP2ttKjXZXvC/l2HWiLeH47/C+XAp7znWP0a4D1MbVKi/LaqCFgE/AEC7qj5AZXIFQNAwaQuDnPk/sva9wnsM5r+9tHFb5Nf4PyDJKprBkOC/sBeDgV0O979Or6OETiDsP5RmdtOSsOC/HwOWYZhwAUCON6nvur8BQA0hiZlpYcI/i6GbghSOxr9vc7nKhW7iPxj0UvlRg/E/jYbJ3b3i+T/pGHHEORfpPwysFtULvPQ/a5RGStqpAUByIccljQfeP4MSCVVS0/8/dBhFisXPyT8=",
          "dtype": "f8"
         },
         "y": {
          "bdata": "G02Hc9uU27/wxp3a3NXnPyOF0ou+lvA/0RX8xOvX/r9h1Hey14e9v3umvcx54fu/EI718vno4L9s+xOkMJQDwGs1AkeDuNu/4uaGzzF5+7+Bi2k1sez0v72r0Umi7+e/Y7x4/9SJvL+PtEK5LMTEv1KiDk0fwea/NIhzXuNdAECgimVpxuLxv7Gl2TkC4Oi/4M6hl8Qh/L9r+8WN3w7uv1hIu04x87I/CejYy5AGwb/do3P0iMTyP/T+sDIPSes/3RGahzio6r/nNrKLjCf0v5+VfEH+jAfAA55YE4l87L+1pUoC0c30Pxtd17y5Jta/d2BviQzt8L+kK6A3TH/xP5d6XxFUqf2/U8bHbV2+4782xIf3CzvaPx01bRWlW/y/M+CK6oI95z89eK9ERDnlP59S4TUtOd6/Mcz05YBPwb8RimPqHo8BwCEXy/pFLNe/OicGLqig9T/Ah2eekzjGv5JNLvKSzNK/CrFZwTkCAsAD6l5Hjrv5vzBIHChmI9s/cSS2KGLk1T/lf9mPqw3Rv5fmBlhiufm/FTs5aNVU+T9PBl82Hpfgv6aX5CjHGu4/y1pO/mr/3j8=",
          "dtype": "f8"
         },
         "z": {
          "bdata": "/Z8FebOWA0Ak6w9LtATgPwsjsAH1E/S/NgypTWHa078MXWOkAKMCQDxJtD67072/XqubKiyl9z+mSwmRBgHcv/JQv6XRh/U/IJlNy5Pbq7+oTg2GXbDxP9CvyLExxdc/a1/MhUhH7j9j35t8Q04EQDxfeBmcKvG/reh3wYEf9j/dOElNJWXNPxKP74OT396/EJOLsrLs8z93yAdhrobpP+8MBwt34vM/7bVvpTt9/z+S74x8dnP0P3cMg9dMntG/v8X5JDjI8j+BWQA+dZLvPyrRwbr5qfo/9e0IC56V7b+vGM4g4Tjivzjb17X6Mf0/pNUI9pzsAEBmY8aV9Y4FQPDErVZnnNC/DXbHd/F1+79nBCCRmjTov2idzhubS9c/Py7N97fNBEB/bjwPw7v6PxUoAeluVQdA36uZ1rwH9T/Z46UbDQ/fP9TXNkmhdtA/PdokJijr8z9IJ2p6VU66P6TNPFvNXvA/ZXs/gDOQ9D8VEO6PBgLlP8v76hjjFuq/FCgK7e0f6D+b01I88XznP12CreeRUvU/yy9Yr62R0L+WnR8tFPQBwMtlWgTAG8q/pTAck/CK7z8=",
          "dtype": "f8"
         }
        },
        {
         "hovertemplate": "Etiquetas KMeans=1<br>PC1=%{x}<br>PC2=%{y}<br>PC3=%{z}<extra></extra>",
         "legendgroup": "1",
         "marker": {
          "color": "#EF553B",
          "symbol": "circle"
         },
         "mode": "markers",
         "name": "1",
         "scene": "scene",
         "showlegend": true,
         "type": "scatter3d",
         "x": {
          "bdata": "vqEnZ23MAsA68yccNJPGPy2U1Cc5jOc/i1FvlNvr0j8Ei3ZK1UP1v4yLANLgIu6/SVLMosnMuL+/PNtdXDPsP3VDA7q5yem/DoMAjwSb9b9JpSM/oUzwv7wfXnWbHN0/XftvpOyLZz+954rVOyLkP7EJGkZsNey/8uaPeuF19D/EphHOtuS4P65819Ut5ug/rumIQdX8BMCgHT7cy1mcv7YYTt8+Ft6/SbAFuoXfrL/o0FesLeDqvzo/ZrH0xf+/SP06ObXw4T/EMyQsnZDuv4CH+hs60OA/bXlI4/qrAsBbITevcJT1vx/zf+TMTPA/VmVTQ1wtA8AN2HO4pJLxP2HXmUnZlvK/9N9NNcve4L+bQxyGXXfcv4FQPJ1k3fm/nSHOEViEAMC72JrcKWj8v2rtNoBpfuI/LW7rLBiFwz8eNp1H/XraPwL5qTwlLvW/Jd0eqAwE2r8rjPqj+93nP7pAeQ+1O/2/qVmIX02iA8BLm2RBCxn4v6FHkxwtpOw/YUx/Jlov5L+sfmM6UKAIwIFzkfc3j9k/eGo1Zbyq478Ch429z1zLv3koWmcYM9m/BIljOP9p1b80gq/HMNH5v1CAfl+m59c/kbOadKX79L9YEi1NsD+pvwodXqp6Aew/ZKbfMpVizb9/Fhfzsw/GP+suFCu6OQDALAPxfpUy8b8=",
          "dtype": "f8"
         },
         "y": {
          "bdata": "pfWNPYA69r9UeC/HBPDFv9HPKRkb3vW/roYyy2b0+D9lvN4VXbb2v3XNOJM2j/6/v2XGFeSz6T84pFiMwBfiv3mipujTXO+/5JDOGTE49b9ol/GcuZP2v6Vm3V56Eos/SuD8hSWeyz9A/QyrJYgAwD5dfsWYKPi/nn8lHcSG9r/qYiTIDkcDwF6Wtpc6bOU/0zZPlzyE578zfwGmUTvRv9CJMnmZj7U/LRAgcBoU9r+O5CZdh3z9v0Zie2IWpee/7UixSQo0vb+eeK+tBDjzv7UslRR7pfq/hMDLORo9wj8J9w0naNj1vxFm5u99/uC/12mv1psKub8MMrv4ht/vvw0dPTmmOeO/aucMh3w59b9uT1db1TrivxxbN7nptfK/5HbPoDO1wD/TUKtu65vQv9I2Mj7sKs+/LV0OzTjv6r8vl8KdiS7WP7XadNWYEtq/nkyyLYIpnT/CNhRRemfKPxUwgeMM1dU/qm3Ohhpi8r805wyDJRjuv40Nzjycxum//el4mTC/+b9QRH/Spmy3P/8SyGoWagHARSHYD+JH37+rWOh+o3jhv8OmRR4ZPee/V4JT+lwI079ZW4Y/rTkCwMJBhQ57FZG/TIG7rmLA0T9hd5kChPH1P34R9xYUG86/jXvAlA5S17+zkTlmlQy0v648xfXt6dy/lVec1UPt8L8=",
          "dtype": "f8"
         },
         "z": {
          "bdata": "KZSLXTKC678JX9sRehDhvxLTpL+F4vK/m4RRfwCdBcAYUPaOHkn4v6CLhBmUj5y/wah530tn6b9gAqyhqtf7v/X+k4Jd4QHAzAKtaTiz+r/y0mTjUbvwv5RVFgq1twPAcaqdH2rOAMA/3b1Qb//Yv5ZtY7rQGd6/LRz12fHi6b9VeQmtvSvuv4ZQZs1bl/6/RHleX4VY6L+PzbPZLxnzPz9q9EtJkO2//MLGWMKzk785pkghbh7nv4ZX0UGvfvS/vsv9duoVAMD1aevJ5c/2v4H7UQsQvuy/5p9Cipq60L+eZ3s9DAICQLC9CbtnMwLAd/gxGmTcwz9dnu0X+1b0v8b23qAT0/I/Fak+2qff7j/7Ce9BzorWPzeKkbARfMK/LGBgFNxQ6L/r5Edc+vDFP5r7AtBT3/q/mDfHMScx4L/C7XI8qq/xvx0/dsi2s/G/+HQUUjIu7j85YEgZfCV2P+p4qBr/eui/aPM5YcyX+L9kJvh58PzEP/YcA+lvi/a/qPaCfAxs3L/Ig18pYKrWP9yCCKNmgPc/uwA+LgFn+b8Sg9m7qWrsv6YaKMf9Wv0/3bex0qXLA8DbmYffQaTmv4CczYxDUtg/Nkt2BwCg5L+RiIWvsl7yvyVQrszXlQHAn95TrXil4T9eMxAP8L8CwATTmJBeqcC/P3CUOweHAsA=",
          "dtype": "f8"
         }
        },
        {
         "hovertemplate": "Etiquetas KMeans=2<br>PC1=%{x}<br>PC2=%{y}<br>PC3=%{z}<extra></extra>",
         "legendgroup": "2",
         "marker": {
          "color": "#00cc96",
          "symbol": "circle"
         },
         "mode": "markers",
         "name": "2",
         "scene": "scene",
         "showlegend": true,
         "type": "scatter3d",
         "x": {
          "bdata": "VpY7+I2BAMADrONshG33v8+VxCbIOPQ/gFoiAPV29D+j3RoqAGziPyMQ41nPZvI/bm0KYXutvj/h/5XHLQDHvwYlMUJyV/Q/qNu6EYyL9b/hot2dZKYBwAUikCd1rgDAI6aeoXKt4T9tm9oVJ8Pev8xUa4iHJNk/u5zhOlN38b/OaVPIxGrdv3soCLmqTvM/H3Wr9xIXBsCJJIMcfcfvPxPa5ddIp+E/9u57V/aL6T+qjhVa5iCWv5X/asGTieq/1Vz0MtXa9T8R4zauSOP8P3xGDUAv/LA/T7PG55omzr84L1MnY5uxP/5uENLH4ew/m7FhwxSC/j81AN5Pru7hP6yQfU2It+K/5Yr3ZyM54L8b5r/1esHlv3ErfIBfrfa/ssLPmyOm3r/dyKlpt7/7v0PFw/A09ti/H7jmQF6IAMCmnMTUxg0DwNr17ERoYfG/ffaKiyQP/r+mj/FEPQYDwA==",
          "dtype": "f8"
         },
         "y": {
          "bdata": "hkxCp/E96z/Su7ufK1n2P54QSdxqUghAlchArWvA9z8jskUGq6b+P35XOVGxSAJATMgfHqKUvT9d+xIKJRHbP0i/yEnYDv4/83pQ9l2a/D+rimuKUQPyP6aPPWky3QRAIVm+xbCyBkBdM4mhmr/hP7dk3eLITtU/kNxSISf19T9goTOeAW7+PxNLWQyY7/U/w4d+ioVv6z8C3fM/nhQDQD/LAigqpfs/zYeRU9pS7D/xlJcTI04DQE2J53Anevs/sa3DWZZZ/z8QPAOYg4/8P1L3nqS1cO8/tSBfa6Ot1T8ZA2mRBUD2P/BYTdaYsO8/87gM6Sal0j+RgghUp/X0P40FvaoBDP8/Hv96knuW9D8ApDaDx18EQAL/8n6rfu0/LpAfoEzvAEAFXrg16A70P1orh6KUTf4/LqPRPF/P9j86cQNw3RDuP8Dojym35vA/riyK2XqF6T/pGKaabW4AQA==",
          "dtype": "f8"
         },
         "z": {
          "bdata": "1ZF/XM2W4j9lS2KU1snEPyr+a1p83PS/G30X1yWb47/ueOqlAJXTP7W7P79xFuq/xYk60GqQ8z9YT9mgSRLYP5safj7zecg/6YdvcY+47T/7mOQih1TqP+dReS4DMca/WVzJneqq9b9hRfdolIUAQGeRIMD8Ef8/ksd8MwNuaD8MCcPJ0MSsv2/it1Tfiua/TsNvW5cv2z+nRdU0UA7uv43HxFrfWvI/1Tqxb4lP8j+NRAv6J+vvvza/ieOnfbO/YubBThCA0j/vcqEdCMfIPyA2YU5r5v0/MsKjeAE26j8xxL1vfrXwP3aHYYSTDPA/PSbTK38I8D/NmgDTE+DjP3U3fDlMPdG/cxgy73uX7b9uU614hwPxv1BadXVC7t8/VJrGL1HI1T/BRdcij47PP0OFGp8jbQHA1EJJ71SnvT+eSTdlmbGUP+WFEIu/S/E/IgepX5tW2z8Ee9bHTI27Pw==",
          "dtype": "f8"
         }
        }
       ],
       "layout": {
        "legend": {
         "title": {
          "text": "Etiquetas KMeans"
         },
         "tracegroupgap": 0
        },
        "scene": {
         "domain": {
          "x": [
           0,
           1
          ],
          "y": [
           0,
           1
          ]
         },
         "xaxis": {
          "title": {
           "text": "PC1"
          }
         },
         "yaxis": {
          "title": {
           "text": "PC2"
          }
         },
         "zaxis": {
          "title": {
           "text": "PC3"
          }
         }
        },
        "template": {
         "data": {
          "bar": [
           {
            "error_x": {
             "color": "#2a3f5f"
            },
            "error_y": {
             "color": "#2a3f5f"
            },
            "marker": {
             "line": {
              "color": "#E5ECF6",
              "width": 0.5
             },
             "pattern": {
              "fillmode": "overlay",
              "size": 10,
              "solidity": 0.2
             }
            },
            "type": "bar"
           }
          ],
          "barpolar": [
           {
            "marker": {
             "line": {
              "color": "#E5ECF6",
              "width": 0.5
             },
             "pattern": {
              "fillmode": "overlay",
              "size": 10,
              "solidity": 0.2
             }
            },
            "type": "barpolar"
           }
          ],
          "carpet": [
           {
            "aaxis": {
             "endlinecolor": "#2a3f5f",
             "gridcolor": "white",
             "linecolor": "white",
             "minorgridcolor": "white",
             "startlinecolor": "#2a3f5f"
            },
            "baxis": {
             "endlinecolor": "#2a3f5f",
             "gridcolor": "white",
             "linecolor": "white",
             "minorgridcolor": "white",
             "startlinecolor": "#2a3f5f"
            },
            "type": "carpet"
           }
          ],
          "choropleth": [
           {
            "colorbar": {
             "outlinewidth": 0,
             "ticks": ""
            },
            "type": "choropleth"
           }
          ],
          "contour": [
           {
            "colorbar": {
             "outlinewidth": 0,
             "ticks": ""
            },
            "colorscale": [
             [
              0,
              "#0d0887"
             ],
             [
              0.1111111111111111,
              "#46039f"
             ],
             [
              0.2222222222222222,
              "#7201a8"
             ],
             [
              0.3333333333333333,
              "#9c179e"
             ],
             [
              0.4444444444444444,
              "#bd3786"
             ],
             [
              0.5555555555555556,
              "#d8576b"
             ],
             [
              0.6666666666666666,
              "#ed7953"
             ],
             [
              0.7777777777777778,
              "#fb9f3a"
             ],
             [
              0.8888888888888888,
              "#fdca26"
             ],
             [
              1,
              "#f0f921"
             ]
            ],
            "type": "contour"
           }
          ],
          "contourcarpet": [
           {
            "colorbar": {
             "outlinewidth": 0,
             "ticks": ""
            },
            "type": "contourcarpet"
           }
          ],
          "heatmap": [
           {
            "colorbar": {
             "outlinewidth": 0,
             "ticks": ""
            },
            "colorscale": [
             [
              0,
              "#0d0887"
             ],
             [
              0.1111111111111111,
              "#46039f"
             ],
             [
              0.2222222222222222,
              "#7201a8"
             ],
             [
              0.3333333333333333,
              "#9c179e"
             ],
             [
              0.4444444444444444,
              "#bd3786"
             ],
             [
              0.5555555555555556,
              "#d8576b"
             ],
             [
              0.6666666666666666,
              "#ed7953"
             ],
             [
              0.7777777777777778,
              "#fb9f3a"
             ],
             [
              0.8888888888888888,
              "#fdca26"
             ],
             [
              1,
              "#f0f921"
             ]
            ],
            "type": "heatmap"
           }
          ],
          "histogram": [
           {
            "marker": {
             "pattern": {
              "fillmode": "overlay",
              "size": 10,
              "solidity": 0.2
             }
            },
            "type": "histogram"
           }
          ],
          "histogram2d": [
           {
            "colorbar": {
             "outlinewidth": 0,
             "ticks": ""
            },
            "colorscale": [
             [
              0,
              "#0d0887"
             ],
             [
              0.1111111111111111,
              "#46039f"
             ],
             [
              0.2222222222222222,
              "#7201a8"
             ],
             [
              0.3333333333333333,
              "#9c179e"
             ],
             [
              0.4444444444444444,
              "#bd3786"
             ],
             [
              0.5555555555555556,
              "#d8576b"
             ],
             [
              0.6666666666666666,
              "#ed7953"
             ],
             [
              0.7777777777777778,
              "#fb9f3a"
             ],
             [
              0.8888888888888888,
              "#fdca26"
             ],
             [
              1,
              "#f0f921"
             ]
            ],
            "type": "histogram2d"
           }
          ],
          "histogram2dcontour": [
           {
            "colorbar": {
             "outlinewidth": 0,
             "ticks": ""
            },
            "colorscale": [
             [
              0,
              "#0d0887"
             ],
             [
              0.1111111111111111,
              "#46039f"
             ],
             [
              0.2222222222222222,
              "#7201a8"
             ],
             [
              0.3333333333333333,
              "#9c179e"
             ],
             [
              0.4444444444444444,
              "#bd3786"
             ],
             [
              0.5555555555555556,
              "#d8576b"
             ],
             [
              0.6666666666666666,
              "#ed7953"
             ],
             [
              0.7777777777777778,
              "#fb9f3a"
             ],
             [
              0.8888888888888888,
              "#fdca26"
             ],
             [
              1,
              "#f0f921"
             ]
            ],
            "type": "histogram2dcontour"
           }
          ],
          "mesh3d": [
           {
            "colorbar": {
             "outlinewidth": 0,
             "ticks": ""
            },
            "type": "mesh3d"
           }
          ],
          "parcoords": [
           {
            "line": {
             "colorbar": {
              "outlinewidth": 0,
              "ticks": ""
             }
            },
            "type": "parcoords"
           }
          ],
          "pie": [
           {
            "automargin": true,
            "type": "pie"
           }
          ],
          "scatter": [
           {
            "fillpattern": {
             "fillmode": "overlay",
             "size": 10,
             "solidity": 0.2
            },
            "type": "scatter"
           }
          ],
          "scatter3d": [
           {
            "line": {
             "colorbar": {
              "outlinewidth": 0,
              "ticks": ""
             }
            },
            "marker": {
             "colorbar": {
              "outlinewidth": 0,
              "ticks": ""
             }
            },
            "type": "scatter3d"
           }
          ],
          "scattercarpet": [
           {
            "marker": {
             "colorbar": {
              "outlinewidth": 0,
              "ticks": ""
             }
            },
            "type": "scattercarpet"
           }
          ],
          "scattergeo": [
           {
            "marker": {
             "colorbar": {
              "outlinewidth": 0,
              "ticks": ""
             }
            },
            "type": "scattergeo"
           }
          ],
          "scattergl": [
           {
            "marker": {
             "colorbar": {
              "outlinewidth": 0,
              "ticks": ""
             }
            },
            "type": "scattergl"
           }
          ],
          "scattermap": [
           {
            "marker": {
             "colorbar": {
              "outlinewidth": 0,
              "ticks": ""
             }
            },
            "type": "scattermap"
           }
          ],
          "scattermapbox": [
           {
            "marker": {
             "colorbar": {
              "outlinewidth": 0,
              "ticks": ""
             }
            },
            "type": "scattermapbox"
           }
          ],
          "scatterpolar": [
           {
            "marker": {
             "colorbar": {
              "outlinewidth": 0,
              "ticks": ""
             }
            },
            "type": "scatterpolar"
           }
          ],
          "scatterpolargl": [
           {
            "marker": {
             "colorbar": {
              "outlinewidth": 0,
              "ticks": ""
             }
            },
            "type": "scatterpolargl"
           }
          ],
          "scatterternary": [
           {
            "marker": {
             "colorbar": {
              "outlinewidth": 0,
              "ticks": ""
             }
            },
            "type": "scatterternary"
           }
          ],
          "surface": [
           {
            "colorbar": {
             "outlinewidth": 0,
             "ticks": ""
            },
            "colorscale": [
             [
              0,
              "#0d0887"
             ],
             [
              0.1111111111111111,
              "#46039f"
             ],
             [
              0.2222222222222222,
              "#7201a8"
             ],
             [
              0.3333333333333333,
              "#9c179e"
             ],
             [
              0.4444444444444444,
              "#bd3786"
             ],
             [
              0.5555555555555556,
              "#d8576b"
             ],
             [
              0.6666666666666666,
              "#ed7953"
             ],
             [
              0.7777777777777778,
              "#fb9f3a"
             ],
             [
              0.8888888888888888,
              "#fdca26"
             ],
             [
              1,
              "#f0f921"
             ]
            ],
            "type": "surface"
           }
          ],
          "table": [
           {
            "cells": {
             "fill": {
              "color": "#EBF0F8"
             },
             "line": {
              "color": "white"
             }
            },
            "header": {
             "fill": {
              "color": "#C8D4E3"
             },
             "line": {
              "color": "white"
             }
            },
            "type": "table"
           }
          ]
         },
         "layout": {
          "annotationdefaults": {
           "arrowcolor": "#2a3f5f",
           "arrowhead": 0,
           "arrowwidth": 1
          },
          "autotypenumbers": "strict",
          "coloraxis": {
           "colorbar": {
            "outlinewidth": 0,
            "ticks": ""
           }
          },
          "colorscale": {
           "diverging": [
            [
             0,
             "#8e0152"
            ],
            [
             0.1,
             "#c51b7d"
            ],
            [
             0.2,
             "#de77ae"
            ],
            [
             0.3,
             "#f1b6da"
            ],
            [
             0.4,
             "#fde0ef"
            ],
            [
             0.5,
             "#f7f7f7"
            ],
            [
             0.6,
             "#e6f5d0"
            ],
            [
             0.7,
             "#b8e186"
            ],
            [
             0.8,
             "#7fbc41"
            ],
            [
             0.9,
             "#4d9221"
            ],
            [
             1,
             "#276419"
            ]
           ],
           "sequential": [
            [
             0,
             "#0d0887"
            ],
            [
             0.1111111111111111,
             "#46039f"
            ],
            [
             0.2222222222222222,
             "#7201a8"
            ],
            [
             0.3333333333333333,
             "#9c179e"
            ],
            [
             0.4444444444444444,
             "#bd3786"
            ],
            [
             0.5555555555555556,
             "#d8576b"
            ],
            [
             0.6666666666666666,
             "#ed7953"
            ],
            [
             0.7777777777777778,
             "#fb9f3a"
            ],
            [
             0.8888888888888888,
             "#fdca26"
            ],
            [
             1,
             "#f0f921"
            ]
           ],
           "sequentialminus": [
            [
             0,
             "#0d0887"
            ],
            [
             0.1111111111111111,
             "#46039f"
            ],
            [
             0.2222222222222222,
             "#7201a8"
            ],
            [
             0.3333333333333333,
             "#9c179e"
            ],
            [
             0.4444444444444444,
             "#bd3786"
            ],
            [
             0.5555555555555556,
             "#d8576b"
            ],
            [
             0.6666666666666666,
             "#ed7953"
            ],
            [
             0.7777777777777778,
             "#fb9f3a"
            ],
            [
             0.8888888888888888,
             "#fdca26"
            ],
            [
             1,
             "#f0f921"
            ]
           ]
          },
          "colorway": [
           "#636efa",
           "#EF553B",
           "#00cc96",
           "#ab63fa",
           "#FFA15A",
           "#19d3f3",
           "#FF6692",
           "#B6E880",
           "#FF97FF",
           "#FECB52"
          ],
          "font": {
           "color": "#2a3f5f"
          },
          "geo": {
           "bgcolor": "white",
           "lakecolor": "white",
           "landcolor": "#E5ECF6",
           "showlakes": true,
           "showland": true,
           "subunitcolor": "white"
          },
          "hoverlabel": {
           "align": "left"
          },
          "hovermode": "closest",
          "mapbox": {
           "style": "light"
          },
          "paper_bgcolor": "white",
          "plot_bgcolor": "#E5ECF6",
          "polar": {
           "angularaxis": {
            "gridcolor": "white",
            "linecolor": "white",
            "ticks": ""
           },
           "bgcolor": "#E5ECF6",
           "radialaxis": {
            "gridcolor": "white",
            "linecolor": "white",
            "ticks": ""
           }
          },
          "scene": {
           "xaxis": {
            "backgroundcolor": "#E5ECF6",
            "gridcolor": "white",
            "gridwidth": 2,
            "linecolor": "white",
            "showbackground": true,
            "ticks": "",
            "zerolinecolor": "white"
           },
           "yaxis": {
            "backgroundcolor": "#E5ECF6",
            "gridcolor": "white",
            "gridwidth": 2,
            "linecolor": "white",
            "showbackground": true,
            "ticks": "",
            "zerolinecolor": "white"
           },
           "zaxis": {
            "backgroundcolor": "#E5ECF6",
            "gridcolor": "white",
            "gridwidth": 2,
            "linecolor": "white",
            "showbackground": true,
            "ticks": "",
            "zerolinecolor": "white"
           }
          },
          "shapedefaults": {
           "line": {
            "color": "#2a3f5f"
           }
          },
          "ternary": {
           "aaxis": {
            "gridcolor": "white",
            "linecolor": "white",
            "ticks": ""
           },
           "baxis": {
            "gridcolor": "white",
            "linecolor": "white",
            "ticks": ""
           },
           "bgcolor": "#E5ECF6",
           "caxis": {
            "gridcolor": "white",
            "linecolor": "white",
            "ticks": ""
           }
          },
          "title": {
           "x": 0.05
          },
          "xaxis": {
           "automargin": true,
           "gridcolor": "white",
           "linecolor": "white",
           "ticks": "",
           "title": {
            "standoff": 15
           },
           "zerolinecolor": "white",
           "zerolinewidth": 2
          },
          "yaxis": {
           "automargin": true,
           "gridcolor": "white",
           "linecolor": "white",
           "ticks": "",
           "title": {
            "standoff": 15
           },
           "zerolinecolor": "white",
           "zerolinewidth": 2
          }
         }
        },
        "title": {
         "text": "Dispersión de las variedades de trigo (K-means)"
        }
       }
      }
     },
     "metadata": {},
     "output_type": "display_data"
    }
   ],
   "source": [
    "fig = px.scatter_3d(df_kmeans, x='PC1', y='PC2', z='PC3',\n",
    "                    color='Etiquetas KMeans',\n",
    "                    title='Dispersión de las variedades de trigo (K-means)')\n",
    "fig.show()"
   ]
  },
  {
   "cell_type": "markdown",
   "id": "00ad5f7e",
   "metadata": {},
   "source": [
    "## Clustering jerarquico"
   ]
  },
  {
   "cell_type": "code",
   "execution_count": 232,
   "id": "2e44adfb",
   "metadata": {},
   "outputs": [],
   "source": [
    "Z = linkage(X_std, \"ward\")"
   ]
  },
  {
   "cell_type": "code",
   "execution_count": 233,
   "id": "f8664a47",
   "metadata": {},
   "outputs": [
    {
     "data": {
      "image/png": "[encoded data removed]",
      "text/plain": [
       "<Figure size 640x480 with 1 Axes>"
      ]
     },
     "metadata": {},
     "output_type": "display_data"
    }
   ],
   "source": [
    "dendrogram(Z,  truncate_mode = 'lastp', p = 20, show_leaf_counts = True,\n",
    "           show_contracted = True)\n",
    "plt.axhline(y=110, c='k', linestyle='dashed')\n",
    "plt.xlabel(\"Numero de puntos en el nodo\")\n",
    "plt.show()"
   ]
  },
  {
   "cell_type": "code",
   "execution_count": 234,
   "id": "aad6b690",
   "metadata": {},
   "outputs": [],
   "source": [
    "distancias=[]\n",
    "for i in range(1, 10):\n",
    "    clustering = AgglomerativeClustering(n_clusters=i) # Aplica clustering jerárquico con i clusters\n",
    "    clustering.fit(X_std)\n",
    "\n",
    "    # Calcula la matriz de distancias por pares entre los puntos\n",
    "    pairwise_distances = cdist(X_std, X_std, 'euclidean')\n",
    "\n",
    "    # Calcula la distancia total dentro de los clusters\n",
    "    distancia_total = 0\n",
    "    for j in range(i):\n",
    "        cluster_indices = np.where(clustering.labels_ == j)\n",
    "        # Encuentra los índices de los puntos en el cluster j\n",
    "        distancia_total += pairwise_distances[cluster_indices][:, cluster_indices].sum()\n",
    "        # Suma las distancias dentro del cluster\n",
    "\n",
    "\n",
    "    distancias.append(distancia_total)\n",
    "    # Almacena la distancia total para el número de clusters i"
   ]
  },
  {
   "cell_type": "code",
   "execution_count": 235,
   "id": "44cb1d3a",
   "metadata": {},
   "outputs": [
    {
     "data": {
      "image/png": "[encoded data removed]",
      "text/plain": [
       "<Figure size 640x480 with 1 Axes>"
      ]
     },
     "metadata": {},
     "output_type": "display_data"
    }
   ],
   "source": [
    "# Grafica la distancia total en función del número de clusters\n",
    "plt.plot(range(1, 10), distancias, marker='o')\n",
    "plt.xlabel('Número de Clusters')\n",
    "plt.ylabel('Distancia Total')\n",
    "plt.title('Método del Codo para Clustering Jerárquico')\n",
    "plt.grid()\n",
    "plt.show()"
   ]
  },
  {
   "cell_type": "code",
   "execution_count": 237,
   "id": "207983ab",
   "metadata": {},
   "outputs": [
    {
     "data": {
      "text/html": [
       "<div>\n",
       "<style scoped>\n",
       "    .dataframe tbody tr th:only-of-type {\n",
       "        vertical-align: middle;\n",
       "    }\n",
       "\n",
       "    .dataframe tbody tr th {\n",
       "        vertical-align: top;\n",
       "    }\n",
       "\n",
       "    .dataframe thead th {\n",
       "        text-align: right;\n",
       "    }\n",
       "</style>\n",
       "<table border=\"1\" class=\"dataframe\">\n",
       "  <thead>\n",
       "    <tr style=\"text-align: right;\">\n",
       "      <th></th>\n",
       "      <th>PC1</th>\n",
       "      <th>PC2</th>\n",
       "      <th>PC3</th>\n",
       "      <th>PC4</th>\n",
       "      <th>PC5</th>\n",
       "      <th>PC6</th>\n",
       "      <th>PC7</th>\n",
       "      <th>PC8</th>\n",
       "      <th>PC9</th>\n",
       "      <th>PC10</th>\n",
       "      <th>PC11</th>\n",
       "      <th>PC12</th>\n",
       "      <th>PC13</th>\n",
       "      <th>PC14</th>\n",
       "      <th>PC15</th>\n",
       "      <th>PC16</th>\n",
       "      <th>tipoCultivo</th>\n",
       "      <th>Etiquetas jerarquico</th>\n",
       "    </tr>\n",
       "  </thead>\n",
       "  <tbody>\n",
       "    <tr>\n",
       "      <th>0</th>\n",
       "      <td>-0.068315</td>\n",
       "      <td>-0.430961</td>\n",
       "      <td>2.448585</td>\n",
       "      <td>0.453308</td>\n",
       "      <td>0.778546</td>\n",
       "      <td>-0.079128</td>\n",
       "      <td>-1.411301</td>\n",
       "      <td>0.213420</td>\n",
       "      <td>1.245448</td>\n",
       "      <td>0.277594</td>\n",
       "      <td>0.053400</td>\n",
       "      <td>1.255125</td>\n",
       "      <td>-0.947609</td>\n",
       "      <td>-0.145656</td>\n",
       "      <td>0.614417</td>\n",
       "      <td>-0.371073</td>\n",
       "      <td>Trigo</td>\n",
       "      <td>0</td>\n",
       "    </tr>\n",
       "    <tr>\n",
       "      <th>1</th>\n",
       "      <td>0.959151</td>\n",
       "      <td>0.744856</td>\n",
       "      <td>0.500574</td>\n",
       "      <td>-1.467113</td>\n",
       "      <td>1.723245</td>\n",
       "      <td>1.368822</td>\n",
       "      <td>0.272948</td>\n",
       "      <td>0.886305</td>\n",
       "      <td>1.089267</td>\n",
       "      <td>0.620799</td>\n",
       "      <td>-1.222328</td>\n",
       "      <td>-0.478189</td>\n",
       "      <td>0.494090</td>\n",
       "      <td>-0.876869</td>\n",
       "      <td>-0.194026</td>\n",
       "      <td>-1.174045</td>\n",
       "      <td>Maiz</td>\n",
       "      <td>1</td>\n",
       "    </tr>\n",
       "    <tr>\n",
       "      <th>2</th>\n",
       "      <td>1.174755</td>\n",
       "      <td>1.036803</td>\n",
       "      <td>-1.254872</td>\n",
       "      <td>-0.277938</td>\n",
       "      <td>0.499558</td>\n",
       "      <td>0.875947</td>\n",
       "      <td>0.908315</td>\n",
       "      <td>-0.935845</td>\n",
       "      <td>-0.641523</td>\n",
       "      <td>2.143201</td>\n",
       "      <td>0.111406</td>\n",
       "      <td>-1.156677</td>\n",
       "      <td>0.519555</td>\n",
       "      <td>-1.225925</td>\n",
       "      <td>0.222888</td>\n",
       "      <td>0.209024</td>\n",
       "      <td>Soja</td>\n",
       "      <td>1</td>\n",
       "    </tr>\n",
       "    <tr>\n",
       "      <th>3</th>\n",
       "      <td>-2.349818</td>\n",
       "      <td>-1.389282</td>\n",
       "      <td>-0.859643</td>\n",
       "      <td>-0.040962</td>\n",
       "      <td>-0.202887</td>\n",
       "      <td>-0.023863</td>\n",
       "      <td>-0.727274</td>\n",
       "      <td>1.701050</td>\n",
       "      <td>0.814356</td>\n",
       "      <td>-0.045609</td>\n",
       "      <td>0.134839</td>\n",
       "      <td>0.551898</td>\n",
       "      <td>-0.767000</td>\n",
       "      <td>0.610383</td>\n",
       "      <td>0.386530</td>\n",
       "      <td>0.399999</td>\n",
       "      <td>Trigo</td>\n",
       "      <td>2</td>\n",
       "    </tr>\n",
       "    <tr>\n",
       "      <th>4</th>\n",
       "      <td>0.977342</td>\n",
       "      <td>-1.927715</td>\n",
       "      <td>-0.310204</td>\n",
       "      <td>-1.930395</td>\n",
       "      <td>1.191368</td>\n",
       "      <td>-0.479648</td>\n",
       "      <td>0.720434</td>\n",
       "      <td>-0.087239</td>\n",
       "      <td>-0.419969</td>\n",
       "      <td>-0.951837</td>\n",
       "      <td>-0.567308</td>\n",
       "      <td>-1.108337</td>\n",
       "      <td>0.236096</td>\n",
       "      <td>0.616035</td>\n",
       "      <td>-0.269047</td>\n",
       "      <td>-0.592613</td>\n",
       "      <td>Soja</td>\n",
       "      <td>0</td>\n",
       "    </tr>\n",
       "  </tbody>\n",
       "</table>\n",
       "</div>"
      ],
      "text/plain": [
       "        PC1       PC2       PC3       PC4       PC5       PC6       PC7  \\\n",
       "0 -0.068315 -0.430961  2.448585  0.453308  0.778546 -0.079128 -1.411301   \n",
       "1  0.959151  0.744856  0.500574 -1.467113  1.723245  1.368822  0.272948   \n",
       "2  1.174755  1.036803 -1.254872 -0.277938  0.499558  0.875947  0.908315   \n",
       "3 -2.349818 -1.389282 -0.859643 -0.040962 -0.202887 -0.023863 -0.727274   \n",
       "4  0.977342 -1.927715 -0.310204 -1.930395  1.191368 -0.479648  0.720434   \n",
       "\n",
       "        PC8       PC9      PC10      PC11      PC12      PC13      PC14  \\\n",
       "0  0.213420  1.245448  0.277594  0.053400  1.255125 -0.947609 -0.145656   \n",
       "1  0.886305  1.089267  0.620799 -1.222328 -0.478189  0.494090 -0.876869   \n",
       "2 -0.935845 -0.641523  2.143201  0.111406 -1.156677  0.519555 -1.225925   \n",
       "3  1.701050  0.814356 -0.045609  0.134839  0.551898 -0.767000  0.610383   \n",
       "4 -0.087239 -0.419969 -0.951837 -0.567308 -1.108337  0.236096  0.616035   \n",
       "\n",
       "       PC15      PC16 tipoCultivo  Etiquetas jerarquico  \n",
       "0  0.614417 -0.371073       Trigo                     0  \n",
       "1 -0.194026 -1.174045        Maiz                     1  \n",
       "2  0.222888  0.209024        Soja                     1  \n",
       "3  0.386530  0.399999       Trigo                     2  \n",
       "4 -0.269047 -0.592613        Soja                     0  "
      ]
     },
     "execution_count": 237,
     "metadata": {},
     "output_type": "execute_result"
    }
   ],
   "source": [
    "n_clusters = 3\n",
    "clustering = AgglomerativeClustering(n_clusters=n_clusters)\n",
    "\n",
    "cluster_assignments = clustering.fit_predict(X_std) # Asigna los clusters a los datos\n",
    "\n",
    "df_clustering = pca_df.copy()\n",
    "\n",
    "df_clustering['Etiquetas jerarquico'] = cluster_assignments # Añade la columna con el cluster asignado a cada punto\n",
    "\n",
    "df_clustering.head()"
   ]
  },
  {
   "cell_type": "code",
   "execution_count": 241,
   "id": "aec1a7d4",
   "metadata": {},
   "outputs": [
    {
     "data": {
      "application/vnd.plotly.v1+json": {
       "config": {
        "plotlyServerURL": "https://plot.ly"
       },
       "data": [
        {
         "hovertemplate": "PC1=%{x}<br>PC2=%{y}<br>PC3=%{z}<br>Etiquetas jerarquico=%{marker.color}<extra></extra>",
         "legendgroup": "",
         "marker": {
          "color": {
           "bdata": "AAEBAgAAAQAAAQEBAQECAgEBAAACAAEAAgECAQEAAQECAQAAAAEAAAEBAAABAAACAQEBAAAAAAEAAAEAAAAAAQIAAQABAQECAQECAAACAAABAQABAAEAAAAAAAECAAIBAAACAAAAAgICAQABAAABAgABAAECAAABAQEAAQABAQIBAQABAAACAQEBAQABAAEBAAECAQIBAQEBAQAAAAABAAIBAQ==",
           "dtype": "i1"
          },
          "coloraxis": "coloraxis",
          "symbol": "circle"
         },
         "mode": "markers",
         "name": "",
         "scene": "scene",
         "showlegend": false,
         "type": "scatter3d",
         "x": {
          "bdata": "GVQpYhx9sb95H0fHXbHuPyKebIfLy/I/vqEnZ23MAsCvcdwDY0bvP7dVzuZBHOe/VpY7+I2BAMA68yccNJPGPy2U1Cc5jOc/A6zjbIRt97/PlcQmyDj0P4tRb5Tb69I/gFoiAPV29D+j3RoqAGziPwSLdkrVQ/W/jIsA0uAi7r9JUsyiycy4vyMQ41nPZvI/al0ev5LO2D+/PNtdXDPsP3VDA7q5yem/tyr8fq9L6L9ubQphe62+P9nkEhDmVwRADoMAjwSb9b/h/5XHLQDHv0mlIz+hTPC/vB9edZsc3T9d+2+k7ItnP73nitU7IuQ/5UN0A/ZR+D8GJTFCclf0P7EJGkZsNey/qNu6EYyL9b/y5o964XX0P3IqiQBPawNAvsPv0/ESA0Dhot2dZKYBwAZp2ucHy+e/4cfbGFXn6D8FIpAnda4AwCOmnqFyreE/xKYRzrbkuD9tm9oVJ8Pev65819Ut5ug/YmUPBK+Yoj+twu1OZKIFQK7piEHV/ATAzFRriIck2T+7nOE6U3fxv85pU8jEat2/eygIuapO8z+gHT7cy1mcv7YYTt8+Ft6/SbAFuoXfrL/GxshMk7gCQO065IwfS/o/PNS7Qa6LAUAfdav3EhcGwEqnVciKwsK/T7eC4mkt9D/kXOmuVgvDv1gz0F/SmvE/iSSDHH3H7z/o0FesLeDqv0qorqFShwNAE9rl10in4T/27ntX9ovpP7/jx2JIAfE/qo4VWuYglr+6w4NDNPz8Pzo/ZrH0xf+/lf9qwZOJ6r9I/To5tfDhP8QzJCydkO6/gIf6GzrQ4D91k/k7NEC8v215SOP6qwLAecFalLlp1z9bITevcJT1v9Vc9DLV2vU/EeM2rkjj/D8f83/kzEzwP1ZlU0NcLQPAqyVesVZYA0Aeme/GewrlPw3Yc7ikkvE/a20qNdle8L9h15lJ2Zbyv/TfTTXL3uC/m0Mchl133L98Rg1AL/ywP4FQPJ1k3fm/l2HWiLeH47+dIc4RWIQAwML5cCnvOdY/RrgPUxtUqL8tqoIWAT8AQLvYmtwpaPy/au02gGl+4j+7qj5AZXIFQNAwaQuDnPk/LW7rLBiFwz8eNp1H/XraPwL5qTwlLvW/Jd0eqAwE2r+y9r3Cewzmv720cVvk1/g/IMkqmsGQ4L8rjPqj+93nP0+zxueaJs6/ukB5D7U7/b+wF4OBXQ73vzgvUydjm7E/Tq+jhE4g7D/+bhDSx+HsP6lZiF9NogPAlGZ205Kw4L9Lm2RBCxn4vx8DlmGYcAFAoUeTHC2k7D+bsWHDFIL+P443qe+6vwFANQDeT67u4T9hTH8mWi/kvw0hiZlpYcI/rJB9TYi34r+sfmM6UKAIwOWK92cjOeC/G+a/9XrB5b+LoZuCFI7Gv3ErfIBfrfa/gXOR9zeP2T9vc7nKhW7iP3hqNWW8quO/AoeNvc9cy7+yws+bI6bev93IqWm3v/u/GPRS+VGD8T95KFpnGDPZv42Gyd294vk/6RhxxDkX6T9DxcPwNPbYvwSJYzj/adW/DKwW1Qu89D8fuOZAXogAwDSCr8cw0fm/a5RGStqpAUByIccljQfeP1CAfl+m59c/kbOadKX79L+mnMTUxg0DwFgSLU2wP6m/2vXsRGhh8b999oqLJA/+vwodXqp6Aew/ZKbfMpVizb9/Fhfzsw/GP4MSCVVS0/8/6y4UK7o5AMAsA/F+lTLxv3QYRYrFz8k/po/xRD0GA8A=",
          "dtype": "f8"
         },
         "y": {
          "bdata": "G02Hc9uU27/wxp3a3NXnPyOF0ou+lvA/pfWNPYA69r/RFfzE69f+v2HUd7LXh72/hkxCp/E96z9UeC/HBPDFv9HPKRkb3vW/0ru7nytZ9j+eEEncalIIQK6GMstm9Pg/lchArWvA9z8jskUGq6b+P2W83hVdtva/dc04kzaP/r+/ZcYV5LPpP35XOVGxSAJAe6a9zHnh+784pFiMwBfiv3mipujTXO+/EI718vno4L9MyB8eopS9P2z7E6QwlAPA5JDOGTE49b9d+xIKJRHbP2iX8Zy5k/a/pWbdXnoSiz9K4PyFJZ7LP0D9DKsliADAazUCR4O4279Iv8hJ2A7+Pz5dfsWYKPi/83pQ9l2a/D+efyUdxIb2v+Lmhs8xefu/gYtpNbHs9L+rimuKUQPyP72r0Umi7+e/Y7x4/9SJvL+mjz1pMt0EQCFZvsWwsgZA6mIkyA5HA8BdM4mhmr/hP16Wtpc6bOU/j7RCuSzExL9Sog5NH8Hmv9M2T5c8hOe/t2Td4shO1T+Q3FIhJ/X1P2ChM54Bbv4/E0tZDJjv9T8zfwGmUTvRv9CJMnmZj7U/LRAgcBoU9r80iHNe410AQKCKZWnG4vG/saXZOQLg6L/Dh36KhW/rP+DOoZfEIfy/a/vFjd8O7r9YSLtOMfOyPwno2MuQBsG/At3zP54UA0CO5CZdh3z9v92jc/SIxPI/P8sCKCql+z/Nh5FT2lLsP/T+sDIPSes/8ZSXEyNOA0DdEZqHOKjqv0Zie2IWpee/TYnncCd6+z/tSLFJCjS9v554r60EOPO/tSyVFHul+r/nNrKLjCf0v4TAyzkaPcI/n5V8Qf6MB8AJ9w0naNj1v7Gtw1mWWf8/EDwDmIOP/D8RZubvff7gv9dpr9abCrm/A55YE4l87L+1pUoC0c30Pwwyu/iG3++/G13XvLkm1r8NHT05pjnjv2rnDId8OfW/bk9XW9U64r9S956ktXDvPxxbN7nptfK/d2BviQzt8L/kds+gM7XAP6QroDdMf/E/l3pfEVSp/b9TxsdtXb7jv9NQq27rm9C/0jYyPuwqz782xIf3CzvaPx01bRWlW/y/LV0OzTjv6r8vl8KdiS7WP7XadNWYEtq/nkyyLYIpnT8z4Irqgj3nPz14r0REOeU/n1LhNS053r/CNhRRemfKP7UgX2ujrdU/FTCB4wzV1T8xzPTlgE/BvxkDaZEFQPY/EYpj6h6PAcDwWE3WmLDvP6ptzoYaYvK/IRfL+kUs17805wyDJRjuvzonBi6ooPU/jQ3OPJzG6b/zuAzpJqXSP8CHZ56TOMa/kYIIVKf19D/96XiZML/5v5JNLvKSzNK/jQW9qgEM/z9QRH/Spmy3Px7/epJ7lvQ/AKQ2g8dfBEAKsVnBOQICwAL/8n6rfu0//xLIahZqAcAD6l5Hjrv5v0Uh2A/iR9+/q1jofqN44b8ukB+gTO8AQAVeuDXoDvQ/MEgcKGYj2z/DpkUeGT3nv3Ektihi5NU/5X/Zj6sN0b9aK4eilE3+P1eCU/pcCNO/l+YGWGK5+b8uo9E8X8/2P1lbhj+tOQLAFTs5aNVU+T9PBl82Hpfgv8JBhQ57FZG/TIG7rmLA0T86cQNw3RDuP2F3mQKE8fU/wOiPKbfm8D+uLIrZeoXpP34R9xYUG86/jXvAlA5S17+zkTlmlQy0v6aX5CjHGu4/rjzF9e3p3L+VV5zVQ+3wv8taTv5q/94/6Rimmm1uAEA=",
          "dtype": "f8"
         },
         "z": {
          "bdata": "/Z8FebOWA0Ak6w9LtATgPwsjsAH1E/S/KZSLXTKC6782DKlNYdrTvwxdY6QAowJA1ZF/XM2W4j8JX9sRehDhvxLTpL+F4vK/ZUtilNbJxD8q/mtafNz0v5uEUX8AnQXAG30X1yWb47/ueOqlAJXTPxhQ9o4eSfi/oIuEGZSPnL/BqHnfS2fpv7W7P79xFuq/PEm0PrvTvb9gAqyhqtf7v/X+k4Jd4QHAXqubKiyl9z/FiTrQapDzP6ZLCZEGAdy/zAKtaTiz+r9YT9mgSRLYP/LSZONRu/C/lFUWCrW3A8Bxqp0fas4AwD/dvVBv/9i/8lC/pdGH9T+bGn4+83nIP5ZtY7rQGd6/6YdvcY+47T8tHPXZ8eLpvyCZTcuT26u/qE4Nhl2w8T/7mOQih1TqP9CvyLExxdc/a1/MhUhH7j/nUXkuAzHGv1lcyZ3qqvW/VXkJrb0r7r9hRfdolIUAQIZQZs1bl/6/Y9+bfENOBEA8X3gZnCrxv0R5Xl+FWOi/Z5EgwPwR/z+Sx3wzA25oPwwJw8nQxKy/b+K3VN+K5r+PzbPZLxnzPz9q9EtJkO2//MLGWMKzk7+t6HfBgR/2P904SU0lZc0/Eo/vg5Pf3r9Ow29bly/bPxCTi7Ky7PM/d8gHYa6G6T/vDAcLd+LzP+21b6U7ff8/p0XVNFAO7r85pkghbh7nv5LvjHx2c/Q/jcfEWt9a8j/VOrFviU/yP3cMg9dMntG/jUQL+ifr77+/xfkkOMjyP4ZX0UGvfvS/Nr+J46d9s7++y/126hUAwPVp68nlz/a/gftRCxC+7L+BWQA+dZLvP+afQoqautC/KtHBuvmp+j+eZ3s9DAICQGLmwU4QgNI/73KhHQjHyD+wvQm7ZzMCwHf4MRpk3MM/9e0IC56V7b+vGM4g4Tjiv12e7Rf7VvS/ONvXtfox/T/G9t6gE9PyPxWpPtqn3+4/+wnvQc6K1j8gNmFOa+b9PzeKkbARfMK/pNUI9pzsAEAsYGAU3FDov2ZjxpX1jgVA8MStVmec0L8Ndsd38XX7v+vkR1z68MU/mvsC0FPf+r9nBCCRmjTov2idzhubS9c/mDfHMScx4L/C7XI8qq/xvx0/dsi2s/G/+HQUUjIu7j8/Ls33t80EQH9uPA/Du/o/FSgB6W5VB0A5YEgZfCV2PzLCo3gBNuo/6nioGv966L/fq5nWvAf1PzHEvW9+tfA/2eOlGw0P3z92h2GEkwzwP2jzOWHMl/i/1Nc2SaF20D9kJvh58PzEPz3aJCYo6/M/9hwD6W+L9r89JtMrfwjwP0gnanpVTro/zZoA0xPg4z+o9oJ8DGzcv6TNPFvNXvA/dTd8OUw90b/Ig18pYKrWP3MYMu97l+2/blOteIcD8b9lez+AM5D0P1BadXVC7t8/3IIIo2aA9z8VEO6PBgLlP7sAPi4BZ/m/EoPZu6lq7L9UmsYvUcjVP8FF1yKPjs8/y/vqGOMW6r+mGijH/Vr9PxQoCu3tH+g/m9NSPPF85z9DhRqfI20BwN23sdKlywPAXYKt55FS9T/UQknvVKe9P9uZh99BpOa/yy9Yr62R0L+WnR8tFPQBwICczYxDUtg/Nkt2BwCg5L+eSTdlmbGUP5GIha+yXvK/5YUQi79L8T8iB6lfm1bbPyVQrszXlQHAn95TrXil4T9eMxAP8L8CwMtlWgTAG8q/BNOYkF6pwL8/cJQ7B4cCwKUwHJPwiu8/BHvWx0yNuz8=",
          "dtype": "f8"
         }
        }
       ],
       "layout": {
        "coloraxis": {
         "colorbar": {
          "title": {
           "text": "Etiquetas jerarquico"
          }
         },
         "colorscale": [
          [
           0,
           "#0d0887"
          ],
          [
           0.1111111111111111,
           "#46039f"
          ],
          [
           0.2222222222222222,
           "#7201a8"
          ],
          [
           0.3333333333333333,
           "#9c179e"
          ],
          [
           0.4444444444444444,
           "#bd3786"
          ],
          [
           0.5555555555555556,
           "#d8576b"
          ],
          [
           0.6666666666666666,
           "#ed7953"
          ],
          [
           0.7777777777777778,
           "#fb9f3a"
          ],
          [
           0.8888888888888888,
           "#fdca26"
          ],
          [
           1,
           "#f0f921"
          ]
         ]
        },
        "legend": {
         "tracegroupgap": 0
        },
        "scene": {
         "domain": {
          "x": [
           0,
           1
          ],
          "y": [
           0,
           1
          ]
         },
         "xaxis": {
          "title": {
           "text": "PC1"
          }
         },
         "yaxis": {
          "title": {
           "text": "PC2"
          }
         },
         "zaxis": {
          "title": {
           "text": "PC3"
          }
         }
        },
        "template": {
         "data": {
          "bar": [
           {
            "error_x": {
             "color": "#2a3f5f"
            },
            "error_y": {
             "color": "#2a3f5f"
            },
            "marker": {
             "line": {
              "color": "#E5ECF6",
              "width": 0.5
             },
             "pattern": {
              "fillmode": "overlay",
              "size": 10,
              "solidity": 0.2
             }
            },
            "type": "bar"
           }
          ],
          "barpolar": [
           {
            "marker": {
             "line": {
              "color": "#E5ECF6",
              "width": 0.5
             },
             "pattern": {
              "fillmode": "overlay",
              "size": 10,
              "solidity": 0.2
             }
            },
            "type": "barpolar"
           }
          ],
          "carpet": [
           {
            "aaxis": {
             "endlinecolor": "#2a3f5f",
             "gridcolor": "white",
             "linecolor": "white",
             "minorgridcolor": "white",
             "startlinecolor": "#2a3f5f"
            },
            "baxis": {
             "endlinecolor": "#2a3f5f",
             "gridcolor": "white",
             "linecolor": "white",
             "minorgridcolor": "white",
             "startlinecolor": "#2a3f5f"
            },
            "type": "carpet"
           }
          ],
          "choropleth": [
           {
            "colorbar": {
             "outlinewidth": 0,
             "ticks": ""
            },
            "type": "choropleth"
           }
          ],
          "contour": [
           {
            "colorbar": {
             "outlinewidth": 0,
             "ticks": ""
            },
            "colorscale": [
             [
              0,
              "#0d0887"
             ],
             [
              0.1111111111111111,
              "#46039f"
             ],
             [
              0.2222222222222222,
              "#7201a8"
             ],
             [
              0.3333333333333333,
              "#9c179e"
             ],
             [
              0.4444444444444444,
              "#bd3786"
             ],
             [
              0.5555555555555556,
              "#d8576b"
             ],
             [
              0.6666666666666666,
              "#ed7953"
             ],
             [
              0.7777777777777778,
              "#fb9f3a"
             ],
             [
              0.8888888888888888,
              "#fdca26"
             ],
             [
              1,
              "#f0f921"
             ]
            ],
            "type": "contour"
           }
          ],
          "contourcarpet": [
           {
            "colorbar": {
             "outlinewidth": 0,
             "ticks": ""
            },
            "type": "contourcarpet"
           }
          ],
          "heatmap": [
           {
            "colorbar": {
             "outlinewidth": 0,
             "ticks": ""
            },
            "colorscale": [
             [
              0,
              "#0d0887"
             ],
             [
              0.1111111111111111,
              "#46039f"
             ],
             [
              0.2222222222222222,
              "#7201a8"
             ],
             [
              0.3333333333333333,
              "#9c179e"
             ],
             [
              0.4444444444444444,
              "#bd3786"
             ],
             [
              0.5555555555555556,
              "#d8576b"
             ],
             [
              0.6666666666666666,
              "#ed7953"
             ],
             [
              0.7777777777777778,
              "#fb9f3a"
             ],
             [
              0.8888888888888888,
              "#fdca26"
             ],
             [
              1,
              "#f0f921"
             ]
            ],
            "type": "heatmap"
           }
          ],
          "histogram": [
           {
            "marker": {
             "pattern": {
              "fillmode": "overlay",
              "size": 10,
              "solidity": 0.2
             }
            },
            "type": "histogram"
           }
          ],
          "histogram2d": [
           {
            "colorbar": {
             "outlinewidth": 0,
             "ticks": ""
            },
            "colorscale": [
             [
              0,
              "#0d0887"
             ],
             [
              0.1111111111111111,
              "#46039f"
             ],
             [
              0.2222222222222222,
              "#7201a8"
             ],
             [
              0.3333333333333333,
              "#9c179e"
             ],
             [
              0.4444444444444444,
              "#bd3786"
             ],
             [
              0.5555555555555556,
              "#d8576b"
             ],
             [
              0.6666666666666666,
              "#ed7953"
             ],
             [
              0.7777777777777778,
              "#fb9f3a"
             ],
             [
              0.8888888888888888,
              "#fdca26"
             ],
             [
              1,
              "#f0f921"
             ]
            ],
            "type": "histogram2d"
           }
          ],
          "histogram2dcontour": [
           {
            "colorbar": {
             "outlinewidth": 0,
             "ticks": ""
            },
            "colorscale": [
             [
              0,
              "#0d0887"
             ],
             [
              0.1111111111111111,
              "#46039f"
             ],
             [
              0.2222222222222222,
              "#7201a8"
             ],
             [
              0.3333333333333333,
              "#9c179e"
             ],
             [
              0.4444444444444444,
              "#bd3786"
             ],
             [
              0.5555555555555556,
              "#d8576b"
             ],
             [
              0.6666666666666666,
              "#ed7953"
             ],
             [
              0.7777777777777778,
              "#fb9f3a"
             ],
             [
              0.8888888888888888,
              "#fdca26"
             ],
             [
              1,
              "#f0f921"
             ]
            ],
            "type": "histogram2dcontour"
           }
          ],
          "mesh3d": [
           {
            "colorbar": {
             "outlinewidth": 0,
             "ticks": ""
            },
            "type": "mesh3d"
           }
          ],
          "parcoords": [
           {
            "line": {
             "colorbar": {
              "outlinewidth": 0,
              "ticks": ""
             }
            },
            "type": "parcoords"
           }
          ],
          "pie": [
           {
            "automargin": true,
            "type": "pie"
           }
          ],
          "scatter": [
           {
            "fillpattern": {
             "fillmode": "overlay",
             "size": 10,
             "solidity": 0.2
            },
            "type": "scatter"
           }
          ],
          "scatter3d": [
           {
            "line": {
             "colorbar": {
              "outlinewidth": 0,
              "ticks": ""
             }
            },
            "marker": {
             "colorbar": {
              "outlinewidth": 0,
              "ticks": ""
             }
            },
            "type": "scatter3d"
           }
          ],
          "scattercarpet": [
           {
            "marker": {
             "colorbar": {
              "outlinewidth": 0,
              "ticks": ""
             }
            },
            "type": "scattercarpet"
           }
          ],
          "scattergeo": [
           {
            "marker": {
             "colorbar": {
              "outlinewidth": 0,
              "ticks": ""
             }
            },
            "type": "scattergeo"
           }
          ],
          "scattergl": [
           {
            "marker": {
             "colorbar": {
              "outlinewidth": 0,
              "ticks": ""
             }
            },
            "type": "scattergl"
           }
          ],
          "scattermap": [
           {
            "marker": {
             "colorbar": {
              "outlinewidth": 0,
              "ticks": ""
             }
            },
            "type": "scattermap"
           }
          ],
          "scattermapbox": [
           {
            "marker": {
             "colorbar": {
              "outlinewidth": 0,
              "ticks": ""
             }
            },
            "type": "scattermapbox"
           }
          ],
          "scatterpolar": [
           {
            "marker": {
             "colorbar": {
              "outlinewidth": 0,
              "ticks": ""
             }
            },
            "type": "scatterpolar"
           }
          ],
          "scatterpolargl": [
           {
            "marker": {
             "colorbar": {
              "outlinewidth": 0,
              "ticks": ""
             }
            },
            "type": "scatterpolargl"
           }
          ],
          "scatterternary": [
           {
            "marker": {
             "colorbar": {
              "outlinewidth": 0,
              "ticks": ""
             }
            },
            "type": "scatterternary"
           }
          ],
          "surface": [
           {
            "colorbar": {
             "outlinewidth": 0,
             "ticks": ""
            },
            "colorscale": [
             [
              0,
              "#0d0887"
             ],
             [
              0.1111111111111111,
              "#46039f"
             ],
             [
              0.2222222222222222,
              "#7201a8"
             ],
             [
              0.3333333333333333,
              "#9c179e"
             ],
             [
              0.4444444444444444,
              "#bd3786"
             ],
             [
              0.5555555555555556,
              "#d8576b"
             ],
             [
              0.6666666666666666,
              "#ed7953"
             ],
             [
              0.7777777777777778,
              "#fb9f3a"
             ],
             [
              0.8888888888888888,
              "#fdca26"
             ],
             [
              1,
              "#f0f921"
             ]
            ],
            "type": "surface"
           }
          ],
          "table": [
           {
            "cells": {
             "fill": {
              "color": "#EBF0F8"
             },
             "line": {
              "color": "white"
             }
            },
            "header": {
             "fill": {
              "color": "#C8D4E3"
             },
             "line": {
              "color": "white"
             }
            },
            "type": "table"
           }
          ]
         },
         "layout": {
          "annotationdefaults": {
           "arrowcolor": "#2a3f5f",
           "arrowhead": 0,
           "arrowwidth": 1
          },
          "autotypenumbers": "strict",
          "coloraxis": {
           "colorbar": {
            "outlinewidth": 0,
            "ticks": ""
           }
          },
          "colorscale": {
           "diverging": [
            [
             0,
             "#8e0152"
            ],
            [
             0.1,
             "#c51b7d"
            ],
            [
             0.2,
             "#de77ae"
            ],
            [
             0.3,
             "#f1b6da"
            ],
            [
             0.4,
             "#fde0ef"
            ],
            [
             0.5,
             "#f7f7f7"
            ],
            [
             0.6,
             "#e6f5d0"
            ],
            [
             0.7,
             "#b8e186"
            ],
            [
             0.8,
             "#7fbc41"
            ],
            [
             0.9,
             "#4d9221"
            ],
            [
             1,
             "#276419"
            ]
           ],
           "sequential": [
            [
             0,
             "#0d0887"
            ],
            [
             0.1111111111111111,
             "#46039f"
            ],
            [
             0.2222222222222222,
             "#7201a8"
            ],
            [
             0.3333333333333333,
             "#9c179e"
            ],
            [
             0.4444444444444444,
             "#bd3786"
            ],
            [
             0.5555555555555556,
             "#d8576b"
            ],
            [
             0.6666666666666666,
             "#ed7953"
            ],
            [
             0.7777777777777778,
             "#fb9f3a"
            ],
            [
             0.8888888888888888,
             "#fdca26"
            ],
            [
             1,
             "#f0f921"
            ]
           ],
           "sequentialminus": [
            [
             0,
             "#0d0887"
            ],
            [
             0.1111111111111111,
             "#46039f"
            ],
            [
             0.2222222222222222,
             "#7201a8"
            ],
            [
             0.3333333333333333,
             "#9c179e"
            ],
            [
             0.4444444444444444,
             "#bd3786"
            ],
            [
             0.5555555555555556,
             "#d8576b"
            ],
            [
             0.6666666666666666,
             "#ed7953"
            ],
            [
             0.7777777777777778,
             "#fb9f3a"
            ],
            [
             0.8888888888888888,
             "#fdca26"
            ],
            [
             1,
             "#f0f921"
            ]
           ]
          },
          "colorway": [
           "#636efa",
           "#EF553B",
           "#00cc96",
           "#ab63fa",
           "#FFA15A",
           "#19d3f3",
           "#FF6692",
           "#B6E880",
           "#FF97FF",
           "#FECB52"
          ],
          "font": {
           "color": "#2a3f5f"
          },
          "geo": {
           "bgcolor": "white",
           "lakecolor": "white",
           "landcolor": "#E5ECF6",
           "showlakes": true,
           "showland": true,
           "subunitcolor": "white"
          },
          "hoverlabel": {
           "align": "left"
          },
          "hovermode": "closest",
          "mapbox": {
           "style": "light"
          },
          "paper_bgcolor": "white",
          "plot_bgcolor": "#E5ECF6",
          "polar": {
           "angularaxis": {
            "gridcolor": "white",
            "linecolor": "white",
            "ticks": ""
           },
           "bgcolor": "#E5ECF6",
           "radialaxis": {
            "gridcolor": "white",
            "linecolor": "white",
            "ticks": ""
           }
          },
          "scene": {
           "xaxis": {
            "backgroundcolor": "#E5ECF6",
            "gridcolor": "white",
            "gridwidth": 2,
            "linecolor": "white",
            "showbackground": true,
            "ticks": "",
            "zerolinecolor": "white"
           },
           "yaxis": {
            "backgroundcolor": "#E5ECF6",
            "gridcolor": "white",
            "gridwidth": 2,
            "linecolor": "white",
            "showbackground": true,
            "ticks": "",
            "zerolinecolor": "white"
           },
           "zaxis": {
            "backgroundcolor": "#E5ECF6",
            "gridcolor": "white",
            "gridwidth": 2,
            "linecolor": "white",
            "showbackground": true,
            "ticks": "",
            "zerolinecolor": "white"
           }
          },
          "shapedefaults": {
           "line": {
            "color": "#2a3f5f"
           }
          },
          "ternary": {
           "aaxis": {
            "gridcolor": "white",
            "linecolor": "white",
            "ticks": ""
           },
           "baxis": {
            "gridcolor": "white",
            "linecolor": "white",
            "ticks": ""
           },
           "bgcolor": "#E5ECF6",
           "caxis": {
            "gridcolor": "white",
            "linecolor": "white",
            "ticks": ""
           }
          },
          "title": {
           "x": 0.05
          },
          "xaxis": {
           "automargin": true,
           "gridcolor": "white",
           "linecolor": "white",
           "ticks": "",
           "title": {
            "standoff": 15
           },
           "zerolinecolor": "white",
           "zerolinewidth": 2
          },
          "yaxis": {
           "automargin": true,
           "gridcolor": "white",
           "linecolor": "white",
           "ticks": "",
           "title": {
            "standoff": 15
           },
           "zerolinecolor": "white",
           "zerolinewidth": 2
          }
         }
        },
        "title": {
         "text": "Dispersión de las variedades de trigo (Clustering)"
        }
       }
      }
     },
     "metadata": {},
     "output_type": "display_data"
    }
   ],
   "source": [
    "fig = px.scatter_3d(df_clustering, x='PC1', y='PC2', z='PC3',\n",
    "                    color='Etiquetas jerarquico',\n",
    "                    title='Dispersión de las variedades de trigo (Clustering)')\n",
    "fig.show()"
   ]
  }
 ],
 "metadata": {
  "kernelspec": {
   "display_name": "Python 3",
   "language": "python",
   "name": "python3"
  },
  "language_info": {
   "codemirror_mode": {
    "name": "ipython",
    "version": 3
   },
   "file_extension": ".py",
   "mimetype": "text/x-python",
   "name": "python",
   "nbconvert_exporter": "python",
   "pygments_lexer": "ipython3",
   "version": "3.12.5"
  }
 },
 "nbformat": 4,
 "nbformat_minor": 5
}
