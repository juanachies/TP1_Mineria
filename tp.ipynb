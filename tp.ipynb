{
 "cells": [
  {
   "cell_type": "code",
   "execution_count": 84,
   "id": "740e7176",
   "metadata": {},
   "outputs": [],
   "source": [
    "import pandas as pd\n",
    "import seaborn as sns\n",
    "import matplotlib.pyplot as plt\n",
    "import matplotlib.colors as mcolors\n",
    "import plotly.express as px\n",
    "import numpy as np\n",
    "\n",
    "from sklearn.model_selection import train_test_split, KFold, cross_val_score\n",
    "from sklearn.preprocessing import StandardScaler \n",
    "\n",
    "import seaborn as sns\n",
    "\n",
    "from sklearn.preprocessing import StandardScaler\n",
    "from sklearn import decomposition\n",
    "from sklearn.decomposition import PCA\n",
    "from sklearn.manifold import Isomap"
   ]
  },
  {
   "cell_type": "code",
   "execution_count": 307,
   "id": "058fea83",
   "metadata": {},
   "outputs": [],
   "source": [
    "file_path = 'SmartFarmingCropYield.csv'\n",
    "\n",
    "dataset = pd.read_csv(file_path)"
   ]
  },
  {
   "cell_type": "markdown",
   "id": "0ae1fda4",
   "metadata": {},
   "source": [
    "# Análisis exploratorio de datos (EDA)"
   ]
  },
  {
   "cell_type": "code",
   "execution_count": 308,
   "id": "68b6f759",
   "metadata": {},
   "outputs": [
    {
     "data": {
      "text/html": [
       "<div>\n",
       "<style scoped>\n",
       "    .dataframe tbody tr th:only-of-type {\n",
       "        vertical-align: middle;\n",
       "    }\n",
       "\n",
       "    .dataframe tbody tr th {\n",
       "        vertical-align: top;\n",
       "    }\n",
       "\n",
       "    .dataframe thead th {\n",
       "        text-align: right;\n",
       "    }\n",
       "</style>\n",
       "<table border=\"1\" class=\"dataframe\">\n",
       "  <thead>\n",
       "    <tr style=\"text-align: right;\">\n",
       "      <th></th>\n",
       "      <th>tipoCultivo</th>\n",
       "      <th>humedadSuelo(%)</th>\n",
       "      <th>pHSuelo</th>\n",
       "      <th>temperatura(°C)</th>\n",
       "      <th>precipitacion(mm)</th>\n",
       "      <th>humedad(%)</th>\n",
       "      <th>horasLuzSolar</th>\n",
       "      <th>tipoRiego</th>\n",
       "      <th>tipoFertilizante</th>\n",
       "      <th>mlPesticida</th>\n",
       "      <th>diasTotales</th>\n",
       "      <th>rendimientoKg_hectarea</th>\n",
       "      <th>indiceNDVI</th>\n",
       "      <th>estadoEnfermedadesCultivo</th>\n",
       "    </tr>\n",
       "  </thead>\n",
       "  <tbody>\n",
       "    <tr>\n",
       "      <th>0</th>\n",
       "      <td>Trigo</td>\n",
       "      <td>35.95</td>\n",
       "      <td>5.99</td>\n",
       "      <td>17.79</td>\n",
       "      <td>75.62</td>\n",
       "      <td>77.03</td>\n",
       "      <td>7.27</td>\n",
       "      <td>NaN</td>\n",
       "      <td>Organico</td>\n",
       "      <td>6.34</td>\n",
       "      <td>122</td>\n",
       "      <td>4408.07</td>\n",
       "      <td>0.63</td>\n",
       "      <td>Leve</td>\n",
       "    </tr>\n",
       "    <tr>\n",
       "      <th>1</th>\n",
       "      <td>Soja</td>\n",
       "      <td>19.74</td>\n",
       "      <td>7.24</td>\n",
       "      <td>30.18</td>\n",
       "      <td>89.91</td>\n",
       "      <td>61.13</td>\n",
       "      <td>5.67</td>\n",
       "      <td>Aspersor</td>\n",
       "      <td>Inorganico</td>\n",
       "      <td>9.60</td>\n",
       "      <td>112</td>\n",
       "      <td>5389.98</td>\n",
       "      <td>0.58</td>\n",
       "      <td>NaN</td>\n",
       "    </tr>\n",
       "    <tr>\n",
       "      <th>2</th>\n",
       "      <td>Trigo</td>\n",
       "      <td>29.32</td>\n",
       "      <td>7.16</td>\n",
       "      <td>27.37</td>\n",
       "      <td>265.43</td>\n",
       "      <td>68.87</td>\n",
       "      <td>8.23</td>\n",
       "      <td>Goteo</td>\n",
       "      <td>Mixto</td>\n",
       "      <td>15.26</td>\n",
       "      <td>144</td>\n",
       "      <td>2931.16</td>\n",
       "      <td>0.80</td>\n",
       "      <td>Leve</td>\n",
       "    </tr>\n",
       "    <tr>\n",
       "      <th>3</th>\n",
       "      <td>Maiz</td>\n",
       "      <td>17.33</td>\n",
       "      <td>6.03</td>\n",
       "      <td>33.73</td>\n",
       "      <td>212.01</td>\n",
       "      <td>70.46</td>\n",
       "      <td>5.03</td>\n",
       "      <td>Aspersor</td>\n",
       "      <td>Organico</td>\n",
       "      <td>25.80</td>\n",
       "      <td>134</td>\n",
       "      <td>4227.80</td>\n",
       "      <td>0.44</td>\n",
       "      <td>NaN</td>\n",
       "    </tr>\n",
       "    <tr>\n",
       "      <th>4</th>\n",
       "      <td>Soja</td>\n",
       "      <td>36.28</td>\n",
       "      <td>7.04</td>\n",
       "      <td>21.80</td>\n",
       "      <td>123.38</td>\n",
       "      <td>47.91</td>\n",
       "      <td>4.02</td>\n",
       "      <td>Manual</td>\n",
       "      <td>Mixto</td>\n",
       "      <td>39.29</td>\n",
       "      <td>145</td>\n",
       "      <td>4501.20</td>\n",
       "      <td>0.76</td>\n",
       "      <td>NaN</td>\n",
       "    </tr>\n",
       "    <tr>\n",
       "      <th>...</th>\n",
       "      <td>...</td>\n",
       "      <td>...</td>\n",
       "      <td>...</td>\n",
       "      <td>...</td>\n",
       "      <td>...</td>\n",
       "      <td>...</td>\n",
       "      <td>...</td>\n",
       "      <td>...</td>\n",
       "      <td>...</td>\n",
       "      <td>...</td>\n",
       "      <td>...</td>\n",
       "      <td>...</td>\n",
       "      <td>...</td>\n",
       "      <td>...</td>\n",
       "    </tr>\n",
       "    <tr>\n",
       "      <th>306</th>\n",
       "      <td>Maiz</td>\n",
       "      <td>32.14</td>\n",
       "      <td>7.44</td>\n",
       "      <td>21.49</td>\n",
       "      <td>286.61</td>\n",
       "      <td>84.20</td>\n",
       "      <td>5.58</td>\n",
       "      <td>Aspersor</td>\n",
       "      <td>Inorganico</td>\n",
       "      <td>45.43</td>\n",
       "      <td>93</td>\n",
       "      <td>4503.82</td>\n",
       "      <td>0.88</td>\n",
       "      <td>Leve</td>\n",
       "    </tr>\n",
       "    <tr>\n",
       "      <th>307</th>\n",
       "      <td>Trigo</td>\n",
       "      <td>28.81</td>\n",
       "      <td>7.46</td>\n",
       "      <td>30.56</td>\n",
       "      <td>245.13</td>\n",
       "      <td>45.32</td>\n",
       "      <td>8.47</td>\n",
       "      <td>NaN</td>\n",
       "      <td>Mixto</td>\n",
       "      <td>16.58</td>\n",
       "      <td>128</td>\n",
       "      <td>4203.51</td>\n",
       "      <td>0.65</td>\n",
       "      <td>Severo</td>\n",
       "    </tr>\n",
       "    <tr>\n",
       "      <th>308</th>\n",
       "      <td>Soja</td>\n",
       "      <td>34.22</td>\n",
       "      <td>6.75</td>\n",
       "      <td>17.46</td>\n",
       "      <td>256.23</td>\n",
       "      <td>45.14</td>\n",
       "      <td>5.78</td>\n",
       "      <td>NaN</td>\n",
       "      <td>Organico</td>\n",
       "      <td>5.05</td>\n",
       "      <td>104</td>\n",
       "      <td>3708.54</td>\n",
       "      <td>0.85</td>\n",
       "      <td>Severo</td>\n",
       "    </tr>\n",
       "    <tr>\n",
       "      <th>309</th>\n",
       "      <td>Soja</td>\n",
       "      <td>38.61</td>\n",
       "      <td>6.20</td>\n",
       "      <td>17.08</td>\n",
       "      <td>279.06</td>\n",
       "      <td>73.09</td>\n",
       "      <td>9.60</td>\n",
       "      <td>Goteo</td>\n",
       "      <td>Organico</td>\n",
       "      <td>43.78</td>\n",
       "      <td>131</td>\n",
       "      <td>2586.36</td>\n",
       "      <td>0.77</td>\n",
       "      <td>Severo</td>\n",
       "    </tr>\n",
       "    <tr>\n",
       "      <th>310</th>\n",
       "      <td>Trigo</td>\n",
       "      <td>30.22</td>\n",
       "      <td>7.42</td>\n",
       "      <td>20.57</td>\n",
       "      <td>72.61</td>\n",
       "      <td>89.74</td>\n",
       "      <td>5.09</td>\n",
       "      <td>NaN</td>\n",
       "      <td>Inorganico</td>\n",
       "      <td>19.37</td>\n",
       "      <td>134</td>\n",
       "      <td>5891.40</td>\n",
       "      <td>0.85</td>\n",
       "      <td>Severo</td>\n",
       "    </tr>\n",
       "  </tbody>\n",
       "</table>\n",
       "<p>311 rows × 14 columns</p>\n",
       "</div>"
      ],
      "text/plain": [
       "    tipoCultivo  humedadSuelo(%)  pHSuelo  temperatura(°C)  precipitacion(mm)  \\\n",
       "0         Trigo            35.95     5.99            17.79              75.62   \n",
       "1          Soja            19.74     7.24            30.18              89.91   \n",
       "2         Trigo            29.32     7.16            27.37             265.43   \n",
       "3          Maiz            17.33     6.03            33.73             212.01   \n",
       "4          Soja            36.28     7.04            21.80             123.38   \n",
       "..          ...              ...      ...              ...                ...   \n",
       "306        Maiz            32.14     7.44            21.49             286.61   \n",
       "307       Trigo            28.81     7.46            30.56             245.13   \n",
       "308        Soja            34.22     6.75            17.46             256.23   \n",
       "309        Soja            38.61     6.20            17.08             279.06   \n",
       "310       Trigo            30.22     7.42            20.57              72.61   \n",
       "\n",
       "     humedad(%)  horasLuzSolar tipoRiego tipoFertilizante  mlPesticida  \\\n",
       "0         77.03           7.27       NaN         Organico         6.34   \n",
       "1         61.13           5.67  Aspersor       Inorganico         9.60   \n",
       "2         68.87           8.23     Goteo            Mixto        15.26   \n",
       "3         70.46           5.03  Aspersor         Organico        25.80   \n",
       "4         47.91           4.02    Manual            Mixto        39.29   \n",
       "..          ...            ...       ...              ...          ...   \n",
       "306       84.20           5.58  Aspersor       Inorganico        45.43   \n",
       "307       45.32           8.47       NaN            Mixto        16.58   \n",
       "308       45.14           5.78       NaN         Organico         5.05   \n",
       "309       73.09           9.60     Goteo         Organico        43.78   \n",
       "310       89.74           5.09       NaN       Inorganico        19.37   \n",
       "\n",
       "     diasTotales  rendimientoKg_hectarea  indiceNDVI estadoEnfermedadesCultivo  \n",
       "0            122                 4408.07        0.63                      Leve  \n",
       "1            112                 5389.98        0.58                       NaN  \n",
       "2            144                 2931.16        0.80                      Leve  \n",
       "3            134                 4227.80        0.44                       NaN  \n",
       "4            145                 4501.20        0.76                       NaN  \n",
       "..           ...                     ...         ...                       ...  \n",
       "306           93                 4503.82        0.88                      Leve  \n",
       "307          128                 4203.51        0.65                    Severo  \n",
       "308          104                 3708.54        0.85                    Severo  \n",
       "309          131                 2586.36        0.77                    Severo  \n",
       "310          134                 5891.40        0.85                    Severo  \n",
       "\n",
       "[311 rows x 14 columns]"
      ]
     },
     "execution_count": 308,
     "metadata": {},
     "output_type": "execute_result"
    }
   ],
   "source": [
    "#Creamos copia del dataset original\n",
    "df = dataset.copy()\n",
    "\n",
    "#Renombramos las columnas para que no comiencen con un espacio\n",
    "df.columns = df.columns.str.strip().str.replace(\" \", \"\")\n",
    "\n",
    "df"
   ]
  },
  {
   "cell_type": "code",
   "execution_count": 309,
   "id": "b57d99bc",
   "metadata": {},
   "outputs": [
    {
     "name": "stdout",
     "output_type": "stream",
     "text": [
      "<class 'pandas.core.frame.DataFrame'>\n",
      "RangeIndex: 311 entries, 0 to 310\n",
      "Data columns (total 14 columns):\n",
      " #   Column                     Non-Null Count  Dtype  \n",
      "---  ------                     --------------  -----  \n",
      " 0   tipoCultivo                311 non-null    object \n",
      " 1   humedadSuelo(%)            311 non-null    float64\n",
      " 2   pHSuelo                    311 non-null    float64\n",
      " 3   temperatura(°C)            311 non-null    float64\n",
      " 4   precipitacion(mm)          311 non-null    float64\n",
      " 5   humedad(%)                 311 non-null    float64\n",
      " 6   horasLuzSolar              311 non-null    float64\n",
      " 7   tipoRiego                  220 non-null    object \n",
      " 8   tipoFertilizante           311 non-null    object \n",
      " 9   mlPesticida                311 non-null    float64\n",
      " 10  diasTotales                311 non-null    int64  \n",
      " 11  rendimientoKg_hectarea     311 non-null    float64\n",
      " 12  indiceNDVI                 311 non-null    float64\n",
      " 13  estadoEnfermedadesCultivo  228 non-null    object \n",
      "dtypes: float64(9), int64(1), object(4)\n",
      "memory usage: 34.1+ KB\n"
     ]
    }
   ],
   "source": [
    "df.info()"
   ]
  },
  {
   "cell_type": "markdown",
   "id": "19d97d9b",
   "metadata": {},
   "source": [
    "**Valores faltantes o duplicados**"
   ]
  },
  {
   "cell_type": "code",
   "execution_count": 310,
   "id": "a1c77877",
   "metadata": {},
   "outputs": [
    {
     "data": {
      "text/plain": [
       "False"
      ]
     },
     "execution_count": 310,
     "metadata": {},
     "output_type": "execute_result"
    }
   ],
   "source": [
    "df.duplicated().values.any()\n"
   ]
  },
  {
   "cell_type": "code",
   "execution_count": 311,
   "id": "c9b780de",
   "metadata": {},
   "outputs": [
    {
     "data": {
      "text/plain": [
       "tipoCultivo                   0\n",
       "humedadSuelo(%)               0\n",
       "pHSuelo                       0\n",
       "temperatura(°C)               0\n",
       "precipitacion(mm)             0\n",
       "humedad(%)                    0\n",
       "horasLuzSolar                 0\n",
       "tipoRiego                    91\n",
       "tipoFertilizante              0\n",
       "mlPesticida                   0\n",
       "diasTotales                   0\n",
       "rendimientoKg_hectarea        0\n",
       "indiceNDVI                    0\n",
       "estadoEnfermedadesCultivo    83\n",
       "dtype: int64"
      ]
     },
     "execution_count": 311,
     "metadata": {},
     "output_type": "execute_result"
    }
   ],
   "source": [
    "df.isna().sum()"
   ]
  },
  {
   "cell_type": "code",
   "execution_count": 312,
   "id": "c4672800",
   "metadata": {},
   "outputs": [
    {
     "data": {
      "text/html": [
       "<div>\n",
       "<style scoped>\n",
       "    .dataframe tbody tr th:only-of-type {\n",
       "        vertical-align: middle;\n",
       "    }\n",
       "\n",
       "    .dataframe tbody tr th {\n",
       "        vertical-align: top;\n",
       "    }\n",
       "\n",
       "    .dataframe thead th {\n",
       "        text-align: right;\n",
       "    }\n",
       "</style>\n",
       "<table border=\"1\" class=\"dataframe\">\n",
       "  <thead>\n",
       "    <tr style=\"text-align: right;\">\n",
       "      <th></th>\n",
       "      <th>tipoCultivo</th>\n",
       "      <th>humedadSuelo(%)</th>\n",
       "      <th>pHSuelo</th>\n",
       "      <th>temperatura(°C)</th>\n",
       "      <th>precipitacion(mm)</th>\n",
       "      <th>humedad(%)</th>\n",
       "      <th>horasLuzSolar</th>\n",
       "      <th>tipoRiego</th>\n",
       "      <th>tipoFertilizante</th>\n",
       "      <th>mlPesticida</th>\n",
       "      <th>diasTotales</th>\n",
       "      <th>rendimientoKg_hectarea</th>\n",
       "      <th>indiceNDVI</th>\n",
       "      <th>estadoEnfermedadesCultivo</th>\n",
       "    </tr>\n",
       "  </thead>\n",
       "  <tbody>\n",
       "    <tr>\n",
       "      <th>0</th>\n",
       "      <td>Trigo</td>\n",
       "      <td>35.95</td>\n",
       "      <td>5.99</td>\n",
       "      <td>17.79</td>\n",
       "      <td>75.62</td>\n",
       "      <td>77.03</td>\n",
       "      <td>7.27</td>\n",
       "      <td>NaN</td>\n",
       "      <td>Organico</td>\n",
       "      <td>6.34</td>\n",
       "      <td>122</td>\n",
       "      <td>4408.07</td>\n",
       "      <td>0.63</td>\n",
       "      <td>Leve</td>\n",
       "    </tr>\n",
       "    <tr>\n",
       "      <th>1</th>\n",
       "      <td>Soja</td>\n",
       "      <td>19.74</td>\n",
       "      <td>7.24</td>\n",
       "      <td>30.18</td>\n",
       "      <td>89.91</td>\n",
       "      <td>61.13</td>\n",
       "      <td>5.67</td>\n",
       "      <td>Aspersor</td>\n",
       "      <td>Inorganico</td>\n",
       "      <td>9.60</td>\n",
       "      <td>112</td>\n",
       "      <td>5389.98</td>\n",
       "      <td>0.58</td>\n",
       "      <td>NaN</td>\n",
       "    </tr>\n",
       "    <tr>\n",
       "      <th>3</th>\n",
       "      <td>Maiz</td>\n",
       "      <td>17.33</td>\n",
       "      <td>6.03</td>\n",
       "      <td>33.73</td>\n",
       "      <td>212.01</td>\n",
       "      <td>70.46</td>\n",
       "      <td>5.03</td>\n",
       "      <td>Aspersor</td>\n",
       "      <td>Organico</td>\n",
       "      <td>25.80</td>\n",
       "      <td>134</td>\n",
       "      <td>4227.80</td>\n",
       "      <td>0.44</td>\n",
       "      <td>NaN</td>\n",
       "    </tr>\n",
       "    <tr>\n",
       "      <th>4</th>\n",
       "      <td>Soja</td>\n",
       "      <td>36.28</td>\n",
       "      <td>7.04</td>\n",
       "      <td>21.80</td>\n",
       "      <td>123.38</td>\n",
       "      <td>47.91</td>\n",
       "      <td>4.02</td>\n",
       "      <td>Manual</td>\n",
       "      <td>Mixto</td>\n",
       "      <td>39.29</td>\n",
       "      <td>145</td>\n",
       "      <td>4501.20</td>\n",
       "      <td>0.76</td>\n",
       "      <td>NaN</td>\n",
       "    </tr>\n",
       "    <tr>\n",
       "      <th>8</th>\n",
       "      <td>Maiz</td>\n",
       "      <td>42.43</td>\n",
       "      <td>7.07</td>\n",
       "      <td>20.70</td>\n",
       "      <td>224.15</td>\n",
       "      <td>76.53</td>\n",
       "      <td>8.70</td>\n",
       "      <td>NaN</td>\n",
       "      <td>Organico</td>\n",
       "      <td>13.55</td>\n",
       "      <td>127</td>\n",
       "      <td>4942.95</td>\n",
       "      <td>0.65</td>\n",
       "      <td>Leve</td>\n",
       "    </tr>\n",
       "    <tr>\n",
       "      <th>...</th>\n",
       "      <td>...</td>\n",
       "      <td>...</td>\n",
       "      <td>...</td>\n",
       "      <td>...</td>\n",
       "      <td>...</td>\n",
       "      <td>...</td>\n",
       "      <td>...</td>\n",
       "      <td>...</td>\n",
       "      <td>...</td>\n",
       "      <td>...</td>\n",
       "      <td>...</td>\n",
       "      <td>...</td>\n",
       "      <td>...</td>\n",
       "      <td>...</td>\n",
       "    </tr>\n",
       "    <tr>\n",
       "      <th>304</th>\n",
       "      <td>Soja</td>\n",
       "      <td>40.46</td>\n",
       "      <td>7.44</td>\n",
       "      <td>18.31</td>\n",
       "      <td>237.68</td>\n",
       "      <td>59.21</td>\n",
       "      <td>8.68</td>\n",
       "      <td>NaN</td>\n",
       "      <td>Mixto</td>\n",
       "      <td>17.22</td>\n",
       "      <td>100</td>\n",
       "      <td>4287.59</td>\n",
       "      <td>0.77</td>\n",
       "      <td>Severo</td>\n",
       "    </tr>\n",
       "    <tr>\n",
       "      <th>305</th>\n",
       "      <td>Soja</td>\n",
       "      <td>19.06</td>\n",
       "      <td>7.20</td>\n",
       "      <td>20.93</td>\n",
       "      <td>117.13</td>\n",
       "      <td>45.96</td>\n",
       "      <td>5.34</td>\n",
       "      <td>Aspersor</td>\n",
       "      <td>Inorganico</td>\n",
       "      <td>6.76</td>\n",
       "      <td>149</td>\n",
       "      <td>2531.89</td>\n",
       "      <td>0.79</td>\n",
       "      <td>NaN</td>\n",
       "    </tr>\n",
       "    <tr>\n",
       "      <th>307</th>\n",
       "      <td>Trigo</td>\n",
       "      <td>28.81</td>\n",
       "      <td>7.46</td>\n",
       "      <td>30.56</td>\n",
       "      <td>245.13</td>\n",
       "      <td>45.32</td>\n",
       "      <td>8.47</td>\n",
       "      <td>NaN</td>\n",
       "      <td>Mixto</td>\n",
       "      <td>16.58</td>\n",
       "      <td>128</td>\n",
       "      <td>4203.51</td>\n",
       "      <td>0.65</td>\n",
       "      <td>Severo</td>\n",
       "    </tr>\n",
       "    <tr>\n",
       "      <th>308</th>\n",
       "      <td>Soja</td>\n",
       "      <td>34.22</td>\n",
       "      <td>6.75</td>\n",
       "      <td>17.46</td>\n",
       "      <td>256.23</td>\n",
       "      <td>45.14</td>\n",
       "      <td>5.78</td>\n",
       "      <td>NaN</td>\n",
       "      <td>Organico</td>\n",
       "      <td>5.05</td>\n",
       "      <td>104</td>\n",
       "      <td>3708.54</td>\n",
       "      <td>0.85</td>\n",
       "      <td>Severo</td>\n",
       "    </tr>\n",
       "    <tr>\n",
       "      <th>310</th>\n",
       "      <td>Trigo</td>\n",
       "      <td>30.22</td>\n",
       "      <td>7.42</td>\n",
       "      <td>20.57</td>\n",
       "      <td>72.61</td>\n",
       "      <td>89.74</td>\n",
       "      <td>5.09</td>\n",
       "      <td>NaN</td>\n",
       "      <td>Inorganico</td>\n",
       "      <td>19.37</td>\n",
       "      <td>134</td>\n",
       "      <td>5891.40</td>\n",
       "      <td>0.85</td>\n",
       "      <td>Severo</td>\n",
       "    </tr>\n",
       "  </tbody>\n",
       "</table>\n",
       "<p>148 rows × 14 columns</p>\n",
       "</div>"
      ],
      "text/plain": [
       "    tipoCultivo  humedadSuelo(%)  pHSuelo  temperatura(°C)  precipitacion(mm)  \\\n",
       "0         Trigo            35.95     5.99            17.79              75.62   \n",
       "1          Soja            19.74     7.24            30.18              89.91   \n",
       "3          Maiz            17.33     6.03            33.73             212.01   \n",
       "4          Soja            36.28     7.04            21.80             123.38   \n",
       "8          Maiz            42.43     7.07            20.70             224.15   \n",
       "..          ...              ...      ...              ...                ...   \n",
       "304        Soja            40.46     7.44            18.31             237.68   \n",
       "305        Soja            19.06     7.20            20.93             117.13   \n",
       "307       Trigo            28.81     7.46            30.56             245.13   \n",
       "308        Soja            34.22     6.75            17.46             256.23   \n",
       "310       Trigo            30.22     7.42            20.57              72.61   \n",
       "\n",
       "     humedad(%)  horasLuzSolar tipoRiego tipoFertilizante  mlPesticida  \\\n",
       "0         77.03           7.27       NaN         Organico         6.34   \n",
       "1         61.13           5.67  Aspersor       Inorganico         9.60   \n",
       "3         70.46           5.03  Aspersor         Organico        25.80   \n",
       "4         47.91           4.02    Manual            Mixto        39.29   \n",
       "8         76.53           8.70       NaN         Organico        13.55   \n",
       "..          ...            ...       ...              ...          ...   \n",
       "304       59.21           8.68       NaN            Mixto        17.22   \n",
       "305       45.96           5.34  Aspersor       Inorganico         6.76   \n",
       "307       45.32           8.47       NaN            Mixto        16.58   \n",
       "308       45.14           5.78       NaN         Organico         5.05   \n",
       "310       89.74           5.09       NaN       Inorganico        19.37   \n",
       "\n",
       "     diasTotales  rendimientoKg_hectarea  indiceNDVI estadoEnfermedadesCultivo  \n",
       "0            122                 4408.07        0.63                      Leve  \n",
       "1            112                 5389.98        0.58                       NaN  \n",
       "3            134                 4227.80        0.44                       NaN  \n",
       "4            145                 4501.20        0.76                       NaN  \n",
       "8            127                 4942.95        0.65                      Leve  \n",
       "..           ...                     ...         ...                       ...  \n",
       "304          100                 4287.59        0.77                    Severo  \n",
       "305          149                 2531.89        0.79                       NaN  \n",
       "307          128                 4203.51        0.65                    Severo  \n",
       "308          104                 3708.54        0.85                    Severo  \n",
       "310          134                 5891.40        0.85                    Severo  \n",
       "\n",
       "[148 rows x 14 columns]"
      ]
     },
     "execution_count": 312,
     "metadata": {},
     "output_type": "execute_result"
    }
   ],
   "source": [
    "df[df.isna().any(axis=1)]"
   ]
  },
  {
   "cell_type": "code",
   "execution_count": 313,
   "id": "852de2d8",
   "metadata": {},
   "outputs": [],
   "source": [
    "df.dropna(inplace=True)"
   ]
  },
  {
   "cell_type": "markdown",
   "id": "7b60ea99",
   "metadata": {},
   "source": [
    "**Distrubuciones de las variables**"
   ]
  },
  {
   "cell_type": "code",
   "execution_count": 314,
   "id": "d7d6a650",
   "metadata": {},
   "outputs": [],
   "source": [
    "#Selección de columnas númericas\n",
    "cols = ['humedadSuelo(%)', 'pHSuelo', 'temperatura(°C)','precipitacion(mm)', 'humedad(%)', 'horasLuzSolar', \n",
    "'mlPesticida', 'diasTotales', 'rendimientoKg_hectarea', 'indiceNDVI']"
   ]
  },
  {
   "cell_type": "code",
   "execution_count": 315,
   "id": "6b0f8480",
   "metadata": {},
   "outputs": [
    {
     "data": {
      "image/png": "[encoded data removed]",
      "text/plain": [
       "<Figure size 1200x1800 with 10 Axes>"
      ]
     },
     "metadata": {},
     "output_type": "display_data"
    }
   ],
   "source": [
    "# Definimos el layout → 5 filas x 2 columnas = 10 subplots\n",
    "fig, axes = plt.subplots(nrows=5, ncols=2, figsize=(12, 18))\n",
    "\n",
    "# Aplanamos la grilla de ejes\n",
    "axes = axes.flatten()\n",
    "\n",
    "# Iteramos\n",
    "for i, col in enumerate(cols):\n",
    "    sns.boxplot(y=df[col], ax=axes[i])\n",
    "    axes[i].set_title(col)\n",
    "\n",
    "# Ajustamos diseño\n",
    "plt.tight_layout()\n",
    "plt.show()"
   ]
  },
  {
   "cell_type": "code",
   "execution_count": 316,
   "id": "d285f3ef",
   "metadata": {},
   "outputs": [
    {
     "data": {
      "image/png": "[encoded data removed]",
      "text/plain": [
       "<Figure size 1000x500 with 2 Axes>"
      ]
     },
     "metadata": {},
     "output_type": "display_data"
    }
   ],
   "source": [
    "#Selección de columnas númericas\n",
    "cols = ['humedadSuelo(%)', 'pHSuelo', 'temperatura(°C)','precipitacion(mm)', 'humedad(%)', 'horasLuzSolar', \n",
    "'mlPesticida', 'diasTotales', 'rendimientoKg_hectarea', 'indiceNDVI']\n",
    "\n",
    "plt.figure(figsize=(10,5))\n",
    "sns.heatmap(df[cols].corr(), vmin=-1, vmax=1, annot=True)\n",
    "plt.title('Correlación entre variables del dataset')\n",
    "plt.show()"
   ]
  },
  {
   "cell_type": "markdown",
   "id": "41b025c2",
   "metadata": {},
   "source": [
    "**Codificación de variables catgorícas**"
   ]
  },
  {
   "cell_type": "code",
   "execution_count": 317,
   "id": "198cfebf",
   "metadata": {},
   "outputs": [
    {
     "name": "stdout",
     "output_type": "stream",
     "text": [
      "<class 'pandas.core.frame.DataFrame'>\n",
      "Index: 163 entries, 2 to 309\n",
      "Data columns (total 14 columns):\n",
      " #   Column                     Non-Null Count  Dtype  \n",
      "---  ------                     --------------  -----  \n",
      " 0   tipoCultivo                163 non-null    object \n",
      " 1   humedadSuelo(%)            163 non-null    float64\n",
      " 2   pHSuelo                    163 non-null    float64\n",
      " 3   temperatura(°C)            163 non-null    float64\n",
      " 4   precipitacion(mm)          163 non-null    float64\n",
      " 5   humedad(%)                 163 non-null    float64\n",
      " 6   horasLuzSolar              163 non-null    float64\n",
      " 7   tipoRiego                  163 non-null    object \n",
      " 8   tipoFertilizante           163 non-null    object \n",
      " 9   mlPesticida                163 non-null    float64\n",
      " 10  diasTotales                163 non-null    int64  \n",
      " 11  rendimientoKg_hectarea     163 non-null    float64\n",
      " 12  indiceNDVI                 163 non-null    float64\n",
      " 13  estadoEnfermedadesCultivo  163 non-null    object \n",
      "dtypes: float64(9), int64(1), object(4)\n",
      "memory usage: 19.1+ KB\n"
     ]
    }
   ],
   "source": [
    "df.info()"
   ]
  },
  {
   "cell_type": "code",
   "execution_count": 318,
   "id": "bc35cebe",
   "metadata": {},
   "outputs": [
    {
     "data": {
      "text/plain": [
       "estadoEnfermedadesCultivo\n",
       "Leve        58\n",
       "Moderate    53\n",
       "Severo      52\n",
       "Name: count, dtype: int64"
      ]
     },
     "execution_count": 318,
     "metadata": {},
     "output_type": "execute_result"
    }
   ],
   "source": [
    "df['estadoEnfermedadesCultivo'].value_counts()"
   ]
  },
  {
   "cell_type": "code",
   "execution_count": 319,
   "id": "e5124743",
   "metadata": {},
   "outputs": [
    {
     "data": {
      "text/html": [
       "<div>\n",
       "<style scoped>\n",
       "    .dataframe tbody tr th:only-of-type {\n",
       "        vertical-align: middle;\n",
       "    }\n",
       "\n",
       "    .dataframe tbody tr th {\n",
       "        vertical-align: top;\n",
       "    }\n",
       "\n",
       "    .dataframe thead th {\n",
       "        text-align: right;\n",
       "    }\n",
       "</style>\n",
       "<table border=\"1\" class=\"dataframe\">\n",
       "  <thead>\n",
       "    <tr style=\"text-align: right;\">\n",
       "      <th></th>\n",
       "      <th>tipoCultivo</th>\n",
       "      <th>humedadSuelo(%)</th>\n",
       "      <th>pHSuelo</th>\n",
       "      <th>temperatura(°C)</th>\n",
       "      <th>precipitacion(mm)</th>\n",
       "      <th>humedad(%)</th>\n",
       "      <th>horasLuzSolar</th>\n",
       "      <th>mlPesticida</th>\n",
       "      <th>diasTotales</th>\n",
       "      <th>rendimientoKg_hectarea</th>\n",
       "      <th>indiceNDVI</th>\n",
       "      <th>tipoRiego_Goteo</th>\n",
       "      <th>tipoRiego_Manual</th>\n",
       "      <th>tipoFertilizante_Mixto</th>\n",
       "      <th>tipoFertilizante_Organico</th>\n",
       "      <th>estadoEnfermedadesCultivo_Moderate</th>\n",
       "      <th>estadoEnfermedadesCultivo_Severo</th>\n",
       "    </tr>\n",
       "  </thead>\n",
       "  <tbody>\n",
       "    <tr>\n",
       "      <th>2</th>\n",
       "      <td>Trigo</td>\n",
       "      <td>29.32</td>\n",
       "      <td>7.16</td>\n",
       "      <td>27.37</td>\n",
       "      <td>265.43</td>\n",
       "      <td>68.87</td>\n",
       "      <td>8.23</td>\n",
       "      <td>15.26</td>\n",
       "      <td>144</td>\n",
       "      <td>2931.16</td>\n",
       "      <td>0.80</td>\n",
       "      <td>True</td>\n",
       "      <td>False</td>\n",
       "      <td>True</td>\n",
       "      <td>False</td>\n",
       "      <td>False</td>\n",
       "      <td>False</td>\n",
       "    </tr>\n",
       "    <tr>\n",
       "      <th>5</th>\n",
       "      <td>Maiz</td>\n",
       "      <td>27.10</td>\n",
       "      <td>5.72</td>\n",
       "      <td>22.26</td>\n",
       "      <td>296.33</td>\n",
       "      <td>80.34</td>\n",
       "      <td>5.44</td>\n",
       "      <td>47.61</td>\n",
       "      <td>121</td>\n",
       "      <td>5264.09</td>\n",
       "      <td>0.70</td>\n",
       "      <td>False</td>\n",
       "      <td>False</td>\n",
       "      <td>True</td>\n",
       "      <td>False</td>\n",
       "      <td>False</td>\n",
       "      <td>False</td>\n",
       "    </tr>\n",
       "    <tr>\n",
       "      <th>6</th>\n",
       "      <td>Soja</td>\n",
       "      <td>40.54</td>\n",
       "      <td>6.35</td>\n",
       "      <td>19.24</td>\n",
       "      <td>184.82</td>\n",
       "      <td>76.50</td>\n",
       "      <td>5.21</td>\n",
       "      <td>49.78</td>\n",
       "      <td>118</td>\n",
       "      <td>5598.46</td>\n",
       "      <td>0.50</td>\n",
       "      <td>False</td>\n",
       "      <td>True</td>\n",
       "      <td>False</td>\n",
       "      <td>False</td>\n",
       "      <td>False</td>\n",
       "      <td>False</td>\n",
       "    </tr>\n",
       "    <tr>\n",
       "      <th>7</th>\n",
       "      <td>Trigo</td>\n",
       "      <td>13.39</td>\n",
       "      <td>6.36</td>\n",
       "      <td>23.47</td>\n",
       "      <td>166.76</td>\n",
       "      <td>76.45</td>\n",
       "      <td>8.04</td>\n",
       "      <td>23.12</td>\n",
       "      <td>145</td>\n",
       "      <td>2437.08</td>\n",
       "      <td>0.55</td>\n",
       "      <td>True</td>\n",
       "      <td>False</td>\n",
       "      <td>False</td>\n",
       "      <td>True</td>\n",
       "      <td>True</td>\n",
       "      <td>False</td>\n",
       "    </tr>\n",
       "    <tr>\n",
       "      <th>9</th>\n",
       "      <td>Soja</td>\n",
       "      <td>12.80</td>\n",
       "      <td>5.87</td>\n",
       "      <td>26.90</td>\n",
       "      <td>218.80</td>\n",
       "      <td>51.76</td>\n",
       "      <td>4.72</td>\n",
       "      <td>31.75</td>\n",
       "      <td>116</td>\n",
       "      <td>4629.49</td>\n",
       "      <td>0.42</td>\n",
       "      <td>False</td>\n",
       "      <td>False</td>\n",
       "      <td>True</td>\n",
       "      <td>False</td>\n",
       "      <td>True</td>\n",
       "      <td>False</td>\n",
       "    </tr>\n",
       "    <tr>\n",
       "      <th>...</th>\n",
       "      <td>...</td>\n",
       "      <td>...</td>\n",
       "      <td>...</td>\n",
       "      <td>...</td>\n",
       "      <td>...</td>\n",
       "      <td>...</td>\n",
       "      <td>...</td>\n",
       "      <td>...</td>\n",
       "      <td>...</td>\n",
       "      <td>...</td>\n",
       "      <td>...</td>\n",
       "      <td>...</td>\n",
       "      <td>...</td>\n",
       "      <td>...</td>\n",
       "      <td>...</td>\n",
       "      <td>...</td>\n",
       "      <td>...</td>\n",
       "    </tr>\n",
       "    <tr>\n",
       "      <th>297</th>\n",
       "      <td>Maiz</td>\n",
       "      <td>29.30</td>\n",
       "      <td>6.71</td>\n",
       "      <td>32.93</td>\n",
       "      <td>92.69</td>\n",
       "      <td>87.33</td>\n",
       "      <td>6.34</td>\n",
       "      <td>35.50</td>\n",
       "      <td>128</td>\n",
       "      <td>5528.08</td>\n",
       "      <td>0.31</td>\n",
       "      <td>False</td>\n",
       "      <td>True</td>\n",
       "      <td>True</td>\n",
       "      <td>False</td>\n",
       "      <td>False</td>\n",
       "      <td>False</td>\n",
       "    </tr>\n",
       "    <tr>\n",
       "      <th>299</th>\n",
       "      <td>Maiz</td>\n",
       "      <td>26.91</td>\n",
       "      <td>6.03</td>\n",
       "      <td>15.04</td>\n",
       "      <td>207.79</td>\n",
       "      <td>59.68</td>\n",
       "      <td>9.54</td>\n",
       "      <td>45.16</td>\n",
       "      <td>112</td>\n",
       "      <td>2023.56</td>\n",
       "      <td>0.30</td>\n",
       "      <td>True</td>\n",
       "      <td>False</td>\n",
       "      <td>False</td>\n",
       "      <td>False</td>\n",
       "      <td>False</td>\n",
       "      <td>False</td>\n",
       "    </tr>\n",
       "    <tr>\n",
       "      <th>303</th>\n",
       "      <td>Trigo</td>\n",
       "      <td>31.58</td>\n",
       "      <td>5.68</td>\n",
       "      <td>16.02</td>\n",
       "      <td>151.82</td>\n",
       "      <td>55.32</td>\n",
       "      <td>7.80</td>\n",
       "      <td>20.13</td>\n",
       "      <td>122</td>\n",
       "      <td>3708.29</td>\n",
       "      <td>0.47</td>\n",
       "      <td>False</td>\n",
       "      <td>False</td>\n",
       "      <td>False</td>\n",
       "      <td>True</td>\n",
       "      <td>True</td>\n",
       "      <td>False</td>\n",
       "    </tr>\n",
       "    <tr>\n",
       "      <th>306</th>\n",
       "      <td>Maiz</td>\n",
       "      <td>32.14</td>\n",
       "      <td>7.44</td>\n",
       "      <td>21.49</td>\n",
       "      <td>286.61</td>\n",
       "      <td>84.20</td>\n",
       "      <td>5.58</td>\n",
       "      <td>45.43</td>\n",
       "      <td>93</td>\n",
       "      <td>4503.82</td>\n",
       "      <td>0.88</td>\n",
       "      <td>False</td>\n",
       "      <td>False</td>\n",
       "      <td>False</td>\n",
       "      <td>False</td>\n",
       "      <td>False</td>\n",
       "      <td>False</td>\n",
       "    </tr>\n",
       "    <tr>\n",
       "      <th>309</th>\n",
       "      <td>Soja</td>\n",
       "      <td>38.61</td>\n",
       "      <td>6.20</td>\n",
       "      <td>17.08</td>\n",
       "      <td>279.06</td>\n",
       "      <td>73.09</td>\n",
       "      <td>9.60</td>\n",
       "      <td>43.78</td>\n",
       "      <td>131</td>\n",
       "      <td>2586.36</td>\n",
       "      <td>0.77</td>\n",
       "      <td>True</td>\n",
       "      <td>False</td>\n",
       "      <td>False</td>\n",
       "      <td>True</td>\n",
       "      <td>False</td>\n",
       "      <td>True</td>\n",
       "    </tr>\n",
       "  </tbody>\n",
       "</table>\n",
       "<p>163 rows × 17 columns</p>\n",
       "</div>"
      ],
      "text/plain": [
       "    tipoCultivo  humedadSuelo(%)  pHSuelo  temperatura(°C)  precipitacion(mm)  \\\n",
       "2         Trigo            29.32     7.16            27.37             265.43   \n",
       "5          Maiz            27.10     5.72            22.26             296.33   \n",
       "6          Soja            40.54     6.35            19.24             184.82   \n",
       "7         Trigo            13.39     6.36            23.47             166.76   \n",
       "9          Soja            12.80     5.87            26.90             218.80   \n",
       "..          ...              ...      ...              ...                ...   \n",
       "297        Maiz            29.30     6.71            32.93              92.69   \n",
       "299        Maiz            26.91     6.03            15.04             207.79   \n",
       "303       Trigo            31.58     5.68            16.02             151.82   \n",
       "306        Maiz            32.14     7.44            21.49             286.61   \n",
       "309        Soja            38.61     6.20            17.08             279.06   \n",
       "\n",
       "     humedad(%)  horasLuzSolar  mlPesticida  diasTotales  \\\n",
       "2         68.87           8.23        15.26          144   \n",
       "5         80.34           5.44        47.61          121   \n",
       "6         76.50           5.21        49.78          118   \n",
       "7         76.45           8.04        23.12          145   \n",
       "9         51.76           4.72        31.75          116   \n",
       "..          ...            ...          ...          ...   \n",
       "297       87.33           6.34        35.50          128   \n",
       "299       59.68           9.54        45.16          112   \n",
       "303       55.32           7.80        20.13          122   \n",
       "306       84.20           5.58        45.43           93   \n",
       "309       73.09           9.60        43.78          131   \n",
       "\n",
       "     rendimientoKg_hectarea  indiceNDVI  tipoRiego_Goteo  tipoRiego_Manual  \\\n",
       "2                   2931.16        0.80             True             False   \n",
       "5                   5264.09        0.70            False             False   \n",
       "6                   5598.46        0.50            False              True   \n",
       "7                   2437.08        0.55             True             False   \n",
       "9                   4629.49        0.42            False             False   \n",
       "..                      ...         ...              ...               ...   \n",
       "297                 5528.08        0.31            False              True   \n",
       "299                 2023.56        0.30             True             False   \n",
       "303                 3708.29        0.47            False             False   \n",
       "306                 4503.82        0.88            False             False   \n",
       "309                 2586.36        0.77             True             False   \n",
       "\n",
       "     tipoFertilizante_Mixto  tipoFertilizante_Organico  \\\n",
       "2                      True                      False   \n",
       "5                      True                      False   \n",
       "6                     False                      False   \n",
       "7                     False                       True   \n",
       "9                      True                      False   \n",
       "..                      ...                        ...   \n",
       "297                    True                      False   \n",
       "299                   False                      False   \n",
       "303                   False                       True   \n",
       "306                   False                      False   \n",
       "309                   False                       True   \n",
       "\n",
       "     estadoEnfermedadesCultivo_Moderate  estadoEnfermedadesCultivo_Severo  \n",
       "2                                 False                             False  \n",
       "5                                 False                             False  \n",
       "6                                 False                             False  \n",
       "7                                  True                             False  \n",
       "9                                  True                             False  \n",
       "..                                  ...                               ...  \n",
       "297                               False                             False  \n",
       "299                               False                             False  \n",
       "303                                True                             False  \n",
       "306                               False                             False  \n",
       "309                               False                              True  \n",
       "\n",
       "[163 rows x 17 columns]"
      ]
     },
     "execution_count": 319,
     "metadata": {},
     "output_type": "execute_result"
    }
   ],
   "source": [
    "df = pd.get_dummies(data=df, columns=['tipoRiego', 'tipoFertilizante', 'estadoEnfermedadesCultivo'], drop_first=True)\n",
    "\n",
    "df"
   ]
  },
  {
   "cell_type": "code",
   "execution_count": 320,
   "id": "0b861bde",
   "metadata": {},
   "outputs": [
    {
     "data": {
      "text/html": [
       "<div>\n",
       "<style scoped>\n",
       "    .dataframe tbody tr th:only-of-type {\n",
       "        vertical-align: middle;\n",
       "    }\n",
       "\n",
       "    .dataframe tbody tr th {\n",
       "        vertical-align: top;\n",
       "    }\n",
       "\n",
       "    .dataframe thead th {\n",
       "        text-align: right;\n",
       "    }\n",
       "</style>\n",
       "<table border=\"1\" class=\"dataframe\">\n",
       "  <thead>\n",
       "    <tr style=\"text-align: right;\">\n",
       "      <th></th>\n",
       "      <th>tipoCultivo</th>\n",
       "      <th>humedadSuelo(%)</th>\n",
       "      <th>pHSuelo</th>\n",
       "      <th>temperatura(°C)</th>\n",
       "      <th>precipitacion(mm)</th>\n",
       "      <th>humedad(%)</th>\n",
       "      <th>horasLuzSolar</th>\n",
       "      <th>mlPesticida</th>\n",
       "      <th>rendimientoKg_hectarea</th>\n",
       "      <th>indiceNDVI</th>\n",
       "      <th>tipoRiego_Goteo</th>\n",
       "      <th>tipoRiego_Manual</th>\n",
       "      <th>tipoFertilizante_Mixto</th>\n",
       "      <th>tipoFertilizante_Organico</th>\n",
       "      <th>estadoEnfermedadesCultivo_Moderate</th>\n",
       "      <th>estadoEnfermedadesCultivo_Severo</th>\n",
       "      <th>mas_120_dias</th>\n",
       "    </tr>\n",
       "  </thead>\n",
       "  <tbody>\n",
       "    <tr>\n",
       "      <th>2</th>\n",
       "      <td>Trigo</td>\n",
       "      <td>29.32</td>\n",
       "      <td>7.16</td>\n",
       "      <td>27.37</td>\n",
       "      <td>265.43</td>\n",
       "      <td>68.87</td>\n",
       "      <td>8.23</td>\n",
       "      <td>15.26</td>\n",
       "      <td>2931.16</td>\n",
       "      <td>0.80</td>\n",
       "      <td>True</td>\n",
       "      <td>False</td>\n",
       "      <td>True</td>\n",
       "      <td>False</td>\n",
       "      <td>False</td>\n",
       "      <td>False</td>\n",
       "      <td>True</td>\n",
       "    </tr>\n",
       "    <tr>\n",
       "      <th>5</th>\n",
       "      <td>Maiz</td>\n",
       "      <td>27.10</td>\n",
       "      <td>5.72</td>\n",
       "      <td>22.26</td>\n",
       "      <td>296.33</td>\n",
       "      <td>80.34</td>\n",
       "      <td>5.44</td>\n",
       "      <td>47.61</td>\n",
       "      <td>5264.09</td>\n",
       "      <td>0.70</td>\n",
       "      <td>False</td>\n",
       "      <td>False</td>\n",
       "      <td>True</td>\n",
       "      <td>False</td>\n",
       "      <td>False</td>\n",
       "      <td>False</td>\n",
       "      <td>True</td>\n",
       "    </tr>\n",
       "    <tr>\n",
       "      <th>6</th>\n",
       "      <td>Soja</td>\n",
       "      <td>40.54</td>\n",
       "      <td>6.35</td>\n",
       "      <td>19.24</td>\n",
       "      <td>184.82</td>\n",
       "      <td>76.50</td>\n",
       "      <td>5.21</td>\n",
       "      <td>49.78</td>\n",
       "      <td>5598.46</td>\n",
       "      <td>0.50</td>\n",
       "      <td>False</td>\n",
       "      <td>True</td>\n",
       "      <td>False</td>\n",
       "      <td>False</td>\n",
       "      <td>False</td>\n",
       "      <td>False</td>\n",
       "      <td>False</td>\n",
       "    </tr>\n",
       "    <tr>\n",
       "      <th>7</th>\n",
       "      <td>Trigo</td>\n",
       "      <td>13.39</td>\n",
       "      <td>6.36</td>\n",
       "      <td>23.47</td>\n",
       "      <td>166.76</td>\n",
       "      <td>76.45</td>\n",
       "      <td>8.04</td>\n",
       "      <td>23.12</td>\n",
       "      <td>2437.08</td>\n",
       "      <td>0.55</td>\n",
       "      <td>True</td>\n",
       "      <td>False</td>\n",
       "      <td>False</td>\n",
       "      <td>True</td>\n",
       "      <td>True</td>\n",
       "      <td>False</td>\n",
       "      <td>True</td>\n",
       "    </tr>\n",
       "    <tr>\n",
       "      <th>9</th>\n",
       "      <td>Soja</td>\n",
       "      <td>12.80</td>\n",
       "      <td>5.87</td>\n",
       "      <td>26.90</td>\n",
       "      <td>218.80</td>\n",
       "      <td>51.76</td>\n",
       "      <td>4.72</td>\n",
       "      <td>31.75</td>\n",
       "      <td>4629.49</td>\n",
       "      <td>0.42</td>\n",
       "      <td>False</td>\n",
       "      <td>False</td>\n",
       "      <td>True</td>\n",
       "      <td>False</td>\n",
       "      <td>True</td>\n",
       "      <td>False</td>\n",
       "      <td>False</td>\n",
       "    </tr>\n",
       "    <tr>\n",
       "      <th>...</th>\n",
       "      <td>...</td>\n",
       "      <td>...</td>\n",
       "      <td>...</td>\n",
       "      <td>...</td>\n",
       "      <td>...</td>\n",
       "      <td>...</td>\n",
       "      <td>...</td>\n",
       "      <td>...</td>\n",
       "      <td>...</td>\n",
       "      <td>...</td>\n",
       "      <td>...</td>\n",
       "      <td>...</td>\n",
       "      <td>...</td>\n",
       "      <td>...</td>\n",
       "      <td>...</td>\n",
       "      <td>...</td>\n",
       "      <td>...</td>\n",
       "    </tr>\n",
       "    <tr>\n",
       "      <th>297</th>\n",
       "      <td>Maiz</td>\n",
       "      <td>29.30</td>\n",
       "      <td>6.71</td>\n",
       "      <td>32.93</td>\n",
       "      <td>92.69</td>\n",
       "      <td>87.33</td>\n",
       "      <td>6.34</td>\n",
       "      <td>35.50</td>\n",
       "      <td>5528.08</td>\n",
       "      <td>0.31</td>\n",
       "      <td>False</td>\n",
       "      <td>True</td>\n",
       "      <td>True</td>\n",
       "      <td>False</td>\n",
       "      <td>False</td>\n",
       "      <td>False</td>\n",
       "      <td>True</td>\n",
       "    </tr>\n",
       "    <tr>\n",
       "      <th>299</th>\n",
       "      <td>Maiz</td>\n",
       "      <td>26.91</td>\n",
       "      <td>6.03</td>\n",
       "      <td>15.04</td>\n",
       "      <td>207.79</td>\n",
       "      <td>59.68</td>\n",
       "      <td>9.54</td>\n",
       "      <td>45.16</td>\n",
       "      <td>2023.56</td>\n",
       "      <td>0.30</td>\n",
       "      <td>True</td>\n",
       "      <td>False</td>\n",
       "      <td>False</td>\n",
       "      <td>False</td>\n",
       "      <td>False</td>\n",
       "      <td>False</td>\n",
       "      <td>False</td>\n",
       "    </tr>\n",
       "    <tr>\n",
       "      <th>303</th>\n",
       "      <td>Trigo</td>\n",
       "      <td>31.58</td>\n",
       "      <td>5.68</td>\n",
       "      <td>16.02</td>\n",
       "      <td>151.82</td>\n",
       "      <td>55.32</td>\n",
       "      <td>7.80</td>\n",
       "      <td>20.13</td>\n",
       "      <td>3708.29</td>\n",
       "      <td>0.47</td>\n",
       "      <td>False</td>\n",
       "      <td>False</td>\n",
       "      <td>False</td>\n",
       "      <td>True</td>\n",
       "      <td>True</td>\n",
       "      <td>False</td>\n",
       "      <td>True</td>\n",
       "    </tr>\n",
       "    <tr>\n",
       "      <th>306</th>\n",
       "      <td>Maiz</td>\n",
       "      <td>32.14</td>\n",
       "      <td>7.44</td>\n",
       "      <td>21.49</td>\n",
       "      <td>286.61</td>\n",
       "      <td>84.20</td>\n",
       "      <td>5.58</td>\n",
       "      <td>45.43</td>\n",
       "      <td>4503.82</td>\n",
       "      <td>0.88</td>\n",
       "      <td>False</td>\n",
       "      <td>False</td>\n",
       "      <td>False</td>\n",
       "      <td>False</td>\n",
       "      <td>False</td>\n",
       "      <td>False</td>\n",
       "      <td>False</td>\n",
       "    </tr>\n",
       "    <tr>\n",
       "      <th>309</th>\n",
       "      <td>Soja</td>\n",
       "      <td>38.61</td>\n",
       "      <td>6.20</td>\n",
       "      <td>17.08</td>\n",
       "      <td>279.06</td>\n",
       "      <td>73.09</td>\n",
       "      <td>9.60</td>\n",
       "      <td>43.78</td>\n",
       "      <td>2586.36</td>\n",
       "      <td>0.77</td>\n",
       "      <td>True</td>\n",
       "      <td>False</td>\n",
       "      <td>False</td>\n",
       "      <td>True</td>\n",
       "      <td>False</td>\n",
       "      <td>True</td>\n",
       "      <td>True</td>\n",
       "    </tr>\n",
       "  </tbody>\n",
       "</table>\n",
       "<p>163 rows × 17 columns</p>\n",
       "</div>"
      ],
      "text/plain": [
       "    tipoCultivo  humedadSuelo(%)  pHSuelo  temperatura(°C)  precipitacion(mm)  \\\n",
       "2         Trigo            29.32     7.16            27.37             265.43   \n",
       "5          Maiz            27.10     5.72            22.26             296.33   \n",
       "6          Soja            40.54     6.35            19.24             184.82   \n",
       "7         Trigo            13.39     6.36            23.47             166.76   \n",
       "9          Soja            12.80     5.87            26.90             218.80   \n",
       "..          ...              ...      ...              ...                ...   \n",
       "297        Maiz            29.30     6.71            32.93              92.69   \n",
       "299        Maiz            26.91     6.03            15.04             207.79   \n",
       "303       Trigo            31.58     5.68            16.02             151.82   \n",
       "306        Maiz            32.14     7.44            21.49             286.61   \n",
       "309        Soja            38.61     6.20            17.08             279.06   \n",
       "\n",
       "     humedad(%)  horasLuzSolar  mlPesticida  rendimientoKg_hectarea  \\\n",
       "2         68.87           8.23        15.26                 2931.16   \n",
       "5         80.34           5.44        47.61                 5264.09   \n",
       "6         76.50           5.21        49.78                 5598.46   \n",
       "7         76.45           8.04        23.12                 2437.08   \n",
       "9         51.76           4.72        31.75                 4629.49   \n",
       "..          ...            ...          ...                     ...   \n",
       "297       87.33           6.34        35.50                 5528.08   \n",
       "299       59.68           9.54        45.16                 2023.56   \n",
       "303       55.32           7.80        20.13                 3708.29   \n",
       "306       84.20           5.58        45.43                 4503.82   \n",
       "309       73.09           9.60        43.78                 2586.36   \n",
       "\n",
       "     indiceNDVI  tipoRiego_Goteo  tipoRiego_Manual  tipoFertilizante_Mixto  \\\n",
       "2          0.80             True             False                    True   \n",
       "5          0.70            False             False                    True   \n",
       "6          0.50            False              True                   False   \n",
       "7          0.55             True             False                   False   \n",
       "9          0.42            False             False                    True   \n",
       "..          ...              ...               ...                     ...   \n",
       "297        0.31            False              True                    True   \n",
       "299        0.30             True             False                   False   \n",
       "303        0.47            False             False                   False   \n",
       "306        0.88            False             False                   False   \n",
       "309        0.77             True             False                   False   \n",
       "\n",
       "     tipoFertilizante_Organico  estadoEnfermedadesCultivo_Moderate  \\\n",
       "2                        False                               False   \n",
       "5                        False                               False   \n",
       "6                        False                               False   \n",
       "7                         True                                True   \n",
       "9                        False                                True   \n",
       "..                         ...                                 ...   \n",
       "297                      False                               False   \n",
       "299                      False                               False   \n",
       "303                       True                                True   \n",
       "306                      False                               False   \n",
       "309                       True                               False   \n",
       "\n",
       "     estadoEnfermedadesCultivo_Severo  mas_120_dias  \n",
       "2                               False          True  \n",
       "5                               False          True  \n",
       "6                               False         False  \n",
       "7                               False          True  \n",
       "9                               False         False  \n",
       "..                                ...           ...  \n",
       "297                             False          True  \n",
       "299                             False         False  \n",
       "303                             False          True  \n",
       "306                             False         False  \n",
       "309                              True          True  \n",
       "\n",
       "[163 rows x 17 columns]"
      ]
     },
     "execution_count": 320,
     "metadata": {},
     "output_type": "execute_result"
    }
   ],
   "source": [
    "df['mas_120_dias'] = df['diasTotales'].apply(lambda x: True if x > 120 else False)\n",
    "df.drop(columns='diasTotales', inplace=True)\n",
    "\n",
    "df"
   ]
  },
  {
   "cell_type": "markdown",
   "id": "b0c4b83a",
   "metadata": {},
   "source": [
    "**Normalización de las variables**"
   ]
  },
  {
   "cell_type": "code",
   "execution_count": 321,
   "id": "7b81240f",
   "metadata": {},
   "outputs": [
    {
     "data": {
      "text/html": [
       "<div>\n",
       "<style scoped>\n",
       "    .dataframe tbody tr th:only-of-type {\n",
       "        vertical-align: middle;\n",
       "    }\n",
       "\n",
       "    .dataframe tbody tr th {\n",
       "        vertical-align: top;\n",
       "    }\n",
       "\n",
       "    .dataframe thead th {\n",
       "        text-align: right;\n",
       "    }\n",
       "</style>\n",
       "<table border=\"1\" class=\"dataframe\">\n",
       "  <thead>\n",
       "    <tr style=\"text-align: right;\">\n",
       "      <th></th>\n",
       "      <th>humedadSuelo(%)</th>\n",
       "      <th>pHSuelo</th>\n",
       "      <th>temperatura(°C)</th>\n",
       "      <th>precipitacion(mm)</th>\n",
       "      <th>humedad(%)</th>\n",
       "      <th>horasLuzSolar</th>\n",
       "      <th>mlPesticida</th>\n",
       "      <th>rendimientoKg_hectarea</th>\n",
       "      <th>indiceNDVI</th>\n",
       "      <th>tipoRiego_Goteo</th>\n",
       "      <th>tipoRiego_Manual</th>\n",
       "      <th>tipoFertilizante_Mixto</th>\n",
       "      <th>tipoFertilizante_Organico</th>\n",
       "      <th>estadoEnfermedadesCultivo_Moderate</th>\n",
       "      <th>estadoEnfermedadesCultivo_Severo</th>\n",
       "      <th>mas_120_dias</th>\n",
       "    </tr>\n",
       "  </thead>\n",
       "  <tbody>\n",
       "    <tr>\n",
       "      <th>2</th>\n",
       "      <td>0.394017</td>\n",
       "      <td>1.040927</td>\n",
       "      <td>0.468253</td>\n",
       "      <td>1.084461</td>\n",
       "      <td>0.129232</td>\n",
       "      <td>0.715899</td>\n",
       "      <td>-0.807933</td>\n",
       "      <td>-1.060408</td>\n",
       "      <td>1.132157</td>\n",
       "      <td>1.525297</td>\n",
       "      <td>-0.733305</td>\n",
       "      <td>1.420746</td>\n",
       "      <td>-0.694131</td>\n",
       "      <td>-0.694131</td>\n",
       "      <td>-0.684448</td>\n",
       "      <td>1.069924</td>\n",
       "    </tr>\n",
       "    <tr>\n",
       "      <th>5</th>\n",
       "      <td>0.173440</td>\n",
       "      <td>-1.323141</td>\n",
       "      <td>-0.511037</td>\n",
       "      <td>1.501523</td>\n",
       "      <td>0.951804</td>\n",
       "      <td>-0.874106</td>\n",
       "      <td>1.589491</td>\n",
       "      <td>0.961703</td>\n",
       "      <td>0.569187</td>\n",
       "      <td>-0.655610</td>\n",
       "      <td>-0.733305</td>\n",
       "      <td>1.420746</td>\n",
       "      <td>-0.694131</td>\n",
       "      <td>-0.694131</td>\n",
       "      <td>-0.684448</td>\n",
       "      <td>1.069924</td>\n",
       "    </tr>\n",
       "    <tr>\n",
       "      <th>6</th>\n",
       "      <td>1.508827</td>\n",
       "      <td>-0.288861</td>\n",
       "      <td>-1.089796</td>\n",
       "      <td>-0.003546</td>\n",
       "      <td>0.676418</td>\n",
       "      <td>-1.005182</td>\n",
       "      <td>1.750307</td>\n",
       "      <td>1.251525</td>\n",
       "      <td>-0.556753</td>\n",
       "      <td>-0.655610</td>\n",
       "      <td>1.363690</td>\n",
       "      <td>-0.703856</td>\n",
       "      <td>-0.694131</td>\n",
       "      <td>-0.694131</td>\n",
       "      <td>-0.684448</td>\n",
       "      <td>-0.934646</td>\n",
       "    </tr>\n",
       "    <tr>\n",
       "      <th>7</th>\n",
       "      <td>-1.188775</td>\n",
       "      <td>-0.272444</td>\n",
       "      <td>-0.279151</td>\n",
       "      <td>-0.247304</td>\n",
       "      <td>0.672833</td>\n",
       "      <td>0.607619</td>\n",
       "      <td>-0.225437</td>\n",
       "      <td>-1.488661</td>\n",
       "      <td>-0.275268</td>\n",
       "      <td>1.525297</td>\n",
       "      <td>-0.733305</td>\n",
       "      <td>-0.703856</td>\n",
       "      <td>1.440650</td>\n",
       "      <td>1.440650</td>\n",
       "      <td>-0.684448</td>\n",
       "      <td>1.069924</td>\n",
       "    </tr>\n",
       "    <tr>\n",
       "      <th>9</th>\n",
       "      <td>-1.247397</td>\n",
       "      <td>-1.076884</td>\n",
       "      <td>0.378181</td>\n",
       "      <td>0.455088</td>\n",
       "      <td>-1.097812</td>\n",
       "      <td>-1.284430</td>\n",
       "      <td>0.414123</td>\n",
       "      <td>0.411652</td>\n",
       "      <td>-1.007130</td>\n",
       "      <td>-0.655610</td>\n",
       "      <td>-0.733305</td>\n",
       "      <td>1.420746</td>\n",
       "      <td>-0.694131</td>\n",
       "      <td>1.440650</td>\n",
       "      <td>-0.684448</td>\n",
       "      <td>-0.934646</td>\n",
       "    </tr>\n",
       "    <tr>\n",
       "      <th>...</th>\n",
       "      <td>...</td>\n",
       "      <td>...</td>\n",
       "      <td>...</td>\n",
       "      <td>...</td>\n",
       "      <td>...</td>\n",
       "      <td>...</td>\n",
       "      <td>...</td>\n",
       "      <td>...</td>\n",
       "      <td>...</td>\n",
       "      <td>...</td>\n",
       "      <td>...</td>\n",
       "      <td>...</td>\n",
       "      <td>...</td>\n",
       "      <td>...</td>\n",
       "      <td>...</td>\n",
       "      <td>...</td>\n",
       "    </tr>\n",
       "    <tr>\n",
       "      <th>297</th>\n",
       "      <td>0.392030</td>\n",
       "      <td>0.302156</td>\n",
       "      <td>1.533782</td>\n",
       "      <td>-1.247039</td>\n",
       "      <td>1.453092</td>\n",
       "      <td>-0.361201</td>\n",
       "      <td>0.692032</td>\n",
       "      <td>1.190522</td>\n",
       "      <td>-1.626397</td>\n",
       "      <td>-0.655610</td>\n",
       "      <td>1.363690</td>\n",
       "      <td>1.420746</td>\n",
       "      <td>-0.694131</td>\n",
       "      <td>-0.694131</td>\n",
       "      <td>-0.684448</td>\n",
       "      <td>1.069924</td>\n",
       "    </tr>\n",
       "    <tr>\n",
       "      <th>299</th>\n",
       "      <td>0.154561</td>\n",
       "      <td>-0.814210</td>\n",
       "      <td>-1.894692</td>\n",
       "      <td>0.306484</td>\n",
       "      <td>-0.529829</td>\n",
       "      <td>1.462461</td>\n",
       "      <td>1.407924</td>\n",
       "      <td>-1.847087</td>\n",
       "      <td>-1.682694</td>\n",
       "      <td>1.525297</td>\n",
       "      <td>-0.733305</td>\n",
       "      <td>-0.703856</td>\n",
       "      <td>-0.694131</td>\n",
       "      <td>-0.694131</td>\n",
       "      <td>-0.684448</td>\n",
       "      <td>-0.934646</td>\n",
       "    </tr>\n",
       "    <tr>\n",
       "      <th>303</th>\n",
       "      <td>0.618569</td>\n",
       "      <td>-1.388809</td>\n",
       "      <td>-1.706883</td>\n",
       "      <td>-0.448952</td>\n",
       "      <td>-0.842507</td>\n",
       "      <td>0.470845</td>\n",
       "      <td>-0.447022</td>\n",
       "      <td>-0.386816</td>\n",
       "      <td>-0.725645</td>\n",
       "      <td>-0.655610</td>\n",
       "      <td>-0.733305</td>\n",
       "      <td>-0.703856</td>\n",
       "      <td>1.440650</td>\n",
       "      <td>1.440650</td>\n",
       "      <td>-0.684448</td>\n",
       "      <td>1.069924</td>\n",
       "    </tr>\n",
       "    <tr>\n",
       "      <th>306</th>\n",
       "      <td>0.674210</td>\n",
       "      <td>1.500607</td>\n",
       "      <td>-0.658602</td>\n",
       "      <td>1.370331</td>\n",
       "      <td>1.228624</td>\n",
       "      <td>-0.794321</td>\n",
       "      <td>1.427933</td>\n",
       "      <td>0.302725</td>\n",
       "      <td>1.582534</td>\n",
       "      <td>-0.655610</td>\n",
       "      <td>-0.733305</td>\n",
       "      <td>-0.703856</td>\n",
       "      <td>-0.694131</td>\n",
       "      <td>-0.694131</td>\n",
       "      <td>-0.684448</td>\n",
       "      <td>-0.934646</td>\n",
       "    </tr>\n",
       "    <tr>\n",
       "      <th>309</th>\n",
       "      <td>1.317064</td>\n",
       "      <td>-0.535118</td>\n",
       "      <td>-1.503742</td>\n",
       "      <td>1.268427</td>\n",
       "      <td>0.431870</td>\n",
       "      <td>1.496655</td>\n",
       "      <td>1.305654</td>\n",
       "      <td>-1.359270</td>\n",
       "      <td>0.963266</td>\n",
       "      <td>1.525297</td>\n",
       "      <td>-0.733305</td>\n",
       "      <td>-0.703856</td>\n",
       "      <td>1.440650</td>\n",
       "      <td>-0.694131</td>\n",
       "      <td>1.461032</td>\n",
       "      <td>1.069924</td>\n",
       "    </tr>\n",
       "  </tbody>\n",
       "</table>\n",
       "<p>163 rows × 16 columns</p>\n",
       "</div>"
      ],
      "text/plain": [
       "     humedadSuelo(%)   pHSuelo  temperatura(°C)  precipitacion(mm)  \\\n",
       "2           0.394017  1.040927         0.468253           1.084461   \n",
       "5           0.173440 -1.323141        -0.511037           1.501523   \n",
       "6           1.508827 -0.288861        -1.089796          -0.003546   \n",
       "7          -1.188775 -0.272444        -0.279151          -0.247304   \n",
       "9          -1.247397 -1.076884         0.378181           0.455088   \n",
       "..               ...       ...              ...                ...   \n",
       "297         0.392030  0.302156         1.533782          -1.247039   \n",
       "299         0.154561 -0.814210        -1.894692           0.306484   \n",
       "303         0.618569 -1.388809        -1.706883          -0.448952   \n",
       "306         0.674210  1.500607        -0.658602           1.370331   \n",
       "309         1.317064 -0.535118        -1.503742           1.268427   \n",
       "\n",
       "     humedad(%)  horasLuzSolar  mlPesticida  rendimientoKg_hectarea  \\\n",
       "2      0.129232       0.715899    -0.807933               -1.060408   \n",
       "5      0.951804      -0.874106     1.589491                0.961703   \n",
       "6      0.676418      -1.005182     1.750307                1.251525   \n",
       "7      0.672833       0.607619    -0.225437               -1.488661   \n",
       "9     -1.097812      -1.284430     0.414123                0.411652   \n",
       "..          ...            ...          ...                     ...   \n",
       "297    1.453092      -0.361201     0.692032                1.190522   \n",
       "299   -0.529829       1.462461     1.407924               -1.847087   \n",
       "303   -0.842507       0.470845    -0.447022               -0.386816   \n",
       "306    1.228624      -0.794321     1.427933                0.302725   \n",
       "309    0.431870       1.496655     1.305654               -1.359270   \n",
       "\n",
       "     indiceNDVI  tipoRiego_Goteo  tipoRiego_Manual  tipoFertilizante_Mixto  \\\n",
       "2      1.132157         1.525297         -0.733305                1.420746   \n",
       "5      0.569187        -0.655610         -0.733305                1.420746   \n",
       "6     -0.556753        -0.655610          1.363690               -0.703856   \n",
       "7     -0.275268         1.525297         -0.733305               -0.703856   \n",
       "9     -1.007130        -0.655610         -0.733305                1.420746   \n",
       "..          ...              ...               ...                     ...   \n",
       "297   -1.626397        -0.655610          1.363690                1.420746   \n",
       "299   -1.682694         1.525297         -0.733305               -0.703856   \n",
       "303   -0.725645        -0.655610         -0.733305               -0.703856   \n",
       "306    1.582534        -0.655610         -0.733305               -0.703856   \n",
       "309    0.963266         1.525297         -0.733305               -0.703856   \n",
       "\n",
       "     tipoFertilizante_Organico  estadoEnfermedadesCultivo_Moderate  \\\n",
       "2                    -0.694131                           -0.694131   \n",
       "5                    -0.694131                           -0.694131   \n",
       "6                    -0.694131                           -0.694131   \n",
       "7                     1.440650                            1.440650   \n",
       "9                    -0.694131                            1.440650   \n",
       "..                         ...                                 ...   \n",
       "297                  -0.694131                           -0.694131   \n",
       "299                  -0.694131                           -0.694131   \n",
       "303                   1.440650                            1.440650   \n",
       "306                  -0.694131                           -0.694131   \n",
       "309                   1.440650                           -0.694131   \n",
       "\n",
       "     estadoEnfermedadesCultivo_Severo  mas_120_dias  \n",
       "2                           -0.684448      1.069924  \n",
       "5                           -0.684448      1.069924  \n",
       "6                           -0.684448     -0.934646  \n",
       "7                           -0.684448      1.069924  \n",
       "9                           -0.684448     -0.934646  \n",
       "..                                ...           ...  \n",
       "297                         -0.684448      1.069924  \n",
       "299                         -0.684448     -0.934646  \n",
       "303                         -0.684448      1.069924  \n",
       "306                         -0.684448     -0.934646  \n",
       "309                          1.461032      1.069924  \n",
       "\n",
       "[163 rows x 16 columns]"
      ]
     },
     "execution_count": 321,
     "metadata": {},
     "output_type": "execute_result"
    }
   ],
   "source": [
    "X = df.drop(columns=['tipoCultivo'])\n",
    "y = df['tipoCultivo']\n",
    "\n",
    "scaler = StandardScaler().set_output(transform=\"pandas\")\n",
    "df_std = scaler.fit_transform(X)\n",
    "df_std"
   ]
  },
  {
   "cell_type": "code",
   "execution_count": 322,
   "id": "0d13e152",
   "metadata": {},
   "outputs": [
    {
     "data": {
      "text/plain": [
       "Series([], Name: tipoCultivo, dtype: object)"
      ]
     },
     "execution_count": 322,
     "metadata": {},
     "output_type": "execute_result"
    }
   ],
   "source": [
    "y[y.isna()]"
   ]
  },
  {
   "cell_type": "code",
   "execution_count": 323,
   "id": "c2a7a8b0",
   "metadata": {},
   "outputs": [
    {
     "data": {
      "text/html": [
       "<div>\n",
       "<style scoped>\n",
       "    .dataframe tbody tr th:only-of-type {\n",
       "        vertical-align: middle;\n",
       "    }\n",
       "\n",
       "    .dataframe tbody tr th {\n",
       "        vertical-align: top;\n",
       "    }\n",
       "\n",
       "    .dataframe thead th {\n",
       "        text-align: right;\n",
       "    }\n",
       "</style>\n",
       "<table border=\"1\" class=\"dataframe\">\n",
       "  <thead>\n",
       "    <tr style=\"text-align: right;\">\n",
       "      <th></th>\n",
       "      <th>humedadSuelo(%)</th>\n",
       "      <th>pHSuelo</th>\n",
       "      <th>temperatura(°C)</th>\n",
       "      <th>precipitacion(mm)</th>\n",
       "      <th>humedad(%)</th>\n",
       "      <th>horasLuzSolar</th>\n",
       "      <th>mlPesticida</th>\n",
       "      <th>rendimientoKg_hectarea</th>\n",
       "      <th>indiceNDVI</th>\n",
       "      <th>tipoRiego_Goteo</th>\n",
       "      <th>tipoRiego_Manual</th>\n",
       "      <th>tipoFertilizante_Mixto</th>\n",
       "      <th>tipoFertilizante_Organico</th>\n",
       "      <th>estadoEnfermedadesCultivo_Moderate</th>\n",
       "      <th>estadoEnfermedadesCultivo_Severo</th>\n",
       "      <th>mas_120_dias</th>\n",
       "    </tr>\n",
       "  </thead>\n",
       "  <tbody>\n",
       "    <tr>\n",
       "      <th>2</th>\n",
       "      <td>29.32</td>\n",
       "      <td>7.16</td>\n",
       "      <td>27.37</td>\n",
       "      <td>265.43</td>\n",
       "      <td>68.87</td>\n",
       "      <td>8.23</td>\n",
       "      <td>15.26</td>\n",
       "      <td>2931.16</td>\n",
       "      <td>0.80</td>\n",
       "      <td>True</td>\n",
       "      <td>False</td>\n",
       "      <td>True</td>\n",
       "      <td>False</td>\n",
       "      <td>False</td>\n",
       "      <td>False</td>\n",
       "      <td>True</td>\n",
       "    </tr>\n",
       "    <tr>\n",
       "      <th>5</th>\n",
       "      <td>27.10</td>\n",
       "      <td>5.72</td>\n",
       "      <td>22.26</td>\n",
       "      <td>296.33</td>\n",
       "      <td>80.34</td>\n",
       "      <td>5.44</td>\n",
       "      <td>47.61</td>\n",
       "      <td>5264.09</td>\n",
       "      <td>0.70</td>\n",
       "      <td>False</td>\n",
       "      <td>False</td>\n",
       "      <td>True</td>\n",
       "      <td>False</td>\n",
       "      <td>False</td>\n",
       "      <td>False</td>\n",
       "      <td>True</td>\n",
       "    </tr>\n",
       "    <tr>\n",
       "      <th>6</th>\n",
       "      <td>40.54</td>\n",
       "      <td>6.35</td>\n",
       "      <td>19.24</td>\n",
       "      <td>184.82</td>\n",
       "      <td>76.50</td>\n",
       "      <td>5.21</td>\n",
       "      <td>49.78</td>\n",
       "      <td>5598.46</td>\n",
       "      <td>0.50</td>\n",
       "      <td>False</td>\n",
       "      <td>True</td>\n",
       "      <td>False</td>\n",
       "      <td>False</td>\n",
       "      <td>False</td>\n",
       "      <td>False</td>\n",
       "      <td>False</td>\n",
       "    </tr>\n",
       "    <tr>\n",
       "      <th>7</th>\n",
       "      <td>13.39</td>\n",
       "      <td>6.36</td>\n",
       "      <td>23.47</td>\n",
       "      <td>166.76</td>\n",
       "      <td>76.45</td>\n",
       "      <td>8.04</td>\n",
       "      <td>23.12</td>\n",
       "      <td>2437.08</td>\n",
       "      <td>0.55</td>\n",
       "      <td>True</td>\n",
       "      <td>False</td>\n",
       "      <td>False</td>\n",
       "      <td>True</td>\n",
       "      <td>True</td>\n",
       "      <td>False</td>\n",
       "      <td>True</td>\n",
       "    </tr>\n",
       "    <tr>\n",
       "      <th>9</th>\n",
       "      <td>12.80</td>\n",
       "      <td>5.87</td>\n",
       "      <td>26.90</td>\n",
       "      <td>218.80</td>\n",
       "      <td>51.76</td>\n",
       "      <td>4.72</td>\n",
       "      <td>31.75</td>\n",
       "      <td>4629.49</td>\n",
       "      <td>0.42</td>\n",
       "      <td>False</td>\n",
       "      <td>False</td>\n",
       "      <td>True</td>\n",
       "      <td>False</td>\n",
       "      <td>True</td>\n",
       "      <td>False</td>\n",
       "      <td>False</td>\n",
       "    </tr>\n",
       "    <tr>\n",
       "      <th>...</th>\n",
       "      <td>...</td>\n",
       "      <td>...</td>\n",
       "      <td>...</td>\n",
       "      <td>...</td>\n",
       "      <td>...</td>\n",
       "      <td>...</td>\n",
       "      <td>...</td>\n",
       "      <td>...</td>\n",
       "      <td>...</td>\n",
       "      <td>...</td>\n",
       "      <td>...</td>\n",
       "      <td>...</td>\n",
       "      <td>...</td>\n",
       "      <td>...</td>\n",
       "      <td>...</td>\n",
       "      <td>...</td>\n",
       "    </tr>\n",
       "    <tr>\n",
       "      <th>297</th>\n",
       "      <td>29.30</td>\n",
       "      <td>6.71</td>\n",
       "      <td>32.93</td>\n",
       "      <td>92.69</td>\n",
       "      <td>87.33</td>\n",
       "      <td>6.34</td>\n",
       "      <td>35.50</td>\n",
       "      <td>5528.08</td>\n",
       "      <td>0.31</td>\n",
       "      <td>False</td>\n",
       "      <td>True</td>\n",
       "      <td>True</td>\n",
       "      <td>False</td>\n",
       "      <td>False</td>\n",
       "      <td>False</td>\n",
       "      <td>True</td>\n",
       "    </tr>\n",
       "    <tr>\n",
       "      <th>299</th>\n",
       "      <td>26.91</td>\n",
       "      <td>6.03</td>\n",
       "      <td>15.04</td>\n",
       "      <td>207.79</td>\n",
       "      <td>59.68</td>\n",
       "      <td>9.54</td>\n",
       "      <td>45.16</td>\n",
       "      <td>2023.56</td>\n",
       "      <td>0.30</td>\n",
       "      <td>True</td>\n",
       "      <td>False</td>\n",
       "      <td>False</td>\n",
       "      <td>False</td>\n",
       "      <td>False</td>\n",
       "      <td>False</td>\n",
       "      <td>False</td>\n",
       "    </tr>\n",
       "    <tr>\n",
       "      <th>303</th>\n",
       "      <td>31.58</td>\n",
       "      <td>5.68</td>\n",
       "      <td>16.02</td>\n",
       "      <td>151.82</td>\n",
       "      <td>55.32</td>\n",
       "      <td>7.80</td>\n",
       "      <td>20.13</td>\n",
       "      <td>3708.29</td>\n",
       "      <td>0.47</td>\n",
       "      <td>False</td>\n",
       "      <td>False</td>\n",
       "      <td>False</td>\n",
       "      <td>True</td>\n",
       "      <td>True</td>\n",
       "      <td>False</td>\n",
       "      <td>True</td>\n",
       "    </tr>\n",
       "    <tr>\n",
       "      <th>306</th>\n",
       "      <td>32.14</td>\n",
       "      <td>7.44</td>\n",
       "      <td>21.49</td>\n",
       "      <td>286.61</td>\n",
       "      <td>84.20</td>\n",
       "      <td>5.58</td>\n",
       "      <td>45.43</td>\n",
       "      <td>4503.82</td>\n",
       "      <td>0.88</td>\n",
       "      <td>False</td>\n",
       "      <td>False</td>\n",
       "      <td>False</td>\n",
       "      <td>False</td>\n",
       "      <td>False</td>\n",
       "      <td>False</td>\n",
       "      <td>False</td>\n",
       "    </tr>\n",
       "    <tr>\n",
       "      <th>309</th>\n",
       "      <td>38.61</td>\n",
       "      <td>6.20</td>\n",
       "      <td>17.08</td>\n",
       "      <td>279.06</td>\n",
       "      <td>73.09</td>\n",
       "      <td>9.60</td>\n",
       "      <td>43.78</td>\n",
       "      <td>2586.36</td>\n",
       "      <td>0.77</td>\n",
       "      <td>True</td>\n",
       "      <td>False</td>\n",
       "      <td>False</td>\n",
       "      <td>True</td>\n",
       "      <td>False</td>\n",
       "      <td>True</td>\n",
       "      <td>True</td>\n",
       "    </tr>\n",
       "  </tbody>\n",
       "</table>\n",
       "<p>163 rows × 16 columns</p>\n",
       "</div>"
      ],
      "text/plain": [
       "     humedadSuelo(%)  pHSuelo  temperatura(°C)  precipitacion(mm)  humedad(%)  \\\n",
       "2              29.32     7.16            27.37             265.43       68.87   \n",
       "5              27.10     5.72            22.26             296.33       80.34   \n",
       "6              40.54     6.35            19.24             184.82       76.50   \n",
       "7              13.39     6.36            23.47             166.76       76.45   \n",
       "9              12.80     5.87            26.90             218.80       51.76   \n",
       "..               ...      ...              ...                ...         ...   \n",
       "297            29.30     6.71            32.93              92.69       87.33   \n",
       "299            26.91     6.03            15.04             207.79       59.68   \n",
       "303            31.58     5.68            16.02             151.82       55.32   \n",
       "306            32.14     7.44            21.49             286.61       84.20   \n",
       "309            38.61     6.20            17.08             279.06       73.09   \n",
       "\n",
       "     horasLuzSolar  mlPesticida  rendimientoKg_hectarea  indiceNDVI  \\\n",
       "2             8.23        15.26                 2931.16        0.80   \n",
       "5             5.44        47.61                 5264.09        0.70   \n",
       "6             5.21        49.78                 5598.46        0.50   \n",
       "7             8.04        23.12                 2437.08        0.55   \n",
       "9             4.72        31.75                 4629.49        0.42   \n",
       "..             ...          ...                     ...         ...   \n",
       "297           6.34        35.50                 5528.08        0.31   \n",
       "299           9.54        45.16                 2023.56        0.30   \n",
       "303           7.80        20.13                 3708.29        0.47   \n",
       "306           5.58        45.43                 4503.82        0.88   \n",
       "309           9.60        43.78                 2586.36        0.77   \n",
       "\n",
       "     tipoRiego_Goteo  tipoRiego_Manual  tipoFertilizante_Mixto  \\\n",
       "2               True             False                    True   \n",
       "5              False             False                    True   \n",
       "6              False              True                   False   \n",
       "7               True             False                   False   \n",
       "9              False             False                    True   \n",
       "..               ...               ...                     ...   \n",
       "297            False              True                    True   \n",
       "299             True             False                   False   \n",
       "303            False             False                   False   \n",
       "306            False             False                   False   \n",
       "309             True             False                   False   \n",
       "\n",
       "     tipoFertilizante_Organico  estadoEnfermedadesCultivo_Moderate  \\\n",
       "2                        False                               False   \n",
       "5                        False                               False   \n",
       "6                        False                               False   \n",
       "7                         True                                True   \n",
       "9                        False                                True   \n",
       "..                         ...                                 ...   \n",
       "297                      False                               False   \n",
       "299                      False                               False   \n",
       "303                       True                                True   \n",
       "306                      False                               False   \n",
       "309                       True                               False   \n",
       "\n",
       "     estadoEnfermedadesCultivo_Severo  mas_120_dias  \n",
       "2                               False          True  \n",
       "5                               False          True  \n",
       "6                               False         False  \n",
       "7                               False          True  \n",
       "9                               False         False  \n",
       "..                                ...           ...  \n",
       "297                             False          True  \n",
       "299                             False         False  \n",
       "303                             False          True  \n",
       "306                             False         False  \n",
       "309                              True          True  \n",
       "\n",
       "[163 rows x 16 columns]"
      ]
     },
     "execution_count": 323,
     "metadata": {},
     "output_type": "execute_result"
    }
   ],
   "source": [
    "X"
   ]
  },
  {
   "cell_type": "markdown",
   "id": "313e0416",
   "metadata": {},
   "source": [
    "# PCA"
   ]
  },
  {
   "cell_type": "code",
   "execution_count": 324,
   "id": "3f8c6b04",
   "metadata": {},
   "outputs": [],
   "source": [
    "# Obtener todas las componentes principales\n",
    "pca = PCA(n_components=X.shape[1])\n",
    "\n",
    "pca_features = pca.fit_transform(df_std)\n",
    "\n",
    "# PC dataframe\n",
    "pca_df = pd.DataFrame(\n",
    "    data=pca_features,\n",
    "    columns=['PC1', 'PC2', 'PC3', 'PC4', 'PC5', 'PC6', 'PC7', 'PC8', 'PC9',\n",
    "             'PC10', 'PC11', 'PC12', 'PC13', 'PC14', 'PC15', 'PC16' ])\n",
    "pca_df['tipoCultivo'] = df['tipoCultivo']"
   ]
  },
  {
   "cell_type": "code",
   "execution_count": 325,
   "id": "947e97e4",
   "metadata": {},
   "outputs": [
    {
     "data": {
      "text/html": [
       "<div>\n",
       "<style scoped>\n",
       "    .dataframe tbody tr th:only-of-type {\n",
       "        vertical-align: middle;\n",
       "    }\n",
       "\n",
       "    .dataframe tbody tr th {\n",
       "        vertical-align: top;\n",
       "    }\n",
       "\n",
       "    .dataframe thead th {\n",
       "        text-align: right;\n",
       "    }\n",
       "</style>\n",
       "<table border=\"1\" class=\"dataframe\">\n",
       "  <thead>\n",
       "    <tr style=\"text-align: right;\">\n",
       "      <th></th>\n",
       "      <th>PC1</th>\n",
       "      <th>PC2</th>\n",
       "      <th>PC3</th>\n",
       "      <th>PC4</th>\n",
       "      <th>PC5</th>\n",
       "      <th>PC6</th>\n",
       "      <th>PC7</th>\n",
       "      <th>PC8</th>\n",
       "      <th>PC9</th>\n",
       "      <th>PC10</th>\n",
       "      <th>PC11</th>\n",
       "      <th>PC12</th>\n",
       "      <th>PC13</th>\n",
       "      <th>PC14</th>\n",
       "      <th>PC15</th>\n",
       "      <th>PC16</th>\n",
       "      <th>tipoCultivo</th>\n",
       "    </tr>\n",
       "  </thead>\n",
       "  <tbody>\n",
       "    <tr>\n",
       "      <th>0</th>\n",
       "      <td>-0.068315</td>\n",
       "      <td>-0.430961</td>\n",
       "      <td>2.448585</td>\n",
       "      <td>0.453308</td>\n",
       "      <td>0.778546</td>\n",
       "      <td>-0.079128</td>\n",
       "      <td>-1.411301</td>\n",
       "      <td>0.213420</td>\n",
       "      <td>1.245448</td>\n",
       "      <td>0.277594</td>\n",
       "      <td>0.053400</td>\n",
       "      <td>1.255125</td>\n",
       "      <td>-0.947609</td>\n",
       "      <td>-0.145656</td>\n",
       "      <td>0.614417</td>\n",
       "      <td>-0.371073</td>\n",
       "      <td>NaN</td>\n",
       "    </tr>\n",
       "    <tr>\n",
       "      <th>1</th>\n",
       "      <td>0.959151</td>\n",
       "      <td>0.744856</td>\n",
       "      <td>0.500574</td>\n",
       "      <td>-1.467113</td>\n",
       "      <td>1.723245</td>\n",
       "      <td>1.368822</td>\n",
       "      <td>0.272948</td>\n",
       "      <td>0.886305</td>\n",
       "      <td>1.089267</td>\n",
       "      <td>0.620799</td>\n",
       "      <td>-1.222328</td>\n",
       "      <td>-0.478189</td>\n",
       "      <td>0.494090</td>\n",
       "      <td>-0.876869</td>\n",
       "      <td>-0.194026</td>\n",
       "      <td>-1.174045</td>\n",
       "      <td>NaN</td>\n",
       "    </tr>\n",
       "    <tr>\n",
       "      <th>2</th>\n",
       "      <td>1.174755</td>\n",
       "      <td>1.036803</td>\n",
       "      <td>-1.254872</td>\n",
       "      <td>-0.277938</td>\n",
       "      <td>0.499558</td>\n",
       "      <td>0.875947</td>\n",
       "      <td>0.908315</td>\n",
       "      <td>-0.935845</td>\n",
       "      <td>-0.641523</td>\n",
       "      <td>2.143201</td>\n",
       "      <td>0.111406</td>\n",
       "      <td>-1.156677</td>\n",
       "      <td>0.519555</td>\n",
       "      <td>-1.225925</td>\n",
       "      <td>0.222888</td>\n",
       "      <td>0.209024</td>\n",
       "      <td>Trigo</td>\n",
       "    </tr>\n",
       "    <tr>\n",
       "      <th>3</th>\n",
       "      <td>-2.349818</td>\n",
       "      <td>-1.389282</td>\n",
       "      <td>-0.859643</td>\n",
       "      <td>-0.040962</td>\n",
       "      <td>-0.202887</td>\n",
       "      <td>-0.023863</td>\n",
       "      <td>-0.727274</td>\n",
       "      <td>1.701050</td>\n",
       "      <td>0.814356</td>\n",
       "      <td>-0.045609</td>\n",
       "      <td>0.134839</td>\n",
       "      <td>0.551898</td>\n",
       "      <td>-0.767000</td>\n",
       "      <td>0.610383</td>\n",
       "      <td>0.386530</td>\n",
       "      <td>0.399999</td>\n",
       "      <td>NaN</td>\n",
       "    </tr>\n",
       "    <tr>\n",
       "      <th>4</th>\n",
       "      <td>0.977342</td>\n",
       "      <td>-1.927715</td>\n",
       "      <td>-0.310204</td>\n",
       "      <td>-1.930395</td>\n",
       "      <td>1.191368</td>\n",
       "      <td>-0.479648</td>\n",
       "      <td>0.720434</td>\n",
       "      <td>-0.087239</td>\n",
       "      <td>-0.419969</td>\n",
       "      <td>-0.951837</td>\n",
       "      <td>-0.567308</td>\n",
       "      <td>-1.108337</td>\n",
       "      <td>0.236096</td>\n",
       "      <td>0.616035</td>\n",
       "      <td>-0.269047</td>\n",
       "      <td>-0.592613</td>\n",
       "      <td>NaN</td>\n",
       "    </tr>\n",
       "    <tr>\n",
       "      <th>...</th>\n",
       "      <td>...</td>\n",
       "      <td>...</td>\n",
       "      <td>...</td>\n",
       "      <td>...</td>\n",
       "      <td>...</td>\n",
       "      <td>...</td>\n",
       "      <td>...</td>\n",
       "      <td>...</td>\n",
       "      <td>...</td>\n",
       "      <td>...</td>\n",
       "      <td>...</td>\n",
       "      <td>...</td>\n",
       "      <td>...</td>\n",
       "      <td>...</td>\n",
       "      <td>...</td>\n",
       "      <td>...</td>\n",
       "      <td>...</td>\n",
       "    </tr>\n",
       "    <tr>\n",
       "      <th>158</th>\n",
       "      <td>1.989092</td>\n",
       "      <td>0.940769</td>\n",
       "      <td>-0.203972</td>\n",
       "      <td>-1.189106</td>\n",
       "      <td>-0.576969</td>\n",
       "      <td>-0.113469</td>\n",
       "      <td>2.352749</td>\n",
       "      <td>0.486844</td>\n",
       "      <td>0.094168</td>\n",
       "      <td>0.827523</td>\n",
       "      <td>0.174285</td>\n",
       "      <td>1.066409</td>\n",
       "      <td>-1.378714</td>\n",
       "      <td>-0.320266</td>\n",
       "      <td>1.128849</td>\n",
       "      <td>-0.516197</td>\n",
       "      <td>NaN</td>\n",
       "    </tr>\n",
       "    <tr>\n",
       "      <th>159</th>\n",
       "      <td>-2.028187</td>\n",
       "      <td>-0.451778</td>\n",
       "      <td>-0.130169</td>\n",
       "      <td>-1.889532</td>\n",
       "      <td>0.120233</td>\n",
       "      <td>1.032335</td>\n",
       "      <td>-2.187671</td>\n",
       "      <td>-0.779432</td>\n",
       "      <td>-1.486649</td>\n",
       "      <td>1.264580</td>\n",
       "      <td>0.721080</td>\n",
       "      <td>-0.722740</td>\n",
       "      <td>-0.905222</td>\n",
       "      <td>-0.662839</td>\n",
       "      <td>0.395700</td>\n",
       "      <td>0.188272</td>\n",
       "      <td>Trigo</td>\n",
       "    </tr>\n",
       "    <tr>\n",
       "      <th>160</th>\n",
       "      <td>-1.074850</td>\n",
       "      <td>-1.057926</td>\n",
       "      <td>-2.315932</td>\n",
       "      <td>-0.497614</td>\n",
       "      <td>-1.032655</td>\n",
       "      <td>-0.040340</td>\n",
       "      <td>-1.294190</td>\n",
       "      <td>0.207822</td>\n",
       "      <td>0.241152</td>\n",
       "      <td>0.355028</td>\n",
       "      <td>-1.240296</td>\n",
       "      <td>0.466718</td>\n",
       "      <td>0.573688</td>\n",
       "      <td>-0.057548</td>\n",
       "      <td>-0.904269</td>\n",
       "      <td>-0.835939</td>\n",
       "      <td>NaN</td>\n",
       "    </tr>\n",
       "    <tr>\n",
       "      <th>161</th>\n",
       "      <td>0.201653</td>\n",
       "      <td>0.484339</td>\n",
       "      <td>0.985710</td>\n",
       "      <td>1.645693</td>\n",
       "      <td>1.595212</td>\n",
       "      <td>1.111281</td>\n",
       "      <td>0.406271</td>\n",
       "      <td>0.040438</td>\n",
       "      <td>0.215286</td>\n",
       "      <td>1.400133</td>\n",
       "      <td>0.534760</td>\n",
       "      <td>-1.700272</td>\n",
       "      <td>0.060210</td>\n",
       "      <td>-1.151800</td>\n",
       "      <td>-0.872823</td>\n",
       "      <td>-0.620387</td>\n",
       "      <td>NaN</td>\n",
       "    </tr>\n",
       "    <tr>\n",
       "      <th>162</th>\n",
       "      <td>-2.378047</td>\n",
       "      <td>2.053920</td>\n",
       "      <td>0.107625</td>\n",
       "      <td>0.209707</td>\n",
       "      <td>0.510548</td>\n",
       "      <td>1.055178</td>\n",
       "      <td>-2.683589</td>\n",
       "      <td>0.642496</td>\n",
       "      <td>0.542557</td>\n",
       "      <td>1.263504</td>\n",
       "      <td>0.137221</td>\n",
       "      <td>0.469374</td>\n",
       "      <td>0.671810</td>\n",
       "      <td>0.643384</td>\n",
       "      <td>-0.190534</td>\n",
       "      <td>-0.211900</td>\n",
       "      <td>NaN</td>\n",
       "    </tr>\n",
       "  </tbody>\n",
       "</table>\n",
       "<p>163 rows × 17 columns</p>\n",
       "</div>"
      ],
      "text/plain": [
       "          PC1       PC2       PC3       PC4       PC5       PC6       PC7  \\\n",
       "0   -0.068315 -0.430961  2.448585  0.453308  0.778546 -0.079128 -1.411301   \n",
       "1    0.959151  0.744856  0.500574 -1.467113  1.723245  1.368822  0.272948   \n",
       "2    1.174755  1.036803 -1.254872 -0.277938  0.499558  0.875947  0.908315   \n",
       "3   -2.349818 -1.389282 -0.859643 -0.040962 -0.202887 -0.023863 -0.727274   \n",
       "4    0.977342 -1.927715 -0.310204 -1.930395  1.191368 -0.479648  0.720434   \n",
       "..        ...       ...       ...       ...       ...       ...       ...   \n",
       "158  1.989092  0.940769 -0.203972 -1.189106 -0.576969 -0.113469  2.352749   \n",
       "159 -2.028187 -0.451778 -0.130169 -1.889532  0.120233  1.032335 -2.187671   \n",
       "160 -1.074850 -1.057926 -2.315932 -0.497614 -1.032655 -0.040340 -1.294190   \n",
       "161  0.201653  0.484339  0.985710  1.645693  1.595212  1.111281  0.406271   \n",
       "162 -2.378047  2.053920  0.107625  0.209707  0.510548  1.055178 -2.683589   \n",
       "\n",
       "          PC8       PC9      PC10      PC11      PC12      PC13      PC14  \\\n",
       "0    0.213420  1.245448  0.277594  0.053400  1.255125 -0.947609 -0.145656   \n",
       "1    0.886305  1.089267  0.620799 -1.222328 -0.478189  0.494090 -0.876869   \n",
       "2   -0.935845 -0.641523  2.143201  0.111406 -1.156677  0.519555 -1.225925   \n",
       "3    1.701050  0.814356 -0.045609  0.134839  0.551898 -0.767000  0.610383   \n",
       "4   -0.087239 -0.419969 -0.951837 -0.567308 -1.108337  0.236096  0.616035   \n",
       "..        ...       ...       ...       ...       ...       ...       ...   \n",
       "158  0.486844  0.094168  0.827523  0.174285  1.066409 -1.378714 -0.320266   \n",
       "159 -0.779432 -1.486649  1.264580  0.721080 -0.722740 -0.905222 -0.662839   \n",
       "160  0.207822  0.241152  0.355028 -1.240296  0.466718  0.573688 -0.057548   \n",
       "161  0.040438  0.215286  1.400133  0.534760 -1.700272  0.060210 -1.151800   \n",
       "162  0.642496  0.542557  1.263504  0.137221  0.469374  0.671810  0.643384   \n",
       "\n",
       "         PC15      PC16 tipoCultivo  \n",
       "0    0.614417 -0.371073         NaN  \n",
       "1   -0.194026 -1.174045         NaN  \n",
       "2    0.222888  0.209024       Trigo  \n",
       "3    0.386530  0.399999         NaN  \n",
       "4   -0.269047 -0.592613         NaN  \n",
       "..        ...       ...         ...  \n",
       "158  1.128849 -0.516197         NaN  \n",
       "159  0.395700  0.188272       Trigo  \n",
       "160 -0.904269 -0.835939         NaN  \n",
       "161 -0.872823 -0.620387         NaN  \n",
       "162 -0.190534 -0.211900         NaN  \n",
       "\n",
       "[163 rows x 17 columns]"
      ]
     },
     "execution_count": 325,
     "metadata": {},
     "output_type": "execute_result"
    }
   ],
   "source": [
    "pca_df"
   ]
  },
  {
   "cell_type": "code",
   "execution_count": 326,
   "id": "c5527675",
   "metadata": {},
   "outputs": [
    {
     "data": {
      "text/html": [
       "<div>\n",
       "<style scoped>\n",
       "    .dataframe tbody tr th:only-of-type {\n",
       "        vertical-align: middle;\n",
       "    }\n",
       "\n",
       "    .dataframe tbody tr th {\n",
       "        vertical-align: top;\n",
       "    }\n",
       "\n",
       "    .dataframe thead th {\n",
       "        text-align: right;\n",
       "    }\n",
       "</style>\n",
       "<table border=\"1\" class=\"dataframe\">\n",
       "  <thead>\n",
       "    <tr style=\"text-align: right;\">\n",
       "      <th></th>\n",
       "      <th>PC1</th>\n",
       "      <th>PC2</th>\n",
       "      <th>PC3</th>\n",
       "      <th>PC4</th>\n",
       "      <th>PC5</th>\n",
       "      <th>PC6</th>\n",
       "      <th>PC7</th>\n",
       "      <th>PC8</th>\n",
       "      <th>PC9</th>\n",
       "      <th>PC10</th>\n",
       "      <th>PC11</th>\n",
       "      <th>PC12</th>\n",
       "      <th>PC13</th>\n",
       "      <th>PC14</th>\n",
       "      <th>PC15</th>\n",
       "      <th>PC16</th>\n",
       "    </tr>\n",
       "  </thead>\n",
       "  <tbody>\n",
       "    <tr>\n",
       "      <th>X1</th>\n",
       "      <td>0.212903</td>\n",
       "      <td>0.010127</td>\n",
       "      <td>0.211342</td>\n",
       "      <td>0.053591</td>\n",
       "      <td>-0.113253</td>\n",
       "      <td>-0.290620</td>\n",
       "      <td>-0.027725</td>\n",
       "      <td>-0.006466</td>\n",
       "      <td>0.089247</td>\n",
       "      <td>-0.478627</td>\n",
       "      <td>0.505708</td>\n",
       "      <td>0.340706</td>\n",
       "      <td>-0.432702</td>\n",
       "      <td>0.053767</td>\n",
       "      <td>-0.047951</td>\n",
       "      <td>0.087434</td>\n",
       "    </tr>\n",
       "    <tr>\n",
       "      <th>X2</th>\n",
       "      <td>0.252761</td>\n",
       "      <td>-0.039936</td>\n",
       "      <td>0.161753</td>\n",
       "      <td>0.185378</td>\n",
       "      <td>0.166549</td>\n",
       "      <td>0.075340</td>\n",
       "      <td>0.250342</td>\n",
       "      <td>0.192328</td>\n",
       "      <td>-0.066145</td>\n",
       "      <td>-0.080113</td>\n",
       "      <td>0.141937</td>\n",
       "      <td>-0.189286</td>\n",
       "      <td>0.119543</td>\n",
       "      <td>-0.533645</td>\n",
       "      <td>0.570553</td>\n",
       "      <td>0.222588</td>\n",
       "    </tr>\n",
       "    <tr>\n",
       "      <th>X3</th>\n",
       "      <td>-0.138065</td>\n",
       "      <td>0.337462</td>\n",
       "      <td>-0.030225</td>\n",
       "      <td>0.063742</td>\n",
       "      <td>0.136067</td>\n",
       "      <td>0.037164</td>\n",
       "      <td>-0.206953</td>\n",
       "      <td>-0.074330</td>\n",
       "      <td>0.268479</td>\n",
       "      <td>0.225638</td>\n",
       "      <td>-0.311094</td>\n",
       "      <td>0.475565</td>\n",
       "      <td>-0.388995</td>\n",
       "      <td>-0.367157</td>\n",
       "      <td>0.222867</td>\n",
       "      <td>-0.110020</td>\n",
       "    </tr>\n",
       "    <tr>\n",
       "      <th>X4</th>\n",
       "      <td>0.182976</td>\n",
       "      <td>0.468219</td>\n",
       "      <td>0.092774</td>\n",
       "      <td>0.149932</td>\n",
       "      <td>0.198114</td>\n",
       "      <td>0.051424</td>\n",
       "      <td>-0.351140</td>\n",
       "      <td>-0.062262</td>\n",
       "      <td>0.482990</td>\n",
       "      <td>-0.189649</td>\n",
       "      <td>0.158931</td>\n",
       "      <td>-0.315436</td>\n",
       "      <td>0.320129</td>\n",
       "      <td>0.038055</td>\n",
       "      <td>-0.078189</td>\n",
       "      <td>-0.207570</td>\n",
       "    </tr>\n",
       "    <tr>\n",
       "      <th>X5</th>\n",
       "      <td>0.173504</td>\n",
       "      <td>-0.235373</td>\n",
       "      <td>0.400726</td>\n",
       "      <td>0.580559</td>\n",
       "      <td>0.079760</td>\n",
       "      <td>-0.172220</td>\n",
       "      <td>0.303593</td>\n",
       "      <td>0.091547</td>\n",
       "      <td>0.198650</td>\n",
       "      <td>0.258487</td>\n",
       "      <td>-0.211389</td>\n",
       "      <td>0.014804</td>\n",
       "      <td>-0.071483</td>\n",
       "      <td>0.150238</td>\n",
       "      <td>-0.187401</td>\n",
       "      <td>-0.257513</td>\n",
       "    </tr>\n",
       "    <tr>\n",
       "      <th>X6</th>\n",
       "      <td>-0.242430</td>\n",
       "      <td>-0.191874</td>\n",
       "      <td>-0.318780</td>\n",
       "      <td>0.091640</td>\n",
       "      <td>0.273697</td>\n",
       "      <td>0.556271</td>\n",
       "      <td>0.370184</td>\n",
       "      <td>0.063154</td>\n",
       "      <td>0.350538</td>\n",
       "      <td>-0.198067</td>\n",
       "      <td>0.215152</td>\n",
       "      <td>0.049169</td>\n",
       "      <td>-0.149956</td>\n",
       "      <td>-0.026166</td>\n",
       "      <td>-0.180243</td>\n",
       "      <td>-0.050469</td>\n",
       "    </tr>\n",
       "    <tr>\n",
       "      <th>X7</th>\n",
       "      <td>-0.246213</td>\n",
       "      <td>0.160690</td>\n",
       "      <td>0.266703</td>\n",
       "      <td>-0.360942</td>\n",
       "      <td>0.405940</td>\n",
       "      <td>-0.166635</td>\n",
       "      <td>0.091993</td>\n",
       "      <td>0.666020</td>\n",
       "      <td>-0.097870</td>\n",
       "      <td>-0.091825</td>\n",
       "      <td>-0.032296</td>\n",
       "      <td>0.060308</td>\n",
       "      <td>0.026755</td>\n",
       "      <td>0.070363</td>\n",
       "      <td>-0.062029</td>\n",
       "      <td>-0.188000</td>\n",
       "    </tr>\n",
       "    <tr>\n",
       "      <th>X8</th>\n",
       "      <td>-0.208138</td>\n",
       "      <td>-0.188336</td>\n",
       "      <td>0.122397</td>\n",
       "      <td>-0.096015</td>\n",
       "      <td>0.579194</td>\n",
       "      <td>-0.317635</td>\n",
       "      <td>0.068604</td>\n",
       "      <td>-0.509264</td>\n",
       "      <td>0.116892</td>\n",
       "      <td>-0.133566</td>\n",
       "      <td>-0.121473</td>\n",
       "      <td>0.070811</td>\n",
       "      <td>0.159681</td>\n",
       "      <td>0.112998</td>\n",
       "      <td>0.087726</td>\n",
       "      <td>0.315214</td>\n",
       "    </tr>\n",
       "    <tr>\n",
       "      <th>X9</th>\n",
       "      <td>-0.183697</td>\n",
       "      <td>0.238623</td>\n",
       "      <td>-0.088830</td>\n",
       "      <td>0.171562</td>\n",
       "      <td>-0.163967</td>\n",
       "      <td>-0.156930</td>\n",
       "      <td>0.067397</td>\n",
       "      <td>0.312952</td>\n",
       "      <td>0.295835</td>\n",
       "      <td>0.244679</td>\n",
       "      <td>0.053173</td>\n",
       "      <td>0.004282</td>\n",
       "      <td>0.064273</td>\n",
       "      <td>0.097809</td>\n",
       "      <td>-0.148640</td>\n",
       "      <td>0.729365</td>\n",
       "    </tr>\n",
       "    <tr>\n",
       "      <th>X10</th>\n",
       "      <td>0.594167</td>\n",
       "      <td>0.258311</td>\n",
       "      <td>-0.467898</td>\n",
       "      <td>-0.079884</td>\n",
       "      <td>0.367759</td>\n",
       "      <td>-0.147545</td>\n",
       "      <td>0.246627</td>\n",
       "      <td>-0.010214</td>\n",
       "      <td>-0.162677</td>\n",
       "      <td>0.247266</td>\n",
       "      <td>0.072503</td>\n",
       "      <td>0.101577</td>\n",
       "      <td>-0.066306</td>\n",
       "      <td>0.124081</td>\n",
       "      <td>-0.118367</td>\n",
       "      <td>0.001695</td>\n",
       "    </tr>\n",
       "    <tr>\n",
       "      <th>X11</th>\n",
       "      <td>-0.040665</td>\n",
       "      <td>0.340119</td>\n",
       "      <td>0.313576</td>\n",
       "      <td>-0.419652</td>\n",
       "      <td>-0.247415</td>\n",
       "      <td>0.018877</td>\n",
       "      <td>0.563221</td>\n",
       "      <td>-0.312383</td>\n",
       "      <td>0.190143</td>\n",
       "      <td>0.172663</td>\n",
       "      <td>0.079556</td>\n",
       "      <td>-0.193787</td>\n",
       "      <td>-0.121893</td>\n",
       "      <td>-0.032763</td>\n",
       "      <td>0.004635</td>\n",
       "      <td>-0.077813</td>\n",
       "    </tr>\n",
       "    <tr>\n",
       "      <th>X12</th>\n",
       "      <td>0.417057</td>\n",
       "      <td>-0.255310</td>\n",
       "      <td>0.387525</td>\n",
       "      <td>-0.353752</td>\n",
       "      <td>0.091132</td>\n",
       "      <td>0.459876</td>\n",
       "      <td>-0.249076</td>\n",
       "      <td>0.054760</td>\n",
       "      <td>0.165642</td>\n",
       "      <td>0.220986</td>\n",
       "      <td>-0.023977</td>\n",
       "      <td>0.189352</td>\n",
       "      <td>0.013578</td>\n",
       "      <td>0.100867</td>\n",
       "      <td>-0.086858</td>\n",
       "      <td>0.264822</td>\n",
       "    </tr>\n",
       "    <tr>\n",
       "      <th>X13</th>\n",
       "      <td>0.122339</td>\n",
       "      <td>-0.364225</td>\n",
       "      <td>-0.288681</td>\n",
       "      <td>-0.292193</td>\n",
       "      <td>-0.225506</td>\n",
       "      <td>-0.341099</td>\n",
       "      <td>0.057100</td>\n",
       "      <td>0.160391</td>\n",
       "      <td>0.539351</td>\n",
       "      <td>0.031016</td>\n",
       "      <td>-0.016049</td>\n",
       "      <td>0.147405</td>\n",
       "      <td>0.256751</td>\n",
       "      <td>-0.029869</td>\n",
       "      <td>0.249319</td>\n",
       "      <td>-0.211311</td>\n",
       "    </tr>\n",
       "    <tr>\n",
       "      <th>X14</th>\n",
       "      <td>-0.108773</td>\n",
       "      <td>0.192786</td>\n",
       "      <td>0.056293</td>\n",
       "      <td>0.163675</td>\n",
       "      <td>-0.053589</td>\n",
       "      <td>0.218384</td>\n",
       "      <td>0.107910</td>\n",
       "      <td>-0.021994</td>\n",
       "      <td>-0.092655</td>\n",
       "      <td>0.086049</td>\n",
       "      <td>0.197953</td>\n",
       "      <td>0.385774</td>\n",
       "      <td>0.274070</td>\n",
       "      <td>0.553571</td>\n",
       "      <td>0.514630</td>\n",
       "      <td>-0.089196</td>\n",
       "    </tr>\n",
       "    <tr>\n",
       "      <th>X15</th>\n",
       "      <td>-0.168982</td>\n",
       "      <td>-0.051831</td>\n",
       "      <td>0.089034</td>\n",
       "      <td>0.035326</td>\n",
       "      <td>0.042306</td>\n",
       "      <td>-0.074615</td>\n",
       "      <td>-0.039042</td>\n",
       "      <td>-0.115170</td>\n",
       "      <td>-0.125394</td>\n",
       "      <td>0.363764</td>\n",
       "      <td>0.520818</td>\n",
       "      <td>0.307350</td>\n",
       "      <td>0.387132</td>\n",
       "      <td>-0.401643</td>\n",
       "      <td>-0.308862</td>\n",
       "      <td>-0.130730</td>\n",
       "    </tr>\n",
       "    <tr>\n",
       "      <th>X16</th>\n",
       "      <td>-0.166434</td>\n",
       "      <td>-0.186128</td>\n",
       "      <td>-0.039728</td>\n",
       "      <td>-0.028264</td>\n",
       "      <td>0.181609</td>\n",
       "      <td>-0.101170</td>\n",
       "      <td>-0.258852</td>\n",
       "      <td>0.012944</td>\n",
       "      <td>0.062746</td>\n",
       "      <td>0.452720</td>\n",
       "      <td>0.411846</td>\n",
       "      <td>-0.402968</td>\n",
       "      <td>-0.419990</td>\n",
       "      <td>0.173905</td>\n",
       "      <td>0.266769</td>\n",
       "      <td>-0.078716</td>\n",
       "    </tr>\n",
       "  </tbody>\n",
       "</table>\n",
       "</div>"
      ],
      "text/plain": [
       "          PC1       PC2       PC3       PC4       PC5       PC6       PC7  \\\n",
       "X1   0.212903  0.010127  0.211342  0.053591 -0.113253 -0.290620 -0.027725   \n",
       "X2   0.252761 -0.039936  0.161753  0.185378  0.166549  0.075340  0.250342   \n",
       "X3  -0.138065  0.337462 -0.030225  0.063742  0.136067  0.037164 -0.206953   \n",
       "X4   0.182976  0.468219  0.092774  0.149932  0.198114  0.051424 -0.351140   \n",
       "X5   0.173504 -0.235373  0.400726  0.580559  0.079760 -0.172220  0.303593   \n",
       "X6  -0.242430 -0.191874 -0.318780  0.091640  0.273697  0.556271  0.370184   \n",
       "X7  -0.246213  0.160690  0.266703 -0.360942  0.405940 -0.166635  0.091993   \n",
       "X8  -0.208138 -0.188336  0.122397 -0.096015  0.579194 -0.317635  0.068604   \n",
       "X9  -0.183697  0.238623 -0.088830  0.171562 -0.163967 -0.156930  0.067397   \n",
       "X10  0.594167  0.258311 -0.467898 -0.079884  0.367759 -0.147545  0.246627   \n",
       "X11 -0.040665  0.340119  0.313576 -0.419652 -0.247415  0.018877  0.563221   \n",
       "X12  0.417057 -0.255310  0.387525 -0.353752  0.091132  0.459876 -0.249076   \n",
       "X13  0.122339 -0.364225 -0.288681 -0.292193 -0.225506 -0.341099  0.057100   \n",
       "X14 -0.108773  0.192786  0.056293  0.163675 -0.053589  0.218384  0.107910   \n",
       "X15 -0.168982 -0.051831  0.089034  0.035326  0.042306 -0.074615 -0.039042   \n",
       "X16 -0.166434 -0.186128 -0.039728 -0.028264  0.181609 -0.101170 -0.258852   \n",
       "\n",
       "          PC8       PC9      PC10      PC11      PC12      PC13      PC14  \\\n",
       "X1  -0.006466  0.089247 -0.478627  0.505708  0.340706 -0.432702  0.053767   \n",
       "X2   0.192328 -0.066145 -0.080113  0.141937 -0.189286  0.119543 -0.533645   \n",
       "X3  -0.074330  0.268479  0.225638 -0.311094  0.475565 -0.388995 -0.367157   \n",
       "X4  -0.062262  0.482990 -0.189649  0.158931 -0.315436  0.320129  0.038055   \n",
       "X5   0.091547  0.198650  0.258487 -0.211389  0.014804 -0.071483  0.150238   \n",
       "X6   0.063154  0.350538 -0.198067  0.215152  0.049169 -0.149956 -0.026166   \n",
       "X7   0.666020 -0.097870 -0.091825 -0.032296  0.060308  0.026755  0.070363   \n",
       "X8  -0.509264  0.116892 -0.133566 -0.121473  0.070811  0.159681  0.112998   \n",
       "X9   0.312952  0.295835  0.244679  0.053173  0.004282  0.064273  0.097809   \n",
       "X10 -0.010214 -0.162677  0.247266  0.072503  0.101577 -0.066306  0.124081   \n",
       "X11 -0.312383  0.190143  0.172663  0.079556 -0.193787 -0.121893 -0.032763   \n",
       "X12  0.054760  0.165642  0.220986 -0.023977  0.189352  0.013578  0.100867   \n",
       "X13  0.160391  0.539351  0.031016 -0.016049  0.147405  0.256751 -0.029869   \n",
       "X14 -0.021994 -0.092655  0.086049  0.197953  0.385774  0.274070  0.553571   \n",
       "X15 -0.115170 -0.125394  0.363764  0.520818  0.307350  0.387132 -0.401643   \n",
       "X16  0.012944  0.062746  0.452720  0.411846 -0.402968 -0.419990  0.173905   \n",
       "\n",
       "         PC15      PC16  \n",
       "X1  -0.047951  0.087434  \n",
       "X2   0.570553  0.222588  \n",
       "X3   0.222867 -0.110020  \n",
       "X4  -0.078189 -0.207570  \n",
       "X5  -0.187401 -0.257513  \n",
       "X6  -0.180243 -0.050469  \n",
       "X7  -0.062029 -0.188000  \n",
       "X8   0.087726  0.315214  \n",
       "X9  -0.148640  0.729365  \n",
       "X10 -0.118367  0.001695  \n",
       "X11  0.004635 -0.077813  \n",
       "X12 -0.086858  0.264822  \n",
       "X13  0.249319 -0.211311  \n",
       "X14  0.514630 -0.089196  \n",
       "X15 -0.308862 -0.130730  \n",
       "X16  0.266769 -0.078716  "
      ]
     },
     "execution_count": 326,
     "metadata": {},
     "output_type": "execute_result"
    }
   ],
   "source": [
    "pd.DataFrame(pca.components_,\n",
    "             columns=['PC1', 'PC2', 'PC3', 'PC4', 'PC5', 'PC6', 'PC7', 'PC8', 'PC9',\n",
    "                     'PC10', 'PC11', 'PC12', 'PC13', 'PC14', 'PC15', 'PC16'],\n",
    "             index=['X1', 'X2', 'X3', 'X4', 'X5', 'X6', 'X7', 'X8', 'X9','X10',\n",
    "                    'X11', 'X12', 'X13', 'X14', 'X15', 'X16'])"
   ]
  },
  {
   "cell_type": "markdown",
   "id": "0a8596b9",
   "metadata": {},
   "source": [
    "componentes principales?"
   ]
  },
  {
   "cell_type": "code",
   "execution_count": 327,
   "id": "6364e927",
   "metadata": {},
   "outputs": [],
   "source": [
    "# Creamos función para acumular la varianza\n",
    "def acumular(numbers):\n",
    "     sum = 0\n",
    "     var_c = []\n",
    "     for num in numbers:\n",
    "        sum += num\n",
    "        var_c.append(sum)\n",
    "     return var_c"
   ]
  },
  {
   "cell_type": "code",
   "execution_count": 328,
   "id": "704cefa9",
   "metadata": {},
   "outputs": [
    {
     "data": {
      "text/html": [
       "<div>\n",
       "<style scoped>\n",
       "    .dataframe tbody tr th:only-of-type {\n",
       "        vertical-align: middle;\n",
       "    }\n",
       "\n",
       "    .dataframe tbody tr th {\n",
       "        vertical-align: top;\n",
       "    }\n",
       "\n",
       "    .dataframe thead th {\n",
       "        text-align: right;\n",
       "    }\n",
       "</style>\n",
       "<table border=\"1\" class=\"dataframe\">\n",
       "  <thead>\n",
       "    <tr style=\"text-align: right;\">\n",
       "      <th></th>\n",
       "      <th>Eigenvalues</th>\n",
       "      <th>Proporción de variancia explicada</th>\n",
       "      <th>Proporción acumulado de variancia explicada</th>\n",
       "    </tr>\n",
       "  </thead>\n",
       "  <tbody>\n",
       "    <tr>\n",
       "      <th>0</th>\n",
       "      <td>1.736272</td>\n",
       "      <td>0.107851</td>\n",
       "      <td>0.107851</td>\n",
       "    </tr>\n",
       "    <tr>\n",
       "      <th>1</th>\n",
       "      <td>1.647325</td>\n",
       "      <td>0.102326</td>\n",
       "      <td>0.210177</td>\n",
       "    </tr>\n",
       "    <tr>\n",
       "      <th>2</th>\n",
       "      <td>1.536375</td>\n",
       "      <td>0.095434</td>\n",
       "      <td>0.305612</td>\n",
       "    </tr>\n",
       "    <tr>\n",
       "      <th>3</th>\n",
       "      <td>1.266016</td>\n",
       "      <td>0.078641</td>\n",
       "      <td>0.384252</td>\n",
       "    </tr>\n",
       "    <tr>\n",
       "      <th>4</th>\n",
       "      <td>1.252107</td>\n",
       "      <td>0.077777</td>\n",
       "      <td>0.462029</td>\n",
       "    </tr>\n",
       "    <tr>\n",
       "      <th>5</th>\n",
       "      <td>1.195375</td>\n",
       "      <td>0.074253</td>\n",
       "      <td>0.536282</td>\n",
       "    </tr>\n",
       "    <tr>\n",
       "      <th>6</th>\n",
       "      <td>1.038544</td>\n",
       "      <td>0.064511</td>\n",
       "      <td>0.600792</td>\n",
       "    </tr>\n",
       "    <tr>\n",
       "      <th>7</th>\n",
       "      <td>1.002932</td>\n",
       "      <td>0.062299</td>\n",
       "      <td>0.663091</td>\n",
       "    </tr>\n",
       "    <tr>\n",
       "      <th>8</th>\n",
       "      <td>0.969880</td>\n",
       "      <td>0.060246</td>\n",
       "      <td>0.723337</td>\n",
       "    </tr>\n",
       "    <tr>\n",
       "      <th>9</th>\n",
       "      <td>0.946158</td>\n",
       "      <td>0.058772</td>\n",
       "      <td>0.782109</td>\n",
       "    </tr>\n",
       "    <tr>\n",
       "      <th>10</th>\n",
       "      <td>0.772793</td>\n",
       "      <td>0.048003</td>\n",
       "      <td>0.830112</td>\n",
       "    </tr>\n",
       "    <tr>\n",
       "      <th>11</th>\n",
       "      <td>0.741415</td>\n",
       "      <td>0.046054</td>\n",
       "      <td>0.876166</td>\n",
       "    </tr>\n",
       "    <tr>\n",
       "      <th>12</th>\n",
       "      <td>0.645601</td>\n",
       "      <td>0.040103</td>\n",
       "      <td>0.916269</td>\n",
       "    </tr>\n",
       "    <tr>\n",
       "      <th>13</th>\n",
       "      <td>0.515798</td>\n",
       "      <td>0.032040</td>\n",
       "      <td>0.948308</td>\n",
       "    </tr>\n",
       "    <tr>\n",
       "      <th>14</th>\n",
       "      <td>0.458042</td>\n",
       "      <td>0.028452</td>\n",
       "      <td>0.976760</td>\n",
       "    </tr>\n",
       "    <tr>\n",
       "      <th>15</th>\n",
       "      <td>0.374132</td>\n",
       "      <td>0.023240</td>\n",
       "      <td>1.000000</td>\n",
       "    </tr>\n",
       "  </tbody>\n",
       "</table>\n",
       "</div>"
      ],
      "text/plain": [
       "    Eigenvalues  Proporción de variancia explicada  \\\n",
       "0      1.736272                           0.107851   \n",
       "1      1.647325                           0.102326   \n",
       "2      1.536375                           0.095434   \n",
       "3      1.266016                           0.078641   \n",
       "4      1.252107                           0.077777   \n",
       "5      1.195375                           0.074253   \n",
       "6      1.038544                           0.064511   \n",
       "7      1.002932                           0.062299   \n",
       "8      0.969880                           0.060246   \n",
       "9      0.946158                           0.058772   \n",
       "10     0.772793                           0.048003   \n",
       "11     0.741415                           0.046054   \n",
       "12     0.645601                           0.040103   \n",
       "13     0.515798                           0.032040   \n",
       "14     0.458042                           0.028452   \n",
       "15     0.374132                           0.023240   \n",
       "\n",
       "    Proporción acumulado de variancia explicada  \n",
       "0                                      0.107851  \n",
       "1                                      0.210177  \n",
       "2                                      0.305612  \n",
       "3                                      0.384252  \n",
       "4                                      0.462029  \n",
       "5                                      0.536282  \n",
       "6                                      0.600792  \n",
       "7                                      0.663091  \n",
       "8                                      0.723337  \n",
       "9                                      0.782109  \n",
       "10                                     0.830112  \n",
       "11                                     0.876166  \n",
       "12                                     0.916269  \n",
       "13                                     0.948308  \n",
       "14                                     0.976760  \n",
       "15                                     1.000000  "
      ]
     },
     "execution_count": 328,
     "metadata": {},
     "output_type": "execute_result"
    }
   ],
   "source": [
    "var_c = acumular(pca.explained_variance_ratio_)\n",
    "pca_rtd = pd.DataFrame({'Eigenvalues':pca.explained_variance_,\n",
    "                        'Proporción de variancia explicada':pca.explained_variance_ratio_,\n",
    "                        'Proporción acumulado de variancia explicada': var_c})\n",
    "pca_rtd"
   ]
  },
  {
   "cell_type": "code",
   "execution_count": 329,
   "id": "6fd7a32a",
   "metadata": {},
   "outputs": [
    {
     "data": {
      "image/png": "[encoded data removed]",
      "text/plain": [
       "<Figure size 640x480 with 1 Axes>"
      ]
     },
     "metadata": {},
     "output_type": "display_data"
    }
   ],
   "source": [
    "plt.bar(range(1,17), pca.explained_variance_ratio_,\n",
    "        alpha=0.5,\n",
    "        align='center')\n",
    "plt.step(range(1,17), np.cumsum(pca.explained_variance_ratio_),\n",
    "         where='mid',\n",
    "         color='red')\n",
    "plt.title('Varianza acumulada')\n",
    "plt.ylabel('Proporción de variancia explicada')\n",
    "plt.xlabel('Componente principales')\n",
    "plt.show()"
   ]
  },
  {
   "cell_type": "code",
   "execution_count": 330,
   "id": "534dd180",
   "metadata": {},
   "outputs": [],
   "source": [
    "pca_filtrado = pca_df[['PC1', 'PC2', 'PC3', 'PC4', 'PC5', 'PC6', 'PC7', 'PC8', 'PC9', 'tipoCultivo']]"
   ]
  },
  {
   "cell_type": "code",
   "execution_count": 331,
   "id": "25c4f654",
   "metadata": {},
   "outputs": [
    {
     "data": {
      "image/png": "[encoded data removed]",
      "text/plain": [
       "<Figure size 640x480 with 2 Axes>"
      ]
     },
     "metadata": {},
     "output_type": "display_data"
    }
   ],
   "source": [
    "#elegimos las 10 primeras variables que suman mas del 75%\n",
    "\n",
    "corr = pca_df[['PC1', 'PC2', 'PC3', 'PC4', 'PC5', 'PC6', 'PC7', 'PC8', 'PC9']].corr()\n",
    "ax = sns.heatmap(\n",
    "    corr,\n",
    "    vmin=-1, vmax=1, center=0,\n",
    "    cmap=sns.diverging_palette(20, 220, n=200),\n",
    "    square=True,\n",
    "    annot = True,\n",
    "    annot_kws = {'size': 6}\n",
    ")\n",
    "ax.set_xticklabels(\n",
    "    ax.get_xticklabels(),\n",
    "    rotation=45,\n",
    "    horizontalalignment='right'\n",
    ")\n",
    "plt.show()"
   ]
  },
  {
   "cell_type": "code",
   "execution_count": 332,
   "id": "b7d87291",
   "metadata": {},
   "outputs": [
    {
     "data": {
      "application/vnd.plotly.v1+json": {
       "config": {
        "plotlyServerURL": "https://plot.ly"
       },
       "data": [
        {
         "hovertemplate": "tipoCultivo=Trigo<br>0=%{x}<br>1=%{y}<extra></extra>",
         "legendgroup": "Trigo",
         "marker": {
          "color": "#d62728",
          "symbol": "circle"
         },
         "mode": "markers",
         "name": "Trigo",
         "orientation": "v",
         "showlegend": true,
         "type": "scatter",
         "x": {
          "bdata": "Ip5sh8vL8j868yccNJPGP0mlIz+hTPC/BiUxQnJX9D+7nOE6U3fxv6AdPtzLWZy/SbAFuoXfrL/tOuSMH0v6P0+3guJpLfQ/5FzprlYLw7+/48diSAHxP5X/asGTieq/SP06ObXw4T/VXPQy1dr1P1ZlU0NcLQPAgVA8nWTd+b+XYdaIt4fjv2rtNoBpfuI/ukB5D7U7/b+pWYhfTaIDwJuxYcMUgv4/jjep77q/AUACh429z1zLvxj0UvlRg/E/kbOadKX79L9YEi1NsD+pv+suFCu6OQDA",
          "dtype": "f8"
         },
         "xaxis": "x",
         "y": {
          "bdata": "I4XSi76W8D9UeC/HBPDFv2iX8Zy5k/a/SL/ISdgO/j+Q3FIhJ/X1PzN/AaZRO9G/LRAgcBoU9r+gimVpxuLxv2v7xY3fDu6/WEi7TjHzsj/0/rAyD0nrP02J53Anevs/7UixSQo0vb+xrcNZlln/P9dpr9abCrm/HFs3uem18r93YG+JDO3wv9I2Mj7sKs+/FTCB4wzV1T+qbc6GGmLyv/O4DOkmpdI/wIdnnpM4xr+rWOh+o3jhvzBIHChmI9s/TIG7rmLA0T9hd5kChPH1P648xfXt6dy/",
          "dtype": "f8"
         },
         "yaxis": "y"
        },
        {
         "hovertemplate": "tipoCultivo=Maiz<br>0=%{x}<br>1=%{y}<extra></extra>",
         "legendgroup": "Maiz",
         "marker": {
          "color": "#f7b6d2",
          "symbol": "circle"
         },
         "mode": "markers",
         "name": "Maiz",
         "orientation": "v",
         "showlegend": true,
         "type": "scatter",
         "x": {
          "bdata": "t1XO5kEc57+LUW+U2+vSP4BaIgD1dvQ/jIsA0uAi7r91QwO6ucnpvw6DAI8Em/W/vsPv0/ESA0DOaVPIxGrdv3soCLmqTvM/6NBXrC3g6r8f83/kzEzwP6slXrFWWANA9N9NNcve4L8eNp1H/XraP0+zxueaJs6/sBeDgV0O97+skH1NiLfiv6x+YzpQoAjAi6GbghSOxr+Bc5H3N4/ZP7LCz5sjpt6/eShaZxgz2b8fuOZAXogAwDSCr8cw0fm/ciHHJY0H3j9QgH5fpufXP38WF/OzD8Y/",
          "dtype": "f8"
         },
         "xaxis": "x",
         "y": {
          "bdata": "YdR3steHvb+uhjLLZvT4P5XIQK1rwPc/dc04kzaP/r95oqbo01zvv+SQzhkxOPW/gYtpNbHs9L9goTOeAW7+PxNLWQyY7/U/juQmXYd8/b8RZubvff7gvwOeWBOJfOy/aucMh3w59b8vl8KdiS7WP7UgX2ujrdU/Mcz05YBPwb+NBb2qAQz/P1BEf9KmbLc/CrFZwTkCAsD/EshqFmoBwC6QH6BM7wBAw6ZFHhk9578uo9E8X8/2P1lbhj+tOQLATwZfNh6X4L/CQYUOexWRv7OROWaVDLS/",
          "dtype": "f8"
         },
         "yaxis": "y"
        },
        {
         "hovertemplate": "tipoCultivo=Soja<br>0=%{x}<br>1=%{y}<extra></extra>",
         "legendgroup": "Soja",
         "marker": {
          "color": "#9edae5",
          "symbol": "circle"
         },
         "mode": "markers",
         "name": "Soja",
         "orientation": "v",
         "showlegend": true,
         "type": "scatter",
         "x": {
          "bdata": "VpY7+I2BAMADrONshG33v0lSzKLJzLi/IxDjWc9m8j+/PNtdXDPsP25tCmF7rb4/2eQSEOZXBEC954rVOyLkP+VDdAP2Ufg/sQkaRmw17L8FIpAnda4AwMSmEc625Lg/rcLtTmSiBUDMVGuIhyTZPzzUu0GuiwFAH3Wr9xIXBsD27ntX9ovpP3WT+Ts0QLy/YdeZSdmW8r+bQxyGXXfcv50hzhFYhADAwvlwKe851j9GuA9TG1Sov7uqPkBlcgVALW7rLBiFwz8C+ak8JS71v06vo4ROIOw//m4Q0sfh7D8fA5ZhmHABQG9zucqFbuI/BIljOP9p1b9rlEZK2qkBQNr17ERoYfG/Ch1eqnoB7D8=",
          "dtype": "f8"
         },
         "xaxis": "x",
         "y": {
          "bdata": "hkxCp/E96z/Su7ufK1n2P79lxhXks+k/flc5UbFIAkA4pFiMwBfiv0zIHx6ilL0/bPsTpDCUA8BA/QyrJYgAwGs1AkeDuNu/Pl1+xZgo+L+mjz1pMt0EQOpiJMgORwPAUqIOTR/B5r+3ZN3iyE7VP7Gl2TkC4Oi/w4d+ioVv6z/Nh5FT2lLsP+c2souMJ/S/DR09OaY5479uT1db1Triv+R2z6AztcA/pCugN0x/8T+Xel8RVKn9vzbEh/cLO9o/LV0OzTjv6r+12nTVmBLavxGKY+oejwHA8FhN1piw7z86JwYuqKD1PwPqXkeOu/m/V4JT+lwI078VOzlo1VT5P8Dojym35vA/fhH3FhQbzr8=",
          "dtype": "f8"
         },
         "yaxis": "y"
        }
       ],
       "layout": {
        "legend": {
         "title": {
          "text": "tipoCultivo"
         },
         "tracegroupgap": 0
        },
        "template": {
         "data": {
          "bar": [
           {
            "error_x": {
             "color": "#2a3f5f"
            },
            "error_y": {
             "color": "#2a3f5f"
            },
            "marker": {
             "line": {
              "color": "#E5ECF6",
              "width": 0.5
             },
             "pattern": {
              "fillmode": "overlay",
              "size": 10,
              "solidity": 0.2
             }
            },
            "type": "bar"
           }
          ],
          "barpolar": [
           {
            "marker": {
             "line": {
              "color": "#E5ECF6",
              "width": 0.5
             },
             "pattern": {
              "fillmode": "overlay",
              "size": 10,
              "solidity": 0.2
             }
            },
            "type": "barpolar"
           }
          ],
          "carpet": [
           {
            "aaxis": {
             "endlinecolor": "#2a3f5f",
             "gridcolor": "white",
             "linecolor": "white",
             "minorgridcolor": "white",
             "startlinecolor": "#2a3f5f"
            },
            "baxis": {
             "endlinecolor": "#2a3f5f",
             "gridcolor": "white",
             "linecolor": "white",
             "minorgridcolor": "white",
             "startlinecolor": "#2a3f5f"
            },
            "type": "carpet"
           }
          ],
          "choropleth": [
           {
            "colorbar": {
             "outlinewidth": 0,
             "ticks": ""
            },
            "type": "choropleth"
           }
          ],
          "contour": [
           {
            "colorbar": {
             "outlinewidth": 0,
             "ticks": ""
            },
            "colorscale": [
             [
              0,
              "#0d0887"
             ],
             [
              0.1111111111111111,
              "#46039f"
             ],
             [
              0.2222222222222222,
              "#7201a8"
             ],
             [
              0.3333333333333333,
              "#9c179e"
             ],
             [
              0.4444444444444444,
              "#bd3786"
             ],
             [
              0.5555555555555556,
              "#d8576b"
             ],
             [
              0.6666666666666666,
              "#ed7953"
             ],
             [
              0.7777777777777778,
              "#fb9f3a"
             ],
             [
              0.8888888888888888,
              "#fdca26"
             ],
             [
              1,
              "#f0f921"
             ]
            ],
            "type": "contour"
           }
          ],
          "contourcarpet": [
           {
            "colorbar": {
             "outlinewidth": 0,
             "ticks": ""
            },
            "type": "contourcarpet"
           }
          ],
          "heatmap": [
           {
            "colorbar": {
             "outlinewidth": 0,
             "ticks": ""
            },
            "colorscale": [
             [
              0,
              "#0d0887"
             ],
             [
              0.1111111111111111,
              "#46039f"
             ],
             [
              0.2222222222222222,
              "#7201a8"
             ],
             [
              0.3333333333333333,
              "#9c179e"
             ],
             [
              0.4444444444444444,
              "#bd3786"
             ],
             [
              0.5555555555555556,
              "#d8576b"
             ],
             [
              0.6666666666666666,
              "#ed7953"
             ],
             [
              0.7777777777777778,
              "#fb9f3a"
             ],
             [
              0.8888888888888888,
              "#fdca26"
             ],
             [
              1,
              "#f0f921"
             ]
            ],
            "type": "heatmap"
           }
          ],
          "histogram": [
           {
            "marker": {
             "pattern": {
              "fillmode": "overlay",
              "size": 10,
              "solidity": 0.2
             }
            },
            "type": "histogram"
           }
          ],
          "histogram2d": [
           {
            "colorbar": {
             "outlinewidth": 0,
             "ticks": ""
            },
            "colorscale": [
             [
              0,
              "#0d0887"
             ],
             [
              0.1111111111111111,
              "#46039f"
             ],
             [
              0.2222222222222222,
              "#7201a8"
             ],
             [
              0.3333333333333333,
              "#9c179e"
             ],
             [
              0.4444444444444444,
              "#bd3786"
             ],
             [
              0.5555555555555556,
              "#d8576b"
             ],
             [
              0.6666666666666666,
              "#ed7953"
             ],
             [
              0.7777777777777778,
              "#fb9f3a"
             ],
             [
              0.8888888888888888,
              "#fdca26"
             ],
             [
              1,
              "#f0f921"
             ]
            ],
            "type": "histogram2d"
           }
          ],
          "histogram2dcontour": [
           {
            "colorbar": {
             "outlinewidth": 0,
             "ticks": ""
            },
            "colorscale": [
             [
              0,
              "#0d0887"
             ],
             [
              0.1111111111111111,
              "#46039f"
             ],
             [
              0.2222222222222222,
              "#7201a8"
             ],
             [
              0.3333333333333333,
              "#9c179e"
             ],
             [
              0.4444444444444444,
              "#bd3786"
             ],
             [
              0.5555555555555556,
              "#d8576b"
             ],
             [
              0.6666666666666666,
              "#ed7953"
             ],
             [
              0.7777777777777778,
              "#fb9f3a"
             ],
             [
              0.8888888888888888,
              "#fdca26"
             ],
             [
              1,
              "#f0f921"
             ]
            ],
            "type": "histogram2dcontour"
           }
          ],
          "mesh3d": [
           {
            "colorbar": {
             "outlinewidth": 0,
             "ticks": ""
            },
            "type": "mesh3d"
           }
          ],
          "parcoords": [
           {
            "line": {
             "colorbar": {
              "outlinewidth": 0,
              "ticks": ""
             }
            },
            "type": "parcoords"
           }
          ],
          "pie": [
           {
            "automargin": true,
            "type": "pie"
           }
          ],
          "scatter": [
           {
            "fillpattern": {
             "fillmode": "overlay",
             "size": 10,
             "solidity": 0.2
            },
            "type": "scatter"
           }
          ],
          "scatter3d": [
           {
            "line": {
             "colorbar": {
              "outlinewidth": 0,
              "ticks": ""
             }
            },
            "marker": {
             "colorbar": {
              "outlinewidth": 0,
              "ticks": ""
             }
            },
            "type": "scatter3d"
           }
          ],
          "scattercarpet": [
           {
            "marker": {
             "colorbar": {
              "outlinewidth": 0,
              "ticks": ""
             }
            },
            "type": "scattercarpet"
           }
          ],
          "scattergeo": [
           {
            "marker": {
             "colorbar": {
              "outlinewidth": 0,
              "ticks": ""
             }
            },
            "type": "scattergeo"
           }
          ],
          "scattergl": [
           {
            "marker": {
             "colorbar": {
              "outlinewidth": 0,
              "ticks": ""
             }
            },
            "type": "scattergl"
           }
          ],
          "scattermap": [
           {
            "marker": {
             "colorbar": {
              "outlinewidth": 0,
              "ticks": ""
             }
            },
            "type": "scattermap"
           }
          ],
          "scattermapbox": [
           {
            "marker": {
             "colorbar": {
              "outlinewidth": 0,
              "ticks": ""
             }
            },
            "type": "scattermapbox"
           }
          ],
          "scatterpolar": [
           {
            "marker": {
             "colorbar": {
              "outlinewidth": 0,
              "ticks": ""
             }
            },
            "type": "scatterpolar"
           }
          ],
          "scatterpolargl": [
           {
            "marker": {
             "colorbar": {
              "outlinewidth": 0,
              "ticks": ""
             }
            },
            "type": "scatterpolargl"
           }
          ],
          "scatterternary": [
           {
            "marker": {
             "colorbar": {
              "outlinewidth": 0,
              "ticks": ""
             }
            },
            "type": "scatterternary"
           }
          ],
          "surface": [
           {
            "colorbar": {
             "outlinewidth": 0,
             "ticks": ""
            },
            "colorscale": [
             [
              0,
              "#0d0887"
             ],
             [
              0.1111111111111111,
              "#46039f"
             ],
             [
              0.2222222222222222,
              "#7201a8"
             ],
             [
              0.3333333333333333,
              "#9c179e"
             ],
             [
              0.4444444444444444,
              "#bd3786"
             ],
             [
              0.5555555555555556,
              "#d8576b"
             ],
             [
              0.6666666666666666,
              "#ed7953"
             ],
             [
              0.7777777777777778,
              "#fb9f3a"
             ],
             [
              0.8888888888888888,
              "#fdca26"
             ],
             [
              1,
              "#f0f921"
             ]
            ],
            "type": "surface"
           }
          ],
          "table": [
           {
            "cells": {
             "fill": {
              "color": "#EBF0F8"
             },
             "line": {
              "color": "white"
             }
            },
            "header": {
             "fill": {
              "color": "#C8D4E3"
             },
             "line": {
              "color": "white"
             }
            },
            "type": "table"
           }
          ]
         },
         "layout": {
          "annotationdefaults": {
           "arrowcolor": "#2a3f5f",
           "arrowhead": 0,
           "arrowwidth": 1
          },
          "autotypenumbers": "strict",
          "coloraxis": {
           "colorbar": {
            "outlinewidth": 0,
            "ticks": ""
           }
          },
          "colorscale": {
           "diverging": [
            [
             0,
             "#8e0152"
            ],
            [
             0.1,
             "#c51b7d"
            ],
            [
             0.2,
             "#de77ae"
            ],
            [
             0.3,
             "#f1b6da"
            ],
            [
             0.4,
             "#fde0ef"
            ],
            [
             0.5,
             "#f7f7f7"
            ],
            [
             0.6,
             "#e6f5d0"
            ],
            [
             0.7,
             "#b8e186"
            ],
            [
             0.8,
             "#7fbc41"
            ],
            [
             0.9,
             "#4d9221"
            ],
            [
             1,
             "#276419"
            ]
           ],
           "sequential": [
            [
             0,
             "#0d0887"
            ],
            [
             0.1111111111111111,
             "#46039f"
            ],
            [
             0.2222222222222222,
             "#7201a8"
            ],
            [
             0.3333333333333333,
             "#9c179e"
            ],
            [
             0.4444444444444444,
             "#bd3786"
            ],
            [
             0.5555555555555556,
             "#d8576b"
            ],
            [
             0.6666666666666666,
             "#ed7953"
            ],
            [
             0.7777777777777778,
             "#fb9f3a"
            ],
            [
             0.8888888888888888,
             "#fdca26"
            ],
            [
             1,
             "#f0f921"
            ]
           ],
           "sequentialminus": [
            [
             0,
             "#0d0887"
            ],
            [
             0.1111111111111111,
             "#46039f"
            ],
            [
             0.2222222222222222,
             "#7201a8"
            ],
            [
             0.3333333333333333,
             "#9c179e"
            ],
            [
             0.4444444444444444,
             "#bd3786"
            ],
            [
             0.5555555555555556,
             "#d8576b"
            ],
            [
             0.6666666666666666,
             "#ed7953"
            ],
            [
             0.7777777777777778,
             "#fb9f3a"
            ],
            [
             0.8888888888888888,
             "#fdca26"
            ],
            [
             1,
             "#f0f921"
            ]
           ]
          },
          "colorway": [
           "#636efa",
           "#EF553B",
           "#00cc96",
           "#ab63fa",
           "#FFA15A",
           "#19d3f3",
           "#FF6692",
           "#B6E880",
           "#FF97FF",
           "#FECB52"
          ],
          "font": {
           "color": "#2a3f5f"
          },
          "geo": {
           "bgcolor": "white",
           "lakecolor": "white",
           "landcolor": "#E5ECF6",
           "showlakes": true,
           "showland": true,
           "subunitcolor": "white"
          },
          "hoverlabel": {
           "align": "left"
          },
          "hovermode": "closest",
          "mapbox": {
           "style": "light"
          },
          "paper_bgcolor": "white",
          "plot_bgcolor": "#E5ECF6",
          "polar": {
           "angularaxis": {
            "gridcolor": "white",
            "linecolor": "white",
            "ticks": ""
           },
           "bgcolor": "#E5ECF6",
           "radialaxis": {
            "gridcolor": "white",
            "linecolor": "white",
            "ticks": ""
           }
          },
          "scene": {
           "xaxis": {
            "backgroundcolor": "#E5ECF6",
            "gridcolor": "white",
            "gridwidth": 2,
            "linecolor": "white",
            "showbackground": true,
            "ticks": "",
            "zerolinecolor": "white"
           },
           "yaxis": {
            "backgroundcolor": "#E5ECF6",
            "gridcolor": "white",
            "gridwidth": 2,
            "linecolor": "white",
            "showbackground": true,
            "ticks": "",
            "zerolinecolor": "white"
           },
           "zaxis": {
            "backgroundcolor": "#E5ECF6",
            "gridcolor": "white",
            "gridwidth": 2,
            "linecolor": "white",
            "showbackground": true,
            "ticks": "",
            "zerolinecolor": "white"
           }
          },
          "shapedefaults": {
           "line": {
            "color": "#2a3f5f"
           }
          },
          "ternary": {
           "aaxis": {
            "gridcolor": "white",
            "linecolor": "white",
            "ticks": ""
           },
           "baxis": {
            "gridcolor": "white",
            "linecolor": "white",
            "ticks": ""
           },
           "bgcolor": "#E5ECF6",
           "caxis": {
            "gridcolor": "white",
            "linecolor": "white",
            "ticks": ""
           }
          },
          "title": {
           "x": 0.05
          },
          "xaxis": {
           "automargin": true,
           "gridcolor": "white",
           "linecolor": "white",
           "ticks": "",
           "title": {
            "standoff": 15
           },
           "zerolinecolor": "white",
           "zerolinewidth": 2
          },
          "yaxis": {
           "automargin": true,
           "gridcolor": "white",
           "linecolor": "white",
           "ticks": "",
           "title": {
            "standoff": 15
           },
           "zerolinecolor": "white",
           "zerolinewidth": 2
          }
         }
        },
        "title": {
         "text": "Distribución de las tipoCultivoes en 2 dimensiones"
        },
        "xaxis": {
         "anchor": "y",
         "domain": [
          0,
          1
         ],
         "title": {
          "text": "0"
         }
        },
        "yaxis": {
         "anchor": "x",
         "domain": [
          0,
          1
         ],
         "title": {
          "text": "1"
         }
        }
       }
      }
     },
     "metadata": {},
     "output_type": "display_data"
    }
   ],
   "source": [
    "features = pca_filtrado.drop(columns=['tipoCultivo']).columns.to_list()\n",
    "\n",
    "unique_tipoCultivo = pca_filtrado['tipoCultivo'].unique()\n",
    "num_colors = len(unique_tipoCultivo)\n",
    "color_palette = plt.get_cmap('tab20', num_colors)\n",
    "\n",
    "tipoCultivo_color_map = {cultivo: mcolors.to_hex(color_palette(i)) for i,\n",
    "                       cultivo in enumerate(unique_tipoCultivo)}\n",
    "\n",
    "loadings = pca.components_.T * np.sqrt(pca.explained_variance_)\n",
    "fig = px.scatter(pca_features, x=0, y=1, color = pca_filtrado[\"tipoCultivo\"],\n",
    "                 labels={'color': 'tipoCultivo'},\n",
    "                 color_discrete_map=tipoCultivo_color_map,\n",
    "                 title=\"Distribución de las tipoCultivoes en 2 dimensiones\")\n",
    "\n",
    "fig.show()"
   ]
  },
  {
   "cell_type": "code",
   "execution_count": 333,
   "id": "26c4a3b3",
   "metadata": {},
   "outputs": [
    {
     "data": {
      "application/vnd.plotly.v1+json": {
       "config": {
        "plotlyServerURL": "https://plot.ly"
       },
       "data": [
        {
         "hovertemplate": "tipoCultivo=Trigo<br>0=%{x}<br>1=%{y}<br>2=%{z}<extra></extra>",
         "legendgroup": "Trigo",
         "marker": {
          "color": "#d62728",
          "symbol": "circle"
         },
         "mode": "markers",
         "name": "Trigo",
         "scene": "scene",
         "showlegend": true,
         "type": "scatter3d",
         "x": {
          "bdata": "Ip5sh8vL8j868yccNJPGP0mlIz+hTPC/BiUxQnJX9D+7nOE6U3fxv6AdPtzLWZy/SbAFuoXfrL/tOuSMH0v6P0+3guJpLfQ/5FzprlYLw7+/48diSAHxP5X/asGTieq/SP06ObXw4T/VXPQy1dr1P1ZlU0NcLQPAgVA8nWTd+b+XYdaIt4fjv2rtNoBpfuI/ukB5D7U7/b+pWYhfTaIDwJuxYcMUgv4/jjep77q/AUACh429z1zLvxj0UvlRg/E/kbOadKX79L9YEi1NsD+pv+suFCu6OQDA",
          "dtype": "f8"
         },
         "y": {
          "bdata": "I4XSi76W8D9UeC/HBPDFv2iX8Zy5k/a/SL/ISdgO/j+Q3FIhJ/X1PzN/AaZRO9G/LRAgcBoU9r+gimVpxuLxv2v7xY3fDu6/WEi7TjHzsj/0/rAyD0nrP02J53Anevs/7UixSQo0vb+xrcNZlln/P9dpr9abCrm/HFs3uem18r93YG+JDO3wv9I2Mj7sKs+/FTCB4wzV1T+qbc6GGmLyv/O4DOkmpdI/wIdnnpM4xr+rWOh+o3jhvzBIHChmI9s/TIG7rmLA0T9hd5kChPH1P648xfXt6dy/",
          "dtype": "f8"
         },
         "z": {
          "bdata": "CyOwAfUT9L8JX9sRehDhv/LSZONRu/C/mxp+PvN5yD+Sx3wzA25oP4/Ns9kvGfM//MLGWMKzk7/dOElNJWXNP3fIB2Guhuk/7wwHC3fi8z93DIPXTJ7Rvza/ieOnfbO/vsv9duoVAMBi5sFOEIDSP3f4MRpk3MM/N4qRsBF8wr+k1Qj2nOwAQJr7AtBT3/q/6nioGv966L9o8zlhzJf4vz0m0yt/CPA/SCdqelVOuj8Sg9m7qWrsv8v76hjjFuq/Nkt2BwCg5L+RiIWvsl7yvwTTmJBeqcC/",
          "dtype": "f8"
         }
        },
        {
         "hovertemplate": "tipoCultivo=Maiz<br>0=%{x}<br>1=%{y}<br>2=%{z}<extra></extra>",
         "legendgroup": "Maiz",
         "marker": {
          "color": "#f7b6d2",
          "symbol": "circle"
         },
         "mode": "markers",
         "name": "Maiz",
         "scene": "scene",
         "showlegend": true,
         "type": "scatter3d",
         "x": {
          "bdata": "t1XO5kEc57+LUW+U2+vSP4BaIgD1dvQ/jIsA0uAi7r91QwO6ucnpvw6DAI8Em/W/vsPv0/ESA0DOaVPIxGrdv3soCLmqTvM/6NBXrC3g6r8f83/kzEzwP6slXrFWWANA9N9NNcve4L8eNp1H/XraP0+zxueaJs6/sBeDgV0O97+skH1NiLfiv6x+YzpQoAjAi6GbghSOxr+Bc5H3N4/ZP7LCz5sjpt6/eShaZxgz2b8fuOZAXogAwDSCr8cw0fm/ciHHJY0H3j9QgH5fpufXP38WF/OzD8Y/",
          "dtype": "f8"
         },
         "y": {
          "bdata": "YdR3steHvb+uhjLLZvT4P5XIQK1rwPc/dc04kzaP/r95oqbo01zvv+SQzhkxOPW/gYtpNbHs9L9goTOeAW7+PxNLWQyY7/U/juQmXYd8/b8RZubvff7gvwOeWBOJfOy/aucMh3w59b8vl8KdiS7WP7UgX2ujrdU/Mcz05YBPwb+NBb2qAQz/P1BEf9KmbLc/CrFZwTkCAsD/EshqFmoBwC6QH6BM7wBAw6ZFHhk9578uo9E8X8/2P1lbhj+tOQLATwZfNh6X4L/CQYUOexWRv7OROWaVDLS/",
          "dtype": "f8"
         },
         "z": {
          "bdata": "DF1jpACjAkCbhFF/AJ0FwBt9F9clm+O/oIuEGZSPnL/1/pOCXeEBwMwCrWk4s/q/qE4Nhl2w8T8MCcPJ0MSsv2/it1Tfiua/OaZIIW4e57+wvQm7ZzMCwPXtCAuele2/Fak+2qff7j/C7XI8qq/xvzLCo3gBNuo/36uZ1rwH9T91N3w5TD3Rv8iDXylgqtY/ZXs/gDOQ9D/cggijZoD3P1Saxi9RyNU/phoox/1a/T/UQknvVKe9P9uZh99BpOa/lp0fLRT0AcCAnM2MQ1LYP14zEA/wvwLA",
          "dtype": "f8"
         }
        },
        {
         "hovertemplate": "tipoCultivo=Soja<br>0=%{x}<br>1=%{y}<br>2=%{z}<extra></extra>",
         "legendgroup": "Soja",
         "marker": {
          "color": "#9edae5",
          "symbol": "circle"
         },
         "mode": "markers",
         "name": "Soja",
         "scene": "scene",
         "showlegend": true,
         "type": "scatter3d",
         "x": {
          "bdata": "VpY7+I2BAMADrONshG33v0lSzKLJzLi/IxDjWc9m8j+/PNtdXDPsP25tCmF7rb4/2eQSEOZXBEC954rVOyLkP+VDdAP2Ufg/sQkaRmw17L8FIpAnda4AwMSmEc625Lg/rcLtTmSiBUDMVGuIhyTZPzzUu0GuiwFAH3Wr9xIXBsD27ntX9ovpP3WT+Ts0QLy/YdeZSdmW8r+bQxyGXXfcv50hzhFYhADAwvlwKe851j9GuA9TG1Sov7uqPkBlcgVALW7rLBiFwz8C+ak8JS71v06vo4ROIOw//m4Q0sfh7D8fA5ZhmHABQG9zucqFbuI/BIljOP9p1b9rlEZK2qkBQNr17ERoYfG/Ch1eqnoB7D8=",
          "dtype": "f8"
         },
         "y": {
          "bdata": "hkxCp/E96z/Su7ufK1n2P79lxhXks+k/flc5UbFIAkA4pFiMwBfiv0zIHx6ilL0/bPsTpDCUA8BA/QyrJYgAwGs1AkeDuNu/Pl1+xZgo+L+mjz1pMt0EQOpiJMgORwPAUqIOTR/B5r+3ZN3iyE7VP7Gl2TkC4Oi/w4d+ioVv6z/Nh5FT2lLsP+c2souMJ/S/DR09OaY5479uT1db1Triv+R2z6AztcA/pCugN0x/8T+Xel8RVKn9vzbEh/cLO9o/LV0OzTjv6r+12nTVmBLavxGKY+oejwHA8FhN1piw7z86JwYuqKD1PwPqXkeOu/m/V4JT+lwI078VOzlo1VT5P8Dojym35vA/fhH3FhQbzr8=",
          "dtype": "f8"
         },
         "z": {
          "bdata": "1ZF/XM2W4j9lS2KU1snEP8Goed9LZ+m/tbs/v3EW6r9gAqyhqtf7v8WJOtBqkPM/pksJkQYB3L8/3b1Qb//Yv/JQv6XRh/U/lm1jutAZ3r/nUXkuAzHGv1V5Ca29K+6/PF94GZwq8b9nkSDA/BH/PxKP74OT396/TsNvW5cv2z/VOrFviU/yP4FZAD51ku8/xvbeoBPT8j/7Ce9BzorWPyxgYBTcUOi/ZmPGlfWOBUDwxK1WZ5zQv2cEIJGaNOi/mDfHMScx4L8dP3bItrPxv9njpRsND98/dodhhJMM8D892iQmKOvzPxUQ7o8GAuU/3bex0qXLA8DLL1ivrZHQv+WFEIu/S/E/JVCuzNeVAcA=",
          "dtype": "f8"
         }
        }
       ],
       "layout": {
        "legend": {
         "title": {
          "text": "tipoCultivo"
         },
         "tracegroupgap": 0
        },
        "scene": {
         "domain": {
          "x": [
           0,
           1
          ],
          "y": [
           0,
           1
          ]
         },
         "xaxis": {
          "title": {
           "text": "0"
          }
         },
         "yaxis": {
          "title": {
           "text": "1"
          }
         },
         "zaxis": {
          "title": {
           "text": "2"
          }
         }
        },
        "template": {
         "data": {
          "bar": [
           {
            "error_x": {
             "color": "#2a3f5f"
            },
            "error_y": {
             "color": "#2a3f5f"
            },
            "marker": {
             "line": {
              "color": "#E5ECF6",
              "width": 0.5
             },
             "pattern": {
              "fillmode": "overlay",
              "size": 10,
              "solidity": 0.2
             }
            },
            "type": "bar"
           }
          ],
          "barpolar": [
           {
            "marker": {
             "line": {
              "color": "#E5ECF6",
              "width": 0.5
             },
             "pattern": {
              "fillmode": "overlay",
              "size": 10,
              "solidity": 0.2
             }
            },
            "type": "barpolar"
           }
          ],
          "carpet": [
           {
            "aaxis": {
             "endlinecolor": "#2a3f5f",
             "gridcolor": "white",
             "linecolor": "white",
             "minorgridcolor": "white",
             "startlinecolor": "#2a3f5f"
            },
            "baxis": {
             "endlinecolor": "#2a3f5f",
             "gridcolor": "white",
             "linecolor": "white",
             "minorgridcolor": "white",
             "startlinecolor": "#2a3f5f"
            },
            "type": "carpet"
           }
          ],
          "choropleth": [
           {
            "colorbar": {
             "outlinewidth": 0,
             "ticks": ""
            },
            "type": "choropleth"
           }
          ],
          "contour": [
           {
            "colorbar": {
             "outlinewidth": 0,
             "ticks": ""
            },
            "colorscale": [
             [
              0,
              "#0d0887"
             ],
             [
              0.1111111111111111,
              "#46039f"
             ],
             [
              0.2222222222222222,
              "#7201a8"
             ],
             [
              0.3333333333333333,
              "#9c179e"
             ],
             [
              0.4444444444444444,
              "#bd3786"
             ],
             [
              0.5555555555555556,
              "#d8576b"
             ],
             [
              0.6666666666666666,
              "#ed7953"
             ],
             [
              0.7777777777777778,
              "#fb9f3a"
             ],
             [
              0.8888888888888888,
              "#fdca26"
             ],
             [
              1,
              "#f0f921"
             ]
            ],
            "type": "contour"
           }
          ],
          "contourcarpet": [
           {
            "colorbar": {
             "outlinewidth": 0,
             "ticks": ""
            },
            "type": "contourcarpet"
           }
          ],
          "heatmap": [
           {
            "colorbar": {
             "outlinewidth": 0,
             "ticks": ""
            },
            "colorscale": [
             [
              0,
              "#0d0887"
             ],
             [
              0.1111111111111111,
              "#46039f"
             ],
             [
              0.2222222222222222,
              "#7201a8"
             ],
             [
              0.3333333333333333,
              "#9c179e"
             ],
             [
              0.4444444444444444,
              "#bd3786"
             ],
             [
              0.5555555555555556,
              "#d8576b"
             ],
             [
              0.6666666666666666,
              "#ed7953"
             ],
             [
              0.7777777777777778,
              "#fb9f3a"
             ],
             [
              0.8888888888888888,
              "#fdca26"
             ],
             [
              1,
              "#f0f921"
             ]
            ],
            "type": "heatmap"
           }
          ],
          "histogram": [
           {
            "marker": {
             "pattern": {
              "fillmode": "overlay",
              "size": 10,
              "solidity": 0.2
             }
            },
            "type": "histogram"
           }
          ],
          "histogram2d": [
           {
            "colorbar": {
             "outlinewidth": 0,
             "ticks": ""
            },
            "colorscale": [
             [
              0,
              "#0d0887"
             ],
             [
              0.1111111111111111,
              "#46039f"
             ],
             [
              0.2222222222222222,
              "#7201a8"
             ],
             [
              0.3333333333333333,
              "#9c179e"
             ],
             [
              0.4444444444444444,
              "#bd3786"
             ],
             [
              0.5555555555555556,
              "#d8576b"
             ],
             [
              0.6666666666666666,
              "#ed7953"
             ],
             [
              0.7777777777777778,
              "#fb9f3a"
             ],
             [
              0.8888888888888888,
              "#fdca26"
             ],
             [
              1,
              "#f0f921"
             ]
            ],
            "type": "histogram2d"
           }
          ],
          "histogram2dcontour": [
           {
            "colorbar": {
             "outlinewidth": 0,
             "ticks": ""
            },
            "colorscale": [
             [
              0,
              "#0d0887"
             ],
             [
              0.1111111111111111,
              "#46039f"
             ],
             [
              0.2222222222222222,
              "#7201a8"
             ],
             [
              0.3333333333333333,
              "#9c179e"
             ],
             [
              0.4444444444444444,
              "#bd3786"
             ],
             [
              0.5555555555555556,
              "#d8576b"
             ],
             [
              0.6666666666666666,
              "#ed7953"
             ],
             [
              0.7777777777777778,
              "#fb9f3a"
             ],
             [
              0.8888888888888888,
              "#fdca26"
             ],
             [
              1,
              "#f0f921"
             ]
            ],
            "type": "histogram2dcontour"
           }
          ],
          "mesh3d": [
           {
            "colorbar": {
             "outlinewidth": 0,
             "ticks": ""
            },
            "type": "mesh3d"
           }
          ],
          "parcoords": [
           {
            "line": {
             "colorbar": {
              "outlinewidth": 0,
              "ticks": ""
             }
            },
            "type": "parcoords"
           }
          ],
          "pie": [
           {
            "automargin": true,
            "type": "pie"
           }
          ],
          "scatter": [
           {
            "fillpattern": {
             "fillmode": "overlay",
             "size": 10,
             "solidity": 0.2
            },
            "type": "scatter"
           }
          ],
          "scatter3d": [
           {
            "line": {
             "colorbar": {
              "outlinewidth": 0,
              "ticks": ""
             }
            },
            "marker": {
             "colorbar": {
              "outlinewidth": 0,
              "ticks": ""
             }
            },
            "type": "scatter3d"
           }
          ],
          "scattercarpet": [
           {
            "marker": {
             "colorbar": {
              "outlinewidth": 0,
              "ticks": ""
             }
            },
            "type": "scattercarpet"
           }
          ],
          "scattergeo": [
           {
            "marker": {
             "colorbar": {
              "outlinewidth": 0,
              "ticks": ""
             }
            },
            "type": "scattergeo"
           }
          ],
          "scattergl": [
           {
            "marker": {
             "colorbar": {
              "outlinewidth": 0,
              "ticks": ""
             }
            },
            "type": "scattergl"
           }
          ],
          "scattermap": [
           {
            "marker": {
             "colorbar": {
              "outlinewidth": 0,
              "ticks": ""
             }
            },
            "type": "scattermap"
           }
          ],
          "scattermapbox": [
           {
            "marker": {
             "colorbar": {
              "outlinewidth": 0,
              "ticks": ""
             }
            },
            "type": "scattermapbox"
           }
          ],
          "scatterpolar": [
           {
            "marker": {
             "colorbar": {
              "outlinewidth": 0,
              "ticks": ""
             }
            },
            "type": "scatterpolar"
           }
          ],
          "scatterpolargl": [
           {
            "marker": {
             "colorbar": {
              "outlinewidth": 0,
              "ticks": ""
             }
            },
            "type": "scatterpolargl"
           }
          ],
          "scatterternary": [
           {
            "marker": {
             "colorbar": {
              "outlinewidth": 0,
              "ticks": ""
             }
            },
            "type": "scatterternary"
           }
          ],
          "surface": [
           {
            "colorbar": {
             "outlinewidth": 0,
             "ticks": ""
            },
            "colorscale": [
             [
              0,
              "#0d0887"
             ],
             [
              0.1111111111111111,
              "#46039f"
             ],
             [
              0.2222222222222222,
              "#7201a8"
             ],
             [
              0.3333333333333333,
              "#9c179e"
             ],
             [
              0.4444444444444444,
              "#bd3786"
             ],
             [
              0.5555555555555556,
              "#d8576b"
             ],
             [
              0.6666666666666666,
              "#ed7953"
             ],
             [
              0.7777777777777778,
              "#fb9f3a"
             ],
             [
              0.8888888888888888,
              "#fdca26"
             ],
             [
              1,
              "#f0f921"
             ]
            ],
            "type": "surface"
           }
          ],
          "table": [
           {
            "cells": {
             "fill": {
              "color": "#EBF0F8"
             },
             "line": {
              "color": "white"
             }
            },
            "header": {
             "fill": {
              "color": "#C8D4E3"
             },
             "line": {
              "color": "white"
             }
            },
            "type": "table"
           }
          ]
         },
         "layout": {
          "annotationdefaults": {
           "arrowcolor": "#2a3f5f",
           "arrowhead": 0,
           "arrowwidth": 1
          },
          "autotypenumbers": "strict",
          "coloraxis": {
           "colorbar": {
            "outlinewidth": 0,
            "ticks": ""
           }
          },
          "colorscale": {
           "diverging": [
            [
             0,
             "#8e0152"
            ],
            [
             0.1,
             "#c51b7d"
            ],
            [
             0.2,
             "#de77ae"
            ],
            [
             0.3,
             "#f1b6da"
            ],
            [
             0.4,
             "#fde0ef"
            ],
            [
             0.5,
             "#f7f7f7"
            ],
            [
             0.6,
             "#e6f5d0"
            ],
            [
             0.7,
             "#b8e186"
            ],
            [
             0.8,
             "#7fbc41"
            ],
            [
             0.9,
             "#4d9221"
            ],
            [
             1,
             "#276419"
            ]
           ],
           "sequential": [
            [
             0,
             "#0d0887"
            ],
            [
             0.1111111111111111,
             "#46039f"
            ],
            [
             0.2222222222222222,
             "#7201a8"
            ],
            [
             0.3333333333333333,
             "#9c179e"
            ],
            [
             0.4444444444444444,
             "#bd3786"
            ],
            [
             0.5555555555555556,
             "#d8576b"
            ],
            [
             0.6666666666666666,
             "#ed7953"
            ],
            [
             0.7777777777777778,
             "#fb9f3a"
            ],
            [
             0.8888888888888888,
             "#fdca26"
            ],
            [
             1,
             "#f0f921"
            ]
           ],
           "sequentialminus": [
            [
             0,
             "#0d0887"
            ],
            [
             0.1111111111111111,
             "#46039f"
            ],
            [
             0.2222222222222222,
             "#7201a8"
            ],
            [
             0.3333333333333333,
             "#9c179e"
            ],
            [
             0.4444444444444444,
             "#bd3786"
            ],
            [
             0.5555555555555556,
             "#d8576b"
            ],
            [
             0.6666666666666666,
             "#ed7953"
            ],
            [
             0.7777777777777778,
             "#fb9f3a"
            ],
            [
             0.8888888888888888,
             "#fdca26"
            ],
            [
             1,
             "#f0f921"
            ]
           ]
          },
          "colorway": [
           "#636efa",
           "#EF553B",
           "#00cc96",
           "#ab63fa",
           "#FFA15A",
           "#19d3f3",
           "#FF6692",
           "#B6E880",
           "#FF97FF",
           "#FECB52"
          ],
          "font": {
           "color": "#2a3f5f"
          },
          "geo": {
           "bgcolor": "white",
           "lakecolor": "white",
           "landcolor": "#E5ECF6",
           "showlakes": true,
           "showland": true,
           "subunitcolor": "white"
          },
          "hoverlabel": {
           "align": "left"
          },
          "hovermode": "closest",
          "mapbox": {
           "style": "light"
          },
          "paper_bgcolor": "white",
          "plot_bgcolor": "#E5ECF6",
          "polar": {
           "angularaxis": {
            "gridcolor": "white",
            "linecolor": "white",
            "ticks": ""
           },
           "bgcolor": "#E5ECF6",
           "radialaxis": {
            "gridcolor": "white",
            "linecolor": "white",
            "ticks": ""
           }
          },
          "scene": {
           "xaxis": {
            "backgroundcolor": "#E5ECF6",
            "gridcolor": "white",
            "gridwidth": 2,
            "linecolor": "white",
            "showbackground": true,
            "ticks": "",
            "zerolinecolor": "white"
           },
           "yaxis": {
            "backgroundcolor": "#E5ECF6",
            "gridcolor": "white",
            "gridwidth": 2,
            "linecolor": "white",
            "showbackground": true,
            "ticks": "",
            "zerolinecolor": "white"
           },
           "zaxis": {
            "backgroundcolor": "#E5ECF6",
            "gridcolor": "white",
            "gridwidth": 2,
            "linecolor": "white",
            "showbackground": true,
            "ticks": "",
            "zerolinecolor": "white"
           }
          },
          "shapedefaults": {
           "line": {
            "color": "#2a3f5f"
           }
          },
          "ternary": {
           "aaxis": {
            "gridcolor": "white",
            "linecolor": "white",
            "ticks": ""
           },
           "baxis": {
            "gridcolor": "white",
            "linecolor": "white",
            "ticks": ""
           },
           "bgcolor": "#E5ECF6",
           "caxis": {
            "gridcolor": "white",
            "linecolor": "white",
            "ticks": ""
           }
          },
          "title": {
           "x": 0.05
          },
          "xaxis": {
           "automargin": true,
           "gridcolor": "white",
           "linecolor": "white",
           "ticks": "",
           "title": {
            "standoff": 15
           },
           "zerolinecolor": "white",
           "zerolinewidth": 2
          },
          "yaxis": {
           "automargin": true,
           "gridcolor": "white",
           "linecolor": "white",
           "ticks": "",
           "title": {
            "standoff": 15
           },
           "zerolinecolor": "white",
           "zerolinewidth": 2
          }
         }
        },
        "title": {
         "text": "Distribución de las tipoCultivoes en 3 dimensiones"
        }
       }
      }
     },
     "metadata": {},
     "output_type": "display_data"
    }
   ],
   "source": [
    "fig = px.scatter_3d(pca_features, x=0, y=1, z=2,\n",
    "              color=pca_filtrado[\"tipoCultivo\"],  labels={'color': 'tipoCultivo'},\n",
    "              color_discrete_map=tipoCultivo_color_map,\n",
    "              title=\"Distribución de las tipoCultivoes en 3 dimensiones\")\n",
    "fig.show()"
   ]
  },
  {
   "cell_type": "markdown",
   "id": "8162ca3d",
   "metadata": {},
   "source": [
    "# ISOMAP"
   ]
  },
  {
   "cell_type": "code",
   "execution_count": 334,
   "id": "4b812a6f",
   "metadata": {},
   "outputs": [
    {
     "data": {
      "text/plain": [
       "array([[ 1.32273711e-01, -6.00170236e-01],\n",
       "       [ 1.00558247e+00,  1.18103314e+00],\n",
       "       [ 6.67183391e-01,  1.73629353e+00],\n",
       "       [-2.43328201e+00, -3.27175704e+00],\n",
       "       [ 2.51493932e+00, -2.13053818e+00],\n",
       "       [-7.54979430e-01, -7.90006546e-01],\n",
       "       [-3.53656746e+00,  2.50841755e-01],\n",
       "       [ 4.67435481e-01,  2.50652205e-01],\n",
       "       [ 1.54574571e+00, -1.15634963e+00],\n",
       "       [-3.23652026e+00,  1.34597611e+00],\n",
       "       [-2.14903754e-01,  4.81082717e+00],\n",
       "       [-1.26572530e+00,  2.45799386e+00],\n",
       "       [ 7.24918354e-01,  2.01396183e+00],\n",
       "       [-2.47488125e-01,  1.94489782e+00],\n",
       "       [-8.58975059e-01, -2.74585205e+00],\n",
       "       [ 5.93645912e-02, -3.91756754e+00],\n",
       "       [-8.28932506e-01,  1.07396535e+00],\n",
       "       [ 4.11974871e-01,  3.63559451e+00],\n",
       "       [ 1.52099034e+00, -2.90503171e+00],\n",
       "       [ 1.30989309e+00, -4.55738248e-01],\n",
       "       [-2.74544295e-01, -2.19934414e+00],\n",
       "       [-5.69321892e-01, -1.33740884e+00],\n",
       "       [ 2.70623674e-01,  2.72723899e-01],\n",
       "       [ 5.22451473e+00, -1.44740464e+00],\n",
       "       [-9.41274316e-01, -2.59222748e+00],\n",
       "       [-6.81873962e-01,  9.76049430e-01],\n",
       "       [-3.10275420e-01, -3.16776875e+00],\n",
       "       [ 5.55297451e-01, -1.03750462e-01],\n",
       "       [-5.28915767e-01,  8.43456858e-01],\n",
       "       [ 1.75930688e+00, -1.94724945e+00],\n",
       "       [ 2.50126114e+00,  5.93919293e-01],\n",
       "       [ 5.58617288e-01,  3.76295754e+00],\n",
       "       [-1.78602108e-01, -2.30990423e+00],\n",
       "       [-3.14988960e+00,  1.47000520e+00],\n",
       "       [ 3.08281523e+00, -1.47525651e+00],\n",
       "       [ 4.67916086e+00, -6.61669458e-01],\n",
       "       [ 4.17677268e+00, -3.54515436e-01],\n",
       "       [-3.59109335e+00,  5.99884721e-01],\n",
       "       [-6.53895573e-01, -1.26492141e+00],\n",
       "       [ 5.74141909e-01,  6.06290103e-02],\n",
       "       [-4.62669891e+00,  2.02872001e+00],\n",
       "       [-7.66696586e-01,  4.40526016e+00],\n",
       "       [ 1.54744255e+00, -3.06084225e+00],\n",
       "       [-4.90337142e-01,  6.80172140e-01],\n",
       "       [ 9.10841151e-01,  1.43663942e+00],\n",
       "       [ 2.74445409e-01, -2.17184065e-01],\n",
       "       [ 4.50312954e+00,  7.84087772e-02],\n",
       "       [-3.27744958e+00, -3.02838736e+00],\n",
       "       [ 6.67172340e-01,  7.94810402e-01],\n",
       "       [-2.34990529e+00,  1.66410676e+00],\n",
       "       [-1.67711813e+00,  1.87627777e+00],\n",
       "       [ 4.23024458e-01,  3.27956772e+00],\n",
       "       [ 1.73817746e-03, -5.76069620e-01],\n",
       "       [-4.49740267e-01, -3.57477838e-02],\n",
       "       [ 9.85262309e-01, -1.24731088e+00],\n",
       "       [ 1.85886902e+00,  4.17060632e+00],\n",
       "       [ 2.78899185e+00, -1.04883034e+00],\n",
       "       [ 3.47136508e+00,  4.68611544e-02],\n",
       "       [-4.44362965e+00, -2.49869826e-01],\n",
       "       [ 9.04927861e-01, -3.30179105e+00],\n",
       "       [ 2.55501644e+00, -7.48829484e-01],\n",
       "       [-8.13106774e-01,  2.33643128e-01],\n",
       "       [ 1.79743298e+00,  1.01788494e+00],\n",
       "       [ 2.09282060e-01,  3.65718948e+00],\n",
       "       [ 1.59964869e-01, -2.73921547e+00],\n",
       "       [ 2.70383395e+00,  3.48612068e+00],\n",
       "       [-4.71505516e-01,  1.88509397e+00],\n",
       "       [ 4.55704643e-01,  1.94319297e+00],\n",
       "       [ 8.26546178e-01,  1.94768476e+00],\n",
       "       [-1.45027961e+00,  3.75609563e+00],\n",
       "       [ 3.58826749e+00,  1.45378335e-01],\n",
       "       [-2.40357193e+00, -2.55196856e+00],\n",
       "       [-1.91749469e+00,  1.53462566e+00],\n",
       "       [ 1.02734226e+00,  4.63661506e-01],\n",
       "       [-7.53374593e-01, -1.51365265e+00],\n",
       "       [ 1.47347448e+00, -1.64635532e+00],\n",
       "       [ 3.34913126e-01, -2.32919081e+00],\n",
       "       [-3.31232967e+00, -1.55002862e+00],\n",
       "       [ 2.06380034e+00, -3.86223909e+00],\n",
       "       [-9.22448786e-01, -2.85167338e+00],\n",
       "       [ 8.61485040e-01,  4.08512081e+00],\n",
       "       [ 1.48399084e+00,  3.30833490e+00],\n",
       "       [ 1.80072273e+00, -5.13588642e-01],\n",
       "       [-3.34862749e+00, -1.59127643e+00],\n",
       "       [ 3.95497526e+00, -4.40762114e-02],\n",
       "       [-4.71702084e-02,  1.96525507e+00],\n",
       "       [ 2.32331393e+00, -4.09089748e-01],\n",
       "       [-1.47937879e+00, -9.43175042e-01],\n",
       "       [-1.26631533e+00, -1.89802567e+00],\n",
       "       [ 2.90938806e-02, -1.46046961e+00],\n",
       "       [-5.37414071e-02, -5.02622630e-01],\n",
       "       [-5.98955479e-01,  1.64584334e+00],\n",
       "       [-1.97466168e+00, -2.43835311e+00],\n",
       "       [-1.33746954e-01, -2.17301814e+00],\n",
       "       [-3.13854013e+00, -1.14073944e+00],\n",
       "       [-3.22793563e-01,  1.55769977e+00],\n",
       "       [ 9.39116794e-01, -3.72408700e+00],\n",
       "       [ 3.21855645e+00,  3.58821519e-01],\n",
       "       [-2.27632981e+00, -1.85121766e+00],\n",
       "       [ 8.53407808e-01,  3.56636859e-01],\n",
       "       [ 3.51500599e+00,  1.82705384e+00],\n",
       "       [ 3.28274624e+00, -1.51666031e+00],\n",
       "       [ 7.49607816e-01, -1.41630066e+00],\n",
       "       [ 5.75547585e-01,  1.31288886e+00],\n",
       "       [-1.69109250e+00, -1.84320525e+00],\n",
       "       [-5.56613735e-01, -1.49317783e-02],\n",
       "       [-1.22585612e+00,  6.35840605e-01],\n",
       "       [ 1.68357755e+00,  2.27905556e+00],\n",
       "       [-2.80935470e-01, -7.12326491e-01],\n",
       "       [ 5.34116040e-01,  6.17967184e-01],\n",
       "       [-8.05651564e-02,  2.05446468e-01],\n",
       "       [-2.49493229e+00, -8.52884233e-01],\n",
       "       [-1.80869064e+00, -1.11139622e+00],\n",
       "       [-8.96309863e-01,  2.03820293e+00],\n",
       "       [ 2.81293962e+00, -2.79721145e+00],\n",
       "       [ 9.56052860e-01,  1.93555992e+00],\n",
       "       [-2.95463210e+00, -2.97256936e+00],\n",
       "       [-9.96906864e-01, -1.27271825e+00],\n",
       "       [-1.37532576e+00, -1.79668287e+00],\n",
       "       [ 1.96206955e+00,  3.05938995e+00],\n",
       "       [ 1.98189503e+00, -8.91608173e-01],\n",
       "       [ 2.21490955e+00,  1.89173716e+00],\n",
       "       [ 2.82108926e+00,  7.72853874e-01],\n",
       "       [ 3.13597542e-01,  2.31440023e+00],\n",
       "       [ 3.10474950e-02, -2.61106773e+00],\n",
       "       [ 4.66078530e-01, -1.99429479e-01],\n",
       "       [-2.23425941e+00,  2.55894670e+00],\n",
       "       [-4.19196734e+00, -1.62560326e+00],\n",
       "       [-1.30078774e+00,  2.12604727e+00],\n",
       "       [-2.17468326e+00,  2.97996158e+00],\n",
       "       [ 1.21203555e+00, -3.38391670e+00],\n",
       "       [-2.05725321e+00,  6.07205051e-01],\n",
       "       [ 2.33816866e+00, -2.63065770e+00],\n",
       "       [ 2.24453705e+00, -1.96940147e+00],\n",
       "       [-6.20902877e-01, -5.98458249e-01],\n",
       "       [-3.27693960e-01, -3.32350623e-01],\n",
       "       [-2.13639560e+00,  2.56264343e+00],\n",
       "       [-2.65670728e+00,  9.14261454e-01],\n",
       "       [ 9.31997617e-01,  2.18311907e+00],\n",
       "       [ 2.53609967e-01, -1.28129129e+00],\n",
       "       [ 2.11373936e+00,  1.97795937e+00],\n",
       "       [ 1.11850405e+00,  1.73483639e-01],\n",
       "       [-2.13153070e+00,  2.56498716e+00],\n",
       "       [-1.70875356e-01, -8.83644036e-01],\n",
       "       [ 2.88132859e+00, -1.25922676e+00],\n",
       "       [-4.09238174e+00,  3.30338955e-01],\n",
       "       [-5.57328211e-01, -4.41541997e+00],\n",
       "       [ 1.81222892e+00,  3.49179250e+00],\n",
       "       [ 6.65176231e-01, -7.25941885e-01],\n",
       "       [ 7.94229897e-01,  5.01636871e-01],\n",
       "       [-2.38357629e+00, -4.75675358e-01],\n",
       "       [-4.15480853e+00,  4.86758820e-01],\n",
       "       [-1.11163462e+00,  2.16363517e+00],\n",
       "       [-2.14663449e+00,  8.44372184e-01],\n",
       "       [-3.21650687e+00,  2.35419192e-01],\n",
       "       [ 1.35714189e+00,  1.09166623e-01],\n",
       "       [-9.19244811e-02, -7.27409165e-02],\n",
       "       [ 3.63082608e-01, -6.25608165e-01],\n",
       "       [ 2.76658108e+00,  2.04178724e+00],\n",
       "       [-2.78043836e+00, -2.01662422e+00],\n",
       "       [-9.47449000e-01, -2.28303507e+00],\n",
       "       [ 3.97626735e-02,  5.80974901e-01],\n",
       "       [-4.66206129e+00,  1.25567491e+00]])"
      ]
     },
     "execution_count": 334,
     "metadata": {},
     "output_type": "execute_result"
    }
   ],
   "source": [
    "isomap = Isomap(n_neighbors=100, n_components=2) #preguntar numero componentes\n",
    "X_reduced = isomap.fit_transform(df_std)\n",
    "X_reduced"
   ]
  },
  {
   "cell_type": "code",
   "execution_count": 335,
   "id": "bc86a308",
   "metadata": {},
   "outputs": [
    {
     "data": {
      "text/html": [
       "<div>\n",
       "<style scoped>\n",
       "    .dataframe tbody tr th:only-of-type {\n",
       "        vertical-align: middle;\n",
       "    }\n",
       "\n",
       "    .dataframe tbody tr th {\n",
       "        vertical-align: top;\n",
       "    }\n",
       "\n",
       "    .dataframe thead th {\n",
       "        text-align: right;\n",
       "    }\n",
       "</style>\n",
       "<table border=\"1\" class=\"dataframe\">\n",
       "  <thead>\n",
       "    <tr style=\"text-align: right;\">\n",
       "      <th></th>\n",
       "      <th>PC1</th>\n",
       "      <th>PC2</th>\n",
       "      <th>tipoCultivo</th>\n",
       "    </tr>\n",
       "  </thead>\n",
       "  <tbody>\n",
       "    <tr>\n",
       "      <th>0</th>\n",
       "      <td>0.132274</td>\n",
       "      <td>-0.600170</td>\n",
       "      <td>NaN</td>\n",
       "    </tr>\n",
       "    <tr>\n",
       "      <th>1</th>\n",
       "      <td>1.005582</td>\n",
       "      <td>1.181033</td>\n",
       "      <td>NaN</td>\n",
       "    </tr>\n",
       "    <tr>\n",
       "      <th>2</th>\n",
       "      <td>0.667183</td>\n",
       "      <td>1.736294</td>\n",
       "      <td>Trigo</td>\n",
       "    </tr>\n",
       "    <tr>\n",
       "      <th>3</th>\n",
       "      <td>-2.433282</td>\n",
       "      <td>-3.271757</td>\n",
       "      <td>NaN</td>\n",
       "    </tr>\n",
       "    <tr>\n",
       "      <th>4</th>\n",
       "      <td>2.514939</td>\n",
       "      <td>-2.130538</td>\n",
       "      <td>NaN</td>\n",
       "    </tr>\n",
       "    <tr>\n",
       "      <th>...</th>\n",
       "      <td>...</td>\n",
       "      <td>...</td>\n",
       "      <td>...</td>\n",
       "    </tr>\n",
       "    <tr>\n",
       "      <th>158</th>\n",
       "      <td>2.766581</td>\n",
       "      <td>2.041787</td>\n",
       "      <td>NaN</td>\n",
       "    </tr>\n",
       "    <tr>\n",
       "      <th>159</th>\n",
       "      <td>-2.780438</td>\n",
       "      <td>-2.016624</td>\n",
       "      <td>Trigo</td>\n",
       "    </tr>\n",
       "    <tr>\n",
       "      <th>160</th>\n",
       "      <td>-0.947449</td>\n",
       "      <td>-2.283035</td>\n",
       "      <td>NaN</td>\n",
       "    </tr>\n",
       "    <tr>\n",
       "      <th>161</th>\n",
       "      <td>0.039763</td>\n",
       "      <td>0.580975</td>\n",
       "      <td>NaN</td>\n",
       "    </tr>\n",
       "    <tr>\n",
       "      <th>162</th>\n",
       "      <td>-4.662061</td>\n",
       "      <td>1.255675</td>\n",
       "      <td>NaN</td>\n",
       "    </tr>\n",
       "  </tbody>\n",
       "</table>\n",
       "<p>163 rows × 3 columns</p>\n",
       "</div>"
      ],
      "text/plain": [
       "          PC1       PC2 tipoCultivo\n",
       "0    0.132274 -0.600170         NaN\n",
       "1    1.005582  1.181033         NaN\n",
       "2    0.667183  1.736294       Trigo\n",
       "3   -2.433282 -3.271757         NaN\n",
       "4    2.514939 -2.130538         NaN\n",
       "..        ...       ...         ...\n",
       "158  2.766581  2.041787         NaN\n",
       "159 -2.780438 -2.016624       Trigo\n",
       "160 -0.947449 -2.283035         NaN\n",
       "161  0.039763  0.580975         NaN\n",
       "162 -4.662061  1.255675         NaN\n",
       "\n",
       "[163 rows x 3 columns]"
      ]
     },
     "execution_count": 335,
     "metadata": {},
     "output_type": "execute_result"
    }
   ],
   "source": [
    "df_isomap = pd.DataFrame(X_reduced, columns=['PC1', 'PC2'])\n",
    "df_isomap['tipoCultivo'] = y\n",
    "\n",
    "df_isomap"
   ]
  },
  {
   "cell_type": "code",
   "execution_count": 342,
   "id": "1ca0966d",
   "metadata": {},
   "outputs": [
    {
     "name": "stdout",
     "output_type": "stream",
     "text": [
      "<class 'pandas.core.series.Series'>\n",
      "Index: 163 entries, 2 to 309\n",
      "Series name: tipoCultivo\n",
      "Non-Null Count  Dtype \n",
      "--------------  ----- \n",
      "163 non-null    object\n",
      "dtypes: object(1)\n",
      "memory usage: 6.6+ KB\n"
     ]
    }
   ],
   "source": [
    "y.info()"
   ]
  },
  {
   "cell_type": "code",
   "execution_count": 339,
   "id": "e5e868f4",
   "metadata": {},
   "outputs": [
    {
     "data": {
      "text/html": [
       "<div>\n",
       "<style scoped>\n",
       "    .dataframe tbody tr th:only-of-type {\n",
       "        vertical-align: middle;\n",
       "    }\n",
       "\n",
       "    .dataframe tbody tr th {\n",
       "        vertical-align: top;\n",
       "    }\n",
       "\n",
       "    .dataframe thead th {\n",
       "        text-align: right;\n",
       "    }\n",
       "</style>\n",
       "<table border=\"1\" class=\"dataframe\">\n",
       "  <thead>\n",
       "    <tr style=\"text-align: right;\">\n",
       "      <th></th>\n",
       "      <th>PC1</th>\n",
       "      <th>PC2</th>\n",
       "      <th>tipoCultivo</th>\n",
       "    </tr>\n",
       "  </thead>\n",
       "  <tbody>\n",
       "    <tr>\n",
       "      <th>0</th>\n",
       "      <td>0.132274</td>\n",
       "      <td>-0.600170</td>\n",
       "      <td>NaN</td>\n",
       "    </tr>\n",
       "    <tr>\n",
       "      <th>1</th>\n",
       "      <td>1.005582</td>\n",
       "      <td>1.181033</td>\n",
       "      <td>NaN</td>\n",
       "    </tr>\n",
       "    <tr>\n",
       "      <th>3</th>\n",
       "      <td>-2.433282</td>\n",
       "      <td>-3.271757</td>\n",
       "      <td>NaN</td>\n",
       "    </tr>\n",
       "    <tr>\n",
       "      <th>4</th>\n",
       "      <td>2.514939</td>\n",
       "      <td>-2.130538</td>\n",
       "      <td>NaN</td>\n",
       "    </tr>\n",
       "    <tr>\n",
       "      <th>8</th>\n",
       "      <td>1.545746</td>\n",
       "      <td>-1.156350</td>\n",
       "      <td>NaN</td>\n",
       "    </tr>\n",
       "    <tr>\n",
       "      <th>...</th>\n",
       "      <td>...</td>\n",
       "      <td>...</td>\n",
       "      <td>...</td>\n",
       "    </tr>\n",
       "    <tr>\n",
       "      <th>156</th>\n",
       "      <td>-0.091924</td>\n",
       "      <td>-0.072741</td>\n",
       "      <td>NaN</td>\n",
       "    </tr>\n",
       "    <tr>\n",
       "      <th>158</th>\n",
       "      <td>2.766581</td>\n",
       "      <td>2.041787</td>\n",
       "      <td>NaN</td>\n",
       "    </tr>\n",
       "    <tr>\n",
       "      <th>160</th>\n",
       "      <td>-0.947449</td>\n",
       "      <td>-2.283035</td>\n",
       "      <td>NaN</td>\n",
       "    </tr>\n",
       "    <tr>\n",
       "      <th>161</th>\n",
       "      <td>0.039763</td>\n",
       "      <td>0.580975</td>\n",
       "      <td>NaN</td>\n",
       "    </tr>\n",
       "    <tr>\n",
       "      <th>162</th>\n",
       "      <td>-4.662061</td>\n",
       "      <td>1.255675</td>\n",
       "      <td>NaN</td>\n",
       "    </tr>\n",
       "  </tbody>\n",
       "</table>\n",
       "<p>75 rows × 3 columns</p>\n",
       "</div>"
      ],
      "text/plain": [
       "          PC1       PC2 tipoCultivo\n",
       "0    0.132274 -0.600170         NaN\n",
       "1    1.005582  1.181033         NaN\n",
       "3   -2.433282 -3.271757         NaN\n",
       "4    2.514939 -2.130538         NaN\n",
       "8    1.545746 -1.156350         NaN\n",
       "..        ...       ...         ...\n",
       "156 -0.091924 -0.072741         NaN\n",
       "158  2.766581  2.041787         NaN\n",
       "160 -0.947449 -2.283035         NaN\n",
       "161  0.039763  0.580975         NaN\n",
       "162 -4.662061  1.255675         NaN\n",
       "\n",
       "[75 rows x 3 columns]"
      ]
     },
     "execution_count": 339,
     "metadata": {},
     "output_type": "execute_result"
    }
   ],
   "source": [
    "df_isomap[df_isomap['tipoCultivo'].isna()]"
   ]
  },
  {
   "cell_type": "code",
   "execution_count": 337,
   "id": "440d7492",
   "metadata": {},
   "outputs": [
    {
     "data": {
      "application/vnd.plotly.v1+json": {
       "config": {
        "plotlyServerURL": "https://plot.ly"
       },
       "data": [
        {
         "hovertemplate": "Tipo cultivo=Trigo<br>PC1=%{x}<br>PC2=%{y}<extra></extra>",
         "legendgroup": "Trigo",
         "marker": {
          "color": "#636efa",
          "symbol": "circle"
         },
         "mode": "markers",
         "name": "Trigo",
         "orientation": "v",
         "showlegend": true,
         "type": "scatter",
         "x": {
          "bdata": "UCM+UFjuwD8tJWiPXHcDwPxzuiMJZa4/UI07+PlV+D9wdbVX6dHlv4/jNMLg7OC/4HTC9x4m/D9ja8cylQIEQHw+6VD5MgnA8pvGB5upCECwSrkmj7oMwHUdh2i27OS/8E0M2l5f4j+cFFJHx4jov0BT2givYd+/LTDEznlZ5T/0/Xckm8wCwKeL9maLyNy/W6DiRSv17D+8DMkowcnKP9qs/LFzoQVAAsdVeCUt3r8iCBnpDq7+v7B64gilG+i/71FkosLP/D+aYfs1/ckKwC/7mReJq/e/eozjxJ4ewb+1aAtVpqjUvybCuMTiauI/CD59ArcO+79w8aabx8/hvwWhyQPv7/o/tiGAhXoX4T+VspgnFqMHwOwRgzmp5u+/SWyQfyK4AUBUpZZlw98BwBRhZs4G0PS/ydqaY39k8z9w4CArQXUAwG0fmLVv3uO/q6L5TCU70D/Frgf5odXhv8QSmqkfSeU/4df80FRq6T/18yP0Z7sJwFx605CAUe6/",
          "dtype": "f8"
         },
         "xaxis": "x",
         "y": {
          "bdata": "cLP4NZg0479k6k70jiwKwOM8AqYtVw/AbGuARIE9B8ClWecDzDvvP4Y8hDyZ/eo/zrJECe8n/79f61wIYwHjP+WuUSskhfc/j8A2kaaa97+qag5xQTLjPwbJTjwePfS/t/g9AcQKrz95seyE/J4RQIn96Vz4w+U/V/eiORZv6T+UCXxoLqD6P9N4A5WITaK/NjUzbRFqCsDR0+yO7EENQIqUvj2T4wtAJe1aSlgp/j9gzKSi0434Px8LNdfrN/i/qqfNclFv4L8DB0tG3nX5v5AdxWx9Lu6/XzmBVVdiAcBT9dGWVuz4P4lIs76XAfU/B4q+ysR9/b85l0tdjZSOv7A9zHqBOwJAW3qkHWPG4z/o1NJx0scHwKicuNANXfS/bwyZL45E/j+uG5ELuXgEQE0pLxIlAgFAJKDk6kISC8C+w25JOW7jPy/91+mRJuO/XBu2TCuA9L9sMJXaY6kRwNs+r3nqOue/oNRXxGgN4D/eYMtRNyLOP6FAJuSnQwLA",
          "dtype": "f8"
         },
         "yaxis": "y"
        },
        {
         "hovertemplate": "Tipo cultivo=Maiz<br>PC1=%{x}<br>PC2=%{y}<extra></extra>",
         "legendgroup": "Maiz",
         "marker": {
          "color": "#EF553B",
          "symbol": "circle"
         },
         "mode": "markers",
         "name": "Maiz",
         "orientation": "v",
         "showlegend": true,
         "type": "scatter",
         "x": {
          "bdata": "xUf0pN0W8D+Jpgufyijov1vmzeDjSgzAOCl5gnbq3T8KccAsaUD0v1rcfEO5fOu/khvnOyKS0b/G6r5vjdvTv8KM6ij/xOE/w8rY8XW3EkAYDJMfU8L4P+5oeVecJe0/jTMHZDQDEkDSqVf12k8GQOUJJtpGxhHAVJAmdqxwBEDh9BLOQyrdP92YYPgQc+o/tzAaZFg0978TykyWxbQMQCIW1m/+b/A/NTDA+FmT9z9TBE+ypn8KwMo58sCpggBAwRhSE0mR6z8crvYtbb73P3pRjJwllgJAG0pqR8nKnT8W9Olj/oOrv5Ctfa6kKuO/knw02DaY/7+llc/tuhsJwPfgzHUQQwpAtIlFThud879THAMI65+0vwvPmAWSruy/yoAsfeaABkDEdo0+l5EGQL5FbWz7EdQ/EaAnVsBlAcA7s3PFkbQCQCbusNbP9AFAeFMUFvD41L+xx0eTVhcBwKoTn6rs0u0/5z1TLvDoAEDQKpaBZOXxP+glWwH2DAdAudzgcZARA8DvsdPfXIi3vycb49W+PNc/JgVnQvUhBkAQNf53Vj4GwF00YuzFW6Q/",
          "dtype": "f8"
         },
         "xaxis": "x",
         "y": {
          "bdata": "HqgiAoPl8j8EyuTOu0fpvwNArZPKDdA/Ktqii68K0D9vJkiv+KkDQM5/K0eB9wXAeQDxvUGYAcDH5Psjl1cJwHiEe+djj7q/RCGObWUs5b+S9iTdmnwIwOLVj555/PY/Nv+f/ZgStD8L5kdSAsjwv+gd/QW8+8+/E5YZQGn257898bWCURf/P9/kc363Kf8/QLrF3XsMDkCbwy3ewZvCP4nT8k6hrN0/cF9jrXhX+r8dvVbP6sz4v7MfKJvd5Q7Ajm+W6ClXEEAzi1FKeHcKQJPuqcOGLtq/focvYRVe9793fMgNfBXgv+PogtRfVfo/E28bR7+BA8AF4/kAeEDyv+AaZJk9RPi/dg6IZc5Y5D/cjOvhEUzKP31NHlY9TgBAMduHZbBgBsDKnPwLOLvoP2pAFETkgwJAF4Z2GfbWB0DhhS5ElgsFwL4m4Ryrgv+/OCzFiztF1b+j0U8zS4AEQAJGQyEHdwFABjyLuLil/z+xZ1M9tjTGPyo4SfXKJfS/W1PeDndx3r+bdz8RJp+yv8vl52n7BOS/p2bhi5RVAEAAY47hCyIAwPYLsKxYl+I/",
          "dtype": "f8"
         },
         "yaxis": "y"
        },
        {
         "hovertemplate": "Tipo cultivo=Soja<br>PC1=%{x}<br>PC2=%{y}<extra></extra>",
         "legendgroup": "Soja",
         "marker": {
          "color": "#00cc96",
          "symbol": "circle"
         },
         "mode": "markers",
         "name": "Soja",
         "orientation": "v",
         "showlegend": true,
         "type": "scatter",
         "x": {
          "bdata": "mqzV+5BZ5T91AiSBmB4EQKdjXNlfu/g/OcPUu2TkCcB2sida94HLv9tg0PmHMuc/ATGV3rCtz78m4lR2nYbqv7dR9tjLXdo/B6bldVL19D+Ie4iL4jfivx9qEPXlUdE/OgQ0MOflFEBFC4NQ6x7uvwlMvFwx4OE/A/G/EW/cxr+eVXvlA7UQQBMt01u9gRLAFdvyeYOQ0T92MRd8NzgKwDIIBtF51fq/E+lcLdUS2z/4z4jWcXpcP2stNdJEh+8/fvQscO29/T89bYcNW8ULQPQYkH/4BOq/NDxpFUnC/D+uumyVunnEP0QfX+uDOgPAxWC7djdv1T+AcwhRs4Ttvx9YThHKow9AnKr5jLEmqL+5UEzd00L0v8Y716k+De4/m559hZq/CUBaY89m7DUCwLbtJeQdT+s/3684drseDEDv0raHyfznP7ONlsPY+tG/L4A/D5/1A8C6N5iYZfD8vzH/tyr8l+4/eZ/clFUB9r/KPacKo2T/Pw+NdpDXtf8/m9P+HerKnz+REdoKO9TdP9YFJhaTxBDAXviLv+9ABcCaZc33Xw0BwJeNMmA+38W/I/5ZUZleEMBtLWfA4/78P7qoZCCGnhDAKn0sYUHJ8b8M1n20TiwBwDIZLWnatvU/lD0dZfOlEsA=",
          "dtype": "f8"
         },
         "xaxis": "x",
         "y": {
          "bdata": "FMINudvH+z9+6mmaVwsBwAt6lHhogPK/UBdVPh6J9T9k1GV6ST4TQFnkrwWYHABAR9d5LE0e/z+KTNdK9i7xP8gvBpOyFQ1ABq++wdAq3b+0Dx7QBmb1v6lm9PBOdNE/P1x0xJEo978xOP7C4bwEwPSEw3uJGg5AFsx7Ea96AsBdk9iCYbDWv9QX7I7ROgBAR0Fm/K/My798xEMnIzoIwH5hudY7Bf4///zk/408CkBe14aOKW/iv2tE6UD89PO/BvFdbLOuEEDgeD9rL/6nPxUyS50E6M0/lWjst0FJ8D9cQnvN6ekFwNwvq35uagTAs0D4yi6iAsCgEZYiOtAGwLCdGz0okaa/c+TKTa9x/z+bV0spUF7+vzoJHiDuyg3AS0OPiO721j+JiAJqlp79vzEVnGcj09Y/QQ3qzpw7/T9Z1IjiKqn2v/VkBO1gy+a/mPfb39NK679St+dnR8jxv5YMR64N+P4/Jo0viDa//L9xJy5woXkIQGQAMN0NiOy/20QienfjBMB46vi454bJv64ywpB4Avq/6iZcPKFB7T9ngAT9F4UEQE6gltvPRuy/pi3t/0Uk1T+E0sHnMO8LQPBst3cOJ98/yGwB9R9PAUDGVWfQGAXrPwQ85wNY8rs/vNEokj4X9D8=",
          "dtype": "f8"
         },
         "yaxis": "y"
        }
       ],
       "layout": {
        "legend": {
         "title": {
          "text": "Tipo cultivo"
         },
         "tracegroupgap": 0
        },
        "template": {
         "data": {
          "bar": [
           {
            "error_x": {
             "color": "#2a3f5f"
            },
            "error_y": {
             "color": "#2a3f5f"
            },
            "marker": {
             "line": {
              "color": "#E5ECF6",
              "width": 0.5
             },
             "pattern": {
              "fillmode": "overlay",
              "size": 10,
              "solidity": 0.2
             }
            },
            "type": "bar"
           }
          ],
          "barpolar": [
           {
            "marker": {
             "line": {
              "color": "#E5ECF6",
              "width": 0.5
             },
             "pattern": {
              "fillmode": "overlay",
              "size": 10,
              "solidity": 0.2
             }
            },
            "type": "barpolar"
           }
          ],
          "carpet": [
           {
            "aaxis": {
             "endlinecolor": "#2a3f5f",
             "gridcolor": "white",
             "linecolor": "white",
             "minorgridcolor": "white",
             "startlinecolor": "#2a3f5f"
            },
            "baxis": {
             "endlinecolor": "#2a3f5f",
             "gridcolor": "white",
             "linecolor": "white",
             "minorgridcolor": "white",
             "startlinecolor": "#2a3f5f"
            },
            "type": "carpet"
           }
          ],
          "choropleth": [
           {
            "colorbar": {
             "outlinewidth": 0,
             "ticks": ""
            },
            "type": "choropleth"
           }
          ],
          "contour": [
           {
            "colorbar": {
             "outlinewidth": 0,
             "ticks": ""
            },
            "colorscale": [
             [
              0,
              "#0d0887"
             ],
             [
              0.1111111111111111,
              "#46039f"
             ],
             [
              0.2222222222222222,
              "#7201a8"
             ],
             [
              0.3333333333333333,
              "#9c179e"
             ],
             [
              0.4444444444444444,
              "#bd3786"
             ],
             [
              0.5555555555555556,
              "#d8576b"
             ],
             [
              0.6666666666666666,
              "#ed7953"
             ],
             [
              0.7777777777777778,
              "#fb9f3a"
             ],
             [
              0.8888888888888888,
              "#fdca26"
             ],
             [
              1,
              "#f0f921"
             ]
            ],
            "type": "contour"
           }
          ],
          "contourcarpet": [
           {
            "colorbar": {
             "outlinewidth": 0,
             "ticks": ""
            },
            "type": "contourcarpet"
           }
          ],
          "heatmap": [
           {
            "colorbar": {
             "outlinewidth": 0,
             "ticks": ""
            },
            "colorscale": [
             [
              0,
              "#0d0887"
             ],
             [
              0.1111111111111111,
              "#46039f"
             ],
             [
              0.2222222222222222,
              "#7201a8"
             ],
             [
              0.3333333333333333,
              "#9c179e"
             ],
             [
              0.4444444444444444,
              "#bd3786"
             ],
             [
              0.5555555555555556,
              "#d8576b"
             ],
             [
              0.6666666666666666,
              "#ed7953"
             ],
             [
              0.7777777777777778,
              "#fb9f3a"
             ],
             [
              0.8888888888888888,
              "#fdca26"
             ],
             [
              1,
              "#f0f921"
             ]
            ],
            "type": "heatmap"
           }
          ],
          "histogram": [
           {
            "marker": {
             "pattern": {
              "fillmode": "overlay",
              "size": 10,
              "solidity": 0.2
             }
            },
            "type": "histogram"
           }
          ],
          "histogram2d": [
           {
            "colorbar": {
             "outlinewidth": 0,
             "ticks": ""
            },
            "colorscale": [
             [
              0,
              "#0d0887"
             ],
             [
              0.1111111111111111,
              "#46039f"
             ],
             [
              0.2222222222222222,
              "#7201a8"
             ],
             [
              0.3333333333333333,
              "#9c179e"
             ],
             [
              0.4444444444444444,
              "#bd3786"
             ],
             [
              0.5555555555555556,
              "#d8576b"
             ],
             [
              0.6666666666666666,
              "#ed7953"
             ],
             [
              0.7777777777777778,
              "#fb9f3a"
             ],
             [
              0.8888888888888888,
              "#fdca26"
             ],
             [
              1,
              "#f0f921"
             ]
            ],
            "type": "histogram2d"
           }
          ],
          "histogram2dcontour": [
           {
            "colorbar": {
             "outlinewidth": 0,
             "ticks": ""
            },
            "colorscale": [
             [
              0,
              "#0d0887"
             ],
             [
              0.1111111111111111,
              "#46039f"
             ],
             [
              0.2222222222222222,
              "#7201a8"
             ],
             [
              0.3333333333333333,
              "#9c179e"
             ],
             [
              0.4444444444444444,
              "#bd3786"
             ],
             [
              0.5555555555555556,
              "#d8576b"
             ],
             [
              0.6666666666666666,
              "#ed7953"
             ],
             [
              0.7777777777777778,
              "#fb9f3a"
             ],
             [
              0.8888888888888888,
              "#fdca26"
             ],
             [
              1,
              "#f0f921"
             ]
            ],
            "type": "histogram2dcontour"
           }
          ],
          "mesh3d": [
           {
            "colorbar": {
             "outlinewidth": 0,
             "ticks": ""
            },
            "type": "mesh3d"
           }
          ],
          "parcoords": [
           {
            "line": {
             "colorbar": {
              "outlinewidth": 0,
              "ticks": ""
             }
            },
            "type": "parcoords"
           }
          ],
          "pie": [
           {
            "automargin": true,
            "type": "pie"
           }
          ],
          "scatter": [
           {
            "fillpattern": {
             "fillmode": "overlay",
             "size": 10,
             "solidity": 0.2
            },
            "type": "scatter"
           }
          ],
          "scatter3d": [
           {
            "line": {
             "colorbar": {
              "outlinewidth": 0,
              "ticks": ""
             }
            },
            "marker": {
             "colorbar": {
              "outlinewidth": 0,
              "ticks": ""
             }
            },
            "type": "scatter3d"
           }
          ],
          "scattercarpet": [
           {
            "marker": {
             "colorbar": {
              "outlinewidth": 0,
              "ticks": ""
             }
            },
            "type": "scattercarpet"
           }
          ],
          "scattergeo": [
           {
            "marker": {
             "colorbar": {
              "outlinewidth": 0,
              "ticks": ""
             }
            },
            "type": "scattergeo"
           }
          ],
          "scattergl": [
           {
            "marker": {
             "colorbar": {
              "outlinewidth": 0,
              "ticks": ""
             }
            },
            "type": "scattergl"
           }
          ],
          "scattermap": [
           {
            "marker": {
             "colorbar": {
              "outlinewidth": 0,
              "ticks": ""
             }
            },
            "type": "scattermap"
           }
          ],
          "scattermapbox": [
           {
            "marker": {
             "colorbar": {
              "outlinewidth": 0,
              "ticks": ""
             }
            },
            "type": "scattermapbox"
           }
          ],
          "scatterpolar": [
           {
            "marker": {
             "colorbar": {
              "outlinewidth": 0,
              "ticks": ""
             }
            },
            "type": "scatterpolar"
           }
          ],
          "scatterpolargl": [
           {
            "marker": {
             "colorbar": {
              "outlinewidth": 0,
              "ticks": ""
             }
            },
            "type": "scatterpolargl"
           }
          ],
          "scatterternary": [
           {
            "marker": {
             "colorbar": {
              "outlinewidth": 0,
              "ticks": ""
             }
            },
            "type": "scatterternary"
           }
          ],
          "surface": [
           {
            "colorbar": {
             "outlinewidth": 0,
             "ticks": ""
            },
            "colorscale": [
             [
              0,
              "#0d0887"
             ],
             [
              0.1111111111111111,
              "#46039f"
             ],
             [
              0.2222222222222222,
              "#7201a8"
             ],
             [
              0.3333333333333333,
              "#9c179e"
             ],
             [
              0.4444444444444444,
              "#bd3786"
             ],
             [
              0.5555555555555556,
              "#d8576b"
             ],
             [
              0.6666666666666666,
              "#ed7953"
             ],
             [
              0.7777777777777778,
              "#fb9f3a"
             ],
             [
              0.8888888888888888,
              "#fdca26"
             ],
             [
              1,
              "#f0f921"
             ]
            ],
            "type": "surface"
           }
          ],
          "table": [
           {
            "cells": {
             "fill": {
              "color": "#EBF0F8"
             },
             "line": {
              "color": "white"
             }
            },
            "header": {
             "fill": {
              "color": "#C8D4E3"
             },
             "line": {
              "color": "white"
             }
            },
            "type": "table"
           }
          ]
         },
         "layout": {
          "annotationdefaults": {
           "arrowcolor": "#2a3f5f",
           "arrowhead": 0,
           "arrowwidth": 1
          },
          "autotypenumbers": "strict",
          "coloraxis": {
           "colorbar": {
            "outlinewidth": 0,
            "ticks": ""
           }
          },
          "colorscale": {
           "diverging": [
            [
             0,
             "#8e0152"
            ],
            [
             0.1,
             "#c51b7d"
            ],
            [
             0.2,
             "#de77ae"
            ],
            [
             0.3,
             "#f1b6da"
            ],
            [
             0.4,
             "#fde0ef"
            ],
            [
             0.5,
             "#f7f7f7"
            ],
            [
             0.6,
             "#e6f5d0"
            ],
            [
             0.7,
             "#b8e186"
            ],
            [
             0.8,
             "#7fbc41"
            ],
            [
             0.9,
             "#4d9221"
            ],
            [
             1,
             "#276419"
            ]
           ],
           "sequential": [
            [
             0,
             "#0d0887"
            ],
            [
             0.1111111111111111,
             "#46039f"
            ],
            [
             0.2222222222222222,
             "#7201a8"
            ],
            [
             0.3333333333333333,
             "#9c179e"
            ],
            [
             0.4444444444444444,
             "#bd3786"
            ],
            [
             0.5555555555555556,
             "#d8576b"
            ],
            [
             0.6666666666666666,
             "#ed7953"
            ],
            [
             0.7777777777777778,
             "#fb9f3a"
            ],
            [
             0.8888888888888888,
             "#fdca26"
            ],
            [
             1,
             "#f0f921"
            ]
           ],
           "sequentialminus": [
            [
             0,
             "#0d0887"
            ],
            [
             0.1111111111111111,
             "#46039f"
            ],
            [
             0.2222222222222222,
             "#7201a8"
            ],
            [
             0.3333333333333333,
             "#9c179e"
            ],
            [
             0.4444444444444444,
             "#bd3786"
            ],
            [
             0.5555555555555556,
             "#d8576b"
            ],
            [
             0.6666666666666666,
             "#ed7953"
            ],
            [
             0.7777777777777778,
             "#fb9f3a"
            ],
            [
             0.8888888888888888,
             "#fdca26"
            ],
            [
             1,
             "#f0f921"
            ]
           ]
          },
          "colorway": [
           "#636efa",
           "#EF553B",
           "#00cc96",
           "#ab63fa",
           "#FFA15A",
           "#19d3f3",
           "#FF6692",
           "#B6E880",
           "#FF97FF",
           "#FECB52"
          ],
          "font": {
           "color": "#2a3f5f"
          },
          "geo": {
           "bgcolor": "white",
           "lakecolor": "white",
           "landcolor": "#E5ECF6",
           "showlakes": true,
           "showland": true,
           "subunitcolor": "white"
          },
          "hoverlabel": {
           "align": "left"
          },
          "hovermode": "closest",
          "mapbox": {
           "style": "light"
          },
          "paper_bgcolor": "white",
          "plot_bgcolor": "#E5ECF6",
          "polar": {
           "angularaxis": {
            "gridcolor": "white",
            "linecolor": "white",
            "ticks": ""
           },
           "bgcolor": "#E5ECF6",
           "radialaxis": {
            "gridcolor": "white",
            "linecolor": "white",
            "ticks": ""
           }
          },
          "scene": {
           "xaxis": {
            "backgroundcolor": "#E5ECF6",
            "gridcolor": "white",
            "gridwidth": 2,
            "linecolor": "white",
            "showbackground": true,
            "ticks": "",
            "zerolinecolor": "white"
           },
           "yaxis": {
            "backgroundcolor": "#E5ECF6",
            "gridcolor": "white",
            "gridwidth": 2,
            "linecolor": "white",
            "showbackground": true,
            "ticks": "",
            "zerolinecolor": "white"
           },
           "zaxis": {
            "backgroundcolor": "#E5ECF6",
            "gridcolor": "white",
            "gridwidth": 2,
            "linecolor": "white",
            "showbackground": true,
            "ticks": "",
            "zerolinecolor": "white"
           }
          },
          "shapedefaults": {
           "line": {
            "color": "#2a3f5f"
           }
          },
          "ternary": {
           "aaxis": {
            "gridcolor": "white",
            "linecolor": "white",
            "ticks": ""
           },
           "baxis": {
            "gridcolor": "white",
            "linecolor": "white",
            "ticks": ""
           },
           "bgcolor": "#E5ECF6",
           "caxis": {
            "gridcolor": "white",
            "linecolor": "white",
            "ticks": ""
           }
          },
          "title": {
           "x": 0.05
          },
          "xaxis": {
           "automargin": true,
           "gridcolor": "white",
           "linecolor": "white",
           "ticks": "",
           "title": {
            "standoff": 15
           },
           "zerolinecolor": "white",
           "zerolinewidth": 2
          },
          "yaxis": {
           "automargin": true,
           "gridcolor": "white",
           "linecolor": "white",
           "ticks": "",
           "title": {
            "standoff": 15
           },
           "zerolinecolor": "white",
           "zerolinewidth": 2
          }
         }
        },
        "title": {
         "text": "ISOMAP"
        },
        "xaxis": {
         "anchor": "y",
         "domain": [
          0,
          1
         ],
         "title": {
          "text": "PC1"
         }
        },
        "yaxis": {
         "anchor": "x",
         "domain": [
          0,
          1
         ],
         "title": {
          "text": "PC2"
         }
        }
       }
      }
     },
     "metadata": {},
     "output_type": "display_data"
    }
   ],
   "source": [
    "fig_isomap_2d = px.scatter(df_isomap, x='PC1', y='PC2', color = y,\n",
    "                    labels = {'color':'Tipo cultivo', 0:'PC1',1:'PC2'},\n",
    "                    title='ISOMAP')\n",
    "fig_isomap_2d.show()"
   ]
  },
  {
   "cell_type": "code",
   "execution_count": 338,
   "id": "73c1f900",
   "metadata": {},
   "outputs": [
    {
     "data": {
      "application/vnd.plotly.v1+json": {
       "config": {
        "plotlyServerURL": "https://plot.ly"
       },
       "data": [
        {
         "hovertemplate": "tipoCultivo=Trigo<br>PC1=%{x}<br>PC2=%{y}<extra></extra>",
         "legendgroup": "Trigo",
         "marker": {
          "color": "#636efa",
          "symbol": "circle"
         },
         "mode": "markers",
         "name": "Trigo",
         "orientation": "v",
         "showlegend": true,
         "type": "scatter",
         "x": {
          "bdata": "gti5xfBb6D+uA2kSb2gZwFjpwaZiARzAu03zH+eIEcCNhOBLtJT7Pz8l/trAowJAvk+IJjlMu78gRnJIhGQSQO6yGH7NFhFA5SyS06cPAsDFe5uXE6jzvxFNlrazhQ/A0Sy7HTHzqD+Zuyi8G30ZQGUnmfj21RVAiH+zfWmuFkCqPR6A9JgAQPVd+VCl5hPAx2TEZqTq97/HaNQxU+MaQLPYI2h2vB1ABAUOOrifF0BCYD64Mb70Pwx/I6FgaxfAE7iBxjdg4T9T4s5jxhgPwIQ+tO3ZIwbAzsbLB4P5BcCSJFIK5mIQQGeOAzp+HQPAr0dxg69nDsAtf8cZfxCQP5rnYeqtTx1AnJKqdLfJ/T9Zt10Vuo8fwDS5TIwazOu/OPVq3zCmIED9Nui9sWa2P5hRuOwaMglAt/MCLk4XCMDCs54I8HXjv+Wd4Zsb/BTARVT9FUGW4b8TQuclsTIfwA8zzi/2khHAX8GyC8v67D9dntDzEFXcv3Vvu7arrgjA",
          "dtype": "f8"
         },
         "xaxis": "x",
         "y": {
          "bdata": "3olB7F2NFEAIPT3T2oT2v4LncMyVTZ0/ETXDI5Ax5j8++gVEcTDfv86JgnsqrRbAj2A5lE4SFMBc+m6IKqH2v+s18NYz5hVAK2jC+xDOFcCriREcCZQbQLd/y9jv7gNADIaTRrbNAEA/UlJNnEgCwP/tV27+1RRAEFVqCXRN/z+rZ3y8HRoLQERKiO3Bmr2/qWKhe3UoCkCp5cy91DfeP0FeN9ZnGQpATLBj9s6H+T+47K9O4LUAQA66w3KCvwDAsV1pZuodGsCiiwUb46gBQFeRFz8yzxlAHA93dHuGGkCglIh7CsAbQIgXxefdmvu/u+7M3jESwL+aqaX52G7zPx+4i56Yx/I/20jxBrXhCsA2tk6QTaDMv3lP04g2FAFAuMyB0FGC0r9X/P8lm3/2PwoLXoWxU8Y/674IgRFyGUA8o74qbM4KQEUdW0Wc+QPAX7E6vYU58j/iVR8unQ3SPxaOkyY4bA7AZRPnaAgGBcDw3gTzAAkZQJf/NxqvwxjA",
          "dtype": "f8"
         },
         "yaxis": "y"
        },
        {
         "hovertemplate": "tipoCultivo=Maiz<br>PC1=%{x}<br>PC2=%{y}<extra></extra>",
         "legendgroup": "Maiz",
         "marker": {
          "color": "#EF553B",
          "symbol": "circle"
         },
         "mode": "markers",
         "name": "Maiz",
         "orientation": "v",
         "showlegend": true,
         "type": "scatter",
         "x": {
          "bdata": "6tw3I74/A0BhgYxx7Ov1v+PaJAOoNOe/czMpKp/3A8D9A/yvZjkNQN7PfZeWERHAdWBX5ZZUGMDXiw8d1DEOwES7KgxqhPM/0jF+tX5h/r+rdT38nhcTwGCAb5nUEgdAipNpxEHyEEBUUQffLHQSQG1PD1vZ/QfASjuBAoX7AED/8XaFV+QRQHkjjlCvJv0/KmPShe2dAECJ3ObykooaQD8MsAAOAwzA5bFWalqO/L/zRKmN7T8YwOdaa5dSRBDArGuA809JEEBCH8FwkqkeQMyyJ7E7TNk/ZfeKiy5m+78f1wOO2boFwFFFVBX1hOY/pr06VAI6IMCOYurwFLUSwF2gbOvjaxDAEy4/k8e+9D/ewDDs74oRQN63OpvHoh1A4HkMscjKHMAJvXXUwD0XQKNxvRwiAgVA7JDdjv6XAMAsM8aypNHwPwYgVk8QoQnA5RHe10Cb8r8LwueFr0IIQCjJHo6AnQ9AWJuDDSYt1T/w5FmS2WwDQKb3/19ftwDAW3HiEhSDFMATQ5Y1ewnhv8LzCxhHghNAnMCiENgLHkATMM0CpaMBwCkLXYXY4wJA",
          "dtype": "f8"
         },
         "xaxis": "x",
         "y": {
          "bdata": "e3aWNDmsAMBa8aGGUscbQAvar0iF0BxA/JUIXWrhB8Ddr5W45o8RwJFZakVE1BnAv8yqt7cOC8BtOomsf/Hzvyxcxe+JBBzA0aIZDp6wEsAKK92cU8P6vzA5veolGRnAvkQtlfJQFMCnUl0ivJgRwADnANIWnBNA3AUvPejJ+L8shlCiRCMJQHOcLgDTrfK/opl77V/k678Vv5ilnFTsv9H+6jbV2g7A0o5f/QAaEsCIYz2ZGAkOQETjNtrkcxNAsbuotWuIyT+QeIEVS6zmv7tI3CVx1hHAqogeOAel8b8jxtXPMSt9vx/lLRswUgdAENqID+Ut/L9Hh2oj4LCvv7eyYFH0mQrAdf4IsMMDIUBXxR5bmkQRQD7R1fZ59AZA/eIk4oNF+78t8Cd7dfcLwLH2Xp2s9wpArAEjeGW78D9DIRb118YEwOgJ4j21IgbA4VSJCWnx+L87utImz28VQG2ioI4HXw/AwqxkFuTkBsBI934a8kn8PzRyD1Cqc/i/M33I8I186j/spLoOsa/tv8cmSVfe9BHA5d+LXFrS6r8ZyxgNyWQTQAA73FpWJ+0/",
          "dtype": "f8"
         },
         "yaxis": "y"
        },
        {
         "hovertemplate": "tipoCultivo=Soja<br>PC1=%{x}<br>PC2=%{y}<extra></extra>",
         "legendgroup": "Soja",
         "marker": {
          "color": "#00cc96",
          "symbol": "circle"
         },
         "mode": "markers",
         "name": "Soja",
         "orientation": "v",
         "showlegend": true,
         "type": "scatter",
         "x": {
          "bdata": "F3XkXI3lEUB12AmlhH8MwB5y0gBtS+C/Rl/qT1cq4b+j4c7LNW8bQKtpugOypxlA0vc4q3VsFkAsFbh9+ycVQOY11EYaViBADmXxkRWm4D+CIeVjXm4SwE8JrHZuqPk/jfQAdfdyBMDaZDP4TW0YwL/9WZqurB5Atq9a14oqHcAOKKFLg4AFwNgseO3LvPQ/Ov/UHH4LD0DbFLtsBd8gwGwNDUVu7x1AqntBrSA887+XWjsTOEz7v4sOhDF+2gHANcZc2O1qIkA3FhHjHyqeP+/xa0sXrRDAad6HptmpAsBFpI8J4/wawFWQpzt4mRfA0bCuNDJd9L933uoRnAYNwDWDi8ebj90/aV5NN/JpCkBTpgPpnAP0vyfBuMVJTRHAM7n9Qn4hEMCnC8Lk2HATwOczm8sHM/2/wLHgRDBVFUAHLvFrUWDyvzHi7smTi92/IKmPE9gaDMCHbgQhxQ3kv6owPBUhNwNACJJg4ac0DsDlM4YfgP0dQK8cmshxk+C/mS/rPaiE97/CeZ3fSG70P+yognS4ahXADOLGwHqF97/6WOUXi7gZQJ9VmUIcD+M/F0ImUXXi/79wo88nnc4UQHZEAXVzwfa/2Nc5NwO4/T895w9F0yLyv72UqRuGaeI/btAsRvDUYr8=",
          "dtype": "f8"
         },
         "xaxis": "x",
         "y": {
          "bdata": "pL/KCb+A/L8tZYtcRTf1vx0V2AEPThjAWYAgqQWNEUBpxEemTWDOv37YunBBPui/iK/6ca/54z/R0aMAhXEEwCvSz1KtJvq/0SKa3EltFsA+jqVPglkaQAaDtsv2V/8/BcLJyQ2PEcAgyglo9mgTwBtzFBM8SgRAzmWWGM644r+jeqlKQAYOwFq9Y2i0yBFAH0aNHkTHFUDc7ItR6oL/P0egaXkkPOg//gLoF6Qy3b8inueuvLjmv+4TsLtbPsu/It6F42965r+BqPLdgtsbwKteA9FADOO/MGxY/qrB6j+dOZmJ8Wznvx4bi8+w1NK/a840hMcvBUDj03Edl5QIQBeE/HH/iRLAQ2rFU+d28L/n0v9PmfXYPwF5crnybNC/iRKuCNCICMAwAtQhhLz5P4e8UwVX1hjAdPQet8/x/L+IHD95MvMPwObXeZfRVxdAauCqQhEz97/x69Vc9hUcQNAbmkw3fuI/T35B8xYt4j/WucgomieyP+yngxdjXRTAg3rlvJcUCMC7YnjVb2L0P2yyfJnCRhZA3DtX/PHHDECU267DOhgPwBWHat3NZBPA1lSzxwFJJECT8SH2Ks/3vxTXA7311hVAIsAjcpwk9r8cx3l2RyoIQOu5Hy4GGB7AHs+A36uTH0A=",
          "dtype": "f8"
         },
         "yaxis": "y"
        }
       ],
       "layout": {
        "legend": {
         "title": {
          "text": "tipoCultivo"
         },
         "tracegroupgap": 0
        },
        "template": {
         "data": {
          "bar": [
           {
            "error_x": {
             "color": "#2a3f5f"
            },
            "error_y": {
             "color": "#2a3f5f"
            },
            "marker": {
             "line": {
              "color": "#E5ECF6",
              "width": 0.5
             },
             "pattern": {
              "fillmode": "overlay",
              "size": 10,
              "solidity": 0.2
             }
            },
            "type": "bar"
           }
          ],
          "barpolar": [
           {
            "marker": {
             "line": {
              "color": "#E5ECF6",
              "width": 0.5
             },
             "pattern": {
              "fillmode": "overlay",
              "size": 10,
              "solidity": 0.2
             }
            },
            "type": "barpolar"
           }
          ],
          "carpet": [
           {
            "aaxis": {
             "endlinecolor": "#2a3f5f",
             "gridcolor": "white",
             "linecolor": "white",
             "minorgridcolor": "white",
             "startlinecolor": "#2a3f5f"
            },
            "baxis": {
             "endlinecolor": "#2a3f5f",
             "gridcolor": "white",
             "linecolor": "white",
             "minorgridcolor": "white",
             "startlinecolor": "#2a3f5f"
            },
            "type": "carpet"
           }
          ],
          "choropleth": [
           {
            "colorbar": {
             "outlinewidth": 0,
             "ticks": ""
            },
            "type": "choropleth"
           }
          ],
          "contour": [
           {
            "colorbar": {
             "outlinewidth": 0,
             "ticks": ""
            },
            "colorscale": [
             [
              0,
              "#0d0887"
             ],
             [
              0.1111111111111111,
              "#46039f"
             ],
             [
              0.2222222222222222,
              "#7201a8"
             ],
             [
              0.3333333333333333,
              "#9c179e"
             ],
             [
              0.4444444444444444,
              "#bd3786"
             ],
             [
              0.5555555555555556,
              "#d8576b"
             ],
             [
              0.6666666666666666,
              "#ed7953"
             ],
             [
              0.7777777777777778,
              "#fb9f3a"
             ],
             [
              0.8888888888888888,
              "#fdca26"
             ],
             [
              1,
              "#f0f921"
             ]
            ],
            "type": "contour"
           }
          ],
          "contourcarpet": [
           {
            "colorbar": {
             "outlinewidth": 0,
             "ticks": ""
            },
            "type": "contourcarpet"
           }
          ],
          "heatmap": [
           {
            "colorbar": {
             "outlinewidth": 0,
             "ticks": ""
            },
            "colorscale": [
             [
              0,
              "#0d0887"
             ],
             [
              0.1111111111111111,
              "#46039f"
             ],
             [
              0.2222222222222222,
              "#7201a8"
             ],
             [
              0.3333333333333333,
              "#9c179e"
             ],
             [
              0.4444444444444444,
              "#bd3786"
             ],
             [
              0.5555555555555556,
              "#d8576b"
             ],
             [
              0.6666666666666666,
              "#ed7953"
             ],
             [
              0.7777777777777778,
              "#fb9f3a"
             ],
             [
              0.8888888888888888,
              "#fdca26"
             ],
             [
              1,
              "#f0f921"
             ]
            ],
            "type": "heatmap"
           }
          ],
          "histogram": [
           {
            "marker": {
             "pattern": {
              "fillmode": "overlay",
              "size": 10,
              "solidity": 0.2
             }
            },
            "type": "histogram"
           }
          ],
          "histogram2d": [
           {
            "colorbar": {
             "outlinewidth": 0,
             "ticks": ""
            },
            "colorscale": [
             [
              0,
              "#0d0887"
             ],
             [
              0.1111111111111111,
              "#46039f"
             ],
             [
              0.2222222222222222,
              "#7201a8"
             ],
             [
              0.3333333333333333,
              "#9c179e"
             ],
             [
              0.4444444444444444,
              "#bd3786"
             ],
             [
              0.5555555555555556,
              "#d8576b"
             ],
             [
              0.6666666666666666,
              "#ed7953"
             ],
             [
              0.7777777777777778,
              "#fb9f3a"
             ],
             [
              0.8888888888888888,
              "#fdca26"
             ],
             [
              1,
              "#f0f921"
             ]
            ],
            "type": "histogram2d"
           }
          ],
          "histogram2dcontour": [
           {
            "colorbar": {
             "outlinewidth": 0,
             "ticks": ""
            },
            "colorscale": [
             [
              0,
              "#0d0887"
             ],
             [
              0.1111111111111111,
              "#46039f"
             ],
             [
              0.2222222222222222,
              "#7201a8"
             ],
             [
              0.3333333333333333,
              "#9c179e"
             ],
             [
              0.4444444444444444,
              "#bd3786"
             ],
             [
              0.5555555555555556,
              "#d8576b"
             ],
             [
              0.6666666666666666,
              "#ed7953"
             ],
             [
              0.7777777777777778,
              "#fb9f3a"
             ],
             [
              0.8888888888888888,
              "#fdca26"
             ],
             [
              1,
              "#f0f921"
             ]
            ],
            "type": "histogram2dcontour"
           }
          ],
          "mesh3d": [
           {
            "colorbar": {
             "outlinewidth": 0,
             "ticks": ""
            },
            "type": "mesh3d"
           }
          ],
          "parcoords": [
           {
            "line": {
             "colorbar": {
              "outlinewidth": 0,
              "ticks": ""
             }
            },
            "type": "parcoords"
           }
          ],
          "pie": [
           {
            "automargin": true,
            "type": "pie"
           }
          ],
          "scatter": [
           {
            "fillpattern": {
             "fillmode": "overlay",
             "size": 10,
             "solidity": 0.2
            },
            "type": "scatter"
           }
          ],
          "scatter3d": [
           {
            "line": {
             "colorbar": {
              "outlinewidth": 0,
              "ticks": ""
             }
            },
            "marker": {
             "colorbar": {
              "outlinewidth": 0,
              "ticks": ""
             }
            },
            "type": "scatter3d"
           }
          ],
          "scattercarpet": [
           {
            "marker": {
             "colorbar": {
              "outlinewidth": 0,
              "ticks": ""
             }
            },
            "type": "scattercarpet"
           }
          ],
          "scattergeo": [
           {
            "marker": {
             "colorbar": {
              "outlinewidth": 0,
              "ticks": ""
             }
            },
            "type": "scattergeo"
           }
          ],
          "scattergl": [
           {
            "marker": {
             "colorbar": {
              "outlinewidth": 0,
              "ticks": ""
             }
            },
            "type": "scattergl"
           }
          ],
          "scattermap": [
           {
            "marker": {
             "colorbar": {
              "outlinewidth": 0,
              "ticks": ""
             }
            },
            "type": "scattermap"
           }
          ],
          "scattermapbox": [
           {
            "marker": {
             "colorbar": {
              "outlinewidth": 0,
              "ticks": ""
             }
            },
            "type": "scattermapbox"
           }
          ],
          "scatterpolar": [
           {
            "marker": {
             "colorbar": {
              "outlinewidth": 0,
              "ticks": ""
             }
            },
            "type": "scatterpolar"
           }
          ],
          "scatterpolargl": [
           {
            "marker": {
             "colorbar": {
              "outlinewidth": 0,
              "ticks": ""
             }
            },
            "type": "scatterpolargl"
           }
          ],
          "scatterternary": [
           {
            "marker": {
             "colorbar": {
              "outlinewidth": 0,
              "ticks": ""
             }
            },
            "type": "scatterternary"
           }
          ],
          "surface": [
           {
            "colorbar": {
             "outlinewidth": 0,
             "ticks": ""
            },
            "colorscale": [
             [
              0,
              "#0d0887"
             ],
             [
              0.1111111111111111,
              "#46039f"
             ],
             [
              0.2222222222222222,
              "#7201a8"
             ],
             [
              0.3333333333333333,
              "#9c179e"
             ],
             [
              0.4444444444444444,
              "#bd3786"
             ],
             [
              0.5555555555555556,
              "#d8576b"
             ],
             [
              0.6666666666666666,
              "#ed7953"
             ],
             [
              0.7777777777777778,
              "#fb9f3a"
             ],
             [
              0.8888888888888888,
              "#fdca26"
             ],
             [
              1,
              "#f0f921"
             ]
            ],
            "type": "surface"
           }
          ],
          "table": [
           {
            "cells": {
             "fill": {
              "color": "#EBF0F8"
             },
             "line": {
              "color": "white"
             }
            },
            "header": {
             "fill": {
              "color": "#C8D4E3"
             },
             "line": {
              "color": "white"
             }
            },
            "type": "table"
           }
          ]
         },
         "layout": {
          "annotationdefaults": {
           "arrowcolor": "#2a3f5f",
           "arrowhead": 0,
           "arrowwidth": 1
          },
          "autotypenumbers": "strict",
          "coloraxis": {
           "colorbar": {
            "outlinewidth": 0,
            "ticks": ""
           }
          },
          "colorscale": {
           "diverging": [
            [
             0,
             "#8e0152"
            ],
            [
             0.1,
             "#c51b7d"
            ],
            [
             0.2,
             "#de77ae"
            ],
            [
             0.3,
             "#f1b6da"
            ],
            [
             0.4,
             "#fde0ef"
            ],
            [
             0.5,
             "#f7f7f7"
            ],
            [
             0.6,
             "#e6f5d0"
            ],
            [
             0.7,
             "#b8e186"
            ],
            [
             0.8,
             "#7fbc41"
            ],
            [
             0.9,
             "#4d9221"
            ],
            [
             1,
             "#276419"
            ]
           ],
           "sequential": [
            [
             0,
             "#0d0887"
            ],
            [
             0.1111111111111111,
             "#46039f"
            ],
            [
             0.2222222222222222,
             "#7201a8"
            ],
            [
             0.3333333333333333,
             "#9c179e"
            ],
            [
             0.4444444444444444,
             "#bd3786"
            ],
            [
             0.5555555555555556,
             "#d8576b"
            ],
            [
             0.6666666666666666,
             "#ed7953"
            ],
            [
             0.7777777777777778,
             "#fb9f3a"
            ],
            [
             0.8888888888888888,
             "#fdca26"
            ],
            [
             1,
             "#f0f921"
            ]
           ],
           "sequentialminus": [
            [
             0,
             "#0d0887"
            ],
            [
             0.1111111111111111,
             "#46039f"
            ],
            [
             0.2222222222222222,
             "#7201a8"
            ],
            [
             0.3333333333333333,
             "#9c179e"
            ],
            [
             0.4444444444444444,
             "#bd3786"
            ],
            [
             0.5555555555555556,
             "#d8576b"
            ],
            [
             0.6666666666666666,
             "#ed7953"
            ],
            [
             0.7777777777777778,
             "#fb9f3a"
            ],
            [
             0.8888888888888888,
             "#fdca26"
            ],
            [
             1,
             "#f0f921"
            ]
           ]
          },
          "colorway": [
           "#636efa",
           "#EF553B",
           "#00cc96",
           "#ab63fa",
           "#FFA15A",
           "#19d3f3",
           "#FF6692",
           "#B6E880",
           "#FF97FF",
           "#FECB52"
          ],
          "font": {
           "color": "#2a3f5f"
          },
          "geo": {
           "bgcolor": "white",
           "lakecolor": "white",
           "landcolor": "#E5ECF6",
           "showlakes": true,
           "showland": true,
           "subunitcolor": "white"
          },
          "hoverlabel": {
           "align": "left"
          },
          "hovermode": "closest",
          "mapbox": {
           "style": "light"
          },
          "paper_bgcolor": "white",
          "plot_bgcolor": "#E5ECF6",
          "polar": {
           "angularaxis": {
            "gridcolor": "white",
            "linecolor": "white",
            "ticks": ""
           },
           "bgcolor": "#E5ECF6",
           "radialaxis": {
            "gridcolor": "white",
            "linecolor": "white",
            "ticks": ""
           }
          },
          "scene": {
           "xaxis": {
            "backgroundcolor": "#E5ECF6",
            "gridcolor": "white",
            "gridwidth": 2,
            "linecolor": "white",
            "showbackground": true,
            "ticks": "",
            "zerolinecolor": "white"
           },
           "yaxis": {
            "backgroundcolor": "#E5ECF6",
            "gridcolor": "white",
            "gridwidth": 2,
            "linecolor": "white",
            "showbackground": true,
            "ticks": "",
            "zerolinecolor": "white"
           },
           "zaxis": {
            "backgroundcolor": "#E5ECF6",
            "gridcolor": "white",
            "gridwidth": 2,
            "linecolor": "white",
            "showbackground": true,
            "ticks": "",
            "zerolinecolor": "white"
           }
          },
          "shapedefaults": {
           "line": {
            "color": "#2a3f5f"
           }
          },
          "ternary": {
           "aaxis": {
            "gridcolor": "white",
            "linecolor": "white",
            "ticks": ""
           },
           "baxis": {
            "gridcolor": "white",
            "linecolor": "white",
            "ticks": ""
           },
           "bgcolor": "#E5ECF6",
           "caxis": {
            "gridcolor": "white",
            "linecolor": "white",
            "ticks": ""
           }
          },
          "title": {
           "x": 0.05
          },
          "xaxis": {
           "automargin": true,
           "gridcolor": "white",
           "linecolor": "white",
           "ticks": "",
           "title": {
            "standoff": 15
           },
           "zerolinecolor": "white",
           "zerolinewidth": 2
          },
          "yaxis": {
           "automargin": true,
           "gridcolor": "white",
           "linecolor": "white",
           "ticks": "",
           "title": {
            "standoff": 15
           },
           "zerolinecolor": "white",
           "zerolinewidth": 2
          }
         }
        },
        "title": {
         "text": "ISOMAP con 5 vecinos y 2 componentes (mostrando PC1 y PC2)"
        },
        "xaxis": {
         "anchor": "y",
         "domain": [
          0,
          1
         ],
         "title": {
          "text": "PC1"
         }
        },
        "yaxis": {
         "anchor": "x",
         "domain": [
          0,
          1
         ],
         "title": {
          "text": "PC2"
         }
        }
       }
      }
     },
     "metadata": {},
     "output_type": "display_data"
    },
    {
     "data": {
      "application/vnd.plotly.v1+json": {
       "config": {
        "plotlyServerURL": "https://plot.ly"
       },
       "data": [
        {
         "hovertemplate": "tipoCultivo=Trigo<br>PC1=%{x}<br>PC2=%{y}<extra></extra>",
         "legendgroup": "Trigo",
         "marker": {
          "color": "#636efa",
          "symbol": "circle"
         },
         "mode": "markers",
         "name": "Trigo",
         "orientation": "v",
         "showlegend": true,
         "type": "scatter",
         "x": {
          "bdata": "gti5xfBb6D+uA2kSb2gZwFjpwaZiARzAu03zH+eIEcCNhOBLtJT7Pz8l/trAowJAvk+IJjlMu78gRnJIhGQSQO6yGH7NFhFA5SyS06cPAsDFe5uXE6jzvxFNlrazhQ/A0Sy7HTHzqD+Zuyi8G30ZQGUnmfj21RVAiH+zfWmuFkCqPR6A9JgAQPVd+VCl5hPAx2TEZqTq97/HaNQxU+MaQLPYI2h2vB1ABAUOOrifF0BCYD64Mb70Pwx/I6FgaxfAE7iBxjdg4T9T4s5jxhgPwIQ+tO3ZIwbAzsbLB4P5BcCSJFIK5mIQQGeOAzp+HQPAr0dxg69nDsAtf8cZfxCQP5rnYeqtTx1AnJKqdLfJ/T9Zt10Vuo8fwDS5TIwazOu/OPVq3zCmIED9Nui9sWa2P5hRuOwaMglAt/MCLk4XCMDCs54I8HXjv+Wd4Zsb/BTARVT9FUGW4b8TQuclsTIfwA8zzi/2khHAX8GyC8v67D9dntDzEFXcv3Vvu7arrgjA",
          "dtype": "f8"
         },
         "xaxis": "x",
         "y": {
          "bdata": "34lB7F2NFED8PD3T2oT2v/LncMyVTZ0/GzXDI5Ax5j9I+gVEcTDfv86JgnsqrRbAj2A5lE4SFMBd+m6IKqH2v+018NYz5hVALGjC+xDOFcCriREcCZQbQLd/y9jv7gNADoaTRrbNAEBBUlJNnEgCwADuV27+1RRADlVqCXRN/z+rZ3y8HRoLQHdKiO3Bmr2/q2Khe3UoCkCs5cy91DfeP0FeN9ZnGQpAULBj9s6H+T+47K9O4LUAQBC6w3KCvwDAsV1pZuodGsChiwUb46gBQFeRFz8yzxlAGg93dHuGGkCglIh7CsAbQIoXxefdmvu/yu7M3jESwL+cqaX52G7zPxm4i56Yx/I/20jxBrXhCsBgtk6QTaDMv3hP04g2FAFAzsyB0FGC0r9Y/P8lm3/2P/gKXoWxU8Y/7r4IgRFyGUA8o74qbM4KQEcdW0Wc+QPAXLE6vYU58j//VR8unQ3SPxaOkyY4bA7AYhPnaAgGBcDw3gTzAAkZQJn/NxqvwxjA",
          "dtype": "f8"
         },
         "yaxis": "y"
        },
        {
         "hovertemplate": "tipoCultivo=Maiz<br>PC1=%{x}<br>PC2=%{y}<extra></extra>",
         "legendgroup": "Maiz",
         "marker": {
          "color": "#EF553B",
          "symbol": "circle"
         },
         "mode": "markers",
         "name": "Maiz",
         "orientation": "v",
         "showlegend": true,
         "type": "scatter",
         "x": {
          "bdata": "6tw3I74/A0BhgYxx7Ov1v+PaJAOoNOe/czMpKp/3A8D9A/yvZjkNQN7PfZeWERHAdWBX5ZZUGMDXiw8d1DEOwES7KgxqhPM/0jF+tX5h/r+rdT38nhcTwGCAb5nUEgdAipNpxEHyEEBUUQffLHQSQG1PD1vZ/QfASjuBAoX7AED/8XaFV+QRQHkjjlCvJv0/KmPShe2dAECJ3ObykooaQD8MsAAOAwzA5bFWalqO/L/zRKmN7T8YwOdaa5dSRBDArGuA809JEEBCH8FwkqkeQMyyJ7E7TNk/ZfeKiy5m+78f1wOO2boFwFFFVBX1hOY/pr06VAI6IMCOYurwFLUSwF2gbOvjaxDAEy4/k8e+9D/ewDDs74oRQN63OpvHoh1A4HkMscjKHMAJvXXUwD0XQKNxvRwiAgVA7JDdjv6XAMAsM8aypNHwPwYgVk8QoQnA5RHe10Cb8r8LwueFr0IIQCjJHo6AnQ9AWJuDDSYt1T/w5FmS2WwDQKb3/19ftwDAW3HiEhSDFMATQ5Y1ewnhv8LzCxhHghNAnMCiENgLHkATMM0CpaMBwCkLXYXY4wJA",
          "dtype": "f8"
         },
         "xaxis": "x",
         "y": {
          "bdata": "b3aWNDmsAMBa8aGGUscbQAvar0iF0BxA+ZUIXWrhB8Dfr5W45o8RwJFZakVE1BnAwcyqt7cOC8BqOomsf/Hzvyxcxe+JBBzA0KIZDp6wEsAHK92cU8P6vzA5veolGRnAvUQtlfJQFMCmUl0ivJgRwP7mANIWnBNA2AUvPejJ+L8qhlCiRCMJQHGcLgDTrfK/ppl77V/k678av5ilnFTsv87+6jbV2g7A0Y5f/QAaEsCJYz2ZGAkOQEbjNtrkcxNAx7uotWuIyT+MeIEVS6zmv7pI3CVx1hHAqYgeOAel8b9oyNXPMSt9vyHlLRswUgdADdqID+Ut/L8Ah2oj4LCvv7eyYFH0mQrAdf4IsMMDIUBYxR5bmkQRQD7R1fZ59AZA/eIk4oNF+78t8Cd7dfcLwLH2Xp2s9wpApgEjeGW78D9AIRb118YEwOgJ4j21IgbA4VSJCWnx+L88utImz28VQGuioI4HXw/AwaxkFuTkBsBL934a8kn8PzVyD1Cqc/i/LX3I8I186j/ppLoOsa/tv8cmSVfe9BHA5N+LXFrS6r8ayxgNyWQTQP863FpWJ+0/",
          "dtype": "f8"
         },
         "yaxis": "y"
        },
        {
         "hovertemplate": "tipoCultivo=Soja<br>PC1=%{x}<br>PC2=%{y}<extra></extra>",
         "legendgroup": "Soja",
         "marker": {
          "color": "#00cc96",
          "symbol": "circle"
         },
         "mode": "markers",
         "name": "Soja",
         "orientation": "v",
         "showlegend": true,
         "type": "scatter",
         "x": {
          "bdata": "F3XkXI3lEUB12AmlhH8MwB5y0gBtS+C/Rl/qT1cq4b+j4c7LNW8bQKtpugOypxlA0vc4q3VsFkAsFbh9+ycVQOY11EYaViBADmXxkRWm4D+CIeVjXm4SwE8JrHZuqPk/jfQAdfdyBMDaZDP4TW0YwL/9WZqurB5Atq9a14oqHcAOKKFLg4AFwNgseO3LvPQ/Ov/UHH4LD0DbFLtsBd8gwGwNDUVu7x1AqntBrSA887+XWjsTOEz7v4sOhDF+2gHANcZc2O1qIkA3FhHjHyqeP+/xa0sXrRDAad6HptmpAsBFpI8J4/wawFWQpzt4mRfA0bCuNDJd9L933uoRnAYNwDWDi8ebj90/aV5NN/JpCkBTpgPpnAP0vyfBuMVJTRHAM7n9Qn4hEMCnC8Lk2HATwOczm8sHM/2/wLHgRDBVFUAHLvFrUWDyvzHi7smTi92/IKmPE9gaDMCHbgQhxQ3kv6owPBUhNwNACJJg4ac0DsDlM4YfgP0dQK8cmshxk+C/mS/rPaiE97/CeZ3fSG70P+yognS4ahXADOLGwHqF97/6WOUXi7gZQJ9VmUIcD+M/F0ImUXXi/79wo88nnc4UQHZEAXVzwfa/2Nc5NwO4/T895w9F0yLyv72UqRuGaeI/btAsRvDUYr8=",
          "dtype": "f8"
         },
         "xaxis": "x",
         "y": {
          "bdata": "jL/KCb+A/L8wZYtcRTf1vx8V2AEPThjAV4AgqQWNEUBvxEemTWDOv4LYunBBPui/iK/6ca/54z/Q0aMAhXEEwCrSz1KtJvq/0SKa3EltFsA/jqVPglkaQASDtsv2V/8/BsLJyQ2PEcAgyglo9mgTwBxzFBM8SgRAzmWWGM644r+geqlKQAYOwFq9Y2i0yBFAHkaNHkTHFUDZ7ItR6oL/P0GgaXkkPOg/+wLoF6Qy3b8inueuvLjmv+wTsLtbPsu/Kt6F42965r+BqPLdgtsbwKNeA9FADOO/NGxY/qrB6j+XOZmJ8Wznvycbi8+w1NK/bs40hMcvBUDj03Edl5QIQBaE/HH/iRLAQWrFU+d28L/h0v9PmfXYP+l4crnybNC/jBKuCNCICMA1AtQhhLz5P4W8UwVX1hjAcfQet8/x/L+KHD95MvMPwObXeZfRVxdAaeCqQhEz97/x69Vc9hUcQMcbmkw3fuI/Tn5B8xYt4j/BucgomieyP+yngxdjXRTAg3rlvJcUCMC+YnjVb2L0P2uyfJnCRhZA3DtX/PHHDECR267DOhgPwBWHat3NZBPA1lSzxwFJJECT8SH2Ks/3vxLXA7311hVAJMAjcpwk9r8ax3l2RyoIQO25Hy4GGB7AHs+A36uTH0A=",
          "dtype": "f8"
         },
         "yaxis": "y"
        }
       ],
       "layout": {
        "legend": {
         "title": {
          "text": "tipoCultivo"
         },
         "tracegroupgap": 0
        },
        "template": {
         "data": {
          "bar": [
           {
            "error_x": {
             "color": "#2a3f5f"
            },
            "error_y": {
             "color": "#2a3f5f"
            },
            "marker": {
             "line": {
              "color": "#E5ECF6",
              "width": 0.5
             },
             "pattern": {
              "fillmode": "overlay",
              "size": 10,
              "solidity": 0.2
             }
            },
            "type": "bar"
           }
          ],
          "barpolar": [
           {
            "marker": {
             "line": {
              "color": "#E5ECF6",
              "width": 0.5
             },
             "pattern": {
              "fillmode": "overlay",
              "size": 10,
              "solidity": 0.2
             }
            },
            "type": "barpolar"
           }
          ],
          "carpet": [
           {
            "aaxis": {
             "endlinecolor": "#2a3f5f",
             "gridcolor": "white",
             "linecolor": "white",
             "minorgridcolor": "white",
             "startlinecolor": "#2a3f5f"
            },
            "baxis": {
             "endlinecolor": "#2a3f5f",
             "gridcolor": "white",
             "linecolor": "white",
             "minorgridcolor": "white",
             "startlinecolor": "#2a3f5f"
            },
            "type": "carpet"
           }
          ],
          "choropleth": [
           {
            "colorbar": {
             "outlinewidth": 0,
             "ticks": ""
            },
            "type": "choropleth"
           }
          ],
          "contour": [
           {
            "colorbar": {
             "outlinewidth": 0,
             "ticks": ""
            },
            "colorscale": [
             [
              0,
              "#0d0887"
             ],
             [
              0.1111111111111111,
              "#46039f"
             ],
             [
              0.2222222222222222,
              "#7201a8"
             ],
             [
              0.3333333333333333,
              "#9c179e"
             ],
             [
              0.4444444444444444,
              "#bd3786"
             ],
             [
              0.5555555555555556,
              "#d8576b"
             ],
             [
              0.6666666666666666,
              "#ed7953"
             ],
             [
              0.7777777777777778,
              "#fb9f3a"
             ],
             [
              0.8888888888888888,
              "#fdca26"
             ],
             [
              1,
              "#f0f921"
             ]
            ],
            "type": "contour"
           }
          ],
          "contourcarpet": [
           {
            "colorbar": {
             "outlinewidth": 0,
             "ticks": ""
            },
            "type": "contourcarpet"
           }
          ],
          "heatmap": [
           {
            "colorbar": {
             "outlinewidth": 0,
             "ticks": ""
            },
            "colorscale": [
             [
              0,
              "#0d0887"
             ],
             [
              0.1111111111111111,
              "#46039f"
             ],
             [
              0.2222222222222222,
              "#7201a8"
             ],
             [
              0.3333333333333333,
              "#9c179e"
             ],
             [
              0.4444444444444444,
              "#bd3786"
             ],
             [
              0.5555555555555556,
              "#d8576b"
             ],
             [
              0.6666666666666666,
              "#ed7953"
             ],
             [
              0.7777777777777778,
              "#fb9f3a"
             ],
             [
              0.8888888888888888,
              "#fdca26"
             ],
             [
              1,
              "#f0f921"
             ]
            ],
            "type": "heatmap"
           }
          ],
          "histogram": [
           {
            "marker": {
             "pattern": {
              "fillmode": "overlay",
              "size": 10,
              "solidity": 0.2
             }
            },
            "type": "histogram"
           }
          ],
          "histogram2d": [
           {
            "colorbar": {
             "outlinewidth": 0,
             "ticks": ""
            },
            "colorscale": [
             [
              0,
              "#0d0887"
             ],
             [
              0.1111111111111111,
              "#46039f"
             ],
             [
              0.2222222222222222,
              "#7201a8"
             ],
             [
              0.3333333333333333,
              "#9c179e"
             ],
             [
              0.4444444444444444,
              "#bd3786"
             ],
             [
              0.5555555555555556,
              "#d8576b"
             ],
             [
              0.6666666666666666,
              "#ed7953"
             ],
             [
              0.7777777777777778,
              "#fb9f3a"
             ],
             [
              0.8888888888888888,
              "#fdca26"
             ],
             [
              1,
              "#f0f921"
             ]
            ],
            "type": "histogram2d"
           }
          ],
          "histogram2dcontour": [
           {
            "colorbar": {
             "outlinewidth": 0,
             "ticks": ""
            },
            "colorscale": [
             [
              0,
              "#0d0887"
             ],
             [
              0.1111111111111111,
              "#46039f"
             ],
             [
              0.2222222222222222,
              "#7201a8"
             ],
             [
              0.3333333333333333,
              "#9c179e"
             ],
             [
              0.4444444444444444,
              "#bd3786"
             ],
             [
              0.5555555555555556,
              "#d8576b"
             ],
             [
              0.6666666666666666,
              "#ed7953"
             ],
             [
              0.7777777777777778,
              "#fb9f3a"
             ],
             [
              0.8888888888888888,
              "#fdca26"
             ],
             [
              1,
              "#f0f921"
             ]
            ],
            "type": "histogram2dcontour"
           }
          ],
          "mesh3d": [
           {
            "colorbar": {
             "outlinewidth": 0,
             "ticks": ""
            },
            "type": "mesh3d"
           }
          ],
          "parcoords": [
           {
            "line": {
             "colorbar": {
              "outlinewidth": 0,
              "ticks": ""
             }
            },
            "type": "parcoords"
           }
          ],
          "pie": [
           {
            "automargin": true,
            "type": "pie"
           }
          ],
          "scatter": [
           {
            "fillpattern": {
             "fillmode": "overlay",
             "size": 10,
             "solidity": 0.2
            },
            "type": "scatter"
           }
          ],
          "scatter3d": [
           {
            "line": {
             "colorbar": {
              "outlinewidth": 0,
              "ticks": ""
             }
            },
            "marker": {
             "colorbar": {
              "outlinewidth": 0,
              "ticks": ""
             }
            },
            "type": "scatter3d"
           }
          ],
          "scattercarpet": [
           {
            "marker": {
             "colorbar": {
              "outlinewidth": 0,
              "ticks": ""
             }
            },
            "type": "scattercarpet"
           }
          ],
          "scattergeo": [
           {
            "marker": {
             "colorbar": {
              "outlinewidth": 0,
              "ticks": ""
             }
            },
            "type": "scattergeo"
           }
          ],
          "scattergl": [
           {
            "marker": {
             "colorbar": {
              "outlinewidth": 0,
              "ticks": ""
             }
            },
            "type": "scattergl"
           }
          ],
          "scattermap": [
           {
            "marker": {
             "colorbar": {
              "outlinewidth": 0,
              "ticks": ""
             }
            },
            "type": "scattermap"
           }
          ],
          "scattermapbox": [
           {
            "marker": {
             "colorbar": {
              "outlinewidth": 0,
              "ticks": ""
             }
            },
            "type": "scattermapbox"
           }
          ],
          "scatterpolar": [
           {
            "marker": {
             "colorbar": {
              "outlinewidth": 0,
              "ticks": ""
             }
            },
            "type": "scatterpolar"
           }
          ],
          "scatterpolargl": [
           {
            "marker": {
             "colorbar": {
              "outlinewidth": 0,
              "ticks": ""
             }
            },
            "type": "scatterpolargl"
           }
          ],
          "scatterternary": [
           {
            "marker": {
             "colorbar": {
              "outlinewidth": 0,
              "ticks": ""
             }
            },
            "type": "scatterternary"
           }
          ],
          "surface": [
           {
            "colorbar": {
             "outlinewidth": 0,
             "ticks": ""
            },
            "colorscale": [
             [
              0,
              "#0d0887"
             ],
             [
              0.1111111111111111,
              "#46039f"
             ],
             [
              0.2222222222222222,
              "#7201a8"
             ],
             [
              0.3333333333333333,
              "#9c179e"
             ],
             [
              0.4444444444444444,
              "#bd3786"
             ],
             [
              0.5555555555555556,
              "#d8576b"
             ],
             [
              0.6666666666666666,
              "#ed7953"
             ],
             [
              0.7777777777777778,
              "#fb9f3a"
             ],
             [
              0.8888888888888888,
              "#fdca26"
             ],
             [
              1,
              "#f0f921"
             ]
            ],
            "type": "surface"
           }
          ],
          "table": [
           {
            "cells": {
             "fill": {
              "color": "#EBF0F8"
             },
             "line": {
              "color": "white"
             }
            },
            "header": {
             "fill": {
              "color": "#C8D4E3"
             },
             "line": {
              "color": "white"
             }
            },
            "type": "table"
           }
          ]
         },
         "layout": {
          "annotationdefaults": {
           "arrowcolor": "#2a3f5f",
           "arrowhead": 0,
           "arrowwidth": 1
          },
          "autotypenumbers": "strict",
          "coloraxis": {
           "colorbar": {
            "outlinewidth": 0,
            "ticks": ""
           }
          },
          "colorscale": {
           "diverging": [
            [
             0,
             "#8e0152"
            ],
            [
             0.1,
             "#c51b7d"
            ],
            [
             0.2,
             "#de77ae"
            ],
            [
             0.3,
             "#f1b6da"
            ],
            [
             0.4,
             "#fde0ef"
            ],
            [
             0.5,
             "#f7f7f7"
            ],
            [
             0.6,
             "#e6f5d0"
            ],
            [
             0.7,
             "#b8e186"
            ],
            [
             0.8,
             "#7fbc41"
            ],
            [
             0.9,
             "#4d9221"
            ],
            [
             1,
             "#276419"
            ]
           ],
           "sequential": [
            [
             0,
             "#0d0887"
            ],
            [
             0.1111111111111111,
             "#46039f"
            ],
            [
             0.2222222222222222,
             "#7201a8"
            ],
            [
             0.3333333333333333,
             "#9c179e"
            ],
            [
             0.4444444444444444,
             "#bd3786"
            ],
            [
             0.5555555555555556,
             "#d8576b"
            ],
            [
             0.6666666666666666,
             "#ed7953"
            ],
            [
             0.7777777777777778,
             "#fb9f3a"
            ],
            [
             0.8888888888888888,
             "#fdca26"
            ],
            [
             1,
             "#f0f921"
            ]
           ],
           "sequentialminus": [
            [
             0,
             "#0d0887"
            ],
            [
             0.1111111111111111,
             "#46039f"
            ],
            [
             0.2222222222222222,
             "#7201a8"
            ],
            [
             0.3333333333333333,
             "#9c179e"
            ],
            [
             0.4444444444444444,
             "#bd3786"
            ],
            [
             0.5555555555555556,
             "#d8576b"
            ],
            [
             0.6666666666666666,
             "#ed7953"
            ],
            [
             0.7777777777777778,
             "#fb9f3a"
            ],
            [
             0.8888888888888888,
             "#fdca26"
            ],
            [
             1,
             "#f0f921"
            ]
           ]
          },
          "colorway": [
           "#636efa",
           "#EF553B",
           "#00cc96",
           "#ab63fa",
           "#FFA15A",
           "#19d3f3",
           "#FF6692",
           "#B6E880",
           "#FF97FF",
           "#FECB52"
          ],
          "font": {
           "color": "#2a3f5f"
          },
          "geo": {
           "bgcolor": "white",
           "lakecolor": "white",
           "landcolor": "#E5ECF6",
           "showlakes": true,
           "showland": true,
           "subunitcolor": "white"
          },
          "hoverlabel": {
           "align": "left"
          },
          "hovermode": "closest",
          "mapbox": {
           "style": "light"
          },
          "paper_bgcolor": "white",
          "plot_bgcolor": "#E5ECF6",
          "polar": {
           "angularaxis": {
            "gridcolor": "white",
            "linecolor": "white",
            "ticks": ""
           },
           "bgcolor": "#E5ECF6",
           "radialaxis": {
            "gridcolor": "white",
            "linecolor": "white",
            "ticks": ""
           }
          },
          "scene": {
           "xaxis": {
            "backgroundcolor": "#E5ECF6",
            "gridcolor": "white",
            "gridwidth": 2,
            "linecolor": "white",
            "showbackground": true,
            "ticks": "",
            "zerolinecolor": "white"
           },
           "yaxis": {
            "backgroundcolor": "#E5ECF6",
            "gridcolor": "white",
            "gridwidth": 2,
            "linecolor": "white",
            "showbackground": true,
            "ticks": "",
            "zerolinecolor": "white"
           },
           "zaxis": {
            "backgroundcolor": "#E5ECF6",
            "gridcolor": "white",
            "gridwidth": 2,
            "linecolor": "white",
            "showbackground": true,
            "ticks": "",
            "zerolinecolor": "white"
           }
          },
          "shapedefaults": {
           "line": {
            "color": "#2a3f5f"
           }
          },
          "ternary": {
           "aaxis": {
            "gridcolor": "white",
            "linecolor": "white",
            "ticks": ""
           },
           "baxis": {
            "gridcolor": "white",
            "linecolor": "white",
            "ticks": ""
           },
           "bgcolor": "#E5ECF6",
           "caxis": {
            "gridcolor": "white",
            "linecolor": "white",
            "ticks": ""
           }
          },
          "title": {
           "x": 0.05
          },
          "xaxis": {
           "automargin": true,
           "gridcolor": "white",
           "linecolor": "white",
           "ticks": "",
           "title": {
            "standoff": 15
           },
           "zerolinecolor": "white",
           "zerolinewidth": 2
          },
          "yaxis": {
           "automargin": true,
           "gridcolor": "white",
           "linecolor": "white",
           "ticks": "",
           "title": {
            "standoff": 15
           },
           "zerolinecolor": "white",
           "zerolinewidth": 2
          }
         }
        },
        "title": {
         "text": "ISOMAP con 5 vecinos y 3 componentes (mostrando PC1 y PC2)"
        },
        "xaxis": {
         "anchor": "y",
         "domain": [
          0,
          1
         ],
         "title": {
          "text": "PC1"
         }
        },
        "yaxis": {
         "anchor": "x",
         "domain": [
          0,
          1
         ],
         "title": {
          "text": "PC2"
         }
        }
       }
      }
     },
     "metadata": {},
     "output_type": "display_data"
    },
    {
     "data": {
      "application/vnd.plotly.v1+json": {
       "config": {
        "plotlyServerURL": "https://plot.ly"
       },
       "data": [
        {
         "hovertemplate": "tipoCultivo=Trigo<br>PC1=%{x}<br>PC2=%{y}<extra></extra>",
         "legendgroup": "Trigo",
         "marker": {
          "color": "#636efa",
          "symbol": "circle"
         },
         "mode": "markers",
         "name": "Trigo",
         "orientation": "v",
         "showlegend": true,
         "type": "scatter",
         "x": {
          "bdata": "gti5xfBb6D+uA2kSb2gZwFjpwaZiARzAu03zH+eIEcCNhOBLtJT7Pz8l/trAowJAvk+IJjlMu78gRnJIhGQSQO6yGH7NFhFA5SyS06cPAsDFe5uXE6jzvxFNlrazhQ/A0Sy7HTHzqD+Zuyi8G30ZQGUnmfj21RVAiH+zfWmuFkCqPR6A9JgAQPVd+VCl5hPAx2TEZqTq97/HaNQxU+MaQLPYI2h2vB1ABAUOOrifF0BCYD64Mb70Pwx/I6FgaxfAE7iBxjdg4T9T4s5jxhgPwIQ+tO3ZIwbAzsbLB4P5BcCSJFIK5mIQQGeOAzp+HQPAr0dxg69nDsAtf8cZfxCQP5rnYeqtTx1AnJKqdLfJ/T9Zt10Vuo8fwDS5TIwazOu/OPVq3zCmIED9Nui9sWa2P5hRuOwaMglAt/MCLk4XCMDCs54I8HXjv+Wd4Zsb/BTARVT9FUGW4b8TQuclsTIfwA8zzi/2khHAX8GyC8v67D9dntDzEFXcv3Vvu7arrgjA",
          "dtype": "f8"
         },
         "xaxis": "x",
         "y": {
          "bdata": "3olB7F2NFEAIPT3T2oT2v4LncMyVTZ0/ETXDI5Ax5j8++gVEcTDfv86JgnsqrRbAj2A5lE4SFMBc+m6IKqH2v+s18NYz5hVAK2jC+xDOFcCriREcCZQbQLd/y9jv7gNADIaTRrbNAEA/UlJNnEgCwP/tV27+1RRAEFVqCXRN/z+rZ3y8HRoLQERKiO3Bmr2/qWKhe3UoCkCp5cy91DfeP0FeN9ZnGQpATLBj9s6H+T+47K9O4LUAQA66w3KCvwDAsV1pZuodGsCiiwUb46gBQFeRFz8yzxlAHA93dHuGGkCglIh7CsAbQIgXxefdmvu/u+7M3jESwL+aqaX52G7zPx+4i56Yx/I/20jxBrXhCsA2tk6QTaDMv3lP04g2FAFAuMyB0FGC0r9X/P8lm3/2PwoLXoWxU8Y/674IgRFyGUA8o74qbM4KQEUdW0Wc+QPAX7E6vYU58j/iVR8unQ3SPxaOkyY4bA7AZRPnaAgGBcDw3gTzAAkZQJf/NxqvwxjA",
          "dtype": "f8"
         },
         "yaxis": "y"
        },
        {
         "hovertemplate": "tipoCultivo=Maiz<br>PC1=%{x}<br>PC2=%{y}<extra></extra>",
         "legendgroup": "Maiz",
         "marker": {
          "color": "#EF553B",
          "symbol": "circle"
         },
         "mode": "markers",
         "name": "Maiz",
         "orientation": "v",
         "showlegend": true,
         "type": "scatter",
         "x": {
          "bdata": "6tw3I74/A0BhgYxx7Ov1v+PaJAOoNOe/czMpKp/3A8D9A/yvZjkNQN7PfZeWERHAdWBX5ZZUGMDXiw8d1DEOwES7KgxqhPM/0jF+tX5h/r+rdT38nhcTwGCAb5nUEgdAipNpxEHyEEBUUQffLHQSQG1PD1vZ/QfASjuBAoX7AED/8XaFV+QRQHkjjlCvJv0/KmPShe2dAECJ3ObykooaQD8MsAAOAwzA5bFWalqO/L/zRKmN7T8YwOdaa5dSRBDArGuA809JEEBCH8FwkqkeQMyyJ7E7TNk/ZfeKiy5m+78f1wOO2boFwFFFVBX1hOY/pr06VAI6IMCOYurwFLUSwF2gbOvjaxDAEy4/k8e+9D/ewDDs74oRQN63OpvHoh1A4HkMscjKHMAJvXXUwD0XQKNxvRwiAgVA7JDdjv6XAMAsM8aypNHwPwYgVk8QoQnA5RHe10Cb8r8LwueFr0IIQCjJHo6AnQ9AWJuDDSYt1T/w5FmS2WwDQKb3/19ftwDAW3HiEhSDFMATQ5Y1ewnhv8LzCxhHghNAnMCiENgLHkATMM0CpaMBwCkLXYXY4wJA",
          "dtype": "f8"
         },
         "xaxis": "x",
         "y": {
          "bdata": "e3aWNDmsAMBa8aGGUscbQAvar0iF0BxA/JUIXWrhB8Ddr5W45o8RwJFZakVE1BnAv8yqt7cOC8BtOomsf/Hzvyxcxe+JBBzA0aIZDp6wEsAKK92cU8P6vzA5veolGRnAvkQtlfJQFMCnUl0ivJgRwADnANIWnBNA3AUvPejJ+L8shlCiRCMJQHOcLgDTrfK/opl77V/k678Vv5ilnFTsv9H+6jbV2g7A0o5f/QAaEsCIYz2ZGAkOQETjNtrkcxNAsbuotWuIyT+QeIEVS6zmv7tI3CVx1hHAqogeOAel8b8jxtXPMSt9vx/lLRswUgdAENqID+Ut/L9Hh2oj4LCvv7eyYFH0mQrAdf4IsMMDIUBXxR5bmkQRQD7R1fZ59AZA/eIk4oNF+78t8Cd7dfcLwLH2Xp2s9wpArAEjeGW78D9DIRb118YEwOgJ4j21IgbA4VSJCWnx+L87utImz28VQG2ioI4HXw/AwqxkFuTkBsBI934a8kn8PzRyD1Cqc/i/M33I8I186j/spLoOsa/tv8cmSVfe9BHA5d+LXFrS6r8ZyxgNyWQTQAA73FpWJ+0/",
          "dtype": "f8"
         },
         "yaxis": "y"
        },
        {
         "hovertemplate": "tipoCultivo=Soja<br>PC1=%{x}<br>PC2=%{y}<extra></extra>",
         "legendgroup": "Soja",
         "marker": {
          "color": "#00cc96",
          "symbol": "circle"
         },
         "mode": "markers",
         "name": "Soja",
         "orientation": "v",
         "showlegend": true,
         "type": "scatter",
         "x": {
          "bdata": "F3XkXI3lEUB12AmlhH8MwB5y0gBtS+C/Rl/qT1cq4b+j4c7LNW8bQKtpugOypxlA0vc4q3VsFkAsFbh9+ycVQOY11EYaViBADmXxkRWm4D+CIeVjXm4SwE8JrHZuqPk/jfQAdfdyBMDaZDP4TW0YwL/9WZqurB5Atq9a14oqHcAOKKFLg4AFwNgseO3LvPQ/Ov/UHH4LD0DbFLtsBd8gwGwNDUVu7x1AqntBrSA887+XWjsTOEz7v4sOhDF+2gHANcZc2O1qIkA3FhHjHyqeP+/xa0sXrRDAad6HptmpAsBFpI8J4/wawFWQpzt4mRfA0bCuNDJd9L933uoRnAYNwDWDi8ebj90/aV5NN/JpCkBTpgPpnAP0vyfBuMVJTRHAM7n9Qn4hEMCnC8Lk2HATwOczm8sHM/2/wLHgRDBVFUAHLvFrUWDyvzHi7smTi92/IKmPE9gaDMCHbgQhxQ3kv6owPBUhNwNACJJg4ac0DsDlM4YfgP0dQK8cmshxk+C/mS/rPaiE97/CeZ3fSG70P+yognS4ahXADOLGwHqF97/6WOUXi7gZQJ9VmUIcD+M/F0ImUXXi/79wo88nnc4UQHZEAXVzwfa/2Nc5NwO4/T895w9F0yLyv72UqRuGaeI/btAsRvDUYr8=",
          "dtype": "f8"
         },
         "xaxis": "x",
         "y": {
          "bdata": "pL/KCb+A/L8tZYtcRTf1vx0V2AEPThjAWYAgqQWNEUBpxEemTWDOv37YunBBPui/iK/6ca/54z/R0aMAhXEEwCvSz1KtJvq/0SKa3EltFsA+jqVPglkaQAaDtsv2V/8/BcLJyQ2PEcAgyglo9mgTwBtzFBM8SgRAzmWWGM644r+jeqlKQAYOwFq9Y2i0yBFAH0aNHkTHFUDc7ItR6oL/P0egaXkkPOg//gLoF6Qy3b8inueuvLjmv+4TsLtbPsu/It6F42965r+BqPLdgtsbwKteA9FADOO/MGxY/qrB6j+dOZmJ8Wznvx4bi8+w1NK/a840hMcvBUDj03Edl5QIQBeE/HH/iRLAQ2rFU+d28L/n0v9PmfXYPwF5crnybNC/iRKuCNCICMAwAtQhhLz5P4e8UwVX1hjAdPQet8/x/L+IHD95MvMPwObXeZfRVxdAauCqQhEz97/x69Vc9hUcQNAbmkw3fuI/T35B8xYt4j/WucgomieyP+yngxdjXRTAg3rlvJcUCMC7YnjVb2L0P2yyfJnCRhZA3DtX/PHHDECU267DOhgPwBWHat3NZBPA1lSzxwFJJECT8SH2Ks/3vxTXA7311hVAIsAjcpwk9r8cx3l2RyoIQOu5Hy4GGB7AHs+A36uTH0A=",
          "dtype": "f8"
         },
         "yaxis": "y"
        }
       ],
       "layout": {
        "legend": {
         "title": {
          "text": "tipoCultivo"
         },
         "tracegroupgap": 0
        },
        "template": {
         "data": {
          "bar": [
           {
            "error_x": {
             "color": "#2a3f5f"
            },
            "error_y": {
             "color": "#2a3f5f"
            },
            "marker": {
             "line": {
              "color": "#E5ECF6",
              "width": 0.5
             },
             "pattern": {
              "fillmode": "overlay",
              "size": 10,
              "solidity": 0.2
             }
            },
            "type": "bar"
           }
          ],
          "barpolar": [
           {
            "marker": {
             "line": {
              "color": "#E5ECF6",
              "width": 0.5
             },
             "pattern": {
              "fillmode": "overlay",
              "size": 10,
              "solidity": 0.2
             }
            },
            "type": "barpolar"
           }
          ],
          "carpet": [
           {
            "aaxis": {
             "endlinecolor": "#2a3f5f",
             "gridcolor": "white",
             "linecolor": "white",
             "minorgridcolor": "white",
             "startlinecolor": "#2a3f5f"
            },
            "baxis": {
             "endlinecolor": "#2a3f5f",
             "gridcolor": "white",
             "linecolor": "white",
             "minorgridcolor": "white",
             "startlinecolor": "#2a3f5f"
            },
            "type": "carpet"
           }
          ],
          "choropleth": [
           {
            "colorbar": {
             "outlinewidth": 0,
             "ticks": ""
            },
            "type": "choropleth"
           }
          ],
          "contour": [
           {
            "colorbar": {
             "outlinewidth": 0,
             "ticks": ""
            },
            "colorscale": [
             [
              0,
              "#0d0887"
             ],
             [
              0.1111111111111111,
              "#46039f"
             ],
             [
              0.2222222222222222,
              "#7201a8"
             ],
             [
              0.3333333333333333,
              "#9c179e"
             ],
             [
              0.4444444444444444,
              "#bd3786"
             ],
             [
              0.5555555555555556,
              "#d8576b"
             ],
             [
              0.6666666666666666,
              "#ed7953"
             ],
             [
              0.7777777777777778,
              "#fb9f3a"
             ],
             [
              0.8888888888888888,
              "#fdca26"
             ],
             [
              1,
              "#f0f921"
             ]
            ],
            "type": "contour"
           }
          ],
          "contourcarpet": [
           {
            "colorbar": {
             "outlinewidth": 0,
             "ticks": ""
            },
            "type": "contourcarpet"
           }
          ],
          "heatmap": [
           {
            "colorbar": {
             "outlinewidth": 0,
             "ticks": ""
            },
            "colorscale": [
             [
              0,
              "#0d0887"
             ],
             [
              0.1111111111111111,
              "#46039f"
             ],
             [
              0.2222222222222222,
              "#7201a8"
             ],
             [
              0.3333333333333333,
              "#9c179e"
             ],
             [
              0.4444444444444444,
              "#bd3786"
             ],
             [
              0.5555555555555556,
              "#d8576b"
             ],
             [
              0.6666666666666666,
              "#ed7953"
             ],
             [
              0.7777777777777778,
              "#fb9f3a"
             ],
             [
              0.8888888888888888,
              "#fdca26"
             ],
             [
              1,
              "#f0f921"
             ]
            ],
            "type": "heatmap"
           }
          ],
          "histogram": [
           {
            "marker": {
             "pattern": {
              "fillmode": "overlay",
              "size": 10,
              "solidity": 0.2
             }
            },
            "type": "histogram"
           }
          ],
          "histogram2d": [
           {
            "colorbar": {
             "outlinewidth": 0,
             "ticks": ""
            },
            "colorscale": [
             [
              0,
              "#0d0887"
             ],
             [
              0.1111111111111111,
              "#46039f"
             ],
             [
              0.2222222222222222,
              "#7201a8"
             ],
             [
              0.3333333333333333,
              "#9c179e"
             ],
             [
              0.4444444444444444,
              "#bd3786"
             ],
             [
              0.5555555555555556,
              "#d8576b"
             ],
             [
              0.6666666666666666,
              "#ed7953"
             ],
             [
              0.7777777777777778,
              "#fb9f3a"
             ],
             [
              0.8888888888888888,
              "#fdca26"
             ],
             [
              1,
              "#f0f921"
             ]
            ],
            "type": "histogram2d"
           }
          ],
          "histogram2dcontour": [
           {
            "colorbar": {
             "outlinewidth": 0,
             "ticks": ""
            },
            "colorscale": [
             [
              0,
              "#0d0887"
             ],
             [
              0.1111111111111111,
              "#46039f"
             ],
             [
              0.2222222222222222,
              "#7201a8"
             ],
             [
              0.3333333333333333,
              "#9c179e"
             ],
             [
              0.4444444444444444,
              "#bd3786"
             ],
             [
              0.5555555555555556,
              "#d8576b"
             ],
             [
              0.6666666666666666,
              "#ed7953"
             ],
             [
              0.7777777777777778,
              "#fb9f3a"
             ],
             [
              0.8888888888888888,
              "#fdca26"
             ],
             [
              1,
              "#f0f921"
             ]
            ],
            "type": "histogram2dcontour"
           }
          ],
          "mesh3d": [
           {
            "colorbar": {
             "outlinewidth": 0,
             "ticks": ""
            },
            "type": "mesh3d"
           }
          ],
          "parcoords": [
           {
            "line": {
             "colorbar": {
              "outlinewidth": 0,
              "ticks": ""
             }
            },
            "type": "parcoords"
           }
          ],
          "pie": [
           {
            "automargin": true,
            "type": "pie"
           }
          ],
          "scatter": [
           {
            "fillpattern": {
             "fillmode": "overlay",
             "size": 10,
             "solidity": 0.2
            },
            "type": "scatter"
           }
          ],
          "scatter3d": [
           {
            "line": {
             "colorbar": {
              "outlinewidth": 0,
              "ticks": ""
             }
            },
            "marker": {
             "colorbar": {
              "outlinewidth": 0,
              "ticks": ""
             }
            },
            "type": "scatter3d"
           }
          ],
          "scattercarpet": [
           {
            "marker": {
             "colorbar": {
              "outlinewidth": 0,
              "ticks": ""
             }
            },
            "type": "scattercarpet"
           }
          ],
          "scattergeo": [
           {
            "marker": {
             "colorbar": {
              "outlinewidth": 0,
              "ticks": ""
             }
            },
            "type": "scattergeo"
           }
          ],
          "scattergl": [
           {
            "marker": {
             "colorbar": {
              "outlinewidth": 0,
              "ticks": ""
             }
            },
            "type": "scattergl"
           }
          ],
          "scattermap": [
           {
            "marker": {
             "colorbar": {
              "outlinewidth": 0,
              "ticks": ""
             }
            },
            "type": "scattermap"
           }
          ],
          "scattermapbox": [
           {
            "marker": {
             "colorbar": {
              "outlinewidth": 0,
              "ticks": ""
             }
            },
            "type": "scattermapbox"
           }
          ],
          "scatterpolar": [
           {
            "marker": {
             "colorbar": {
              "outlinewidth": 0,
              "ticks": ""
             }
            },
            "type": "scatterpolar"
           }
          ],
          "scatterpolargl": [
           {
            "marker": {
             "colorbar": {
              "outlinewidth": 0,
              "ticks": ""
             }
            },
            "type": "scatterpolargl"
           }
          ],
          "scatterternary": [
           {
            "marker": {
             "colorbar": {
              "outlinewidth": 0,
              "ticks": ""
             }
            },
            "type": "scatterternary"
           }
          ],
          "surface": [
           {
            "colorbar": {
             "outlinewidth": 0,
             "ticks": ""
            },
            "colorscale": [
             [
              0,
              "#0d0887"
             ],
             [
              0.1111111111111111,
              "#46039f"
             ],
             [
              0.2222222222222222,
              "#7201a8"
             ],
             [
              0.3333333333333333,
              "#9c179e"
             ],
             [
              0.4444444444444444,
              "#bd3786"
             ],
             [
              0.5555555555555556,
              "#d8576b"
             ],
             [
              0.6666666666666666,
              "#ed7953"
             ],
             [
              0.7777777777777778,
              "#fb9f3a"
             ],
             [
              0.8888888888888888,
              "#fdca26"
             ],
             [
              1,
              "#f0f921"
             ]
            ],
            "type": "surface"
           }
          ],
          "table": [
           {
            "cells": {
             "fill": {
              "color": "#EBF0F8"
             },
             "line": {
              "color": "white"
             }
            },
            "header": {
             "fill": {
              "color": "#C8D4E3"
             },
             "line": {
              "color": "white"
             }
            },
            "type": "table"
           }
          ]
         },
         "layout": {
          "annotationdefaults": {
           "arrowcolor": "#2a3f5f",
           "arrowhead": 0,
           "arrowwidth": 1
          },
          "autotypenumbers": "strict",
          "coloraxis": {
           "colorbar": {
            "outlinewidth": 0,
            "ticks": ""
           }
          },
          "colorscale": {
           "diverging": [
            [
             0,
             "#8e0152"
            ],
            [
             0.1,
             "#c51b7d"
            ],
            [
             0.2,
             "#de77ae"
            ],
            [
             0.3,
             "#f1b6da"
            ],
            [
             0.4,
             "#fde0ef"
            ],
            [
             0.5,
             "#f7f7f7"
            ],
            [
             0.6,
             "#e6f5d0"
            ],
            [
             0.7,
             "#b8e186"
            ],
            [
             0.8,
             "#7fbc41"
            ],
            [
             0.9,
             "#4d9221"
            ],
            [
             1,
             "#276419"
            ]
           ],
           "sequential": [
            [
             0,
             "#0d0887"
            ],
            [
             0.1111111111111111,
             "#46039f"
            ],
            [
             0.2222222222222222,
             "#7201a8"
            ],
            [
             0.3333333333333333,
             "#9c179e"
            ],
            [
             0.4444444444444444,
             "#bd3786"
            ],
            [
             0.5555555555555556,
             "#d8576b"
            ],
            [
             0.6666666666666666,
             "#ed7953"
            ],
            [
             0.7777777777777778,
             "#fb9f3a"
            ],
            [
             0.8888888888888888,
             "#fdca26"
            ],
            [
             1,
             "#f0f921"
            ]
           ],
           "sequentialminus": [
            [
             0,
             "#0d0887"
            ],
            [
             0.1111111111111111,
             "#46039f"
            ],
            [
             0.2222222222222222,
             "#7201a8"
            ],
            [
             0.3333333333333333,
             "#9c179e"
            ],
            [
             0.4444444444444444,
             "#bd3786"
            ],
            [
             0.5555555555555556,
             "#d8576b"
            ],
            [
             0.6666666666666666,
             "#ed7953"
            ],
            [
             0.7777777777777778,
             "#fb9f3a"
            ],
            [
             0.8888888888888888,
             "#fdca26"
            ],
            [
             1,
             "#f0f921"
            ]
           ]
          },
          "colorway": [
           "#636efa",
           "#EF553B",
           "#00cc96",
           "#ab63fa",
           "#FFA15A",
           "#19d3f3",
           "#FF6692",
           "#B6E880",
           "#FF97FF",
           "#FECB52"
          ],
          "font": {
           "color": "#2a3f5f"
          },
          "geo": {
           "bgcolor": "white",
           "lakecolor": "white",
           "landcolor": "#E5ECF6",
           "showlakes": true,
           "showland": true,
           "subunitcolor": "white"
          },
          "hoverlabel": {
           "align": "left"
          },
          "hovermode": "closest",
          "mapbox": {
           "style": "light"
          },
          "paper_bgcolor": "white",
          "plot_bgcolor": "#E5ECF6",
          "polar": {
           "angularaxis": {
            "gridcolor": "white",
            "linecolor": "white",
            "ticks": ""
           },
           "bgcolor": "#E5ECF6",
           "radialaxis": {
            "gridcolor": "white",
            "linecolor": "white",
            "ticks": ""
           }
          },
          "scene": {
           "xaxis": {
            "backgroundcolor": "#E5ECF6",
            "gridcolor": "white",
            "gridwidth": 2,
            "linecolor": "white",
            "showbackground": true,
            "ticks": "",
            "zerolinecolor": "white"
           },
           "yaxis": {
            "backgroundcolor": "#E5ECF6",
            "gridcolor": "white",
            "gridwidth": 2,
            "linecolor": "white",
            "showbackground": true,
            "ticks": "",
            "zerolinecolor": "white"
           },
           "zaxis": {
            "backgroundcolor": "#E5ECF6",
            "gridcolor": "white",
            "gridwidth": 2,
            "linecolor": "white",
            "showbackground": true,
            "ticks": "",
            "zerolinecolor": "white"
           }
          },
          "shapedefaults": {
           "line": {
            "color": "#2a3f5f"
           }
          },
          "ternary": {
           "aaxis": {
            "gridcolor": "white",
            "linecolor": "white",
            "ticks": ""
           },
           "baxis": {
            "gridcolor": "white",
            "linecolor": "white",
            "ticks": ""
           },
           "bgcolor": "#E5ECF6",
           "caxis": {
            "gridcolor": "white",
            "linecolor": "white",
            "ticks": ""
           }
          },
          "title": {
           "x": 0.05
          },
          "xaxis": {
           "automargin": true,
           "gridcolor": "white",
           "linecolor": "white",
           "ticks": "",
           "title": {
            "standoff": 15
           },
           "zerolinecolor": "white",
           "zerolinewidth": 2
          },
          "yaxis": {
           "automargin": true,
           "gridcolor": "white",
           "linecolor": "white",
           "ticks": "",
           "title": {
            "standoff": 15
           },
           "zerolinecolor": "white",
           "zerolinewidth": 2
          }
         }
        },
        "title": {
         "text": "ISOMAP con 5 vecinos y 5 componentes (mostrando PC1 y PC2)"
        },
        "xaxis": {
         "anchor": "y",
         "domain": [
          0,
          1
         ],
         "title": {
          "text": "PC1"
         }
        },
        "yaxis": {
         "anchor": "x",
         "domain": [
          0,
          1
         ],
         "title": {
          "text": "PC2"
         }
        }
       }
      }
     },
     "metadata": {},
     "output_type": "display_data"
    },
    {
     "data": {
      "application/vnd.plotly.v1+json": {
       "config": {
        "plotlyServerURL": "https://plot.ly"
       },
       "data": [
        {
         "hovertemplate": "tipoCultivo=Trigo<br>PC1=%{x}<br>PC2=%{y}<extra></extra>",
         "legendgroup": "Trigo",
         "marker": {
          "color": "#636efa",
          "symbol": "circle"
         },
         "mode": "markers",
         "name": "Trigo",
         "orientation": "v",
         "showlegend": true,
         "type": "scatter",
         "x": {
          "bdata": "gNi5xfBb6D+uA2kSb2gZwFjpwaZiARzAu03zH+eIEcCLhOBLtJT7Pz8l/trAowJA30+IJjlMu78gRnJIhGQSQO6yGH7NFhFA5SyS06cPAsDEe5uXE6jzvw9NlrazhQ/A0iy7HTHzqD+Zuyi8G30ZQGQnmfj21RVAiX+zfWmuFkCqPR6A9JgAQPVd+VCl5hPAyWTEZqTq97/JaNQxU+MaQLPYI2h2vB1ABQUOOrifF0BHYD64Mb70Pw1/I6FgaxfAEbiBxjdg4T9V4s5jxhgPwIQ+tO3ZIwbAz8bLB4P5BcCQJFIK5mIQQGiOAzp+HQPArUdxg69nDsBxfscZfxCQP5rnYeqtTx1AnJKqdLfJ/T9at10Vuo8fwDC5TIwazOu/OPVq3zCmIEDuNui9sWa2P5hRuOwaMglAuPMCLk4XCMDAs54I8HXjv+ad4Zsb/BTAR1T9FUGW4b8TQuclsTIfwBAzzi/2khHAWsGyC8v67D9dntDzEFXcv3Zvu7arrgjA",
          "dtype": "f8"
         },
         "xaxis": "x",
         "y": {
          "bdata": "3olB7F2NFEAIPT3T2oT2v4LncMyVTZ0/ETXDI5Ax5j8++gVEcTDfv86JgnsqrRbAj2A5lE4SFMBc+m6IKqH2v+s18NYz5hVAK2jC+xDOFcCriREcCZQbQLd/y9jv7gNADIaTRrbNAEA/UlJNnEgCwP/tV27+1RRAEFVqCXRN/z+rZ3y8HRoLQERKiO3Bmr2/qWKhe3UoCkCp5cy91DfeP0FeN9ZnGQpATLBj9s6H+T+47K9O4LUAQA66w3KCvwDAsV1pZuodGsCiiwUb46gBQFeRFz8yzxlAHA93dHuGGkCglIh7CsAbQIgXxefdmvu/u+7M3jESwL+aqaX52G7zPx+4i56Yx/I/20jxBrXhCsA2tk6QTaDMv3lP04g2FAFAuMyB0FGC0r9X/P8lm3/2PwoLXoWxU8Y/674IgRFyGUA8o74qbM4KQEUdW0Wc+QPAX7E6vYU58j/iVR8unQ3SPxaOkyY4bA7AZRPnaAgGBcDw3gTzAAkZQJf/NxqvwxjA",
          "dtype": "f8"
         },
         "yaxis": "y"
        },
        {
         "hovertemplate": "tipoCultivo=Maiz<br>PC1=%{x}<br>PC2=%{y}<extra></extra>",
         "legendgroup": "Maiz",
         "marker": {
          "color": "#EF553B",
          "symbol": "circle"
         },
         "mode": "markers",
         "name": "Maiz",
         "orientation": "v",
         "showlegend": true,
         "type": "scatter",
         "x": {
          "bdata": "69w3I74/A0BhgYxx7Ov1v/7aJAOoNOe/dzMpKp/3A8D9A/yvZjkNQN7PfZeWERHAdWBX5ZZUGMDViw8d1DEOwEe7KgxqhPM/1TF+tX5h/r+rdT38nhcTwGGAb5nUEgdAipNpxEHyEEBVUQffLHQSQG5PD1vZ/QfASjuBAoX7AED/8XaFV+QRQHQjjlCvJv0/KWPShe2dAECH3ObykooaQEAMsAAOAwzA5bFWalqO/L/zRKmN7T8YwOdaa5dSRBDAq2uA809JEEBCH8FwkqkeQMKyJ7E7TNk/ZfeKiy5m+78f1wOO2boFwFFFVBX1hOY/pr06VAI6IMCOYurwFLUSwF2gbOvjaxDADy4/k8e+9D/fwDDs74oRQN63OpvHoh1A3nkMscjKHMAKvXXUwD0XQKJxvRwiAgVA7JDdjv6XAMAsM8aypNHwPwYgVk8QoQnA5RHe10Cb8r8MwueFr0IIQCjJHo6AnQ9AT5uDDSYt1T/w5FmS2WwDQKb3/19ftwDAW3HiEhSDFMATQ5Y1ewnhv8HzCxhHghNAnMCiENgLHkATMM0CpaMBwCkLXYXY4wJA",
          "dtype": "f8"
         },
         "xaxis": "x",
         "y": {
          "bdata": "e3aWNDmsAMBa8aGGUscbQAvar0iF0BxA/JUIXWrhB8Ddr5W45o8RwJFZakVE1BnAv8yqt7cOC8BtOomsf/Hzvyxcxe+JBBzA0aIZDp6wEsAKK92cU8P6vzA5veolGRnAvkQtlfJQFMCnUl0ivJgRwADnANIWnBNA3AUvPejJ+L8shlCiRCMJQHOcLgDTrfK/opl77V/k678Vv5ilnFTsv9H+6jbV2g7A0o5f/QAaEsCIYz2ZGAkOQETjNtrkcxNAsbuotWuIyT+QeIEVS6zmv7tI3CVx1hHAqogeOAel8b8jxtXPMSt9vx/lLRswUgdAENqID+Ut/L9Hh2oj4LCvv7eyYFH0mQrAdf4IsMMDIUBXxR5bmkQRQD7R1fZ59AZA/eIk4oNF+78t8Cd7dfcLwLH2Xp2s9wpArAEjeGW78D9DIRb118YEwOgJ4j21IgbA4VSJCWnx+L87utImz28VQG2ioI4HXw/AwqxkFuTkBsBI934a8kn8PzRyD1Cqc/i/M33I8I186j/spLoOsa/tv8cmSVfe9BHA5d+LXFrS6r8ZyxgNyWQTQAA73FpWJ+0/",
          "dtype": "f8"
         },
         "yaxis": "y"
        },
        {
         "hovertemplate": "tipoCultivo=Soja<br>PC1=%{x}<br>PC2=%{y}<extra></extra>",
         "legendgroup": "Soja",
         "marker": {
          "color": "#00cc96",
          "symbol": "circle"
         },
         "mode": "markers",
         "name": "Soja",
         "orientation": "v",
         "showlegend": true,
         "type": "scatter",
         "x": {
          "bdata": "FnXkXI3lEUB12AmlhH8MwB5y0gBtS+C/R1/qT1cq4b+j4c7LNW8bQKtpugOypxlA0fc4q3VsFkAsFbh9+ycVQOY11EYaViBADWXxkRWm4D+CIeVjXm4SwFIJrHZuqPk/jfQAdfdyBMDZZDP4TW0YwL/9WZqurB5Atq9a14oqHcAOKKFLg4AFwNkseO3LvPQ/Ov/UHH4LD0DbFLtsBd8gwG0NDUVu7x1ArHtBrSA887+ZWjsTOEz7v4sOhDF+2gHANcZc2O1qIkCMFhHjHyqeP+/xa0sXrRDAad6HptmpAsBHpI8J4/wawFOQpzt4mRfA0rCuNDJd9L933uoRnAYNwDWDi8ebj90/aV5NN/JpCkBTpgPpnAP0vybBuMVJTRHAMrn9Qn4hEMCnC8Lk2HATwOczm8sHM/2/wbHgRDBVFUAFLvFrUWDyvzTi7smTi92/HamPE9gaDMCJbgQhxQ3kv6swPBUhNwNACJJg4ac0DsDmM4YfgP0dQLAcmshxk+C/nC/rPaiE97++eZ3fSG70P+uognS4ahXADeLGwHqF97/6WOUXi7gZQKFVmUIcD+M/FUImUXXi/79vo88nnc4UQHlEAXVzwfa/2Nc5NwO4/T8+5w9F0yLyv7uUqRuGaeI/x9MsRvDUYr8=",
          "dtype": "f8"
         },
         "xaxis": "x",
         "y": {
          "bdata": "pL/KCb+A/L8tZYtcRTf1vx0V2AEPThjAWYAgqQWNEUBpxEemTWDOv37YunBBPui/iK/6ca/54z/R0aMAhXEEwCvSz1KtJvq/0SKa3EltFsA+jqVPglkaQAaDtsv2V/8/BcLJyQ2PEcAgyglo9mgTwBtzFBM8SgRAzmWWGM644r+jeqlKQAYOwFq9Y2i0yBFAH0aNHkTHFUDc7ItR6oL/P0egaXkkPOg//gLoF6Qy3b8inueuvLjmv+4TsLtbPsu/It6F42965r+BqPLdgtsbwKteA9FADOO/MGxY/qrB6j+dOZmJ8Wznvx4bi8+w1NK/a840hMcvBUDj03Edl5QIQBeE/HH/iRLAQ2rFU+d28L/n0v9PmfXYPwF5crnybNC/iRKuCNCICMAwAtQhhLz5P4e8UwVX1hjAdPQet8/x/L+IHD95MvMPwObXeZfRVxdAauCqQhEz97/x69Vc9hUcQNAbmkw3fuI/T35B8xYt4j/WucgomieyP+yngxdjXRTAg3rlvJcUCMC7YnjVb2L0P2yyfJnCRhZA3DtX/PHHDECU267DOhgPwBWHat3NZBPA1lSzxwFJJECT8SH2Ks/3vxTXA7311hVAIsAjcpwk9r8cx3l2RyoIQOu5Hy4GGB7AHs+A36uTH0A=",
          "dtype": "f8"
         },
         "yaxis": "y"
        }
       ],
       "layout": {
        "legend": {
         "title": {
          "text": "tipoCultivo"
         },
         "tracegroupgap": 0
        },
        "template": {
         "data": {
          "bar": [
           {
            "error_x": {
             "color": "#2a3f5f"
            },
            "error_y": {
             "color": "#2a3f5f"
            },
            "marker": {
             "line": {
              "color": "#E5ECF6",
              "width": 0.5
             },
             "pattern": {
              "fillmode": "overlay",
              "size": 10,
              "solidity": 0.2
             }
            },
            "type": "bar"
           }
          ],
          "barpolar": [
           {
            "marker": {
             "line": {
              "color": "#E5ECF6",
              "width": 0.5
             },
             "pattern": {
              "fillmode": "overlay",
              "size": 10,
              "solidity": 0.2
             }
            },
            "type": "barpolar"
           }
          ],
          "carpet": [
           {
            "aaxis": {
             "endlinecolor": "#2a3f5f",
             "gridcolor": "white",
             "linecolor": "white",
             "minorgridcolor": "white",
             "startlinecolor": "#2a3f5f"
            },
            "baxis": {
             "endlinecolor": "#2a3f5f",
             "gridcolor": "white",
             "linecolor": "white",
             "minorgridcolor": "white",
             "startlinecolor": "#2a3f5f"
            },
            "type": "carpet"
           }
          ],
          "choropleth": [
           {
            "colorbar": {
             "outlinewidth": 0,
             "ticks": ""
            },
            "type": "choropleth"
           }
          ],
          "contour": [
           {
            "colorbar": {
             "outlinewidth": 0,
             "ticks": ""
            },
            "colorscale": [
             [
              0,
              "#0d0887"
             ],
             [
              0.1111111111111111,
              "#46039f"
             ],
             [
              0.2222222222222222,
              "#7201a8"
             ],
             [
              0.3333333333333333,
              "#9c179e"
             ],
             [
              0.4444444444444444,
              "#bd3786"
             ],
             [
              0.5555555555555556,
              "#d8576b"
             ],
             [
              0.6666666666666666,
              "#ed7953"
             ],
             [
              0.7777777777777778,
              "#fb9f3a"
             ],
             [
              0.8888888888888888,
              "#fdca26"
             ],
             [
              1,
              "#f0f921"
             ]
            ],
            "type": "contour"
           }
          ],
          "contourcarpet": [
           {
            "colorbar": {
             "outlinewidth": 0,
             "ticks": ""
            },
            "type": "contourcarpet"
           }
          ],
          "heatmap": [
           {
            "colorbar": {
             "outlinewidth": 0,
             "ticks": ""
            },
            "colorscale": [
             [
              0,
              "#0d0887"
             ],
             [
              0.1111111111111111,
              "#46039f"
             ],
             [
              0.2222222222222222,
              "#7201a8"
             ],
             [
              0.3333333333333333,
              "#9c179e"
             ],
             [
              0.4444444444444444,
              "#bd3786"
             ],
             [
              0.5555555555555556,
              "#d8576b"
             ],
             [
              0.6666666666666666,
              "#ed7953"
             ],
             [
              0.7777777777777778,
              "#fb9f3a"
             ],
             [
              0.8888888888888888,
              "#fdca26"
             ],
             [
              1,
              "#f0f921"
             ]
            ],
            "type": "heatmap"
           }
          ],
          "histogram": [
           {
            "marker": {
             "pattern": {
              "fillmode": "overlay",
              "size": 10,
              "solidity": 0.2
             }
            },
            "type": "histogram"
           }
          ],
          "histogram2d": [
           {
            "colorbar": {
             "outlinewidth": 0,
             "ticks": ""
            },
            "colorscale": [
             [
              0,
              "#0d0887"
             ],
             [
              0.1111111111111111,
              "#46039f"
             ],
             [
              0.2222222222222222,
              "#7201a8"
             ],
             [
              0.3333333333333333,
              "#9c179e"
             ],
             [
              0.4444444444444444,
              "#bd3786"
             ],
             [
              0.5555555555555556,
              "#d8576b"
             ],
             [
              0.6666666666666666,
              "#ed7953"
             ],
             [
              0.7777777777777778,
              "#fb9f3a"
             ],
             [
              0.8888888888888888,
              "#fdca26"
             ],
             [
              1,
              "#f0f921"
             ]
            ],
            "type": "histogram2d"
           }
          ],
          "histogram2dcontour": [
           {
            "colorbar": {
             "outlinewidth": 0,
             "ticks": ""
            },
            "colorscale": [
             [
              0,
              "#0d0887"
             ],
             [
              0.1111111111111111,
              "#46039f"
             ],
             [
              0.2222222222222222,
              "#7201a8"
             ],
             [
              0.3333333333333333,
              "#9c179e"
             ],
             [
              0.4444444444444444,
              "#bd3786"
             ],
             [
              0.5555555555555556,
              "#d8576b"
             ],
             [
              0.6666666666666666,
              "#ed7953"
             ],
             [
              0.7777777777777778,
              "#fb9f3a"
             ],
             [
              0.8888888888888888,
              "#fdca26"
             ],
             [
              1,
              "#f0f921"
             ]
            ],
            "type": "histogram2dcontour"
           }
          ],
          "mesh3d": [
           {
            "colorbar": {
             "outlinewidth": 0,
             "ticks": ""
            },
            "type": "mesh3d"
           }
          ],
          "parcoords": [
           {
            "line": {
             "colorbar": {
              "outlinewidth": 0,
              "ticks": ""
             }
            },
            "type": "parcoords"
           }
          ],
          "pie": [
           {
            "automargin": true,
            "type": "pie"
           }
          ],
          "scatter": [
           {
            "fillpattern": {
             "fillmode": "overlay",
             "size": 10,
             "solidity": 0.2
            },
            "type": "scatter"
           }
          ],
          "scatter3d": [
           {
            "line": {
             "colorbar": {
              "outlinewidth": 0,
              "ticks": ""
             }
            },
            "marker": {
             "colorbar": {
              "outlinewidth": 0,
              "ticks": ""
             }
            },
            "type": "scatter3d"
           }
          ],
          "scattercarpet": [
           {
            "marker": {
             "colorbar": {
              "outlinewidth": 0,
              "ticks": ""
             }
            },
            "type": "scattercarpet"
           }
          ],
          "scattergeo": [
           {
            "marker": {
             "colorbar": {
              "outlinewidth": 0,
              "ticks": ""
             }
            },
            "type": "scattergeo"
           }
          ],
          "scattergl": [
           {
            "marker": {
             "colorbar": {
              "outlinewidth": 0,
              "ticks": ""
             }
            },
            "type": "scattergl"
           }
          ],
          "scattermap": [
           {
            "marker": {
             "colorbar": {
              "outlinewidth": 0,
              "ticks": ""
             }
            },
            "type": "scattermap"
           }
          ],
          "scattermapbox": [
           {
            "marker": {
             "colorbar": {
              "outlinewidth": 0,
              "ticks": ""
             }
            },
            "type": "scattermapbox"
           }
          ],
          "scatterpolar": [
           {
            "marker": {
             "colorbar": {
              "outlinewidth": 0,
              "ticks": ""
             }
            },
            "type": "scatterpolar"
           }
          ],
          "scatterpolargl": [
           {
            "marker": {
             "colorbar": {
              "outlinewidth": 0,
              "ticks": ""
             }
            },
            "type": "scatterpolargl"
           }
          ],
          "scatterternary": [
           {
            "marker": {
             "colorbar": {
              "outlinewidth": 0,
              "ticks": ""
             }
            },
            "type": "scatterternary"
           }
          ],
          "surface": [
           {
            "colorbar": {
             "outlinewidth": 0,
             "ticks": ""
            },
            "colorscale": [
             [
              0,
              "#0d0887"
             ],
             [
              0.1111111111111111,
              "#46039f"
             ],
             [
              0.2222222222222222,
              "#7201a8"
             ],
             [
              0.3333333333333333,
              "#9c179e"
             ],
             [
              0.4444444444444444,
              "#bd3786"
             ],
             [
              0.5555555555555556,
              "#d8576b"
             ],
             [
              0.6666666666666666,
              "#ed7953"
             ],
             [
              0.7777777777777778,
              "#fb9f3a"
             ],
             [
              0.8888888888888888,
              "#fdca26"
             ],
             [
              1,
              "#f0f921"
             ]
            ],
            "type": "surface"
           }
          ],
          "table": [
           {
            "cells": {
             "fill": {
              "color": "#EBF0F8"
             },
             "line": {
              "color": "white"
             }
            },
            "header": {
             "fill": {
              "color": "#C8D4E3"
             },
             "line": {
              "color": "white"
             }
            },
            "type": "table"
           }
          ]
         },
         "layout": {
          "annotationdefaults": {
           "arrowcolor": "#2a3f5f",
           "arrowhead": 0,
           "arrowwidth": 1
          },
          "autotypenumbers": "strict",
          "coloraxis": {
           "colorbar": {
            "outlinewidth": 0,
            "ticks": ""
           }
          },
          "colorscale": {
           "diverging": [
            [
             0,
             "#8e0152"
            ],
            [
             0.1,
             "#c51b7d"
            ],
            [
             0.2,
             "#de77ae"
            ],
            [
             0.3,
             "#f1b6da"
            ],
            [
             0.4,
             "#fde0ef"
            ],
            [
             0.5,
             "#f7f7f7"
            ],
            [
             0.6,
             "#e6f5d0"
            ],
            [
             0.7,
             "#b8e186"
            ],
            [
             0.8,
             "#7fbc41"
            ],
            [
             0.9,
             "#4d9221"
            ],
            [
             1,
             "#276419"
            ]
           ],
           "sequential": [
            [
             0,
             "#0d0887"
            ],
            [
             0.1111111111111111,
             "#46039f"
            ],
            [
             0.2222222222222222,
             "#7201a8"
            ],
            [
             0.3333333333333333,
             "#9c179e"
            ],
            [
             0.4444444444444444,
             "#bd3786"
            ],
            [
             0.5555555555555556,
             "#d8576b"
            ],
            [
             0.6666666666666666,
             "#ed7953"
            ],
            [
             0.7777777777777778,
             "#fb9f3a"
            ],
            [
             0.8888888888888888,
             "#fdca26"
            ],
            [
             1,
             "#f0f921"
            ]
           ],
           "sequentialminus": [
            [
             0,
             "#0d0887"
            ],
            [
             0.1111111111111111,
             "#46039f"
            ],
            [
             0.2222222222222222,
             "#7201a8"
            ],
            [
             0.3333333333333333,
             "#9c179e"
            ],
            [
             0.4444444444444444,
             "#bd3786"
            ],
            [
             0.5555555555555556,
             "#d8576b"
            ],
            [
             0.6666666666666666,
             "#ed7953"
            ],
            [
             0.7777777777777778,
             "#fb9f3a"
            ],
            [
             0.8888888888888888,
             "#fdca26"
            ],
            [
             1,
             "#f0f921"
            ]
           ]
          },
          "colorway": [
           "#636efa",
           "#EF553B",
           "#00cc96",
           "#ab63fa",
           "#FFA15A",
           "#19d3f3",
           "#FF6692",
           "#B6E880",
           "#FF97FF",
           "#FECB52"
          ],
          "font": {
           "color": "#2a3f5f"
          },
          "geo": {
           "bgcolor": "white",
           "lakecolor": "white",
           "landcolor": "#E5ECF6",
           "showlakes": true,
           "showland": true,
           "subunitcolor": "white"
          },
          "hoverlabel": {
           "align": "left"
          },
          "hovermode": "closest",
          "mapbox": {
           "style": "light"
          },
          "paper_bgcolor": "white",
          "plot_bgcolor": "#E5ECF6",
          "polar": {
           "angularaxis": {
            "gridcolor": "white",
            "linecolor": "white",
            "ticks": ""
           },
           "bgcolor": "#E5ECF6",
           "radialaxis": {
            "gridcolor": "white",
            "linecolor": "white",
            "ticks": ""
           }
          },
          "scene": {
           "xaxis": {
            "backgroundcolor": "#E5ECF6",
            "gridcolor": "white",
            "gridwidth": 2,
            "linecolor": "white",
            "showbackground": true,
            "ticks": "",
            "zerolinecolor": "white"
           },
           "yaxis": {
            "backgroundcolor": "#E5ECF6",
            "gridcolor": "white",
            "gridwidth": 2,
            "linecolor": "white",
            "showbackground": true,
            "ticks": "",
            "zerolinecolor": "white"
           },
           "zaxis": {
            "backgroundcolor": "#E5ECF6",
            "gridcolor": "white",
            "gridwidth": 2,
            "linecolor": "white",
            "showbackground": true,
            "ticks": "",
            "zerolinecolor": "white"
           }
          },
          "shapedefaults": {
           "line": {
            "color": "#2a3f5f"
           }
          },
          "ternary": {
           "aaxis": {
            "gridcolor": "white",
            "linecolor": "white",
            "ticks": ""
           },
           "baxis": {
            "gridcolor": "white",
            "linecolor": "white",
            "ticks": ""
           },
           "bgcolor": "#E5ECF6",
           "caxis": {
            "gridcolor": "white",
            "linecolor": "white",
            "ticks": ""
           }
          },
          "title": {
           "x": 0.05
          },
          "xaxis": {
           "automargin": true,
           "gridcolor": "white",
           "linecolor": "white",
           "ticks": "",
           "title": {
            "standoff": 15
           },
           "zerolinecolor": "white",
           "zerolinewidth": 2
          },
          "yaxis": {
           "automargin": true,
           "gridcolor": "white",
           "linecolor": "white",
           "ticks": "",
           "title": {
            "standoff": 15
           },
           "zerolinecolor": "white",
           "zerolinewidth": 2
          }
         }
        },
        "title": {
         "text": "ISOMAP con 5 vecinos y 10 componentes (mostrando PC1 y PC2)"
        },
        "xaxis": {
         "anchor": "y",
         "domain": [
          0,
          1
         ],
         "title": {
          "text": "PC1"
         }
        },
        "yaxis": {
         "anchor": "x",
         "domain": [
          0,
          1
         ],
         "title": {
          "text": "PC2"
         }
        }
       }
      }
     },
     "metadata": {},
     "output_type": "display_data"
    },
    {
     "data": {
      "application/vnd.plotly.v1+json": {
       "config": {
        "plotlyServerURL": "https://plot.ly"
       },
       "data": [
        {
         "hovertemplate": "tipoCultivo=Trigo<br>PC1=%{x}<br>PC2=%{y}<extra></extra>",
         "legendgroup": "Trigo",
         "marker": {
          "color": "#636efa",
          "symbol": "circle"
         },
         "mode": "markers",
         "name": "Trigo",
         "orientation": "v",
         "showlegend": true,
         "type": "scatter",
         "x": {
          "bdata": "C1OzrYhE+L/jARmOCekVwOk3CCMx8hHAi5JWq4rN6r9JpolS9fDJv03UjC0MigBArMTgMPBk6T+uOqH2KO4PQE5TEmAuGec/NFlb+j1wCEA6E1rWu+QVwK42S72nRgnAy2r5QOsGuD8rGFh4IRwTQNjvazA9qdk/FkfDhRvIBkC6oWE3FrPVv/lz6EN7JwHApfEyrC0BB8AzcVQZrwQRQCzMTMosThRAH0/9XP+5CkDtm4CenSbZv8qqsDS7xgDAcAU4v13XCkB3HmSlWisWwJyFgtmYNgvAqhdZnJjkCsDnDloEIhUAQHmFVVN/GO+/XBm4OwTLBsCtNpOyrAzjvzmR5YUVrRBAhwmoMea1/j+aav1AwvoUwEui2xXwf/W/xuGE7DyAFEC7wSoAmtPDv1Do/WIUxYk/VPqWeHyP+r+5hSUm8vIIwEkRt6+iS/2/x7hNdhSG4r/xDhCvSZkXwM16j9u1Vvy/LqiJuBDN7T/CfjVMUEAFwCFkmOTLxPm/",
          "dtype": "f8"
         },
         "xaxis": "x",
         "y": {
          "bdata": "9rJIGBWBEEDYM+s6EkgHwIpfNmKYmve/hK59Rxn24r8VqhMC3PnsP7XZcJixJgbAOIeUKk9mEsDt8xyb4bqtPyawubgnpxZAnRZ1aftpE8AEBXF73LcNQOWQLZxXsew/gVyqvNw2DEB/XTbWREHgP8dhQnV3EhJAB7h4JE82D0C+UrvsJS0IQCYeYflWb/a/0238psnM6j+nESu/d874P81QnK1LRQRA3E6H5SPLDUAw7ZRjckMIQIKt0xriVBLAN3DPzhGtE8DdTNYunIeoPyaOUA1E/hBATJgA0Uo0BkDaqpd0VakaQOtsLCyOEP2/UjKEBSh1CcC5JX4trtnZP6klQebVSgdA+AgfJJyk+b924WzYf30SwF83H6Mvl+w/wxWlaUcKAkAOWJCLkZT5P4349YjVf5a/lbD0Dkv40D+16unf7JfuP6F6VbruXxHA9+gzqeNQwj/swnKYQWAAwCh7AZaozxLA6aGAvaRZ8L8eS/BLqD4QQHdyY6upmxbA",
          "dtype": "f8"
         },
         "yaxis": "y"
        },
        {
         "hovertemplate": "tipoCultivo=Maiz<br>PC1=%{x}<br>PC2=%{y}<extra></extra>",
         "legendgroup": "Maiz",
         "marker": {
          "color": "#EF553B",
          "symbol": "circle"
         },
         "mode": "markers",
         "name": "Maiz",
         "orientation": "v",
         "showlegend": true,
         "type": "scatter",
         "x": {
          "bdata": "OUxgxR+zDkAyZHOXpfzxv/Fwa13zSBTALknEZpbSxr/YGuUfj/EHQDoqzq9ZKQjALiVRvkEo/78PCinTdAL6v/8sPZXbBgtAsCjd7VMoCUDoLqnwtgkAwJ1G2UQa7whAo3e18RfSGUBAbJnwUgUKQBp+oEecuhHAaxCO+lPhB0AmPWctMiwEQDryKfU9QAFAJGkD2ggLyz9HuCSUTRYTQInnoWLEyMA/zeh2ueYQ3z+oUwN1BZ8WwLDdtCBnHATAVp6WC0VrCUA2jmX9WHsWQEJ8qBen9vw/THSbRsDT9b8eDwBwqYn9v14nV2Zi8tu/0gF5N5zEE8ATnSDymlEVwP7BfxY6JMY/ouOhhWz4BcA+KELRoyfxP8NnvQnYgABAVGL2A+TIvr+MyAkLc60VQM346ssffO0/EG97QNHN4b9waSBtuJjSv5jPN1R0HvM/KEFBcIg27r9Da7I3xfb0v0KB2oeFOA1AK29LcwRfB0BlUugu8vnnP+oEyAtAcfE/sBZMuUr4C8DYjttiNuD5v+qdVImgegFAfWqaSXC8G0BOZJDXpH4RwDrIVz6DOt4/",
          "dtype": "f8"
         },
         "xaxis": "x",
         "y": {
          "bdata": "qEDwyQeG5D8syde/g1MLQAwzDVkZPBFAJOeXrl1KBcCq7DgRvf79v68QZX8HUhDANzht2kYgE8AVsH8Oj5MHwDUocpbdKBTAn5lT95enB8AQfpgPeVURwN6hkRcX5Pq/ZivvqkILA8CwXG6fcmgBwD3y7i53rAtAQFTW92rA2z/FLeynu7QMQNve+B+8/d+/q7LyvKlC4r9GhjnGNgW8vwGs9QVcERDAMa6yb2zDEcCb7HhY8Y/ivx4O6KztId8/RvHsasYY9D9zny0hxaMIQDm8fHlnWhHACNMYJbZb3r+kdUmFrmLlvw7EH7XFKAVAE93PcS9SA8BOiWDvnpLpP2hRdMfcA/m/pu/CnmhlFUA9+c0htc8TQHwuqX7upBJAmAEY5ZKf87+aMU3RA2vqv/K9RK/4nwxAyUGZDE2T4D+ihdh2Bn/6v0znfW7Lefi/jfKZaUVR/7+14VXlS5IZQCLoUIiP9fu/n3zbeVbr4z/CgIKtWmjrPzZHhkmDieu/A95sEt3H/b8YXzS3rVPzv+bN9qi9VRPAgZjmkZtDAkBw8zD+ZSgBQGOkYanGhds/",
          "dtype": "f8"
         },
         "yaxis": "y"
        },
        {
         "hovertemplate": "tipoCultivo=Soja<br>PC1=%{x}<br>PC2=%{y}<extra></extra>",
         "legendgroup": "Soja",
         "marker": {
          "color": "#00cc96",
          "symbol": "circle"
         },
         "mode": "markers",
         "name": "Soja",
         "orientation": "v",
         "showlegend": true,
         "type": "scatter",
         "x": {
          "bdata": "n7FkSX4sEEBxNFhc1avUPzkmcbHYKQJAkMGmMVE8CcC0G/UZs70RQKZXXg9NDBJAOGLPGrDlDUD1hzbks5L/P/KM4PGLsRNAr6PmdbR1DEDIUFeQJOIDwKDksE+P5+Y/xR8UKthOBkAS/OFziwUHwBK8Bcav3xdAQ2sOo4VEC8AfVJfyKdb5P9skozHFFwbAriTn2oTf4b+0EV7YFlsUwG586uFk6f4/aTf///Kv8T8RVAEnH+rxvwlqHDW6bvu/u19KUJQ2G0DGVOWxtzwQQH+5nG8V7QbAcBE0BYTd6r/xuPFzxb0NwOm9F31EBAvAoUzOc7dOBsC8o8Ap6d77v2u3BjsiiwNAxqU+Xu+uBEDnptJTqIoEwHuft9vAjdu/jBjzQNA++D9jjomMCrIWwLBk2eoFv9w/7mURUAFxFkDbWFq9BPbyP/9CcZ3fRwfA66/tUCAeEcBH2TB/SMwMwNXwKYTf2us/2xOBeFLADsCN2Hc6BE4XQMCGJLRnAgFAtxKYRwpCA8Av0inlLRTsv1Sfdc0d7RjAnxCqn51yCMCk9tGfnm8KQMdGClpHxeE/pCRcj/axFMDE0SIlgw4XQAAzC7848xbAb2gDlxc1AEBnC9DnRXACwIU/0iP6ggxA7ZbbPxstEcA=",
          "dtype": "f8"
         },
         "xaxis": "x",
         "y": {
          "bdata": "vuJc6SSBA8AV1AKxcZ38v5fkcyJqQhPAlyH10/LuDUCcqVqiCTEEQG60/vqougBApmuX7ujcDkDJ2TBUTuS1P4/OAANcJvg/ro88s5QIEcCvZ/+UaDUPQIVbuKD3rAlAV5fl+FaKCsCNcsKuFlwRwGetZtm53wxATxu5oSJ5CsAzuS3AdSAEwHjhpyvbyRBA1Uz2lvAVCEBeIBYFlFIFwLYW4ccPswxAMusHe/D96z8t3tC0Y9fgP7yACWsWrOm/UZvOOmALDUBIUE9DXFMLwORQntJSceQ/+xb4FeBR+z8gqto+EvEIwGA4Ct/2QwfAro/T+99FBUCSm7xIpUb6PyzTLYiXJBDA20xA9UW+6T+2YooHgRnuP6HEkQerFMs/evHQ7fmpD8CR/g/5yTvoP7qutkNEYxXAKGenA40e0j/soQe4l3oJwLGtQp0TzxNA0GZbJzBe6r/zSG5dnsALQHGVVmfKPQJAGO7an76k6r+I1MsYLFoKQPRLjEEH/wnA6t6gffSUEMAaa0hiE1PVP0RQDmdvGc4/rrMOuTHA9T/uHFkf17DnPxw0PtU5HBbAbVl58EsyCkAm9AgWhS/3Pz3SSSIVz/0/U61kOSj55L/bPo1hqtDtP4k3N7H1NgzAK5qnYy0/EkA=",
          "dtype": "f8"
         },
         "yaxis": "y"
        }
       ],
       "layout": {
        "legend": {
         "title": {
          "text": "tipoCultivo"
         },
         "tracegroupgap": 0
        },
        "template": {
         "data": {
          "bar": [
           {
            "error_x": {
             "color": "#2a3f5f"
            },
            "error_y": {
             "color": "#2a3f5f"
            },
            "marker": {
             "line": {
              "color": "#E5ECF6",
              "width": 0.5
             },
             "pattern": {
              "fillmode": "overlay",
              "size": 10,
              "solidity": 0.2
             }
            },
            "type": "bar"
           }
          ],
          "barpolar": [
           {
            "marker": {
             "line": {
              "color": "#E5ECF6",
              "width": 0.5
             },
             "pattern": {
              "fillmode": "overlay",
              "size": 10,
              "solidity": 0.2
             }
            },
            "type": "barpolar"
           }
          ],
          "carpet": [
           {
            "aaxis": {
             "endlinecolor": "#2a3f5f",
             "gridcolor": "white",
             "linecolor": "white",
             "minorgridcolor": "white",
             "startlinecolor": "#2a3f5f"
            },
            "baxis": {
             "endlinecolor": "#2a3f5f",
             "gridcolor": "white",
             "linecolor": "white",
             "minorgridcolor": "white",
             "startlinecolor": "#2a3f5f"
            },
            "type": "carpet"
           }
          ],
          "choropleth": [
           {
            "colorbar": {
             "outlinewidth": 0,
             "ticks": ""
            },
            "type": "choropleth"
           }
          ],
          "contour": [
           {
            "colorbar": {
             "outlinewidth": 0,
             "ticks": ""
            },
            "colorscale": [
             [
              0,
              "#0d0887"
             ],
             [
              0.1111111111111111,
              "#46039f"
             ],
             [
              0.2222222222222222,
              "#7201a8"
             ],
             [
              0.3333333333333333,
              "#9c179e"
             ],
             [
              0.4444444444444444,
              "#bd3786"
             ],
             [
              0.5555555555555556,
              "#d8576b"
             ],
             [
              0.6666666666666666,
              "#ed7953"
             ],
             [
              0.7777777777777778,
              "#fb9f3a"
             ],
             [
              0.8888888888888888,
              "#fdca26"
             ],
             [
              1,
              "#f0f921"
             ]
            ],
            "type": "contour"
           }
          ],
          "contourcarpet": [
           {
            "colorbar": {
             "outlinewidth": 0,
             "ticks": ""
            },
            "type": "contourcarpet"
           }
          ],
          "heatmap": [
           {
            "colorbar": {
             "outlinewidth": 0,
             "ticks": ""
            },
            "colorscale": [
             [
              0,
              "#0d0887"
             ],
             [
              0.1111111111111111,
              "#46039f"
             ],
             [
              0.2222222222222222,
              "#7201a8"
             ],
             [
              0.3333333333333333,
              "#9c179e"
             ],
             [
              0.4444444444444444,
              "#bd3786"
             ],
             [
              0.5555555555555556,
              "#d8576b"
             ],
             [
              0.6666666666666666,
              "#ed7953"
             ],
             [
              0.7777777777777778,
              "#fb9f3a"
             ],
             [
              0.8888888888888888,
              "#fdca26"
             ],
             [
              1,
              "#f0f921"
             ]
            ],
            "type": "heatmap"
           }
          ],
          "histogram": [
           {
            "marker": {
             "pattern": {
              "fillmode": "overlay",
              "size": 10,
              "solidity": 0.2
             }
            },
            "type": "histogram"
           }
          ],
          "histogram2d": [
           {
            "colorbar": {
             "outlinewidth": 0,
             "ticks": ""
            },
            "colorscale": [
             [
              0,
              "#0d0887"
             ],
             [
              0.1111111111111111,
              "#46039f"
             ],
             [
              0.2222222222222222,
              "#7201a8"
             ],
             [
              0.3333333333333333,
              "#9c179e"
             ],
             [
              0.4444444444444444,
              "#bd3786"
             ],
             [
              0.5555555555555556,
              "#d8576b"
             ],
             [
              0.6666666666666666,
              "#ed7953"
             ],
             [
              0.7777777777777778,
              "#fb9f3a"
             ],
             [
              0.8888888888888888,
              "#fdca26"
             ],
             [
              1,
              "#f0f921"
             ]
            ],
            "type": "histogram2d"
           }
          ],
          "histogram2dcontour": [
           {
            "colorbar": {
             "outlinewidth": 0,
             "ticks": ""
            },
            "colorscale": [
             [
              0,
              "#0d0887"
             ],
             [
              0.1111111111111111,
              "#46039f"
             ],
             [
              0.2222222222222222,
              "#7201a8"
             ],
             [
              0.3333333333333333,
              "#9c179e"
             ],
             [
              0.4444444444444444,
              "#bd3786"
             ],
             [
              0.5555555555555556,
              "#d8576b"
             ],
             [
              0.6666666666666666,
              "#ed7953"
             ],
             [
              0.7777777777777778,
              "#fb9f3a"
             ],
             [
              0.8888888888888888,
              "#fdca26"
             ],
             [
              1,
              "#f0f921"
             ]
            ],
            "type": "histogram2dcontour"
           }
          ],
          "mesh3d": [
           {
            "colorbar": {
             "outlinewidth": 0,
             "ticks": ""
            },
            "type": "mesh3d"
           }
          ],
          "parcoords": [
           {
            "line": {
             "colorbar": {
              "outlinewidth": 0,
              "ticks": ""
             }
            },
            "type": "parcoords"
           }
          ],
          "pie": [
           {
            "automargin": true,
            "type": "pie"
           }
          ],
          "scatter": [
           {
            "fillpattern": {
             "fillmode": "overlay",
             "size": 10,
             "solidity": 0.2
            },
            "type": "scatter"
           }
          ],
          "scatter3d": [
           {
            "line": {
             "colorbar": {
              "outlinewidth": 0,
              "ticks": ""
             }
            },
            "marker": {
             "colorbar": {
              "outlinewidth": 0,
              "ticks": ""
             }
            },
            "type": "scatter3d"
           }
          ],
          "scattercarpet": [
           {
            "marker": {
             "colorbar": {
              "outlinewidth": 0,
              "ticks": ""
             }
            },
            "type": "scattercarpet"
           }
          ],
          "scattergeo": [
           {
            "marker": {
             "colorbar": {
              "outlinewidth": 0,
              "ticks": ""
             }
            },
            "type": "scattergeo"
           }
          ],
          "scattergl": [
           {
            "marker": {
             "colorbar": {
              "outlinewidth": 0,
              "ticks": ""
             }
            },
            "type": "scattergl"
           }
          ],
          "scattermap": [
           {
            "marker": {
             "colorbar": {
              "outlinewidth": 0,
              "ticks": ""
             }
            },
            "type": "scattermap"
           }
          ],
          "scattermapbox": [
           {
            "marker": {
             "colorbar": {
              "outlinewidth": 0,
              "ticks": ""
             }
            },
            "type": "scattermapbox"
           }
          ],
          "scatterpolar": [
           {
            "marker": {
             "colorbar": {
              "outlinewidth": 0,
              "ticks": ""
             }
            },
            "type": "scatterpolar"
           }
          ],
          "scatterpolargl": [
           {
            "marker": {
             "colorbar": {
              "outlinewidth": 0,
              "ticks": ""
             }
            },
            "type": "scatterpolargl"
           }
          ],
          "scatterternary": [
           {
            "marker": {
             "colorbar": {
              "outlinewidth": 0,
              "ticks": ""
             }
            },
            "type": "scatterternary"
           }
          ],
          "surface": [
           {
            "colorbar": {
             "outlinewidth": 0,
             "ticks": ""
            },
            "colorscale": [
             [
              0,
              "#0d0887"
             ],
             [
              0.1111111111111111,
              "#46039f"
             ],
             [
              0.2222222222222222,
              "#7201a8"
             ],
             [
              0.3333333333333333,
              "#9c179e"
             ],
             [
              0.4444444444444444,
              "#bd3786"
             ],
             [
              0.5555555555555556,
              "#d8576b"
             ],
             [
              0.6666666666666666,
              "#ed7953"
             ],
             [
              0.7777777777777778,
              "#fb9f3a"
             ],
             [
              0.8888888888888888,
              "#fdca26"
             ],
             [
              1,
              "#f0f921"
             ]
            ],
            "type": "surface"
           }
          ],
          "table": [
           {
            "cells": {
             "fill": {
              "color": "#EBF0F8"
             },
             "line": {
              "color": "white"
             }
            },
            "header": {
             "fill": {
              "color": "#C8D4E3"
             },
             "line": {
              "color": "white"
             }
            },
            "type": "table"
           }
          ]
         },
         "layout": {
          "annotationdefaults": {
           "arrowcolor": "#2a3f5f",
           "arrowhead": 0,
           "arrowwidth": 1
          },
          "autotypenumbers": "strict",
          "coloraxis": {
           "colorbar": {
            "outlinewidth": 0,
            "ticks": ""
           }
          },
          "colorscale": {
           "diverging": [
            [
             0,
             "#8e0152"
            ],
            [
             0.1,
             "#c51b7d"
            ],
            [
             0.2,
             "#de77ae"
            ],
            [
             0.3,
             "#f1b6da"
            ],
            [
             0.4,
             "#fde0ef"
            ],
            [
             0.5,
             "#f7f7f7"
            ],
            [
             0.6,
             "#e6f5d0"
            ],
            [
             0.7,
             "#b8e186"
            ],
            [
             0.8,
             "#7fbc41"
            ],
            [
             0.9,
             "#4d9221"
            ],
            [
             1,
             "#276419"
            ]
           ],
           "sequential": [
            [
             0,
             "#0d0887"
            ],
            [
             0.1111111111111111,
             "#46039f"
            ],
            [
             0.2222222222222222,
             "#7201a8"
            ],
            [
             0.3333333333333333,
             "#9c179e"
            ],
            [
             0.4444444444444444,
             "#bd3786"
            ],
            [
             0.5555555555555556,
             "#d8576b"
            ],
            [
             0.6666666666666666,
             "#ed7953"
            ],
            [
             0.7777777777777778,
             "#fb9f3a"
            ],
            [
             0.8888888888888888,
             "#fdca26"
            ],
            [
             1,
             "#f0f921"
            ]
           ],
           "sequentialminus": [
            [
             0,
             "#0d0887"
            ],
            [
             0.1111111111111111,
             "#46039f"
            ],
            [
             0.2222222222222222,
             "#7201a8"
            ],
            [
             0.3333333333333333,
             "#9c179e"
            ],
            [
             0.4444444444444444,
             "#bd3786"
            ],
            [
             0.5555555555555556,
             "#d8576b"
            ],
            [
             0.6666666666666666,
             "#ed7953"
            ],
            [
             0.7777777777777778,
             "#fb9f3a"
            ],
            [
             0.8888888888888888,
             "#fdca26"
            ],
            [
             1,
             "#f0f921"
            ]
           ]
          },
          "colorway": [
           "#636efa",
           "#EF553B",
           "#00cc96",
           "#ab63fa",
           "#FFA15A",
           "#19d3f3",
           "#FF6692",
           "#B6E880",
           "#FF97FF",
           "#FECB52"
          ],
          "font": {
           "color": "#2a3f5f"
          },
          "geo": {
           "bgcolor": "white",
           "lakecolor": "white",
           "landcolor": "#E5ECF6",
           "showlakes": true,
           "showland": true,
           "subunitcolor": "white"
          },
          "hoverlabel": {
           "align": "left"
          },
          "hovermode": "closest",
          "mapbox": {
           "style": "light"
          },
          "paper_bgcolor": "white",
          "plot_bgcolor": "#E5ECF6",
          "polar": {
           "angularaxis": {
            "gridcolor": "white",
            "linecolor": "white",
            "ticks": ""
           },
           "bgcolor": "#E5ECF6",
           "radialaxis": {
            "gridcolor": "white",
            "linecolor": "white",
            "ticks": ""
           }
          },
          "scene": {
           "xaxis": {
            "backgroundcolor": "#E5ECF6",
            "gridcolor": "white",
            "gridwidth": 2,
            "linecolor": "white",
            "showbackground": true,
            "ticks": "",
            "zerolinecolor": "white"
           },
           "yaxis": {
            "backgroundcolor": "#E5ECF6",
            "gridcolor": "white",
            "gridwidth": 2,
            "linecolor": "white",
            "showbackground": true,
            "ticks": "",
            "zerolinecolor": "white"
           },
           "zaxis": {
            "backgroundcolor": "#E5ECF6",
            "gridcolor": "white",
            "gridwidth": 2,
            "linecolor": "white",
            "showbackground": true,
            "ticks": "",
            "zerolinecolor": "white"
           }
          },
          "shapedefaults": {
           "line": {
            "color": "#2a3f5f"
           }
          },
          "ternary": {
           "aaxis": {
            "gridcolor": "white",
            "linecolor": "white",
            "ticks": ""
           },
           "baxis": {
            "gridcolor": "white",
            "linecolor": "white",
            "ticks": ""
           },
           "bgcolor": "#E5ECF6",
           "caxis": {
            "gridcolor": "white",
            "linecolor": "white",
            "ticks": ""
           }
          },
          "title": {
           "x": 0.05
          },
          "xaxis": {
           "automargin": true,
           "gridcolor": "white",
           "linecolor": "white",
           "ticks": "",
           "title": {
            "standoff": 15
           },
           "zerolinecolor": "white",
           "zerolinewidth": 2
          },
          "yaxis": {
           "automargin": true,
           "gridcolor": "white",
           "linecolor": "white",
           "ticks": "",
           "title": {
            "standoff": 15
           },
           "zerolinecolor": "white",
           "zerolinewidth": 2
          }
         }
        },
        "title": {
         "text": "ISOMAP con 10 vecinos y 2 componentes (mostrando PC1 y PC2)"
        },
        "xaxis": {
         "anchor": "y",
         "domain": [
          0,
          1
         ],
         "title": {
          "text": "PC1"
         }
        },
        "yaxis": {
         "anchor": "x",
         "domain": [
          0,
          1
         ],
         "title": {
          "text": "PC2"
         }
        }
       }
      }
     },
     "metadata": {},
     "output_type": "display_data"
    },
    {
     "data": {
      "application/vnd.plotly.v1+json": {
       "config": {
        "plotlyServerURL": "https://plot.ly"
       },
       "data": [
        {
         "hovertemplate": "tipoCultivo=Trigo<br>PC1=%{x}<br>PC2=%{y}<extra></extra>",
         "legendgroup": "Trigo",
         "marker": {
          "color": "#636efa",
          "symbol": "circle"
         },
         "mode": "markers",
         "name": "Trigo",
         "orientation": "v",
         "showlegend": true,
         "type": "scatter",
         "x": {
          "bdata": "BVOzrYhE+L/vARmOCekVwOc3CCMx8hHAiJJWq4rN6r8ipolS9fDJv0zUjC0MigBAp8TgMPBk6T+sOqH2KO4PQFdTEmAuGec/MVlb+j1wCEA5E1rWu+QVwK02S72nRgnAeGv5QOsGuD8pGFh4IRwTQPLvazA9qdk/GEfDhRvIBkCyoWE3FrPVv/tz6EN7JwHAo/EyrC0BB8AzcVQZrwQRQCzMTMosThRAH0/9XP+5CkDYm4CenSbZv8yqsDS7xgDAbgU4v13XCkB5HmSlWisWwJOFgtmYNgvAphdZnJjkCsDrDloEIhUAQH2FVVN/GO+/Xxm4OwTLBsCxNpOyrAzjvzuR5YUVrRBAhQmoMea1/j+cav1AwvoUwEei2xXwf/W/xeGE7DyAFECewSoAmtPDv3fo/WIUxYk/TvqWeHyP+r+2hSUm8vIIwEsRt6+iS/2/xrhNdhSG4r/yDhCvSZkXwNB6j9u1Vvy/IaiJuBDN7T++fjVMUEAFwCtkmOTLxPm/",
          "dtype": "f8"
         },
         "xaxis": "x",
         "y": {
          "bdata": "9rJIGBWBEEDYM+s6EkgHwIpfNmKYmve/hK59Rxn24r8VqhMC3PnsP7XZcJixJgbAOIeUKk9mEsDt8xyb4bqtPyawubgnpxZAnRZ1aftpE8AEBXF73LcNQOWQLZxXsew/gVyqvNw2DEB/XTbWREHgP8dhQnV3EhJAB7h4JE82D0C+UrvsJS0IQCYeYflWb/a/0238psnM6j+nESu/d874P81QnK1LRQRA3E6H5SPLDUAw7ZRjckMIQIKt0xriVBLAN3DPzhGtE8DdTNYunIeoPyaOUA1E/hBATJgA0Uo0BkDaqpd0VakaQOtsLCyOEP2/UjKEBSh1CcC5JX4trtnZP6klQebVSgdA+AgfJJyk+b924WzYf30SwF83H6Mvl+w/wxWlaUcKAkAOWJCLkZT5P4349YjVf5a/lbD0Dkv40D+16unf7JfuP6F6VbruXxHA9+gzqeNQwj/swnKYQWAAwCh7AZaozxLA6aGAvaRZ8L8eS/BLqD4QQHdyY6upmxbA",
          "dtype": "f8"
         },
         "yaxis": "y"
        },
        {
         "hovertemplate": "tipoCultivo=Maiz<br>PC1=%{x}<br>PC2=%{y}<extra></extra>",
         "legendgroup": "Maiz",
         "marker": {
          "color": "#EF553B",
          "symbol": "circle"
         },
         "mode": "markers",
         "name": "Maiz",
         "orientation": "v",
         "showlegend": true,
         "type": "scatter",
         "x": {
          "bdata": "OkxgxR+zDkAnZHOXpfzxv/Bwa13zSBTALEnEZpbSxr/XGuUfj/EHQDwqzq9ZKQjANiVRvkEo/78RCinTdAL6v/ssPZXbBgtArCjd7VMoCUDqLqnwtgkAwJ9G2UQa7whAoHe18RfSGUBAbJnwUgUKQBl+oEecuhHAahCO+lPhB0ApPWctMiwEQDfyKfU9QAFA/mgD2ggLyz9IuCSUTRYTQGvnoWLEyMA/u+h2ueYQ3z+oUwN1BZ8WwK3dtCBnHATAVJ6WC0VrCUA3jmX9WHsWQDl8qBen9vw/THSbRsDT9b8hDwBwqYn9v1UnV2Zi8tu/0gF5N5zEE8AUnSDymlEVwPnBfxY6JMY/m+OhhWz4BcA/KELRoyfxP8RnvQnYgABAZmL2A+TIvr+MyAkLc60VQNv46ssffO0/DW97QNHN4b98aSBtuJjSv5XPN1R0HvM/JkFBcIg27r8/a7I3xfb0v0CB2oeFOA1AK29LcwRfB0BjUugu8vnnP+kEyAtAcfE/shZMuUr4C8DbjttiNuD5v+edVImgegFAfWqaSXC8G0BOZJDXpH4RwDnIVz6DOt4/",
          "dtype": "f8"
         },
         "xaxis": "x",
         "y": {
          "bdata": "qEDwyQeG5D8syde/g1MLQAwzDVkZPBFAJOeXrl1KBcCq7DgRvf79v68QZX8HUhDANzht2kYgE8AVsH8Oj5MHwDUocpbdKBTAn5lT95enB8AQfpgPeVURwN6hkRcX5Pq/ZivvqkILA8CwXG6fcmgBwD3y7i53rAtAQFTW92rA2z/FLeynu7QMQNve+B+8/d+/q7LyvKlC4r9GhjnGNgW8vwGs9QVcERDAMa6yb2zDEcCb7HhY8Y/ivx4O6KztId8/RvHsasYY9D9zny0hxaMIQDm8fHlnWhHACNMYJbZb3r+kdUmFrmLlvw7EH7XFKAVAE93PcS9SA8BOiWDvnpLpP2hRdMfcA/m/pu/CnmhlFUA9+c0htc8TQHwuqX7upBJAmAEY5ZKf87+aMU3RA2vqv/K9RK/4nwxAyUGZDE2T4D+ihdh2Bn/6v0znfW7Lefi/jfKZaUVR/7+14VXlS5IZQCLoUIiP9fu/n3zbeVbr4z/CgIKtWmjrPzZHhkmDieu/A95sEt3H/b8YXzS3rVPzv+bN9qi9VRPAgZjmkZtDAkBw8zD+ZSgBQGOkYanGhds/",
          "dtype": "f8"
         },
         "yaxis": "y"
        },
        {
         "hovertemplate": "tipoCultivo=Soja<br>PC1=%{x}<br>PC2=%{y}<extra></extra>",
         "legendgroup": "Soja",
         "marker": {
          "color": "#00cc96",
          "symbol": "circle"
         },
         "mode": "markers",
         "name": "Soja",
         "orientation": "v",
         "showlegend": true,
         "type": "scatter",
         "x": {
          "bdata": "nLFkSX4sEEBwNFhc1avUPzYmcbHYKQJAjcGmMVE8CcC0G/UZs70RQKZXXg9NDBJAO2LPGrDlDUD1hzbks5L/P/KM4PGLsRNAraPmdbR1DEDEUFeQJOIDwLLksE+P5+Y/wh8UKthOBkAV/OFziwUHwBO8Bcav3xdARGsOo4VEC8AZVJfyKdb5P9okozHFFwbAoiTn2oTf4b+0EV7YFlsUwHF86uFk6f4/aDf///Kv8T8PVAEnH+rxvwhqHDW6bvu/vF9KUJQ2G0DEVOWxtzwQQH+5nG8V7QbAZxE0BYTd6r/xuPFzxb0NwO29F31EBAvAmkzOc7dOBsC1o8Ap6d77v2u3BjsiiwNAxaU+Xu+uBEDpptJTqIoEwH6ft9vAjdu/hhjzQNA++D9hjomMCrIWwJZk2eoFv9w/7WURUAFxFkDYWFq9BPbyP/pCcZ3fRwfA66/tUCAeEcBG2TB/SMwMwODwKYTf2us/2hOBeFLADsCN2Hc6BE4XQLuGJLRnAgFAuRKYRwpCA8A00inlLRTsv1Sfdc0d7RjAnRCqn51yCMCh9tGfnm8KQKtGClpHxeE/oyRcj/axFMDF0SIlgw4XQP8yC7848xbAbmgDlxc1AEBmC9DnRXACwIY/0iP6ggxA7JbbPxstEcA=",
          "dtype": "f8"
         },
         "xaxis": "x",
         "y": {
          "bdata": "vuJc6SSBA8AV1AKxcZ38v5fkcyJqQhPAlyH10/LuDUCcqVqiCTEEQG60/vqougBApmuX7ujcDkDJ2TBUTuS1P4/OAANcJvg/ro88s5QIEcCvZ/+UaDUPQIVbuKD3rAlAV5fl+FaKCsCNcsKuFlwRwGetZtm53wxATxu5oSJ5CsAzuS3AdSAEwHjhpyvbyRBA1Uz2lvAVCEBeIBYFlFIFwLYW4ccPswxAMusHe/D96z8t3tC0Y9fgP7yACWsWrOm/UZvOOmALDUBIUE9DXFMLwORQntJSceQ/+xb4FeBR+z8gqto+EvEIwGA4Ct/2QwfAro/T+99FBUCSm7xIpUb6PyzTLYiXJBDA20xA9UW+6T+2YooHgRnuP6HEkQerFMs/evHQ7fmpD8CR/g/5yTvoP7qutkNEYxXAKGenA40e0j/soQe4l3oJwLGtQp0TzxNA0GZbJzBe6r/zSG5dnsALQHGVVmfKPQJAGO7an76k6r+I1MsYLFoKQPRLjEEH/wnA6t6gffSUEMAaa0hiE1PVP0RQDmdvGc4/rrMOuTHA9T/uHFkf17DnPxw0PtU5HBbAbVl58EsyCkAm9AgWhS/3Pz3SSSIVz/0/U61kOSj55L/bPo1hqtDtP4k3N7H1NgzAK5qnYy0/EkA=",
          "dtype": "f8"
         },
         "yaxis": "y"
        }
       ],
       "layout": {
        "legend": {
         "title": {
          "text": "tipoCultivo"
         },
         "tracegroupgap": 0
        },
        "template": {
         "data": {
          "bar": [
           {
            "error_x": {
             "color": "#2a3f5f"
            },
            "error_y": {
             "color": "#2a3f5f"
            },
            "marker": {
             "line": {
              "color": "#E5ECF6",
              "width": 0.5
             },
             "pattern": {
              "fillmode": "overlay",
              "size": 10,
              "solidity": 0.2
             }
            },
            "type": "bar"
           }
          ],
          "barpolar": [
           {
            "marker": {
             "line": {
              "color": "#E5ECF6",
              "width": 0.5
             },
             "pattern": {
              "fillmode": "overlay",
              "size": 10,
              "solidity": 0.2
             }
            },
            "type": "barpolar"
           }
          ],
          "carpet": [
           {
            "aaxis": {
             "endlinecolor": "#2a3f5f",
             "gridcolor": "white",
             "linecolor": "white",
             "minorgridcolor": "white",
             "startlinecolor": "#2a3f5f"
            },
            "baxis": {
             "endlinecolor": "#2a3f5f",
             "gridcolor": "white",
             "linecolor": "white",
             "minorgridcolor": "white",
             "startlinecolor": "#2a3f5f"
            },
            "type": "carpet"
           }
          ],
          "choropleth": [
           {
            "colorbar": {
             "outlinewidth": 0,
             "ticks": ""
            },
            "type": "choropleth"
           }
          ],
          "contour": [
           {
            "colorbar": {
             "outlinewidth": 0,
             "ticks": ""
            },
            "colorscale": [
             [
              0,
              "#0d0887"
             ],
             [
              0.1111111111111111,
              "#46039f"
             ],
             [
              0.2222222222222222,
              "#7201a8"
             ],
             [
              0.3333333333333333,
              "#9c179e"
             ],
             [
              0.4444444444444444,
              "#bd3786"
             ],
             [
              0.5555555555555556,
              "#d8576b"
             ],
             [
              0.6666666666666666,
              "#ed7953"
             ],
             [
              0.7777777777777778,
              "#fb9f3a"
             ],
             [
              0.8888888888888888,
              "#fdca26"
             ],
             [
              1,
              "#f0f921"
             ]
            ],
            "type": "contour"
           }
          ],
          "contourcarpet": [
           {
            "colorbar": {
             "outlinewidth": 0,
             "ticks": ""
            },
            "type": "contourcarpet"
           }
          ],
          "heatmap": [
           {
            "colorbar": {
             "outlinewidth": 0,
             "ticks": ""
            },
            "colorscale": [
             [
              0,
              "#0d0887"
             ],
             [
              0.1111111111111111,
              "#46039f"
             ],
             [
              0.2222222222222222,
              "#7201a8"
             ],
             [
              0.3333333333333333,
              "#9c179e"
             ],
             [
              0.4444444444444444,
              "#bd3786"
             ],
             [
              0.5555555555555556,
              "#d8576b"
             ],
             [
              0.6666666666666666,
              "#ed7953"
             ],
             [
              0.7777777777777778,
              "#fb9f3a"
             ],
             [
              0.8888888888888888,
              "#fdca26"
             ],
             [
              1,
              "#f0f921"
             ]
            ],
            "type": "heatmap"
           }
          ],
          "histogram": [
           {
            "marker": {
             "pattern": {
              "fillmode": "overlay",
              "size": 10,
              "solidity": 0.2
             }
            },
            "type": "histogram"
           }
          ],
          "histogram2d": [
           {
            "colorbar": {
             "outlinewidth": 0,
             "ticks": ""
            },
            "colorscale": [
             [
              0,
              "#0d0887"
             ],
             [
              0.1111111111111111,
              "#46039f"
             ],
             [
              0.2222222222222222,
              "#7201a8"
             ],
             [
              0.3333333333333333,
              "#9c179e"
             ],
             [
              0.4444444444444444,
              "#bd3786"
             ],
             [
              0.5555555555555556,
              "#d8576b"
             ],
             [
              0.6666666666666666,
              "#ed7953"
             ],
             [
              0.7777777777777778,
              "#fb9f3a"
             ],
             [
              0.8888888888888888,
              "#fdca26"
             ],
             [
              1,
              "#f0f921"
             ]
            ],
            "type": "histogram2d"
           }
          ],
          "histogram2dcontour": [
           {
            "colorbar": {
             "outlinewidth": 0,
             "ticks": ""
            },
            "colorscale": [
             [
              0,
              "#0d0887"
             ],
             [
              0.1111111111111111,
              "#46039f"
             ],
             [
              0.2222222222222222,
              "#7201a8"
             ],
             [
              0.3333333333333333,
              "#9c179e"
             ],
             [
              0.4444444444444444,
              "#bd3786"
             ],
             [
              0.5555555555555556,
              "#d8576b"
             ],
             [
              0.6666666666666666,
              "#ed7953"
             ],
             [
              0.7777777777777778,
              "#fb9f3a"
             ],
             [
              0.8888888888888888,
              "#fdca26"
             ],
             [
              1,
              "#f0f921"
             ]
            ],
            "type": "histogram2dcontour"
           }
          ],
          "mesh3d": [
           {
            "colorbar": {
             "outlinewidth": 0,
             "ticks": ""
            },
            "type": "mesh3d"
           }
          ],
          "parcoords": [
           {
            "line": {
             "colorbar": {
              "outlinewidth": 0,
              "ticks": ""
             }
            },
            "type": "parcoords"
           }
          ],
          "pie": [
           {
            "automargin": true,
            "type": "pie"
           }
          ],
          "scatter": [
           {
            "fillpattern": {
             "fillmode": "overlay",
             "size": 10,
             "solidity": 0.2
            },
            "type": "scatter"
           }
          ],
          "scatter3d": [
           {
            "line": {
             "colorbar": {
              "outlinewidth": 0,
              "ticks": ""
             }
            },
            "marker": {
             "colorbar": {
              "outlinewidth": 0,
              "ticks": ""
             }
            },
            "type": "scatter3d"
           }
          ],
          "scattercarpet": [
           {
            "marker": {
             "colorbar": {
              "outlinewidth": 0,
              "ticks": ""
             }
            },
            "type": "scattercarpet"
           }
          ],
          "scattergeo": [
           {
            "marker": {
             "colorbar": {
              "outlinewidth": 0,
              "ticks": ""
             }
            },
            "type": "scattergeo"
           }
          ],
          "scattergl": [
           {
            "marker": {
             "colorbar": {
              "outlinewidth": 0,
              "ticks": ""
             }
            },
            "type": "scattergl"
           }
          ],
          "scattermap": [
           {
            "marker": {
             "colorbar": {
              "outlinewidth": 0,
              "ticks": ""
             }
            },
            "type": "scattermap"
           }
          ],
          "scattermapbox": [
           {
            "marker": {
             "colorbar": {
              "outlinewidth": 0,
              "ticks": ""
             }
            },
            "type": "scattermapbox"
           }
          ],
          "scatterpolar": [
           {
            "marker": {
             "colorbar": {
              "outlinewidth": 0,
              "ticks": ""
             }
            },
            "type": "scatterpolar"
           }
          ],
          "scatterpolargl": [
           {
            "marker": {
             "colorbar": {
              "outlinewidth": 0,
              "ticks": ""
             }
            },
            "type": "scatterpolargl"
           }
          ],
          "scatterternary": [
           {
            "marker": {
             "colorbar": {
              "outlinewidth": 0,
              "ticks": ""
             }
            },
            "type": "scatterternary"
           }
          ],
          "surface": [
           {
            "colorbar": {
             "outlinewidth": 0,
             "ticks": ""
            },
            "colorscale": [
             [
              0,
              "#0d0887"
             ],
             [
              0.1111111111111111,
              "#46039f"
             ],
             [
              0.2222222222222222,
              "#7201a8"
             ],
             [
              0.3333333333333333,
              "#9c179e"
             ],
             [
              0.4444444444444444,
              "#bd3786"
             ],
             [
              0.5555555555555556,
              "#d8576b"
             ],
             [
              0.6666666666666666,
              "#ed7953"
             ],
             [
              0.7777777777777778,
              "#fb9f3a"
             ],
             [
              0.8888888888888888,
              "#fdca26"
             ],
             [
              1,
              "#f0f921"
             ]
            ],
            "type": "surface"
           }
          ],
          "table": [
           {
            "cells": {
             "fill": {
              "color": "#EBF0F8"
             },
             "line": {
              "color": "white"
             }
            },
            "header": {
             "fill": {
              "color": "#C8D4E3"
             },
             "line": {
              "color": "white"
             }
            },
            "type": "table"
           }
          ]
         },
         "layout": {
          "annotationdefaults": {
           "arrowcolor": "#2a3f5f",
           "arrowhead": 0,
           "arrowwidth": 1
          },
          "autotypenumbers": "strict",
          "coloraxis": {
           "colorbar": {
            "outlinewidth": 0,
            "ticks": ""
           }
          },
          "colorscale": {
           "diverging": [
            [
             0,
             "#8e0152"
            ],
            [
             0.1,
             "#c51b7d"
            ],
            [
             0.2,
             "#de77ae"
            ],
            [
             0.3,
             "#f1b6da"
            ],
            [
             0.4,
             "#fde0ef"
            ],
            [
             0.5,
             "#f7f7f7"
            ],
            [
             0.6,
             "#e6f5d0"
            ],
            [
             0.7,
             "#b8e186"
            ],
            [
             0.8,
             "#7fbc41"
            ],
            [
             0.9,
             "#4d9221"
            ],
            [
             1,
             "#276419"
            ]
           ],
           "sequential": [
            [
             0,
             "#0d0887"
            ],
            [
             0.1111111111111111,
             "#46039f"
            ],
            [
             0.2222222222222222,
             "#7201a8"
            ],
            [
             0.3333333333333333,
             "#9c179e"
            ],
            [
             0.4444444444444444,
             "#bd3786"
            ],
            [
             0.5555555555555556,
             "#d8576b"
            ],
            [
             0.6666666666666666,
             "#ed7953"
            ],
            [
             0.7777777777777778,
             "#fb9f3a"
            ],
            [
             0.8888888888888888,
             "#fdca26"
            ],
            [
             1,
             "#f0f921"
            ]
           ],
           "sequentialminus": [
            [
             0,
             "#0d0887"
            ],
            [
             0.1111111111111111,
             "#46039f"
            ],
            [
             0.2222222222222222,
             "#7201a8"
            ],
            [
             0.3333333333333333,
             "#9c179e"
            ],
            [
             0.4444444444444444,
             "#bd3786"
            ],
            [
             0.5555555555555556,
             "#d8576b"
            ],
            [
             0.6666666666666666,
             "#ed7953"
            ],
            [
             0.7777777777777778,
             "#fb9f3a"
            ],
            [
             0.8888888888888888,
             "#fdca26"
            ],
            [
             1,
             "#f0f921"
            ]
           ]
          },
          "colorway": [
           "#636efa",
           "#EF553B",
           "#00cc96",
           "#ab63fa",
           "#FFA15A",
           "#19d3f3",
           "#FF6692",
           "#B6E880",
           "#FF97FF",
           "#FECB52"
          ],
          "font": {
           "color": "#2a3f5f"
          },
          "geo": {
           "bgcolor": "white",
           "lakecolor": "white",
           "landcolor": "#E5ECF6",
           "showlakes": true,
           "showland": true,
           "subunitcolor": "white"
          },
          "hoverlabel": {
           "align": "left"
          },
          "hovermode": "closest",
          "mapbox": {
           "style": "light"
          },
          "paper_bgcolor": "white",
          "plot_bgcolor": "#E5ECF6",
          "polar": {
           "angularaxis": {
            "gridcolor": "white",
            "linecolor": "white",
            "ticks": ""
           },
           "bgcolor": "#E5ECF6",
           "radialaxis": {
            "gridcolor": "white",
            "linecolor": "white",
            "ticks": ""
           }
          },
          "scene": {
           "xaxis": {
            "backgroundcolor": "#E5ECF6",
            "gridcolor": "white",
            "gridwidth": 2,
            "linecolor": "white",
            "showbackground": true,
            "ticks": "",
            "zerolinecolor": "white"
           },
           "yaxis": {
            "backgroundcolor": "#E5ECF6",
            "gridcolor": "white",
            "gridwidth": 2,
            "linecolor": "white",
            "showbackground": true,
            "ticks": "",
            "zerolinecolor": "white"
           },
           "zaxis": {
            "backgroundcolor": "#E5ECF6",
            "gridcolor": "white",
            "gridwidth": 2,
            "linecolor": "white",
            "showbackground": true,
            "ticks": "",
            "zerolinecolor": "white"
           }
          },
          "shapedefaults": {
           "line": {
            "color": "#2a3f5f"
           }
          },
          "ternary": {
           "aaxis": {
            "gridcolor": "white",
            "linecolor": "white",
            "ticks": ""
           },
           "baxis": {
            "gridcolor": "white",
            "linecolor": "white",
            "ticks": ""
           },
           "bgcolor": "#E5ECF6",
           "caxis": {
            "gridcolor": "white",
            "linecolor": "white",
            "ticks": ""
           }
          },
          "title": {
           "x": 0.05
          },
          "xaxis": {
           "automargin": true,
           "gridcolor": "white",
           "linecolor": "white",
           "ticks": "",
           "title": {
            "standoff": 15
           },
           "zerolinecolor": "white",
           "zerolinewidth": 2
          },
          "yaxis": {
           "automargin": true,
           "gridcolor": "white",
           "linecolor": "white",
           "ticks": "",
           "title": {
            "standoff": 15
           },
           "zerolinecolor": "white",
           "zerolinewidth": 2
          }
         }
        },
        "title": {
         "text": "ISOMAP con 10 vecinos y 3 componentes (mostrando PC1 y PC2)"
        },
        "xaxis": {
         "anchor": "y",
         "domain": [
          0,
          1
         ],
         "title": {
          "text": "PC1"
         }
        },
        "yaxis": {
         "anchor": "x",
         "domain": [
          0,
          1
         ],
         "title": {
          "text": "PC2"
         }
        }
       }
      }
     },
     "metadata": {},
     "output_type": "display_data"
    },
    {
     "data": {
      "application/vnd.plotly.v1+json": {
       "config": {
        "plotlyServerURL": "https://plot.ly"
       },
       "data": [
        {
         "hovertemplate": "tipoCultivo=Trigo<br>PC1=%{x}<br>PC2=%{y}<extra></extra>",
         "legendgroup": "Trigo",
         "marker": {
          "color": "#636efa",
          "symbol": "circle"
         },
         "mode": "markers",
         "name": "Trigo",
         "orientation": "v",
         "showlegend": true,
         "type": "scatter",
         "x": {
          "bdata": "DlOzrYhE+L/jARmOCekVwOk3CCMx8hHAh5JWq4rN6r9MpolS9fDJv0zUjC0MigBAscTgMPBk6T+xOqH2KO4PQEBTEmAuGec/N1lb+j1wCEA7E1rWu+QVwLA2S72nRgnAvWr5QOsGuD8rGFh4IRwTQMvvazA9qdk/GEfDhRvIBkC9oWE3FrPVv/pz6EN7JwHAqvEyrC0BB8AzcVQZrwQRQC3MTMosThRAHk/9XP+5CkD7m4CenSbZv8qqsDS7xgDAcwU4v13XCkB6HmSlWisWwKGFgtmYNgvArBdZnJjkCsDlDloEIhUAQHaFVVN/GO+/Wxm4OwTLBsCmNpOyrAzjvzuR5YUVrRBAiAmoMea1/j+bav1AwvoUwEmi2xXwf/W/xuGE7DyAFEDYwSoAmtPDv0ro/WIUxYk/V/qWeHyP+r+9hSUm8vIIwEkRt6+iS/2/w7hNdhSG4r/zDhCvSZkXwM16j9u1Vvy/NaiJuBDN7T/DfjVMUEAFwB5kmOTLxPm/",
          "dtype": "f8"
         },
         "xaxis": "x",
         "y": {
          "bdata": "9rJIGBWBEEDYM+s6EkgHwIpfNmKYmve/hK59Rxn24r8VqhMC3PnsP7XZcJixJgbAOIeUKk9mEsDt8xyb4bqtPyawubgnpxZAnRZ1aftpE8AEBXF73LcNQOWQLZxXsew/gVyqvNw2DEB/XTbWREHgP8dhQnV3EhJAB7h4JE82D0C+UrvsJS0IQCYeYflWb/a/0238psnM6j+nESu/d874P81QnK1LRQRA3E6H5SPLDUAw7ZRjckMIQIKt0xriVBLAN3DPzhGtE8DdTNYunIeoPyaOUA1E/hBATJgA0Uo0BkDaqpd0VakaQOtsLCyOEP2/UjKEBSh1CcC5JX4trtnZP6klQebVSgdA+AgfJJyk+b924WzYf30SwF83H6Mvl+w/wxWlaUcKAkAOWJCLkZT5P4349YjVf5a/lbD0Dkv40D+16unf7JfuP6F6VbruXxHA9+gzqeNQwj/swnKYQWAAwCh7AZaozxLA6aGAvaRZ8L8eS/BLqD4QQHdyY6upmxbA",
          "dtype": "f8"
         },
         "yaxis": "y"
        },
        {
         "hovertemplate": "tipoCultivo=Maiz<br>PC1=%{x}<br>PC2=%{y}<extra></extra>",
         "legendgroup": "Maiz",
         "marker": {
          "color": "#EF553B",
          "symbol": "circle"
         },
         "mode": "markers",
         "name": "Maiz",
         "orientation": "v",
         "showlegend": true,
         "type": "scatter",
         "x": {
          "bdata": "PExgxR+zDkAyZHOXpfzxv/Jwa13zSBTABEnEZpbSxr/YGuUfj/EHQDgqzq9ZKQjALSVRvkEo/78QCinTdAL6vwEtPZXbBgtAsijd7VMoCUDoLqnwtgkAwJ1G2UQa7whApHe18RfSGUBAbJnwUgUKQBx+oEecuhHAbRCO+lPhB0AmPWctMiwEQDzyKfU9QAFALWkD2ggLyz9IuCSUTRYTQH/noWLEyMA/4Oh2ueYQ3z+qUwN1BZ8WwLPdtCBnHATAVp6WC0VrCUA4jmX9WHsWQEZ8qBen9vw/SnSbRsDT9b8hDwBwqYn9v2InV2Zi8tu/0gF5N5zEE8AVnSDymlEVwBXCfxY6JMY/o+OhhWz4BcA8KELRoyfxP8NnvQnYgABAVWL2A+TIvr+MyAkLc60VQMb46ssffO0/F297QNHN4b9maSBtuJjSv5vPN1R0HvM/JUFBcIg27r9Da7I3xfb0v0aB2oeFOA1ALW9LcwRfB0BtUugu8vnnP+oEyAtAcfE/sRZMuUr4C8DXjttiNuD5v+udVImgegFAfmqaSXC8G0BQZJDXpH4RwDvIVz6DOt4/",
          "dtype": "f8"
         },
         "xaxis": "x",
         "y": {
          "bdata": "qEDwyQeG5D8syde/g1MLQAwzDVkZPBFAJOeXrl1KBcCq7DgRvf79v68QZX8HUhDANzht2kYgE8AVsH8Oj5MHwDUocpbdKBTAn5lT95enB8AQfpgPeVURwN6hkRcX5Pq/ZivvqkILA8CwXG6fcmgBwD3y7i53rAtAQFTW92rA2z/FLeynu7QMQNve+B+8/d+/q7LyvKlC4r9GhjnGNgW8vwGs9QVcERDAMa6yb2zDEcCb7HhY8Y/ivx4O6KztId8/RvHsasYY9D9zny0hxaMIQDm8fHlnWhHACNMYJbZb3r+kdUmFrmLlvw7EH7XFKAVAE93PcS9SA8BOiWDvnpLpP2hRdMfcA/m/pu/CnmhlFUA9+c0htc8TQHwuqX7upBJAmAEY5ZKf87+aMU3RA2vqv/K9RK/4nwxAyUGZDE2T4D+ihdh2Bn/6v0znfW7Lefi/jfKZaUVR/7+14VXlS5IZQCLoUIiP9fu/n3zbeVbr4z/CgIKtWmjrPzZHhkmDieu/A95sEt3H/b8YXzS3rVPzv+bN9qi9VRPAgZjmkZtDAkBw8zD+ZSgBQGOkYanGhds/",
          "dtype": "f8"
         },
         "yaxis": "y"
        },
        {
         "hovertemplate": "tipoCultivo=Soja<br>PC1=%{x}<br>PC2=%{y}<extra></extra>",
         "legendgroup": "Soja",
         "marker": {
          "color": "#00cc96",
          "symbol": "circle"
         },
         "mode": "markers",
         "name": "Soja",
         "orientation": "v",
         "showlegend": true,
         "type": "scatter",
         "x": {
          "bdata": "n7FkSX4sEEBxNFhc1avUPzomcbHYKQJAksGmMVE8CcC0G/UZs70RQKdXXg9NDBJAOGLPGrDlDUD0hzbks5L/P/KM4PGLsRNAsqPmdbR1DEDLUFeQJOIDwKPksE+P5+Y/xx8UKthOBkAR/OFziwUHwBO8Bcav3xdARGsOo4VEC8AiVJfyKdb5P9skozHFFwbAryTn2oTf4b+0EV7YFlsUwHB86uFk6f4/Zjf///Kv8T8SVAEnH+rxvwhqHDW6bvu/vF9KUJQ2G0DGVOWxtzwQQIC5nG8V7QbAdBE0BYTd6r/zuPFzxb0NwOm9F31EBAvApkzOc7dOBsDBo8Ap6d77v263BjsiiwNAxqU+Xu+uBEDrptJTqIoEwGaft9vAjdu/jxjzQNA++D9kjomMCrIWwLZk2eoFv9w/72URUAFxFkDfWFq9BPbyPwJDcZ3fRwfA7K/tUCAeEcBK2TB/SMwMwNnwKYTf2us/3BOBeFLADsCP2Hc6BE4XQMGGJLRnAgFAtxKYRwpCA8An0inlLRTsv1Sfdc0d7RjAoBCqn51yCMCo9tGfnm8KQM5GClpHxeE/pSRcj/axFMDG0SIlgw4XQAEzC7848xbAcGgDlxc1AEBoC9DnRXACwIY/0iP6ggxA7pbbPxstEcA=",
          "dtype": "f8"
         },
         "xaxis": "x",
         "y": {
          "bdata": "vuJc6SSBA8AV1AKxcZ38v5fkcyJqQhPAlyH10/LuDUCcqVqiCTEEQG60/vqougBApmuX7ujcDkDJ2TBUTuS1P4/OAANcJvg/ro88s5QIEcCvZ/+UaDUPQIVbuKD3rAlAV5fl+FaKCsCNcsKuFlwRwGetZtm53wxATxu5oSJ5CsAzuS3AdSAEwHjhpyvbyRBA1Uz2lvAVCEBeIBYFlFIFwLYW4ccPswxAMusHe/D96z8t3tC0Y9fgP7yACWsWrOm/UZvOOmALDUBIUE9DXFMLwORQntJSceQ/+xb4FeBR+z8gqto+EvEIwGA4Ct/2QwfAro/T+99FBUCSm7xIpUb6PyzTLYiXJBDA20xA9UW+6T+2YooHgRnuP6HEkQerFMs/evHQ7fmpD8CR/g/5yTvoP7qutkNEYxXAKGenA40e0j/soQe4l3oJwLGtQp0TzxNA0GZbJzBe6r/zSG5dnsALQHGVVmfKPQJAGO7an76k6r+I1MsYLFoKQPRLjEEH/wnA6t6gffSUEMAaa0hiE1PVP0RQDmdvGc4/rrMOuTHA9T/uHFkf17DnPxw0PtU5HBbAbVl58EsyCkAm9AgWhS/3Pz3SSSIVz/0/U61kOSj55L/bPo1hqtDtP4k3N7H1NgzAK5qnYy0/EkA=",
          "dtype": "f8"
         },
         "yaxis": "y"
        }
       ],
       "layout": {
        "legend": {
         "title": {
          "text": "tipoCultivo"
         },
         "tracegroupgap": 0
        },
        "template": {
         "data": {
          "bar": [
           {
            "error_x": {
             "color": "#2a3f5f"
            },
            "error_y": {
             "color": "#2a3f5f"
            },
            "marker": {
             "line": {
              "color": "#E5ECF6",
              "width": 0.5
             },
             "pattern": {
              "fillmode": "overlay",
              "size": 10,
              "solidity": 0.2
             }
            },
            "type": "bar"
           }
          ],
          "barpolar": [
           {
            "marker": {
             "line": {
              "color": "#E5ECF6",
              "width": 0.5
             },
             "pattern": {
              "fillmode": "overlay",
              "size": 10,
              "solidity": 0.2
             }
            },
            "type": "barpolar"
           }
          ],
          "carpet": [
           {
            "aaxis": {
             "endlinecolor": "#2a3f5f",
             "gridcolor": "white",
             "linecolor": "white",
             "minorgridcolor": "white",
             "startlinecolor": "#2a3f5f"
            },
            "baxis": {
             "endlinecolor": "#2a3f5f",
             "gridcolor": "white",
             "linecolor": "white",
             "minorgridcolor": "white",
             "startlinecolor": "#2a3f5f"
            },
            "type": "carpet"
           }
          ],
          "choropleth": [
           {
            "colorbar": {
             "outlinewidth": 0,
             "ticks": ""
            },
            "type": "choropleth"
           }
          ],
          "contour": [
           {
            "colorbar": {
             "outlinewidth": 0,
             "ticks": ""
            },
            "colorscale": [
             [
              0,
              "#0d0887"
             ],
             [
              0.1111111111111111,
              "#46039f"
             ],
             [
              0.2222222222222222,
              "#7201a8"
             ],
             [
              0.3333333333333333,
              "#9c179e"
             ],
             [
              0.4444444444444444,
              "#bd3786"
             ],
             [
              0.5555555555555556,
              "#d8576b"
             ],
             [
              0.6666666666666666,
              "#ed7953"
             ],
             [
              0.7777777777777778,
              "#fb9f3a"
             ],
             [
              0.8888888888888888,
              "#fdca26"
             ],
             [
              1,
              "#f0f921"
             ]
            ],
            "type": "contour"
           }
          ],
          "contourcarpet": [
           {
            "colorbar": {
             "outlinewidth": 0,
             "ticks": ""
            },
            "type": "contourcarpet"
           }
          ],
          "heatmap": [
           {
            "colorbar": {
             "outlinewidth": 0,
             "ticks": ""
            },
            "colorscale": [
             [
              0,
              "#0d0887"
             ],
             [
              0.1111111111111111,
              "#46039f"
             ],
             [
              0.2222222222222222,
              "#7201a8"
             ],
             [
              0.3333333333333333,
              "#9c179e"
             ],
             [
              0.4444444444444444,
              "#bd3786"
             ],
             [
              0.5555555555555556,
              "#d8576b"
             ],
             [
              0.6666666666666666,
              "#ed7953"
             ],
             [
              0.7777777777777778,
              "#fb9f3a"
             ],
             [
              0.8888888888888888,
              "#fdca26"
             ],
             [
              1,
              "#f0f921"
             ]
            ],
            "type": "heatmap"
           }
          ],
          "histogram": [
           {
            "marker": {
             "pattern": {
              "fillmode": "overlay",
              "size": 10,
              "solidity": 0.2
             }
            },
            "type": "histogram"
           }
          ],
          "histogram2d": [
           {
            "colorbar": {
             "outlinewidth": 0,
             "ticks": ""
            },
            "colorscale": [
             [
              0,
              "#0d0887"
             ],
             [
              0.1111111111111111,
              "#46039f"
             ],
             [
              0.2222222222222222,
              "#7201a8"
             ],
             [
              0.3333333333333333,
              "#9c179e"
             ],
             [
              0.4444444444444444,
              "#bd3786"
             ],
             [
              0.5555555555555556,
              "#d8576b"
             ],
             [
              0.6666666666666666,
              "#ed7953"
             ],
             [
              0.7777777777777778,
              "#fb9f3a"
             ],
             [
              0.8888888888888888,
              "#fdca26"
             ],
             [
              1,
              "#f0f921"
             ]
            ],
            "type": "histogram2d"
           }
          ],
          "histogram2dcontour": [
           {
            "colorbar": {
             "outlinewidth": 0,
             "ticks": ""
            },
            "colorscale": [
             [
              0,
              "#0d0887"
             ],
             [
              0.1111111111111111,
              "#46039f"
             ],
             [
              0.2222222222222222,
              "#7201a8"
             ],
             [
              0.3333333333333333,
              "#9c179e"
             ],
             [
              0.4444444444444444,
              "#bd3786"
             ],
             [
              0.5555555555555556,
              "#d8576b"
             ],
             [
              0.6666666666666666,
              "#ed7953"
             ],
             [
              0.7777777777777778,
              "#fb9f3a"
             ],
             [
              0.8888888888888888,
              "#fdca26"
             ],
             [
              1,
              "#f0f921"
             ]
            ],
            "type": "histogram2dcontour"
           }
          ],
          "mesh3d": [
           {
            "colorbar": {
             "outlinewidth": 0,
             "ticks": ""
            },
            "type": "mesh3d"
           }
          ],
          "parcoords": [
           {
            "line": {
             "colorbar": {
              "outlinewidth": 0,
              "ticks": ""
             }
            },
            "type": "parcoords"
           }
          ],
          "pie": [
           {
            "automargin": true,
            "type": "pie"
           }
          ],
          "scatter": [
           {
            "fillpattern": {
             "fillmode": "overlay",
             "size": 10,
             "solidity": 0.2
            },
            "type": "scatter"
           }
          ],
          "scatter3d": [
           {
            "line": {
             "colorbar": {
              "outlinewidth": 0,
              "ticks": ""
             }
            },
            "marker": {
             "colorbar": {
              "outlinewidth": 0,
              "ticks": ""
             }
            },
            "type": "scatter3d"
           }
          ],
          "scattercarpet": [
           {
            "marker": {
             "colorbar": {
              "outlinewidth": 0,
              "ticks": ""
             }
            },
            "type": "scattercarpet"
           }
          ],
          "scattergeo": [
           {
            "marker": {
             "colorbar": {
              "outlinewidth": 0,
              "ticks": ""
             }
            },
            "type": "scattergeo"
           }
          ],
          "scattergl": [
           {
            "marker": {
             "colorbar": {
              "outlinewidth": 0,
              "ticks": ""
             }
            },
            "type": "scattergl"
           }
          ],
          "scattermap": [
           {
            "marker": {
             "colorbar": {
              "outlinewidth": 0,
              "ticks": ""
             }
            },
            "type": "scattermap"
           }
          ],
          "scattermapbox": [
           {
            "marker": {
             "colorbar": {
              "outlinewidth": 0,
              "ticks": ""
             }
            },
            "type": "scattermapbox"
           }
          ],
          "scatterpolar": [
           {
            "marker": {
             "colorbar": {
              "outlinewidth": 0,
              "ticks": ""
             }
            },
            "type": "scatterpolar"
           }
          ],
          "scatterpolargl": [
           {
            "marker": {
             "colorbar": {
              "outlinewidth": 0,
              "ticks": ""
             }
            },
            "type": "scatterpolargl"
           }
          ],
          "scatterternary": [
           {
            "marker": {
             "colorbar": {
              "outlinewidth": 0,
              "ticks": ""
             }
            },
            "type": "scatterternary"
           }
          ],
          "surface": [
           {
            "colorbar": {
             "outlinewidth": 0,
             "ticks": ""
            },
            "colorscale": [
             [
              0,
              "#0d0887"
             ],
             [
              0.1111111111111111,
              "#46039f"
             ],
             [
              0.2222222222222222,
              "#7201a8"
             ],
             [
              0.3333333333333333,
              "#9c179e"
             ],
             [
              0.4444444444444444,
              "#bd3786"
             ],
             [
              0.5555555555555556,
              "#d8576b"
             ],
             [
              0.6666666666666666,
              "#ed7953"
             ],
             [
              0.7777777777777778,
              "#fb9f3a"
             ],
             [
              0.8888888888888888,
              "#fdca26"
             ],
             [
              1,
              "#f0f921"
             ]
            ],
            "type": "surface"
           }
          ],
          "table": [
           {
            "cells": {
             "fill": {
              "color": "#EBF0F8"
             },
             "line": {
              "color": "white"
             }
            },
            "header": {
             "fill": {
              "color": "#C8D4E3"
             },
             "line": {
              "color": "white"
             }
            },
            "type": "table"
           }
          ]
         },
         "layout": {
          "annotationdefaults": {
           "arrowcolor": "#2a3f5f",
           "arrowhead": 0,
           "arrowwidth": 1
          },
          "autotypenumbers": "strict",
          "coloraxis": {
           "colorbar": {
            "outlinewidth": 0,
            "ticks": ""
           }
          },
          "colorscale": {
           "diverging": [
            [
             0,
             "#8e0152"
            ],
            [
             0.1,
             "#c51b7d"
            ],
            [
             0.2,
             "#de77ae"
            ],
            [
             0.3,
             "#f1b6da"
            ],
            [
             0.4,
             "#fde0ef"
            ],
            [
             0.5,
             "#f7f7f7"
            ],
            [
             0.6,
             "#e6f5d0"
            ],
            [
             0.7,
             "#b8e186"
            ],
            [
             0.8,
             "#7fbc41"
            ],
            [
             0.9,
             "#4d9221"
            ],
            [
             1,
             "#276419"
            ]
           ],
           "sequential": [
            [
             0,
             "#0d0887"
            ],
            [
             0.1111111111111111,
             "#46039f"
            ],
            [
             0.2222222222222222,
             "#7201a8"
            ],
            [
             0.3333333333333333,
             "#9c179e"
            ],
            [
             0.4444444444444444,
             "#bd3786"
            ],
            [
             0.5555555555555556,
             "#d8576b"
            ],
            [
             0.6666666666666666,
             "#ed7953"
            ],
            [
             0.7777777777777778,
             "#fb9f3a"
            ],
            [
             0.8888888888888888,
             "#fdca26"
            ],
            [
             1,
             "#f0f921"
            ]
           ],
           "sequentialminus": [
            [
             0,
             "#0d0887"
            ],
            [
             0.1111111111111111,
             "#46039f"
            ],
            [
             0.2222222222222222,
             "#7201a8"
            ],
            [
             0.3333333333333333,
             "#9c179e"
            ],
            [
             0.4444444444444444,
             "#bd3786"
            ],
            [
             0.5555555555555556,
             "#d8576b"
            ],
            [
             0.6666666666666666,
             "#ed7953"
            ],
            [
             0.7777777777777778,
             "#fb9f3a"
            ],
            [
             0.8888888888888888,
             "#fdca26"
            ],
            [
             1,
             "#f0f921"
            ]
           ]
          },
          "colorway": [
           "#636efa",
           "#EF553B",
           "#00cc96",
           "#ab63fa",
           "#FFA15A",
           "#19d3f3",
           "#FF6692",
           "#B6E880",
           "#FF97FF",
           "#FECB52"
          ],
          "font": {
           "color": "#2a3f5f"
          },
          "geo": {
           "bgcolor": "white",
           "lakecolor": "white",
           "landcolor": "#E5ECF6",
           "showlakes": true,
           "showland": true,
           "subunitcolor": "white"
          },
          "hoverlabel": {
           "align": "left"
          },
          "hovermode": "closest",
          "mapbox": {
           "style": "light"
          },
          "paper_bgcolor": "white",
          "plot_bgcolor": "#E5ECF6",
          "polar": {
           "angularaxis": {
            "gridcolor": "white",
            "linecolor": "white",
            "ticks": ""
           },
           "bgcolor": "#E5ECF6",
           "radialaxis": {
            "gridcolor": "white",
            "linecolor": "white",
            "ticks": ""
           }
          },
          "scene": {
           "xaxis": {
            "backgroundcolor": "#E5ECF6",
            "gridcolor": "white",
            "gridwidth": 2,
            "linecolor": "white",
            "showbackground": true,
            "ticks": "",
            "zerolinecolor": "white"
           },
           "yaxis": {
            "backgroundcolor": "#E5ECF6",
            "gridcolor": "white",
            "gridwidth": 2,
            "linecolor": "white",
            "showbackground": true,
            "ticks": "",
            "zerolinecolor": "white"
           },
           "zaxis": {
            "backgroundcolor": "#E5ECF6",
            "gridcolor": "white",
            "gridwidth": 2,
            "linecolor": "white",
            "showbackground": true,
            "ticks": "",
            "zerolinecolor": "white"
           }
          },
          "shapedefaults": {
           "line": {
            "color": "#2a3f5f"
           }
          },
          "ternary": {
           "aaxis": {
            "gridcolor": "white",
            "linecolor": "white",
            "ticks": ""
           },
           "baxis": {
            "gridcolor": "white",
            "linecolor": "white",
            "ticks": ""
           },
           "bgcolor": "#E5ECF6",
           "caxis": {
            "gridcolor": "white",
            "linecolor": "white",
            "ticks": ""
           }
          },
          "title": {
           "x": 0.05
          },
          "xaxis": {
           "automargin": true,
           "gridcolor": "white",
           "linecolor": "white",
           "ticks": "",
           "title": {
            "standoff": 15
           },
           "zerolinecolor": "white",
           "zerolinewidth": 2
          },
          "yaxis": {
           "automargin": true,
           "gridcolor": "white",
           "linecolor": "white",
           "ticks": "",
           "title": {
            "standoff": 15
           },
           "zerolinecolor": "white",
           "zerolinewidth": 2
          }
         }
        },
        "title": {
         "text": "ISOMAP con 10 vecinos y 5 componentes (mostrando PC1 y PC2)"
        },
        "xaxis": {
         "anchor": "y",
         "domain": [
          0,
          1
         ],
         "title": {
          "text": "PC1"
         }
        },
        "yaxis": {
         "anchor": "x",
         "domain": [
          0,
          1
         ],
         "title": {
          "text": "PC2"
         }
        }
       }
      }
     },
     "metadata": {},
     "output_type": "display_data"
    },
    {
     "data": {
      "application/vnd.plotly.v1+json": {
       "config": {
        "plotlyServerURL": "https://plot.ly"
       },
       "data": [
        {
         "hovertemplate": "tipoCultivo=Trigo<br>PC1=%{x}<br>PC2=%{y}<extra></extra>",
         "legendgroup": "Trigo",
         "marker": {
          "color": "#636efa",
          "symbol": "circle"
         },
         "mode": "markers",
         "name": "Trigo",
         "orientation": "v",
         "showlegend": true,
         "type": "scatter",
         "x": {
          "bdata": "C1OzrYhE+L/jARmOCekVwOk3CCMx8hHAi5JWq4rN6r9JpolS9fDJv03UjC0MigBArMTgMPBk6T+uOqH2KO4PQE5TEmAuGec/NFlb+j1wCEA6E1rWu+QVwK42S72nRgnAy2r5QOsGuD8rGFh4IRwTQNjvazA9qdk/FkfDhRvIBkC6oWE3FrPVv/lz6EN7JwHApfEyrC0BB8AzcVQZrwQRQCzMTMosThRAH0/9XP+5CkDtm4CenSbZv8qqsDS7xgDAcAU4v13XCkB3HmSlWisWwJyFgtmYNgvAqhdZnJjkCsDnDloEIhUAQHmFVVN/GO+/XBm4OwTLBsCtNpOyrAzjvzmR5YUVrRBAhwmoMea1/j+aav1AwvoUwEui2xXwf/W/xuGE7DyAFEC7wSoAmtPDv1Do/WIUxYk/VPqWeHyP+r+5hSUm8vIIwEkRt6+iS/2/x7hNdhSG4r/xDhCvSZkXwM16j9u1Vvy/LqiJuBDN7T/CfjVMUEAFwCFkmOTLxPm/",
          "dtype": "f8"
         },
         "xaxis": "x",
         "y": {
          "bdata": "+LJIGBWBEEDWM+s6EkgHwIdfNmKYmve/bq59Rxn24r8dqhMC3PnsP7nZcJixJgbAOIeUKk9mEsDi8xyb4bqtPyawubgnpxZAnBZ1aftpE8AFBXF73LcNQPKQLZxXsew/hFyqvNw2DEBsXTbWREHgP8dhQnV3EhJAB7h4JE82D0C/UrvsJS0IQCkeYflWb/a/2G38psnM6j+lESu/d874P85QnK1LRQRA3U6H5SPLDUA17ZRjckMIQIOt0xriVBLAN3DPzhGtE8AWTNYunIeoPyqOUA1E/hBAUZgA0Uo0BkDcqpd0VakaQO5sLCyOEP2/VTKEBSh1CcCtJX4trtnZP6klQebVSgdA/QgfJJyk+b914WzYf30SwGY3H6Mvl+w/whWlaUcKAkAKWJCLkZT5P4j59YjVf5a/pLD0Dkv40D+s6unf7JfuP6F6VbruXxHAHOkzqeNQwj/twnKYQWAAwCl7AZaozxLA7qGAvaRZ8L8gS/BLqD4QQHhyY6upmxbA",
          "dtype": "f8"
         },
         "yaxis": "y"
        },
        {
         "hovertemplate": "tipoCultivo=Maiz<br>PC1=%{x}<br>PC2=%{y}<extra></extra>",
         "legendgroup": "Maiz",
         "marker": {
          "color": "#EF553B",
          "symbol": "circle"
         },
         "mode": "markers",
         "name": "Maiz",
         "orientation": "v",
         "showlegend": true,
         "type": "scatter",
         "x": {
          "bdata": "OUxgxR+zDkAyZHOXpfzxv/Fwa13zSBTALknEZpbSxr/YGuUfj/EHQDoqzq9ZKQjALiVRvkEo/78PCinTdAL6v/8sPZXbBgtAsCjd7VMoCUDoLqnwtgkAwJ1G2UQa7whAo3e18RfSGUBAbJnwUgUKQBp+oEecuhHAaxCO+lPhB0AmPWctMiwEQDryKfU9QAFAJGkD2ggLyz9HuCSUTRYTQInnoWLEyMA/zeh2ueYQ3z+oUwN1BZ8WwLDdtCBnHATAVp6WC0VrCUA2jmX9WHsWQEJ8qBen9vw/THSbRsDT9b8eDwBwqYn9v14nV2Zi8tu/0gF5N5zEE8ATnSDymlEVwP7BfxY6JMY/ouOhhWz4BcA+KELRoyfxP8NnvQnYgABAVGL2A+TIvr+MyAkLc60VQM346ssffO0/EG97QNHN4b9waSBtuJjSv5jPN1R0HvM/KEFBcIg27r9Da7I3xfb0v0KB2oeFOA1AK29LcwRfB0BlUugu8vnnP+oEyAtAcfE/sBZMuUr4C8DYjttiNuD5v+qdVImgegFAfWqaSXC8G0BOZJDXpH4RwDrIVz6DOt4/",
          "dtype": "f8"
         },
         "xaxis": "x",
         "y": {
          "bdata": "z0DwyQeG5D80yde/g1MLQAszDVkZPBFAIOeXrl1KBcCw7DgRvf79v7AQZX8HUhDAOTht2kYgE8AVsH8Oj5MHwDYocpbdKBTAnplT95enB8APfpgPeVURwOShkRcX5Pq/ZCvvqkILA8CxXG6fcmgBwDzy7i53rAtAS1TW92rA2z/FLeynu7QMQPje+B+8/d+/v7LyvKlC4r+4hTnGNgW8vwOs9QVcERDAM66yb2zDEcCm7HhY8Y/ivy8O6KztId8/QfHsasYY9D92ny0hxaMIQDy8fHlnWhHAA9MYJbZb3r+ldUmFrmLlvwzEH7XFKAVAF93PcS9SA8BSiWDvnpLpP2JRdMfcA/m/qO/CnmhlFUBA+c0htc8TQH4uqX7upBJAkgEY5ZKf87+RMU3RA2vqv/G9RK/4nwxAx0GZDE2T4D+ihdh2Bn/6v0nnfW7Lefi/j/KZaUVR/7+04VXlS5IZQCXoUIiP9fu/p3zbeVbr4z+9gIKtWmjrPy5HhkmDieu/B95sEt3H/b8YXzS3rVPzv+fN9qi9VRPAg5jmkZtDAkBx8zD+ZSgBQFukYanGhds/",
          "dtype": "f8"
         },
         "yaxis": "y"
        },
        {
         "hovertemplate": "tipoCultivo=Soja<br>PC1=%{x}<br>PC2=%{y}<extra></extra>",
         "legendgroup": "Soja",
         "marker": {
          "color": "#00cc96",
          "symbol": "circle"
         },
         "mode": "markers",
         "name": "Soja",
         "orientation": "v",
         "showlegend": true,
         "type": "scatter",
         "x": {
          "bdata": "n7FkSX4sEEBxNFhc1avUPzkmcbHYKQJAkMGmMVE8CcC0G/UZs70RQKZXXg9NDBJAOGLPGrDlDUD1hzbks5L/P/KM4PGLsRNAr6PmdbR1DEDIUFeQJOIDwKDksE+P5+Y/xR8UKthOBkAS/OFziwUHwBK8Bcav3xdAQ2sOo4VEC8AfVJfyKdb5P9skozHFFwbAriTn2oTf4b+0EV7YFlsUwG586uFk6f4/aTf///Kv8T8RVAEnH+rxvwlqHDW6bvu/u19KUJQ2G0DGVOWxtzwQQH+5nG8V7QbAcBE0BYTd6r/xuPFzxb0NwOm9F31EBAvAoUzOc7dOBsC8o8Ap6d77v2u3BjsiiwNAxqU+Xu+uBEDnptJTqIoEwHuft9vAjdu/jBjzQNA++D9jjomMCrIWwLBk2eoFv9w/7mURUAFxFkDbWFq9BPbyP/9CcZ3fRwfA66/tUCAeEcBH2TB/SMwMwNXwKYTf2us/2xOBeFLADsCN2Hc6BE4XQMCGJLRnAgFAtxKYRwpCA8Av0inlLRTsv1Sfdc0d7RjAnxCqn51yCMCk9tGfnm8KQMdGClpHxeE/pCRcj/axFMDE0SIlgw4XQAAzC7848xbAb2gDlxc1AEBnC9DnRXACwIU/0iP6ggxA7ZbbPxstEcA=",
          "dtype": "f8"
         },
         "xaxis": "x",
         "y": {
          "bdata": "xOJc6SSBA8AK1AKxcZ38v5jkcyJqQhPAmCH10/LuDUCZqVqiCTEEQG20/vqougBAp2uX7ujcDkCy2TBUTuS1P4zOAANcJvg/r488s5QIEcC0Z/+UaDUPQIpbuKD3rAlAVJfl+FaKCsCQcsKuFlwRwGitZtm53wxAUhu5oSJ5CsAzuS3AdSAEwHfhpyvbyRBA10z2lvAVCEBfIBYFlFIFwLgW4ccPswxAJOsHe/D96z8x3tC0Y9fgP7OACWsWrOm/UpvOOmALDUBLUE9DXFMLwOBQntJSceQ/ARf4FeBR+z8mqto+EvEIwGM4Ct/2QwfAso/T+99FBUCcm7xIpUb6PyrTLYiXJBDA1UxA9UW+6T+wYooHgRnuP/nEkQerFMs/evHQ7fmpD8CW/g/5yTvoP7uutkNEYxXAMGenA40e0j/soQe4l3oJwLOtQp0TzxNA02ZbJzBe6r/0SG5dnsALQHaVVmfKPQJAHe7an76k6r+J1MsYLFoKQPhLjEEH/wnA6d6gffSUEMAPa0hiE1PVP1JQDmdvGc4/q7MOuTHA9T/jHFkf17DnPyA0PtU5HBbAbFl58EsyCkAl9AgWhS/3PzfSSSIVz/0/X61kOSj55L/QPo1hqtDtP4k3N7H1NgzAKpqnYy0/EkA=",
          "dtype": "f8"
         },
         "yaxis": "y"
        }
       ],
       "layout": {
        "legend": {
         "title": {
          "text": "tipoCultivo"
         },
         "tracegroupgap": 0
        },
        "template": {
         "data": {
          "bar": [
           {
            "error_x": {
             "color": "#2a3f5f"
            },
            "error_y": {
             "color": "#2a3f5f"
            },
            "marker": {
             "line": {
              "color": "#E5ECF6",
              "width": 0.5
             },
             "pattern": {
              "fillmode": "overlay",
              "size": 10,
              "solidity": 0.2
             }
            },
            "type": "bar"
           }
          ],
          "barpolar": [
           {
            "marker": {
             "line": {
              "color": "#E5ECF6",
              "width": 0.5
             },
             "pattern": {
              "fillmode": "overlay",
              "size": 10,
              "solidity": 0.2
             }
            },
            "type": "barpolar"
           }
          ],
          "carpet": [
           {
            "aaxis": {
             "endlinecolor": "#2a3f5f",
             "gridcolor": "white",
             "linecolor": "white",
             "minorgridcolor": "white",
             "startlinecolor": "#2a3f5f"
            },
            "baxis": {
             "endlinecolor": "#2a3f5f",
             "gridcolor": "white",
             "linecolor": "white",
             "minorgridcolor": "white",
             "startlinecolor": "#2a3f5f"
            },
            "type": "carpet"
           }
          ],
          "choropleth": [
           {
            "colorbar": {
             "outlinewidth": 0,
             "ticks": ""
            },
            "type": "choropleth"
           }
          ],
          "contour": [
           {
            "colorbar": {
             "outlinewidth": 0,
             "ticks": ""
            },
            "colorscale": [
             [
              0,
              "#0d0887"
             ],
             [
              0.1111111111111111,
              "#46039f"
             ],
             [
              0.2222222222222222,
              "#7201a8"
             ],
             [
              0.3333333333333333,
              "#9c179e"
             ],
             [
              0.4444444444444444,
              "#bd3786"
             ],
             [
              0.5555555555555556,
              "#d8576b"
             ],
             [
              0.6666666666666666,
              "#ed7953"
             ],
             [
              0.7777777777777778,
              "#fb9f3a"
             ],
             [
              0.8888888888888888,
              "#fdca26"
             ],
             [
              1,
              "#f0f921"
             ]
            ],
            "type": "contour"
           }
          ],
          "contourcarpet": [
           {
            "colorbar": {
             "outlinewidth": 0,
             "ticks": ""
            },
            "type": "contourcarpet"
           }
          ],
          "heatmap": [
           {
            "colorbar": {
             "outlinewidth": 0,
             "ticks": ""
            },
            "colorscale": [
             [
              0,
              "#0d0887"
             ],
             [
              0.1111111111111111,
              "#46039f"
             ],
             [
              0.2222222222222222,
              "#7201a8"
             ],
             [
              0.3333333333333333,
              "#9c179e"
             ],
             [
              0.4444444444444444,
              "#bd3786"
             ],
             [
              0.5555555555555556,
              "#d8576b"
             ],
             [
              0.6666666666666666,
              "#ed7953"
             ],
             [
              0.7777777777777778,
              "#fb9f3a"
             ],
             [
              0.8888888888888888,
              "#fdca26"
             ],
             [
              1,
              "#f0f921"
             ]
            ],
            "type": "heatmap"
           }
          ],
          "histogram": [
           {
            "marker": {
             "pattern": {
              "fillmode": "overlay",
              "size": 10,
              "solidity": 0.2
             }
            },
            "type": "histogram"
           }
          ],
          "histogram2d": [
           {
            "colorbar": {
             "outlinewidth": 0,
             "ticks": ""
            },
            "colorscale": [
             [
              0,
              "#0d0887"
             ],
             [
              0.1111111111111111,
              "#46039f"
             ],
             [
              0.2222222222222222,
              "#7201a8"
             ],
             [
              0.3333333333333333,
              "#9c179e"
             ],
             [
              0.4444444444444444,
              "#bd3786"
             ],
             [
              0.5555555555555556,
              "#d8576b"
             ],
             [
              0.6666666666666666,
              "#ed7953"
             ],
             [
              0.7777777777777778,
              "#fb9f3a"
             ],
             [
              0.8888888888888888,
              "#fdca26"
             ],
             [
              1,
              "#f0f921"
             ]
            ],
            "type": "histogram2d"
           }
          ],
          "histogram2dcontour": [
           {
            "colorbar": {
             "outlinewidth": 0,
             "ticks": ""
            },
            "colorscale": [
             [
              0,
              "#0d0887"
             ],
             [
              0.1111111111111111,
              "#46039f"
             ],
             [
              0.2222222222222222,
              "#7201a8"
             ],
             [
              0.3333333333333333,
              "#9c179e"
             ],
             [
              0.4444444444444444,
              "#bd3786"
             ],
             [
              0.5555555555555556,
              "#d8576b"
             ],
             [
              0.6666666666666666,
              "#ed7953"
             ],
             [
              0.7777777777777778,
              "#fb9f3a"
             ],
             [
              0.8888888888888888,
              "#fdca26"
             ],
             [
              1,
              "#f0f921"
             ]
            ],
            "type": "histogram2dcontour"
           }
          ],
          "mesh3d": [
           {
            "colorbar": {
             "outlinewidth": 0,
             "ticks": ""
            },
            "type": "mesh3d"
           }
          ],
          "parcoords": [
           {
            "line": {
             "colorbar": {
              "outlinewidth": 0,
              "ticks": ""
             }
            },
            "type": "parcoords"
           }
          ],
          "pie": [
           {
            "automargin": true,
            "type": "pie"
           }
          ],
          "scatter": [
           {
            "fillpattern": {
             "fillmode": "overlay",
             "size": 10,
             "solidity": 0.2
            },
            "type": "scatter"
           }
          ],
          "scatter3d": [
           {
            "line": {
             "colorbar": {
              "outlinewidth": 0,
              "ticks": ""
             }
            },
            "marker": {
             "colorbar": {
              "outlinewidth": 0,
              "ticks": ""
             }
            },
            "type": "scatter3d"
           }
          ],
          "scattercarpet": [
           {
            "marker": {
             "colorbar": {
              "outlinewidth": 0,
              "ticks": ""
             }
            },
            "type": "scattercarpet"
           }
          ],
          "scattergeo": [
           {
            "marker": {
             "colorbar": {
              "outlinewidth": 0,
              "ticks": ""
             }
            },
            "type": "scattergeo"
           }
          ],
          "scattergl": [
           {
            "marker": {
             "colorbar": {
              "outlinewidth": 0,
              "ticks": ""
             }
            },
            "type": "scattergl"
           }
          ],
          "scattermap": [
           {
            "marker": {
             "colorbar": {
              "outlinewidth": 0,
              "ticks": ""
             }
            },
            "type": "scattermap"
           }
          ],
          "scattermapbox": [
           {
            "marker": {
             "colorbar": {
              "outlinewidth": 0,
              "ticks": ""
             }
            },
            "type": "scattermapbox"
           }
          ],
          "scatterpolar": [
           {
            "marker": {
             "colorbar": {
              "outlinewidth": 0,
              "ticks": ""
             }
            },
            "type": "scatterpolar"
           }
          ],
          "scatterpolargl": [
           {
            "marker": {
             "colorbar": {
              "outlinewidth": 0,
              "ticks": ""
             }
            },
            "type": "scatterpolargl"
           }
          ],
          "scatterternary": [
           {
            "marker": {
             "colorbar": {
              "outlinewidth": 0,
              "ticks": ""
             }
            },
            "type": "scatterternary"
           }
          ],
          "surface": [
           {
            "colorbar": {
             "outlinewidth": 0,
             "ticks": ""
            },
            "colorscale": [
             [
              0,
              "#0d0887"
             ],
             [
              0.1111111111111111,
              "#46039f"
             ],
             [
              0.2222222222222222,
              "#7201a8"
             ],
             [
              0.3333333333333333,
              "#9c179e"
             ],
             [
              0.4444444444444444,
              "#bd3786"
             ],
             [
              0.5555555555555556,
              "#d8576b"
             ],
             [
              0.6666666666666666,
              "#ed7953"
             ],
             [
              0.7777777777777778,
              "#fb9f3a"
             ],
             [
              0.8888888888888888,
              "#fdca26"
             ],
             [
              1,
              "#f0f921"
             ]
            ],
            "type": "surface"
           }
          ],
          "table": [
           {
            "cells": {
             "fill": {
              "color": "#EBF0F8"
             },
             "line": {
              "color": "white"
             }
            },
            "header": {
             "fill": {
              "color": "#C8D4E3"
             },
             "line": {
              "color": "white"
             }
            },
            "type": "table"
           }
          ]
         },
         "layout": {
          "annotationdefaults": {
           "arrowcolor": "#2a3f5f",
           "arrowhead": 0,
           "arrowwidth": 1
          },
          "autotypenumbers": "strict",
          "coloraxis": {
           "colorbar": {
            "outlinewidth": 0,
            "ticks": ""
           }
          },
          "colorscale": {
           "diverging": [
            [
             0,
             "#8e0152"
            ],
            [
             0.1,
             "#c51b7d"
            ],
            [
             0.2,
             "#de77ae"
            ],
            [
             0.3,
             "#f1b6da"
            ],
            [
             0.4,
             "#fde0ef"
            ],
            [
             0.5,
             "#f7f7f7"
            ],
            [
             0.6,
             "#e6f5d0"
            ],
            [
             0.7,
             "#b8e186"
            ],
            [
             0.8,
             "#7fbc41"
            ],
            [
             0.9,
             "#4d9221"
            ],
            [
             1,
             "#276419"
            ]
           ],
           "sequential": [
            [
             0,
             "#0d0887"
            ],
            [
             0.1111111111111111,
             "#46039f"
            ],
            [
             0.2222222222222222,
             "#7201a8"
            ],
            [
             0.3333333333333333,
             "#9c179e"
            ],
            [
             0.4444444444444444,
             "#bd3786"
            ],
            [
             0.5555555555555556,
             "#d8576b"
            ],
            [
             0.6666666666666666,
             "#ed7953"
            ],
            [
             0.7777777777777778,
             "#fb9f3a"
            ],
            [
             0.8888888888888888,
             "#fdca26"
            ],
            [
             1,
             "#f0f921"
            ]
           ],
           "sequentialminus": [
            [
             0,
             "#0d0887"
            ],
            [
             0.1111111111111111,
             "#46039f"
            ],
            [
             0.2222222222222222,
             "#7201a8"
            ],
            [
             0.3333333333333333,
             "#9c179e"
            ],
            [
             0.4444444444444444,
             "#bd3786"
            ],
            [
             0.5555555555555556,
             "#d8576b"
            ],
            [
             0.6666666666666666,
             "#ed7953"
            ],
            [
             0.7777777777777778,
             "#fb9f3a"
            ],
            [
             0.8888888888888888,
             "#fdca26"
            ],
            [
             1,
             "#f0f921"
            ]
           ]
          },
          "colorway": [
           "#636efa",
           "#EF553B",
           "#00cc96",
           "#ab63fa",
           "#FFA15A",
           "#19d3f3",
           "#FF6692",
           "#B6E880",
           "#FF97FF",
           "#FECB52"
          ],
          "font": {
           "color": "#2a3f5f"
          },
          "geo": {
           "bgcolor": "white",
           "lakecolor": "white",
           "landcolor": "#E5ECF6",
           "showlakes": true,
           "showland": true,
           "subunitcolor": "white"
          },
          "hoverlabel": {
           "align": "left"
          },
          "hovermode": "closest",
          "mapbox": {
           "style": "light"
          },
          "paper_bgcolor": "white",
          "plot_bgcolor": "#E5ECF6",
          "polar": {
           "angularaxis": {
            "gridcolor": "white",
            "linecolor": "white",
            "ticks": ""
           },
           "bgcolor": "#E5ECF6",
           "radialaxis": {
            "gridcolor": "white",
            "linecolor": "white",
            "ticks": ""
           }
          },
          "scene": {
           "xaxis": {
            "backgroundcolor": "#E5ECF6",
            "gridcolor": "white",
            "gridwidth": 2,
            "linecolor": "white",
            "showbackground": true,
            "ticks": "",
            "zerolinecolor": "white"
           },
           "yaxis": {
            "backgroundcolor": "#E5ECF6",
            "gridcolor": "white",
            "gridwidth": 2,
            "linecolor": "white",
            "showbackground": true,
            "ticks": "",
            "zerolinecolor": "white"
           },
           "zaxis": {
            "backgroundcolor": "#E5ECF6",
            "gridcolor": "white",
            "gridwidth": 2,
            "linecolor": "white",
            "showbackground": true,
            "ticks": "",
            "zerolinecolor": "white"
           }
          },
          "shapedefaults": {
           "line": {
            "color": "#2a3f5f"
           }
          },
          "ternary": {
           "aaxis": {
            "gridcolor": "white",
            "linecolor": "white",
            "ticks": ""
           },
           "baxis": {
            "gridcolor": "white",
            "linecolor": "white",
            "ticks": ""
           },
           "bgcolor": "#E5ECF6",
           "caxis": {
            "gridcolor": "white",
            "linecolor": "white",
            "ticks": ""
           }
          },
          "title": {
           "x": 0.05
          },
          "xaxis": {
           "automargin": true,
           "gridcolor": "white",
           "linecolor": "white",
           "ticks": "",
           "title": {
            "standoff": 15
           },
           "zerolinecolor": "white",
           "zerolinewidth": 2
          },
          "yaxis": {
           "automargin": true,
           "gridcolor": "white",
           "linecolor": "white",
           "ticks": "",
           "title": {
            "standoff": 15
           },
           "zerolinecolor": "white",
           "zerolinewidth": 2
          }
         }
        },
        "title": {
         "text": "ISOMAP con 10 vecinos y 10 componentes (mostrando PC1 y PC2)"
        },
        "xaxis": {
         "anchor": "y",
         "domain": [
          0,
          1
         ],
         "title": {
          "text": "PC1"
         }
        },
        "yaxis": {
         "anchor": "x",
         "domain": [
          0,
          1
         ],
         "title": {
          "text": "PC2"
         }
        }
       }
      }
     },
     "metadata": {},
     "output_type": "display_data"
    },
    {
     "data": {
      "application/vnd.plotly.v1+json": {
       "config": {
        "plotlyServerURL": "https://plot.ly"
       },
       "data": [
        {
         "hovertemplate": "tipoCultivo=Trigo<br>PC1=%{x}<br>PC2=%{y}<extra></extra>",
         "legendgroup": "Trigo",
         "marker": {
          "color": "#636efa",
          "symbol": "circle"
         },
         "mode": "markers",
         "name": "Trigo",
         "orientation": "v",
         "showlegend": true,
         "type": "scatter",
         "x": {
          "bdata": "PGtObDPS6T8RY8HzFBcSwGkbn4rctwbAHoLwQLFt27+XZ9Rh3GDPv/u4CdINe4U/Eso/BDtfcr97eQa8/W0IQB5T/WwCkua/cukKkeCv9z8Fru02DnwGwIeGwDuMRwLAa+qtrnUd4j9Dp+ni6GD+P9FiRYjRJuY/tiC/zGQEAkCiLOjdPEX0v316uKkR1P6/1BqQ/TH/8L+bzrGlkYMHQGDhQIU26RJA9bKYysEHBUBwOHwiz26qPzA5TBfAUgbAQEt4dreQ8j/OoyvOHuEQwC6E2vzJj/G/LLCcAGmH8L8QXn/XRtsBQHc7lmg5i/G/0k0fW4T5B8BwdpXWELnSv1tqGCnGJRBATU/vqk3cAEACbU97SMoSwNSYp/n6T/m/nj9h8Jk0EUCduPhhwvPhv9KbVXaWjCu/lTtDhvki+L+K1/LDFAADwPdEKToF5gLAbDsIwfYBvL+olYK94ScSwFVznPuy2/u/3CrO6MtD5j+8f0Dn11L8vwq5nKt56gTA",
          "dtype": "f8"
         },
         "xaxis": "x",
         "y": {
          "bdata": "3SdjXyQz87/nBaFBMP72PwFacLvm6wBAylANyCOtCUD5VLVQHzf8v/mXbz6KHPE/I0Jab4SPCkDdSeFZ+0egv0c9Ajg70Q7AbHrrgjP4CkDm3X8h7fQLwJU2c2qAvcY//LMtIUPHu794XdC51d0FwIDwd7HtjgXAAchYicdnAsB44CLP4uEGwMJvvbNWS9s/DWMDPBu5/T9ulniwJJL5v2W3z9PQl/a/r/czSknrBsAWgmD6P34AwEDxf9PgLAJAmJwSiK5eA0C2czI/E0L4v+RTHOEoSvO//qMiDV7v57+qEgDjUP4JwNgOLMex7Og/a5OCg66y8D9BldNoNifIvyshDbeWMPm/YTmKThEq3z8N3A1Dz176PzLswjyAouC/hADYiyIF6L+J651YvfUAwMc0Oz/+6QHAl9G1XKfTA0BZBbDDX2oDwFpPToDl2AJAKVlwzaC35L/8j2AVMYcBQMLEIQnaGwlACXh7F8hX4T+knUDOorgNwIQbG99JrAJA",
          "dtype": "f8"
         },
         "yaxis": "y"
        },
        {
         "hovertemplate": "tipoCultivo=Maiz<br>PC1=%{x}<br>PC2=%{y}<extra></extra>",
         "legendgroup": "Maiz",
         "marker": {
          "color": "#EF553B",
          "symbol": "circle"
         },
         "mode": "markers",
         "name": "Maiz",
         "orientation": "v",
         "showlegend": true,
         "type": "scatter",
         "x": {
          "bdata": "l0803DTBA0AUmgloLjrkv4ajTKKK7gnAKonre+oAwz8za8fRAkrtP47rtj68zQXA9C5SzO1ZB8BnWv5d4CL9v+fT1Fq+Xtk/3hbsk9LCBECN/FS5n/75vzLIiwk/Mvg/dg85TVvTBUDdjjra0EQHQDufBL0vGA3ADTJEKDna/z/16QYoJb3+Px9vyDqD5P4/uTWyVrHQ5D+vSXA3tkgHQJKlYB51key/OimRwi+xsj9kITmStLcIwBS/AP6CO9y/Fz/lv5LsBkDJQl25M8QRQLWV0191PPA/ca/ra5fJ8L8CxPPcgp/0v6f0HGmFOuA/2nmhaKU/D8CkmuRKH0oRwNELPtvjaNs/vaVgX9VZ1T/PQ+EZwgLpP4qxljjbuwBAWT2z6YEC0z8a73MwNWcQQD7/U9w6Fuc/Ku9TtIYV1r9iIFsxQECQvzT+tZre79M/WQHdYliM7r9J+4v60d/kP6nhzAeGsvk/q0HXqQ89CUC7wjceDl7iP6TlhdQn/OU/8NtgaitoA8B02vk+Parvv2MiCt9bdcE/hUIp9LHODECcOeKtVWgEwPJ1dluSsd4/",
          "dtype": "f8"
         },
         "xaxis": "x",
         "y": {
          "bdata": "ZrOo/B8r5L81VayBIpL1v9OJ7Jt+BgzAeZxkfeyt5D+pw2L2ul/dPxDug4L/fP4/D2FiRqNlBUDWVZ3p4Jf9Py+a7X/g6AJAXe3ADdDsEUA7MNtIjj8LQMS2b9V0vO0/wG1NslCCB0BoMEyqb+f/P7sKQMoVAQ7AlwjpZ9K77j9IUUYd4hQCwIMdZJ0KveM/7w91qXnoAsADC6Mz8xn6P64G86IlhARABzHKdJPUA0DTgw6JpDfzv7H+eb9yegRAjBrhulPL+L+AU9Vp1Hf4v/spOa/sIghAhJQd+3MamD9pLd/dNFOkP0OuMQzRvf+/BC04IZQP7j/pHyR4DTzZvyq0uTKguwdAKUMgY4qICsAML8DC/CUBwNQ5wRlalQXAO/bLtJrpCkAvKdsPKD/4P6fFqQ06SAPAp9H24pdpAsCVcmhAhmABQNdzWel0iAJA8KjHtJnJ1D8B+ioEoscQwIsMCKNQIr0//L+MfBC/4D9GWA5NvOXTv2y4jL2lxvo/PZaTYtto4r90M4M25/HYvwGf907Bi/4/QXrkTfFX1j8GWD2DEBvyv1u4HDlrBti/",
          "dtype": "f8"
         },
         "yaxis": "y"
        },
        {
         "hovertemplate": "tipoCultivo=Soja<br>PC1=%{x}<br>PC2=%{y}<extra></extra>",
         "legendgroup": "Soja",
         "marker": {
          "color": "#00cc96",
          "symbol": "circle"
         },
         "mode": "markers",
         "name": "Soja",
         "orientation": "v",
         "showlegend": true,
         "type": "scatter",
         "x": {
          "bdata": "PE16frb1A0Cfr5yQz+HcP+0MXGWLWes/QNKUDFF2/r8TwQzMRuwNQCEP7vrE6ApAQXVCByFiAkBqeduC4afLP0k2ucRx5AlAlPmkrrlW+D+zQohqCbbivwZK7xsOtOo/uUaoPh+3BEDujVbiLSADwOfjox/kyAlA32Jl2Ri0CMDNXw5Hm8ICQOjbr4nfSvy/WB+8LgR08D8dI9diIx4SwI0poD5W0Og/PVt0NSmc5j8Y21A2r4o7v+/WBUgZUOi/bCKSl1zuF0CVSLpLoAQDQFeaw3VwhOe/2NDL6dTq6z/eob2rSIAKwBIHqrMi0BDAiRRpoGR02L+Lc7tOXCP0v8CFi77c1QdABjK8C7y+7j+xASmQrUH3v1tY01E9++y/njdFwBuL8D+ofeNHIREDwJbmOvDVq+q/MJ9B3U9yDUC47GcBaKetv2fcaNUSgLi/5zrEFuesCsDc7n+SQLDyv0yIgQ98ifg/Km/9MYQVBcAmfjXcokEVQFPPDvfBgOI/qXR14C1G+b9bbQI2xLywv2aCE6JSIQzAs1IGds1VAcCTz00BTkb1PwOD/WKzD/a/7t7coyViBcDjsWtfabEMQNWkuZHrUwrANwz+k1Rf6j8exro5sYfkv0GXwDYKtfc/J6EfIsC1AsA=",
          "dtype": "f8"
         },
         "xaxis": "x",
         "y": {
          "bdata": "wZoXVPQG5z/+c3m9QNUIQCi1dgNS8ghAKL6D604zDcBa2LQnXHcAwKY9zLjPcfi/+GzkLpWmBsBbsHb7c2XWv+l87vznHe6/pYvTEHBaCkBMMyR2jv3mv4xcJnSQlPm/qAjdjq+tEkCKUCeHP1v4Pxrt4CYulPu/t4uarh4aAkA6ENA1ngoJQKrs4BO85RDAltdWk9sT/r/qVXN6fSzVP5Xmf/hKXgrAtpt0E6n97b94zyUD6dzgvzNBhF/Ex/A/ja2DGe4J/b+9x4z8ji0HQMzZ/Fzwt+y/MvJMZ0Pm2z9FmbRtc9wDQIkGCsiflvc/TkETM26Z+D80KER0Rl7iv+ElxG7FpxBAOoGp3T8I5b8BEojAXpH2v555UYcQ8QpAB9VuO4r1DEBtyYxwZgjwv4LFjT8h5glAPkk6Ki4u8z/FVU2sG7/9P/1aaZ0K6AfAFcB2njoI879sir7YN/H/v4P/YKE+jfO/6XvV6BlS2b97pjHJA2j4v4VeIjsVoANALtriASOi/T+jmWT7SubQP5Jexws0ZPm/PsYooeSeBsD3rzJUu074v4gNTdLLcAJA24LGmIASEcCDD3KmFXGNP6piPhqgywzAIewMSIgB4b8stTAXT7UDwIsWUwYLLgJAXVcKXzAvEMA=",
          "dtype": "f8"
         },
         "yaxis": "y"
        }
       ],
       "layout": {
        "legend": {
         "title": {
          "text": "tipoCultivo"
         },
         "tracegroupgap": 0
        },
        "template": {
         "data": {
          "bar": [
           {
            "error_x": {
             "color": "#2a3f5f"
            },
            "error_y": {
             "color": "#2a3f5f"
            },
            "marker": {
             "line": {
              "color": "#E5ECF6",
              "width": 0.5
             },
             "pattern": {
              "fillmode": "overlay",
              "size": 10,
              "solidity": 0.2
             }
            },
            "type": "bar"
           }
          ],
          "barpolar": [
           {
            "marker": {
             "line": {
              "color": "#E5ECF6",
              "width": 0.5
             },
             "pattern": {
              "fillmode": "overlay",
              "size": 10,
              "solidity": 0.2
             }
            },
            "type": "barpolar"
           }
          ],
          "carpet": [
           {
            "aaxis": {
             "endlinecolor": "#2a3f5f",
             "gridcolor": "white",
             "linecolor": "white",
             "minorgridcolor": "white",
             "startlinecolor": "#2a3f5f"
            },
            "baxis": {
             "endlinecolor": "#2a3f5f",
             "gridcolor": "white",
             "linecolor": "white",
             "minorgridcolor": "white",
             "startlinecolor": "#2a3f5f"
            },
            "type": "carpet"
           }
          ],
          "choropleth": [
           {
            "colorbar": {
             "outlinewidth": 0,
             "ticks": ""
            },
            "type": "choropleth"
           }
          ],
          "contour": [
           {
            "colorbar": {
             "outlinewidth": 0,
             "ticks": ""
            },
            "colorscale": [
             [
              0,
              "#0d0887"
             ],
             [
              0.1111111111111111,
              "#46039f"
             ],
             [
              0.2222222222222222,
              "#7201a8"
             ],
             [
              0.3333333333333333,
              "#9c179e"
             ],
             [
              0.4444444444444444,
              "#bd3786"
             ],
             [
              0.5555555555555556,
              "#d8576b"
             ],
             [
              0.6666666666666666,
              "#ed7953"
             ],
             [
              0.7777777777777778,
              "#fb9f3a"
             ],
             [
              0.8888888888888888,
              "#fdca26"
             ],
             [
              1,
              "#f0f921"
             ]
            ],
            "type": "contour"
           }
          ],
          "contourcarpet": [
           {
            "colorbar": {
             "outlinewidth": 0,
             "ticks": ""
            },
            "type": "contourcarpet"
           }
          ],
          "heatmap": [
           {
            "colorbar": {
             "outlinewidth": 0,
             "ticks": ""
            },
            "colorscale": [
             [
              0,
              "#0d0887"
             ],
             [
              0.1111111111111111,
              "#46039f"
             ],
             [
              0.2222222222222222,
              "#7201a8"
             ],
             [
              0.3333333333333333,
              "#9c179e"
             ],
             [
              0.4444444444444444,
              "#bd3786"
             ],
             [
              0.5555555555555556,
              "#d8576b"
             ],
             [
              0.6666666666666666,
              "#ed7953"
             ],
             [
              0.7777777777777778,
              "#fb9f3a"
             ],
             [
              0.8888888888888888,
              "#fdca26"
             ],
             [
              1,
              "#f0f921"
             ]
            ],
            "type": "heatmap"
           }
          ],
          "histogram": [
           {
            "marker": {
             "pattern": {
              "fillmode": "overlay",
              "size": 10,
              "solidity": 0.2
             }
            },
            "type": "histogram"
           }
          ],
          "histogram2d": [
           {
            "colorbar": {
             "outlinewidth": 0,
             "ticks": ""
            },
            "colorscale": [
             [
              0,
              "#0d0887"
             ],
             [
              0.1111111111111111,
              "#46039f"
             ],
             [
              0.2222222222222222,
              "#7201a8"
             ],
             [
              0.3333333333333333,
              "#9c179e"
             ],
             [
              0.4444444444444444,
              "#bd3786"
             ],
             [
              0.5555555555555556,
              "#d8576b"
             ],
             [
              0.6666666666666666,
              "#ed7953"
             ],
             [
              0.7777777777777778,
              "#fb9f3a"
             ],
             [
              0.8888888888888888,
              "#fdca26"
             ],
             [
              1,
              "#f0f921"
             ]
            ],
            "type": "histogram2d"
           }
          ],
          "histogram2dcontour": [
           {
            "colorbar": {
             "outlinewidth": 0,
             "ticks": ""
            },
            "colorscale": [
             [
              0,
              "#0d0887"
             ],
             [
              0.1111111111111111,
              "#46039f"
             ],
             [
              0.2222222222222222,
              "#7201a8"
             ],
             [
              0.3333333333333333,
              "#9c179e"
             ],
             [
              0.4444444444444444,
              "#bd3786"
             ],
             [
              0.5555555555555556,
              "#d8576b"
             ],
             [
              0.6666666666666666,
              "#ed7953"
             ],
             [
              0.7777777777777778,
              "#fb9f3a"
             ],
             [
              0.8888888888888888,
              "#fdca26"
             ],
             [
              1,
              "#f0f921"
             ]
            ],
            "type": "histogram2dcontour"
           }
          ],
          "mesh3d": [
           {
            "colorbar": {
             "outlinewidth": 0,
             "ticks": ""
            },
            "type": "mesh3d"
           }
          ],
          "parcoords": [
           {
            "line": {
             "colorbar": {
              "outlinewidth": 0,
              "ticks": ""
             }
            },
            "type": "parcoords"
           }
          ],
          "pie": [
           {
            "automargin": true,
            "type": "pie"
           }
          ],
          "scatter": [
           {
            "fillpattern": {
             "fillmode": "overlay",
             "size": 10,
             "solidity": 0.2
            },
            "type": "scatter"
           }
          ],
          "scatter3d": [
           {
            "line": {
             "colorbar": {
              "outlinewidth": 0,
              "ticks": ""
             }
            },
            "marker": {
             "colorbar": {
              "outlinewidth": 0,
              "ticks": ""
             }
            },
            "type": "scatter3d"
           }
          ],
          "scattercarpet": [
           {
            "marker": {
             "colorbar": {
              "outlinewidth": 0,
              "ticks": ""
             }
            },
            "type": "scattercarpet"
           }
          ],
          "scattergeo": [
           {
            "marker": {
             "colorbar": {
              "outlinewidth": 0,
              "ticks": ""
             }
            },
            "type": "scattergeo"
           }
          ],
          "scattergl": [
           {
            "marker": {
             "colorbar": {
              "outlinewidth": 0,
              "ticks": ""
             }
            },
            "type": "scattergl"
           }
          ],
          "scattermap": [
           {
            "marker": {
             "colorbar": {
              "outlinewidth": 0,
              "ticks": ""
             }
            },
            "type": "scattermap"
           }
          ],
          "scattermapbox": [
           {
            "marker": {
             "colorbar": {
              "outlinewidth": 0,
              "ticks": ""
             }
            },
            "type": "scattermapbox"
           }
          ],
          "scatterpolar": [
           {
            "marker": {
             "colorbar": {
              "outlinewidth": 0,
              "ticks": ""
             }
            },
            "type": "scatterpolar"
           }
          ],
          "scatterpolargl": [
           {
            "marker": {
             "colorbar": {
              "outlinewidth": 0,
              "ticks": ""
             }
            },
            "type": "scatterpolargl"
           }
          ],
          "scatterternary": [
           {
            "marker": {
             "colorbar": {
              "outlinewidth": 0,
              "ticks": ""
             }
            },
            "type": "scatterternary"
           }
          ],
          "surface": [
           {
            "colorbar": {
             "outlinewidth": 0,
             "ticks": ""
            },
            "colorscale": [
             [
              0,
              "#0d0887"
             ],
             [
              0.1111111111111111,
              "#46039f"
             ],
             [
              0.2222222222222222,
              "#7201a8"
             ],
             [
              0.3333333333333333,
              "#9c179e"
             ],
             [
              0.4444444444444444,
              "#bd3786"
             ],
             [
              0.5555555555555556,
              "#d8576b"
             ],
             [
              0.6666666666666666,
              "#ed7953"
             ],
             [
              0.7777777777777778,
              "#fb9f3a"
             ],
             [
              0.8888888888888888,
              "#fdca26"
             ],
             [
              1,
              "#f0f921"
             ]
            ],
            "type": "surface"
           }
          ],
          "table": [
           {
            "cells": {
             "fill": {
              "color": "#EBF0F8"
             },
             "line": {
              "color": "white"
             }
            },
            "header": {
             "fill": {
              "color": "#C8D4E3"
             },
             "line": {
              "color": "white"
             }
            },
            "type": "table"
           }
          ]
         },
         "layout": {
          "annotationdefaults": {
           "arrowcolor": "#2a3f5f",
           "arrowhead": 0,
           "arrowwidth": 1
          },
          "autotypenumbers": "strict",
          "coloraxis": {
           "colorbar": {
            "outlinewidth": 0,
            "ticks": ""
           }
          },
          "colorscale": {
           "diverging": [
            [
             0,
             "#8e0152"
            ],
            [
             0.1,
             "#c51b7d"
            ],
            [
             0.2,
             "#de77ae"
            ],
            [
             0.3,
             "#f1b6da"
            ],
            [
             0.4,
             "#fde0ef"
            ],
            [
             0.5,
             "#f7f7f7"
            ],
            [
             0.6,
             "#e6f5d0"
            ],
            [
             0.7,
             "#b8e186"
            ],
            [
             0.8,
             "#7fbc41"
            ],
            [
             0.9,
             "#4d9221"
            ],
            [
             1,
             "#276419"
            ]
           ],
           "sequential": [
            [
             0,
             "#0d0887"
            ],
            [
             0.1111111111111111,
             "#46039f"
            ],
            [
             0.2222222222222222,
             "#7201a8"
            ],
            [
             0.3333333333333333,
             "#9c179e"
            ],
            [
             0.4444444444444444,
             "#bd3786"
            ],
            [
             0.5555555555555556,
             "#d8576b"
            ],
            [
             0.6666666666666666,
             "#ed7953"
            ],
            [
             0.7777777777777778,
             "#fb9f3a"
            ],
            [
             0.8888888888888888,
             "#fdca26"
            ],
            [
             1,
             "#f0f921"
            ]
           ],
           "sequentialminus": [
            [
             0,
             "#0d0887"
            ],
            [
             0.1111111111111111,
             "#46039f"
            ],
            [
             0.2222222222222222,
             "#7201a8"
            ],
            [
             0.3333333333333333,
             "#9c179e"
            ],
            [
             0.4444444444444444,
             "#bd3786"
            ],
            [
             0.5555555555555556,
             "#d8576b"
            ],
            [
             0.6666666666666666,
             "#ed7953"
            ],
            [
             0.7777777777777778,
             "#fb9f3a"
            ],
            [
             0.8888888888888888,
             "#fdca26"
            ],
            [
             1,
             "#f0f921"
            ]
           ]
          },
          "colorway": [
           "#636efa",
           "#EF553B",
           "#00cc96",
           "#ab63fa",
           "#FFA15A",
           "#19d3f3",
           "#FF6692",
           "#B6E880",
           "#FF97FF",
           "#FECB52"
          ],
          "font": {
           "color": "#2a3f5f"
          },
          "geo": {
           "bgcolor": "white",
           "lakecolor": "white",
           "landcolor": "#E5ECF6",
           "showlakes": true,
           "showland": true,
           "subunitcolor": "white"
          },
          "hoverlabel": {
           "align": "left"
          },
          "hovermode": "closest",
          "mapbox": {
           "style": "light"
          },
          "paper_bgcolor": "white",
          "plot_bgcolor": "#E5ECF6",
          "polar": {
           "angularaxis": {
            "gridcolor": "white",
            "linecolor": "white",
            "ticks": ""
           },
           "bgcolor": "#E5ECF6",
           "radialaxis": {
            "gridcolor": "white",
            "linecolor": "white",
            "ticks": ""
           }
          },
          "scene": {
           "xaxis": {
            "backgroundcolor": "#E5ECF6",
            "gridcolor": "white",
            "gridwidth": 2,
            "linecolor": "white",
            "showbackground": true,
            "ticks": "",
            "zerolinecolor": "white"
           },
           "yaxis": {
            "backgroundcolor": "#E5ECF6",
            "gridcolor": "white",
            "gridwidth": 2,
            "linecolor": "white",
            "showbackground": true,
            "ticks": "",
            "zerolinecolor": "white"
           },
           "zaxis": {
            "backgroundcolor": "#E5ECF6",
            "gridcolor": "white",
            "gridwidth": 2,
            "linecolor": "white",
            "showbackground": true,
            "ticks": "",
            "zerolinecolor": "white"
           }
          },
          "shapedefaults": {
           "line": {
            "color": "#2a3f5f"
           }
          },
          "ternary": {
           "aaxis": {
            "gridcolor": "white",
            "linecolor": "white",
            "ticks": ""
           },
           "baxis": {
            "gridcolor": "white",
            "linecolor": "white",
            "ticks": ""
           },
           "bgcolor": "#E5ECF6",
           "caxis": {
            "gridcolor": "white",
            "linecolor": "white",
            "ticks": ""
           }
          },
          "title": {
           "x": 0.05
          },
          "xaxis": {
           "automargin": true,
           "gridcolor": "white",
           "linecolor": "white",
           "ticks": "",
           "title": {
            "standoff": 15
           },
           "zerolinecolor": "white",
           "zerolinewidth": 2
          },
          "yaxis": {
           "automargin": true,
           "gridcolor": "white",
           "linecolor": "white",
           "ticks": "",
           "title": {
            "standoff": 15
           },
           "zerolinecolor": "white",
           "zerolinewidth": 2
          }
         }
        },
        "title": {
         "text": "ISOMAP con 30 vecinos y 2 componentes (mostrando PC1 y PC2)"
        },
        "xaxis": {
         "anchor": "y",
         "domain": [
          0,
          1
         ],
         "title": {
          "text": "PC1"
         }
        },
        "yaxis": {
         "anchor": "x",
         "domain": [
          0,
          1
         ],
         "title": {
          "text": "PC2"
         }
        }
       }
      }
     },
     "metadata": {},
     "output_type": "display_data"
    },
    {
     "data": {
      "application/vnd.plotly.v1+json": {
       "config": {
        "plotlyServerURL": "https://plot.ly"
       },
       "data": [
        {
         "hovertemplate": "tipoCultivo=Trigo<br>PC1=%{x}<br>PC2=%{y}<extra></extra>",
         "legendgroup": "Trigo",
         "marker": {
          "color": "#636efa",
          "symbol": "circle"
         },
         "mode": "markers",
         "name": "Trigo",
         "orientation": "v",
         "showlegend": true,
         "type": "scatter",
         "x": {
          "bdata": "PWtObDPS6T8PY8HzFBcSwGcbn4rctwbACYLwQLFt27+sZ9Rh3GDPv2i4CdINe4U/b8Q/BDtfcr95eQa8/W0IQCJT/WwCkua/dukKkeCv9z8Hru02DnwGwIaGwDuMRwLAbOqtrnUd4j87p+ni6GD+P8liRYjRJuY/tCC/zGQEAkCjLOjdPEX0v4B6uKkR1P6/zxqQ/TH/8L+YzrGlkYMHQF/hQIU26RJA8rKYysEHBUD2N3wiz26qPyw5TBfAUgbAQUt4dreQ8j/OoyvOHuEQwC6E2vzJj/G/KLCcAGmH8L8OXn/XRtsBQHU7lmg5i/G/z00fW4T5B8BwdpXWELnSv1pqGCnGJRBAS0/vqk3cAEABbU97SMoSwNKYp/n6T/m/nT9h8Jk0EUCiuPhhwvPhv5ZHVnaWjCu/kDtDhvki+L+L1/LDFAADwPdEKToF5gLAhDsIwfYBvL+nlYK94ScSwFBznPuy2/u/2yrO6MtD5j/Bf0Dn11L8vwm5nKt56gTA",
          "dtype": "f8"
         },
         "xaxis": "x",
         "y": {
          "bdata": "3SdjXyQz87/nBaFBMP72PwFacLvm6wBAx1ANyCOtCUD3VLVQHzf8v/qXbz6KHPE/IUJab4SPCkBMSuFZ+0egv0U9Ajg70Q7AanrrgjP4CkDl3X8h7fQLwJM2c2qAvcY/SLQtIUPHu791XdC51d0FwILwd7HtjgXAAchYicdnAsB24CLP4uEGwM5vvbNWS9s/CGMDPBu5/T9wlniwJJL5v2m3z9PQl/a/r/czSknrBsAWgmD6P34AwEHxf9PgLAJAl5wSiK5eA0C0czI/E0L4v+dTHOEoSvO//qMiDV7v57+rEgDjUP4JwM8OLMex7Og/cJOCg66y8D9OldNoNifIvzAhDbeWMPm/YDmKThEq3z8O3A1Dz176PzLswjyAouC/hgDYiyIF6L+H651YvfUAwMc0Oz/+6QHAltG1XKfTA0BYBbDDX2oDwFxPToDl2AJAKllwzaC35L/9j2AVMYcBQMLEIQnaGwlABXh7F8hX4T+inUDOorgNwIMbG99JrAJA",
          "dtype": "f8"
         },
         "yaxis": "y"
        },
        {
         "hovertemplate": "tipoCultivo=Maiz<br>PC1=%{x}<br>PC2=%{y}<extra></extra>",
         "legendgroup": "Maiz",
         "marker": {
          "color": "#EF553B",
          "symbol": "circle"
         },
         "mode": "markers",
         "name": "Maiz",
         "orientation": "v",
         "showlegend": true,
         "type": "scatter",
         "x": {
          "bdata": "mE803DTBA0ATmgloLjrkv4ejTKKK7gnA74jre+oAwz8ua8fRAkrtP4zrtj68zQXA8S5SzO1ZB8BmWv5d4CL9v+vT1Fq+Xtk/3xbsk9LCBECG/FS5n/75vy/Iiwk/Mvg/eA85TVvTBUDfjjra0EQHQDyfBL0vGA3ADjJEKDna/z/w6QYoJb3+PyBvyDqD5P4/rjWyVrHQ5D+xSXA3tkgHQIqlYB51key/YCmRwi+xsj9jITmStLcIwPy+AP6CO9y/Fj/lv5LsBkDIQl25M8QRQLmV0191PPA/cK/ra5fJ8L8BxPPcgp/0v6P0HGmFOuA/13mhaKU/D8CjmuRKH0oRwNsLPtvjaNs/xKVgX9VZ1T/BQ+EZwgLpP4axljjbuwBAbD2z6YEC0z8a73MwNWcQQDz/U9w6Fuc/Oe9TtIYV1r+DH1sxQECQv0v+tZre79M/WQHdYliM7r9A+4v60d/kP6jhzAeGsvk/qkHXqQ89CUC9wjceDl7iP6vlhdQn/OU/79tgaitoA8By2vk+Parvv1EiCt9bdcE/hEIp9LHODECdOeKtVWgEwPF1dluSsd4/",
          "dtype": "f8"
         },
         "xaxis": "x",
         "y": {
          "bdata": "bbOo/B8r5L8uVayBIpL1v8+J7Jt+BgzAa5xkfeyt5D+mw2L2ul/dPw7ug4L/fP4/EGFiRqNlBUDaVZ3p4Jf9PzGa7X/g6AJAW+3ADdDsEUA7MNtIjj8LQMi2b9V0vO0/v21NslCCB0BkMEyqb+f/P7kKQMoVAQ7AlAjpZ9K77j9IUUYd4hQCwH0dZJ0KveM/7g91qXnoAsACC6Mz8xn6P6wG86IlhARABjHKdJPUA0DRgw6JpDfzv7H+eb9yegRAjxrhulPL+L+AU9Vp1Hf4v/kpOa/sIghAyZQd+3MamD8kLd/dNFOkP0OuMQzRvf+/CC04IZQP7j/YHyR4DTzZvym0uTKguwdAKkMgY4qICsAML8DC/CUBwNU5wRlalQXAOvbLtJrpCkAsKdsPKD/4P6jFqQ06SAPAp9H24pdpAsCUcmhAhmABQNVzWel0iAJA+KjHtJnJ1D8B+ioEoscQwHMMCKNQIr0/8r+MfBC/4D9QWA5NvOXTv2m4jL2lxvo/PZaTYtto4r93M4M25/HYvwCf907Bi/4/M3rkTfFX1j8EWD2DEBvyv1K4HDlrBti/",
          "dtype": "f8"
         },
         "yaxis": "y"
        },
        {
         "hovertemplate": "tipoCultivo=Soja<br>PC1=%{x}<br>PC2=%{y}<extra></extra>",
         "legendgroup": "Soja",
         "marker": {
          "color": "#00cc96",
          "symbol": "circle"
         },
         "mode": "markers",
         "name": "Soja",
         "orientation": "v",
         "showlegend": true,
         "type": "scatter",
         "x": {
          "bdata": "PE16frb1A0Cer5yQz+HcP/sMXGWLWes/Q9KUDFF2/r8SwQzMRuwNQB0P7vrE6ApAPnVCByFiAkBfeduC4afLP0Y2ucRx5AlAmPmkrrlW+D+zQohqCbbiv/5J7xsOtOo/vEaoPh+3BEDtjVbiLSADwOXjox/kyAlA3WJl2Ri0CMDMXw5Hm8ICQOzbr4nfSvy/Vh+8LgR08D8cI9diIx4SwIQpoD5W0Og/N1t0NSmc5j8FzVA2r4o7v+/WBUgZUOi/aiKSl1zuF0CXSLpLoAQDQFiaw3VwhOe/19DL6dTq6z/cob2rSIAKwBEHqrMi0BDAdhRpoGR02L+Lc7tOXCP0v8OFi77c1QdAAzK8C7y+7j+wASmQrUH3v1RY01E9++y/ojdFwBuL8D+pfeNHIREDwIzmOvDVq+q/L59B3U9yDUAv7GcBaKetv07caNUSgLi/5jrEFuesCsDa7n+SQLDyv0iIgQ98ifg/K2/9MYQVBcAlfjXcokEVQFjPDvfBgOI/qXR14C1G+b9ibQI2xLywv2SCE6JSIQzAs1IGds1VAcCPz00BTkb1P/+C/WKzD/a/8N7coyViBcDksWtfabEMQNakuZHrUwrALgz+k1Rf6j8gxro5sYfkv0KXwDYKtfc/KqEfIsC1AsA=",
          "dtype": "f8"
         },
         "xaxis": "x",
         "y": {
          "bdata": "wZoXVPQG5z/7c3m9QNUIQCi1dgNS8ghAKL6D604zDcBb2LQnXHcAwKc9zLjPcfi/92zkLpWmBsBisHb7c2XWv+d87vznHe6/pYvTEHBaCkBKMyR2jv3mv45cJnSQlPm/pwjdjq+tEkCNUCeHP1v4Pxzt4CYulPu/uIuarh4aAkA6ENA1ngoJQKjs4BO85RDAmNdWk9sT/r8EVnN6fSzVP5bmf/hKXgrAuZt0E6n97b+AzyUD6dzgvzRBhF/Ex/A/kK2DGe4J/b+9x4z8ji0HQNPZ/Fzwt+y/HPJMZ0Pm2z9HmbRtc9wDQI4GCsiflvc/SkETM26Z+D8vKER0Rl7iv98lxG7FpxBAOoGp3T8I5b8AEojAXpH2v515UYcQ8QpAB9VuO4r1DEBryYxwZgjwv4DFjT8h5glAPUk6Ki4u8z/GVU2sG7/9P/5aaZ0K6AfAEcB2njoI879sir7YN/H/v4b/YKE+jfO/3nvV6BlS2b98pjHJA2j4v4ZeIjsVoANALtriASOi/T+imWT7SubQP5Fexws0ZPm/PcYooeSeBsDzrzJUu074v4cNTdLLcAJA2oLGmIASEcBXD3KmFXGNP6hiPhqgywzAHewMSIgB4b8qtTAXT7UDwIsWUwYLLgJAXFcKXzAvEMA=",
          "dtype": "f8"
         },
         "yaxis": "y"
        }
       ],
       "layout": {
        "legend": {
         "title": {
          "text": "tipoCultivo"
         },
         "tracegroupgap": 0
        },
        "template": {
         "data": {
          "bar": [
           {
            "error_x": {
             "color": "#2a3f5f"
            },
            "error_y": {
             "color": "#2a3f5f"
            },
            "marker": {
             "line": {
              "color": "#E5ECF6",
              "width": 0.5
             },
             "pattern": {
              "fillmode": "overlay",
              "size": 10,
              "solidity": 0.2
             }
            },
            "type": "bar"
           }
          ],
          "barpolar": [
           {
            "marker": {
             "line": {
              "color": "#E5ECF6",
              "width": 0.5
             },
             "pattern": {
              "fillmode": "overlay",
              "size": 10,
              "solidity": 0.2
             }
            },
            "type": "barpolar"
           }
          ],
          "carpet": [
           {
            "aaxis": {
             "endlinecolor": "#2a3f5f",
             "gridcolor": "white",
             "linecolor": "white",
             "minorgridcolor": "white",
             "startlinecolor": "#2a3f5f"
            },
            "baxis": {
             "endlinecolor": "#2a3f5f",
             "gridcolor": "white",
             "linecolor": "white",
             "minorgridcolor": "white",
             "startlinecolor": "#2a3f5f"
            },
            "type": "carpet"
           }
          ],
          "choropleth": [
           {
            "colorbar": {
             "outlinewidth": 0,
             "ticks": ""
            },
            "type": "choropleth"
           }
          ],
          "contour": [
           {
            "colorbar": {
             "outlinewidth": 0,
             "ticks": ""
            },
            "colorscale": [
             [
              0,
              "#0d0887"
             ],
             [
              0.1111111111111111,
              "#46039f"
             ],
             [
              0.2222222222222222,
              "#7201a8"
             ],
             [
              0.3333333333333333,
              "#9c179e"
             ],
             [
              0.4444444444444444,
              "#bd3786"
             ],
             [
              0.5555555555555556,
              "#d8576b"
             ],
             [
              0.6666666666666666,
              "#ed7953"
             ],
             [
              0.7777777777777778,
              "#fb9f3a"
             ],
             [
              0.8888888888888888,
              "#fdca26"
             ],
             [
              1,
              "#f0f921"
             ]
            ],
            "type": "contour"
           }
          ],
          "contourcarpet": [
           {
            "colorbar": {
             "outlinewidth": 0,
             "ticks": ""
            },
            "type": "contourcarpet"
           }
          ],
          "heatmap": [
           {
            "colorbar": {
             "outlinewidth": 0,
             "ticks": ""
            },
            "colorscale": [
             [
              0,
              "#0d0887"
             ],
             [
              0.1111111111111111,
              "#46039f"
             ],
             [
              0.2222222222222222,
              "#7201a8"
             ],
             [
              0.3333333333333333,
              "#9c179e"
             ],
             [
              0.4444444444444444,
              "#bd3786"
             ],
             [
              0.5555555555555556,
              "#d8576b"
             ],
             [
              0.6666666666666666,
              "#ed7953"
             ],
             [
              0.7777777777777778,
              "#fb9f3a"
             ],
             [
              0.8888888888888888,
              "#fdca26"
             ],
             [
              1,
              "#f0f921"
             ]
            ],
            "type": "heatmap"
           }
          ],
          "histogram": [
           {
            "marker": {
             "pattern": {
              "fillmode": "overlay",
              "size": 10,
              "solidity": 0.2
             }
            },
            "type": "histogram"
           }
          ],
          "histogram2d": [
           {
            "colorbar": {
             "outlinewidth": 0,
             "ticks": ""
            },
            "colorscale": [
             [
              0,
              "#0d0887"
             ],
             [
              0.1111111111111111,
              "#46039f"
             ],
             [
              0.2222222222222222,
              "#7201a8"
             ],
             [
              0.3333333333333333,
              "#9c179e"
             ],
             [
              0.4444444444444444,
              "#bd3786"
             ],
             [
              0.5555555555555556,
              "#d8576b"
             ],
             [
              0.6666666666666666,
              "#ed7953"
             ],
             [
              0.7777777777777778,
              "#fb9f3a"
             ],
             [
              0.8888888888888888,
              "#fdca26"
             ],
             [
              1,
              "#f0f921"
             ]
            ],
            "type": "histogram2d"
           }
          ],
          "histogram2dcontour": [
           {
            "colorbar": {
             "outlinewidth": 0,
             "ticks": ""
            },
            "colorscale": [
             [
              0,
              "#0d0887"
             ],
             [
              0.1111111111111111,
              "#46039f"
             ],
             [
              0.2222222222222222,
              "#7201a8"
             ],
             [
              0.3333333333333333,
              "#9c179e"
             ],
             [
              0.4444444444444444,
              "#bd3786"
             ],
             [
              0.5555555555555556,
              "#d8576b"
             ],
             [
              0.6666666666666666,
              "#ed7953"
             ],
             [
              0.7777777777777778,
              "#fb9f3a"
             ],
             [
              0.8888888888888888,
              "#fdca26"
             ],
             [
              1,
              "#f0f921"
             ]
            ],
            "type": "histogram2dcontour"
           }
          ],
          "mesh3d": [
           {
            "colorbar": {
             "outlinewidth": 0,
             "ticks": ""
            },
            "type": "mesh3d"
           }
          ],
          "parcoords": [
           {
            "line": {
             "colorbar": {
              "outlinewidth": 0,
              "ticks": ""
             }
            },
            "type": "parcoords"
           }
          ],
          "pie": [
           {
            "automargin": true,
            "type": "pie"
           }
          ],
          "scatter": [
           {
            "fillpattern": {
             "fillmode": "overlay",
             "size": 10,
             "solidity": 0.2
            },
            "type": "scatter"
           }
          ],
          "scatter3d": [
           {
            "line": {
             "colorbar": {
              "outlinewidth": 0,
              "ticks": ""
             }
            },
            "marker": {
             "colorbar": {
              "outlinewidth": 0,
              "ticks": ""
             }
            },
            "type": "scatter3d"
           }
          ],
          "scattercarpet": [
           {
            "marker": {
             "colorbar": {
              "outlinewidth": 0,
              "ticks": ""
             }
            },
            "type": "scattercarpet"
           }
          ],
          "scattergeo": [
           {
            "marker": {
             "colorbar": {
              "outlinewidth": 0,
              "ticks": ""
             }
            },
            "type": "scattergeo"
           }
          ],
          "scattergl": [
           {
            "marker": {
             "colorbar": {
              "outlinewidth": 0,
              "ticks": ""
             }
            },
            "type": "scattergl"
           }
          ],
          "scattermap": [
           {
            "marker": {
             "colorbar": {
              "outlinewidth": 0,
              "ticks": ""
             }
            },
            "type": "scattermap"
           }
          ],
          "scattermapbox": [
           {
            "marker": {
             "colorbar": {
              "outlinewidth": 0,
              "ticks": ""
             }
            },
            "type": "scattermapbox"
           }
          ],
          "scatterpolar": [
           {
            "marker": {
             "colorbar": {
              "outlinewidth": 0,
              "ticks": ""
             }
            },
            "type": "scatterpolar"
           }
          ],
          "scatterpolargl": [
           {
            "marker": {
             "colorbar": {
              "outlinewidth": 0,
              "ticks": ""
             }
            },
            "type": "scatterpolargl"
           }
          ],
          "scatterternary": [
           {
            "marker": {
             "colorbar": {
              "outlinewidth": 0,
              "ticks": ""
             }
            },
            "type": "scatterternary"
           }
          ],
          "surface": [
           {
            "colorbar": {
             "outlinewidth": 0,
             "ticks": ""
            },
            "colorscale": [
             [
              0,
              "#0d0887"
             ],
             [
              0.1111111111111111,
              "#46039f"
             ],
             [
              0.2222222222222222,
              "#7201a8"
             ],
             [
              0.3333333333333333,
              "#9c179e"
             ],
             [
              0.4444444444444444,
              "#bd3786"
             ],
             [
              0.5555555555555556,
              "#d8576b"
             ],
             [
              0.6666666666666666,
              "#ed7953"
             ],
             [
              0.7777777777777778,
              "#fb9f3a"
             ],
             [
              0.8888888888888888,
              "#fdca26"
             ],
             [
              1,
              "#f0f921"
             ]
            ],
            "type": "surface"
           }
          ],
          "table": [
           {
            "cells": {
             "fill": {
              "color": "#EBF0F8"
             },
             "line": {
              "color": "white"
             }
            },
            "header": {
             "fill": {
              "color": "#C8D4E3"
             },
             "line": {
              "color": "white"
             }
            },
            "type": "table"
           }
          ]
         },
         "layout": {
          "annotationdefaults": {
           "arrowcolor": "#2a3f5f",
           "arrowhead": 0,
           "arrowwidth": 1
          },
          "autotypenumbers": "strict",
          "coloraxis": {
           "colorbar": {
            "outlinewidth": 0,
            "ticks": ""
           }
          },
          "colorscale": {
           "diverging": [
            [
             0,
             "#8e0152"
            ],
            [
             0.1,
             "#c51b7d"
            ],
            [
             0.2,
             "#de77ae"
            ],
            [
             0.3,
             "#f1b6da"
            ],
            [
             0.4,
             "#fde0ef"
            ],
            [
             0.5,
             "#f7f7f7"
            ],
            [
             0.6,
             "#e6f5d0"
            ],
            [
             0.7,
             "#b8e186"
            ],
            [
             0.8,
             "#7fbc41"
            ],
            [
             0.9,
             "#4d9221"
            ],
            [
             1,
             "#276419"
            ]
           ],
           "sequential": [
            [
             0,
             "#0d0887"
            ],
            [
             0.1111111111111111,
             "#46039f"
            ],
            [
             0.2222222222222222,
             "#7201a8"
            ],
            [
             0.3333333333333333,
             "#9c179e"
            ],
            [
             0.4444444444444444,
             "#bd3786"
            ],
            [
             0.5555555555555556,
             "#d8576b"
            ],
            [
             0.6666666666666666,
             "#ed7953"
            ],
            [
             0.7777777777777778,
             "#fb9f3a"
            ],
            [
             0.8888888888888888,
             "#fdca26"
            ],
            [
             1,
             "#f0f921"
            ]
           ],
           "sequentialminus": [
            [
             0,
             "#0d0887"
            ],
            [
             0.1111111111111111,
             "#46039f"
            ],
            [
             0.2222222222222222,
             "#7201a8"
            ],
            [
             0.3333333333333333,
             "#9c179e"
            ],
            [
             0.4444444444444444,
             "#bd3786"
            ],
            [
             0.5555555555555556,
             "#d8576b"
            ],
            [
             0.6666666666666666,
             "#ed7953"
            ],
            [
             0.7777777777777778,
             "#fb9f3a"
            ],
            [
             0.8888888888888888,
             "#fdca26"
            ],
            [
             1,
             "#f0f921"
            ]
           ]
          },
          "colorway": [
           "#636efa",
           "#EF553B",
           "#00cc96",
           "#ab63fa",
           "#FFA15A",
           "#19d3f3",
           "#FF6692",
           "#B6E880",
           "#FF97FF",
           "#FECB52"
          ],
          "font": {
           "color": "#2a3f5f"
          },
          "geo": {
           "bgcolor": "white",
           "lakecolor": "white",
           "landcolor": "#E5ECF6",
           "showlakes": true,
           "showland": true,
           "subunitcolor": "white"
          },
          "hoverlabel": {
           "align": "left"
          },
          "hovermode": "closest",
          "mapbox": {
           "style": "light"
          },
          "paper_bgcolor": "white",
          "plot_bgcolor": "#E5ECF6",
          "polar": {
           "angularaxis": {
            "gridcolor": "white",
            "linecolor": "white",
            "ticks": ""
           },
           "bgcolor": "#E5ECF6",
           "radialaxis": {
            "gridcolor": "white",
            "linecolor": "white",
            "ticks": ""
           }
          },
          "scene": {
           "xaxis": {
            "backgroundcolor": "#E5ECF6",
            "gridcolor": "white",
            "gridwidth": 2,
            "linecolor": "white",
            "showbackground": true,
            "ticks": "",
            "zerolinecolor": "white"
           },
           "yaxis": {
            "backgroundcolor": "#E5ECF6",
            "gridcolor": "white",
            "gridwidth": 2,
            "linecolor": "white",
            "showbackground": true,
            "ticks": "",
            "zerolinecolor": "white"
           },
           "zaxis": {
            "backgroundcolor": "#E5ECF6",
            "gridcolor": "white",
            "gridwidth": 2,
            "linecolor": "white",
            "showbackground": true,
            "ticks": "",
            "zerolinecolor": "white"
           }
          },
          "shapedefaults": {
           "line": {
            "color": "#2a3f5f"
           }
          },
          "ternary": {
           "aaxis": {
            "gridcolor": "white",
            "linecolor": "white",
            "ticks": ""
           },
           "baxis": {
            "gridcolor": "white",
            "linecolor": "white",
            "ticks": ""
           },
           "bgcolor": "#E5ECF6",
           "caxis": {
            "gridcolor": "white",
            "linecolor": "white",
            "ticks": ""
           }
          },
          "title": {
           "x": 0.05
          },
          "xaxis": {
           "automargin": true,
           "gridcolor": "white",
           "linecolor": "white",
           "ticks": "",
           "title": {
            "standoff": 15
           },
           "zerolinecolor": "white",
           "zerolinewidth": 2
          },
          "yaxis": {
           "automargin": true,
           "gridcolor": "white",
           "linecolor": "white",
           "ticks": "",
           "title": {
            "standoff": 15
           },
           "zerolinecolor": "white",
           "zerolinewidth": 2
          }
         }
        },
        "title": {
         "text": "ISOMAP con 30 vecinos y 3 componentes (mostrando PC1 y PC2)"
        },
        "xaxis": {
         "anchor": "y",
         "domain": [
          0,
          1
         ],
         "title": {
          "text": "PC1"
         }
        },
        "yaxis": {
         "anchor": "x",
         "domain": [
          0,
          1
         ],
         "title": {
          "text": "PC2"
         }
        }
       }
      }
     },
     "metadata": {},
     "output_type": "display_data"
    },
    {
     "data": {
      "application/vnd.plotly.v1+json": {
       "config": {
        "plotlyServerURL": "https://plot.ly"
       },
       "data": [
        {
         "hovertemplate": "tipoCultivo=Trigo<br>PC1=%{x}<br>PC2=%{y}<extra></extra>",
         "legendgroup": "Trigo",
         "marker": {
          "color": "#636efa",
          "symbol": "circle"
         },
         "mode": "markers",
         "name": "Trigo",
         "orientation": "v",
         "showlegend": true,
         "type": "scatter",
         "x": {
          "bdata": "PmtObDPS6T8SY8HzFBcSwG0bn4rctwbALoLwQLFt2795Z9Rh3GDPvye5CdINe4U/KtQ/BDtfcr95eQa8/W0IQAxT/WwCkua/a+kKkeCv9z8Cru02DnwGwIeGwDuMRwLAceqtrnUd4j9Jp+ni6GD+P9piRYjRJuY/uCC/zGQEAkCbLOjdPEX0v3p6uKkR1P6/1hqQ/TH/8L+czrGlkYMHQF/hQIU26RJA97KYysEHBUBJOXwiz26qPzI5TBfAUgbAO0t4dreQ8j/MoyvOHuEQwCqE2vzJj/G/LLCcAGmH8L8TXn/XRtsBQHg7lmg5i/G/0U0fW4T5B8BydpXWELnSv1pqGCnGJRBAS0/vqk3cAEACbU97SMoSwNCYp/n6T/m/nz9h8Jk0EUCTuPhhwvPhv5/OVHaWjCu/mjtDhvki+L+I1/LDFAADwPpEKToF5gLAfjsIwfYBvL+olYK94ScSwFxznPuy2/u/0irO6MtD5j+xf0Dn11L8vwu5nKt56gTA",
          "dtype": "f8"
         },
         "xaxis": "x",
         "y": {
          "bdata": "3SdjXyQz87/nBaFBMP72PwFacLvm6wBAx1ANyCOtCUD3VLVQHzf8v/qXbz6KHPE/IUJab4SPCkBMSuFZ+0egv0U9Ajg70Q7AanrrgjP4CkDl3X8h7fQLwJM2c2qAvcY/SLQtIUPHu791XdC51d0FwILwd7HtjgXAAchYicdnAsB24CLP4uEGwM5vvbNWS9s/CGMDPBu5/T9wlniwJJL5v2m3z9PQl/a/r/czSknrBsAWgmD6P34AwEHxf9PgLAJAl5wSiK5eA0C0czI/E0L4v+dTHOEoSvO//qMiDV7v57+rEgDjUP4JwM8OLMex7Og/cJOCg66y8D9OldNoNifIvzAhDbeWMPm/YDmKThEq3z8O3A1Dz176PzLswjyAouC/hgDYiyIF6L+H651YvfUAwMc0Oz/+6QHAltG1XKfTA0BYBbDDX2oDwFxPToDl2AJAKllwzaC35L/9j2AVMYcBQMLEIQnaGwlABXh7F8hX4T+inUDOorgNwIMbG99JrAJA",
          "dtype": "f8"
         },
         "yaxis": "y"
        },
        {
         "hovertemplate": "tipoCultivo=Maiz<br>PC1=%{x}<br>PC2=%{y}<extra></extra>",
         "legendgroup": "Maiz",
         "marker": {
          "color": "#EF553B",
          "symbol": "circle"
         },
         "mode": "markers",
         "name": "Maiz",
         "orientation": "v",
         "showlegend": true,
         "type": "scatter",
         "x": {
          "bdata": "lU803DTBA0AFmgloLjrkv4WjTKKK7gnA74jre+oAwz83a8fRAkrtP5Hrtj68zQXA9S5SzO1ZB8BuWv5d4CL9v9LT1Fq+Xtk/2Bbsk9LCBECX/FS5n/75vzHIiwk/Mvg/cQ85TVvTBUDbjjra0EQHQDWfBL0vGA3ADDJEKDna/z/36QYoJb3+PxtvyDqD5P4/wjWyVrHQ5D+qSXA3tkgHQJ6lYB51key/ySiRwi+xsj9iITmStLcIwCy/AP6CO9y/GT/lv5LsBkDKQl25M8QRQKyV0191PPA/c6/ra5fJ8L8ExPPcgp/0v670HGmFOuA/23mhaKU/D8CimuRKH0oRwLILPtvjaNs/1KVgX9VZ1T/XQ+EZwgLpP42xljjbuwBANT2z6YEC0z8Y73MwNWcQQEf/U9w6Fuc/F+9TtIYV1r+nIVsxQECQvxP+tZre79M/WwHdYliM7r9f+4v60d/kP6jhzAeGsvk/q0HXqQ89CUC/wjceDl7iP5flhdQn/OU/7ttgaitoA8B22vk+Parvv1IiCt9bdcE/hEIp9LHODECbOeKtVWgEwOp1dluSsd4/",
          "dtype": "f8"
         },
         "xaxis": "x",
         "y": {
          "bdata": "bbOo/B8r5L8uVayBIpL1v8+J7Jt+BgzAa5xkfeyt5D+mw2L2ul/dPw7ug4L/fP4/EGFiRqNlBUDaVZ3p4Jf9PzGa7X/g6AJAW+3ADdDsEUA7MNtIjj8LQMi2b9V0vO0/v21NslCCB0BkMEyqb+f/P7kKQMoVAQ7AlAjpZ9K77j9IUUYd4hQCwH0dZJ0KveM/7g91qXnoAsACC6Mz8xn6P6wG86IlhARABjHKdJPUA0DRgw6JpDfzv7H+eb9yegRAjxrhulPL+L+AU9Vp1Hf4v/kpOa/sIghAyZQd+3MamD8kLd/dNFOkP0OuMQzRvf+/CC04IZQP7j/YHyR4DTzZvym0uTKguwdAKkMgY4qICsAML8DC/CUBwNU5wRlalQXAOvbLtJrpCkAsKdsPKD/4P6jFqQ06SAPAp9H24pdpAsCUcmhAhmABQNVzWel0iAJA+KjHtJnJ1D8B+ioEoscQwHMMCKNQIr0/8r+MfBC/4D9QWA5NvOXTv2m4jL2lxvo/PZaTYtto4r93M4M25/HYvwCf907Bi/4/M3rkTfFX1j8EWD2DEBvyv1K4HDlrBti/",
          "dtype": "f8"
         },
         "yaxis": "y"
        },
        {
         "hovertemplate": "tipoCultivo=Soja<br>PC1=%{x}<br>PC2=%{y}<extra></extra>",
         "legendgroup": "Soja",
         "marker": {
          "color": "#00cc96",
          "symbol": "circle"
         },
         "mode": "markers",
         "name": "Soja",
         "orientation": "v",
         "showlegend": true,
         "type": "scatter",
         "x": {
          "bdata": "PE16frb1A0Cer5yQz+HcP94MXGWLWes/ONKUDFF2/r8awQzMRuwNQCQP7vrE6ApARXVCByFiAkCDeduC4afLP0k2ucRx5AlAi/mkrrlW+D+tQohqCbbivxBK7xsOtOo/tEaoPh+3BEDujVbiLSADwOjjox/kyAlA4mJl2Ri0CMDJXw5Hm8ICQN/br4nfSvy/Wh+8LgR08D8cI9diIx4SwKEpoD5W0Og/Q1t0NSmc5j8AulA2r4o7v/PWBUgZUOi/bCKSl1zuF0CSSLpLoAQDQFCaw3VwhOe/1NDL6dTq6z/iob2rSIAKwBIHqrMi0BDAmBRpoGR02L+Lc7tOXCP0v7uFi77c1QdACTK8C7y+7j+tASmQrUH3v2ZY01E9++y/lTdFwBuL8D+mfeNHIREDwKPmOvDVq+q/L59B3U9yDUBl7WcBaKetvwncaNUSgLi/5TrEFuesCsDZ7n+SQLDyv1OIgQ98ifg/K2/9MYQVBcAlfjXcokEVQEbPDvfBgOI/rnR14C1G+b+LbQI2xLywv2WCE6JSIQzAr1IGds1VAcCZz00BTkb1PwWD/WKzD/a/6N7coyViBcDjsWtfabEMQM+kuZHrUwrAOAz+k1Rf6j8Uxro5sYfkvzyXwDYKtfc/IqEfIsC1AsA=",
          "dtype": "f8"
         },
         "xaxis": "x",
         "y": {
          "bdata": "wZoXVPQG5z/7c3m9QNUIQCi1dgNS8ghAKL6D604zDcBb2LQnXHcAwKc9zLjPcfi/92zkLpWmBsBisHb7c2XWv+d87vznHe6/pYvTEHBaCkBKMyR2jv3mv45cJnSQlPm/pwjdjq+tEkCNUCeHP1v4Pxzt4CYulPu/uIuarh4aAkA6ENA1ngoJQKjs4BO85RDAmNdWk9sT/r8EVnN6fSzVP5bmf/hKXgrAuZt0E6n97b+AzyUD6dzgvzRBhF/Ex/A/kK2DGe4J/b+9x4z8ji0HQNPZ/Fzwt+y/HPJMZ0Pm2z9HmbRtc9wDQI4GCsiflvc/SkETM26Z+D8vKER0Rl7iv98lxG7FpxBAOoGp3T8I5b8AEojAXpH2v515UYcQ8QpAB9VuO4r1DEBryYxwZgjwv4DFjT8h5glAPUk6Ki4u8z/GVU2sG7/9P/5aaZ0K6AfAEcB2njoI879sir7YN/H/v4b/YKE+jfO/3nvV6BlS2b98pjHJA2j4v4ZeIjsVoANALtriASOi/T+imWT7SubQP5Fexws0ZPm/PcYooeSeBsDzrzJUu074v4cNTdLLcAJA2oLGmIASEcBXD3KmFXGNP6hiPhqgywzAHewMSIgB4b8qtTAXT7UDwIsWUwYLLgJAXFcKXzAvEMA=",
          "dtype": "f8"
         },
         "yaxis": "y"
        }
       ],
       "layout": {
        "legend": {
         "title": {
          "text": "tipoCultivo"
         },
         "tracegroupgap": 0
        },
        "template": {
         "data": {
          "bar": [
           {
            "error_x": {
             "color": "#2a3f5f"
            },
            "error_y": {
             "color": "#2a3f5f"
            },
            "marker": {
             "line": {
              "color": "#E5ECF6",
              "width": 0.5
             },
             "pattern": {
              "fillmode": "overlay",
              "size": 10,
              "solidity": 0.2
             }
            },
            "type": "bar"
           }
          ],
          "barpolar": [
           {
            "marker": {
             "line": {
              "color": "#E5ECF6",
              "width": 0.5
             },
             "pattern": {
              "fillmode": "overlay",
              "size": 10,
              "solidity": 0.2
             }
            },
            "type": "barpolar"
           }
          ],
          "carpet": [
           {
            "aaxis": {
             "endlinecolor": "#2a3f5f",
             "gridcolor": "white",
             "linecolor": "white",
             "minorgridcolor": "white",
             "startlinecolor": "#2a3f5f"
            },
            "baxis": {
             "endlinecolor": "#2a3f5f",
             "gridcolor": "white",
             "linecolor": "white",
             "minorgridcolor": "white",
             "startlinecolor": "#2a3f5f"
            },
            "type": "carpet"
           }
          ],
          "choropleth": [
           {
            "colorbar": {
             "outlinewidth": 0,
             "ticks": ""
            },
            "type": "choropleth"
           }
          ],
          "contour": [
           {
            "colorbar": {
             "outlinewidth": 0,
             "ticks": ""
            },
            "colorscale": [
             [
              0,
              "#0d0887"
             ],
             [
              0.1111111111111111,
              "#46039f"
             ],
             [
              0.2222222222222222,
              "#7201a8"
             ],
             [
              0.3333333333333333,
              "#9c179e"
             ],
             [
              0.4444444444444444,
              "#bd3786"
             ],
             [
              0.5555555555555556,
              "#d8576b"
             ],
             [
              0.6666666666666666,
              "#ed7953"
             ],
             [
              0.7777777777777778,
              "#fb9f3a"
             ],
             [
              0.8888888888888888,
              "#fdca26"
             ],
             [
              1,
              "#f0f921"
             ]
            ],
            "type": "contour"
           }
          ],
          "contourcarpet": [
           {
            "colorbar": {
             "outlinewidth": 0,
             "ticks": ""
            },
            "type": "contourcarpet"
           }
          ],
          "heatmap": [
           {
            "colorbar": {
             "outlinewidth": 0,
             "ticks": ""
            },
            "colorscale": [
             [
              0,
              "#0d0887"
             ],
             [
              0.1111111111111111,
              "#46039f"
             ],
             [
              0.2222222222222222,
              "#7201a8"
             ],
             [
              0.3333333333333333,
              "#9c179e"
             ],
             [
              0.4444444444444444,
              "#bd3786"
             ],
             [
              0.5555555555555556,
              "#d8576b"
             ],
             [
              0.6666666666666666,
              "#ed7953"
             ],
             [
              0.7777777777777778,
              "#fb9f3a"
             ],
             [
              0.8888888888888888,
              "#fdca26"
             ],
             [
              1,
              "#f0f921"
             ]
            ],
            "type": "heatmap"
           }
          ],
          "histogram": [
           {
            "marker": {
             "pattern": {
              "fillmode": "overlay",
              "size": 10,
              "solidity": 0.2
             }
            },
            "type": "histogram"
           }
          ],
          "histogram2d": [
           {
            "colorbar": {
             "outlinewidth": 0,
             "ticks": ""
            },
            "colorscale": [
             [
              0,
              "#0d0887"
             ],
             [
              0.1111111111111111,
              "#46039f"
             ],
             [
              0.2222222222222222,
              "#7201a8"
             ],
             [
              0.3333333333333333,
              "#9c179e"
             ],
             [
              0.4444444444444444,
              "#bd3786"
             ],
             [
              0.5555555555555556,
              "#d8576b"
             ],
             [
              0.6666666666666666,
              "#ed7953"
             ],
             [
              0.7777777777777778,
              "#fb9f3a"
             ],
             [
              0.8888888888888888,
              "#fdca26"
             ],
             [
              1,
              "#f0f921"
             ]
            ],
            "type": "histogram2d"
           }
          ],
          "histogram2dcontour": [
           {
            "colorbar": {
             "outlinewidth": 0,
             "ticks": ""
            },
            "colorscale": [
             [
              0,
              "#0d0887"
             ],
             [
              0.1111111111111111,
              "#46039f"
             ],
             [
              0.2222222222222222,
              "#7201a8"
             ],
             [
              0.3333333333333333,
              "#9c179e"
             ],
             [
              0.4444444444444444,
              "#bd3786"
             ],
             [
              0.5555555555555556,
              "#d8576b"
             ],
             [
              0.6666666666666666,
              "#ed7953"
             ],
             [
              0.7777777777777778,
              "#fb9f3a"
             ],
             [
              0.8888888888888888,
              "#fdca26"
             ],
             [
              1,
              "#f0f921"
             ]
            ],
            "type": "histogram2dcontour"
           }
          ],
          "mesh3d": [
           {
            "colorbar": {
             "outlinewidth": 0,
             "ticks": ""
            },
            "type": "mesh3d"
           }
          ],
          "parcoords": [
           {
            "line": {
             "colorbar": {
              "outlinewidth": 0,
              "ticks": ""
             }
            },
            "type": "parcoords"
           }
          ],
          "pie": [
           {
            "automargin": true,
            "type": "pie"
           }
          ],
          "scatter": [
           {
            "fillpattern": {
             "fillmode": "overlay",
             "size": 10,
             "solidity": 0.2
            },
            "type": "scatter"
           }
          ],
          "scatter3d": [
           {
            "line": {
             "colorbar": {
              "outlinewidth": 0,
              "ticks": ""
             }
            },
            "marker": {
             "colorbar": {
              "outlinewidth": 0,
              "ticks": ""
             }
            },
            "type": "scatter3d"
           }
          ],
          "scattercarpet": [
           {
            "marker": {
             "colorbar": {
              "outlinewidth": 0,
              "ticks": ""
             }
            },
            "type": "scattercarpet"
           }
          ],
          "scattergeo": [
           {
            "marker": {
             "colorbar": {
              "outlinewidth": 0,
              "ticks": ""
             }
            },
            "type": "scattergeo"
           }
          ],
          "scattergl": [
           {
            "marker": {
             "colorbar": {
              "outlinewidth": 0,
              "ticks": ""
             }
            },
            "type": "scattergl"
           }
          ],
          "scattermap": [
           {
            "marker": {
             "colorbar": {
              "outlinewidth": 0,
              "ticks": ""
             }
            },
            "type": "scattermap"
           }
          ],
          "scattermapbox": [
           {
            "marker": {
             "colorbar": {
              "outlinewidth": 0,
              "ticks": ""
             }
            },
            "type": "scattermapbox"
           }
          ],
          "scatterpolar": [
           {
            "marker": {
             "colorbar": {
              "outlinewidth": 0,
              "ticks": ""
             }
            },
            "type": "scatterpolar"
           }
          ],
          "scatterpolargl": [
           {
            "marker": {
             "colorbar": {
              "outlinewidth": 0,
              "ticks": ""
             }
            },
            "type": "scatterpolargl"
           }
          ],
          "scatterternary": [
           {
            "marker": {
             "colorbar": {
              "outlinewidth": 0,
              "ticks": ""
             }
            },
            "type": "scatterternary"
           }
          ],
          "surface": [
           {
            "colorbar": {
             "outlinewidth": 0,
             "ticks": ""
            },
            "colorscale": [
             [
              0,
              "#0d0887"
             ],
             [
              0.1111111111111111,
              "#46039f"
             ],
             [
              0.2222222222222222,
              "#7201a8"
             ],
             [
              0.3333333333333333,
              "#9c179e"
             ],
             [
              0.4444444444444444,
              "#bd3786"
             ],
             [
              0.5555555555555556,
              "#d8576b"
             ],
             [
              0.6666666666666666,
              "#ed7953"
             ],
             [
              0.7777777777777778,
              "#fb9f3a"
             ],
             [
              0.8888888888888888,
              "#fdca26"
             ],
             [
              1,
              "#f0f921"
             ]
            ],
            "type": "surface"
           }
          ],
          "table": [
           {
            "cells": {
             "fill": {
              "color": "#EBF0F8"
             },
             "line": {
              "color": "white"
             }
            },
            "header": {
             "fill": {
              "color": "#C8D4E3"
             },
             "line": {
              "color": "white"
             }
            },
            "type": "table"
           }
          ]
         },
         "layout": {
          "annotationdefaults": {
           "arrowcolor": "#2a3f5f",
           "arrowhead": 0,
           "arrowwidth": 1
          },
          "autotypenumbers": "strict",
          "coloraxis": {
           "colorbar": {
            "outlinewidth": 0,
            "ticks": ""
           }
          },
          "colorscale": {
           "diverging": [
            [
             0,
             "#8e0152"
            ],
            [
             0.1,
             "#c51b7d"
            ],
            [
             0.2,
             "#de77ae"
            ],
            [
             0.3,
             "#f1b6da"
            ],
            [
             0.4,
             "#fde0ef"
            ],
            [
             0.5,
             "#f7f7f7"
            ],
            [
             0.6,
             "#e6f5d0"
            ],
            [
             0.7,
             "#b8e186"
            ],
            [
             0.8,
             "#7fbc41"
            ],
            [
             0.9,
             "#4d9221"
            ],
            [
             1,
             "#276419"
            ]
           ],
           "sequential": [
            [
             0,
             "#0d0887"
            ],
            [
             0.1111111111111111,
             "#46039f"
            ],
            [
             0.2222222222222222,
             "#7201a8"
            ],
            [
             0.3333333333333333,
             "#9c179e"
            ],
            [
             0.4444444444444444,
             "#bd3786"
            ],
            [
             0.5555555555555556,
             "#d8576b"
            ],
            [
             0.6666666666666666,
             "#ed7953"
            ],
            [
             0.7777777777777778,
             "#fb9f3a"
            ],
            [
             0.8888888888888888,
             "#fdca26"
            ],
            [
             1,
             "#f0f921"
            ]
           ],
           "sequentialminus": [
            [
             0,
             "#0d0887"
            ],
            [
             0.1111111111111111,
             "#46039f"
            ],
            [
             0.2222222222222222,
             "#7201a8"
            ],
            [
             0.3333333333333333,
             "#9c179e"
            ],
            [
             0.4444444444444444,
             "#bd3786"
            ],
            [
             0.5555555555555556,
             "#d8576b"
            ],
            [
             0.6666666666666666,
             "#ed7953"
            ],
            [
             0.7777777777777778,
             "#fb9f3a"
            ],
            [
             0.8888888888888888,
             "#fdca26"
            ],
            [
             1,
             "#f0f921"
            ]
           ]
          },
          "colorway": [
           "#636efa",
           "#EF553B",
           "#00cc96",
           "#ab63fa",
           "#FFA15A",
           "#19d3f3",
           "#FF6692",
           "#B6E880",
           "#FF97FF",
           "#FECB52"
          ],
          "font": {
           "color": "#2a3f5f"
          },
          "geo": {
           "bgcolor": "white",
           "lakecolor": "white",
           "landcolor": "#E5ECF6",
           "showlakes": true,
           "showland": true,
           "subunitcolor": "white"
          },
          "hoverlabel": {
           "align": "left"
          },
          "hovermode": "closest",
          "mapbox": {
           "style": "light"
          },
          "paper_bgcolor": "white",
          "plot_bgcolor": "#E5ECF6",
          "polar": {
           "angularaxis": {
            "gridcolor": "white",
            "linecolor": "white",
            "ticks": ""
           },
           "bgcolor": "#E5ECF6",
           "radialaxis": {
            "gridcolor": "white",
            "linecolor": "white",
            "ticks": ""
           }
          },
          "scene": {
           "xaxis": {
            "backgroundcolor": "#E5ECF6",
            "gridcolor": "white",
            "gridwidth": 2,
            "linecolor": "white",
            "showbackground": true,
            "ticks": "",
            "zerolinecolor": "white"
           },
           "yaxis": {
            "backgroundcolor": "#E5ECF6",
            "gridcolor": "white",
            "gridwidth": 2,
            "linecolor": "white",
            "showbackground": true,
            "ticks": "",
            "zerolinecolor": "white"
           },
           "zaxis": {
            "backgroundcolor": "#E5ECF6",
            "gridcolor": "white",
            "gridwidth": 2,
            "linecolor": "white",
            "showbackground": true,
            "ticks": "",
            "zerolinecolor": "white"
           }
          },
          "shapedefaults": {
           "line": {
            "color": "#2a3f5f"
           }
          },
          "ternary": {
           "aaxis": {
            "gridcolor": "white",
            "linecolor": "white",
            "ticks": ""
           },
           "baxis": {
            "gridcolor": "white",
            "linecolor": "white",
            "ticks": ""
           },
           "bgcolor": "#E5ECF6",
           "caxis": {
            "gridcolor": "white",
            "linecolor": "white",
            "ticks": ""
           }
          },
          "title": {
           "x": 0.05
          },
          "xaxis": {
           "automargin": true,
           "gridcolor": "white",
           "linecolor": "white",
           "ticks": "",
           "title": {
            "standoff": 15
           },
           "zerolinecolor": "white",
           "zerolinewidth": 2
          },
          "yaxis": {
           "automargin": true,
           "gridcolor": "white",
           "linecolor": "white",
           "ticks": "",
           "title": {
            "standoff": 15
           },
           "zerolinecolor": "white",
           "zerolinewidth": 2
          }
         }
        },
        "title": {
         "text": "ISOMAP con 30 vecinos y 5 componentes (mostrando PC1 y PC2)"
        },
        "xaxis": {
         "anchor": "y",
         "domain": [
          0,
          1
         ],
         "title": {
          "text": "PC1"
         }
        },
        "yaxis": {
         "anchor": "x",
         "domain": [
          0,
          1
         ],
         "title": {
          "text": "PC2"
         }
        }
       }
      }
     },
     "metadata": {},
     "output_type": "display_data"
    },
    {
     "data": {
      "application/vnd.plotly.v1+json": {
       "config": {
        "plotlyServerURL": "https://plot.ly"
       },
       "data": [
        {
         "hovertemplate": "tipoCultivo=Trigo<br>PC1=%{x}<br>PC2=%{y}<extra></extra>",
         "legendgroup": "Trigo",
         "marker": {
          "color": "#636efa",
          "symbol": "circle"
         },
         "mode": "markers",
         "name": "Trigo",
         "orientation": "v",
         "showlegend": true,
         "type": "scatter",
         "x": {
          "bdata": "PWtObDPS6T8PY8HzFBcSwGcbn4rctwbACYLwQLFt27+sZ9Rh3GDPv2i4CdINe4U/b8Q/BDtfcr95eQa8/W0IQCJT/WwCkua/dukKkeCv9z8Hru02DnwGwIaGwDuMRwLAbOqtrnUd4j87p+ni6GD+P8liRYjRJuY/tCC/zGQEAkCjLOjdPEX0v4B6uKkR1P6/zxqQ/TH/8L+YzrGlkYMHQF/hQIU26RJA8rKYysEHBUD2N3wiz26qPyw5TBfAUgbAQUt4dreQ8j/OoyvOHuEQwC6E2vzJj/G/KLCcAGmH8L8OXn/XRtsBQHU7lmg5i/G/z00fW4T5B8BwdpXWELnSv1pqGCnGJRBAS0/vqk3cAEABbU97SMoSwNKYp/n6T/m/nT9h8Jk0EUCiuPhhwvPhv5ZHVnaWjCu/kDtDhvki+L+L1/LDFAADwPdEKToF5gLAhDsIwfYBvL+nlYK94ScSwFBznPuy2/u/2yrO6MtD5j/Bf0Dn11L8vwm5nKt56gTA",
          "dtype": "f8"
         },
         "xaxis": "x",
         "y": {
          "bdata": "3SdjXyQz87/nBaFBMP72PwFacLvm6wBAylANyCOtCUD5VLVQHzf8v/mXbz6KHPE/I0Jab4SPCkDdSeFZ+0egv0c9Ajg70Q7AbHrrgjP4CkDm3X8h7fQLwJU2c2qAvcY//LMtIUPHu794XdC51d0FwIDwd7HtjgXAAchYicdnAsB44CLP4uEGwMJvvbNWS9s/DWMDPBu5/T9ulniwJJL5v2W3z9PQl/a/r/czSknrBsAWgmD6P34AwEDxf9PgLAJAmJwSiK5eA0C2czI/E0L4v+RTHOEoSvO//qMiDV7v57+qEgDjUP4JwNgOLMex7Og/a5OCg66y8D9BldNoNifIvyshDbeWMPm/YTmKThEq3z8N3A1Dz176PzLswjyAouC/hADYiyIF6L+J651YvfUAwMc0Oz/+6QHAl9G1XKfTA0BZBbDDX2oDwFpPToDl2AJAKVlwzaC35L/8j2AVMYcBQMLEIQnaGwlACXh7F8hX4T+knUDOorgNwIQbG99JrAJA",
          "dtype": "f8"
         },
         "yaxis": "y"
        },
        {
         "hovertemplate": "tipoCultivo=Maiz<br>PC1=%{x}<br>PC2=%{y}<extra></extra>",
         "legendgroup": "Maiz",
         "marker": {
          "color": "#EF553B",
          "symbol": "circle"
         },
         "mode": "markers",
         "name": "Maiz",
         "orientation": "v",
         "showlegend": true,
         "type": "scatter",
         "x": {
          "bdata": "mE803DTBA0ATmgloLjrkv4ejTKKK7gnA74jre+oAwz8ua8fRAkrtP4zrtj68zQXA8S5SzO1ZB8BmWv5d4CL9v+vT1Fq+Xtk/3xbsk9LCBECG/FS5n/75vy/Iiwk/Mvg/eA85TVvTBUDfjjra0EQHQDyfBL0vGA3ADjJEKDna/z/w6QYoJb3+PyBvyDqD5P4/rjWyVrHQ5D+xSXA3tkgHQIqlYB51key/YCmRwi+xsj9jITmStLcIwPy+AP6CO9y/Fj/lv5LsBkDIQl25M8QRQLmV0191PPA/cK/ra5fJ8L8BxPPcgp/0v6P0HGmFOuA/13mhaKU/D8CjmuRKH0oRwNsLPtvjaNs/xKVgX9VZ1T/BQ+EZwgLpP4axljjbuwBAbD2z6YEC0z8a73MwNWcQQDz/U9w6Fuc/Oe9TtIYV1r+DH1sxQECQv0v+tZre79M/WQHdYliM7r9A+4v60d/kP6jhzAeGsvk/qkHXqQ89CUC9wjceDl7iP6vlhdQn/OU/79tgaitoA8By2vk+Parvv1EiCt9bdcE/hEIp9LHODECdOeKtVWgEwPF1dluSsd4/",
          "dtype": "f8"
         },
         "xaxis": "x",
         "y": {
          "bdata": "ZrOo/B8r5L81VayBIpL1v9OJ7Jt+BgzAeZxkfeyt5D+pw2L2ul/dPxDug4L/fP4/D2FiRqNlBUDWVZ3p4Jf9Py+a7X/g6AJAXe3ADdDsEUA7MNtIjj8LQMS2b9V0vO0/wG1NslCCB0BoMEyqb+f/P7sKQMoVAQ7AlwjpZ9K77j9IUUYd4hQCwIMdZJ0KveM/7w91qXnoAsADC6Mz8xn6P64G86IlhARABzHKdJPUA0DTgw6JpDfzv7H+eb9yegRAjBrhulPL+L+AU9Vp1Hf4v/spOa/sIghAhJQd+3MamD9pLd/dNFOkP0OuMQzRvf+/BC04IZQP7j/pHyR4DTzZvyq0uTKguwdAKUMgY4qICsAML8DC/CUBwNQ5wRlalQXAO/bLtJrpCkAvKdsPKD/4P6fFqQ06SAPAp9H24pdpAsCVcmhAhmABQNdzWel0iAJA8KjHtJnJ1D8B+ioEoscQwIsMCKNQIr0//L+MfBC/4D9GWA5NvOXTv2y4jL2lxvo/PZaTYtto4r90M4M25/HYvwGf907Bi/4/QXrkTfFX1j8GWD2DEBvyv1u4HDlrBti/",
          "dtype": "f8"
         },
         "yaxis": "y"
        },
        {
         "hovertemplate": "tipoCultivo=Soja<br>PC1=%{x}<br>PC2=%{y}<extra></extra>",
         "legendgroup": "Soja",
         "marker": {
          "color": "#00cc96",
          "symbol": "circle"
         },
         "mode": "markers",
         "name": "Soja",
         "orientation": "v",
         "showlegend": true,
         "type": "scatter",
         "x": {
          "bdata": "PE16frb1A0Cer5yQz+HcP/sMXGWLWes/Q9KUDFF2/r8SwQzMRuwNQB0P7vrE6ApAPnVCByFiAkBfeduC4afLP0Y2ucRx5AlAmPmkrrlW+D+zQohqCbbiv/5J7xsOtOo/vEaoPh+3BEDtjVbiLSADwOXjox/kyAlA3WJl2Ri0CMDMXw5Hm8ICQOzbr4nfSvy/Vh+8LgR08D8cI9diIx4SwIQpoD5W0Og/N1t0NSmc5j8FzVA2r4o7v+/WBUgZUOi/aiKSl1zuF0CXSLpLoAQDQFiaw3VwhOe/19DL6dTq6z/cob2rSIAKwBEHqrMi0BDAdhRpoGR02L+Lc7tOXCP0v8OFi77c1QdAAzK8C7y+7j+wASmQrUH3v1RY01E9++y/ojdFwBuL8D+pfeNHIREDwIzmOvDVq+q/L59B3U9yDUAv7GcBaKetv07caNUSgLi/5jrEFuesCsDa7n+SQLDyv0iIgQ98ifg/K2/9MYQVBcAlfjXcokEVQFjPDvfBgOI/qXR14C1G+b9ibQI2xLywv2SCE6JSIQzAs1IGds1VAcCPz00BTkb1P/+C/WKzD/a/8N7coyViBcDksWtfabEMQNakuZHrUwrALgz+k1Rf6j8gxro5sYfkv0KXwDYKtfc/KqEfIsC1AsA=",
          "dtype": "f8"
         },
         "xaxis": "x",
         "y": {
          "bdata": "wZoXVPQG5z/+c3m9QNUIQCi1dgNS8ghAKL6D604zDcBa2LQnXHcAwKY9zLjPcfi/+GzkLpWmBsBbsHb7c2XWv+l87vznHe6/pYvTEHBaCkBMMyR2jv3mv4xcJnSQlPm/qAjdjq+tEkCKUCeHP1v4Pxrt4CYulPu/t4uarh4aAkA6ENA1ngoJQKrs4BO85RDAltdWk9sT/r/qVXN6fSzVP5Xmf/hKXgrAtpt0E6n97b94zyUD6dzgvzNBhF/Ex/A/ja2DGe4J/b+9x4z8ji0HQMzZ/Fzwt+y/MvJMZ0Pm2z9FmbRtc9wDQIkGCsiflvc/TkETM26Z+D80KER0Rl7iv+ElxG7FpxBAOoGp3T8I5b8BEojAXpH2v555UYcQ8QpAB9VuO4r1DEBtyYxwZgjwv4LFjT8h5glAPkk6Ki4u8z/FVU2sG7/9P/1aaZ0K6AfAFcB2njoI879sir7YN/H/v4P/YKE+jfO/6XvV6BlS2b97pjHJA2j4v4VeIjsVoANALtriASOi/T+jmWT7SubQP5Jexws0ZPm/PsYooeSeBsD3rzJUu074v4gNTdLLcAJA24LGmIASEcCDD3KmFXGNP6piPhqgywzAIewMSIgB4b8stTAXT7UDwIsWUwYLLgJAXVcKXzAvEMA=",
          "dtype": "f8"
         },
         "yaxis": "y"
        }
       ],
       "layout": {
        "legend": {
         "title": {
          "text": "tipoCultivo"
         },
         "tracegroupgap": 0
        },
        "template": {
         "data": {
          "bar": [
           {
            "error_x": {
             "color": "#2a3f5f"
            },
            "error_y": {
             "color": "#2a3f5f"
            },
            "marker": {
             "line": {
              "color": "#E5ECF6",
              "width": 0.5
             },
             "pattern": {
              "fillmode": "overlay",
              "size": 10,
              "solidity": 0.2
             }
            },
            "type": "bar"
           }
          ],
          "barpolar": [
           {
            "marker": {
             "line": {
              "color": "#E5ECF6",
              "width": 0.5
             },
             "pattern": {
              "fillmode": "overlay",
              "size": 10,
              "solidity": 0.2
             }
            },
            "type": "barpolar"
           }
          ],
          "carpet": [
           {
            "aaxis": {
             "endlinecolor": "#2a3f5f",
             "gridcolor": "white",
             "linecolor": "white",
             "minorgridcolor": "white",
             "startlinecolor": "#2a3f5f"
            },
            "baxis": {
             "endlinecolor": "#2a3f5f",
             "gridcolor": "white",
             "linecolor": "white",
             "minorgridcolor": "white",
             "startlinecolor": "#2a3f5f"
            },
            "type": "carpet"
           }
          ],
          "choropleth": [
           {
            "colorbar": {
             "outlinewidth": 0,
             "ticks": ""
            },
            "type": "choropleth"
           }
          ],
          "contour": [
           {
            "colorbar": {
             "outlinewidth": 0,
             "ticks": ""
            },
            "colorscale": [
             [
              0,
              "#0d0887"
             ],
             [
              0.1111111111111111,
              "#46039f"
             ],
             [
              0.2222222222222222,
              "#7201a8"
             ],
             [
              0.3333333333333333,
              "#9c179e"
             ],
             [
              0.4444444444444444,
              "#bd3786"
             ],
             [
              0.5555555555555556,
              "#d8576b"
             ],
             [
              0.6666666666666666,
              "#ed7953"
             ],
             [
              0.7777777777777778,
              "#fb9f3a"
             ],
             [
              0.8888888888888888,
              "#fdca26"
             ],
             [
              1,
              "#f0f921"
             ]
            ],
            "type": "contour"
           }
          ],
          "contourcarpet": [
           {
            "colorbar": {
             "outlinewidth": 0,
             "ticks": ""
            },
            "type": "contourcarpet"
           }
          ],
          "heatmap": [
           {
            "colorbar": {
             "outlinewidth": 0,
             "ticks": ""
            },
            "colorscale": [
             [
              0,
              "#0d0887"
             ],
             [
              0.1111111111111111,
              "#46039f"
             ],
             [
              0.2222222222222222,
              "#7201a8"
             ],
             [
              0.3333333333333333,
              "#9c179e"
             ],
             [
              0.4444444444444444,
              "#bd3786"
             ],
             [
              0.5555555555555556,
              "#d8576b"
             ],
             [
              0.6666666666666666,
              "#ed7953"
             ],
             [
              0.7777777777777778,
              "#fb9f3a"
             ],
             [
              0.8888888888888888,
              "#fdca26"
             ],
             [
              1,
              "#f0f921"
             ]
            ],
            "type": "heatmap"
           }
          ],
          "histogram": [
           {
            "marker": {
             "pattern": {
              "fillmode": "overlay",
              "size": 10,
              "solidity": 0.2
             }
            },
            "type": "histogram"
           }
          ],
          "histogram2d": [
           {
            "colorbar": {
             "outlinewidth": 0,
             "ticks": ""
            },
            "colorscale": [
             [
              0,
              "#0d0887"
             ],
             [
              0.1111111111111111,
              "#46039f"
             ],
             [
              0.2222222222222222,
              "#7201a8"
             ],
             [
              0.3333333333333333,
              "#9c179e"
             ],
             [
              0.4444444444444444,
              "#bd3786"
             ],
             [
              0.5555555555555556,
              "#d8576b"
             ],
             [
              0.6666666666666666,
              "#ed7953"
             ],
             [
              0.7777777777777778,
              "#fb9f3a"
             ],
             [
              0.8888888888888888,
              "#fdca26"
             ],
             [
              1,
              "#f0f921"
             ]
            ],
            "type": "histogram2d"
           }
          ],
          "histogram2dcontour": [
           {
            "colorbar": {
             "outlinewidth": 0,
             "ticks": ""
            },
            "colorscale": [
             [
              0,
              "#0d0887"
             ],
             [
              0.1111111111111111,
              "#46039f"
             ],
             [
              0.2222222222222222,
              "#7201a8"
             ],
             [
              0.3333333333333333,
              "#9c179e"
             ],
             [
              0.4444444444444444,
              "#bd3786"
             ],
             [
              0.5555555555555556,
              "#d8576b"
             ],
             [
              0.6666666666666666,
              "#ed7953"
             ],
             [
              0.7777777777777778,
              "#fb9f3a"
             ],
             [
              0.8888888888888888,
              "#fdca26"
             ],
             [
              1,
              "#f0f921"
             ]
            ],
            "type": "histogram2dcontour"
           }
          ],
          "mesh3d": [
           {
            "colorbar": {
             "outlinewidth": 0,
             "ticks": ""
            },
            "type": "mesh3d"
           }
          ],
          "parcoords": [
           {
            "line": {
             "colorbar": {
              "outlinewidth": 0,
              "ticks": ""
             }
            },
            "type": "parcoords"
           }
          ],
          "pie": [
           {
            "automargin": true,
            "type": "pie"
           }
          ],
          "scatter": [
           {
            "fillpattern": {
             "fillmode": "overlay",
             "size": 10,
             "solidity": 0.2
            },
            "type": "scatter"
           }
          ],
          "scatter3d": [
           {
            "line": {
             "colorbar": {
              "outlinewidth": 0,
              "ticks": ""
             }
            },
            "marker": {
             "colorbar": {
              "outlinewidth": 0,
              "ticks": ""
             }
            },
            "type": "scatter3d"
           }
          ],
          "scattercarpet": [
           {
            "marker": {
             "colorbar": {
              "outlinewidth": 0,
              "ticks": ""
             }
            },
            "type": "scattercarpet"
           }
          ],
          "scattergeo": [
           {
            "marker": {
             "colorbar": {
              "outlinewidth": 0,
              "ticks": ""
             }
            },
            "type": "scattergeo"
           }
          ],
          "scattergl": [
           {
            "marker": {
             "colorbar": {
              "outlinewidth": 0,
              "ticks": ""
             }
            },
            "type": "scattergl"
           }
          ],
          "scattermap": [
           {
            "marker": {
             "colorbar": {
              "outlinewidth": 0,
              "ticks": ""
             }
            },
            "type": "scattermap"
           }
          ],
          "scattermapbox": [
           {
            "marker": {
             "colorbar": {
              "outlinewidth": 0,
              "ticks": ""
             }
            },
            "type": "scattermapbox"
           }
          ],
          "scatterpolar": [
           {
            "marker": {
             "colorbar": {
              "outlinewidth": 0,
              "ticks": ""
             }
            },
            "type": "scatterpolar"
           }
          ],
          "scatterpolargl": [
           {
            "marker": {
             "colorbar": {
              "outlinewidth": 0,
              "ticks": ""
             }
            },
            "type": "scatterpolargl"
           }
          ],
          "scatterternary": [
           {
            "marker": {
             "colorbar": {
              "outlinewidth": 0,
              "ticks": ""
             }
            },
            "type": "scatterternary"
           }
          ],
          "surface": [
           {
            "colorbar": {
             "outlinewidth": 0,
             "ticks": ""
            },
            "colorscale": [
             [
              0,
              "#0d0887"
             ],
             [
              0.1111111111111111,
              "#46039f"
             ],
             [
              0.2222222222222222,
              "#7201a8"
             ],
             [
              0.3333333333333333,
              "#9c179e"
             ],
             [
              0.4444444444444444,
              "#bd3786"
             ],
             [
              0.5555555555555556,
              "#d8576b"
             ],
             [
              0.6666666666666666,
              "#ed7953"
             ],
             [
              0.7777777777777778,
              "#fb9f3a"
             ],
             [
              0.8888888888888888,
              "#fdca26"
             ],
             [
              1,
              "#f0f921"
             ]
            ],
            "type": "surface"
           }
          ],
          "table": [
           {
            "cells": {
             "fill": {
              "color": "#EBF0F8"
             },
             "line": {
              "color": "white"
             }
            },
            "header": {
             "fill": {
              "color": "#C8D4E3"
             },
             "line": {
              "color": "white"
             }
            },
            "type": "table"
           }
          ]
         },
         "layout": {
          "annotationdefaults": {
           "arrowcolor": "#2a3f5f",
           "arrowhead": 0,
           "arrowwidth": 1
          },
          "autotypenumbers": "strict",
          "coloraxis": {
           "colorbar": {
            "outlinewidth": 0,
            "ticks": ""
           }
          },
          "colorscale": {
           "diverging": [
            [
             0,
             "#8e0152"
            ],
            [
             0.1,
             "#c51b7d"
            ],
            [
             0.2,
             "#de77ae"
            ],
            [
             0.3,
             "#f1b6da"
            ],
            [
             0.4,
             "#fde0ef"
            ],
            [
             0.5,
             "#f7f7f7"
            ],
            [
             0.6,
             "#e6f5d0"
            ],
            [
             0.7,
             "#b8e186"
            ],
            [
             0.8,
             "#7fbc41"
            ],
            [
             0.9,
             "#4d9221"
            ],
            [
             1,
             "#276419"
            ]
           ],
           "sequential": [
            [
             0,
             "#0d0887"
            ],
            [
             0.1111111111111111,
             "#46039f"
            ],
            [
             0.2222222222222222,
             "#7201a8"
            ],
            [
             0.3333333333333333,
             "#9c179e"
            ],
            [
             0.4444444444444444,
             "#bd3786"
            ],
            [
             0.5555555555555556,
             "#d8576b"
            ],
            [
             0.6666666666666666,
             "#ed7953"
            ],
            [
             0.7777777777777778,
             "#fb9f3a"
            ],
            [
             0.8888888888888888,
             "#fdca26"
            ],
            [
             1,
             "#f0f921"
            ]
           ],
           "sequentialminus": [
            [
             0,
             "#0d0887"
            ],
            [
             0.1111111111111111,
             "#46039f"
            ],
            [
             0.2222222222222222,
             "#7201a8"
            ],
            [
             0.3333333333333333,
             "#9c179e"
            ],
            [
             0.4444444444444444,
             "#bd3786"
            ],
            [
             0.5555555555555556,
             "#d8576b"
            ],
            [
             0.6666666666666666,
             "#ed7953"
            ],
            [
             0.7777777777777778,
             "#fb9f3a"
            ],
            [
             0.8888888888888888,
             "#fdca26"
            ],
            [
             1,
             "#f0f921"
            ]
           ]
          },
          "colorway": [
           "#636efa",
           "#EF553B",
           "#00cc96",
           "#ab63fa",
           "#FFA15A",
           "#19d3f3",
           "#FF6692",
           "#B6E880",
           "#FF97FF",
           "#FECB52"
          ],
          "font": {
           "color": "#2a3f5f"
          },
          "geo": {
           "bgcolor": "white",
           "lakecolor": "white",
           "landcolor": "#E5ECF6",
           "showlakes": true,
           "showland": true,
           "subunitcolor": "white"
          },
          "hoverlabel": {
           "align": "left"
          },
          "hovermode": "closest",
          "mapbox": {
           "style": "light"
          },
          "paper_bgcolor": "white",
          "plot_bgcolor": "#E5ECF6",
          "polar": {
           "angularaxis": {
            "gridcolor": "white",
            "linecolor": "white",
            "ticks": ""
           },
           "bgcolor": "#E5ECF6",
           "radialaxis": {
            "gridcolor": "white",
            "linecolor": "white",
            "ticks": ""
           }
          },
          "scene": {
           "xaxis": {
            "backgroundcolor": "#E5ECF6",
            "gridcolor": "white",
            "gridwidth": 2,
            "linecolor": "white",
            "showbackground": true,
            "ticks": "",
            "zerolinecolor": "white"
           },
           "yaxis": {
            "backgroundcolor": "#E5ECF6",
            "gridcolor": "white",
            "gridwidth": 2,
            "linecolor": "white",
            "showbackground": true,
            "ticks": "",
            "zerolinecolor": "white"
           },
           "zaxis": {
            "backgroundcolor": "#E5ECF6",
            "gridcolor": "white",
            "gridwidth": 2,
            "linecolor": "white",
            "showbackground": true,
            "ticks": "",
            "zerolinecolor": "white"
           }
          },
          "shapedefaults": {
           "line": {
            "color": "#2a3f5f"
           }
          },
          "ternary": {
           "aaxis": {
            "gridcolor": "white",
            "linecolor": "white",
            "ticks": ""
           },
           "baxis": {
            "gridcolor": "white",
            "linecolor": "white",
            "ticks": ""
           },
           "bgcolor": "#E5ECF6",
           "caxis": {
            "gridcolor": "white",
            "linecolor": "white",
            "ticks": ""
           }
          },
          "title": {
           "x": 0.05
          },
          "xaxis": {
           "automargin": true,
           "gridcolor": "white",
           "linecolor": "white",
           "ticks": "",
           "title": {
            "standoff": 15
           },
           "zerolinecolor": "white",
           "zerolinewidth": 2
          },
          "yaxis": {
           "automargin": true,
           "gridcolor": "white",
           "linecolor": "white",
           "ticks": "",
           "title": {
            "standoff": 15
           },
           "zerolinecolor": "white",
           "zerolinewidth": 2
          }
         }
        },
        "title": {
         "text": "ISOMAP con 30 vecinos y 10 componentes (mostrando PC1 y PC2)"
        },
        "xaxis": {
         "anchor": "y",
         "domain": [
          0,
          1
         ],
         "title": {
          "text": "PC1"
         }
        },
        "yaxis": {
         "anchor": "x",
         "domain": [
          0,
          1
         ],
         "title": {
          "text": "PC2"
         }
        }
       }
      }
     },
     "metadata": {},
     "output_type": "display_data"
    },
    {
     "data": {
      "application/vnd.plotly.v1+json": {
       "config": {
        "plotlyServerURL": "https://plot.ly"
       },
       "data": [
        {
         "hovertemplate": "tipoCultivo=Trigo<br>PC1=%{x}<br>PC2=%{y}<extra></extra>",
         "legendgroup": "Trigo",
         "marker": {
          "color": "#636efa",
          "symbol": "circle"
         },
         "mode": "markers",
         "name": "Trigo",
         "orientation": "v",
         "showlegend": true,
         "type": "scatter",
         "x": {
          "bdata": "UCM+UFjuwD8tJWiPXHcDwPxzuiMJZa4/UI07+PlV+D9wdbVX6dHlv4/jNMLg7OC/4HTC9x4m/D9ja8cylQIEQHw+6VD5MgnA8pvGB5upCECwSrkmj7oMwHUdh2i27OS/8E0M2l5f4j+cFFJHx4jov0BT2givYd+/LTDEznlZ5T/0/Xckm8wCwKeL9maLyNy/W6DiRSv17D+8DMkowcnKP9qs/LFzoQVAAsdVeCUt3r8iCBnpDq7+v7B64gilG+i/71FkosLP/D+aYfs1/ckKwC/7mReJq/e/eozjxJ4ewb+1aAtVpqjUvybCuMTiauI/CD59ArcO+79w8aabx8/hvwWhyQPv7/o/tiGAhXoX4T+VspgnFqMHwOwRgzmp5u+/SWyQfyK4AUBUpZZlw98BwBRhZs4G0PS/ydqaY39k8z9w4CArQXUAwG0fmLVv3uO/q6L5TCU70D/Frgf5odXhv8QSmqkfSeU/4df80FRq6T/18yP0Z7sJwFx605CAUe6/",
          "dtype": "f8"
         },
         "xaxis": "x",
         "y": {
          "bdata": "cLP4NZg0479k6k70jiwKwOM8AqYtVw/AbGuARIE9B8ClWecDzDvvP4Y8hDyZ/eo/zrJECe8n/79f61wIYwHjP+WuUSskhfc/j8A2kaaa97+qag5xQTLjPwbJTjwePfS/t/g9AcQKrz95seyE/J4RQIn96Vz4w+U/V/eiORZv6T+UCXxoLqD6P9N4A5WITaK/NjUzbRFqCsDR0+yO7EENQIqUvj2T4wtAJe1aSlgp/j9gzKSi0434Px8LNdfrN/i/qqfNclFv4L8DB0tG3nX5v5AdxWx9Lu6/XzmBVVdiAcBT9dGWVuz4P4lIs76XAfU/B4q+ysR9/b85l0tdjZSOv7A9zHqBOwJAW3qkHWPG4z/o1NJx0scHwKicuNANXfS/bwyZL45E/j+uG5ELuXgEQE0pLxIlAgFAJKDk6kISC8C+w25JOW7jPy/91+mRJuO/XBu2TCuA9L9sMJXaY6kRwNs+r3nqOue/oNRXxGgN4D/eYMtRNyLOP6FAJuSnQwLA",
          "dtype": "f8"
         },
         "yaxis": "y"
        },
        {
         "hovertemplate": "tipoCultivo=Maiz<br>PC1=%{x}<br>PC2=%{y}<extra></extra>",
         "legendgroup": "Maiz",
         "marker": {
          "color": "#EF553B",
          "symbol": "circle"
         },
         "mode": "markers",
         "name": "Maiz",
         "orientation": "v",
         "showlegend": true,
         "type": "scatter",
         "x": {
          "bdata": "xUf0pN0W8D+Jpgufyijov1vmzeDjSgzAOCl5gnbq3T8KccAsaUD0v1rcfEO5fOu/khvnOyKS0b/G6r5vjdvTv8KM6ij/xOE/w8rY8XW3EkAYDJMfU8L4P+5oeVecJe0/jTMHZDQDEkDSqVf12k8GQOUJJtpGxhHAVJAmdqxwBEDh9BLOQyrdP92YYPgQc+o/tzAaZFg0978TykyWxbQMQCIW1m/+b/A/NTDA+FmT9z9TBE+ypn8KwMo58sCpggBAwRhSE0mR6z8crvYtbb73P3pRjJwllgJAG0pqR8nKnT8W9Olj/oOrv5Ctfa6kKuO/knw02DaY/7+llc/tuhsJwPfgzHUQQwpAtIlFThud879THAMI65+0vwvPmAWSruy/yoAsfeaABkDEdo0+l5EGQL5FbWz7EdQ/EaAnVsBlAcA7s3PFkbQCQCbusNbP9AFAeFMUFvD41L+xx0eTVhcBwKoTn6rs0u0/5z1TLvDoAEDQKpaBZOXxP+glWwH2DAdAudzgcZARA8DvsdPfXIi3vycb49W+PNc/JgVnQvUhBkAQNf53Vj4GwF00YuzFW6Q/",
          "dtype": "f8"
         },
         "xaxis": "x",
         "y": {
          "bdata": "HqgiAoPl8j8EyuTOu0fpvwNArZPKDdA/Ktqii68K0D9vJkiv+KkDQM5/K0eB9wXAeQDxvUGYAcDH5Psjl1cJwHiEe+djj7q/RCGObWUs5b+S9iTdmnwIwOLVj555/PY/Nv+f/ZgStD8L5kdSAsjwv+gd/QW8+8+/E5YZQGn257898bWCURf/P9/kc363Kf8/QLrF3XsMDkCbwy3ewZvCP4nT8k6hrN0/cF9jrXhX+r8dvVbP6sz4v7MfKJvd5Q7Ajm+W6ClXEEAzi1FKeHcKQJPuqcOGLtq/focvYRVe9793fMgNfBXgv+PogtRfVfo/E28bR7+BA8AF4/kAeEDyv+AaZJk9RPi/dg6IZc5Y5D/cjOvhEUzKP31NHlY9TgBAMduHZbBgBsDKnPwLOLvoP2pAFETkgwJAF4Z2GfbWB0DhhS5ElgsFwL4m4Ryrgv+/OCzFiztF1b+j0U8zS4AEQAJGQyEHdwFABjyLuLil/z+xZ1M9tjTGPyo4SfXKJfS/W1PeDndx3r+bdz8RJp+yv8vl52n7BOS/p2bhi5RVAEAAY47hCyIAwPYLsKxYl+I/",
          "dtype": "f8"
         },
         "yaxis": "y"
        },
        {
         "hovertemplate": "tipoCultivo=Soja<br>PC1=%{x}<br>PC2=%{y}<extra></extra>",
         "legendgroup": "Soja",
         "marker": {
          "color": "#00cc96",
          "symbol": "circle"
         },
         "mode": "markers",
         "name": "Soja",
         "orientation": "v",
         "showlegend": true,
         "type": "scatter",
         "x": {
          "bdata": "mqzV+5BZ5T91AiSBmB4EQKdjXNlfu/g/OcPUu2TkCcB2sida94HLv9tg0PmHMuc/ATGV3rCtz78m4lR2nYbqv7dR9tjLXdo/B6bldVL19D+Ie4iL4jfivx9qEPXlUdE/OgQ0MOflFEBFC4NQ6x7uvwlMvFwx4OE/A/G/EW/cxr+eVXvlA7UQQBMt01u9gRLAFdvyeYOQ0T92MRd8NzgKwDIIBtF51fq/E+lcLdUS2z/4z4jWcXpcP2stNdJEh+8/fvQscO29/T89bYcNW8ULQPQYkH/4BOq/NDxpFUnC/D+uumyVunnEP0QfX+uDOgPAxWC7djdv1T+AcwhRs4Ttvx9YThHKow9AnKr5jLEmqL+5UEzd00L0v8Y716k+De4/m559hZq/CUBaY89m7DUCwLbtJeQdT+s/3684drseDEDv0raHyfznP7ONlsPY+tG/L4A/D5/1A8C6N5iYZfD8vzH/tyr8l+4/eZ/clFUB9r/KPacKo2T/Pw+NdpDXtf8/m9P+HerKnz+REdoKO9TdP9YFJhaTxBDAXviLv+9ABcCaZc33Xw0BwJeNMmA+38W/I/5ZUZleEMBtLWfA4/78P7qoZCCGnhDAKn0sYUHJ8b8M1n20TiwBwDIZLWnatvU/lD0dZfOlEsA=",
          "dtype": "f8"
         },
         "xaxis": "x",
         "y": {
          "bdata": "FMINudvH+z9+6mmaVwsBwAt6lHhogPK/UBdVPh6J9T9k1GV6ST4TQFnkrwWYHABAR9d5LE0e/z+KTNdK9i7xP8gvBpOyFQ1ABq++wdAq3b+0Dx7QBmb1v6lm9PBOdNE/P1x0xJEo978xOP7C4bwEwPSEw3uJGg5AFsx7Ea96AsBdk9iCYbDWv9QX7I7ROgBAR0Fm/K/My798xEMnIzoIwH5hudY7Bf4///zk/408CkBe14aOKW/iv2tE6UD89PO/BvFdbLOuEEDgeD9rL/6nPxUyS50E6M0/lWjst0FJ8D9cQnvN6ekFwNwvq35uagTAs0D4yi6iAsCgEZYiOtAGwLCdGz0okaa/c+TKTa9x/z+bV0spUF7+vzoJHiDuyg3AS0OPiO721j+JiAJqlp79vzEVnGcj09Y/QQ3qzpw7/T9Z1IjiKqn2v/VkBO1gy+a/mPfb39NK679St+dnR8jxv5YMR64N+P4/Jo0viDa//L9xJy5woXkIQGQAMN0NiOy/20QienfjBMB46vi454bJv64ywpB4Avq/6iZcPKFB7T9ngAT9F4UEQE6gltvPRuy/pi3t/0Uk1T+E0sHnMO8LQPBst3cOJ98/yGwB9R9PAUDGVWfQGAXrPwQ85wNY8rs/vNEokj4X9D8=",
          "dtype": "f8"
         },
         "yaxis": "y"
        }
       ],
       "layout": {
        "legend": {
         "title": {
          "text": "tipoCultivo"
         },
         "tracegroupgap": 0
        },
        "template": {
         "data": {
          "bar": [
           {
            "error_x": {
             "color": "#2a3f5f"
            },
            "error_y": {
             "color": "#2a3f5f"
            },
            "marker": {
             "line": {
              "color": "#E5ECF6",
              "width": 0.5
             },
             "pattern": {
              "fillmode": "overlay",
              "size": 10,
              "solidity": 0.2
             }
            },
            "type": "bar"
           }
          ],
          "barpolar": [
           {
            "marker": {
             "line": {
              "color": "#E5ECF6",
              "width": 0.5
             },
             "pattern": {
              "fillmode": "overlay",
              "size": 10,
              "solidity": 0.2
             }
            },
            "type": "barpolar"
           }
          ],
          "carpet": [
           {
            "aaxis": {
             "endlinecolor": "#2a3f5f",
             "gridcolor": "white",
             "linecolor": "white",
             "minorgridcolor": "white",
             "startlinecolor": "#2a3f5f"
            },
            "baxis": {
             "endlinecolor": "#2a3f5f",
             "gridcolor": "white",
             "linecolor": "white",
             "minorgridcolor": "white",
             "startlinecolor": "#2a3f5f"
            },
            "type": "carpet"
           }
          ],
          "choropleth": [
           {
            "colorbar": {
             "outlinewidth": 0,
             "ticks": ""
            },
            "type": "choropleth"
           }
          ],
          "contour": [
           {
            "colorbar": {
             "outlinewidth": 0,
             "ticks": ""
            },
            "colorscale": [
             [
              0,
              "#0d0887"
             ],
             [
              0.1111111111111111,
              "#46039f"
             ],
             [
              0.2222222222222222,
              "#7201a8"
             ],
             [
              0.3333333333333333,
              "#9c179e"
             ],
             [
              0.4444444444444444,
              "#bd3786"
             ],
             [
              0.5555555555555556,
              "#d8576b"
             ],
             [
              0.6666666666666666,
              "#ed7953"
             ],
             [
              0.7777777777777778,
              "#fb9f3a"
             ],
             [
              0.8888888888888888,
              "#fdca26"
             ],
             [
              1,
              "#f0f921"
             ]
            ],
            "type": "contour"
           }
          ],
          "contourcarpet": [
           {
            "colorbar": {
             "outlinewidth": 0,
             "ticks": ""
            },
            "type": "contourcarpet"
           }
          ],
          "heatmap": [
           {
            "colorbar": {
             "outlinewidth": 0,
             "ticks": ""
            },
            "colorscale": [
             [
              0,
              "#0d0887"
             ],
             [
              0.1111111111111111,
              "#46039f"
             ],
             [
              0.2222222222222222,
              "#7201a8"
             ],
             [
              0.3333333333333333,
              "#9c179e"
             ],
             [
              0.4444444444444444,
              "#bd3786"
             ],
             [
              0.5555555555555556,
              "#d8576b"
             ],
             [
              0.6666666666666666,
              "#ed7953"
             ],
             [
              0.7777777777777778,
              "#fb9f3a"
             ],
             [
              0.8888888888888888,
              "#fdca26"
             ],
             [
              1,
              "#f0f921"
             ]
            ],
            "type": "heatmap"
           }
          ],
          "histogram": [
           {
            "marker": {
             "pattern": {
              "fillmode": "overlay",
              "size": 10,
              "solidity": 0.2
             }
            },
            "type": "histogram"
           }
          ],
          "histogram2d": [
           {
            "colorbar": {
             "outlinewidth": 0,
             "ticks": ""
            },
            "colorscale": [
             [
              0,
              "#0d0887"
             ],
             [
              0.1111111111111111,
              "#46039f"
             ],
             [
              0.2222222222222222,
              "#7201a8"
             ],
             [
              0.3333333333333333,
              "#9c179e"
             ],
             [
              0.4444444444444444,
              "#bd3786"
             ],
             [
              0.5555555555555556,
              "#d8576b"
             ],
             [
              0.6666666666666666,
              "#ed7953"
             ],
             [
              0.7777777777777778,
              "#fb9f3a"
             ],
             [
              0.8888888888888888,
              "#fdca26"
             ],
             [
              1,
              "#f0f921"
             ]
            ],
            "type": "histogram2d"
           }
          ],
          "histogram2dcontour": [
           {
            "colorbar": {
             "outlinewidth": 0,
             "ticks": ""
            },
            "colorscale": [
             [
              0,
              "#0d0887"
             ],
             [
              0.1111111111111111,
              "#46039f"
             ],
             [
              0.2222222222222222,
              "#7201a8"
             ],
             [
              0.3333333333333333,
              "#9c179e"
             ],
             [
              0.4444444444444444,
              "#bd3786"
             ],
             [
              0.5555555555555556,
              "#d8576b"
             ],
             [
              0.6666666666666666,
              "#ed7953"
             ],
             [
              0.7777777777777778,
              "#fb9f3a"
             ],
             [
              0.8888888888888888,
              "#fdca26"
             ],
             [
              1,
              "#f0f921"
             ]
            ],
            "type": "histogram2dcontour"
           }
          ],
          "mesh3d": [
           {
            "colorbar": {
             "outlinewidth": 0,
             "ticks": ""
            },
            "type": "mesh3d"
           }
          ],
          "parcoords": [
           {
            "line": {
             "colorbar": {
              "outlinewidth": 0,
              "ticks": ""
             }
            },
            "type": "parcoords"
           }
          ],
          "pie": [
           {
            "automargin": true,
            "type": "pie"
           }
          ],
          "scatter": [
           {
            "fillpattern": {
             "fillmode": "overlay",
             "size": 10,
             "solidity": 0.2
            },
            "type": "scatter"
           }
          ],
          "scatter3d": [
           {
            "line": {
             "colorbar": {
              "outlinewidth": 0,
              "ticks": ""
             }
            },
            "marker": {
             "colorbar": {
              "outlinewidth": 0,
              "ticks": ""
             }
            },
            "type": "scatter3d"
           }
          ],
          "scattercarpet": [
           {
            "marker": {
             "colorbar": {
              "outlinewidth": 0,
              "ticks": ""
             }
            },
            "type": "scattercarpet"
           }
          ],
          "scattergeo": [
           {
            "marker": {
             "colorbar": {
              "outlinewidth": 0,
              "ticks": ""
             }
            },
            "type": "scattergeo"
           }
          ],
          "scattergl": [
           {
            "marker": {
             "colorbar": {
              "outlinewidth": 0,
              "ticks": ""
             }
            },
            "type": "scattergl"
           }
          ],
          "scattermap": [
           {
            "marker": {
             "colorbar": {
              "outlinewidth": 0,
              "ticks": ""
             }
            },
            "type": "scattermap"
           }
          ],
          "scattermapbox": [
           {
            "marker": {
             "colorbar": {
              "outlinewidth": 0,
              "ticks": ""
             }
            },
            "type": "scattermapbox"
           }
          ],
          "scatterpolar": [
           {
            "marker": {
             "colorbar": {
              "outlinewidth": 0,
              "ticks": ""
             }
            },
            "type": "scatterpolar"
           }
          ],
          "scatterpolargl": [
           {
            "marker": {
             "colorbar": {
              "outlinewidth": 0,
              "ticks": ""
             }
            },
            "type": "scatterpolargl"
           }
          ],
          "scatterternary": [
           {
            "marker": {
             "colorbar": {
              "outlinewidth": 0,
              "ticks": ""
             }
            },
            "type": "scatterternary"
           }
          ],
          "surface": [
           {
            "colorbar": {
             "outlinewidth": 0,
             "ticks": ""
            },
            "colorscale": [
             [
              0,
              "#0d0887"
             ],
             [
              0.1111111111111111,
              "#46039f"
             ],
             [
              0.2222222222222222,
              "#7201a8"
             ],
             [
              0.3333333333333333,
              "#9c179e"
             ],
             [
              0.4444444444444444,
              "#bd3786"
             ],
             [
              0.5555555555555556,
              "#d8576b"
             ],
             [
              0.6666666666666666,
              "#ed7953"
             ],
             [
              0.7777777777777778,
              "#fb9f3a"
             ],
             [
              0.8888888888888888,
              "#fdca26"
             ],
             [
              1,
              "#f0f921"
             ]
            ],
            "type": "surface"
           }
          ],
          "table": [
           {
            "cells": {
             "fill": {
              "color": "#EBF0F8"
             },
             "line": {
              "color": "white"
             }
            },
            "header": {
             "fill": {
              "color": "#C8D4E3"
             },
             "line": {
              "color": "white"
             }
            },
            "type": "table"
           }
          ]
         },
         "layout": {
          "annotationdefaults": {
           "arrowcolor": "#2a3f5f",
           "arrowhead": 0,
           "arrowwidth": 1
          },
          "autotypenumbers": "strict",
          "coloraxis": {
           "colorbar": {
            "outlinewidth": 0,
            "ticks": ""
           }
          },
          "colorscale": {
           "diverging": [
            [
             0,
             "#8e0152"
            ],
            [
             0.1,
             "#c51b7d"
            ],
            [
             0.2,
             "#de77ae"
            ],
            [
             0.3,
             "#f1b6da"
            ],
            [
             0.4,
             "#fde0ef"
            ],
            [
             0.5,
             "#f7f7f7"
            ],
            [
             0.6,
             "#e6f5d0"
            ],
            [
             0.7,
             "#b8e186"
            ],
            [
             0.8,
             "#7fbc41"
            ],
            [
             0.9,
             "#4d9221"
            ],
            [
             1,
             "#276419"
            ]
           ],
           "sequential": [
            [
             0,
             "#0d0887"
            ],
            [
             0.1111111111111111,
             "#46039f"
            ],
            [
             0.2222222222222222,
             "#7201a8"
            ],
            [
             0.3333333333333333,
             "#9c179e"
            ],
            [
             0.4444444444444444,
             "#bd3786"
            ],
            [
             0.5555555555555556,
             "#d8576b"
            ],
            [
             0.6666666666666666,
             "#ed7953"
            ],
            [
             0.7777777777777778,
             "#fb9f3a"
            ],
            [
             0.8888888888888888,
             "#fdca26"
            ],
            [
             1,
             "#f0f921"
            ]
           ],
           "sequentialminus": [
            [
             0,
             "#0d0887"
            ],
            [
             0.1111111111111111,
             "#46039f"
            ],
            [
             0.2222222222222222,
             "#7201a8"
            ],
            [
             0.3333333333333333,
             "#9c179e"
            ],
            [
             0.4444444444444444,
             "#bd3786"
            ],
            [
             0.5555555555555556,
             "#d8576b"
            ],
            [
             0.6666666666666666,
             "#ed7953"
            ],
            [
             0.7777777777777778,
             "#fb9f3a"
            ],
            [
             0.8888888888888888,
             "#fdca26"
            ],
            [
             1,
             "#f0f921"
            ]
           ]
          },
          "colorway": [
           "#636efa",
           "#EF553B",
           "#00cc96",
           "#ab63fa",
           "#FFA15A",
           "#19d3f3",
           "#FF6692",
           "#B6E880",
           "#FF97FF",
           "#FECB52"
          ],
          "font": {
           "color": "#2a3f5f"
          },
          "geo": {
           "bgcolor": "white",
           "lakecolor": "white",
           "landcolor": "#E5ECF6",
           "showlakes": true,
           "showland": true,
           "subunitcolor": "white"
          },
          "hoverlabel": {
           "align": "left"
          },
          "hovermode": "closest",
          "mapbox": {
           "style": "light"
          },
          "paper_bgcolor": "white",
          "plot_bgcolor": "#E5ECF6",
          "polar": {
           "angularaxis": {
            "gridcolor": "white",
            "linecolor": "white",
            "ticks": ""
           },
           "bgcolor": "#E5ECF6",
           "radialaxis": {
            "gridcolor": "white",
            "linecolor": "white",
            "ticks": ""
           }
          },
          "scene": {
           "xaxis": {
            "backgroundcolor": "#E5ECF6",
            "gridcolor": "white",
            "gridwidth": 2,
            "linecolor": "white",
            "showbackground": true,
            "ticks": "",
            "zerolinecolor": "white"
           },
           "yaxis": {
            "backgroundcolor": "#E5ECF6",
            "gridcolor": "white",
            "gridwidth": 2,
            "linecolor": "white",
            "showbackground": true,
            "ticks": "",
            "zerolinecolor": "white"
           },
           "zaxis": {
            "backgroundcolor": "#E5ECF6",
            "gridcolor": "white",
            "gridwidth": 2,
            "linecolor": "white",
            "showbackground": true,
            "ticks": "",
            "zerolinecolor": "white"
           }
          },
          "shapedefaults": {
           "line": {
            "color": "#2a3f5f"
           }
          },
          "ternary": {
           "aaxis": {
            "gridcolor": "white",
            "linecolor": "white",
            "ticks": ""
           },
           "baxis": {
            "gridcolor": "white",
            "linecolor": "white",
            "ticks": ""
           },
           "bgcolor": "#E5ECF6",
           "caxis": {
            "gridcolor": "white",
            "linecolor": "white",
            "ticks": ""
           }
          },
          "title": {
           "x": 0.05
          },
          "xaxis": {
           "automargin": true,
           "gridcolor": "white",
           "linecolor": "white",
           "ticks": "",
           "title": {
            "standoff": 15
           },
           "zerolinecolor": "white",
           "zerolinewidth": 2
          },
          "yaxis": {
           "automargin": true,
           "gridcolor": "white",
           "linecolor": "white",
           "ticks": "",
           "title": {
            "standoff": 15
           },
           "zerolinecolor": "white",
           "zerolinewidth": 2
          }
         }
        },
        "title": {
         "text": "ISOMAP con 100 vecinos y 2 componentes (mostrando PC1 y PC2)"
        },
        "xaxis": {
         "anchor": "y",
         "domain": [
          0,
          1
         ],
         "title": {
          "text": "PC1"
         }
        },
        "yaxis": {
         "anchor": "x",
         "domain": [
          0,
          1
         ],
         "title": {
          "text": "PC2"
         }
        }
       }
      }
     },
     "metadata": {},
     "output_type": "display_data"
    },
    {
     "data": {
      "application/vnd.plotly.v1+json": {
       "config": {
        "plotlyServerURL": "https://plot.ly"
       },
       "data": [
        {
         "hovertemplate": "tipoCultivo=Trigo<br>PC1=%{x}<br>PC2=%{y}<extra></extra>",
         "legendgroup": "Trigo",
         "marker": {
          "color": "#636efa",
          "symbol": "circle"
         },
         "mode": "markers",
         "name": "Trigo",
         "orientation": "v",
         "showlegend": true,
         "type": "scatter",
         "x": {
          "bdata": "UCM+UFjuwD8tJWiPXHcDwPxzuiMJZa4/UI07+PlV+D9wdbVX6dHlv4/jNMLg7OC/4HTC9x4m/D9ja8cylQIEQHw+6VD5MgnA8pvGB5upCECwSrkmj7oMwHUdh2i27OS/8E0M2l5f4j+cFFJHx4jov0BT2givYd+/LTDEznlZ5T/0/Xckm8wCwKeL9maLyNy/W6DiRSv17D+8DMkowcnKP9qs/LFzoQVAAsdVeCUt3r8iCBnpDq7+v7B64gilG+i/71FkosLP/D+aYfs1/ckKwC/7mReJq/e/eozjxJ4ewb+1aAtVpqjUvybCuMTiauI/CD59ArcO+79w8aabx8/hvwWhyQPv7/o/tiGAhXoX4T+VspgnFqMHwOwRgzmp5u+/SWyQfyK4AUBUpZZlw98BwBRhZs4G0PS/ydqaY39k8z9w4CArQXUAwG0fmLVv3uO/q6L5TCU70D/Frgf5odXhv8QSmqkfSeU/4df80FRq6T/18yP0Z7sJwFx605CAUe6/",
          "dtype": "f8"
         },
         "xaxis": "x",
         "y": {
          "bdata": "cLP4NZg0479k6k70jiwKwOM8AqYtVw/AbGuARIE9B8ClWecDzDvvP4Y8hDyZ/eo/zrJECe8n/79f61wIYwHjP+WuUSskhfc/j8A2kaaa97+qag5xQTLjPwbJTjwePfS/t/g9AcQKrz95seyE/J4RQIn96Vz4w+U/V/eiORZv6T+UCXxoLqD6P9N4A5WITaK/NjUzbRFqCsDR0+yO7EENQIqUvj2T4wtAJe1aSlgp/j9gzKSi0434Px8LNdfrN/i/qqfNclFv4L8DB0tG3nX5v5AdxWx9Lu6/XzmBVVdiAcBT9dGWVuz4P4lIs76XAfU/B4q+ysR9/b85l0tdjZSOv7A9zHqBOwJAW3qkHWPG4z/o1NJx0scHwKicuNANXfS/bwyZL45E/j+uG5ELuXgEQE0pLxIlAgFAJKDk6kISC8C+w25JOW7jPy/91+mRJuO/XBu2TCuA9L9sMJXaY6kRwNs+r3nqOue/oNRXxGgN4D/eYMtRNyLOP6FAJuSnQwLA",
          "dtype": "f8"
         },
         "yaxis": "y"
        },
        {
         "hovertemplate": "tipoCultivo=Maiz<br>PC1=%{x}<br>PC2=%{y}<extra></extra>",
         "legendgroup": "Maiz",
         "marker": {
          "color": "#EF553B",
          "symbol": "circle"
         },
         "mode": "markers",
         "name": "Maiz",
         "orientation": "v",
         "showlegend": true,
         "type": "scatter",
         "x": {
          "bdata": "xUf0pN0W8D+Jpgufyijov1vmzeDjSgzAOCl5gnbq3T8KccAsaUD0v1rcfEO5fOu/khvnOyKS0b/G6r5vjdvTv8KM6ij/xOE/w8rY8XW3EkAYDJMfU8L4P+5oeVecJe0/jTMHZDQDEkDSqVf12k8GQOUJJtpGxhHAVJAmdqxwBEDh9BLOQyrdP92YYPgQc+o/tzAaZFg0978TykyWxbQMQCIW1m/+b/A/NTDA+FmT9z9TBE+ypn8KwMo58sCpggBAwRhSE0mR6z8crvYtbb73P3pRjJwllgJAG0pqR8nKnT8W9Olj/oOrv5Ctfa6kKuO/knw02DaY/7+llc/tuhsJwPfgzHUQQwpAtIlFThud879THAMI65+0vwvPmAWSruy/yoAsfeaABkDEdo0+l5EGQL5FbWz7EdQ/EaAnVsBlAcA7s3PFkbQCQCbusNbP9AFAeFMUFvD41L+xx0eTVhcBwKoTn6rs0u0/5z1TLvDoAEDQKpaBZOXxP+glWwH2DAdAudzgcZARA8DvsdPfXIi3vycb49W+PNc/JgVnQvUhBkAQNf53Vj4GwF00YuzFW6Q/",
          "dtype": "f8"
         },
         "xaxis": "x",
         "y": {
          "bdata": "HqgiAoPl8j8EyuTOu0fpvwNArZPKDdA/Ktqii68K0D9vJkiv+KkDQM5/K0eB9wXAeQDxvUGYAcDH5Psjl1cJwHiEe+djj7q/RCGObWUs5b+S9iTdmnwIwOLVj555/PY/Nv+f/ZgStD8L5kdSAsjwv+gd/QW8+8+/E5YZQGn257898bWCURf/P9/kc363Kf8/QLrF3XsMDkCbwy3ewZvCP4nT8k6hrN0/cF9jrXhX+r8dvVbP6sz4v7MfKJvd5Q7Ajm+W6ClXEEAzi1FKeHcKQJPuqcOGLtq/focvYRVe9793fMgNfBXgv+PogtRfVfo/E28bR7+BA8AF4/kAeEDyv+AaZJk9RPi/dg6IZc5Y5D/cjOvhEUzKP31NHlY9TgBAMduHZbBgBsDKnPwLOLvoP2pAFETkgwJAF4Z2GfbWB0DhhS5ElgsFwL4m4Ryrgv+/OCzFiztF1b+j0U8zS4AEQAJGQyEHdwFABjyLuLil/z+xZ1M9tjTGPyo4SfXKJfS/W1PeDndx3r+bdz8RJp+yv8vl52n7BOS/p2bhi5RVAEAAY47hCyIAwPYLsKxYl+I/",
          "dtype": "f8"
         },
         "yaxis": "y"
        },
        {
         "hovertemplate": "tipoCultivo=Soja<br>PC1=%{x}<br>PC2=%{y}<extra></extra>",
         "legendgroup": "Soja",
         "marker": {
          "color": "#00cc96",
          "symbol": "circle"
         },
         "mode": "markers",
         "name": "Soja",
         "orientation": "v",
         "showlegend": true,
         "type": "scatter",
         "x": {
          "bdata": "mqzV+5BZ5T91AiSBmB4EQKdjXNlfu/g/OcPUu2TkCcB2sida94HLv9tg0PmHMuc/ATGV3rCtz78m4lR2nYbqv7dR9tjLXdo/B6bldVL19D+Ie4iL4jfivx9qEPXlUdE/OgQ0MOflFEBFC4NQ6x7uvwlMvFwx4OE/A/G/EW/cxr+eVXvlA7UQQBMt01u9gRLAFdvyeYOQ0T92MRd8NzgKwDIIBtF51fq/E+lcLdUS2z/4z4jWcXpcP2stNdJEh+8/fvQscO29/T89bYcNW8ULQPQYkH/4BOq/NDxpFUnC/D+uumyVunnEP0QfX+uDOgPAxWC7djdv1T+AcwhRs4Ttvx9YThHKow9AnKr5jLEmqL+5UEzd00L0v8Y716k+De4/m559hZq/CUBaY89m7DUCwLbtJeQdT+s/3684drseDEDv0raHyfznP7ONlsPY+tG/L4A/D5/1A8C6N5iYZfD8vzH/tyr8l+4/eZ/clFUB9r/KPacKo2T/Pw+NdpDXtf8/m9P+HerKnz+REdoKO9TdP9YFJhaTxBDAXviLv+9ABcCaZc33Xw0BwJeNMmA+38W/I/5ZUZleEMBtLWfA4/78P7qoZCCGnhDAKn0sYUHJ8b8M1n20TiwBwDIZLWnatvU/lD0dZfOlEsA=",
          "dtype": "f8"
         },
         "xaxis": "x",
         "y": {
          "bdata": "FMINudvH+z9+6mmaVwsBwAt6lHhogPK/UBdVPh6J9T9k1GV6ST4TQFnkrwWYHABAR9d5LE0e/z+KTNdK9i7xP8gvBpOyFQ1ABq++wdAq3b+0Dx7QBmb1v6lm9PBOdNE/P1x0xJEo978xOP7C4bwEwPSEw3uJGg5AFsx7Ea96AsBdk9iCYbDWv9QX7I7ROgBAR0Fm/K/My798xEMnIzoIwH5hudY7Bf4///zk/408CkBe14aOKW/iv2tE6UD89PO/BvFdbLOuEEDgeD9rL/6nPxUyS50E6M0/lWjst0FJ8D9cQnvN6ekFwNwvq35uagTAs0D4yi6iAsCgEZYiOtAGwLCdGz0okaa/c+TKTa9x/z+bV0spUF7+vzoJHiDuyg3AS0OPiO721j+JiAJqlp79vzEVnGcj09Y/QQ3qzpw7/T9Z1IjiKqn2v/VkBO1gy+a/mPfb39NK679St+dnR8jxv5YMR64N+P4/Jo0viDa//L9xJy5woXkIQGQAMN0NiOy/20QienfjBMB46vi454bJv64ywpB4Avq/6iZcPKFB7T9ngAT9F4UEQE6gltvPRuy/pi3t/0Uk1T+E0sHnMO8LQPBst3cOJ98/yGwB9R9PAUDGVWfQGAXrPwQ85wNY8rs/vNEokj4X9D8=",
          "dtype": "f8"
         },
         "yaxis": "y"
        }
       ],
       "layout": {
        "legend": {
         "title": {
          "text": "tipoCultivo"
         },
         "tracegroupgap": 0
        },
        "template": {
         "data": {
          "bar": [
           {
            "error_x": {
             "color": "#2a3f5f"
            },
            "error_y": {
             "color": "#2a3f5f"
            },
            "marker": {
             "line": {
              "color": "#E5ECF6",
              "width": 0.5
             },
             "pattern": {
              "fillmode": "overlay",
              "size": 10,
              "solidity": 0.2
             }
            },
            "type": "bar"
           }
          ],
          "barpolar": [
           {
            "marker": {
             "line": {
              "color": "#E5ECF6",
              "width": 0.5
             },
             "pattern": {
              "fillmode": "overlay",
              "size": 10,
              "solidity": 0.2
             }
            },
            "type": "barpolar"
           }
          ],
          "carpet": [
           {
            "aaxis": {
             "endlinecolor": "#2a3f5f",
             "gridcolor": "white",
             "linecolor": "white",
             "minorgridcolor": "white",
             "startlinecolor": "#2a3f5f"
            },
            "baxis": {
             "endlinecolor": "#2a3f5f",
             "gridcolor": "white",
             "linecolor": "white",
             "minorgridcolor": "white",
             "startlinecolor": "#2a3f5f"
            },
            "type": "carpet"
           }
          ],
          "choropleth": [
           {
            "colorbar": {
             "outlinewidth": 0,
             "ticks": ""
            },
            "type": "choropleth"
           }
          ],
          "contour": [
           {
            "colorbar": {
             "outlinewidth": 0,
             "ticks": ""
            },
            "colorscale": [
             [
              0,
              "#0d0887"
             ],
             [
              0.1111111111111111,
              "#46039f"
             ],
             [
              0.2222222222222222,
              "#7201a8"
             ],
             [
              0.3333333333333333,
              "#9c179e"
             ],
             [
              0.4444444444444444,
              "#bd3786"
             ],
             [
              0.5555555555555556,
              "#d8576b"
             ],
             [
              0.6666666666666666,
              "#ed7953"
             ],
             [
              0.7777777777777778,
              "#fb9f3a"
             ],
             [
              0.8888888888888888,
              "#fdca26"
             ],
             [
              1,
              "#f0f921"
             ]
            ],
            "type": "contour"
           }
          ],
          "contourcarpet": [
           {
            "colorbar": {
             "outlinewidth": 0,
             "ticks": ""
            },
            "type": "contourcarpet"
           }
          ],
          "heatmap": [
           {
            "colorbar": {
             "outlinewidth": 0,
             "ticks": ""
            },
            "colorscale": [
             [
              0,
              "#0d0887"
             ],
             [
              0.1111111111111111,
              "#46039f"
             ],
             [
              0.2222222222222222,
              "#7201a8"
             ],
             [
              0.3333333333333333,
              "#9c179e"
             ],
             [
              0.4444444444444444,
              "#bd3786"
             ],
             [
              0.5555555555555556,
              "#d8576b"
             ],
             [
              0.6666666666666666,
              "#ed7953"
             ],
             [
              0.7777777777777778,
              "#fb9f3a"
             ],
             [
              0.8888888888888888,
              "#fdca26"
             ],
             [
              1,
              "#f0f921"
             ]
            ],
            "type": "heatmap"
           }
          ],
          "histogram": [
           {
            "marker": {
             "pattern": {
              "fillmode": "overlay",
              "size": 10,
              "solidity": 0.2
             }
            },
            "type": "histogram"
           }
          ],
          "histogram2d": [
           {
            "colorbar": {
             "outlinewidth": 0,
             "ticks": ""
            },
            "colorscale": [
             [
              0,
              "#0d0887"
             ],
             [
              0.1111111111111111,
              "#46039f"
             ],
             [
              0.2222222222222222,
              "#7201a8"
             ],
             [
              0.3333333333333333,
              "#9c179e"
             ],
             [
              0.4444444444444444,
              "#bd3786"
             ],
             [
              0.5555555555555556,
              "#d8576b"
             ],
             [
              0.6666666666666666,
              "#ed7953"
             ],
             [
              0.7777777777777778,
              "#fb9f3a"
             ],
             [
              0.8888888888888888,
              "#fdca26"
             ],
             [
              1,
              "#f0f921"
             ]
            ],
            "type": "histogram2d"
           }
          ],
          "histogram2dcontour": [
           {
            "colorbar": {
             "outlinewidth": 0,
             "ticks": ""
            },
            "colorscale": [
             [
              0,
              "#0d0887"
             ],
             [
              0.1111111111111111,
              "#46039f"
             ],
             [
              0.2222222222222222,
              "#7201a8"
             ],
             [
              0.3333333333333333,
              "#9c179e"
             ],
             [
              0.4444444444444444,
              "#bd3786"
             ],
             [
              0.5555555555555556,
              "#d8576b"
             ],
             [
              0.6666666666666666,
              "#ed7953"
             ],
             [
              0.7777777777777778,
              "#fb9f3a"
             ],
             [
              0.8888888888888888,
              "#fdca26"
             ],
             [
              1,
              "#f0f921"
             ]
            ],
            "type": "histogram2dcontour"
           }
          ],
          "mesh3d": [
           {
            "colorbar": {
             "outlinewidth": 0,
             "ticks": ""
            },
            "type": "mesh3d"
           }
          ],
          "parcoords": [
           {
            "line": {
             "colorbar": {
              "outlinewidth": 0,
              "ticks": ""
             }
            },
            "type": "parcoords"
           }
          ],
          "pie": [
           {
            "automargin": true,
            "type": "pie"
           }
          ],
          "scatter": [
           {
            "fillpattern": {
             "fillmode": "overlay",
             "size": 10,
             "solidity": 0.2
            },
            "type": "scatter"
           }
          ],
          "scatter3d": [
           {
            "line": {
             "colorbar": {
              "outlinewidth": 0,
              "ticks": ""
             }
            },
            "marker": {
             "colorbar": {
              "outlinewidth": 0,
              "ticks": ""
             }
            },
            "type": "scatter3d"
           }
          ],
          "scattercarpet": [
           {
            "marker": {
             "colorbar": {
              "outlinewidth": 0,
              "ticks": ""
             }
            },
            "type": "scattercarpet"
           }
          ],
          "scattergeo": [
           {
            "marker": {
             "colorbar": {
              "outlinewidth": 0,
              "ticks": ""
             }
            },
            "type": "scattergeo"
           }
          ],
          "scattergl": [
           {
            "marker": {
             "colorbar": {
              "outlinewidth": 0,
              "ticks": ""
             }
            },
            "type": "scattergl"
           }
          ],
          "scattermap": [
           {
            "marker": {
             "colorbar": {
              "outlinewidth": 0,
              "ticks": ""
             }
            },
            "type": "scattermap"
           }
          ],
          "scattermapbox": [
           {
            "marker": {
             "colorbar": {
              "outlinewidth": 0,
              "ticks": ""
             }
            },
            "type": "scattermapbox"
           }
          ],
          "scatterpolar": [
           {
            "marker": {
             "colorbar": {
              "outlinewidth": 0,
              "ticks": ""
             }
            },
            "type": "scatterpolar"
           }
          ],
          "scatterpolargl": [
           {
            "marker": {
             "colorbar": {
              "outlinewidth": 0,
              "ticks": ""
             }
            },
            "type": "scatterpolargl"
           }
          ],
          "scatterternary": [
           {
            "marker": {
             "colorbar": {
              "outlinewidth": 0,
              "ticks": ""
             }
            },
            "type": "scatterternary"
           }
          ],
          "surface": [
           {
            "colorbar": {
             "outlinewidth": 0,
             "ticks": ""
            },
            "colorscale": [
             [
              0,
              "#0d0887"
             ],
             [
              0.1111111111111111,
              "#46039f"
             ],
             [
              0.2222222222222222,
              "#7201a8"
             ],
             [
              0.3333333333333333,
              "#9c179e"
             ],
             [
              0.4444444444444444,
              "#bd3786"
             ],
             [
              0.5555555555555556,
              "#d8576b"
             ],
             [
              0.6666666666666666,
              "#ed7953"
             ],
             [
              0.7777777777777778,
              "#fb9f3a"
             ],
             [
              0.8888888888888888,
              "#fdca26"
             ],
             [
              1,
              "#f0f921"
             ]
            ],
            "type": "surface"
           }
          ],
          "table": [
           {
            "cells": {
             "fill": {
              "color": "#EBF0F8"
             },
             "line": {
              "color": "white"
             }
            },
            "header": {
             "fill": {
              "color": "#C8D4E3"
             },
             "line": {
              "color": "white"
             }
            },
            "type": "table"
           }
          ]
         },
         "layout": {
          "annotationdefaults": {
           "arrowcolor": "#2a3f5f",
           "arrowhead": 0,
           "arrowwidth": 1
          },
          "autotypenumbers": "strict",
          "coloraxis": {
           "colorbar": {
            "outlinewidth": 0,
            "ticks": ""
           }
          },
          "colorscale": {
           "diverging": [
            [
             0,
             "#8e0152"
            ],
            [
             0.1,
             "#c51b7d"
            ],
            [
             0.2,
             "#de77ae"
            ],
            [
             0.3,
             "#f1b6da"
            ],
            [
             0.4,
             "#fde0ef"
            ],
            [
             0.5,
             "#f7f7f7"
            ],
            [
             0.6,
             "#e6f5d0"
            ],
            [
             0.7,
             "#b8e186"
            ],
            [
             0.8,
             "#7fbc41"
            ],
            [
             0.9,
             "#4d9221"
            ],
            [
             1,
             "#276419"
            ]
           ],
           "sequential": [
            [
             0,
             "#0d0887"
            ],
            [
             0.1111111111111111,
             "#46039f"
            ],
            [
             0.2222222222222222,
             "#7201a8"
            ],
            [
             0.3333333333333333,
             "#9c179e"
            ],
            [
             0.4444444444444444,
             "#bd3786"
            ],
            [
             0.5555555555555556,
             "#d8576b"
            ],
            [
             0.6666666666666666,
             "#ed7953"
            ],
            [
             0.7777777777777778,
             "#fb9f3a"
            ],
            [
             0.8888888888888888,
             "#fdca26"
            ],
            [
             1,
             "#f0f921"
            ]
           ],
           "sequentialminus": [
            [
             0,
             "#0d0887"
            ],
            [
             0.1111111111111111,
             "#46039f"
            ],
            [
             0.2222222222222222,
             "#7201a8"
            ],
            [
             0.3333333333333333,
             "#9c179e"
            ],
            [
             0.4444444444444444,
             "#bd3786"
            ],
            [
             0.5555555555555556,
             "#d8576b"
            ],
            [
             0.6666666666666666,
             "#ed7953"
            ],
            [
             0.7777777777777778,
             "#fb9f3a"
            ],
            [
             0.8888888888888888,
             "#fdca26"
            ],
            [
             1,
             "#f0f921"
            ]
           ]
          },
          "colorway": [
           "#636efa",
           "#EF553B",
           "#00cc96",
           "#ab63fa",
           "#FFA15A",
           "#19d3f3",
           "#FF6692",
           "#B6E880",
           "#FF97FF",
           "#FECB52"
          ],
          "font": {
           "color": "#2a3f5f"
          },
          "geo": {
           "bgcolor": "white",
           "lakecolor": "white",
           "landcolor": "#E5ECF6",
           "showlakes": true,
           "showland": true,
           "subunitcolor": "white"
          },
          "hoverlabel": {
           "align": "left"
          },
          "hovermode": "closest",
          "mapbox": {
           "style": "light"
          },
          "paper_bgcolor": "white",
          "plot_bgcolor": "#E5ECF6",
          "polar": {
           "angularaxis": {
            "gridcolor": "white",
            "linecolor": "white",
            "ticks": ""
           },
           "bgcolor": "#E5ECF6",
           "radialaxis": {
            "gridcolor": "white",
            "linecolor": "white",
            "ticks": ""
           }
          },
          "scene": {
           "xaxis": {
            "backgroundcolor": "#E5ECF6",
            "gridcolor": "white",
            "gridwidth": 2,
            "linecolor": "white",
            "showbackground": true,
            "ticks": "",
            "zerolinecolor": "white"
           },
           "yaxis": {
            "backgroundcolor": "#E5ECF6",
            "gridcolor": "white",
            "gridwidth": 2,
            "linecolor": "white",
            "showbackground": true,
            "ticks": "",
            "zerolinecolor": "white"
           },
           "zaxis": {
            "backgroundcolor": "#E5ECF6",
            "gridcolor": "white",
            "gridwidth": 2,
            "linecolor": "white",
            "showbackground": true,
            "ticks": "",
            "zerolinecolor": "white"
           }
          },
          "shapedefaults": {
           "line": {
            "color": "#2a3f5f"
           }
          },
          "ternary": {
           "aaxis": {
            "gridcolor": "white",
            "linecolor": "white",
            "ticks": ""
           },
           "baxis": {
            "gridcolor": "white",
            "linecolor": "white",
            "ticks": ""
           },
           "bgcolor": "#E5ECF6",
           "caxis": {
            "gridcolor": "white",
            "linecolor": "white",
            "ticks": ""
           }
          },
          "title": {
           "x": 0.05
          },
          "xaxis": {
           "automargin": true,
           "gridcolor": "white",
           "linecolor": "white",
           "ticks": "",
           "title": {
            "standoff": 15
           },
           "zerolinecolor": "white",
           "zerolinewidth": 2
          },
          "yaxis": {
           "automargin": true,
           "gridcolor": "white",
           "linecolor": "white",
           "ticks": "",
           "title": {
            "standoff": 15
           },
           "zerolinecolor": "white",
           "zerolinewidth": 2
          }
         }
        },
        "title": {
         "text": "ISOMAP con 100 vecinos y 3 componentes (mostrando PC1 y PC2)"
        },
        "xaxis": {
         "anchor": "y",
         "domain": [
          0,
          1
         ],
         "title": {
          "text": "PC1"
         }
        },
        "yaxis": {
         "anchor": "x",
         "domain": [
          0,
          1
         ],
         "title": {
          "text": "PC2"
         }
        }
       }
      }
     },
     "metadata": {},
     "output_type": "display_data"
    },
    {
     "data": {
      "application/vnd.plotly.v1+json": {
       "config": {
        "plotlyServerURL": "https://plot.ly"
       },
       "data": [
        {
         "hovertemplate": "tipoCultivo=Trigo<br>PC1=%{x}<br>PC2=%{y}<extra></extra>",
         "legendgroup": "Trigo",
         "marker": {
          "color": "#636efa",
          "symbol": "circle"
         },
         "mode": "markers",
         "name": "Trigo",
         "orientation": "v",
         "showlegend": true,
         "type": "scatter",
         "x": {
          "bdata": "UiM+UFjuwD8rJWiPXHcDwKNzuiMJZa4/T407+PlV+D93dbVX6dHlv4zjNMLg7OC/4XTC9x4m/D9ja8cylQIEQH4+6VD5MgnA85vGB5upCECxSrkmj7oMwHMdh2i27OS/8U0M2l5f4j+iFFJHx4jov0RT2givYd+/LTDEznlZ5T/0/Xckm8wCwKOL9maLyNy/XqDiRSv17D+7DMkowcnKP9is/LFzoQVA/sZVeCUt3r8lCBnpDq7+v7N64gilG+i/9FFkosLP/D+aYfs1/ckKwC37mReJq/e/ZIzjxJ4ewb+yaAtVpqjUvyLCuMTiauI/Cz59ArcO+79u8aabx8/hvwehyQPv7/o/tSGAhXoX4T+XspgnFqMHwOoRgzmp5u+/SGyQfyK4AUBTpZZlw98BwBRhZs4G0PS/ytqaY39k8z9x4CArQXUAwG4fmLVv3uO/pqL5TCU70D/Hrgf5odXhv8YSmqkfSeU/3df80FRq6T/38yP0Z7sJwFt605CAUe6/",
          "dtype": "f8"
         },
         "xaxis": "x",
         "y": {
          "bdata": "cLP4NZg0479k6k70jiwKwOM8AqYtVw/AbGuARIE9B8ClWecDzDvvP4Y8hDyZ/eo/zrJECe8n/79f61wIYwHjP+WuUSskhfc/j8A2kaaa97+qag5xQTLjPwbJTjwePfS/t/g9AcQKrz95seyE/J4RQIn96Vz4w+U/V/eiORZv6T+UCXxoLqD6P9N4A5WITaK/NjUzbRFqCsDR0+yO7EENQIqUvj2T4wtAJe1aSlgp/j9gzKSi0434Px8LNdfrN/i/qqfNclFv4L8DB0tG3nX5v5AdxWx9Lu6/XzmBVVdiAcBT9dGWVuz4P4lIs76XAfU/B4q+ysR9/b85l0tdjZSOv7A9zHqBOwJAW3qkHWPG4z/o1NJx0scHwKicuNANXfS/bwyZL45E/j+uG5ELuXgEQE0pLxIlAgFAJKDk6kISC8C+w25JOW7jPy/91+mRJuO/XBu2TCuA9L9sMJXaY6kRwNs+r3nqOue/oNRXxGgN4D/eYMtRNyLOP6FAJuSnQwLA",
          "dtype": "f8"
         },
         "yaxis": "y"
        },
        {
         "hovertemplate": "tipoCultivo=Maiz<br>PC1=%{x}<br>PC2=%{y}<extra></extra>",
         "legendgroup": "Maiz",
         "marker": {
          "color": "#EF553B",
          "symbol": "circle"
         },
         "mode": "markers",
         "name": "Maiz",
         "orientation": "v",
         "showlegend": true,
         "type": "scatter",
         "x": {
          "bdata": "yUf0pN0W8D+Cpgufyijov1rmzeDjSgzARCl5gnbq3T8jccAsaUD0v1ncfEO5fOu/lxvnOyKS0b/A6r5vjdvTv8GM6ij/xOE/xcrY8XW3EkAaDJMfU8L4P+9oeVecJe0/jjMHZDQDEkDUqVf12k8GQOUJJtpGxhHAVpAmdqxwBEDW9BLOQyrdP9yYYPgQc+o/ujAaZFg0978UykyWxbQMQCMW1m/+b/A/MzDA+FmT9z9TBE+ypn8KwMo58sCpggBAvRhSE0mR6z8brvYtbb73P31RjJwllgJAH0pqR8nKnT8Q9Olj/oOrv5Otfa6kKuO/lHw02DaY/7+llc/tuhsJwPPgzHUQQwpAtolFThud878/HAMI65+0vw/PmAWSruy/y4AsfeaABkDGdo0+l5EGQMlFbWz7EdQ/EqAnVsBlAcA7s3PFkbQCQCnusNbP9AFAd1MUFvD41L+zx0eTVhcBwKkTn6rs0u0/6D1TLvDoAEDQKpaBZOXxP+klWwH2DAdAutzgcZARA8DvsdPfXIi3vzEb49W+PNc/JwVnQvUhBkAQNf53Vj4GwBE0YuzFW6Q/",
          "dtype": "f8"
         },
         "xaxis": "x",
         "y": {
          "bdata": "HqgiAoPl8j8EyuTOu0fpvwNArZPKDdA/Ktqii68K0D9vJkiv+KkDQM5/K0eB9wXAeQDxvUGYAcDH5Psjl1cJwHiEe+djj7q/RCGObWUs5b+S9iTdmnwIwOLVj555/PY/Nv+f/ZgStD8L5kdSAsjwv+gd/QW8+8+/E5YZQGn257898bWCURf/P9/kc363Kf8/QLrF3XsMDkCbwy3ewZvCP4nT8k6hrN0/cF9jrXhX+r8dvVbP6sz4v7MfKJvd5Q7Ajm+W6ClXEEAzi1FKeHcKQJPuqcOGLtq/focvYRVe9793fMgNfBXgv+PogtRfVfo/E28bR7+BA8AF4/kAeEDyv+AaZJk9RPi/dg6IZc5Y5D/cjOvhEUzKP31NHlY9TgBAMduHZbBgBsDKnPwLOLvoP2pAFETkgwJAF4Z2GfbWB0DhhS5ElgsFwL4m4Ryrgv+/OCzFiztF1b+j0U8zS4AEQAJGQyEHdwFABjyLuLil/z+xZ1M9tjTGPyo4SfXKJfS/W1PeDndx3r+bdz8RJp+yv8vl52n7BOS/p2bhi5RVAEAAY47hCyIAwPYLsKxYl+I/",
          "dtype": "f8"
         },
         "yaxis": "y"
        },
        {
         "hovertemplate": "tipoCultivo=Soja<br>PC1=%{x}<br>PC2=%{y}<extra></extra>",
         "legendgroup": "Soja",
         "marker": {
          "color": "#00cc96",
          "symbol": "circle"
         },
         "mode": "markers",
         "name": "Soja",
         "orientation": "v",
         "showlegend": true,
         "type": "scatter",
         "x": {
          "bdata": "lazV+5BZ5T93AiSBmB4EQKljXNlfu/g/OMPUu2TkCcB1sida94HLv9Ng0PmHMuc/8zCV3rCtz78m4lR2nYbqv7NR9tjLXdo/DKbldVL19D+Fe4iL4jfivxhqEPXlUdE/OwQ0MOflFEBAC4NQ6x7uv/9LvFwx4OE/DfG/EW/cxr+eVXvlA7UQQBQt01u9gRLAFtvyeYOQ0T92MRd8NzgKwDcIBtF51fq/E+lcLdUS2z8wyYjWcXpcP28tNdJEh+8/ffQscO29/T88bYcNW8ULQPEYkH/4BOq/NzxpFUnC/D+1umyVunnEP0MfX+uDOgPAu2C7djdv1T97cwhRs4TtvyNYThHKow9Afar5jLEmqL+6UEzd00L0v74716k+De4/n559hZq/CUBbY89m7DUCwLjtJeQdT+s/3684drseDEDw0raHyfznP7yNlsPY+tG/LoA/D5/1A8C7N5iYZfD8vy7/tyr8l+4/d5/clFUB9r/LPacKo2T/PxGNdpDXtf8/gNP+HerKnz+WEdoKO9TdP9YFJhaTxBDAX/iLv+9ABcCcZc33Xw0BwIaNMmA+38W/I/5ZUZleEMBtLWfA4/78P7qoZCCGnhDAKn0sYUHJ8b8M1n20TiwBwDQZLWnatvU/lD0dZfOlEsA=",
          "dtype": "f8"
         },
         "xaxis": "x",
         "y": {
          "bdata": "FMINudvH+z9+6mmaVwsBwAt6lHhogPK/UBdVPh6J9T9k1GV6ST4TQFnkrwWYHABAR9d5LE0e/z+KTNdK9i7xP8gvBpOyFQ1ABq++wdAq3b+0Dx7QBmb1v6lm9PBOdNE/P1x0xJEo978xOP7C4bwEwPSEw3uJGg5AFsx7Ea96AsBdk9iCYbDWv9QX7I7ROgBAR0Fm/K/My798xEMnIzoIwH5hudY7Bf4///zk/408CkBe14aOKW/iv2tE6UD89PO/BvFdbLOuEEDgeD9rL/6nPxUyS50E6M0/lWjst0FJ8D9cQnvN6ekFwNwvq35uagTAs0D4yi6iAsCgEZYiOtAGwLCdGz0okaa/c+TKTa9x/z+bV0spUF7+vzoJHiDuyg3AS0OPiO721j+JiAJqlp79vzEVnGcj09Y/QQ3qzpw7/T9Z1IjiKqn2v/VkBO1gy+a/mPfb39NK679St+dnR8jxv5YMR64N+P4/Jo0viDa//L9xJy5woXkIQGQAMN0NiOy/20QienfjBMB46vi454bJv64ywpB4Avq/6iZcPKFB7T9ngAT9F4UEQE6gltvPRuy/pi3t/0Uk1T+E0sHnMO8LQPBst3cOJ98/yGwB9R9PAUDGVWfQGAXrPwQ85wNY8rs/vNEokj4X9D8=",
          "dtype": "f8"
         },
         "yaxis": "y"
        }
       ],
       "layout": {
        "legend": {
         "title": {
          "text": "tipoCultivo"
         },
         "tracegroupgap": 0
        },
        "template": {
         "data": {
          "bar": [
           {
            "error_x": {
             "color": "#2a3f5f"
            },
            "error_y": {
             "color": "#2a3f5f"
            },
            "marker": {
             "line": {
              "color": "#E5ECF6",
              "width": 0.5
             },
             "pattern": {
              "fillmode": "overlay",
              "size": 10,
              "solidity": 0.2
             }
            },
            "type": "bar"
           }
          ],
          "barpolar": [
           {
            "marker": {
             "line": {
              "color": "#E5ECF6",
              "width": 0.5
             },
             "pattern": {
              "fillmode": "overlay",
              "size": 10,
              "solidity": 0.2
             }
            },
            "type": "barpolar"
           }
          ],
          "carpet": [
           {
            "aaxis": {
             "endlinecolor": "#2a3f5f",
             "gridcolor": "white",
             "linecolor": "white",
             "minorgridcolor": "white",
             "startlinecolor": "#2a3f5f"
            },
            "baxis": {
             "endlinecolor": "#2a3f5f",
             "gridcolor": "white",
             "linecolor": "white",
             "minorgridcolor": "white",
             "startlinecolor": "#2a3f5f"
            },
            "type": "carpet"
           }
          ],
          "choropleth": [
           {
            "colorbar": {
             "outlinewidth": 0,
             "ticks": ""
            },
            "type": "choropleth"
           }
          ],
          "contour": [
           {
            "colorbar": {
             "outlinewidth": 0,
             "ticks": ""
            },
            "colorscale": [
             [
              0,
              "#0d0887"
             ],
             [
              0.1111111111111111,
              "#46039f"
             ],
             [
              0.2222222222222222,
              "#7201a8"
             ],
             [
              0.3333333333333333,
              "#9c179e"
             ],
             [
              0.4444444444444444,
              "#bd3786"
             ],
             [
              0.5555555555555556,
              "#d8576b"
             ],
             [
              0.6666666666666666,
              "#ed7953"
             ],
             [
              0.7777777777777778,
              "#fb9f3a"
             ],
             [
              0.8888888888888888,
              "#fdca26"
             ],
             [
              1,
              "#f0f921"
             ]
            ],
            "type": "contour"
           }
          ],
          "contourcarpet": [
           {
            "colorbar": {
             "outlinewidth": 0,
             "ticks": ""
            },
            "type": "contourcarpet"
           }
          ],
          "heatmap": [
           {
            "colorbar": {
             "outlinewidth": 0,
             "ticks": ""
            },
            "colorscale": [
             [
              0,
              "#0d0887"
             ],
             [
              0.1111111111111111,
              "#46039f"
             ],
             [
              0.2222222222222222,
              "#7201a8"
             ],
             [
              0.3333333333333333,
              "#9c179e"
             ],
             [
              0.4444444444444444,
              "#bd3786"
             ],
             [
              0.5555555555555556,
              "#d8576b"
             ],
             [
              0.6666666666666666,
              "#ed7953"
             ],
             [
              0.7777777777777778,
              "#fb9f3a"
             ],
             [
              0.8888888888888888,
              "#fdca26"
             ],
             [
              1,
              "#f0f921"
             ]
            ],
            "type": "heatmap"
           }
          ],
          "histogram": [
           {
            "marker": {
             "pattern": {
              "fillmode": "overlay",
              "size": 10,
              "solidity": 0.2
             }
            },
            "type": "histogram"
           }
          ],
          "histogram2d": [
           {
            "colorbar": {
             "outlinewidth": 0,
             "ticks": ""
            },
            "colorscale": [
             [
              0,
              "#0d0887"
             ],
             [
              0.1111111111111111,
              "#46039f"
             ],
             [
              0.2222222222222222,
              "#7201a8"
             ],
             [
              0.3333333333333333,
              "#9c179e"
             ],
             [
              0.4444444444444444,
              "#bd3786"
             ],
             [
              0.5555555555555556,
              "#d8576b"
             ],
             [
              0.6666666666666666,
              "#ed7953"
             ],
             [
              0.7777777777777778,
              "#fb9f3a"
             ],
             [
              0.8888888888888888,
              "#fdca26"
             ],
             [
              1,
              "#f0f921"
             ]
            ],
            "type": "histogram2d"
           }
          ],
          "histogram2dcontour": [
           {
            "colorbar": {
             "outlinewidth": 0,
             "ticks": ""
            },
            "colorscale": [
             [
              0,
              "#0d0887"
             ],
             [
              0.1111111111111111,
              "#46039f"
             ],
             [
              0.2222222222222222,
              "#7201a8"
             ],
             [
              0.3333333333333333,
              "#9c179e"
             ],
             [
              0.4444444444444444,
              "#bd3786"
             ],
             [
              0.5555555555555556,
              "#d8576b"
             ],
             [
              0.6666666666666666,
              "#ed7953"
             ],
             [
              0.7777777777777778,
              "#fb9f3a"
             ],
             [
              0.8888888888888888,
              "#fdca26"
             ],
             [
              1,
              "#f0f921"
             ]
            ],
            "type": "histogram2dcontour"
           }
          ],
          "mesh3d": [
           {
            "colorbar": {
             "outlinewidth": 0,
             "ticks": ""
            },
            "type": "mesh3d"
           }
          ],
          "parcoords": [
           {
            "line": {
             "colorbar": {
              "outlinewidth": 0,
              "ticks": ""
             }
            },
            "type": "parcoords"
           }
          ],
          "pie": [
           {
            "automargin": true,
            "type": "pie"
           }
          ],
          "scatter": [
           {
            "fillpattern": {
             "fillmode": "overlay",
             "size": 10,
             "solidity": 0.2
            },
            "type": "scatter"
           }
          ],
          "scatter3d": [
           {
            "line": {
             "colorbar": {
              "outlinewidth": 0,
              "ticks": ""
             }
            },
            "marker": {
             "colorbar": {
              "outlinewidth": 0,
              "ticks": ""
             }
            },
            "type": "scatter3d"
           }
          ],
          "scattercarpet": [
           {
            "marker": {
             "colorbar": {
              "outlinewidth": 0,
              "ticks": ""
             }
            },
            "type": "scattercarpet"
           }
          ],
          "scattergeo": [
           {
            "marker": {
             "colorbar": {
              "outlinewidth": 0,
              "ticks": ""
             }
            },
            "type": "scattergeo"
           }
          ],
          "scattergl": [
           {
            "marker": {
             "colorbar": {
              "outlinewidth": 0,
              "ticks": ""
             }
            },
            "type": "scattergl"
           }
          ],
          "scattermap": [
           {
            "marker": {
             "colorbar": {
              "outlinewidth": 0,
              "ticks": ""
             }
            },
            "type": "scattermap"
           }
          ],
          "scattermapbox": [
           {
            "marker": {
             "colorbar": {
              "outlinewidth": 0,
              "ticks": ""
             }
            },
            "type": "scattermapbox"
           }
          ],
          "scatterpolar": [
           {
            "marker": {
             "colorbar": {
              "outlinewidth": 0,
              "ticks": ""
             }
            },
            "type": "scatterpolar"
           }
          ],
          "scatterpolargl": [
           {
            "marker": {
             "colorbar": {
              "outlinewidth": 0,
              "ticks": ""
             }
            },
            "type": "scatterpolargl"
           }
          ],
          "scatterternary": [
           {
            "marker": {
             "colorbar": {
              "outlinewidth": 0,
              "ticks": ""
             }
            },
            "type": "scatterternary"
           }
          ],
          "surface": [
           {
            "colorbar": {
             "outlinewidth": 0,
             "ticks": ""
            },
            "colorscale": [
             [
              0,
              "#0d0887"
             ],
             [
              0.1111111111111111,
              "#46039f"
             ],
             [
              0.2222222222222222,
              "#7201a8"
             ],
             [
              0.3333333333333333,
              "#9c179e"
             ],
             [
              0.4444444444444444,
              "#bd3786"
             ],
             [
              0.5555555555555556,
              "#d8576b"
             ],
             [
              0.6666666666666666,
              "#ed7953"
             ],
             [
              0.7777777777777778,
              "#fb9f3a"
             ],
             [
              0.8888888888888888,
              "#fdca26"
             ],
             [
              1,
              "#f0f921"
             ]
            ],
            "type": "surface"
           }
          ],
          "table": [
           {
            "cells": {
             "fill": {
              "color": "#EBF0F8"
             },
             "line": {
              "color": "white"
             }
            },
            "header": {
             "fill": {
              "color": "#C8D4E3"
             },
             "line": {
              "color": "white"
             }
            },
            "type": "table"
           }
          ]
         },
         "layout": {
          "annotationdefaults": {
           "arrowcolor": "#2a3f5f",
           "arrowhead": 0,
           "arrowwidth": 1
          },
          "autotypenumbers": "strict",
          "coloraxis": {
           "colorbar": {
            "outlinewidth": 0,
            "ticks": ""
           }
          },
          "colorscale": {
           "diverging": [
            [
             0,
             "#8e0152"
            ],
            [
             0.1,
             "#c51b7d"
            ],
            [
             0.2,
             "#de77ae"
            ],
            [
             0.3,
             "#f1b6da"
            ],
            [
             0.4,
             "#fde0ef"
            ],
            [
             0.5,
             "#f7f7f7"
            ],
            [
             0.6,
             "#e6f5d0"
            ],
            [
             0.7,
             "#b8e186"
            ],
            [
             0.8,
             "#7fbc41"
            ],
            [
             0.9,
             "#4d9221"
            ],
            [
             1,
             "#276419"
            ]
           ],
           "sequential": [
            [
             0,
             "#0d0887"
            ],
            [
             0.1111111111111111,
             "#46039f"
            ],
            [
             0.2222222222222222,
             "#7201a8"
            ],
            [
             0.3333333333333333,
             "#9c179e"
            ],
            [
             0.4444444444444444,
             "#bd3786"
            ],
            [
             0.5555555555555556,
             "#d8576b"
            ],
            [
             0.6666666666666666,
             "#ed7953"
            ],
            [
             0.7777777777777778,
             "#fb9f3a"
            ],
            [
             0.8888888888888888,
             "#fdca26"
            ],
            [
             1,
             "#f0f921"
            ]
           ],
           "sequentialminus": [
            [
             0,
             "#0d0887"
            ],
            [
             0.1111111111111111,
             "#46039f"
            ],
            [
             0.2222222222222222,
             "#7201a8"
            ],
            [
             0.3333333333333333,
             "#9c179e"
            ],
            [
             0.4444444444444444,
             "#bd3786"
            ],
            [
             0.5555555555555556,
             "#d8576b"
            ],
            [
             0.6666666666666666,
             "#ed7953"
            ],
            [
             0.7777777777777778,
             "#fb9f3a"
            ],
            [
             0.8888888888888888,
             "#fdca26"
            ],
            [
             1,
             "#f0f921"
            ]
           ]
          },
          "colorway": [
           "#636efa",
           "#EF553B",
           "#00cc96",
           "#ab63fa",
           "#FFA15A",
           "#19d3f3",
           "#FF6692",
           "#B6E880",
           "#FF97FF",
           "#FECB52"
          ],
          "font": {
           "color": "#2a3f5f"
          },
          "geo": {
           "bgcolor": "white",
           "lakecolor": "white",
           "landcolor": "#E5ECF6",
           "showlakes": true,
           "showland": true,
           "subunitcolor": "white"
          },
          "hoverlabel": {
           "align": "left"
          },
          "hovermode": "closest",
          "mapbox": {
           "style": "light"
          },
          "paper_bgcolor": "white",
          "plot_bgcolor": "#E5ECF6",
          "polar": {
           "angularaxis": {
            "gridcolor": "white",
            "linecolor": "white",
            "ticks": ""
           },
           "bgcolor": "#E5ECF6",
           "radialaxis": {
            "gridcolor": "white",
            "linecolor": "white",
            "ticks": ""
           }
          },
          "scene": {
           "xaxis": {
            "backgroundcolor": "#E5ECF6",
            "gridcolor": "white",
            "gridwidth": 2,
            "linecolor": "white",
            "showbackground": true,
            "ticks": "",
            "zerolinecolor": "white"
           },
           "yaxis": {
            "backgroundcolor": "#E5ECF6",
            "gridcolor": "white",
            "gridwidth": 2,
            "linecolor": "white",
            "showbackground": true,
            "ticks": "",
            "zerolinecolor": "white"
           },
           "zaxis": {
            "backgroundcolor": "#E5ECF6",
            "gridcolor": "white",
            "gridwidth": 2,
            "linecolor": "white",
            "showbackground": true,
            "ticks": "",
            "zerolinecolor": "white"
           }
          },
          "shapedefaults": {
           "line": {
            "color": "#2a3f5f"
           }
          },
          "ternary": {
           "aaxis": {
            "gridcolor": "white",
            "linecolor": "white",
            "ticks": ""
           },
           "baxis": {
            "gridcolor": "white",
            "linecolor": "white",
            "ticks": ""
           },
           "bgcolor": "#E5ECF6",
           "caxis": {
            "gridcolor": "white",
            "linecolor": "white",
            "ticks": ""
           }
          },
          "title": {
           "x": 0.05
          },
          "xaxis": {
           "automargin": true,
           "gridcolor": "white",
           "linecolor": "white",
           "ticks": "",
           "title": {
            "standoff": 15
           },
           "zerolinecolor": "white",
           "zerolinewidth": 2
          },
          "yaxis": {
           "automargin": true,
           "gridcolor": "white",
           "linecolor": "white",
           "ticks": "",
           "title": {
            "standoff": 15
           },
           "zerolinecolor": "white",
           "zerolinewidth": 2
          }
         }
        },
        "title": {
         "text": "ISOMAP con 100 vecinos y 5 componentes (mostrando PC1 y PC2)"
        },
        "xaxis": {
         "anchor": "y",
         "domain": [
          0,
          1
         ],
         "title": {
          "text": "PC1"
         }
        },
        "yaxis": {
         "anchor": "x",
         "domain": [
          0,
          1
         ],
         "title": {
          "text": "PC2"
         }
        }
       }
      }
     },
     "metadata": {},
     "output_type": "display_data"
    },
    {
     "data": {
      "application/vnd.plotly.v1+json": {
       "config": {
        "plotlyServerURL": "https://plot.ly"
       },
       "data": [
        {
         "hovertemplate": "tipoCultivo=Trigo<br>PC1=%{x}<br>PC2=%{y}<extra></extra>",
         "legendgroup": "Trigo",
         "marker": {
          "color": "#636efa",
          "symbol": "circle"
         },
         "mode": "markers",
         "name": "Trigo",
         "orientation": "v",
         "showlegend": true,
         "type": "scatter",
         "x": {
          "bdata": "UCM+UFjuwD8tJWiPXHcDwPxzuiMJZa4/UI07+PlV+D9wdbVX6dHlv4/jNMLg7OC/4HTC9x4m/D9ja8cylQIEQHw+6VD5MgnA8pvGB5upCECwSrkmj7oMwHUdh2i27OS/8E0M2l5f4j+cFFJHx4jov0BT2givYd+/LTDEznlZ5T/0/Xckm8wCwKeL9maLyNy/W6DiRSv17D+8DMkowcnKP9qs/LFzoQVAAsdVeCUt3r8iCBnpDq7+v7B64gilG+i/71FkosLP/D+aYfs1/ckKwC/7mReJq/e/eozjxJ4ewb+1aAtVpqjUvybCuMTiauI/CD59ArcO+79w8aabx8/hvwWhyQPv7/o/tiGAhXoX4T+VspgnFqMHwOwRgzmp5u+/SWyQfyK4AUBUpZZlw98BwBRhZs4G0PS/ydqaY39k8z9w4CArQXUAwG0fmLVv3uO/q6L5TCU70D/Frgf5odXhv8QSmqkfSeU/4df80FRq6T/18yP0Z7sJwFx605CAUe6/",
          "dtype": "f8"
         },
         "xaxis": "x",
         "y": {
          "bdata": "cLP4NZg0479k6k70jiwKwOM8AqYtVw/AbGuARIE9B8ClWecDzDvvP4Y8hDyZ/eo/zrJECe8n/79f61wIYwHjP+WuUSskhfc/j8A2kaaa97+qag5xQTLjPwbJTjwePfS/t/g9AcQKrz95seyE/J4RQIn96Vz4w+U/V/eiORZv6T+UCXxoLqD6P9N4A5WITaK/NjUzbRFqCsDR0+yO7EENQIqUvj2T4wtAJe1aSlgp/j9gzKSi0434Px8LNdfrN/i/qqfNclFv4L8DB0tG3nX5v5AdxWx9Lu6/XzmBVVdiAcBT9dGWVuz4P4lIs76XAfU/B4q+ysR9/b85l0tdjZSOv7A9zHqBOwJAW3qkHWPG4z/o1NJx0scHwKicuNANXfS/bwyZL45E/j+uG5ELuXgEQE0pLxIlAgFAJKDk6kISC8C+w25JOW7jPy/91+mRJuO/XBu2TCuA9L9sMJXaY6kRwNs+r3nqOue/oNRXxGgN4D/eYMtRNyLOP6FAJuSnQwLA",
          "dtype": "f8"
         },
         "yaxis": "y"
        },
        {
         "hovertemplate": "tipoCultivo=Maiz<br>PC1=%{x}<br>PC2=%{y}<extra></extra>",
         "legendgroup": "Maiz",
         "marker": {
          "color": "#EF553B",
          "symbol": "circle"
         },
         "mode": "markers",
         "name": "Maiz",
         "orientation": "v",
         "showlegend": true,
         "type": "scatter",
         "x": {
          "bdata": "xUf0pN0W8D+Jpgufyijov1vmzeDjSgzAOCl5gnbq3T8KccAsaUD0v1rcfEO5fOu/khvnOyKS0b/G6r5vjdvTv8KM6ij/xOE/w8rY8XW3EkAYDJMfU8L4P+5oeVecJe0/jTMHZDQDEkDSqVf12k8GQOUJJtpGxhHAVJAmdqxwBEDh9BLOQyrdP92YYPgQc+o/tzAaZFg0978TykyWxbQMQCIW1m/+b/A/NTDA+FmT9z9TBE+ypn8KwMo58sCpggBAwRhSE0mR6z8crvYtbb73P3pRjJwllgJAG0pqR8nKnT8W9Olj/oOrv5Ctfa6kKuO/knw02DaY/7+llc/tuhsJwPfgzHUQQwpAtIlFThud879THAMI65+0vwvPmAWSruy/yoAsfeaABkDEdo0+l5EGQL5FbWz7EdQ/EaAnVsBlAcA7s3PFkbQCQCbusNbP9AFAeFMUFvD41L+xx0eTVhcBwKoTn6rs0u0/5z1TLvDoAEDQKpaBZOXxP+glWwH2DAdAudzgcZARA8DvsdPfXIi3vycb49W+PNc/JgVnQvUhBkAQNf53Vj4GwF00YuzFW6Q/",
          "dtype": "f8"
         },
         "xaxis": "x",
         "y": {
          "bdata": "HqgiAoPl8j8EyuTOu0fpvwNArZPKDdA/Ktqii68K0D9vJkiv+KkDQM5/K0eB9wXAeQDxvUGYAcDH5Psjl1cJwHiEe+djj7q/RCGObWUs5b+S9iTdmnwIwOLVj555/PY/Nv+f/ZgStD8L5kdSAsjwv+gd/QW8+8+/E5YZQGn257898bWCURf/P9/kc363Kf8/QLrF3XsMDkCbwy3ewZvCP4nT8k6hrN0/cF9jrXhX+r8dvVbP6sz4v7MfKJvd5Q7Ajm+W6ClXEEAzi1FKeHcKQJPuqcOGLtq/focvYRVe9793fMgNfBXgv+PogtRfVfo/E28bR7+BA8AF4/kAeEDyv+AaZJk9RPi/dg6IZc5Y5D/cjOvhEUzKP31NHlY9TgBAMduHZbBgBsDKnPwLOLvoP2pAFETkgwJAF4Z2GfbWB0DhhS5ElgsFwL4m4Ryrgv+/OCzFiztF1b+j0U8zS4AEQAJGQyEHdwFABjyLuLil/z+xZ1M9tjTGPyo4SfXKJfS/W1PeDndx3r+bdz8RJp+yv8vl52n7BOS/p2bhi5RVAEAAY47hCyIAwPYLsKxYl+I/",
          "dtype": "f8"
         },
         "yaxis": "y"
        },
        {
         "hovertemplate": "tipoCultivo=Soja<br>PC1=%{x}<br>PC2=%{y}<extra></extra>",
         "legendgroup": "Soja",
         "marker": {
          "color": "#00cc96",
          "symbol": "circle"
         },
         "mode": "markers",
         "name": "Soja",
         "orientation": "v",
         "showlegend": true,
         "type": "scatter",
         "x": {
          "bdata": "mqzV+5BZ5T91AiSBmB4EQKdjXNlfu/g/OcPUu2TkCcB2sida94HLv9tg0PmHMuc/ATGV3rCtz78m4lR2nYbqv7dR9tjLXdo/B6bldVL19D+Ie4iL4jfivx9qEPXlUdE/OgQ0MOflFEBFC4NQ6x7uvwlMvFwx4OE/A/G/EW/cxr+eVXvlA7UQQBMt01u9gRLAFdvyeYOQ0T92MRd8NzgKwDIIBtF51fq/E+lcLdUS2z/4z4jWcXpcP2stNdJEh+8/fvQscO29/T89bYcNW8ULQPQYkH/4BOq/NDxpFUnC/D+uumyVunnEP0QfX+uDOgPAxWC7djdv1T+AcwhRs4Ttvx9YThHKow9AnKr5jLEmqL+5UEzd00L0v8Y716k+De4/m559hZq/CUBaY89m7DUCwLbtJeQdT+s/3684drseDEDv0raHyfznP7ONlsPY+tG/L4A/D5/1A8C6N5iYZfD8vzH/tyr8l+4/eZ/clFUB9r/KPacKo2T/Pw+NdpDXtf8/m9P+HerKnz+REdoKO9TdP9YFJhaTxBDAXviLv+9ABcCaZc33Xw0BwJeNMmA+38W/I/5ZUZleEMBtLWfA4/78P7qoZCCGnhDAKn0sYUHJ8b8M1n20TiwBwDIZLWnatvU/lD0dZfOlEsA=",
          "dtype": "f8"
         },
         "xaxis": "x",
         "y": {
          "bdata": "FMINudvH+z9+6mmaVwsBwAt6lHhogPK/UBdVPh6J9T9k1GV6ST4TQFnkrwWYHABAR9d5LE0e/z+KTNdK9i7xP8gvBpOyFQ1ABq++wdAq3b+0Dx7QBmb1v6lm9PBOdNE/P1x0xJEo978xOP7C4bwEwPSEw3uJGg5AFsx7Ea96AsBdk9iCYbDWv9QX7I7ROgBAR0Fm/K/My798xEMnIzoIwH5hudY7Bf4///zk/408CkBe14aOKW/iv2tE6UD89PO/BvFdbLOuEEDgeD9rL/6nPxUyS50E6M0/lWjst0FJ8D9cQnvN6ekFwNwvq35uagTAs0D4yi6iAsCgEZYiOtAGwLCdGz0okaa/c+TKTa9x/z+bV0spUF7+vzoJHiDuyg3AS0OPiO721j+JiAJqlp79vzEVnGcj09Y/QQ3qzpw7/T9Z1IjiKqn2v/VkBO1gy+a/mPfb39NK679St+dnR8jxv5YMR64N+P4/Jo0viDa//L9xJy5woXkIQGQAMN0NiOy/20QienfjBMB46vi454bJv64ywpB4Avq/6iZcPKFB7T9ngAT9F4UEQE6gltvPRuy/pi3t/0Uk1T+E0sHnMO8LQPBst3cOJ98/yGwB9R9PAUDGVWfQGAXrPwQ85wNY8rs/vNEokj4X9D8=",
          "dtype": "f8"
         },
         "yaxis": "y"
        }
       ],
       "layout": {
        "legend": {
         "title": {
          "text": "tipoCultivo"
         },
         "tracegroupgap": 0
        },
        "template": {
         "data": {
          "bar": [
           {
            "error_x": {
             "color": "#2a3f5f"
            },
            "error_y": {
             "color": "#2a3f5f"
            },
            "marker": {
             "line": {
              "color": "#E5ECF6",
              "width": 0.5
             },
             "pattern": {
              "fillmode": "overlay",
              "size": 10,
              "solidity": 0.2
             }
            },
            "type": "bar"
           }
          ],
          "barpolar": [
           {
            "marker": {
             "line": {
              "color": "#E5ECF6",
              "width": 0.5
             },
             "pattern": {
              "fillmode": "overlay",
              "size": 10,
              "solidity": 0.2
             }
            },
            "type": "barpolar"
           }
          ],
          "carpet": [
           {
            "aaxis": {
             "endlinecolor": "#2a3f5f",
             "gridcolor": "white",
             "linecolor": "white",
             "minorgridcolor": "white",
             "startlinecolor": "#2a3f5f"
            },
            "baxis": {
             "endlinecolor": "#2a3f5f",
             "gridcolor": "white",
             "linecolor": "white",
             "minorgridcolor": "white",
             "startlinecolor": "#2a3f5f"
            },
            "type": "carpet"
           }
          ],
          "choropleth": [
           {
            "colorbar": {
             "outlinewidth": 0,
             "ticks": ""
            },
            "type": "choropleth"
           }
          ],
          "contour": [
           {
            "colorbar": {
             "outlinewidth": 0,
             "ticks": ""
            },
            "colorscale": [
             [
              0,
              "#0d0887"
             ],
             [
              0.1111111111111111,
              "#46039f"
             ],
             [
              0.2222222222222222,
              "#7201a8"
             ],
             [
              0.3333333333333333,
              "#9c179e"
             ],
             [
              0.4444444444444444,
              "#bd3786"
             ],
             [
              0.5555555555555556,
              "#d8576b"
             ],
             [
              0.6666666666666666,
              "#ed7953"
             ],
             [
              0.7777777777777778,
              "#fb9f3a"
             ],
             [
              0.8888888888888888,
              "#fdca26"
             ],
             [
              1,
              "#f0f921"
             ]
            ],
            "type": "contour"
           }
          ],
          "contourcarpet": [
           {
            "colorbar": {
             "outlinewidth": 0,
             "ticks": ""
            },
            "type": "contourcarpet"
           }
          ],
          "heatmap": [
           {
            "colorbar": {
             "outlinewidth": 0,
             "ticks": ""
            },
            "colorscale": [
             [
              0,
              "#0d0887"
             ],
             [
              0.1111111111111111,
              "#46039f"
             ],
             [
              0.2222222222222222,
              "#7201a8"
             ],
             [
              0.3333333333333333,
              "#9c179e"
             ],
             [
              0.4444444444444444,
              "#bd3786"
             ],
             [
              0.5555555555555556,
              "#d8576b"
             ],
             [
              0.6666666666666666,
              "#ed7953"
             ],
             [
              0.7777777777777778,
              "#fb9f3a"
             ],
             [
              0.8888888888888888,
              "#fdca26"
             ],
             [
              1,
              "#f0f921"
             ]
            ],
            "type": "heatmap"
           }
          ],
          "histogram": [
           {
            "marker": {
             "pattern": {
              "fillmode": "overlay",
              "size": 10,
              "solidity": 0.2
             }
            },
            "type": "histogram"
           }
          ],
          "histogram2d": [
           {
            "colorbar": {
             "outlinewidth": 0,
             "ticks": ""
            },
            "colorscale": [
             [
              0,
              "#0d0887"
             ],
             [
              0.1111111111111111,
              "#46039f"
             ],
             [
              0.2222222222222222,
              "#7201a8"
             ],
             [
              0.3333333333333333,
              "#9c179e"
             ],
             [
              0.4444444444444444,
              "#bd3786"
             ],
             [
              0.5555555555555556,
              "#d8576b"
             ],
             [
              0.6666666666666666,
              "#ed7953"
             ],
             [
              0.7777777777777778,
              "#fb9f3a"
             ],
             [
              0.8888888888888888,
              "#fdca26"
             ],
             [
              1,
              "#f0f921"
             ]
            ],
            "type": "histogram2d"
           }
          ],
          "histogram2dcontour": [
           {
            "colorbar": {
             "outlinewidth": 0,
             "ticks": ""
            },
            "colorscale": [
             [
              0,
              "#0d0887"
             ],
             [
              0.1111111111111111,
              "#46039f"
             ],
             [
              0.2222222222222222,
              "#7201a8"
             ],
             [
              0.3333333333333333,
              "#9c179e"
             ],
             [
              0.4444444444444444,
              "#bd3786"
             ],
             [
              0.5555555555555556,
              "#d8576b"
             ],
             [
              0.6666666666666666,
              "#ed7953"
             ],
             [
              0.7777777777777778,
              "#fb9f3a"
             ],
             [
              0.8888888888888888,
              "#fdca26"
             ],
             [
              1,
              "#f0f921"
             ]
            ],
            "type": "histogram2dcontour"
           }
          ],
          "mesh3d": [
           {
            "colorbar": {
             "outlinewidth": 0,
             "ticks": ""
            },
            "type": "mesh3d"
           }
          ],
          "parcoords": [
           {
            "line": {
             "colorbar": {
              "outlinewidth": 0,
              "ticks": ""
             }
            },
            "type": "parcoords"
           }
          ],
          "pie": [
           {
            "automargin": true,
            "type": "pie"
           }
          ],
          "scatter": [
           {
            "fillpattern": {
             "fillmode": "overlay",
             "size": 10,
             "solidity": 0.2
            },
            "type": "scatter"
           }
          ],
          "scatter3d": [
           {
            "line": {
             "colorbar": {
              "outlinewidth": 0,
              "ticks": ""
             }
            },
            "marker": {
             "colorbar": {
              "outlinewidth": 0,
              "ticks": ""
             }
            },
            "type": "scatter3d"
           }
          ],
          "scattercarpet": [
           {
            "marker": {
             "colorbar": {
              "outlinewidth": 0,
              "ticks": ""
             }
            },
            "type": "scattercarpet"
           }
          ],
          "scattergeo": [
           {
            "marker": {
             "colorbar": {
              "outlinewidth": 0,
              "ticks": ""
             }
            },
            "type": "scattergeo"
           }
          ],
          "scattergl": [
           {
            "marker": {
             "colorbar": {
              "outlinewidth": 0,
              "ticks": ""
             }
            },
            "type": "scattergl"
           }
          ],
          "scattermap": [
           {
            "marker": {
             "colorbar": {
              "outlinewidth": 0,
              "ticks": ""
             }
            },
            "type": "scattermap"
           }
          ],
          "scattermapbox": [
           {
            "marker": {
             "colorbar": {
              "outlinewidth": 0,
              "ticks": ""
             }
            },
            "type": "scattermapbox"
           }
          ],
          "scatterpolar": [
           {
            "marker": {
             "colorbar": {
              "outlinewidth": 0,
              "ticks": ""
             }
            },
            "type": "scatterpolar"
           }
          ],
          "scatterpolargl": [
           {
            "marker": {
             "colorbar": {
              "outlinewidth": 0,
              "ticks": ""
             }
            },
            "type": "scatterpolargl"
           }
          ],
          "scatterternary": [
           {
            "marker": {
             "colorbar": {
              "outlinewidth": 0,
              "ticks": ""
             }
            },
            "type": "scatterternary"
           }
          ],
          "surface": [
           {
            "colorbar": {
             "outlinewidth": 0,
             "ticks": ""
            },
            "colorscale": [
             [
              0,
              "#0d0887"
             ],
             [
              0.1111111111111111,
              "#46039f"
             ],
             [
              0.2222222222222222,
              "#7201a8"
             ],
             [
              0.3333333333333333,
              "#9c179e"
             ],
             [
              0.4444444444444444,
              "#bd3786"
             ],
             [
              0.5555555555555556,
              "#d8576b"
             ],
             [
              0.6666666666666666,
              "#ed7953"
             ],
             [
              0.7777777777777778,
              "#fb9f3a"
             ],
             [
              0.8888888888888888,
              "#fdca26"
             ],
             [
              1,
              "#f0f921"
             ]
            ],
            "type": "surface"
           }
          ],
          "table": [
           {
            "cells": {
             "fill": {
              "color": "#EBF0F8"
             },
             "line": {
              "color": "white"
             }
            },
            "header": {
             "fill": {
              "color": "#C8D4E3"
             },
             "line": {
              "color": "white"
             }
            },
            "type": "table"
           }
          ]
         },
         "layout": {
          "annotationdefaults": {
           "arrowcolor": "#2a3f5f",
           "arrowhead": 0,
           "arrowwidth": 1
          },
          "autotypenumbers": "strict",
          "coloraxis": {
           "colorbar": {
            "outlinewidth": 0,
            "ticks": ""
           }
          },
          "colorscale": {
           "diverging": [
            [
             0,
             "#8e0152"
            ],
            [
             0.1,
             "#c51b7d"
            ],
            [
             0.2,
             "#de77ae"
            ],
            [
             0.3,
             "#f1b6da"
            ],
            [
             0.4,
             "#fde0ef"
            ],
            [
             0.5,
             "#f7f7f7"
            ],
            [
             0.6,
             "#e6f5d0"
            ],
            [
             0.7,
             "#b8e186"
            ],
            [
             0.8,
             "#7fbc41"
            ],
            [
             0.9,
             "#4d9221"
            ],
            [
             1,
             "#276419"
            ]
           ],
           "sequential": [
            [
             0,
             "#0d0887"
            ],
            [
             0.1111111111111111,
             "#46039f"
            ],
            [
             0.2222222222222222,
             "#7201a8"
            ],
            [
             0.3333333333333333,
             "#9c179e"
            ],
            [
             0.4444444444444444,
             "#bd3786"
            ],
            [
             0.5555555555555556,
             "#d8576b"
            ],
            [
             0.6666666666666666,
             "#ed7953"
            ],
            [
             0.7777777777777778,
             "#fb9f3a"
            ],
            [
             0.8888888888888888,
             "#fdca26"
            ],
            [
             1,
             "#f0f921"
            ]
           ],
           "sequentialminus": [
            [
             0,
             "#0d0887"
            ],
            [
             0.1111111111111111,
             "#46039f"
            ],
            [
             0.2222222222222222,
             "#7201a8"
            ],
            [
             0.3333333333333333,
             "#9c179e"
            ],
            [
             0.4444444444444444,
             "#bd3786"
            ],
            [
             0.5555555555555556,
             "#d8576b"
            ],
            [
             0.6666666666666666,
             "#ed7953"
            ],
            [
             0.7777777777777778,
             "#fb9f3a"
            ],
            [
             0.8888888888888888,
             "#fdca26"
            ],
            [
             1,
             "#f0f921"
            ]
           ]
          },
          "colorway": [
           "#636efa",
           "#EF553B",
           "#00cc96",
           "#ab63fa",
           "#FFA15A",
           "#19d3f3",
           "#FF6692",
           "#B6E880",
           "#FF97FF",
           "#FECB52"
          ],
          "font": {
           "color": "#2a3f5f"
          },
          "geo": {
           "bgcolor": "white",
           "lakecolor": "white",
           "landcolor": "#E5ECF6",
           "showlakes": true,
           "showland": true,
           "subunitcolor": "white"
          },
          "hoverlabel": {
           "align": "left"
          },
          "hovermode": "closest",
          "mapbox": {
           "style": "light"
          },
          "paper_bgcolor": "white",
          "plot_bgcolor": "#E5ECF6",
          "polar": {
           "angularaxis": {
            "gridcolor": "white",
            "linecolor": "white",
            "ticks": ""
           },
           "bgcolor": "#E5ECF6",
           "radialaxis": {
            "gridcolor": "white",
            "linecolor": "white",
            "ticks": ""
           }
          },
          "scene": {
           "xaxis": {
            "backgroundcolor": "#E5ECF6",
            "gridcolor": "white",
            "gridwidth": 2,
            "linecolor": "white",
            "showbackground": true,
            "ticks": "",
            "zerolinecolor": "white"
           },
           "yaxis": {
            "backgroundcolor": "#E5ECF6",
            "gridcolor": "white",
            "gridwidth": 2,
            "linecolor": "white",
            "showbackground": true,
            "ticks": "",
            "zerolinecolor": "white"
           },
           "zaxis": {
            "backgroundcolor": "#E5ECF6",
            "gridcolor": "white",
            "gridwidth": 2,
            "linecolor": "white",
            "showbackground": true,
            "ticks": "",
            "zerolinecolor": "white"
           }
          },
          "shapedefaults": {
           "line": {
            "color": "#2a3f5f"
           }
          },
          "ternary": {
           "aaxis": {
            "gridcolor": "white",
            "linecolor": "white",
            "ticks": ""
           },
           "baxis": {
            "gridcolor": "white",
            "linecolor": "white",
            "ticks": ""
           },
           "bgcolor": "#E5ECF6",
           "caxis": {
            "gridcolor": "white",
            "linecolor": "white",
            "ticks": ""
           }
          },
          "title": {
           "x": 0.05
          },
          "xaxis": {
           "automargin": true,
           "gridcolor": "white",
           "linecolor": "white",
           "ticks": "",
           "title": {
            "standoff": 15
           },
           "zerolinecolor": "white",
           "zerolinewidth": 2
          },
          "yaxis": {
           "automargin": true,
           "gridcolor": "white",
           "linecolor": "white",
           "ticks": "",
           "title": {
            "standoff": 15
           },
           "zerolinecolor": "white",
           "zerolinewidth": 2
          }
         }
        },
        "title": {
         "text": "ISOMAP con 100 vecinos y 10 componentes (mostrando PC1 y PC2)"
        },
        "xaxis": {
         "anchor": "y",
         "domain": [
          0,
          1
         ],
         "title": {
          "text": "PC1"
         }
        },
        "yaxis": {
         "anchor": "x",
         "domain": [
          0,
          1
         ],
         "title": {
          "text": "PC2"
         }
        }
       }
      }
     },
     "metadata": {},
     "output_type": "display_data"
    }
   ],
   "source": [
    "from sklearn.manifold import Isomap\n",
    "import pandas as pd\n",
    "import plotly.express as px\n",
    "\n",
    "#Definir combinaciones de vecinos y componentes\n",
    "vecinos_list = [5, 10, 30, 100]\n",
    "componentes_list = [2, 3, 5, 10]\n",
    "\n",
    "for n in vecinos_list:\n",
    "    for d in componentes_list:\n",
    "        isomap = Isomap(n_neighbors=n, n_components=d)\n",
    "        X_reduced = isomap.fit_transform(df_std)\n",
    "\n",
    "        # Siempre graficamos solo las dos primeras dimensiones\n",
    "        df_isomap = pd.DataFrame(X_reduced[:, :2], columns=['PC1', 'PC2'])\n",
    "        df_isomap['tipoCultivo'] = y\n",
    "\n",
    "        fig = px.scatter(\n",
    "            df_isomap, x='PC1', y='PC2', color=y,\n",
    "            labels={'color': 'tipoCultivo', 0: 'PC1', 1: 'PC2'},\n",
    "            title=f'ISOMAP con {n} vecinos y {d} componentes (mostrando PC1 y PC2)'\n",
    "        )\n",
    "        fig.show()"
   ]
  }
 ],
 "metadata": {
  "kernelspec": {
   "display_name": "Python 3",
   "language": "python",
   "name": "python3"
  },
  "language_info": {
   "codemirror_mode": {
    "name": "ipython",
    "version": 3
   },
   "file_extension": ".py",
   "mimetype": "text/x-python",
   "name": "python",
   "nbconvert_exporter": "python",
   "pygments_lexer": "ipython3",
   "version": "3.12.5"
  }
 },
 "nbformat": 4,
 "nbformat_minor": 5
}
